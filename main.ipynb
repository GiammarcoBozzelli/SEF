{
 "cells": [
  {
   "cell_type": "code",
   "execution_count": 7,
   "outputs": [],
   "source": [],
   "metadata": {
    "collapsed": false,
    "ExecuteTime": {
     "end_time": "2024-03-06T12:18:02.014864Z",
     "start_time": "2024-03-06T12:18:01.966722Z"
    }
   }
  },
  {
   "cell_type": "code",
   "execution_count": 8,
   "outputs": [
    {
     "name": "stdout",
     "output_type": "stream",
     "text": [
      "Requirement already satisfied: matplotlib in /Users/balthazarduc/anaconda3/lib/python3.11/site-packages (3.7.1)\r\n",
      "Requirement already satisfied: contourpy>=1.0.1 in /Users/balthazarduc/anaconda3/lib/python3.11/site-packages (from matplotlib) (1.0.5)\r\n",
      "Requirement already satisfied: cycler>=0.10 in /Users/balthazarduc/anaconda3/lib/python3.11/site-packages (from matplotlib) (0.11.0)\r\n",
      "Requirement already satisfied: fonttools>=4.22.0 in /Users/balthazarduc/anaconda3/lib/python3.11/site-packages (from matplotlib) (4.25.0)\r\n",
      "Requirement already satisfied: kiwisolver>=1.0.1 in /Users/balthazarduc/anaconda3/lib/python3.11/site-packages (from matplotlib) (1.4.4)\r\n",
      "Requirement already satisfied: numpy>=1.20 in /Users/balthazarduc/anaconda3/lib/python3.11/site-packages (from matplotlib) (1.24.3)\r\n",
      "Requirement already satisfied: packaging>=20.0 in /Users/balthazarduc/anaconda3/lib/python3.11/site-packages (from matplotlib) (23.0)\r\n",
      "Requirement already satisfied: pillow>=6.2.0 in /Users/balthazarduc/anaconda3/lib/python3.11/site-packages (from matplotlib) (9.4.0)\r\n",
      "Requirement already satisfied: pyparsing>=2.3.1 in /Users/balthazarduc/anaconda3/lib/python3.11/site-packages (from matplotlib) (3.0.9)\r\n",
      "Requirement already satisfied: python-dateutil>=2.7 in /Users/balthazarduc/anaconda3/lib/python3.11/site-packages (from matplotlib) (2.8.2)\r\n",
      "Requirement already satisfied: six>=1.5 in /Users/balthazarduc/anaconda3/lib/python3.11/site-packages (from python-dateutil>=2.7->matplotlib) (1.16.0)\r\n",
      "Note: you may need to restart the kernel to use updated packages.\n"
     ]
    }
   ],
   "source": [
    "%pip install matplotlib"
   ],
   "metadata": {
    "collapsed": false,
    "ExecuteTime": {
     "end_time": "2024-03-06T12:18:08.449520Z",
     "start_time": "2024-03-06T12:18:01.977320Z"
    }
   }
  },
  {
   "cell_type": "code",
   "execution_count": 15,
   "outputs": [
    {
     "name": "stdout",
     "output_type": "stream",
     "text": [
      "Requirement already satisfied: scikit-learn in /Users/balthazarduc/anaconda3/lib/python3.11/site-packages (1.3.0)\r\n",
      "Requirement already satisfied: numpy>=1.17.3 in /Users/balthazarduc/anaconda3/lib/python3.11/site-packages (from scikit-learn) (1.24.3)\r\n",
      "Requirement already satisfied: scipy>=1.5.0 in /Users/balthazarduc/anaconda3/lib/python3.11/site-packages (from scikit-learn) (1.10.1)\r\n",
      "Requirement already satisfied: joblib>=1.1.1 in /Users/balthazarduc/anaconda3/lib/python3.11/site-packages (from scikit-learn) (1.2.0)\r\n",
      "Requirement already satisfied: threadpoolctl>=2.0.0 in /Users/balthazarduc/anaconda3/lib/python3.11/site-packages (from scikit-learn) (2.2.0)\r\n",
      "Note: you may need to restart the kernel to use updated packages.\n"
     ]
    }
   ],
   "source": [
    "%pip install scikit-learn"
   ],
   "metadata": {
    "collapsed": false,
    "ExecuteTime": {
     "end_time": "2024-03-06T12:27:46.335680Z",
     "start_time": "2024-03-06T12:27:39.724440Z"
    }
   }
  },
  {
   "cell_type": "code",
   "execution_count": 23,
   "outputs": [],
   "source": [
    "import pandas as pd\n",
    "import seaborn as sns\n",
    "import matplotlib as plt\n",
    "import matplotlib.pyplot as plt\n"
   ],
   "metadata": {
    "collapsed": false,
    "ExecuteTime": {
     "end_time": "2024-03-06T13:50:12.415185Z",
     "start_time": "2024-03-06T13:50:12.402438Z"
    }
   }
  },
  {
   "cell_type": "markdown",
   "metadata": {
    "ExecuteTime": {
     "end_time": "2024-03-06T10:16:57.821341Z",
     "start_time": "2024-03-06T10:16:55.663843Z"
    }
   },
   "source": [
    "## Exercise 1"
   ]
  },
  {
   "cell_type": "markdown",
   "metadata": {
    "ExecuteTime": {
     "end_time": "2024-03-06T10:20:36.948956Z",
     "start_time": "2024-03-06T10:20:36.892035Z"
    }
   },
   "source": [
    "Compute the annualized average return and annualized volatility for all individual assets over the period 2008–2022. Plot and comment the histogram of these distributions. Compute and comment on the correlation between individual average returns and volatilities in the cross section. (10 points)"
   ]
  },
  {
   "cell_type": "code",
   "execution_count": 11,
   "metadata": {
    "ExecuteTime": {
     "end_time": "2024-03-06T12:18:14.710101Z",
     "start_time": "2024-03-06T12:18:14.103936Z"
    }
   },
   "outputs": [],
   "source": [
    "df_eur_month = pd.read_csv('https://raw.githubusercontent.com/GiammarcoBozzelli/SEF/main/df_EUR_monthly_return.csv')"
   ]
  },
  {
   "cell_type": "code",
   "execution_count": 12,
   "metadata": {
    "ExecuteTime": {
     "end_time": "2024-03-06T12:18:14.738709Z",
     "start_time": "2024-03-06T12:18:14.716832Z"
    }
   },
   "outputs": [
    {
     "data": {
      "text/plain": "ISIN_First2             object\nUnnamed: 1              object\nUnnamed: 2              object\nISIN                    object\nNAME                    object\n                        ...   \n2022-08-31 00:00:00    float64\n2022-09-30 00:00:00    float64\n2022-10-31 00:00:00    float64\n2022-11-30 00:00:00    float64\n2022-12-31 00:00:00    float64\nLength: 281, dtype: object"
     },
     "execution_count": 12,
     "metadata": {},
     "output_type": "execute_result"
    }
   ],
   "source": [
    "\n",
    "df_eur_month.dtypes"
   ]
  },
  {
   "cell_type": "code",
   "execution_count": 13,
   "metadata": {
    "ExecuteTime": {
     "end_time": "2024-03-06T12:18:17.806341Z",
     "start_time": "2024-03-06T12:18:14.725599Z"
    }
   },
   "outputs": [
    {
     "ename": "TypeError",
     "evalue": "unsupported operand type(s) for /: 'str' and 'str'",
     "output_type": "error",
     "traceback": [
      "\u001B[0;31m---------------------------------------------------------------------------\u001B[0m",
      "\u001B[0;31mTypeError\u001B[0m                                 Traceback (most recent call last)",
      "File \u001B[0;32m~/anaconda3/lib/python3.11/site-packages/pandas/core/ops/array_ops.py:165\u001B[0m, in \u001B[0;36m_na_arithmetic_op\u001B[0;34m(left, right, op, is_cmp)\u001B[0m\n\u001B[1;32m    164\u001B[0m \u001B[38;5;28;01mtry\u001B[39;00m:\n\u001B[0;32m--> 165\u001B[0m     result \u001B[38;5;241m=\u001B[39m func(left, right)\n\u001B[1;32m    166\u001B[0m \u001B[38;5;28;01mexcept\u001B[39;00m \u001B[38;5;167;01mTypeError\u001B[39;00m:\n",
      "File \u001B[0;32m~/anaconda3/lib/python3.11/site-packages/pandas/core/computation/expressions.py:241\u001B[0m, in \u001B[0;36mevaluate\u001B[0;34m(op, a, b, use_numexpr)\u001B[0m\n\u001B[1;32m    239\u001B[0m     \u001B[38;5;28;01mif\u001B[39;00m use_numexpr:\n\u001B[1;32m    240\u001B[0m         \u001B[38;5;66;03m# error: \"None\" not callable\u001B[39;00m\n\u001B[0;32m--> 241\u001B[0m         \u001B[38;5;28;01mreturn\u001B[39;00m _evaluate(op, op_str, a, b)  \u001B[38;5;66;03m# type: ignore[misc]\u001B[39;00m\n\u001B[1;32m    242\u001B[0m \u001B[38;5;28;01mreturn\u001B[39;00m _evaluate_standard(op, op_str, a, b)\n",
      "File \u001B[0;32m~/anaconda3/lib/python3.11/site-packages/pandas/core/computation/expressions.py:129\u001B[0m, in \u001B[0;36m_evaluate_numexpr\u001B[0;34m(op, op_str, a, b)\u001B[0m\n\u001B[1;32m    128\u001B[0m \u001B[38;5;28;01mif\u001B[39;00m result \u001B[38;5;129;01mis\u001B[39;00m \u001B[38;5;28;01mNone\u001B[39;00m:\n\u001B[0;32m--> 129\u001B[0m     result \u001B[38;5;241m=\u001B[39m _evaluate_standard(op, op_str, a, b)\n\u001B[1;32m    131\u001B[0m \u001B[38;5;28;01mreturn\u001B[39;00m result\n",
      "File \u001B[0;32m~/anaconda3/lib/python3.11/site-packages/pandas/core/computation/expressions.py:70\u001B[0m, in \u001B[0;36m_evaluate_standard\u001B[0;34m(op, op_str, a, b)\u001B[0m\n\u001B[1;32m     69\u001B[0m     _store_test_result(\u001B[38;5;28;01mFalse\u001B[39;00m)\n\u001B[0;32m---> 70\u001B[0m \u001B[38;5;28;01mreturn\u001B[39;00m op(a, b)\n",
      "\u001B[0;31mTypeError\u001B[0m: unsupported operand type(s) for /: 'str' and 'NoneType'",
      "\nDuring handling of the above exception, another exception occurred:\n",
      "\u001B[0;31mTypeError\u001B[0m                                 Traceback (most recent call last)",
      "Cell \u001B[0;32mIn[13], line 1\u001B[0m\n\u001B[0;32m----> 1\u001B[0m returns \u001B[38;5;241m=\u001B[39m df_eur_month\u001B[38;5;241m.\u001B[39mpct_change()\n\u001B[1;32m      2\u001B[0m returns\u001B[38;5;241m=\u001B[39mreturns\u001B[38;5;241m.\u001B[39mdropna()\n\u001B[1;32m      3\u001B[0m returns\n",
      "File \u001B[0;32m~/anaconda3/lib/python3.11/site-packages/pandas/core/generic.py:11081\u001B[0m, in \u001B[0;36mNDFrame.pct_change\u001B[0;34m(self, periods, fill_method, limit, freq, **kwargs)\u001B[0m\n\u001B[1;32m  11079\u001B[0m shifted \u001B[38;5;241m=\u001B[39m data\u001B[38;5;241m.\u001B[39mshift(periods\u001B[38;5;241m=\u001B[39mperiods, freq\u001B[38;5;241m=\u001B[39mfreq, axis\u001B[38;5;241m=\u001B[39maxis, \u001B[38;5;241m*\u001B[39m\u001B[38;5;241m*\u001B[39mkwargs)\n\u001B[1;32m  11080\u001B[0m \u001B[38;5;66;03m# Unsupported left operand type for / (\"NDFrameT\")\u001B[39;00m\n\u001B[0;32m> 11081\u001B[0m rs \u001B[38;5;241m=\u001B[39m data \u001B[38;5;241m/\u001B[39m shifted \u001B[38;5;241m-\u001B[39m \u001B[38;5;241m1\u001B[39m  \u001B[38;5;66;03m# type: ignore[operator]\u001B[39;00m\n\u001B[1;32m  11082\u001B[0m \u001B[38;5;28;01mif\u001B[39;00m freq \u001B[38;5;129;01mis\u001B[39;00m \u001B[38;5;129;01mnot\u001B[39;00m \u001B[38;5;28;01mNone\u001B[39;00m:\n\u001B[1;32m  11083\u001B[0m     \u001B[38;5;66;03m# Shift method is implemented differently when freq is not None\u001B[39;00m\n\u001B[1;32m  11084\u001B[0m     \u001B[38;5;66;03m# We want to restore the original index\u001B[39;00m\n\u001B[1;32m  11085\u001B[0m     rs \u001B[38;5;241m=\u001B[39m rs\u001B[38;5;241m.\u001B[39mloc[\u001B[38;5;241m~\u001B[39mrs\u001B[38;5;241m.\u001B[39mindex\u001B[38;5;241m.\u001B[39mduplicated()]\n",
      "File \u001B[0;32m~/anaconda3/lib/python3.11/site-packages/pandas/core/ops/common.py:72\u001B[0m, in \u001B[0;36m_unpack_zerodim_and_defer.<locals>.new_method\u001B[0;34m(self, other)\u001B[0m\n\u001B[1;32m     68\u001B[0m             \u001B[38;5;28;01mreturn\u001B[39;00m \u001B[38;5;28mNotImplemented\u001B[39m\n\u001B[1;32m     70\u001B[0m other \u001B[38;5;241m=\u001B[39m item_from_zerodim(other)\n\u001B[0;32m---> 72\u001B[0m \u001B[38;5;28;01mreturn\u001B[39;00m method(\u001B[38;5;28mself\u001B[39m, other)\n",
      "File \u001B[0;32m~/anaconda3/lib/python3.11/site-packages/pandas/core/arraylike.py:126\u001B[0m, in \u001B[0;36mOpsMixin.__truediv__\u001B[0;34m(self, other)\u001B[0m\n\u001B[1;32m    124\u001B[0m \u001B[38;5;129m@unpack_zerodim_and_defer\u001B[39m(\u001B[38;5;124m\"\u001B[39m\u001B[38;5;124m__truediv__\u001B[39m\u001B[38;5;124m\"\u001B[39m)\n\u001B[1;32m    125\u001B[0m \u001B[38;5;28;01mdef\u001B[39;00m \u001B[38;5;21m__truediv__\u001B[39m(\u001B[38;5;28mself\u001B[39m, other):\n\u001B[0;32m--> 126\u001B[0m     \u001B[38;5;28;01mreturn\u001B[39;00m \u001B[38;5;28mself\u001B[39m\u001B[38;5;241m.\u001B[39m_arith_method(other, operator\u001B[38;5;241m.\u001B[39mtruediv)\n",
      "File \u001B[0;32m~/anaconda3/lib/python3.11/site-packages/pandas/core/frame.py:7594\u001B[0m, in \u001B[0;36mDataFrame._arith_method\u001B[0;34m(self, other, op)\u001B[0m\n\u001B[1;32m   7590\u001B[0m other \u001B[38;5;241m=\u001B[39m ops\u001B[38;5;241m.\u001B[39mmaybe_prepare_scalar_for_op(other, (\u001B[38;5;28mself\u001B[39m\u001B[38;5;241m.\u001B[39mshape[axis],))\n\u001B[1;32m   7592\u001B[0m \u001B[38;5;28mself\u001B[39m, other \u001B[38;5;241m=\u001B[39m ops\u001B[38;5;241m.\u001B[39malign_method_FRAME(\u001B[38;5;28mself\u001B[39m, other, axis, flex\u001B[38;5;241m=\u001B[39m\u001B[38;5;28;01mTrue\u001B[39;00m, level\u001B[38;5;241m=\u001B[39m\u001B[38;5;28;01mNone\u001B[39;00m)\n\u001B[0;32m-> 7594\u001B[0m new_data \u001B[38;5;241m=\u001B[39m \u001B[38;5;28mself\u001B[39m\u001B[38;5;241m.\u001B[39m_dispatch_frame_op(other, op, axis\u001B[38;5;241m=\u001B[39maxis)\n\u001B[1;32m   7595\u001B[0m \u001B[38;5;28;01mreturn\u001B[39;00m \u001B[38;5;28mself\u001B[39m\u001B[38;5;241m.\u001B[39m_construct_result(new_data)\n",
      "File \u001B[0;32m~/anaconda3/lib/python3.11/site-packages/pandas/core/frame.py:7633\u001B[0m, in \u001B[0;36mDataFrame._dispatch_frame_op\u001B[0;34m(self, right, func, axis)\u001B[0m\n\u001B[1;32m   7627\u001B[0m     \u001B[38;5;66;03m# TODO: The previous assertion `assert right._indexed_same(self)`\u001B[39;00m\n\u001B[1;32m   7628\u001B[0m     \u001B[38;5;66;03m#  fails in cases with empty columns reached via\u001B[39;00m\n\u001B[1;32m   7629\u001B[0m     \u001B[38;5;66;03m#  _frame_arith_method_with_reindex\u001B[39;00m\n\u001B[1;32m   7630\u001B[0m \n\u001B[1;32m   7631\u001B[0m     \u001B[38;5;66;03m# TODO operate_blockwise expects a manager of the same type\u001B[39;00m\n\u001B[1;32m   7632\u001B[0m     \u001B[38;5;28;01mwith\u001B[39;00m np\u001B[38;5;241m.\u001B[39merrstate(\u001B[38;5;28mall\u001B[39m\u001B[38;5;241m=\u001B[39m\u001B[38;5;124m\"\u001B[39m\u001B[38;5;124mignore\u001B[39m\u001B[38;5;124m\"\u001B[39m):\n\u001B[0;32m-> 7633\u001B[0m         bm \u001B[38;5;241m=\u001B[39m \u001B[38;5;28mself\u001B[39m\u001B[38;5;241m.\u001B[39m_mgr\u001B[38;5;241m.\u001B[39moperate_blockwise(\n\u001B[1;32m   7634\u001B[0m             \u001B[38;5;66;03m# error: Argument 1 to \"operate_blockwise\" of \"ArrayManager\" has\u001B[39;00m\n\u001B[1;32m   7635\u001B[0m             \u001B[38;5;66;03m# incompatible type \"Union[ArrayManager, BlockManager]\"; expected\u001B[39;00m\n\u001B[1;32m   7636\u001B[0m             \u001B[38;5;66;03m# \"ArrayManager\"\u001B[39;00m\n\u001B[1;32m   7637\u001B[0m             \u001B[38;5;66;03m# error: Argument 1 to \"operate_blockwise\" of \"BlockManager\" has\u001B[39;00m\n\u001B[1;32m   7638\u001B[0m             \u001B[38;5;66;03m# incompatible type \"Union[ArrayManager, BlockManager]\"; expected\u001B[39;00m\n\u001B[1;32m   7639\u001B[0m             \u001B[38;5;66;03m# \"BlockManager\"\u001B[39;00m\n\u001B[1;32m   7640\u001B[0m             right\u001B[38;5;241m.\u001B[39m_mgr,  \u001B[38;5;66;03m# type: ignore[arg-type]\u001B[39;00m\n\u001B[1;32m   7641\u001B[0m             array_op,\n\u001B[1;32m   7642\u001B[0m         )\n\u001B[1;32m   7643\u001B[0m     \u001B[38;5;28;01mreturn\u001B[39;00m \u001B[38;5;28mself\u001B[39m\u001B[38;5;241m.\u001B[39m_constructor(bm)\n\u001B[1;32m   7645\u001B[0m \u001B[38;5;28;01melif\u001B[39;00m \u001B[38;5;28misinstance\u001B[39m(right, Series) \u001B[38;5;129;01mand\u001B[39;00m axis \u001B[38;5;241m==\u001B[39m \u001B[38;5;241m1\u001B[39m:\n\u001B[1;32m   7646\u001B[0m     \u001B[38;5;66;03m# axis=1 means we want to operate row-by-row\u001B[39;00m\n",
      "File \u001B[0;32m~/anaconda3/lib/python3.11/site-packages/pandas/core/internals/managers.py:1589\u001B[0m, in \u001B[0;36mBlockManager.operate_blockwise\u001B[0;34m(self, other, array_op)\u001B[0m\n\u001B[1;32m   1585\u001B[0m \u001B[38;5;28;01mdef\u001B[39;00m \u001B[38;5;21moperate_blockwise\u001B[39m(\u001B[38;5;28mself\u001B[39m, other: BlockManager, array_op) \u001B[38;5;241m-\u001B[39m\u001B[38;5;241m>\u001B[39m BlockManager:\n\u001B[1;32m   1586\u001B[0m \u001B[38;5;250m    \u001B[39m\u001B[38;5;124;03m\"\"\"\u001B[39;00m\n\u001B[1;32m   1587\u001B[0m \u001B[38;5;124;03m    Apply array_op blockwise with another (aligned) BlockManager.\u001B[39;00m\n\u001B[1;32m   1588\u001B[0m \u001B[38;5;124;03m    \"\"\"\u001B[39;00m\n\u001B[0;32m-> 1589\u001B[0m     \u001B[38;5;28;01mreturn\u001B[39;00m operate_blockwise(\u001B[38;5;28mself\u001B[39m, other, array_op)\n",
      "File \u001B[0;32m~/anaconda3/lib/python3.11/site-packages/pandas/core/internals/ops.py:63\u001B[0m, in \u001B[0;36moperate_blockwise\u001B[0;34m(left, right, array_op)\u001B[0m\n\u001B[1;32m     61\u001B[0m res_blks: \u001B[38;5;28mlist\u001B[39m[Block] \u001B[38;5;241m=\u001B[39m []\n\u001B[1;32m     62\u001B[0m \u001B[38;5;28;01mfor\u001B[39;00m lvals, rvals, locs, left_ea, right_ea, rblk \u001B[38;5;129;01min\u001B[39;00m _iter_block_pairs(left, right):\n\u001B[0;32m---> 63\u001B[0m     res_values \u001B[38;5;241m=\u001B[39m array_op(lvals, rvals)\n\u001B[1;32m     64\u001B[0m     \u001B[38;5;28;01mif\u001B[39;00m left_ea \u001B[38;5;129;01mand\u001B[39;00m \u001B[38;5;129;01mnot\u001B[39;00m right_ea \u001B[38;5;129;01mand\u001B[39;00m \u001B[38;5;28mhasattr\u001B[39m(res_values, \u001B[38;5;124m\"\u001B[39m\u001B[38;5;124mreshape\u001B[39m\u001B[38;5;124m\"\u001B[39m):\n\u001B[1;32m     65\u001B[0m         res_values \u001B[38;5;241m=\u001B[39m res_values\u001B[38;5;241m.\u001B[39mreshape(\u001B[38;5;241m1\u001B[39m, \u001B[38;5;241m-\u001B[39m\u001B[38;5;241m1\u001B[39m)\n",
      "File \u001B[0;32m~/anaconda3/lib/python3.11/site-packages/pandas/core/ops/array_ops.py:226\u001B[0m, in \u001B[0;36marithmetic_op\u001B[0;34m(left, right, op)\u001B[0m\n\u001B[1;32m    222\u001B[0m     _bool_arith_check(op, left, right)\n\u001B[1;32m    224\u001B[0m     \u001B[38;5;66;03m# error: Argument 1 to \"_na_arithmetic_op\" has incompatible type\u001B[39;00m\n\u001B[1;32m    225\u001B[0m     \u001B[38;5;66;03m# \"Union[ExtensionArray, ndarray[Any, Any]]\"; expected \"ndarray[Any, Any]\"\u001B[39;00m\n\u001B[0;32m--> 226\u001B[0m     res_values \u001B[38;5;241m=\u001B[39m _na_arithmetic_op(left, right, op)  \u001B[38;5;66;03m# type: ignore[arg-type]\u001B[39;00m\n\u001B[1;32m    228\u001B[0m \u001B[38;5;28;01mreturn\u001B[39;00m res_values\n",
      "File \u001B[0;32m~/anaconda3/lib/python3.11/site-packages/pandas/core/ops/array_ops.py:172\u001B[0m, in \u001B[0;36m_na_arithmetic_op\u001B[0;34m(left, right, op, is_cmp)\u001B[0m\n\u001B[1;32m    166\u001B[0m \u001B[38;5;28;01mexcept\u001B[39;00m \u001B[38;5;167;01mTypeError\u001B[39;00m:\n\u001B[1;32m    167\u001B[0m     \u001B[38;5;28;01mif\u001B[39;00m \u001B[38;5;129;01mnot\u001B[39;00m is_cmp \u001B[38;5;129;01mand\u001B[39;00m (is_object_dtype(left\u001B[38;5;241m.\u001B[39mdtype) \u001B[38;5;129;01mor\u001B[39;00m is_object_dtype(right)):\n\u001B[1;32m    168\u001B[0m         \u001B[38;5;66;03m# For object dtype, fallback to a masked operation (only operating\u001B[39;00m\n\u001B[1;32m    169\u001B[0m         \u001B[38;5;66;03m#  on the non-missing values)\u001B[39;00m\n\u001B[1;32m    170\u001B[0m         \u001B[38;5;66;03m# Don't do this for comparisons, as that will handle complex numbers\u001B[39;00m\n\u001B[1;32m    171\u001B[0m         \u001B[38;5;66;03m#  incorrectly, see GH#32047\u001B[39;00m\n\u001B[0;32m--> 172\u001B[0m         result \u001B[38;5;241m=\u001B[39m _masked_arith_op(left, right, op)\n\u001B[1;32m    173\u001B[0m     \u001B[38;5;28;01melse\u001B[39;00m:\n\u001B[1;32m    174\u001B[0m         \u001B[38;5;28;01mraise\u001B[39;00m\n",
      "File \u001B[0;32m~/anaconda3/lib/python3.11/site-packages/pandas/core/ops/array_ops.py:110\u001B[0m, in \u001B[0;36m_masked_arith_op\u001B[0;34m(x, y, op)\u001B[0m\n\u001B[1;32m    108\u001B[0m     \u001B[38;5;66;03m# See GH#5284, GH#5035, GH#19448 for historical reference\u001B[39;00m\n\u001B[1;32m    109\u001B[0m     \u001B[38;5;28;01mif\u001B[39;00m mask\u001B[38;5;241m.\u001B[39many():\n\u001B[0;32m--> 110\u001B[0m         result[mask] \u001B[38;5;241m=\u001B[39m op(xrav[mask], yrav[mask])\n\u001B[1;32m    112\u001B[0m \u001B[38;5;28;01melse\u001B[39;00m:\n\u001B[1;32m    113\u001B[0m     \u001B[38;5;28;01mif\u001B[39;00m \u001B[38;5;129;01mnot\u001B[39;00m is_scalar(y):\n",
      "\u001B[0;31mTypeError\u001B[0m: unsupported operand type(s) for /: 'str' and 'str'"
     ]
    }
   ],
   "source": [
    "returns = df_eur_month.pct_change()\n",
    "returns=returns.dropna()\n",
    "returns"
   ]
  },
  {
   "cell_type": "markdown",
   "metadata": {
    "ExecuteTime": {
     "end_time": "2024-03-06T10:19:53.771262Z",
     "start_time": "2024-03-06T10:19:52.962403Z"
    }
   },
   "source": [
    "## Exercise 2"
   ]
  },
  {
   "cell_type": "markdown",
   "metadata": {
    "ExecuteTime": {
     "end_time": "2024-03-06T10:20:01.244182Z",
     "start_time": "2024-03-06T10:20:01.224639Z"
    }
   },
   "source": []
  },
  {
   "cell_type": "markdown",
   "metadata": {
    "ExecuteTime": {
     "end_time": "2024-03-06T10:20:04.793603Z",
     "start_time": "2024-03-06T10:20:02.438319Z"
    }
   },
   "source": [
    "## Exercise 3"
   ]
  },
  {
   "cell_type": "markdown",
   "metadata": {},
   "source": []
  },
  {
   "cell_type": "markdown",
   "metadata": {},
   "source": [
    "## Exercise 4"
   ]
  },
  {
   "cell_type": "markdown",
   "metadata": {},
   "source": [
    "df_ESG=pd.read_csv('https://raw.githubusercontent.com/GiammarcoBozzelli/SEF/baltha/df_ESG_Y.csv')\n",
    "df_eur_Year = pd.read_csv('https://raw.githubusercontent.com/GiammarcoBozzelli/SEF/main/df_EUR_yearly_return.csv')\n",
    "df_eur_return_M=pd.read_csv('https://raw.githubusercontent.com/GiammarcoBozzelli/SEF/camille/df_EUR_monthly_return.csv')"
   ]
  },
  {
   "cell_type": "code",
   "execution_count": 1,
   "outputs": [
    {
     "name": "stdout",
     "output_type": "stream",
     "text": [
      "hello\n"
     ]
    }
   ],
   "source": [
    "import numpy as np\n",
    "import pandas as pd\n",
    "import matplotlib.pyplot as plt\n",
    "from scipy.optimize import minimize"
   ],
   "metadata": {
    "collapsed": false,
    "ExecuteTime": {
     "end_time": "2024-03-06T13:58:26.594938Z",
     "start_time": "2024-03-06T13:58:26.576232Z"
    }
   }
  },
  {
   "cell_type": "code",
   "execution_count": 21,
   "outputs": [],
   "source": [
    "df_ESG=pd.read_csv('https://raw.githubusercontent.com/GiammarcoBozzelli/SEF/baltha/df_ESG_Y.csv')\n",
    "df_eur_Year = pd.read_csv('https://raw.githubusercontent.com/GiammarcoBozzelli/SEF/main/df_EUR_yearly_return.csv')\n",
    "df_eur_return_M=pd.read_csv('https://raw.githubusercontent.com/GiammarcoBozzelli/SEF/camille/df_EUR_monthly_return.csv')"
   ],
   "metadata": {
    "collapsed": false,
    "ExecuteTime": {
     "end_time": "2024-03-06T13:48:51.014414Z",
     "start_time": "2024-03-06T13:48:49.712157Z"
    }
   }
  },
  {
   "cell_type": "code",
   "execution_count": 22,
   "outputs": [
    {
     "data": {
      "text/plain": "    ISIN_First2 Unnamed: 1 Unnamed: 2          ISIN                      NAME  \\\n0            AT    AUSTRIA        EUR  AT00000VIE62            FLUGHAFEN WIEN   \n1            AT    AUSTRIA        EUR  AT0000652011          ERSTE GROUP BANK   \n2            AT    AUSTRIA        EUR  AT0000743059                       OMV   \n3            AT    AUSTRIA        EUR  AT0000746409                   VERBUND   \n4            AT    AUSTRIA        EUR  AT0000831706              WIENERBERGER   \n..          ...        ...        ...           ...                       ...   \n503          SE    SWEDEN         EUR  SE0015988019           NIBE INDUSTRIER   \n504          SE    SWEDEN         EUR  SE0016589188              ELECTROLUX B   \n505          SE    SWEDEN         EUR  SE0017486889             ATLAS COPCO A   \n506          SE    SWEDEN         EUR  SE0018012494  MODERN TIMES GROUP MTG B   \n507          SE    SWEDEN         EUR  SE0020050417           BOLIDEN ORD SHS   \n\n     2000-01-31 00:00:00  2000-02-29 00:00:00  2000-03-31 00:00:00  \\\n0                 156.25               153.83               158.62   \n1                  94.91                97.74               100.50   \n2                 389.64               318.75               311.41   \n3                 524.60               564.59               518.56   \n4                2379.46              2203.58              2451.55   \n..                   ...                  ...                  ...   \n503                17.82                18.78                19.97   \n504               533.00               470.45               473.03   \n505               221.48               202.18               212.75   \n506                76.83                85.51                79.92   \n507                15.72                11.76                11.49   \n\n     2000-04-30 00:00:00  2000-05-31 00:00:00  ...  2022-03-31 00:00:00  \\\n0                 137.27               148.95  ...              1073.50   \n1                  96.13                97.86  ...               567.30   \n2                 335.24               356.91  ...              4277.87   \n3                 463.37               498.05  ...              8285.25   \n4                2552.81              2746.80  ...              6331.35   \n..                   ...                  ...  ...                  ...   \n503                19.59                19.61  ...              6003.53   \n504               432.63               431.17  ...              2196.55   \n505               209.47               198.64  ...              8565.58   \n506                80.98                73.42  ...               128.27   \n507                 8.90                 8.70  ...                52.97   \n\n     2022-04-30 00:00:00  2022-05-31 00:00:00  2022-06-30 00:00:00  \\\n0                1044.97              1035.49              1258.39   \n1                 482.13               504.75               410.92   \n2                4589.77              5163.58              4341.76   \n3                8406.71              7820.72              7690.07   \n4                5915.37              5895.80              4581.59   \n..                   ...                  ...                  ...   \n503              5299.14              4659.33              4014.61   \n504              2209.15              2216.31              1921.70   \n505              7554.67              7456.44              6222.46   \n506                92.81               102.04                91.70   \n507                46.57                46.19                35.02   \n\n     2022-07-31 00:00:00  2022-08-31 00:00:00  2022-09-30 00:00:00  \\\n0                1229.26              1215.93              1190.06   \n1                 409.07               367.15               360.26   \n2                3918.78              3758.17              3396.99   \n3                8637.53              7555.23              6751.05   \n4                4896.37              5022.24              4318.66   \n..                   ...                  ...                  ...   \n503              5348.71              5050.28              4831.75   \n504              2046.88              1819.41              1558.19   \n505              7723.51              6823.05              6300.71   \n506               117.58               100.69                76.18   \n507                36.46                35.64                34.45   \n\n     2022-10-31 00:00:00  2022-11-30 00:00:00  2022-12-31 00:00:00  \n0                1198.76              1248.90              1269.03  \n1                 400.68               495.04               518.33  \n2                4277.10              4792.28              4763.37  \n3                6172.06              6981.93              6614.67  \n4                4894.01              5548.18              5152.51  \n..                   ...                  ...                  ...  \n503              4270.62              4921.75              4991.91  \n504              1834.65              2072.22              2010.28  \n505              7188.93              8151.37              7951.07  \n506                85.61                88.01                97.81  \n507                32.10                40.12                41.42  \n\n[508 rows x 281 columns]",
      "text/html": "<div>\n<style scoped>\n    .dataframe tbody tr th:only-of-type {\n        vertical-align: middle;\n    }\n\n    .dataframe tbody tr th {\n        vertical-align: top;\n    }\n\n    .dataframe thead th {\n        text-align: right;\n    }\n</style>\n<table border=\"1\" class=\"dataframe\">\n  <thead>\n    <tr style=\"text-align: right;\">\n      <th></th>\n      <th>ISIN_First2</th>\n      <th>Unnamed: 1</th>\n      <th>Unnamed: 2</th>\n      <th>ISIN</th>\n      <th>NAME</th>\n      <th>2000-01-31 00:00:00</th>\n      <th>2000-02-29 00:00:00</th>\n      <th>2000-03-31 00:00:00</th>\n      <th>2000-04-30 00:00:00</th>\n      <th>2000-05-31 00:00:00</th>\n      <th>...</th>\n      <th>2022-03-31 00:00:00</th>\n      <th>2022-04-30 00:00:00</th>\n      <th>2022-05-31 00:00:00</th>\n      <th>2022-06-30 00:00:00</th>\n      <th>2022-07-31 00:00:00</th>\n      <th>2022-08-31 00:00:00</th>\n      <th>2022-09-30 00:00:00</th>\n      <th>2022-10-31 00:00:00</th>\n      <th>2022-11-30 00:00:00</th>\n      <th>2022-12-31 00:00:00</th>\n    </tr>\n  </thead>\n  <tbody>\n    <tr>\n      <th>0</th>\n      <td>AT</td>\n      <td>AUSTRIA</td>\n      <td>EUR</td>\n      <td>AT00000VIE62</td>\n      <td>FLUGHAFEN WIEN</td>\n      <td>156.25</td>\n      <td>153.83</td>\n      <td>158.62</td>\n      <td>137.27</td>\n      <td>148.95</td>\n      <td>...</td>\n      <td>1073.50</td>\n      <td>1044.97</td>\n      <td>1035.49</td>\n      <td>1258.39</td>\n      <td>1229.26</td>\n      <td>1215.93</td>\n      <td>1190.06</td>\n      <td>1198.76</td>\n      <td>1248.90</td>\n      <td>1269.03</td>\n    </tr>\n    <tr>\n      <th>1</th>\n      <td>AT</td>\n      <td>AUSTRIA</td>\n      <td>EUR</td>\n      <td>AT0000652011</td>\n      <td>ERSTE GROUP BANK</td>\n      <td>94.91</td>\n      <td>97.74</td>\n      <td>100.50</td>\n      <td>96.13</td>\n      <td>97.86</td>\n      <td>...</td>\n      <td>567.30</td>\n      <td>482.13</td>\n      <td>504.75</td>\n      <td>410.92</td>\n      <td>409.07</td>\n      <td>367.15</td>\n      <td>360.26</td>\n      <td>400.68</td>\n      <td>495.04</td>\n      <td>518.33</td>\n    </tr>\n    <tr>\n      <th>2</th>\n      <td>AT</td>\n      <td>AUSTRIA</td>\n      <td>EUR</td>\n      <td>AT0000743059</td>\n      <td>OMV</td>\n      <td>389.64</td>\n      <td>318.75</td>\n      <td>311.41</td>\n      <td>335.24</td>\n      <td>356.91</td>\n      <td>...</td>\n      <td>4277.87</td>\n      <td>4589.77</td>\n      <td>5163.58</td>\n      <td>4341.76</td>\n      <td>3918.78</td>\n      <td>3758.17</td>\n      <td>3396.99</td>\n      <td>4277.10</td>\n      <td>4792.28</td>\n      <td>4763.37</td>\n    </tr>\n    <tr>\n      <th>3</th>\n      <td>AT</td>\n      <td>AUSTRIA</td>\n      <td>EUR</td>\n      <td>AT0000746409</td>\n      <td>VERBUND</td>\n      <td>524.60</td>\n      <td>564.59</td>\n      <td>518.56</td>\n      <td>463.37</td>\n      <td>498.05</td>\n      <td>...</td>\n      <td>8285.25</td>\n      <td>8406.71</td>\n      <td>7820.72</td>\n      <td>7690.07</td>\n      <td>8637.53</td>\n      <td>7555.23</td>\n      <td>6751.05</td>\n      <td>6172.06</td>\n      <td>6981.93</td>\n      <td>6614.67</td>\n    </tr>\n    <tr>\n      <th>4</th>\n      <td>AT</td>\n      <td>AUSTRIA</td>\n      <td>EUR</td>\n      <td>AT0000831706</td>\n      <td>WIENERBERGER</td>\n      <td>2379.46</td>\n      <td>2203.58</td>\n      <td>2451.55</td>\n      <td>2552.81</td>\n      <td>2746.80</td>\n      <td>...</td>\n      <td>6331.35</td>\n      <td>5915.37</td>\n      <td>5895.80</td>\n      <td>4581.59</td>\n      <td>4896.37</td>\n      <td>5022.24</td>\n      <td>4318.66</td>\n      <td>4894.01</td>\n      <td>5548.18</td>\n      <td>5152.51</td>\n    </tr>\n    <tr>\n      <th>...</th>\n      <td>...</td>\n      <td>...</td>\n      <td>...</td>\n      <td>...</td>\n      <td>...</td>\n      <td>...</td>\n      <td>...</td>\n      <td>...</td>\n      <td>...</td>\n      <td>...</td>\n      <td>...</td>\n      <td>...</td>\n      <td>...</td>\n      <td>...</td>\n      <td>...</td>\n      <td>...</td>\n      <td>...</td>\n      <td>...</td>\n      <td>...</td>\n      <td>...</td>\n      <td>...</td>\n    </tr>\n    <tr>\n      <th>503</th>\n      <td>SE</td>\n      <td>SWEDEN</td>\n      <td>EUR</td>\n      <td>SE0015988019</td>\n      <td>NIBE INDUSTRIER</td>\n      <td>17.82</td>\n      <td>18.78</td>\n      <td>19.97</td>\n      <td>19.59</td>\n      <td>19.61</td>\n      <td>...</td>\n      <td>6003.53</td>\n      <td>5299.14</td>\n      <td>4659.33</td>\n      <td>4014.61</td>\n      <td>5348.71</td>\n      <td>5050.28</td>\n      <td>4831.75</td>\n      <td>4270.62</td>\n      <td>4921.75</td>\n      <td>4991.91</td>\n    </tr>\n    <tr>\n      <th>504</th>\n      <td>SE</td>\n      <td>SWEDEN</td>\n      <td>EUR</td>\n      <td>SE0016589188</td>\n      <td>ELECTROLUX B</td>\n      <td>533.00</td>\n      <td>470.45</td>\n      <td>473.03</td>\n      <td>432.63</td>\n      <td>431.17</td>\n      <td>...</td>\n      <td>2196.55</td>\n      <td>2209.15</td>\n      <td>2216.31</td>\n      <td>1921.70</td>\n      <td>2046.88</td>\n      <td>1819.41</td>\n      <td>1558.19</td>\n      <td>1834.65</td>\n      <td>2072.22</td>\n      <td>2010.28</td>\n    </tr>\n    <tr>\n      <th>505</th>\n      <td>SE</td>\n      <td>SWEDEN</td>\n      <td>EUR</td>\n      <td>SE0017486889</td>\n      <td>ATLAS COPCO A</td>\n      <td>221.48</td>\n      <td>202.18</td>\n      <td>212.75</td>\n      <td>209.47</td>\n      <td>198.64</td>\n      <td>...</td>\n      <td>8565.58</td>\n      <td>7554.67</td>\n      <td>7456.44</td>\n      <td>6222.46</td>\n      <td>7723.51</td>\n      <td>6823.05</td>\n      <td>6300.71</td>\n      <td>7188.93</td>\n      <td>8151.37</td>\n      <td>7951.07</td>\n    </tr>\n    <tr>\n      <th>506</th>\n      <td>SE</td>\n      <td>SWEDEN</td>\n      <td>EUR</td>\n      <td>SE0018012494</td>\n      <td>MODERN TIMES GROUP MTG B</td>\n      <td>76.83</td>\n      <td>85.51</td>\n      <td>79.92</td>\n      <td>80.98</td>\n      <td>73.42</td>\n      <td>...</td>\n      <td>128.27</td>\n      <td>92.81</td>\n      <td>102.04</td>\n      <td>91.70</td>\n      <td>117.58</td>\n      <td>100.69</td>\n      <td>76.18</td>\n      <td>85.61</td>\n      <td>88.01</td>\n      <td>97.81</td>\n    </tr>\n    <tr>\n      <th>507</th>\n      <td>SE</td>\n      <td>SWEDEN</td>\n      <td>EUR</td>\n      <td>SE0020050417</td>\n      <td>BOLIDEN ORD SHS</td>\n      <td>15.72</td>\n      <td>11.76</td>\n      <td>11.49</td>\n      <td>8.90</td>\n      <td>8.70</td>\n      <td>...</td>\n      <td>52.97</td>\n      <td>46.57</td>\n      <td>46.19</td>\n      <td>35.02</td>\n      <td>36.46</td>\n      <td>35.64</td>\n      <td>34.45</td>\n      <td>32.10</td>\n      <td>40.12</td>\n      <td>41.42</td>\n    </tr>\n  </tbody>\n</table>\n<p>508 rows × 281 columns</p>\n</div>"
     },
     "execution_count": 22,
     "metadata": {},
     "output_type": "execute_result"
    }
   ],
   "source": [
    "df_eur_return_M"
   ],
   "metadata": {
    "collapsed": false,
    "ExecuteTime": {
     "end_time": "2024-03-06T13:48:58.115419Z",
     "start_time": "2024-03-06T13:48:58.077427Z"
    }
   }
  },
  {
   "cell_type": "code",
   "execution_count": null,
   "outputs": [],
   "source": [],
   "metadata": {
    "collapsed": false
   }
  }
 ],
 "metadata": {
  "kernelspec": {
   "display_name": "Python 3",
   "language": "python",
   "name": "python3"
  },
  "language_info": {
   "codemirror_mode": {
    "name": "ipython",
    "version": 3
   },
   "file_extension": ".py",
   "mimetype": "text/x-python",
   "name": "python",
   "nbconvert_exporter": "python",
   "pygments_lexer": "ipython3",
   "version": "3.10.4"
  }
 },
 "nbformat": 4,
 "nbformat_minor": 2
}
