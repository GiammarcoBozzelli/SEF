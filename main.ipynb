{
 "cells": [
  {
   "cell_type": "markdown",
   "source": [
    "# HOMEWORK 1"
   ],
   "metadata": {
    "collapsed": false
   }
  },
  {
   "cell_type": "markdown",
   "source": [
    "## DATABASE CREATION"
   ],
   "metadata": {
    "collapsed": false
   }
  },
  {
   "cell_type": "code",
   "execution_count": 1,
   "outputs": [
    {
     "name": "stdout",
     "output_type": "stream",
     "text": [
      "Requirement already satisfied: pandas in /Library/Frameworks/Python.framework/Versions/3.9/lib/python3.9/site-packages (2.2.1)\r\n",
      "Requirement already satisfied: pytz>=2020.1 in /Library/Frameworks/Python.framework/Versions/3.9/lib/python3.9/site-packages (from pandas) (2024.1)\r\n",
      "Requirement already satisfied: numpy<2,>=1.22.4; python_version < \"3.11\" in /Library/Frameworks/Python.framework/Versions/3.9/lib/python3.9/site-packages (from pandas) (1.26.4)\r\n",
      "Requirement already satisfied: tzdata>=2022.7 in /Library/Frameworks/Python.framework/Versions/3.9/lib/python3.9/site-packages (from pandas) (2024.1)\r\n",
      "Requirement already satisfied: python-dateutil>=2.8.2 in /Library/Frameworks/Python.framework/Versions/3.9/lib/python3.9/site-packages (from pandas) (2.8.2)\r\n",
      "Requirement already satisfied: six>=1.5 in /Library/Frameworks/Python.framework/Versions/3.9/lib/python3.9/site-packages (from python-dateutil>=2.8.2->pandas) (1.16.0)\r\n",
      "\u001B[33mWARNING: You are using pip version 20.2.3; however, version 24.0 is available.\r\n",
      "You should consider upgrading via the '/usr/local/bin/python3.9 -m pip install --upgrade pip' command.\u001B[0m\r\n",
      "Note: you may need to restart the kernel to use updated packages.\n"
     ]
    }
   ],
   "source": [
    "pip install pandas"
   ],
   "metadata": {
    "collapsed": false,
    "ExecuteTime": {
     "end_time": "2024-03-05T07:41:55.234426Z",
     "start_time": "2024-03-05T07:41:51.745440Z"
    }
   }
  },
  {
   "cell_type": "code",
   "execution_count": 2,
   "outputs": [
    {
     "name": "stdout",
     "output_type": "stream",
     "text": [
      "Requirement already satisfied: numpy in /Library/Frameworks/Python.framework/Versions/3.9/lib/python3.9/site-packages (1.26.4)\r\n",
      "\u001B[33mWARNING: You are using pip version 20.2.3; however, version 24.0 is available.\r\n",
      "You should consider upgrading via the '/usr/local/bin/python3.9 -m pip install --upgrade pip' command.\u001B[0m\r\n",
      "Note: you may need to restart the kernel to use updated packages.\n"
     ]
    }
   ],
   "source": [
    "pip install numpy"
   ],
   "metadata": {
    "collapsed": false,
    "ExecuteTime": {
     "end_time": "2024-03-05T07:41:57.755315Z",
     "start_time": "2024-03-05T07:41:55.225262Z"
    }
   }
  },
  {
   "cell_type": "code",
   "execution_count": 3,
   "outputs": [
    {
     "name": "stdout",
     "output_type": "stream",
     "text": [
      "Requirement already satisfied: matplotlib in /Library/Frameworks/Python.framework/Versions/3.9/lib/python3.9/site-packages (3.8.3)\r\n",
      "Requirement already satisfied: cycler>=0.10 in /Library/Frameworks/Python.framework/Versions/3.9/lib/python3.9/site-packages (from matplotlib) (0.12.1)\r\n",
      "Requirement already satisfied: fonttools>=4.22.0 in /Library/Frameworks/Python.framework/Versions/3.9/lib/python3.9/site-packages (from matplotlib) (4.49.0)\r\n",
      "Requirement already satisfied: numpy<2,>=1.21 in /Library/Frameworks/Python.framework/Versions/3.9/lib/python3.9/site-packages (from matplotlib) (1.26.4)\r\n",
      "Requirement already satisfied: pillow>=8 in /Library/Frameworks/Python.framework/Versions/3.9/lib/python3.9/site-packages (from matplotlib) (10.2.0)\r\n",
      "Requirement already satisfied: python-dateutil>=2.7 in /Library/Frameworks/Python.framework/Versions/3.9/lib/python3.9/site-packages (from matplotlib) (2.8.2)\r\n",
      "Requirement already satisfied: pyparsing>=2.3.1 in /Library/Frameworks/Python.framework/Versions/3.9/lib/python3.9/site-packages (from matplotlib) (3.1.1)\r\n",
      "Requirement already satisfied: contourpy>=1.0.1 in /Library/Frameworks/Python.framework/Versions/3.9/lib/python3.9/site-packages (from matplotlib) (1.2.0)\r\n",
      "Requirement already satisfied: packaging>=20.0 in /Library/Frameworks/Python.framework/Versions/3.9/lib/python3.9/site-packages (from matplotlib) (23.2)\r\n",
      "Requirement already satisfied: importlib-resources>=3.2.0; python_version < \"3.10\" in /Library/Frameworks/Python.framework/Versions/3.9/lib/python3.9/site-packages (from matplotlib) (6.1.2)\r\n",
      "Requirement already satisfied: kiwisolver>=1.3.1 in /Library/Frameworks/Python.framework/Versions/3.9/lib/python3.9/site-packages (from matplotlib) (1.4.5)\r\n",
      "Requirement already satisfied: six>=1.5 in /Library/Frameworks/Python.framework/Versions/3.9/lib/python3.9/site-packages (from python-dateutil>=2.7->matplotlib) (1.16.0)\r\n",
      "Requirement already satisfied: zipp>=3.1.0; python_version < \"3.10\" in /Library/Frameworks/Python.framework/Versions/3.9/lib/python3.9/site-packages (from importlib-resources>=3.2.0; python_version < \"3.10\"->matplotlib) (3.17.0)\r\n",
      "\u001B[33mWARNING: You are using pip version 20.2.3; however, version 24.0 is available.\r\n",
      "You should consider upgrading via the '/usr/local/bin/python3.9 -m pip install --upgrade pip' command.\u001B[0m\r\n",
      "Note: you may need to restart the kernel to use updated packages.\n"
     ]
    }
   ],
   "source": [
    "pip install matplotlib"
   ],
   "metadata": {
    "collapsed": false,
    "ExecuteTime": {
     "end_time": "2024-03-05T07:42:00.392562Z",
     "start_time": "2024-03-05T07:41:57.745029Z"
    }
   }
  },
  {
   "cell_type": "code",
   "execution_count": null,
   "outputs": [],
   "source": [
    "pip install openpyxl"
   ],
   "metadata": {
    "collapsed": false
   }
  },
  {
   "cell_type": "code",
   "execution_count": 40,
   "outputs": [
    {
     "name": "stdout",
     "output_type": "stream",
     "text": [
      "Requirement already satisfied: seaborn in /Library/Frameworks/Python.framework/Versions/3.9/lib/python3.9/site-packages (0.13.2)\r\n",
      "Requirement already satisfied: matplotlib!=3.6.1,>=3.4 in /Library/Frameworks/Python.framework/Versions/3.9/lib/python3.9/site-packages (from seaborn) (3.8.3)\r\n",
      "Requirement already satisfied: pandas>=1.2 in /Library/Frameworks/Python.framework/Versions/3.9/lib/python3.9/site-packages (from seaborn) (2.2.1)\r\n",
      "Requirement already satisfied: numpy!=1.24.0,>=1.20 in /Library/Frameworks/Python.framework/Versions/3.9/lib/python3.9/site-packages (from seaborn) (1.26.4)\r\n",
      "Requirement already satisfied: fonttools>=4.22.0 in /Library/Frameworks/Python.framework/Versions/3.9/lib/python3.9/site-packages (from matplotlib!=3.6.1,>=3.4->seaborn) (4.49.0)\r\n",
      "Requirement already satisfied: pyparsing>=2.3.1 in /Library/Frameworks/Python.framework/Versions/3.9/lib/python3.9/site-packages (from matplotlib!=3.6.1,>=3.4->seaborn) (3.1.1)\r\n",
      "Requirement already satisfied: packaging>=20.0 in /Library/Frameworks/Python.framework/Versions/3.9/lib/python3.9/site-packages (from matplotlib!=3.6.1,>=3.4->seaborn) (23.2)\r\n",
      "Requirement already satisfied: cycler>=0.10 in /Library/Frameworks/Python.framework/Versions/3.9/lib/python3.9/site-packages (from matplotlib!=3.6.1,>=3.4->seaborn) (0.12.1)\r\n",
      "Requirement already satisfied: pillow>=8 in /Library/Frameworks/Python.framework/Versions/3.9/lib/python3.9/site-packages (from matplotlib!=3.6.1,>=3.4->seaborn) (10.2.0)\r\n",
      "Requirement already satisfied: importlib-resources>=3.2.0; python_version < \"3.10\" in /Library/Frameworks/Python.framework/Versions/3.9/lib/python3.9/site-packages (from matplotlib!=3.6.1,>=3.4->seaborn) (6.1.2)\r\n",
      "Requirement already satisfied: kiwisolver>=1.3.1 in /Library/Frameworks/Python.framework/Versions/3.9/lib/python3.9/site-packages (from matplotlib!=3.6.1,>=3.4->seaborn) (1.4.5)\r\n",
      "Requirement already satisfied: python-dateutil>=2.7 in /Library/Frameworks/Python.framework/Versions/3.9/lib/python3.9/site-packages (from matplotlib!=3.6.1,>=3.4->seaborn) (2.8.2)\r\n",
      "Requirement already satisfied: contourpy>=1.0.1 in /Library/Frameworks/Python.framework/Versions/3.9/lib/python3.9/site-packages (from matplotlib!=3.6.1,>=3.4->seaborn) (1.2.0)\r\n",
      "Requirement already satisfied: tzdata>=2022.7 in /Library/Frameworks/Python.framework/Versions/3.9/lib/python3.9/site-packages (from pandas>=1.2->seaborn) (2024.1)\r\n",
      "Requirement already satisfied: pytz>=2020.1 in /Library/Frameworks/Python.framework/Versions/3.9/lib/python3.9/site-packages (from pandas>=1.2->seaborn) (2024.1)\r\n",
      "Requirement already satisfied: zipp>=3.1.0; python_version < \"3.10\" in /Library/Frameworks/Python.framework/Versions/3.9/lib/python3.9/site-packages (from importlib-resources>=3.2.0; python_version < \"3.10\"->matplotlib!=3.6.1,>=3.4->seaborn) (3.17.0)\r\n",
      "Requirement already satisfied: six>=1.5 in /Library/Frameworks/Python.framework/Versions/3.9/lib/python3.9/site-packages (from python-dateutil>=2.7->matplotlib!=3.6.1,>=3.4->seaborn) (1.16.0)\r\n",
      "\u001B[33mWARNING: You are using pip version 20.2.3; however, version 24.0 is available.\r\n",
      "You should consider upgrading via the '/usr/local/bin/python3.9 -m pip install --upgrade pip' command.\u001B[0m\r\n",
      "Note: you may need to restart the kernel to use updated packages.\n"
     ]
    }
   ],
   "source": [
    "pip install seaborn"
   ],
   "metadata": {
    "collapsed": false,
    "ExecuteTime": {
     "end_time": "2024-03-05T07:52:06.809740Z",
     "start_time": "2024-03-05T07:52:02.891052Z"
    }
   }
  },
  {
   "cell_type": "code",
   "execution_count": 45,
   "outputs": [
    {
     "name": "stdout",
     "output_type": "stream",
     "text": [
      "Requirement already satisfied: numpy in /Library/Frameworks/Python.framework/Versions/3.9/lib/python3.9/site-packages (1.26.4)\r\n",
      "\u001B[33mWARNING: You are using pip version 20.2.3; however, version 24.0 is available.\r\n",
      "You should consider upgrading via the '/usr/local/bin/python3.9 -m pip install --upgrade pip' command.\u001B[0m\r\n",
      "Note: you may need to restart the kernel to use updated packages.\n"
     ]
    }
   ],
   "source": [
    "pip install numpy "
   ],
   "metadata": {
    "collapsed": false,
    "ExecuteTime": {
     "end_time": "2024-03-05T07:58:38.268044Z",
     "start_time": "2024-03-05T07:58:34.195199Z"
    }
   }
  },
  {
   "cell_type": "code",
   "execution_count": 3,
   "metadata": {
    "ExecuteTime": {
     "end_time": "2024-03-06T10:09:29.410862Z",
     "start_time": "2024-03-06T10:09:29.338157Z"
    }
   },
   "outputs": [],
   "source": [
    "import pandas as pd"
   ]
  },
  {
   "cell_type": "code",
   "execution_count": 6,
   "outputs": [],
   "source": [
    "#Monthly_reurn include 278 months and 2051 firms (rows)\n",
    "monthly_return_index_path = '/Users/camillevermenouze/Documents/SMTS2/SEF/ESG_Scores/DS_RI_T_USD_M.xlsx'  # Replace with your Excel file name\n",
    "df_monthly_ri = pd.read_excel(monthly_return_index_path)\n",
    "\n",
    "\n",
    "\n",
    "#Monthly_capitalization include 278 months and 2051 firms \n",
    "monthly_capitalization_path = '/Users/camillevermenouze/Documents/SMTS2/SEF/ESG_Scores/DS_MV_USD_M.xlsx'  # Replace with your Excel file name\n",
    "df_monthly_capitalization = pd.read_excel(monthly_capitalization_path)\n",
    "\n",
    "\n",
    "\n",
    "#M ountry to region data\n",
    "region_path = '/Users/camillevermenouze/Documents/SMTS2/SEF/CountriesToRegions.xlsx'  # Replace with your Excel file name\n",
    "df_region = pd.read_excel(region_path)"
   ],
   "metadata": {
    "collapsed": false,
    "ExecuteTime": {
     "end_time": "2024-03-05T07:42:25.514491Z",
     "start_time": "2024-03-05T07:42:02.915564Z"
    }
   }
  },
  {
   "cell_type": "code",
   "execution_count": 7,
   "outputs": [
    {
     "data": {
      "text/plain": "            % AMER: Cnada + USA               Unnamed: 1 Unnamed: 2\n0    % FRON: Frontier countries                      NaN        NaN\n1    % SA: Standalone countries                      NaN        NaN\n2        % EM: Emerging markets                      NaN        NaN\n3                           NaN                      NaN        NaN\n4                          Code                     Name     Region\n..                          ...                      ...        ...\n97                           US            UNITED STATES       AMER\n98                           VI  VIRGIN ISLANDS, BRITISH      Other\n99                           VN                VIET NAM        FRON\n100                          ZA            SOUTH AFRICA          EM\n101                          ZM                ZIMBABWE          SA\n\n[102 rows x 3 columns]",
      "text/html": "<div>\n<style scoped>\n    .dataframe tbody tr th:only-of-type {\n        vertical-align: middle;\n    }\n\n    .dataframe tbody tr th {\n        vertical-align: top;\n    }\n\n    .dataframe thead th {\n        text-align: right;\n    }\n</style>\n<table border=\"1\" class=\"dataframe\">\n  <thead>\n    <tr style=\"text-align: right;\">\n      <th></th>\n      <th>% AMER: Cnada + USA</th>\n      <th>Unnamed: 1</th>\n      <th>Unnamed: 2</th>\n    </tr>\n  </thead>\n  <tbody>\n    <tr>\n      <th>0</th>\n      <td>% FRON: Frontier countries</td>\n      <td>NaN</td>\n      <td>NaN</td>\n    </tr>\n    <tr>\n      <th>1</th>\n      <td>% SA: Standalone countries</td>\n      <td>NaN</td>\n      <td>NaN</td>\n    </tr>\n    <tr>\n      <th>2</th>\n      <td>% EM: Emerging markets</td>\n      <td>NaN</td>\n      <td>NaN</td>\n    </tr>\n    <tr>\n      <th>3</th>\n      <td>NaN</td>\n      <td>NaN</td>\n      <td>NaN</td>\n    </tr>\n    <tr>\n      <th>4</th>\n      <td>Code</td>\n      <td>Name</td>\n      <td>Region</td>\n    </tr>\n    <tr>\n      <th>...</th>\n      <td>...</td>\n      <td>...</td>\n      <td>...</td>\n    </tr>\n    <tr>\n      <th>97</th>\n      <td>US</td>\n      <td>UNITED STATES</td>\n      <td>AMER</td>\n    </tr>\n    <tr>\n      <th>98</th>\n      <td>VI</td>\n      <td>VIRGIN ISLANDS, BRITISH</td>\n      <td>Other</td>\n    </tr>\n    <tr>\n      <th>99</th>\n      <td>VN</td>\n      <td>VIET NAM</td>\n      <td>FRON</td>\n    </tr>\n    <tr>\n      <th>100</th>\n      <td>ZA</td>\n      <td>SOUTH AFRICA</td>\n      <td>EM</td>\n    </tr>\n    <tr>\n      <th>101</th>\n      <td>ZM</td>\n      <td>ZIMBABWE</td>\n      <td>SA</td>\n    </tr>\n  </tbody>\n</table>\n<p>102 rows × 3 columns</p>\n</div>"
     },
     "execution_count": 7,
     "metadata": {},
     "output_type": "execute_result"
    }
   ],
   "source": [
    "df_region"
   ],
   "metadata": {
    "collapsed": false,
    "ExecuteTime": {
     "end_time": "2024-03-05T07:42:25.581310Z",
     "start_time": "2024-03-05T07:42:25.521239Z"
    }
   }
  },
  {
   "cell_type": "code",
   "execution_count": 8,
   "outputs": [
    {
     "name": "stdout",
     "output_type": "stream",
     "text": [
      "   ISIN_First2       Unnamed: 1 Unnamed: 2\n",
      "7           AT          AUSTRIA        EUR\n",
      "11          BE          BELGIUM        EUR\n",
      "19          CH      SWITZERLAND        EUR\n",
      "26          DE          GERMANY        EUR\n",
      "27          DK          DENMARK        EUR\n",
      "30          ES            SPAIN        EUR\n",
      "31          FI          FINLAND        EUR\n",
      "32          FR          FRANCE         EUR\n",
      "33          GB  UNITED KINGDOM         EUR\n",
      "43          IE          IRELAND        EUR\n",
      "44          IL          ISRAEL         EUR\n",
      "48          IT            ITALY        EUR\n",
      "71          NL      NETHERLANDS        EUR\n",
      "72          NO          NORWAY         EUR\n",
      "80          PT        PORTUGAL         EUR\n",
      "87          SE          SWEDEN         EUR\n"
     ]
    }
   ],
   "source": [
    "#let's  keep only the EUR contries\n",
    "\n",
    "df_region.drop(index=[0,1,2,3], inplace= True )\n",
    "\n",
    "df_EUR = df_region[df_region['Unnamed: 2'] == 'EUR']\n",
    "\n",
    "#Rename the column so we can merge later\n",
    "df_EUR = df_EUR.rename(columns={'% AMER: Cnada + USA' : 'ISIN_First2'})\n",
    "\n",
    "print(df_EUR)"
   ],
   "metadata": {
    "collapsed": false,
    "ExecuteTime": {
     "end_time": "2024-03-05T07:42:25.599842Z",
     "start_time": "2024-03-05T07:42:25.568164Z"
    }
   }
  },
  {
   "cell_type": "code",
   "execution_count": 9,
   "outputs": [
    {
     "data": {
      "text/plain": "           ISIN                                NAME  2000-01-31 00:00:00  \\\n0  AN8068571086                        SCHLUMBERGER              1858.26   \n1  ARALUA010258                               ALUAR              1820.11   \n2  ARP125991090                  BBVA BANCO FRANCES               396.54   \n3  ARSIDE010029  TERNIUM ARGENTINA SOCIEDAD ANONIMA               177.53   \n4  AT00000VIE62                      FLUGHAFEN WIEN               156.25   \n\n   2000-02-29 00:00:00  2000-03-31 00:00:00  2000-04-30 00:00:00  \\\n0              2254.15              2334.75              2336.65   \n1              1911.12              1866.11              1835.93   \n2               467.49               418.37               350.66   \n3               184.55               184.16               171.05   \n4               153.83               158.62               137.27   \n\n   2000-05-31 00:00:00  2000-06-30 00:00:00  2000-07-31 00:00:00  \\\n0              2245.09              2283.70              2262.67   \n1              1805.22              1657.42              1911.95   \n2               352.52               401.75               404.48   \n3               112.65               120.55               124.93   \n4               148.95               159.68               151.08   \n\n   2000-08-31 00:00:00  ...  2022-04-30 00:00:00  2022-05-31 00:00:00  \\\n0              2610.77  ...              3603.19              4261.29   \n1              1982.99  ...              4024.78              3845.16   \n2               398.47  ...               185.10               185.83   \n3               137.21  ...              1141.96              1055.43   \n4               153.35  ...              1044.97              1035.49   \n\n   2022-06-30 00:00:00  2022-07-31 00:00:00  2022-08-31 00:00:00  \\\n0              3315.58              3433.33              3537.17   \n1              3472.87              5651.92              5459.78   \n2               170.00               224.44               242.69   \n3              1025.82              1373.67              1428.06   \n4              1258.39              1229.26              1215.93   \n\n   2022-09-30 00:00:00  2022-10-31 00:00:00  2022-11-30 00:00:00  \\\n0              3344.15              4846.68              4801.97   \n1              4847.48              4827.59              5377.66   \n2               242.21               225.97               240.64   \n3              1263.78              1286.25              1257.52   \n4              1190.06              1198.76              1248.90   \n\n   2022-12-31 00:00:00  ISIN_First2  \n0              4997.02           AN  \n1              5524.11           AR  \n2               299.57           AR  \n3              1463.58           AR  \n4              1269.03           AT  \n\n[5 rows x 279 columns]",
      "text/html": "<div>\n<style scoped>\n    .dataframe tbody tr th:only-of-type {\n        vertical-align: middle;\n    }\n\n    .dataframe tbody tr th {\n        vertical-align: top;\n    }\n\n    .dataframe thead th {\n        text-align: right;\n    }\n</style>\n<table border=\"1\" class=\"dataframe\">\n  <thead>\n    <tr style=\"text-align: right;\">\n      <th></th>\n      <th>ISIN</th>\n      <th>NAME</th>\n      <th>2000-01-31 00:00:00</th>\n      <th>2000-02-29 00:00:00</th>\n      <th>2000-03-31 00:00:00</th>\n      <th>2000-04-30 00:00:00</th>\n      <th>2000-05-31 00:00:00</th>\n      <th>2000-06-30 00:00:00</th>\n      <th>2000-07-31 00:00:00</th>\n      <th>2000-08-31 00:00:00</th>\n      <th>...</th>\n      <th>2022-04-30 00:00:00</th>\n      <th>2022-05-31 00:00:00</th>\n      <th>2022-06-30 00:00:00</th>\n      <th>2022-07-31 00:00:00</th>\n      <th>2022-08-31 00:00:00</th>\n      <th>2022-09-30 00:00:00</th>\n      <th>2022-10-31 00:00:00</th>\n      <th>2022-11-30 00:00:00</th>\n      <th>2022-12-31 00:00:00</th>\n      <th>ISIN_First2</th>\n    </tr>\n  </thead>\n  <tbody>\n    <tr>\n      <th>0</th>\n      <td>AN8068571086</td>\n      <td>SCHLUMBERGER</td>\n      <td>1858.26</td>\n      <td>2254.15</td>\n      <td>2334.75</td>\n      <td>2336.65</td>\n      <td>2245.09</td>\n      <td>2283.70</td>\n      <td>2262.67</td>\n      <td>2610.77</td>\n      <td>...</td>\n      <td>3603.19</td>\n      <td>4261.29</td>\n      <td>3315.58</td>\n      <td>3433.33</td>\n      <td>3537.17</td>\n      <td>3344.15</td>\n      <td>4846.68</td>\n      <td>4801.97</td>\n      <td>4997.02</td>\n      <td>AN</td>\n    </tr>\n    <tr>\n      <th>1</th>\n      <td>ARALUA010258</td>\n      <td>ALUAR</td>\n      <td>1820.11</td>\n      <td>1911.12</td>\n      <td>1866.11</td>\n      <td>1835.93</td>\n      <td>1805.22</td>\n      <td>1657.42</td>\n      <td>1911.95</td>\n      <td>1982.99</td>\n      <td>...</td>\n      <td>4024.78</td>\n      <td>3845.16</td>\n      <td>3472.87</td>\n      <td>5651.92</td>\n      <td>5459.78</td>\n      <td>4847.48</td>\n      <td>4827.59</td>\n      <td>5377.66</td>\n      <td>5524.11</td>\n      <td>AR</td>\n    </tr>\n    <tr>\n      <th>2</th>\n      <td>ARP125991090</td>\n      <td>BBVA BANCO FRANCES</td>\n      <td>396.54</td>\n      <td>467.49</td>\n      <td>418.37</td>\n      <td>350.66</td>\n      <td>352.52</td>\n      <td>401.75</td>\n      <td>404.48</td>\n      <td>398.47</td>\n      <td>...</td>\n      <td>185.10</td>\n      <td>185.83</td>\n      <td>170.00</td>\n      <td>224.44</td>\n      <td>242.69</td>\n      <td>242.21</td>\n      <td>225.97</td>\n      <td>240.64</td>\n      <td>299.57</td>\n      <td>AR</td>\n    </tr>\n    <tr>\n      <th>3</th>\n      <td>ARSIDE010029</td>\n      <td>TERNIUM ARGENTINA SOCIEDAD ANONIMA</td>\n      <td>177.53</td>\n      <td>184.55</td>\n      <td>184.16</td>\n      <td>171.05</td>\n      <td>112.65</td>\n      <td>120.55</td>\n      <td>124.93</td>\n      <td>137.21</td>\n      <td>...</td>\n      <td>1141.96</td>\n      <td>1055.43</td>\n      <td>1025.82</td>\n      <td>1373.67</td>\n      <td>1428.06</td>\n      <td>1263.78</td>\n      <td>1286.25</td>\n      <td>1257.52</td>\n      <td>1463.58</td>\n      <td>AR</td>\n    </tr>\n    <tr>\n      <th>4</th>\n      <td>AT00000VIE62</td>\n      <td>FLUGHAFEN WIEN</td>\n      <td>156.25</td>\n      <td>153.83</td>\n      <td>158.62</td>\n      <td>137.27</td>\n      <td>148.95</td>\n      <td>159.68</td>\n      <td>151.08</td>\n      <td>153.35</td>\n      <td>...</td>\n      <td>1044.97</td>\n      <td>1035.49</td>\n      <td>1258.39</td>\n      <td>1229.26</td>\n      <td>1215.93</td>\n      <td>1190.06</td>\n      <td>1198.76</td>\n      <td>1248.90</td>\n      <td>1269.03</td>\n      <td>AT</td>\n    </tr>\n  </tbody>\n</table>\n<p>5 rows × 279 columns</p>\n</div>"
     },
     "execution_count": 9,
     "metadata": {},
     "output_type": "execute_result"
    }
   ],
   "source": [
    "#Now merged with the two dataset \n",
    "#First step we need to create a new columns with only the 2 first characters of the columns ISIN\n",
    "\n",
    "#First with the return data \n",
    "\n",
    "df_monthly_ri['ISIN_First2'] = df_monthly_ri ['ISIN'].str[:2]\n",
    "df_monthly_ri.head()"
   ],
   "metadata": {
    "collapsed": false,
    "ExecuteTime": {
     "end_time": "2024-03-05T07:42:26.039374Z",
     "start_time": "2024-03-05T07:42:25.630336Z"
    }
   }
  },
  {
   "cell_type": "code",
   "execution_count": 10,
   "outputs": [
    {
     "data": {
      "text/plain": "           ISIN                                NAME  2000-01-31 00:00:00  \\\n0  AN8068571086                        SCHLUMBERGER             33574.85   \n1  ARALUA010258                               ALUAR              1328.64   \n2  ARP125991090                  BBVA BANCO FRANCES              1570.39   \n3  ARSIDE010029  TERNIUM ARGENTINA SOCIEDAD ANONIMA              1407.47   \n4  AT00000VIE62                      FLUGHAFEN WIEN               567.85   \n\n   2000-02-29 00:00:00  2000-03-31 00:00:00  2000-04-30 00:00:00  \\\n0             40611.13             43352.43             43387.86   \n1              1395.07              1362.23              1340.19   \n2              1851.34              1656.82              1388.70   \n3              1463.08              1460.01              1356.04   \n4               559.05               576.48               498.86   \n\n   2000-05-31 00:00:00  2000-06-30 00:00:00  2000-07-31 00:00:00  \\\n0             41861.39             42466.02             42074.79   \n1              1317.78              1209.89              1395.69   \n2              1352.22              1541.05              1551.54   \n3               893.05               955.70               990.45   \n4               517.64               554.94               525.07   \n\n   2000-08-31 00:00:00  ...  2022-04-30 00:00:00  2022-05-31 00:00:00  \\\n0             48547.80  ...             55139.08             64962.64   \n1              1447.55  ...              2195.00              2097.04   \n2              1528.48  ...              1081.26              1085.52   \n3              1087.76  ...              4778.90              4416.77   \n4               532.96  ...              2388.16              2366.48   \n\n   2022-06-30 00:00:00  2022-07-31 00:00:00  2022-08-31 00:00:00  \\\n0             50578.51             52374.81             53958.90   \n1              1894.01              3013.90              2911.44   \n2               993.08              1227.99              1318.36   \n3              4292.86              5748.56              5673.71   \n4              2875.89              2809.31              2778.87   \n\n   2022-09-30 00:00:00  2022-10-31 00:00:00  2022-11-30 00:00:00  \\\n0             50906.19             73778.56             73097.94   \n1              2584.93              2574.33              2778.90   \n2              1308.06              1206.71              1285.05   \n3              5021.04              5110.32              4996.17   \n4              2719.75              2739.62              2854.20   \n\n   2022-12-31 00:00:00  ISIN_First2  \n0             75806.25           AN  \n1              2853.52           AR  \n2              1591.32           AR  \n3              5814.86           AR  \n4              2900.21           AT  \n\n[5 rows x 279 columns]",
      "text/html": "<div>\n<style scoped>\n    .dataframe tbody tr th:only-of-type {\n        vertical-align: middle;\n    }\n\n    .dataframe tbody tr th {\n        vertical-align: top;\n    }\n\n    .dataframe thead th {\n        text-align: right;\n    }\n</style>\n<table border=\"1\" class=\"dataframe\">\n  <thead>\n    <tr style=\"text-align: right;\">\n      <th></th>\n      <th>ISIN</th>\n      <th>NAME</th>\n      <th>2000-01-31 00:00:00</th>\n      <th>2000-02-29 00:00:00</th>\n      <th>2000-03-31 00:00:00</th>\n      <th>2000-04-30 00:00:00</th>\n      <th>2000-05-31 00:00:00</th>\n      <th>2000-06-30 00:00:00</th>\n      <th>2000-07-31 00:00:00</th>\n      <th>2000-08-31 00:00:00</th>\n      <th>...</th>\n      <th>2022-04-30 00:00:00</th>\n      <th>2022-05-31 00:00:00</th>\n      <th>2022-06-30 00:00:00</th>\n      <th>2022-07-31 00:00:00</th>\n      <th>2022-08-31 00:00:00</th>\n      <th>2022-09-30 00:00:00</th>\n      <th>2022-10-31 00:00:00</th>\n      <th>2022-11-30 00:00:00</th>\n      <th>2022-12-31 00:00:00</th>\n      <th>ISIN_First2</th>\n    </tr>\n  </thead>\n  <tbody>\n    <tr>\n      <th>0</th>\n      <td>AN8068571086</td>\n      <td>SCHLUMBERGER</td>\n      <td>33574.85</td>\n      <td>40611.13</td>\n      <td>43352.43</td>\n      <td>43387.86</td>\n      <td>41861.39</td>\n      <td>42466.02</td>\n      <td>42074.79</td>\n      <td>48547.80</td>\n      <td>...</td>\n      <td>55139.08</td>\n      <td>64962.64</td>\n      <td>50578.51</td>\n      <td>52374.81</td>\n      <td>53958.90</td>\n      <td>50906.19</td>\n      <td>73778.56</td>\n      <td>73097.94</td>\n      <td>75806.25</td>\n      <td>AN</td>\n    </tr>\n    <tr>\n      <th>1</th>\n      <td>ARALUA010258</td>\n      <td>ALUAR</td>\n      <td>1328.64</td>\n      <td>1395.07</td>\n      <td>1362.23</td>\n      <td>1340.19</td>\n      <td>1317.78</td>\n      <td>1209.89</td>\n      <td>1395.69</td>\n      <td>1447.55</td>\n      <td>...</td>\n      <td>2195.00</td>\n      <td>2097.04</td>\n      <td>1894.01</td>\n      <td>3013.90</td>\n      <td>2911.44</td>\n      <td>2584.93</td>\n      <td>2574.33</td>\n      <td>2778.90</td>\n      <td>2853.52</td>\n      <td>AR</td>\n    </tr>\n    <tr>\n      <th>2</th>\n      <td>ARP125991090</td>\n      <td>BBVA BANCO FRANCES</td>\n      <td>1570.39</td>\n      <td>1851.34</td>\n      <td>1656.82</td>\n      <td>1388.70</td>\n      <td>1352.22</td>\n      <td>1541.05</td>\n      <td>1551.54</td>\n      <td>1528.48</td>\n      <td>...</td>\n      <td>1081.26</td>\n      <td>1085.52</td>\n      <td>993.08</td>\n      <td>1227.99</td>\n      <td>1318.36</td>\n      <td>1308.06</td>\n      <td>1206.71</td>\n      <td>1285.05</td>\n      <td>1591.32</td>\n      <td>AR</td>\n    </tr>\n    <tr>\n      <th>3</th>\n      <td>ARSIDE010029</td>\n      <td>TERNIUM ARGENTINA SOCIEDAD ANONIMA</td>\n      <td>1407.47</td>\n      <td>1463.08</td>\n      <td>1460.01</td>\n      <td>1356.04</td>\n      <td>893.05</td>\n      <td>955.70</td>\n      <td>990.45</td>\n      <td>1087.76</td>\n      <td>...</td>\n      <td>4778.90</td>\n      <td>4416.77</td>\n      <td>4292.86</td>\n      <td>5748.56</td>\n      <td>5673.71</td>\n      <td>5021.04</td>\n      <td>5110.32</td>\n      <td>4996.17</td>\n      <td>5814.86</td>\n      <td>AR</td>\n    </tr>\n    <tr>\n      <th>4</th>\n      <td>AT00000VIE62</td>\n      <td>FLUGHAFEN WIEN</td>\n      <td>567.85</td>\n      <td>559.05</td>\n      <td>576.48</td>\n      <td>498.86</td>\n      <td>517.64</td>\n      <td>554.94</td>\n      <td>525.07</td>\n      <td>532.96</td>\n      <td>...</td>\n      <td>2388.16</td>\n      <td>2366.48</td>\n      <td>2875.89</td>\n      <td>2809.31</td>\n      <td>2778.87</td>\n      <td>2719.75</td>\n      <td>2739.62</td>\n      <td>2854.20</td>\n      <td>2900.21</td>\n      <td>AT</td>\n    </tr>\n  </tbody>\n</table>\n<p>5 rows × 279 columns</p>\n</div>"
     },
     "execution_count": 10,
     "metadata": {},
     "output_type": "execute_result"
    }
   ],
   "source": [
    "#With the capitalization now\n",
    "df_monthly_capitalization['ISIN_First2'] = df_monthly_capitalization ['ISIN'].str[:2]\n",
    "df_monthly_capitalization.head()"
   ],
   "metadata": {
    "collapsed": false,
    "ExecuteTime": {
     "end_time": "2024-03-05T07:42:26.123064Z",
     "start_time": "2024-03-05T07:42:25.663038Z"
    }
   }
  },
  {
   "cell_type": "code",
   "execution_count": 11,
   "outputs": [],
   "source": [
    "#Second step we merge the data set with the region, keeping only the one matching the EUR countries\n",
    "df_EUR_monthly_capitalization = pd.merge(df_EUR,  df_monthly_capitalization, on='ISIN_First2', how='inner')\n",
    "df_EUR_monthly_ri = pd.merge(df_EUR,  df_monthly_ri, on='ISIN_First2', how='inner')"
   ],
   "metadata": {
    "collapsed": false,
    "ExecuteTime": {
     "end_time": "2024-03-05T07:42:26.213120Z",
     "start_time": "2024-03-05T07:42:25.747632Z"
    }
   }
  },
  {
   "cell_type": "code",
   "execution_count": 12,
   "outputs": [
    {
     "data": {
      "text/plain": "  ISIN_First2 Unnamed: 1 Unnamed: 2          ISIN              NAME  \\\n0          AT    AUSTRIA        EUR  AT00000VIE62    FLUGHAFEN WIEN   \n1          AT    AUSTRIA        EUR  AT0000652011  ERSTE GROUP BANK   \n2          AT    AUSTRIA        EUR  AT0000743059               OMV   \n3          AT    AUSTRIA        EUR  AT0000746409           VERBUND   \n4          AT    AUSTRIA        EUR  AT0000831706      WIENERBERGER   \n\n   2000-01-31 00:00:00  2000-02-29 00:00:00  2000-03-31 00:00:00  \\\n0               567.85               559.05               576.48   \n1              1803.98              1857.91              1910.40   \n2              2583.84              2113.74              2065.10   \n3              1655.07              1781.21              1618.73   \n4              1386.43              1283.95              1428.44   \n\n   2000-04-30 00:00:00  2000-05-31 00:00:00  ...  2022-03-31 00:00:00  \\\n0               498.86               517.64  ...              2453.36   \n1              1827.24              1810.26  ...             15823.98   \n2              2223.10              2305.32  ...             15799.81   \n3              1446.45              1554.72  ...             18088.45   \n4              1487.43              1567.26  ...              3511.64   \n\n   2022-04-30 00:00:00  2022-05-31 00:00:00  2022-06-30 00:00:00  \\\n0              2388.16              2366.48              2875.89   \n1             13448.16             13356.15             10873.35   \n2             16951.82             19071.10             15313.75   \n3             18353.60             16894.99             16612.75   \n4              3280.93              3173.55              2466.15   \n\n   2022-07-31 00:00:00  2022-08-31 00:00:00  2022-09-30 00:00:00  \\\n0              2809.31              2778.87              2719.75   \n1             10824.56              9715.28              9532.79   \n2             13821.87             13255.37             11981.47   \n3             18659.53             16321.45             14584.20   \n4              2635.59              2703.34              2324.62   \n\n   2022-10-31 00:00:00  2022-11-30 00:00:00  2022-12-31 00:00:00  \n0              2739.62              2854.20              2900.21  \n1             10602.50             13099.32             13715.54  \n2             15085.69             16902.76             16800.81  \n3             13333.42             15082.96             14289.58  \n4              2634.32              2896.84              2690.25  \n\n[5 rows x 281 columns]",
      "text/html": "<div>\n<style scoped>\n    .dataframe tbody tr th:only-of-type {\n        vertical-align: middle;\n    }\n\n    .dataframe tbody tr th {\n        vertical-align: top;\n    }\n\n    .dataframe thead th {\n        text-align: right;\n    }\n</style>\n<table border=\"1\" class=\"dataframe\">\n  <thead>\n    <tr style=\"text-align: right;\">\n      <th></th>\n      <th>ISIN_First2</th>\n      <th>Unnamed: 1</th>\n      <th>Unnamed: 2</th>\n      <th>ISIN</th>\n      <th>NAME</th>\n      <th>2000-01-31 00:00:00</th>\n      <th>2000-02-29 00:00:00</th>\n      <th>2000-03-31 00:00:00</th>\n      <th>2000-04-30 00:00:00</th>\n      <th>2000-05-31 00:00:00</th>\n      <th>...</th>\n      <th>2022-03-31 00:00:00</th>\n      <th>2022-04-30 00:00:00</th>\n      <th>2022-05-31 00:00:00</th>\n      <th>2022-06-30 00:00:00</th>\n      <th>2022-07-31 00:00:00</th>\n      <th>2022-08-31 00:00:00</th>\n      <th>2022-09-30 00:00:00</th>\n      <th>2022-10-31 00:00:00</th>\n      <th>2022-11-30 00:00:00</th>\n      <th>2022-12-31 00:00:00</th>\n    </tr>\n  </thead>\n  <tbody>\n    <tr>\n      <th>0</th>\n      <td>AT</td>\n      <td>AUSTRIA</td>\n      <td>EUR</td>\n      <td>AT00000VIE62</td>\n      <td>FLUGHAFEN WIEN</td>\n      <td>567.85</td>\n      <td>559.05</td>\n      <td>576.48</td>\n      <td>498.86</td>\n      <td>517.64</td>\n      <td>...</td>\n      <td>2453.36</td>\n      <td>2388.16</td>\n      <td>2366.48</td>\n      <td>2875.89</td>\n      <td>2809.31</td>\n      <td>2778.87</td>\n      <td>2719.75</td>\n      <td>2739.62</td>\n      <td>2854.20</td>\n      <td>2900.21</td>\n    </tr>\n    <tr>\n      <th>1</th>\n      <td>AT</td>\n      <td>AUSTRIA</td>\n      <td>EUR</td>\n      <td>AT0000652011</td>\n      <td>ERSTE GROUP BANK</td>\n      <td>1803.98</td>\n      <td>1857.91</td>\n      <td>1910.40</td>\n      <td>1827.24</td>\n      <td>1810.26</td>\n      <td>...</td>\n      <td>15823.98</td>\n      <td>13448.16</td>\n      <td>13356.15</td>\n      <td>10873.35</td>\n      <td>10824.56</td>\n      <td>9715.28</td>\n      <td>9532.79</td>\n      <td>10602.50</td>\n      <td>13099.32</td>\n      <td>13715.54</td>\n    </tr>\n    <tr>\n      <th>2</th>\n      <td>AT</td>\n      <td>AUSTRIA</td>\n      <td>EUR</td>\n      <td>AT0000743059</td>\n      <td>OMV</td>\n      <td>2583.84</td>\n      <td>2113.74</td>\n      <td>2065.10</td>\n      <td>2223.10</td>\n      <td>2305.32</td>\n      <td>...</td>\n      <td>15799.81</td>\n      <td>16951.82</td>\n      <td>19071.10</td>\n      <td>15313.75</td>\n      <td>13821.87</td>\n      <td>13255.37</td>\n      <td>11981.47</td>\n      <td>15085.69</td>\n      <td>16902.76</td>\n      <td>16800.81</td>\n    </tr>\n    <tr>\n      <th>3</th>\n      <td>AT</td>\n      <td>AUSTRIA</td>\n      <td>EUR</td>\n      <td>AT0000746409</td>\n      <td>VERBUND</td>\n      <td>1655.07</td>\n      <td>1781.21</td>\n      <td>1618.73</td>\n      <td>1446.45</td>\n      <td>1554.72</td>\n      <td>...</td>\n      <td>18088.45</td>\n      <td>18353.60</td>\n      <td>16894.99</td>\n      <td>16612.75</td>\n      <td>18659.53</td>\n      <td>16321.45</td>\n      <td>14584.20</td>\n      <td>13333.42</td>\n      <td>15082.96</td>\n      <td>14289.58</td>\n    </tr>\n    <tr>\n      <th>4</th>\n      <td>AT</td>\n      <td>AUSTRIA</td>\n      <td>EUR</td>\n      <td>AT0000831706</td>\n      <td>WIENERBERGER</td>\n      <td>1386.43</td>\n      <td>1283.95</td>\n      <td>1428.44</td>\n      <td>1487.43</td>\n      <td>1567.26</td>\n      <td>...</td>\n      <td>3511.64</td>\n      <td>3280.93</td>\n      <td>3173.55</td>\n      <td>2466.15</td>\n      <td>2635.59</td>\n      <td>2703.34</td>\n      <td>2324.62</td>\n      <td>2634.32</td>\n      <td>2896.84</td>\n      <td>2690.25</td>\n    </tr>\n  </tbody>\n</table>\n<p>5 rows × 281 columns</p>\n</div>"
     },
     "execution_count": 12,
     "metadata": {},
     "output_type": "execute_result"
    }
   ],
   "source": [
    "df_EUR_monthly_capitalization.head()"
   ],
   "metadata": {
    "collapsed": false,
    "ExecuteTime": {
     "end_time": "2024-03-05T07:42:26.271044Z",
     "start_time": "2024-03-05T07:42:25.781223Z"
    }
   }
  },
  {
   "cell_type": "code",
   "execution_count": 13,
   "outputs": [
    {
     "data": {
      "text/plain": "  ISIN_First2 Unnamed: 1 Unnamed: 2          ISIN              NAME  \\\n0          AT    AUSTRIA        EUR  AT00000VIE62    FLUGHAFEN WIEN   \n1          AT    AUSTRIA        EUR  AT0000652011  ERSTE GROUP BANK   \n2          AT    AUSTRIA        EUR  AT0000743059               OMV   \n3          AT    AUSTRIA        EUR  AT0000746409           VERBUND   \n4          AT    AUSTRIA        EUR  AT0000831706      WIENERBERGER   \n\n   2000-01-31 00:00:00  2000-02-29 00:00:00  2000-03-31 00:00:00  \\\n0               156.25               153.83               158.62   \n1                94.91                97.74               100.50   \n2               389.64               318.75               311.41   \n3               524.60               564.59               518.56   \n4              2379.46              2203.58              2451.55   \n\n   2000-04-30 00:00:00  2000-05-31 00:00:00  ...  2022-03-31 00:00:00  \\\n0               137.27               148.95  ...              1073.50   \n1                96.13                97.86  ...               567.30   \n2               335.24               356.91  ...              4277.87   \n3               463.37               498.05  ...              8285.25   \n4              2552.81              2746.80  ...              6331.35   \n\n   2022-04-30 00:00:00  2022-05-31 00:00:00  2022-06-30 00:00:00  \\\n0              1044.97              1035.49              1258.39   \n1               482.13               504.75               410.92   \n2              4589.77              5163.58              4341.76   \n3              8406.71              7820.72              7690.07   \n4              5915.37              5895.80              4581.59   \n\n   2022-07-31 00:00:00  2022-08-31 00:00:00  2022-09-30 00:00:00  \\\n0              1229.26              1215.93              1190.06   \n1               409.07               367.15               360.26   \n2              3918.78              3758.17              3396.99   \n3              8637.53              7555.23              6751.05   \n4              4896.37              5022.24              4318.66   \n\n   2022-10-31 00:00:00  2022-11-30 00:00:00  2022-12-31 00:00:00  \n0              1198.76              1248.90              1269.03  \n1               400.68               495.04               518.33  \n2              4277.10              4792.28              4763.37  \n3              6172.06              6981.93              6614.67  \n4              4894.01              5548.18              5152.51  \n\n[5 rows x 281 columns]",
      "text/html": "<div>\n<style scoped>\n    .dataframe tbody tr th:only-of-type {\n        vertical-align: middle;\n    }\n\n    .dataframe tbody tr th {\n        vertical-align: top;\n    }\n\n    .dataframe thead th {\n        text-align: right;\n    }\n</style>\n<table border=\"1\" class=\"dataframe\">\n  <thead>\n    <tr style=\"text-align: right;\">\n      <th></th>\n      <th>ISIN_First2</th>\n      <th>Unnamed: 1</th>\n      <th>Unnamed: 2</th>\n      <th>ISIN</th>\n      <th>NAME</th>\n      <th>2000-01-31 00:00:00</th>\n      <th>2000-02-29 00:00:00</th>\n      <th>2000-03-31 00:00:00</th>\n      <th>2000-04-30 00:00:00</th>\n      <th>2000-05-31 00:00:00</th>\n      <th>...</th>\n      <th>2022-03-31 00:00:00</th>\n      <th>2022-04-30 00:00:00</th>\n      <th>2022-05-31 00:00:00</th>\n      <th>2022-06-30 00:00:00</th>\n      <th>2022-07-31 00:00:00</th>\n      <th>2022-08-31 00:00:00</th>\n      <th>2022-09-30 00:00:00</th>\n      <th>2022-10-31 00:00:00</th>\n      <th>2022-11-30 00:00:00</th>\n      <th>2022-12-31 00:00:00</th>\n    </tr>\n  </thead>\n  <tbody>\n    <tr>\n      <th>0</th>\n      <td>AT</td>\n      <td>AUSTRIA</td>\n      <td>EUR</td>\n      <td>AT00000VIE62</td>\n      <td>FLUGHAFEN WIEN</td>\n      <td>156.25</td>\n      <td>153.83</td>\n      <td>158.62</td>\n      <td>137.27</td>\n      <td>148.95</td>\n      <td>...</td>\n      <td>1073.50</td>\n      <td>1044.97</td>\n      <td>1035.49</td>\n      <td>1258.39</td>\n      <td>1229.26</td>\n      <td>1215.93</td>\n      <td>1190.06</td>\n      <td>1198.76</td>\n      <td>1248.90</td>\n      <td>1269.03</td>\n    </tr>\n    <tr>\n      <th>1</th>\n      <td>AT</td>\n      <td>AUSTRIA</td>\n      <td>EUR</td>\n      <td>AT0000652011</td>\n      <td>ERSTE GROUP BANK</td>\n      <td>94.91</td>\n      <td>97.74</td>\n      <td>100.50</td>\n      <td>96.13</td>\n      <td>97.86</td>\n      <td>...</td>\n      <td>567.30</td>\n      <td>482.13</td>\n      <td>504.75</td>\n      <td>410.92</td>\n      <td>409.07</td>\n      <td>367.15</td>\n      <td>360.26</td>\n      <td>400.68</td>\n      <td>495.04</td>\n      <td>518.33</td>\n    </tr>\n    <tr>\n      <th>2</th>\n      <td>AT</td>\n      <td>AUSTRIA</td>\n      <td>EUR</td>\n      <td>AT0000743059</td>\n      <td>OMV</td>\n      <td>389.64</td>\n      <td>318.75</td>\n      <td>311.41</td>\n      <td>335.24</td>\n      <td>356.91</td>\n      <td>...</td>\n      <td>4277.87</td>\n      <td>4589.77</td>\n      <td>5163.58</td>\n      <td>4341.76</td>\n      <td>3918.78</td>\n      <td>3758.17</td>\n      <td>3396.99</td>\n      <td>4277.10</td>\n      <td>4792.28</td>\n      <td>4763.37</td>\n    </tr>\n    <tr>\n      <th>3</th>\n      <td>AT</td>\n      <td>AUSTRIA</td>\n      <td>EUR</td>\n      <td>AT0000746409</td>\n      <td>VERBUND</td>\n      <td>524.60</td>\n      <td>564.59</td>\n      <td>518.56</td>\n      <td>463.37</td>\n      <td>498.05</td>\n      <td>...</td>\n      <td>8285.25</td>\n      <td>8406.71</td>\n      <td>7820.72</td>\n      <td>7690.07</td>\n      <td>8637.53</td>\n      <td>7555.23</td>\n      <td>6751.05</td>\n      <td>6172.06</td>\n      <td>6981.93</td>\n      <td>6614.67</td>\n    </tr>\n    <tr>\n      <th>4</th>\n      <td>AT</td>\n      <td>AUSTRIA</td>\n      <td>EUR</td>\n      <td>AT0000831706</td>\n      <td>WIENERBERGER</td>\n      <td>2379.46</td>\n      <td>2203.58</td>\n      <td>2451.55</td>\n      <td>2552.81</td>\n      <td>2746.80</td>\n      <td>...</td>\n      <td>6331.35</td>\n      <td>5915.37</td>\n      <td>5895.80</td>\n      <td>4581.59</td>\n      <td>4896.37</td>\n      <td>5022.24</td>\n      <td>4318.66</td>\n      <td>4894.01</td>\n      <td>5548.18</td>\n      <td>5152.51</td>\n    </tr>\n  </tbody>\n</table>\n<p>5 rows × 281 columns</p>\n</div>"
     },
     "execution_count": 13,
     "metadata": {},
     "output_type": "execute_result"
    }
   ],
   "source": [
    "df_EUR_monthly_ri.head()"
   ],
   "metadata": {
    "collapsed": false,
    "ExecuteTime": {
     "end_time": "2024-03-05T07:42:26.275327Z",
     "start_time": "2024-03-05T07:42:25.880156Z"
    }
   }
  },
  {
   "cell_type": "code",
   "execution_count": 14,
   "outputs": [],
   "source": [
    "df_EUR_monthly_capitalization.to_csv('/Users/camillevermenouze/Documents/SMTS2/SEF/df_EUR_monthly_capitalization.csv', index=False)\n",
    "df_EUR_monthly_ri.to_csv('/Users/camillevermenouze/Documents/SMTS2/SEF/df_EUR_monthly_return.csv', index=False)\n",
    "#We have now 508 firms with the data for 281 months"
   ],
   "metadata": {
    "collapsed": false,
    "ExecuteTime": {
     "end_time": "2024-03-05T07:42:26.712256Z",
     "start_time": "2024-03-05T07:42:25.903147Z"
    }
   }
  },
  {
   "cell_type": "markdown",
   "source": [
    "## IMPORT MONTHLY DATASET"
   ],
   "metadata": {
    "collapsed": false
   }
  },
  {
   "cell_type": "code",
   "execution_count": 1,
   "outputs": [],
   "source": [
    "import ssl\n",
    "\n",
    "ssl._create_default_https_context = ssl._create_unverified_context"
   ],
   "metadata": {
    "collapsed": false,
    "ExecuteTime": {
     "end_time": "2024-03-06T10:09:11.650934Z",
     "start_time": "2024-03-06T10:09:11.629606Z"
    }
   }
  },
  {
   "cell_type": "code",
   "execution_count": 4,
   "outputs": [],
   "source": [
    "urlmri = \"https://raw.githubusercontent.com/GiammarcoBozzelli/SEF/main/df_EUR_monthly_return.csv\"\n",
    "dfmri = pd.read_csv(urlmri)\n",
    "\n",
    "urlmcapitalization = \"https://raw.githubusercontent.com/GiammarcoBozzelli/SEF/main/df_EUR_monthly_capitalization.csv\"\n",
    "dfmcapitalization = pd.read_csv(urlmcapitalization)"
   ],
   "metadata": {
    "collapsed": false,
    "ExecuteTime": {
     "end_time": "2024-03-06T10:09:40.910121Z",
     "start_time": "2024-03-06T10:09:39.775217Z"
    }
   }
  },
  {
   "cell_type": "code",
   "execution_count": 5,
   "outputs": [
    {
     "data": {
      "text/plain": "  ISIN_First2 Unnamed: 1 Unnamed: 2          ISIN              NAME  \\\n0          AT    AUSTRIA        EUR  AT00000VIE62    FLUGHAFEN WIEN   \n1          AT    AUSTRIA        EUR  AT0000652011  ERSTE GROUP BANK   \n2          AT    AUSTRIA        EUR  AT0000743059               OMV   \n3          AT    AUSTRIA        EUR  AT0000746409           VERBUND   \n4          AT    AUSTRIA        EUR  AT0000831706      WIENERBERGER   \n\n   2000-01-31 00:00:00  2000-02-29 00:00:00  2000-03-31 00:00:00  \\\n0               156.25               153.83               158.62   \n1                94.91                97.74               100.50   \n2               389.64               318.75               311.41   \n3               524.60               564.59               518.56   \n4              2379.46              2203.58              2451.55   \n\n   2000-04-30 00:00:00  2000-05-31 00:00:00  ...  2022-03-31 00:00:00  \\\n0               137.27               148.95  ...              1073.50   \n1                96.13                97.86  ...               567.30   \n2               335.24               356.91  ...              4277.87   \n3               463.37               498.05  ...              8285.25   \n4              2552.81              2746.80  ...              6331.35   \n\n   2022-04-30 00:00:00  2022-05-31 00:00:00  2022-06-30 00:00:00  \\\n0              1044.97              1035.49              1258.39   \n1               482.13               504.75               410.92   \n2              4589.77              5163.58              4341.76   \n3              8406.71              7820.72              7690.07   \n4              5915.37              5895.80              4581.59   \n\n   2022-07-31 00:00:00  2022-08-31 00:00:00  2022-09-30 00:00:00  \\\n0              1229.26              1215.93              1190.06   \n1               409.07               367.15               360.26   \n2              3918.78              3758.17              3396.99   \n3              8637.53              7555.23              6751.05   \n4              4896.37              5022.24              4318.66   \n\n   2022-10-31 00:00:00  2022-11-30 00:00:00  2022-12-31 00:00:00  \n0              1198.76              1248.90              1269.03  \n1               400.68               495.04               518.33  \n2              4277.10              4792.28              4763.37  \n3              6172.06              6981.93              6614.67  \n4              4894.01              5548.18              5152.51  \n\n[5 rows x 281 columns]",
      "text/html": "<div>\n<style scoped>\n    .dataframe tbody tr th:only-of-type {\n        vertical-align: middle;\n    }\n\n    .dataframe tbody tr th {\n        vertical-align: top;\n    }\n\n    .dataframe thead th {\n        text-align: right;\n    }\n</style>\n<table border=\"1\" class=\"dataframe\">\n  <thead>\n    <tr style=\"text-align: right;\">\n      <th></th>\n      <th>ISIN_First2</th>\n      <th>Unnamed: 1</th>\n      <th>Unnamed: 2</th>\n      <th>ISIN</th>\n      <th>NAME</th>\n      <th>2000-01-31 00:00:00</th>\n      <th>2000-02-29 00:00:00</th>\n      <th>2000-03-31 00:00:00</th>\n      <th>2000-04-30 00:00:00</th>\n      <th>2000-05-31 00:00:00</th>\n      <th>...</th>\n      <th>2022-03-31 00:00:00</th>\n      <th>2022-04-30 00:00:00</th>\n      <th>2022-05-31 00:00:00</th>\n      <th>2022-06-30 00:00:00</th>\n      <th>2022-07-31 00:00:00</th>\n      <th>2022-08-31 00:00:00</th>\n      <th>2022-09-30 00:00:00</th>\n      <th>2022-10-31 00:00:00</th>\n      <th>2022-11-30 00:00:00</th>\n      <th>2022-12-31 00:00:00</th>\n    </tr>\n  </thead>\n  <tbody>\n    <tr>\n      <th>0</th>\n      <td>AT</td>\n      <td>AUSTRIA</td>\n      <td>EUR</td>\n      <td>AT00000VIE62</td>\n      <td>FLUGHAFEN WIEN</td>\n      <td>156.25</td>\n      <td>153.83</td>\n      <td>158.62</td>\n      <td>137.27</td>\n      <td>148.95</td>\n      <td>...</td>\n      <td>1073.50</td>\n      <td>1044.97</td>\n      <td>1035.49</td>\n      <td>1258.39</td>\n      <td>1229.26</td>\n      <td>1215.93</td>\n      <td>1190.06</td>\n      <td>1198.76</td>\n      <td>1248.90</td>\n      <td>1269.03</td>\n    </tr>\n    <tr>\n      <th>1</th>\n      <td>AT</td>\n      <td>AUSTRIA</td>\n      <td>EUR</td>\n      <td>AT0000652011</td>\n      <td>ERSTE GROUP BANK</td>\n      <td>94.91</td>\n      <td>97.74</td>\n      <td>100.50</td>\n      <td>96.13</td>\n      <td>97.86</td>\n      <td>...</td>\n      <td>567.30</td>\n      <td>482.13</td>\n      <td>504.75</td>\n      <td>410.92</td>\n      <td>409.07</td>\n      <td>367.15</td>\n      <td>360.26</td>\n      <td>400.68</td>\n      <td>495.04</td>\n      <td>518.33</td>\n    </tr>\n    <tr>\n      <th>2</th>\n      <td>AT</td>\n      <td>AUSTRIA</td>\n      <td>EUR</td>\n      <td>AT0000743059</td>\n      <td>OMV</td>\n      <td>389.64</td>\n      <td>318.75</td>\n      <td>311.41</td>\n      <td>335.24</td>\n      <td>356.91</td>\n      <td>...</td>\n      <td>4277.87</td>\n      <td>4589.77</td>\n      <td>5163.58</td>\n      <td>4341.76</td>\n      <td>3918.78</td>\n      <td>3758.17</td>\n      <td>3396.99</td>\n      <td>4277.10</td>\n      <td>4792.28</td>\n      <td>4763.37</td>\n    </tr>\n    <tr>\n      <th>3</th>\n      <td>AT</td>\n      <td>AUSTRIA</td>\n      <td>EUR</td>\n      <td>AT0000746409</td>\n      <td>VERBUND</td>\n      <td>524.60</td>\n      <td>564.59</td>\n      <td>518.56</td>\n      <td>463.37</td>\n      <td>498.05</td>\n      <td>...</td>\n      <td>8285.25</td>\n      <td>8406.71</td>\n      <td>7820.72</td>\n      <td>7690.07</td>\n      <td>8637.53</td>\n      <td>7555.23</td>\n      <td>6751.05</td>\n      <td>6172.06</td>\n      <td>6981.93</td>\n      <td>6614.67</td>\n    </tr>\n    <tr>\n      <th>4</th>\n      <td>AT</td>\n      <td>AUSTRIA</td>\n      <td>EUR</td>\n      <td>AT0000831706</td>\n      <td>WIENERBERGER</td>\n      <td>2379.46</td>\n      <td>2203.58</td>\n      <td>2451.55</td>\n      <td>2552.81</td>\n      <td>2746.80</td>\n      <td>...</td>\n      <td>6331.35</td>\n      <td>5915.37</td>\n      <td>5895.80</td>\n      <td>4581.59</td>\n      <td>4896.37</td>\n      <td>5022.24</td>\n      <td>4318.66</td>\n      <td>4894.01</td>\n      <td>5548.18</td>\n      <td>5152.51</td>\n    </tr>\n  </tbody>\n</table>\n<p>5 rows × 281 columns</p>\n</div>"
     },
     "execution_count": 5,
     "metadata": {},
     "output_type": "execute_result"
    }
   ],
   "source": [
    "dfmri.head()"
   ],
   "metadata": {
    "collapsed": false,
    "ExecuteTime": {
     "end_time": "2024-03-06T10:09:44.533326Z",
     "start_time": "2024-03-06T10:09:44.275666Z"
    }
   }
  },
  {
   "cell_type": "code",
   "execution_count": 6,
   "outputs": [
    {
     "data": {
      "text/plain": "  ISIN_First2 Unnamed: 1 Unnamed: 2          ISIN              NAME  \\\n0          AT    AUSTRIA        EUR  AT00000VIE62    FLUGHAFEN WIEN   \n1          AT    AUSTRIA        EUR  AT0000652011  ERSTE GROUP BANK   \n2          AT    AUSTRIA        EUR  AT0000743059               OMV   \n3          AT    AUSTRIA        EUR  AT0000746409           VERBUND   \n4          AT    AUSTRIA        EUR  AT0000831706      WIENERBERGER   \n\n   2000-01-31 00:00:00  2000-02-29 00:00:00  2000-03-31 00:00:00  \\\n0               567.85               559.05               576.48   \n1              1803.98              1857.91              1910.40   \n2              2583.84              2113.74              2065.10   \n3              1655.07              1781.21              1618.73   \n4              1386.43              1283.95              1428.44   \n\n   2000-04-30 00:00:00  2000-05-31 00:00:00  ...  2022-03-31 00:00:00  \\\n0               498.86               517.64  ...              2453.36   \n1              1827.24              1810.26  ...             15823.98   \n2              2223.10              2305.32  ...             15799.81   \n3              1446.45              1554.72  ...             18088.45   \n4              1487.43              1567.26  ...              3511.64   \n\n   2022-04-30 00:00:00  2022-05-31 00:00:00  2022-06-30 00:00:00  \\\n0              2388.16              2366.48              2875.89   \n1             13448.16             13356.15             10873.35   \n2             16951.82             19071.10             15313.75   \n3             18353.60             16894.99             16612.75   \n4              3280.93              3173.55              2466.15   \n\n   2022-07-31 00:00:00  2022-08-31 00:00:00  2022-09-30 00:00:00  \\\n0              2809.31              2778.87              2719.75   \n1             10824.56              9715.28              9532.79   \n2             13821.87             13255.37             11981.47   \n3             18659.53             16321.45             14584.20   \n4              2635.59              2703.34              2324.62   \n\n   2022-10-31 00:00:00  2022-11-30 00:00:00  2022-12-31 00:00:00  \n0              2739.62              2854.20              2900.21  \n1             10602.50             13099.32             13715.54  \n2             15085.69             16902.76             16800.81  \n3             13333.42             15082.96             14289.58  \n4              2634.32              2896.84              2690.25  \n\n[5 rows x 281 columns]",
      "text/html": "<div>\n<style scoped>\n    .dataframe tbody tr th:only-of-type {\n        vertical-align: middle;\n    }\n\n    .dataframe tbody tr th {\n        vertical-align: top;\n    }\n\n    .dataframe thead th {\n        text-align: right;\n    }\n</style>\n<table border=\"1\" class=\"dataframe\">\n  <thead>\n    <tr style=\"text-align: right;\">\n      <th></th>\n      <th>ISIN_First2</th>\n      <th>Unnamed: 1</th>\n      <th>Unnamed: 2</th>\n      <th>ISIN</th>\n      <th>NAME</th>\n      <th>2000-01-31 00:00:00</th>\n      <th>2000-02-29 00:00:00</th>\n      <th>2000-03-31 00:00:00</th>\n      <th>2000-04-30 00:00:00</th>\n      <th>2000-05-31 00:00:00</th>\n      <th>...</th>\n      <th>2022-03-31 00:00:00</th>\n      <th>2022-04-30 00:00:00</th>\n      <th>2022-05-31 00:00:00</th>\n      <th>2022-06-30 00:00:00</th>\n      <th>2022-07-31 00:00:00</th>\n      <th>2022-08-31 00:00:00</th>\n      <th>2022-09-30 00:00:00</th>\n      <th>2022-10-31 00:00:00</th>\n      <th>2022-11-30 00:00:00</th>\n      <th>2022-12-31 00:00:00</th>\n    </tr>\n  </thead>\n  <tbody>\n    <tr>\n      <th>0</th>\n      <td>AT</td>\n      <td>AUSTRIA</td>\n      <td>EUR</td>\n      <td>AT00000VIE62</td>\n      <td>FLUGHAFEN WIEN</td>\n      <td>567.85</td>\n      <td>559.05</td>\n      <td>576.48</td>\n      <td>498.86</td>\n      <td>517.64</td>\n      <td>...</td>\n      <td>2453.36</td>\n      <td>2388.16</td>\n      <td>2366.48</td>\n      <td>2875.89</td>\n      <td>2809.31</td>\n      <td>2778.87</td>\n      <td>2719.75</td>\n      <td>2739.62</td>\n      <td>2854.20</td>\n      <td>2900.21</td>\n    </tr>\n    <tr>\n      <th>1</th>\n      <td>AT</td>\n      <td>AUSTRIA</td>\n      <td>EUR</td>\n      <td>AT0000652011</td>\n      <td>ERSTE GROUP BANK</td>\n      <td>1803.98</td>\n      <td>1857.91</td>\n      <td>1910.40</td>\n      <td>1827.24</td>\n      <td>1810.26</td>\n      <td>...</td>\n      <td>15823.98</td>\n      <td>13448.16</td>\n      <td>13356.15</td>\n      <td>10873.35</td>\n      <td>10824.56</td>\n      <td>9715.28</td>\n      <td>9532.79</td>\n      <td>10602.50</td>\n      <td>13099.32</td>\n      <td>13715.54</td>\n    </tr>\n    <tr>\n      <th>2</th>\n      <td>AT</td>\n      <td>AUSTRIA</td>\n      <td>EUR</td>\n      <td>AT0000743059</td>\n      <td>OMV</td>\n      <td>2583.84</td>\n      <td>2113.74</td>\n      <td>2065.10</td>\n      <td>2223.10</td>\n      <td>2305.32</td>\n      <td>...</td>\n      <td>15799.81</td>\n      <td>16951.82</td>\n      <td>19071.10</td>\n      <td>15313.75</td>\n      <td>13821.87</td>\n      <td>13255.37</td>\n      <td>11981.47</td>\n      <td>15085.69</td>\n      <td>16902.76</td>\n      <td>16800.81</td>\n    </tr>\n    <tr>\n      <th>3</th>\n      <td>AT</td>\n      <td>AUSTRIA</td>\n      <td>EUR</td>\n      <td>AT0000746409</td>\n      <td>VERBUND</td>\n      <td>1655.07</td>\n      <td>1781.21</td>\n      <td>1618.73</td>\n      <td>1446.45</td>\n      <td>1554.72</td>\n      <td>...</td>\n      <td>18088.45</td>\n      <td>18353.60</td>\n      <td>16894.99</td>\n      <td>16612.75</td>\n      <td>18659.53</td>\n      <td>16321.45</td>\n      <td>14584.20</td>\n      <td>13333.42</td>\n      <td>15082.96</td>\n      <td>14289.58</td>\n    </tr>\n    <tr>\n      <th>4</th>\n      <td>AT</td>\n      <td>AUSTRIA</td>\n      <td>EUR</td>\n      <td>AT0000831706</td>\n      <td>WIENERBERGER</td>\n      <td>1386.43</td>\n      <td>1283.95</td>\n      <td>1428.44</td>\n      <td>1487.43</td>\n      <td>1567.26</td>\n      <td>...</td>\n      <td>3511.64</td>\n      <td>3280.93</td>\n      <td>3173.55</td>\n      <td>2466.15</td>\n      <td>2635.59</td>\n      <td>2703.34</td>\n      <td>2324.62</td>\n      <td>2634.32</td>\n      <td>2896.84</td>\n      <td>2690.25</td>\n    </tr>\n  </tbody>\n</table>\n<p>5 rows × 281 columns</p>\n</div>"
     },
     "execution_count": 6,
     "metadata": {},
     "output_type": "execute_result"
    }
   ],
   "source": [
    "dfmcapitalization.head()"
   ],
   "metadata": {
    "collapsed": false,
    "ExecuteTime": {
     "end_time": "2024-03-06T10:09:55.757971Z",
     "start_time": "2024-03-06T10:09:55.676538Z"
    }
   }
  },
  {
   "cell_type": "markdown",
   "source": [
    "## IMPORT YEARLY DATASET"
   ],
   "metadata": {
    "collapsed": false
   }
  },
  {
   "cell_type": "code",
   "execution_count": 7,
   "outputs": [],
   "source": [
    "urlyri = 'https://raw.githubusercontent.com/GiammarcoBozzelli/SEF/main/df_EUR_yearly_return.csv'\n",
    "dfyri = pd.read_csv(urlyri)\n",
    "\n",
    "urlycapitalization = 'https://raw.githubusercontent.com/GiammarcoBozzelli/SEF/main/df_EUR_yearly_capitalization.csv'\n",
    "dfycapitalization = pd.read_csv(urlycapitalization)"
   ],
   "metadata": {
    "collapsed": false,
    "ExecuteTime": {
     "end_time": "2024-03-06T10:10:14.897789Z",
     "start_time": "2024-03-06T10:10:14.390816Z"
    }
   }
  },
  {
   "cell_type": "code",
   "execution_count": 8,
   "outputs": [
    {
     "data": {
      "text/plain": "  ISIN_First2 Unnamed: 1 Unnamed: 2          ISIN              NAME    x1999  \\\n0          AT    AUSTRIA        EUR  AT00000VIE62    FLUGHAFEN WIEN   147.79   \n1          AT    AUSTRIA        EUR  AT0000652011  ERSTE GROUP BANK   102.94   \n2          AT    AUSTRIA        EUR  AT0000743059               OMV   393.88   \n3          AT    AUSTRIA        EUR  AT0000746409           VERBUND   669.42   \n4          AT    AUSTRIA        EUR  AT0000831706      WIENERBERGER  2579.95   \n\n     x2000    x2001    x2002    x2003  ...    x2013    x2014    x2015  \\\n0   169.02   126.01   166.81   248.09  ...   684.58   771.62   806.23   \n1   108.87   131.07   169.47   316.50  ...   451.57   303.59   409.64   \n2   323.77   363.83   444.88   698.11  ...  3044.74  1763.66  1970.76   \n3   490.55   365.21   421.52   588.39  ...  1382.09  1279.70   907.90   \n4  2186.26  1776.97  2322.13  3626.22  ...  2882.81  2537.95  3437.56   \n\n     x2016    x2017    x2018    x2019    x2020    x2021    x2022  \n0   853.19  1422.45  1416.63  1557.53  1369.41  1111.83  1269.03  \n1   391.16   594.97   471.37   557.68   451.74   724.56   518.33  \n2  2554.70  4696.74  3335.71  4458.82  3450.98  5033.33  4763.37  \n3  1161.74  1787.80  3197.60  3808.49  6593.93  8769.64  6614.67  \n4  3262.29  4602.01  3984.99  5887.01  6511.05  7637.80  5152.51  \n\n[5 rows x 29 columns]",
      "text/html": "<div>\n<style scoped>\n    .dataframe tbody tr th:only-of-type {\n        vertical-align: middle;\n    }\n\n    .dataframe tbody tr th {\n        vertical-align: top;\n    }\n\n    .dataframe thead th {\n        text-align: right;\n    }\n</style>\n<table border=\"1\" class=\"dataframe\">\n  <thead>\n    <tr style=\"text-align: right;\">\n      <th></th>\n      <th>ISIN_First2</th>\n      <th>Unnamed: 1</th>\n      <th>Unnamed: 2</th>\n      <th>ISIN</th>\n      <th>NAME</th>\n      <th>x1999</th>\n      <th>x2000</th>\n      <th>x2001</th>\n      <th>x2002</th>\n      <th>x2003</th>\n      <th>...</th>\n      <th>x2013</th>\n      <th>x2014</th>\n      <th>x2015</th>\n      <th>x2016</th>\n      <th>x2017</th>\n      <th>x2018</th>\n      <th>x2019</th>\n      <th>x2020</th>\n      <th>x2021</th>\n      <th>x2022</th>\n    </tr>\n  </thead>\n  <tbody>\n    <tr>\n      <th>0</th>\n      <td>AT</td>\n      <td>AUSTRIA</td>\n      <td>EUR</td>\n      <td>AT00000VIE62</td>\n      <td>FLUGHAFEN WIEN</td>\n      <td>147.79</td>\n      <td>169.02</td>\n      <td>126.01</td>\n      <td>166.81</td>\n      <td>248.09</td>\n      <td>...</td>\n      <td>684.58</td>\n      <td>771.62</td>\n      <td>806.23</td>\n      <td>853.19</td>\n      <td>1422.45</td>\n      <td>1416.63</td>\n      <td>1557.53</td>\n      <td>1369.41</td>\n      <td>1111.83</td>\n      <td>1269.03</td>\n    </tr>\n    <tr>\n      <th>1</th>\n      <td>AT</td>\n      <td>AUSTRIA</td>\n      <td>EUR</td>\n      <td>AT0000652011</td>\n      <td>ERSTE GROUP BANK</td>\n      <td>102.94</td>\n      <td>108.87</td>\n      <td>131.07</td>\n      <td>169.47</td>\n      <td>316.50</td>\n      <td>...</td>\n      <td>451.57</td>\n      <td>303.59</td>\n      <td>409.64</td>\n      <td>391.16</td>\n      <td>594.97</td>\n      <td>471.37</td>\n      <td>557.68</td>\n      <td>451.74</td>\n      <td>724.56</td>\n      <td>518.33</td>\n    </tr>\n    <tr>\n      <th>2</th>\n      <td>AT</td>\n      <td>AUSTRIA</td>\n      <td>EUR</td>\n      <td>AT0000743059</td>\n      <td>OMV</td>\n      <td>393.88</td>\n      <td>323.77</td>\n      <td>363.83</td>\n      <td>444.88</td>\n      <td>698.11</td>\n      <td>...</td>\n      <td>3044.74</td>\n      <td>1763.66</td>\n      <td>1970.76</td>\n      <td>2554.70</td>\n      <td>4696.74</td>\n      <td>3335.71</td>\n      <td>4458.82</td>\n      <td>3450.98</td>\n      <td>5033.33</td>\n      <td>4763.37</td>\n    </tr>\n    <tr>\n      <th>3</th>\n      <td>AT</td>\n      <td>AUSTRIA</td>\n      <td>EUR</td>\n      <td>AT0000746409</td>\n      <td>VERBUND</td>\n      <td>669.42</td>\n      <td>490.55</td>\n      <td>365.21</td>\n      <td>421.52</td>\n      <td>588.39</td>\n      <td>...</td>\n      <td>1382.09</td>\n      <td>1279.70</td>\n      <td>907.90</td>\n      <td>1161.74</td>\n      <td>1787.80</td>\n      <td>3197.60</td>\n      <td>3808.49</td>\n      <td>6593.93</td>\n      <td>8769.64</td>\n      <td>6614.67</td>\n    </tr>\n    <tr>\n      <th>4</th>\n      <td>AT</td>\n      <td>AUSTRIA</td>\n      <td>EUR</td>\n      <td>AT0000831706</td>\n      <td>WIENERBERGER</td>\n      <td>2579.95</td>\n      <td>2186.26</td>\n      <td>1776.97</td>\n      <td>2322.13</td>\n      <td>3626.22</td>\n      <td>...</td>\n      <td>2882.81</td>\n      <td>2537.95</td>\n      <td>3437.56</td>\n      <td>3262.29</td>\n      <td>4602.01</td>\n      <td>3984.99</td>\n      <td>5887.01</td>\n      <td>6511.05</td>\n      <td>7637.80</td>\n      <td>5152.51</td>\n    </tr>\n  </tbody>\n</table>\n<p>5 rows × 29 columns</p>\n</div>"
     },
     "execution_count": 8,
     "metadata": {},
     "output_type": "execute_result"
    }
   ],
   "source": [
    "dfyri.head()"
   ],
   "metadata": {
    "collapsed": false,
    "ExecuteTime": {
     "end_time": "2024-03-06T10:10:16.828655Z",
     "start_time": "2024-03-06T10:10:16.696937Z"
    }
   }
  },
  {
   "cell_type": "code",
   "execution_count": 9,
   "outputs": [
    {
     "data": {
      "text/plain": "  ISIN_First2 Unnamed: 1 Unnamed: 2          ISIN              NAME    x1999  \\\n0          AT    AUSTRIA        EUR  AT00000VIE62    FLUGHAFEN WIEN   537.09   \n1          AT    AUSTRIA        EUR  AT0000652011  ERSTE GROUP BANK  1956.67   \n2          AT    AUSTRIA        EUR  AT0000743059               OMV  2611.95   \n3          AT    AUSTRIA        EUR  AT0000746409           VERBUND  2111.95   \n4          AT    AUSTRIA        EUR  AT0000831706      WIENERBERGER  1503.25   \n\n     x2000    x2001    x2002    x2003  ...     x2013     x2014     x2015  \\\n0   794.55   560.96   705.15   985.36  ...   1765.22   1952.09   1998.43   \n1  2269.47  2677.13  4006.48  7354.92  ...  15002.04  10003.77  13498.31   \n2  2091.29  2262.75  2651.31  4021.35  ...  15689.64   8716.35   9289.96   \n3  1531.28  1129.55  1285.83  1763.91  ...   3639.54   3150.65   2193.28   \n4  1247.43   974.04  1161.06  1743.94  ...   1866.50   1627.64   2198.92   \n\n      x2016     x2017     x2018     x2019     x2020     x2021     x2022  \n0   2073.22   3394.09   3312.76   3559.53   3129.62   2540.95   2900.21  \n1  12613.95  18633.43  14272.63  16191.42  13115.57  20210.51  13715.54  \n2  11584.60  20761.05  14309.77  18398.00  13214.41  18590.05  16800.81  \n3   2724.73   4117.86   7246.80   8549.44  14549.09  19145.95  14289.58  \n4   2044.74   2846.44   2418.25   3450.66   3675.69   4236.26   2690.25  \n\n[5 rows x 29 columns]",
      "text/html": "<div>\n<style scoped>\n    .dataframe tbody tr th:only-of-type {\n        vertical-align: middle;\n    }\n\n    .dataframe tbody tr th {\n        vertical-align: top;\n    }\n\n    .dataframe thead th {\n        text-align: right;\n    }\n</style>\n<table border=\"1\" class=\"dataframe\">\n  <thead>\n    <tr style=\"text-align: right;\">\n      <th></th>\n      <th>ISIN_First2</th>\n      <th>Unnamed: 1</th>\n      <th>Unnamed: 2</th>\n      <th>ISIN</th>\n      <th>NAME</th>\n      <th>x1999</th>\n      <th>x2000</th>\n      <th>x2001</th>\n      <th>x2002</th>\n      <th>x2003</th>\n      <th>...</th>\n      <th>x2013</th>\n      <th>x2014</th>\n      <th>x2015</th>\n      <th>x2016</th>\n      <th>x2017</th>\n      <th>x2018</th>\n      <th>x2019</th>\n      <th>x2020</th>\n      <th>x2021</th>\n      <th>x2022</th>\n    </tr>\n  </thead>\n  <tbody>\n    <tr>\n      <th>0</th>\n      <td>AT</td>\n      <td>AUSTRIA</td>\n      <td>EUR</td>\n      <td>AT00000VIE62</td>\n      <td>FLUGHAFEN WIEN</td>\n      <td>537.09</td>\n      <td>794.55</td>\n      <td>560.96</td>\n      <td>705.15</td>\n      <td>985.36</td>\n      <td>...</td>\n      <td>1765.22</td>\n      <td>1952.09</td>\n      <td>1998.43</td>\n      <td>2073.22</td>\n      <td>3394.09</td>\n      <td>3312.76</td>\n      <td>3559.53</td>\n      <td>3129.62</td>\n      <td>2540.95</td>\n      <td>2900.21</td>\n    </tr>\n    <tr>\n      <th>1</th>\n      <td>AT</td>\n      <td>AUSTRIA</td>\n      <td>EUR</td>\n      <td>AT0000652011</td>\n      <td>ERSTE GROUP BANK</td>\n      <td>1956.67</td>\n      <td>2269.47</td>\n      <td>2677.13</td>\n      <td>4006.48</td>\n      <td>7354.92</td>\n      <td>...</td>\n      <td>15002.04</td>\n      <td>10003.77</td>\n      <td>13498.31</td>\n      <td>12613.95</td>\n      <td>18633.43</td>\n      <td>14272.63</td>\n      <td>16191.42</td>\n      <td>13115.57</td>\n      <td>20210.51</td>\n      <td>13715.54</td>\n    </tr>\n    <tr>\n      <th>2</th>\n      <td>AT</td>\n      <td>AUSTRIA</td>\n      <td>EUR</td>\n      <td>AT0000743059</td>\n      <td>OMV</td>\n      <td>2611.95</td>\n      <td>2091.29</td>\n      <td>2262.75</td>\n      <td>2651.31</td>\n      <td>4021.35</td>\n      <td>...</td>\n      <td>15689.64</td>\n      <td>8716.35</td>\n      <td>9289.96</td>\n      <td>11584.60</td>\n      <td>20761.05</td>\n      <td>14309.77</td>\n      <td>18398.00</td>\n      <td>13214.41</td>\n      <td>18590.05</td>\n      <td>16800.81</td>\n    </tr>\n    <tr>\n      <th>3</th>\n      <td>AT</td>\n      <td>AUSTRIA</td>\n      <td>EUR</td>\n      <td>AT0000746409</td>\n      <td>VERBUND</td>\n      <td>2111.95</td>\n      <td>1531.28</td>\n      <td>1129.55</td>\n      <td>1285.83</td>\n      <td>1763.91</td>\n      <td>...</td>\n      <td>3639.54</td>\n      <td>3150.65</td>\n      <td>2193.28</td>\n      <td>2724.73</td>\n      <td>4117.86</td>\n      <td>7246.80</td>\n      <td>8549.44</td>\n      <td>14549.09</td>\n      <td>19145.95</td>\n      <td>14289.58</td>\n    </tr>\n    <tr>\n      <th>4</th>\n      <td>AT</td>\n      <td>AUSTRIA</td>\n      <td>EUR</td>\n      <td>AT0000831706</td>\n      <td>WIENERBERGER</td>\n      <td>1503.25</td>\n      <td>1247.43</td>\n      <td>974.04</td>\n      <td>1161.06</td>\n      <td>1743.94</td>\n      <td>...</td>\n      <td>1866.50</td>\n      <td>1627.64</td>\n      <td>2198.92</td>\n      <td>2044.74</td>\n      <td>2846.44</td>\n      <td>2418.25</td>\n      <td>3450.66</td>\n      <td>3675.69</td>\n      <td>4236.26</td>\n      <td>2690.25</td>\n    </tr>\n  </tbody>\n</table>\n<p>5 rows × 29 columns</p>\n</div>"
     },
     "execution_count": 9,
     "metadata": {},
     "output_type": "execute_result"
    }
   ],
   "source": [
    "dfycapitalization.head()"
   ],
   "metadata": {
    "collapsed": false,
    "ExecuteTime": {
     "end_time": "2024-03-06T10:10:20.103903Z",
     "start_time": "2024-03-06T10:10:19.998788Z"
    }
   }
  },
  {
   "cell_type": "markdown",
   "source": [
    "## TASK 1"
   ],
   "metadata": {
    "collapsed": false
   }
  },
  {
   "cell_type": "markdown",
   "source": [
    "Compute the annualized average RI and annualized volatility for all individual assets over the period 2008–2022. Plot and comment the histogram of these distributions. "
   ],
   "metadata": {
    "collapsed": false
   }
  },
  {
   "cell_type": "code",
   "execution_count": 10,
   "outputs": [],
   "source": [
    "import seaborn as sns"
   ],
   "metadata": {
    "collapsed": false,
    "ExecuteTime": {
     "end_time": "2024-03-06T10:10:26.579417Z",
     "start_time": "2024-03-06T10:10:26.515785Z"
    }
   }
  },
  {
   "cell_type": "code",
   "execution_count": 11,
   "outputs": [],
   "source": [
    "import numpy as np"
   ],
   "metadata": {
    "collapsed": false,
    "ExecuteTime": {
     "end_time": "2024-03-06T10:10:28.766265Z",
     "start_time": "2024-03-06T10:10:28.695942Z"
    }
   }
  },
  {
   "cell_type": "markdown",
   "source": [
    "### Annualized average RI"
   ],
   "metadata": {
    "collapsed": false
   }
  },
  {
   "cell_type": "code",
   "execution_count": 12,
   "outputs": [],
   "source": [
    "dfmcapitalization.drop(dfmcapitalization.columns[:4], axis=1, inplace=True)"
   ],
   "metadata": {
    "collapsed": false,
    "ExecuteTime": {
     "end_time": "2024-03-06T10:10:34.029021Z",
     "start_time": "2024-03-06T10:10:33.950311Z"
    }
   }
  },
  {
   "cell_type": "code",
   "execution_count": 21,
   "outputs": [
    {
     "data": {
      "text/plain": "                          2008-01-31 00:00:00  2008-02-29 00:00:00  \\\nNAME                                                                 \nFLUGHAFEN WIEN                        2329.71              2405.60   \nERSTE GROUP BANK                     16951.92             18485.57   \nOMV                                  21320.11             21814.48   \nVERBUND                               9860.39             11244.90   \nWIENERBERGER                          3809.48              4090.74   \n...                                       ...                  ...   \nNIBE INDUSTRIER                        798.22               782.09   \nELECTROLUX B                          4632.15              4852.91   \nATLAS COPCO A                        11805.31             13196.58   \nMODERN TIMES GROUP MTG B              3089.90              3406.39   \nBOLIDEN ORD SHS                       2589.58              3330.94   \n\n                          2008-03-31 00:00:00  2008-04-30 00:00:00  \\\nNAME                                                                 \nFLUGHAFEN WIEN                        2539.90              2654.84   \nERSTE GROUP BANK                     20573.03             23489.06   \nOMV                                  19898.56             22629.68   \nVERBUND                              10789.72             11694.93   \nWIENERBERGER                          4481.37              4838.47   \n...                                       ...                  ...   \nNIBE INDUSTRIER                        752.45               671.00   \nELECTROLUX B                          4923.03              4595.81   \nATLAS COPCO A                        14367.51             13514.18   \nMODERN TIMES GROUP MTG B              3621.19              3807.59   \nBOLIDEN ORD SHS                       3087.41              3151.09   \n\n                          2008-05-31 00:00:00  2008-06-30 00:00:00  \\\nNAME                                                                 \nFLUGHAFEN WIEN                        2412.28              2004.98   \nERSTE GROUP BANK                     24118.28             19703.31   \nOMV                                  24671.05             23566.34   \nVERBUND                              12743.09             13542.92   \nWIENERBERGER                          4447.15              3527.37   \n...                                       ...                  ...   \nNIBE INDUSTRIER                        646.89               590.73   \nELECTROLUX B                          4313.06              3832.72   \nATLAS COPCO A                        14852.04             12384.34   \nMODERN TIMES GROUP MTG B              3614.83              3075.73   \nBOLIDEN ORD SHS                       3085.86              2232.52   \n\n                          2008-07-31 00:00:00  2008-08-31 00:00:00  \\\nNAME                                                                 \nFLUGHAFEN WIEN                        1788.33              1712.25   \nERSTE GROUP BANK                     20356.52             19083.13   \nOMV                                  20782.60             19328.25   \nVERBUND                              12045.23             11463.98   \nWIENERBERGER                          2265.95              2224.72   \n...                                       ...                  ...   \nNIBE INDUSTRIER                        603.19               555.81   \nELECTROLUX B                          3636.54              3869.59   \nATLAS COPCO A                        13107.51             11828.33   \nMODERN TIMES GROUP MTG B              2863.72              2702.42   \nBOLIDEN ORD SHS                       1622.53              1733.32   \n\n                          2008-09-30 00:00:00  2008-10-31 00:00:00  ...  \\\nNAME                                                                ...   \nFLUGHAFEN WIEN                        1311.39               851.86  ...   \nERSTE GROUP BANK                     15304.40              8318.12  ...   \nOMV                                  12358.80              9506.49  ...   \nVERBUND                               9152.77              7085.38  ...   \nWIENERBERGER                          2237.94              1373.19  ...   \n...                                       ...                  ...  ...   \nNIBE INDUSTRIER                        553.63               431.02  ...   \nELECTROLUX B                          3424.56              2679.39  ...   \nATLAS COPCO A                         9329.62              6838.38  ...   \nMODERN TIMES GROUP MTG B              1788.56              1075.36  ...   \nBOLIDEN ORD SHS                       1114.01               649.17  ...   \n\n                          2022-03-31 00:00:00  2022-04-30 00:00:00  \\\nNAME                                                                 \nFLUGHAFEN WIEN                        2453.36              2388.16   \nERSTE GROUP BANK                     15823.98             13448.16   \nOMV                                  15799.81             16951.82   \nVERBUND                              18088.45             18353.60   \nWIENERBERGER                          3511.64              3280.93   \n...                                       ...                  ...   \nNIBE INDUSTRIER                      20097.57             17739.52   \nELECTROLUX B                          4617.69              4245.08   \nATLAS COPCO A                        44287.14             38732.62   \nMODERN TIMES GROUP MTG B              1627.46              1177.55   \nBOLIDEN ORD SHS                      14031.53             12042.65   \n\n                          2022-05-31 00:00:00  2022-06-30 00:00:00  \\\nNAME                                                                 \nFLUGHAFEN WIEN                        2366.48              2875.89   \nERSTE GROUP BANK                     13356.15             10873.35   \nOMV                                  19071.10             15313.75   \nVERBUND                              16894.99             16612.75   \nWIENERBERGER                          3173.55              2466.15   \n...                                       ...                  ...   \nNIBE INDUSTRIER                      15508.29             13362.37   \nELECTROLUX B                          4258.84              3692.71   \nATLAS COPCO A                        37523.50             31313.66   \nMODERN TIMES GROUP MTG B              1294.68               883.00   \nBOLIDEN ORD SHS                      11453.52              8683.85   \n\n                          2022-07-31 00:00:00  2022-08-31 00:00:00  \\\nNAME                                                                 \nFLUGHAFEN WIEN                        2809.31              2778.87   \nERSTE GROUP BANK                     10824.56              9715.28   \nOMV                                  13821.87             13255.37   \nVERBUND                              18659.53             16321.45   \nWIENERBERGER                          2635.59              2703.34   \n...                                       ...                  ...   \nNIBE INDUSTRIER                      17802.84             16809.54   \nELECTROLUX B                          3933.26              3496.16   \nATLAS COPCO A                        38867.54             34336.09   \nMODERN TIMES GROUP MTG B              1307.19              1119.39   \nBOLIDEN ORD SHS                       9039.53              8836.91   \n\n                          2022-09-30 00:00:00  2022-10-31 00:00:00  \\\nNAME                                                                 \nFLUGHAFEN WIEN                        2719.75              2739.62   \nERSTE GROUP BANK                      9532.79             10602.50   \nOMV                                  11981.47             15085.69   \nVERBUND                              14584.20             13333.42   \nWIENERBERGER                          2324.62              2634.32   \n...                                       ...                  ...   \nNIBE INDUSTRIER                      16082.16             14214.49   \nELECTROLUX B                          2878.77              3389.53   \nATLAS COPCO A                        31707.46             35865.30   \nMODERN TIMES GROUP MTG B               846.93               951.81   \nBOLIDEN ORD SHS                       8541.12              7959.95   \n\n                          2022-11-30 00:00:00  2022-12-31 00:00:00  \nNAME                                                                \nFLUGHAFEN WIEN                        2854.20              2900.21  \nERSTE GROUP BANK                     13099.32             13715.54  \nOMV                                  16902.76             16800.81  \nVERBUND                              15082.96             14289.58  \nWIENERBERGER                          2896.84              2690.25  \n...                                       ...                  ...  \nNIBE INDUSTRIER                      16381.75             16615.26  \nELECTROLUX B                          3828.45              3714.02  \nATLAS COPCO A                        40666.87             39667.59  \nMODERN TIMES GROUP MTG B               978.44              1087.43  \nBOLIDEN ORD SHS                       9949.04             10270.25  \n\n[508 rows x 180 columns]",
      "text/html": "<div>\n<style scoped>\n    .dataframe tbody tr th:only-of-type {\n        vertical-align: middle;\n    }\n\n    .dataframe tbody tr th {\n        vertical-align: top;\n    }\n\n    .dataframe thead th {\n        text-align: right;\n    }\n</style>\n<table border=\"1\" class=\"dataframe\">\n  <thead>\n    <tr style=\"text-align: right;\">\n      <th></th>\n      <th>2008-01-31 00:00:00</th>\n      <th>2008-02-29 00:00:00</th>\n      <th>2008-03-31 00:00:00</th>\n      <th>2008-04-30 00:00:00</th>\n      <th>2008-05-31 00:00:00</th>\n      <th>2008-06-30 00:00:00</th>\n      <th>2008-07-31 00:00:00</th>\n      <th>2008-08-31 00:00:00</th>\n      <th>2008-09-30 00:00:00</th>\n      <th>2008-10-31 00:00:00</th>\n      <th>...</th>\n      <th>2022-03-31 00:00:00</th>\n      <th>2022-04-30 00:00:00</th>\n      <th>2022-05-31 00:00:00</th>\n      <th>2022-06-30 00:00:00</th>\n      <th>2022-07-31 00:00:00</th>\n      <th>2022-08-31 00:00:00</th>\n      <th>2022-09-30 00:00:00</th>\n      <th>2022-10-31 00:00:00</th>\n      <th>2022-11-30 00:00:00</th>\n      <th>2022-12-31 00:00:00</th>\n    </tr>\n    <tr>\n      <th>NAME</th>\n      <th></th>\n      <th></th>\n      <th></th>\n      <th></th>\n      <th></th>\n      <th></th>\n      <th></th>\n      <th></th>\n      <th></th>\n      <th></th>\n      <th></th>\n      <th></th>\n      <th></th>\n      <th></th>\n      <th></th>\n      <th></th>\n      <th></th>\n      <th></th>\n      <th></th>\n      <th></th>\n      <th></th>\n    </tr>\n  </thead>\n  <tbody>\n    <tr>\n      <th>FLUGHAFEN WIEN</th>\n      <td>2329.71</td>\n      <td>2405.60</td>\n      <td>2539.90</td>\n      <td>2654.84</td>\n      <td>2412.28</td>\n      <td>2004.98</td>\n      <td>1788.33</td>\n      <td>1712.25</td>\n      <td>1311.39</td>\n      <td>851.86</td>\n      <td>...</td>\n      <td>2453.36</td>\n      <td>2388.16</td>\n      <td>2366.48</td>\n      <td>2875.89</td>\n      <td>2809.31</td>\n      <td>2778.87</td>\n      <td>2719.75</td>\n      <td>2739.62</td>\n      <td>2854.20</td>\n      <td>2900.21</td>\n    </tr>\n    <tr>\n      <th>ERSTE GROUP BANK</th>\n      <td>16951.92</td>\n      <td>18485.57</td>\n      <td>20573.03</td>\n      <td>23489.06</td>\n      <td>24118.28</td>\n      <td>19703.31</td>\n      <td>20356.52</td>\n      <td>19083.13</td>\n      <td>15304.40</td>\n      <td>8318.12</td>\n      <td>...</td>\n      <td>15823.98</td>\n      <td>13448.16</td>\n      <td>13356.15</td>\n      <td>10873.35</td>\n      <td>10824.56</td>\n      <td>9715.28</td>\n      <td>9532.79</td>\n      <td>10602.50</td>\n      <td>13099.32</td>\n      <td>13715.54</td>\n    </tr>\n    <tr>\n      <th>OMV</th>\n      <td>21320.11</td>\n      <td>21814.48</td>\n      <td>19898.56</td>\n      <td>22629.68</td>\n      <td>24671.05</td>\n      <td>23566.34</td>\n      <td>20782.60</td>\n      <td>19328.25</td>\n      <td>12358.80</td>\n      <td>9506.49</td>\n      <td>...</td>\n      <td>15799.81</td>\n      <td>16951.82</td>\n      <td>19071.10</td>\n      <td>15313.75</td>\n      <td>13821.87</td>\n      <td>13255.37</td>\n      <td>11981.47</td>\n      <td>15085.69</td>\n      <td>16902.76</td>\n      <td>16800.81</td>\n    </tr>\n    <tr>\n      <th>VERBUND</th>\n      <td>9860.39</td>\n      <td>11244.90</td>\n      <td>10789.72</td>\n      <td>11694.93</td>\n      <td>12743.09</td>\n      <td>13542.92</td>\n      <td>12045.23</td>\n      <td>11463.98</td>\n      <td>9152.77</td>\n      <td>7085.38</td>\n      <td>...</td>\n      <td>18088.45</td>\n      <td>18353.60</td>\n      <td>16894.99</td>\n      <td>16612.75</td>\n      <td>18659.53</td>\n      <td>16321.45</td>\n      <td>14584.20</td>\n      <td>13333.42</td>\n      <td>15082.96</td>\n      <td>14289.58</td>\n    </tr>\n    <tr>\n      <th>WIENERBERGER</th>\n      <td>3809.48</td>\n      <td>4090.74</td>\n      <td>4481.37</td>\n      <td>4838.47</td>\n      <td>4447.15</td>\n      <td>3527.37</td>\n      <td>2265.95</td>\n      <td>2224.72</td>\n      <td>2237.94</td>\n      <td>1373.19</td>\n      <td>...</td>\n      <td>3511.64</td>\n      <td>3280.93</td>\n      <td>3173.55</td>\n      <td>2466.15</td>\n      <td>2635.59</td>\n      <td>2703.34</td>\n      <td>2324.62</td>\n      <td>2634.32</td>\n      <td>2896.84</td>\n      <td>2690.25</td>\n    </tr>\n    <tr>\n      <th>...</th>\n      <td>...</td>\n      <td>...</td>\n      <td>...</td>\n      <td>...</td>\n      <td>...</td>\n      <td>...</td>\n      <td>...</td>\n      <td>...</td>\n      <td>...</td>\n      <td>...</td>\n      <td>...</td>\n      <td>...</td>\n      <td>...</td>\n      <td>...</td>\n      <td>...</td>\n      <td>...</td>\n      <td>...</td>\n      <td>...</td>\n      <td>...</td>\n      <td>...</td>\n      <td>...</td>\n    </tr>\n    <tr>\n      <th>NIBE INDUSTRIER</th>\n      <td>798.22</td>\n      <td>782.09</td>\n      <td>752.45</td>\n      <td>671.00</td>\n      <td>646.89</td>\n      <td>590.73</td>\n      <td>603.19</td>\n      <td>555.81</td>\n      <td>553.63</td>\n      <td>431.02</td>\n      <td>...</td>\n      <td>20097.57</td>\n      <td>17739.52</td>\n      <td>15508.29</td>\n      <td>13362.37</td>\n      <td>17802.84</td>\n      <td>16809.54</td>\n      <td>16082.16</td>\n      <td>14214.49</td>\n      <td>16381.75</td>\n      <td>16615.26</td>\n    </tr>\n    <tr>\n      <th>ELECTROLUX B</th>\n      <td>4632.15</td>\n      <td>4852.91</td>\n      <td>4923.03</td>\n      <td>4595.81</td>\n      <td>4313.06</td>\n      <td>3832.72</td>\n      <td>3636.54</td>\n      <td>3869.59</td>\n      <td>3424.56</td>\n      <td>2679.39</td>\n      <td>...</td>\n      <td>4617.69</td>\n      <td>4245.08</td>\n      <td>4258.84</td>\n      <td>3692.71</td>\n      <td>3933.26</td>\n      <td>3496.16</td>\n      <td>2878.77</td>\n      <td>3389.53</td>\n      <td>3828.45</td>\n      <td>3714.02</td>\n    </tr>\n    <tr>\n      <th>ATLAS COPCO A</th>\n      <td>11805.31</td>\n      <td>13196.58</td>\n      <td>14367.51</td>\n      <td>13514.18</td>\n      <td>14852.04</td>\n      <td>12384.34</td>\n      <td>13107.51</td>\n      <td>11828.33</td>\n      <td>9329.62</td>\n      <td>6838.38</td>\n      <td>...</td>\n      <td>44287.14</td>\n      <td>38732.62</td>\n      <td>37523.50</td>\n      <td>31313.66</td>\n      <td>38867.54</td>\n      <td>34336.09</td>\n      <td>31707.46</td>\n      <td>35865.30</td>\n      <td>40666.87</td>\n      <td>39667.59</td>\n    </tr>\n    <tr>\n      <th>MODERN TIMES GROUP MTG B</th>\n      <td>3089.90</td>\n      <td>3406.39</td>\n      <td>3621.19</td>\n      <td>3807.59</td>\n      <td>3614.83</td>\n      <td>3075.73</td>\n      <td>2863.72</td>\n      <td>2702.42</td>\n      <td>1788.56</td>\n      <td>1075.36</td>\n      <td>...</td>\n      <td>1627.46</td>\n      <td>1177.55</td>\n      <td>1294.68</td>\n      <td>883.00</td>\n      <td>1307.19</td>\n      <td>1119.39</td>\n      <td>846.93</td>\n      <td>951.81</td>\n      <td>978.44</td>\n      <td>1087.43</td>\n    </tr>\n    <tr>\n      <th>BOLIDEN ORD SHS</th>\n      <td>2589.58</td>\n      <td>3330.94</td>\n      <td>3087.41</td>\n      <td>3151.09</td>\n      <td>3085.86</td>\n      <td>2232.52</td>\n      <td>1622.53</td>\n      <td>1733.32</td>\n      <td>1114.01</td>\n      <td>649.17</td>\n      <td>...</td>\n      <td>14031.53</td>\n      <td>12042.65</td>\n      <td>11453.52</td>\n      <td>8683.85</td>\n      <td>9039.53</td>\n      <td>8836.91</td>\n      <td>8541.12</td>\n      <td>7959.95</td>\n      <td>9949.04</td>\n      <td>10270.25</td>\n    </tr>\n  </tbody>\n</table>\n<p>508 rows × 180 columns</p>\n</div>"
     },
     "execution_count": 21,
     "metadata": {},
     "output_type": "execute_result"
    }
   ],
   "source": [
    "dfmcapitalization.set_index('NAME', inplace = True)\n",
    "dfmcapitalizationpost = dfmcapitalization.loc[:, (dfmcapitalization.columns >= '2008-01-01')]\n",
    "dfmcapitalizationpost"
   ],
   "metadata": {
    "collapsed": false,
    "ExecuteTime": {
     "end_time": "2024-03-06T10:22:55.845918Z",
     "start_time": "2024-03-06T10:22:55.663727Z"
    }
   }
  },
  {
   "cell_type": "code",
   "execution_count": 22,
   "outputs": [
    {
     "data": {
      "text/plain": "NAME                 FLUGHAFEN WIEN  ERSTE GROUP BANK       OMV   VERBUND  \\\n2008-01-31 00:00:00         2329.71          16951.92  21320.11   9860.39   \n2008-02-29 00:00:00         2405.60          18485.57  21814.48  11244.90   \n2008-03-31 00:00:00         2539.90          20573.03  19898.56  10789.72   \n2008-04-30 00:00:00         2654.84          23489.06  22629.68  11694.93   \n2008-05-31 00:00:00         2412.28          24118.28  24671.05  12743.09   \n...                             ...               ...       ...       ...   \n2022-08-31 00:00:00         2778.87           9715.28  13255.37  16321.45   \n2022-09-30 00:00:00         2719.75           9532.79  11981.47  14584.20   \n2022-10-31 00:00:00         2739.62          10602.50  15085.69  13333.42   \n2022-11-30 00:00:00         2854.20          13099.32  16902.76  15082.96   \n2022-12-31 00:00:00         2900.21          13715.54  16800.81  14289.58   \n\nNAME                 WIENERBERGER  VIENNA INSURANCE GROUP A  VOESTALPINE  \\\n2008-01-31 00:00:00       3809.48                   8006.14      9977.08   \n2008-02-29 00:00:00       4090.74                   8828.94     10434.43   \n2008-03-31 00:00:00       4481.37                   8074.23     11464.60   \n2008-04-30 00:00:00       4838.47                   9581.59     12608.82   \n2008-05-31 00:00:00       4447.15                   9722.71     13689.03   \n...                           ...                       ...          ...   \n2022-08-31 00:00:00       2703.34                   3043.93      3612.25   \n2022-09-30 00:00:00       2324.62                   2620.80      3062.82   \n2022-10-31 00:00:00       2634.32                   2865.33      3878.67   \n2022-11-30 00:00:00       2896.84                   2939.04      4772.57   \n2022-12-31 00:00:00       2690.25                   3053.25      4722.09   \n\nNAME                 MAYR-MELNHOF KARTON  IMMOFINANZ    SOLVAY  ...   FABEGE  \\\n2008-01-31 00:00:00              2149.78     4301.74  10532.79  ...  1687.13   \n2008-02-29 00:00:00              2253.98     5002.95  10704.38  ...  1974.02   \n2008-03-31 00:00:00              2228.23     4989.29  10846.99  ...  1910.95   \n2008-04-30 00:00:00              2301.74     5066.68  12451.35  ...  1674.73   \n2008-05-31 00:00:00              2287.15     5399.53  12129.17  ...  1560.18   \n...                                  ...         ...       ...  ...      ...   \n2022-08-31 00:00:00              2996.46     2063.65   8585.01  ...  2940.99   \n2022-09-30 00:00:00              2586.32     1695.41   8260.50  ...  2262.35   \n2022-10-31 00:00:00              2846.36     1636.38   9547.28  ...  2400.10   \n2022-11-30 00:00:00              3336.07     1753.36  10234.37  ...  2699.29   \n2022-12-31 00:00:00              3227.43     1719.74  10673.85  ...  2815.91   \n\nNAME                 KINNEVIK B  INVESTOR A  \\\n2008-01-31 00:00:00     4192.67     5978.81   \n2008-02-29 00:00:00     4140.66     6478.96   \n2008-03-31 00:00:00     4064.84     6833.09   \n2008-04-30 00:00:00     4583.28     7189.28   \n2008-05-31 00:00:00     4654.90     7526.33   \n...                         ...         ...   \n2022-08-31 00:00:00     3479.40    20847.37   \n2022-09-30 00:00:00     3227.76    19272.98   \n2022-10-31 00:00:00     2997.73    21199.72   \n2022-11-30 00:00:00     3626.43    23377.18   \n2022-12-31 00:00:00     3335.31    23195.38   \n\nNAME                 SWEDISH MATCH DEAD - DELIST.02/01/23  HEXAGON B  \\\n2008-01-31 00:00:00                               5820.43    4397.79   \n2008-02-29 00:00:00                               6274.85    5249.61   \n2008-03-31 00:00:00                               5830.83    5173.41   \n2008-04-30 00:00:00                               5857.79    4610.68   \n2008-05-31 00:00:00                               5424.91    5256.57   \n...                                                   ...        ...   \n2022-08-31 00:00:00                              15360.14   26713.27   \n2022-09-30 00:00:00                              15116.01   24484.81   \n2022-10-31 00:00:00                              15677.18   25645.89   \n2022-11-30 00:00:00                              16445.79   28753.87   \n2022-12-31 00:00:00                              16619.16   27149.01   \n\nNAME                 NIBE INDUSTRIER  ELECTROLUX B  ATLAS COPCO A  \\\n2008-01-31 00:00:00           798.22       4632.15       11805.31   \n2008-02-29 00:00:00           782.09       4852.91       13196.58   \n2008-03-31 00:00:00           752.45       4923.03       14367.51   \n2008-04-30 00:00:00           671.00       4595.81       13514.18   \n2008-05-31 00:00:00           646.89       4313.06       14852.04   \n...                              ...           ...            ...   \n2022-08-31 00:00:00         16809.54       3496.16       34336.09   \n2022-09-30 00:00:00         16082.16       2878.77       31707.46   \n2022-10-31 00:00:00         14214.49       3389.53       35865.30   \n2022-11-30 00:00:00         16381.75       3828.45       40666.87   \n2022-12-31 00:00:00         16615.26       3714.02       39667.59   \n\nNAME                 MODERN TIMES GROUP MTG B  BOLIDEN ORD SHS  \n2008-01-31 00:00:00                   3089.90          2589.58  \n2008-02-29 00:00:00                   3406.39          3330.94  \n2008-03-31 00:00:00                   3621.19          3087.41  \n2008-04-30 00:00:00                   3807.59          3151.09  \n2008-05-31 00:00:00                   3614.83          3085.86  \n...                                       ...              ...  \n2022-08-31 00:00:00                   1119.39          8836.91  \n2022-09-30 00:00:00                    846.93          8541.12  \n2022-10-31 00:00:00                    951.81          7959.95  \n2022-11-30 00:00:00                    978.44          9949.04  \n2022-12-31 00:00:00                   1087.43         10270.25  \n\n[180 rows x 508 columns]",
      "text/html": "<div>\n<style scoped>\n    .dataframe tbody tr th:only-of-type {\n        vertical-align: middle;\n    }\n\n    .dataframe tbody tr th {\n        vertical-align: top;\n    }\n\n    .dataframe thead th {\n        text-align: right;\n    }\n</style>\n<table border=\"1\" class=\"dataframe\">\n  <thead>\n    <tr style=\"text-align: right;\">\n      <th>NAME</th>\n      <th>FLUGHAFEN WIEN</th>\n      <th>ERSTE GROUP BANK</th>\n      <th>OMV</th>\n      <th>VERBUND</th>\n      <th>WIENERBERGER</th>\n      <th>VIENNA INSURANCE GROUP A</th>\n      <th>VOESTALPINE</th>\n      <th>MAYR-MELNHOF KARTON</th>\n      <th>IMMOFINANZ</th>\n      <th>SOLVAY</th>\n      <th>...</th>\n      <th>FABEGE</th>\n      <th>KINNEVIK B</th>\n      <th>INVESTOR A</th>\n      <th>SWEDISH MATCH DEAD - DELIST.02/01/23</th>\n      <th>HEXAGON B</th>\n      <th>NIBE INDUSTRIER</th>\n      <th>ELECTROLUX B</th>\n      <th>ATLAS COPCO A</th>\n      <th>MODERN TIMES GROUP MTG B</th>\n      <th>BOLIDEN ORD SHS</th>\n    </tr>\n  </thead>\n  <tbody>\n    <tr>\n      <th>2008-01-31 00:00:00</th>\n      <td>2329.71</td>\n      <td>16951.92</td>\n      <td>21320.11</td>\n      <td>9860.39</td>\n      <td>3809.48</td>\n      <td>8006.14</td>\n      <td>9977.08</td>\n      <td>2149.78</td>\n      <td>4301.74</td>\n      <td>10532.79</td>\n      <td>...</td>\n      <td>1687.13</td>\n      <td>4192.67</td>\n      <td>5978.81</td>\n      <td>5820.43</td>\n      <td>4397.79</td>\n      <td>798.22</td>\n      <td>4632.15</td>\n      <td>11805.31</td>\n      <td>3089.90</td>\n      <td>2589.58</td>\n    </tr>\n    <tr>\n      <th>2008-02-29 00:00:00</th>\n      <td>2405.60</td>\n      <td>18485.57</td>\n      <td>21814.48</td>\n      <td>11244.90</td>\n      <td>4090.74</td>\n      <td>8828.94</td>\n      <td>10434.43</td>\n      <td>2253.98</td>\n      <td>5002.95</td>\n      <td>10704.38</td>\n      <td>...</td>\n      <td>1974.02</td>\n      <td>4140.66</td>\n      <td>6478.96</td>\n      <td>6274.85</td>\n      <td>5249.61</td>\n      <td>782.09</td>\n      <td>4852.91</td>\n      <td>13196.58</td>\n      <td>3406.39</td>\n      <td>3330.94</td>\n    </tr>\n    <tr>\n      <th>2008-03-31 00:00:00</th>\n      <td>2539.90</td>\n      <td>20573.03</td>\n      <td>19898.56</td>\n      <td>10789.72</td>\n      <td>4481.37</td>\n      <td>8074.23</td>\n      <td>11464.60</td>\n      <td>2228.23</td>\n      <td>4989.29</td>\n      <td>10846.99</td>\n      <td>...</td>\n      <td>1910.95</td>\n      <td>4064.84</td>\n      <td>6833.09</td>\n      <td>5830.83</td>\n      <td>5173.41</td>\n      <td>752.45</td>\n      <td>4923.03</td>\n      <td>14367.51</td>\n      <td>3621.19</td>\n      <td>3087.41</td>\n    </tr>\n    <tr>\n      <th>2008-04-30 00:00:00</th>\n      <td>2654.84</td>\n      <td>23489.06</td>\n      <td>22629.68</td>\n      <td>11694.93</td>\n      <td>4838.47</td>\n      <td>9581.59</td>\n      <td>12608.82</td>\n      <td>2301.74</td>\n      <td>5066.68</td>\n      <td>12451.35</td>\n      <td>...</td>\n      <td>1674.73</td>\n      <td>4583.28</td>\n      <td>7189.28</td>\n      <td>5857.79</td>\n      <td>4610.68</td>\n      <td>671.00</td>\n      <td>4595.81</td>\n      <td>13514.18</td>\n      <td>3807.59</td>\n      <td>3151.09</td>\n    </tr>\n    <tr>\n      <th>2008-05-31 00:00:00</th>\n      <td>2412.28</td>\n      <td>24118.28</td>\n      <td>24671.05</td>\n      <td>12743.09</td>\n      <td>4447.15</td>\n      <td>9722.71</td>\n      <td>13689.03</td>\n      <td>2287.15</td>\n      <td>5399.53</td>\n      <td>12129.17</td>\n      <td>...</td>\n      <td>1560.18</td>\n      <td>4654.90</td>\n      <td>7526.33</td>\n      <td>5424.91</td>\n      <td>5256.57</td>\n      <td>646.89</td>\n      <td>4313.06</td>\n      <td>14852.04</td>\n      <td>3614.83</td>\n      <td>3085.86</td>\n    </tr>\n    <tr>\n      <th>...</th>\n      <td>...</td>\n      <td>...</td>\n      <td>...</td>\n      <td>...</td>\n      <td>...</td>\n      <td>...</td>\n      <td>...</td>\n      <td>...</td>\n      <td>...</td>\n      <td>...</td>\n      <td>...</td>\n      <td>...</td>\n      <td>...</td>\n      <td>...</td>\n      <td>...</td>\n      <td>...</td>\n      <td>...</td>\n      <td>...</td>\n      <td>...</td>\n      <td>...</td>\n      <td>...</td>\n    </tr>\n    <tr>\n      <th>2022-08-31 00:00:00</th>\n      <td>2778.87</td>\n      <td>9715.28</td>\n      <td>13255.37</td>\n      <td>16321.45</td>\n      <td>2703.34</td>\n      <td>3043.93</td>\n      <td>3612.25</td>\n      <td>2996.46</td>\n      <td>2063.65</td>\n      <td>8585.01</td>\n      <td>...</td>\n      <td>2940.99</td>\n      <td>3479.40</td>\n      <td>20847.37</td>\n      <td>15360.14</td>\n      <td>26713.27</td>\n      <td>16809.54</td>\n      <td>3496.16</td>\n      <td>34336.09</td>\n      <td>1119.39</td>\n      <td>8836.91</td>\n    </tr>\n    <tr>\n      <th>2022-09-30 00:00:00</th>\n      <td>2719.75</td>\n      <td>9532.79</td>\n      <td>11981.47</td>\n      <td>14584.20</td>\n      <td>2324.62</td>\n      <td>2620.80</td>\n      <td>3062.82</td>\n      <td>2586.32</td>\n      <td>1695.41</td>\n      <td>8260.50</td>\n      <td>...</td>\n      <td>2262.35</td>\n      <td>3227.76</td>\n      <td>19272.98</td>\n      <td>15116.01</td>\n      <td>24484.81</td>\n      <td>16082.16</td>\n      <td>2878.77</td>\n      <td>31707.46</td>\n      <td>846.93</td>\n      <td>8541.12</td>\n    </tr>\n    <tr>\n      <th>2022-10-31 00:00:00</th>\n      <td>2739.62</td>\n      <td>10602.50</td>\n      <td>15085.69</td>\n      <td>13333.42</td>\n      <td>2634.32</td>\n      <td>2865.33</td>\n      <td>3878.67</td>\n      <td>2846.36</td>\n      <td>1636.38</td>\n      <td>9547.28</td>\n      <td>...</td>\n      <td>2400.10</td>\n      <td>2997.73</td>\n      <td>21199.72</td>\n      <td>15677.18</td>\n      <td>25645.89</td>\n      <td>14214.49</td>\n      <td>3389.53</td>\n      <td>35865.30</td>\n      <td>951.81</td>\n      <td>7959.95</td>\n    </tr>\n    <tr>\n      <th>2022-11-30 00:00:00</th>\n      <td>2854.20</td>\n      <td>13099.32</td>\n      <td>16902.76</td>\n      <td>15082.96</td>\n      <td>2896.84</td>\n      <td>2939.04</td>\n      <td>4772.57</td>\n      <td>3336.07</td>\n      <td>1753.36</td>\n      <td>10234.37</td>\n      <td>...</td>\n      <td>2699.29</td>\n      <td>3626.43</td>\n      <td>23377.18</td>\n      <td>16445.79</td>\n      <td>28753.87</td>\n      <td>16381.75</td>\n      <td>3828.45</td>\n      <td>40666.87</td>\n      <td>978.44</td>\n      <td>9949.04</td>\n    </tr>\n    <tr>\n      <th>2022-12-31 00:00:00</th>\n      <td>2900.21</td>\n      <td>13715.54</td>\n      <td>16800.81</td>\n      <td>14289.58</td>\n      <td>2690.25</td>\n      <td>3053.25</td>\n      <td>4722.09</td>\n      <td>3227.43</td>\n      <td>1719.74</td>\n      <td>10673.85</td>\n      <td>...</td>\n      <td>2815.91</td>\n      <td>3335.31</td>\n      <td>23195.38</td>\n      <td>16619.16</td>\n      <td>27149.01</td>\n      <td>16615.26</td>\n      <td>3714.02</td>\n      <td>39667.59</td>\n      <td>1087.43</td>\n      <td>10270.25</td>\n    </tr>\n  </tbody>\n</table>\n<p>180 rows × 508 columns</p>\n</div>"
     },
     "execution_count": 22,
     "metadata": {},
     "output_type": "execute_result"
    }
   ],
   "source": [
    "dfmcapitalizationT = dfmcapitalizationpost.T\n",
    "dfmcapitalizationT"
   ],
   "metadata": {
    "collapsed": false,
    "ExecuteTime": {
     "end_time": "2024-03-06T10:23:02.190210Z",
     "start_time": "2024-03-06T10:22:59.796457Z"
    }
   }
  },
  {
   "cell_type": "code",
   "execution_count": 19,
   "outputs": [
    {
     "name": "stdout",
     "output_type": "stream",
     "text": [
      "0      object\n",
      "1      object\n",
      "2      object\n",
      "3      object\n",
      "4      object\n",
      "        ...  \n",
      "503    object\n",
      "504    object\n",
      "505    object\n",
      "506    object\n",
      "507    object\n",
      "Length: 508, dtype: object\n"
     ]
    }
   ],
   "source": [
    "print(dfmcapitalizationT.dtypes)"
   ],
   "metadata": {
    "collapsed": false,
    "ExecuteTime": {
     "end_time": "2024-03-06T10:15:42.164189Z",
     "start_time": "2024-03-06T10:15:42.108589Z"
    }
   }
  },
  {
   "cell_type": "code",
   "execution_count": 23,
   "outputs": [],
   "source": [
    "dfmreturns = dfmcapitalizationT.pct_change()"
   ],
   "metadata": {
    "collapsed": false,
    "ExecuteTime": {
     "end_time": "2024-03-06T10:23:28.393307Z",
     "start_time": "2024-03-06T10:23:28.289493Z"
    }
   }
  },
  {
   "cell_type": "code",
   "execution_count": 24,
   "outputs": [
    {
     "data": {
      "text/plain": "NAME                 FLUGHAFEN WIEN  ERSTE GROUP BANK       OMV   VERBUND  \\\n2008-01-31 00:00:00             NaN               NaN       NaN       NaN   \n2008-02-29 00:00:00        0.032575          0.090471  0.023188  0.140411   \n2008-03-31 00:00:00        0.055828          0.112924 -0.087828 -0.040479   \n2008-04-30 00:00:00        0.045254          0.141740  0.137252  0.083896   \n2008-05-31 00:00:00       -0.091365          0.026788  0.090208  0.089625   \n...                             ...               ...       ...       ...   \n2022-08-31 00:00:00       -0.010835         -0.102478 -0.040986 -0.125302   \n2022-09-30 00:00:00       -0.021275         -0.018784 -0.096104 -0.106440   \n2022-10-31 00:00:00        0.007306          0.112214  0.259085 -0.085763   \n2022-11-30 00:00:00        0.041823          0.235494  0.120450  0.131215   \n2022-12-31 00:00:00        0.016120          0.047042 -0.006032 -0.052601   \n\nNAME                 WIENERBERGER  VIENNA INSURANCE GROUP A  VOESTALPINE  \\\n2008-01-31 00:00:00           NaN                       NaN          NaN   \n2008-02-29 00:00:00      0.073832                  0.102771     0.045840   \n2008-03-31 00:00:00      0.095491                 -0.085481     0.098728   \n2008-04-30 00:00:00      0.079685                  0.186688     0.099805   \n2008-05-31 00:00:00     -0.080877                  0.014728     0.085671   \n...                           ...                       ...          ...   \n2022-08-31 00:00:00      0.025706                  0.041190    -0.093998   \n2022-09-30 00:00:00     -0.140093                 -0.139008    -0.152102   \n2022-10-31 00:00:00      0.133226                  0.093304     0.266372   \n2022-11-30 00:00:00      0.099654                  0.025725     0.230466   \n2022-12-31 00:00:00     -0.071316                  0.038860    -0.010577   \n\nNAME                 MAYR-MELNHOF KARTON  IMMOFINANZ    SOLVAY  ...    FABEGE  \\\n2008-01-31 00:00:00                  NaN         NaN       NaN  ...       NaN   \n2008-02-29 00:00:00             0.048470    0.163006  0.016291  ...  0.170046   \n2008-03-31 00:00:00            -0.011424   -0.002730  0.013323  ... -0.031950   \n2008-04-30 00:00:00             0.032990    0.015511  0.147908  ... -0.123614   \n2008-05-31 00:00:00            -0.006339    0.065694 -0.025875  ... -0.068399   \n...                                  ...         ...       ...  ...       ...   \n2022-08-31 00:00:00            -0.056887   -0.023739 -0.069899  ... -0.127152   \n2022-09-30 00:00:00            -0.136875   -0.178441 -0.037800  ... -0.230752   \n2022-10-31 00:00:00             0.100544   -0.034818  0.155775  ...  0.060888   \n2022-11-30 00:00:00             0.172048    0.071487  0.071967  ...  0.124657   \n2022-12-31 00:00:00            -0.032565   -0.019175  0.042942  ...  0.043204   \n\nNAME                 KINNEVIK B  INVESTOR A  \\\n2008-01-31 00:00:00         NaN         NaN   \n2008-02-29 00:00:00   -0.012405    0.083654   \n2008-03-31 00:00:00   -0.018311    0.054658   \n2008-04-30 00:00:00    0.127543    0.052127   \n2008-05-31 00:00:00    0.015626    0.046882   \n...                         ...         ...   \n2022-08-31 00:00:00   -0.196648   -0.180800   \n2022-09-30 00:00:00   -0.072323   -0.075520   \n2022-10-31 00:00:00   -0.071266    0.099971   \n2022-11-30 00:00:00    0.209725    0.102712   \n2022-12-31 00:00:00   -0.080277   -0.007777   \n\nNAME                 SWEDISH MATCH DEAD - DELIST.02/01/23  HEXAGON B  \\\n2008-01-31 00:00:00                                   NaN        NaN   \n2008-02-29 00:00:00                              0.078073   0.193693   \n2008-03-31 00:00:00                             -0.070762  -0.014515   \n2008-04-30 00:00:00                              0.004624  -0.108774   \n2008-05-31 00:00:00                             -0.073898   0.140086   \n...                                                   ...        ...   \n2022-08-31 00:00:00                             -0.033070  -0.117771   \n2022-09-30 00:00:00                             -0.015894  -0.083421   \n2022-10-31 00:00:00                              0.037124   0.047420   \n2022-11-30 00:00:00                              0.049027   0.121188   \n2022-12-31 00:00:00                              0.010542  -0.055814   \n\nNAME                 NIBE INDUSTRIER  ELECTROLUX B  ATLAS COPCO A  \\\n2008-01-31 00:00:00              NaN           NaN            NaN   \n2008-02-29 00:00:00        -0.020207      0.047658       0.117851   \n2008-03-31 00:00:00        -0.037898      0.014449       0.088730   \n2008-04-30 00:00:00        -0.108246     -0.066467      -0.059393   \n2008-05-31 00:00:00        -0.035931     -0.061523       0.098997   \n...                              ...           ...            ...   \n2022-08-31 00:00:00        -0.055794     -0.111129      -0.116587   \n2022-09-30 00:00:00        -0.043272     -0.176591      -0.076556   \n2022-10-31 00:00:00        -0.116133      0.177423       0.131131   \n2022-11-30 00:00:00         0.152468      0.129493       0.133878   \n2022-12-31 00:00:00         0.014254     -0.029889      -0.024572   \n\nNAME                 MODERN TIMES GROUP MTG B  BOLIDEN ORD SHS  \n2008-01-31 00:00:00                       NaN              NaN  \n2008-02-29 00:00:00                  0.102427         0.286286  \n2008-03-31 00:00:00                  0.063058        -0.073111  \n2008-04-30 00:00:00                  0.051475         0.020626  \n2008-05-31 00:00:00                 -0.050625        -0.020701  \n...                                       ...              ...  \n2022-08-31 00:00:00                 -0.143667        -0.022415  \n2022-09-30 00:00:00                 -0.243400        -0.033472  \n2022-10-31 00:00:00                  0.123835        -0.068044  \n2022-11-30 00:00:00                  0.027978         0.249887  \n2022-12-31 00:00:00                  0.111392         0.032286  \n\n[180 rows x 508 columns]",
      "text/html": "<div>\n<style scoped>\n    .dataframe tbody tr th:only-of-type {\n        vertical-align: middle;\n    }\n\n    .dataframe tbody tr th {\n        vertical-align: top;\n    }\n\n    .dataframe thead th {\n        text-align: right;\n    }\n</style>\n<table border=\"1\" class=\"dataframe\">\n  <thead>\n    <tr style=\"text-align: right;\">\n      <th>NAME</th>\n      <th>FLUGHAFEN WIEN</th>\n      <th>ERSTE GROUP BANK</th>\n      <th>OMV</th>\n      <th>VERBUND</th>\n      <th>WIENERBERGER</th>\n      <th>VIENNA INSURANCE GROUP A</th>\n      <th>VOESTALPINE</th>\n      <th>MAYR-MELNHOF KARTON</th>\n      <th>IMMOFINANZ</th>\n      <th>SOLVAY</th>\n      <th>...</th>\n      <th>FABEGE</th>\n      <th>KINNEVIK B</th>\n      <th>INVESTOR A</th>\n      <th>SWEDISH MATCH DEAD - DELIST.02/01/23</th>\n      <th>HEXAGON B</th>\n      <th>NIBE INDUSTRIER</th>\n      <th>ELECTROLUX B</th>\n      <th>ATLAS COPCO A</th>\n      <th>MODERN TIMES GROUP MTG B</th>\n      <th>BOLIDEN ORD SHS</th>\n    </tr>\n  </thead>\n  <tbody>\n    <tr>\n      <th>2008-01-31 00:00:00</th>\n      <td>NaN</td>\n      <td>NaN</td>\n      <td>NaN</td>\n      <td>NaN</td>\n      <td>NaN</td>\n      <td>NaN</td>\n      <td>NaN</td>\n      <td>NaN</td>\n      <td>NaN</td>\n      <td>NaN</td>\n      <td>...</td>\n      <td>NaN</td>\n      <td>NaN</td>\n      <td>NaN</td>\n      <td>NaN</td>\n      <td>NaN</td>\n      <td>NaN</td>\n      <td>NaN</td>\n      <td>NaN</td>\n      <td>NaN</td>\n      <td>NaN</td>\n    </tr>\n    <tr>\n      <th>2008-02-29 00:00:00</th>\n      <td>0.032575</td>\n      <td>0.090471</td>\n      <td>0.023188</td>\n      <td>0.140411</td>\n      <td>0.073832</td>\n      <td>0.102771</td>\n      <td>0.045840</td>\n      <td>0.048470</td>\n      <td>0.163006</td>\n      <td>0.016291</td>\n      <td>...</td>\n      <td>0.170046</td>\n      <td>-0.012405</td>\n      <td>0.083654</td>\n      <td>0.078073</td>\n      <td>0.193693</td>\n      <td>-0.020207</td>\n      <td>0.047658</td>\n      <td>0.117851</td>\n      <td>0.102427</td>\n      <td>0.286286</td>\n    </tr>\n    <tr>\n      <th>2008-03-31 00:00:00</th>\n      <td>0.055828</td>\n      <td>0.112924</td>\n      <td>-0.087828</td>\n      <td>-0.040479</td>\n      <td>0.095491</td>\n      <td>-0.085481</td>\n      <td>0.098728</td>\n      <td>-0.011424</td>\n      <td>-0.002730</td>\n      <td>0.013323</td>\n      <td>...</td>\n      <td>-0.031950</td>\n      <td>-0.018311</td>\n      <td>0.054658</td>\n      <td>-0.070762</td>\n      <td>-0.014515</td>\n      <td>-0.037898</td>\n      <td>0.014449</td>\n      <td>0.088730</td>\n      <td>0.063058</td>\n      <td>-0.073111</td>\n    </tr>\n    <tr>\n      <th>2008-04-30 00:00:00</th>\n      <td>0.045254</td>\n      <td>0.141740</td>\n      <td>0.137252</td>\n      <td>0.083896</td>\n      <td>0.079685</td>\n      <td>0.186688</td>\n      <td>0.099805</td>\n      <td>0.032990</td>\n      <td>0.015511</td>\n      <td>0.147908</td>\n      <td>...</td>\n      <td>-0.123614</td>\n      <td>0.127543</td>\n      <td>0.052127</td>\n      <td>0.004624</td>\n      <td>-0.108774</td>\n      <td>-0.108246</td>\n      <td>-0.066467</td>\n      <td>-0.059393</td>\n      <td>0.051475</td>\n      <td>0.020626</td>\n    </tr>\n    <tr>\n      <th>2008-05-31 00:00:00</th>\n      <td>-0.091365</td>\n      <td>0.026788</td>\n      <td>0.090208</td>\n      <td>0.089625</td>\n      <td>-0.080877</td>\n      <td>0.014728</td>\n      <td>0.085671</td>\n      <td>-0.006339</td>\n      <td>0.065694</td>\n      <td>-0.025875</td>\n      <td>...</td>\n      <td>-0.068399</td>\n      <td>0.015626</td>\n      <td>0.046882</td>\n      <td>-0.073898</td>\n      <td>0.140086</td>\n      <td>-0.035931</td>\n      <td>-0.061523</td>\n      <td>0.098997</td>\n      <td>-0.050625</td>\n      <td>-0.020701</td>\n    </tr>\n    <tr>\n      <th>...</th>\n      <td>...</td>\n      <td>...</td>\n      <td>...</td>\n      <td>...</td>\n      <td>...</td>\n      <td>...</td>\n      <td>...</td>\n      <td>...</td>\n      <td>...</td>\n      <td>...</td>\n      <td>...</td>\n      <td>...</td>\n      <td>...</td>\n      <td>...</td>\n      <td>...</td>\n      <td>...</td>\n      <td>...</td>\n      <td>...</td>\n      <td>...</td>\n      <td>...</td>\n      <td>...</td>\n    </tr>\n    <tr>\n      <th>2022-08-31 00:00:00</th>\n      <td>-0.010835</td>\n      <td>-0.102478</td>\n      <td>-0.040986</td>\n      <td>-0.125302</td>\n      <td>0.025706</td>\n      <td>0.041190</td>\n      <td>-0.093998</td>\n      <td>-0.056887</td>\n      <td>-0.023739</td>\n      <td>-0.069899</td>\n      <td>...</td>\n      <td>-0.127152</td>\n      <td>-0.196648</td>\n      <td>-0.180800</td>\n      <td>-0.033070</td>\n      <td>-0.117771</td>\n      <td>-0.055794</td>\n      <td>-0.111129</td>\n      <td>-0.116587</td>\n      <td>-0.143667</td>\n      <td>-0.022415</td>\n    </tr>\n    <tr>\n      <th>2022-09-30 00:00:00</th>\n      <td>-0.021275</td>\n      <td>-0.018784</td>\n      <td>-0.096104</td>\n      <td>-0.106440</td>\n      <td>-0.140093</td>\n      <td>-0.139008</td>\n      <td>-0.152102</td>\n      <td>-0.136875</td>\n      <td>-0.178441</td>\n      <td>-0.037800</td>\n      <td>...</td>\n      <td>-0.230752</td>\n      <td>-0.072323</td>\n      <td>-0.075520</td>\n      <td>-0.015894</td>\n      <td>-0.083421</td>\n      <td>-0.043272</td>\n      <td>-0.176591</td>\n      <td>-0.076556</td>\n      <td>-0.243400</td>\n      <td>-0.033472</td>\n    </tr>\n    <tr>\n      <th>2022-10-31 00:00:00</th>\n      <td>0.007306</td>\n      <td>0.112214</td>\n      <td>0.259085</td>\n      <td>-0.085763</td>\n      <td>0.133226</td>\n      <td>0.093304</td>\n      <td>0.266372</td>\n      <td>0.100544</td>\n      <td>-0.034818</td>\n      <td>0.155775</td>\n      <td>...</td>\n      <td>0.060888</td>\n      <td>-0.071266</td>\n      <td>0.099971</td>\n      <td>0.037124</td>\n      <td>0.047420</td>\n      <td>-0.116133</td>\n      <td>0.177423</td>\n      <td>0.131131</td>\n      <td>0.123835</td>\n      <td>-0.068044</td>\n    </tr>\n    <tr>\n      <th>2022-11-30 00:00:00</th>\n      <td>0.041823</td>\n      <td>0.235494</td>\n      <td>0.120450</td>\n      <td>0.131215</td>\n      <td>0.099654</td>\n      <td>0.025725</td>\n      <td>0.230466</td>\n      <td>0.172048</td>\n      <td>0.071487</td>\n      <td>0.071967</td>\n      <td>...</td>\n      <td>0.124657</td>\n      <td>0.209725</td>\n      <td>0.102712</td>\n      <td>0.049027</td>\n      <td>0.121188</td>\n      <td>0.152468</td>\n      <td>0.129493</td>\n      <td>0.133878</td>\n      <td>0.027978</td>\n      <td>0.249887</td>\n    </tr>\n    <tr>\n      <th>2022-12-31 00:00:00</th>\n      <td>0.016120</td>\n      <td>0.047042</td>\n      <td>-0.006032</td>\n      <td>-0.052601</td>\n      <td>-0.071316</td>\n      <td>0.038860</td>\n      <td>-0.010577</td>\n      <td>-0.032565</td>\n      <td>-0.019175</td>\n      <td>0.042942</td>\n      <td>...</td>\n      <td>0.043204</td>\n      <td>-0.080277</td>\n      <td>-0.007777</td>\n      <td>0.010542</td>\n      <td>-0.055814</td>\n      <td>0.014254</td>\n      <td>-0.029889</td>\n      <td>-0.024572</td>\n      <td>0.111392</td>\n      <td>0.032286</td>\n    </tr>\n  </tbody>\n</table>\n<p>180 rows × 508 columns</p>\n</div>"
     },
     "execution_count": 24,
     "metadata": {},
     "output_type": "execute_result"
    }
   ],
   "source": [
    "dfmreturns"
   ],
   "metadata": {
    "collapsed": false,
    "ExecuteTime": {
     "end_time": "2024-03-06T10:23:30.452360Z",
     "start_time": "2024-03-06T10:23:30.371048Z"
    }
   }
  },
  {
   "cell_type": "code",
   "execution_count": 26,
   "outputs": [],
   "source": [
    "dfannualizedreturns = dfmreturns.mean() * 12"
   ],
   "metadata": {
    "collapsed": false,
    "ExecuteTime": {
     "end_time": "2024-03-06T10:23:58.812908Z",
     "start_time": "2024-03-06T10:23:58.673497Z"
    }
   }
  },
  {
   "cell_type": "code",
   "execution_count": 89,
   "outputs": [
    {
     "data": {
      "text/plain": "NAME\nFLUGHAFEN WIEN              0.115048\nERSTE GROUP BANK            0.178020\nOMV                         0.145874\nVERBUND                     0.144949\nWIENERBERGER                0.105628\n                              ...   \nNIBE INDUSTRIER             0.304830\nELECTROLUX B                0.039094\nATLAS COPCO A               0.158279\nMODERN TIMES GROUP MTG B    0.096511\nBOLIDEN ORD SHS             0.353588\nLength: 508, dtype: float64"
     },
     "execution_count": 89,
     "metadata": {},
     "output_type": "execute_result"
    }
   ],
   "source": [
    "dfannualizedreturns"
   ],
   "metadata": {
    "collapsed": false,
    "ExecuteTime": {
     "end_time": "2024-03-05T09:00:38.487519Z",
     "start_time": "2024-03-05T09:00:38.410989Z"
    }
   }
  },
  {
   "cell_type": "code",
   "execution_count": 27,
   "outputs": [
    {
     "data": {
      "text/plain": "<Axes: xlabel='NAME'>"
     },
     "execution_count": 27,
     "metadata": {},
     "output_type": "execute_result"
    },
    {
     "data": {
      "text/plain": "<Figure size 640x480 with 1 Axes>",
      "image/png": "[encoded data removed]"
     },
     "metadata": {},
     "output_type": "display_data"
    }
   ],
   "source": [
    "dfannualizedreturns.plot()"
   ],
   "metadata": {
    "collapsed": false,
    "ExecuteTime": {
     "end_time": "2024-03-06T10:24:05.666744Z",
     "start_time": "2024-03-06T10:24:04.250490Z"
    }
   }
  },
  {
   "cell_type": "code",
   "execution_count": 28,
   "outputs": [
    {
     "data": {
      "text/plain": "<Axes: ylabel='Count'>"
     },
     "execution_count": 28,
     "metadata": {},
     "output_type": "execute_result"
    },
    {
     "data": {
      "text/plain": "<Figure size 640x480 with 1 Axes>",
      "image/png": "[encoded data removed]"
     },
     "metadata": {},
     "output_type": "display_data"
    }
   ],
   "source": [
    "sns.histplot(dfannualizedreturns)"
   ],
   "metadata": {
    "collapsed": false,
    "ExecuteTime": {
     "end_time": "2024-03-06T10:24:19.803277Z",
     "start_time": "2024-03-06T10:24:08.343264Z"
    }
   }
  },
  {
   "cell_type": "markdown",
   "source": [
    "### Annualized volatility"
   ],
   "metadata": {
    "collapsed": false
   }
  },
  {
   "cell_type": "code",
   "execution_count": 29,
   "outputs": [
    {
     "data": {
      "text/plain": "NAME\nFLUGHAFEN WIEN              0.091528\nERSTE GROUP BANK            0.138056\nOMV                         0.108334\nVERBUND                     0.097245\nWIENERBERGER                0.126344\n                              ...   \nNIBE INDUSTRIER             0.099388\nELECTROLUX B                0.106980\nATLAS COPCO A               0.090878\nMODERN TIMES GROUP MTG B    0.142225\nBOLIDEN ORD SHS             0.138877\nLength: 508, dtype: float64"
     },
     "execution_count": 29,
     "metadata": {},
     "output_type": "execute_result"
    }
   ],
   "source": [
    "deviations = dfmreturns - dfmreturns.mean()\n",
    "squared_deviations = deviations**2\n",
    "mean_squared_deviations = squared_deviations.mean()\n",
    "\n",
    "dfmvolatility = np.sqrt(mean_squared_deviations)\n",
    "dfmvolatility"
   ],
   "metadata": {
    "collapsed": false,
    "ExecuteTime": {
     "end_time": "2024-03-06T10:24:19.948350Z",
     "start_time": "2024-03-06T10:24:19.789501Z"
    }
   }
  },
  {
   "cell_type": "code",
   "execution_count": 30,
   "outputs": [
    {
     "data": {
      "text/plain": "NAME\nFLUGHAFEN WIEN              0.317062\nERSTE GROUP BANK            0.478240\nOMV                         0.375280\nVERBUND                     0.336867\nWIENERBERGER                0.437669\n                              ...   \nNIBE INDUSTRIER             0.344290\nELECTROLUX B                0.370590\nATLAS COPCO A               0.314810\nMODERN TIMES GROUP MTG B    0.492681\nBOLIDEN ORD SHS             0.481085\nLength: 508, dtype: float64"
     },
     "execution_count": 30,
     "metadata": {},
     "output_type": "execute_result"
    }
   ],
   "source": [
    "dfannualizedvolatility = dfmvolatility*(12**0.5)\n",
    "dfannualizedvolatility"
   ],
   "metadata": {
    "collapsed": false,
    "ExecuteTime": {
     "end_time": "2024-03-06T10:25:51.830614Z",
     "start_time": "2024-03-06T10:25:51.756602Z"
    }
   }
  },
  {
   "cell_type": "code",
   "execution_count": 31,
   "outputs": [
    {
     "data": {
      "text/plain": "<Axes: xlabel='NAME'>"
     },
     "execution_count": 31,
     "metadata": {},
     "output_type": "execute_result"
    },
    {
     "data": {
      "text/plain": "<Figure size 640x480 with 1 Axes>",
      "image/png": "[encoded data removed]"
     },
     "metadata": {},
     "output_type": "display_data"
    }
   ],
   "source": [
    "dfannualizedvolatility.plot()"
   ],
   "metadata": {
    "collapsed": false,
    "ExecuteTime": {
     "end_time": "2024-03-06T10:25:55.673577Z",
     "start_time": "2024-03-06T10:25:55.149596Z"
    }
   }
  },
  {
   "cell_type": "markdown",
   "source": [
    "Compute and comment on the correlation between individual average RIs and volatilities in the cross section."
   ],
   "metadata": {
    "collapsed": false
   }
  },
  {
   "cell_type": "markdown",
   "source": [
    "### Correlation"
   ],
   "metadata": {
    "collapsed": false
   }
  },
  {
   "cell_type": "code",
   "execution_count": 32,
   "outputs": [],
   "source": [
    "df = pd.DataFrame()\n",
    "df[\"returns\"]=dfannualizedreturns"
   ],
   "metadata": {
    "collapsed": false,
    "ExecuteTime": {
     "end_time": "2024-03-06T10:26:03.415764Z",
     "start_time": "2024-03-06T10:26:03.209826Z"
    }
   }
  },
  {
   "cell_type": "code",
   "execution_count": 33,
   "outputs": [],
   "source": [
    "df[\"volatility\"]=dfannualizedvolatility"
   ],
   "metadata": {
    "collapsed": false,
    "ExecuteTime": {
     "end_time": "2024-03-06T10:26:04.464473Z",
     "start_time": "2024-03-06T10:26:04.219281Z"
    }
   }
  },
  {
   "cell_type": "code",
   "execution_count": 34,
   "outputs": [
    {
     "data": {
      "text/plain": "<bound method DataFrame.corr of                            returns  volatility\nNAME                                          \nFLUGHAFEN WIEN            0.065887    0.317062\nERSTE GROUP BANK          0.103001    0.478240\nOMV                       0.055039    0.375280\nVERBUND                   0.081249    0.336867\nWIENERBERGER              0.075192    0.437669\n...                            ...         ...\nNIBE INDUSTRIER           0.263831    0.344290\nELECTROLUX B              0.052809    0.370590\nATLAS COPCO A             0.131840    0.314810\nMODERN TIMES GROUP MTG B  0.060201    0.492681\nBOLIDEN ORD SHS           0.201660    0.481085\n\n[508 rows x 2 columns]>"
     },
     "execution_count": 34,
     "metadata": {},
     "output_type": "execute_result"
    }
   ],
   "source": [
    "df.corr"
   ],
   "metadata": {
    "collapsed": false,
    "ExecuteTime": {
     "end_time": "2024-03-06T10:26:05.635971Z",
     "start_time": "2024-03-06T10:26:05.562004Z"
    }
   }
  },
  {
   "cell_type": "code",
   "execution_count": 35,
   "outputs": [
    {
     "ename": "AttributeError",
     "evalue": "'numpy.float64' object has no attribute 'corr'",
     "output_type": "error",
     "traceback": [
      "\u001B[0;31m---------------------------------------------------------------------------\u001B[0m",
      "\u001B[0;31mAttributeError\u001B[0m                            Traceback (most recent call last)",
      "Cell \u001B[0;32mIn[35], line 3\u001B[0m\n\u001B[1;32m      1\u001B[0m df[\u001B[38;5;124m\"\u001B[39m\u001B[38;5;124mcorr\u001B[39m\u001B[38;5;124m\"\u001B[39m] \u001B[38;5;241m=\u001B[39m \u001B[38;5;241m0\u001B[39m\n\u001B[1;32m      2\u001B[0m \u001B[38;5;28;01mfor\u001B[39;00m i \u001B[38;5;129;01min\u001B[39;00m df\u001B[38;5;241m.\u001B[39mindex:\n\u001B[0;32m----> 3\u001B[0m     df\u001B[38;5;241m.\u001B[39mloc[i, \u001B[38;5;124m\"\u001B[39m\u001B[38;5;124mcorr\u001B[39m\u001B[38;5;124m\"\u001B[39m] \u001B[38;5;241m=\u001B[39m \u001B[43mdf\u001B[49m\u001B[38;5;241;43m.\u001B[39;49m\u001B[43mloc\u001B[49m\u001B[43m[\u001B[49m\u001B[43mi\u001B[49m\u001B[43m,\u001B[49m\u001B[43m \u001B[49m\u001B[38;5;124;43m\"\u001B[39;49m\u001B[38;5;124;43mreturns\u001B[39;49m\u001B[38;5;124;43m\"\u001B[39;49m\u001B[43m]\u001B[49m\u001B[38;5;241;43m.\u001B[39;49m\u001B[43mcorr\u001B[49m(df\u001B[38;5;241m.\u001B[39mloc[i, \u001B[38;5;124m\"\u001B[39m\u001B[38;5;124mvolatility\u001B[39m\u001B[38;5;124m\"\u001B[39m], method\u001B[38;5;241m=\u001B[39m\u001B[38;5;124m\"\u001B[39m\u001B[38;5;124mpearson\u001B[39m\u001B[38;5;124m\"\u001B[39m)\n",
      "\u001B[0;31mAttributeError\u001B[0m: 'numpy.float64' object has no attribute 'corr'"
     ]
    }
   ],
   "source": [
    "df[\"corr\"] = 0\n",
    "for i in df.index:\n",
    "    df.loc[i, \"corr\"] = df.loc[i, \"returns\"].corr(df.loc[i, \"volatility\"], method=\"pearson\")"
   ],
   "metadata": {
    "collapsed": false,
    "ExecuteTime": {
     "end_time": "2024-03-06T10:26:09.730504Z",
     "start_time": "2024-03-06T10:26:09.680150Z"
    }
   }
  },
  {
   "cell_type": "code",
   "execution_count": 109,
   "outputs": [
    {
     "data": {
      "text/plain": "0.0"
     },
     "execution_count": 109,
     "metadata": {},
     "output_type": "execute_result"
    }
   ],
   "source": [
    "df.loc[i][\"corr\"]\n"
   ],
   "metadata": {
    "collapsed": false,
    "ExecuteTime": {
     "end_time": "2024-03-05T09:20:55.401742Z",
     "start_time": "2024-03-05T09:20:55.326141Z"
    }
   }
  },
  {
   "cell_type": "markdown",
   "source": [
    "## TASK 2"
   ],
   "metadata": {
    "collapsed": false
   }
  },
  {
   "cell_type": "markdown",
   "source": [
    "Report the following statistics for both portfolios (equally-weighted portfolio & the market-cap weighted portfolio with monthly rebalancing over the period 2008–2022): annualized average return, annualized volatility, Sharpe ratio, minimum return, and maximum return. Plot the time series of cumulated returns for both portfolios. (15 points)"
   ],
   "metadata": {
    "collapsed": false
   }
  },
  {
   "cell_type": "markdown",
   "source": [
    "### Equally-weighted portfolio"
   ],
   "metadata": {
    "collapsed": false
   }
  },
  {
   "cell_type": "code",
   "execution_count": 36,
   "outputs": [
    {
     "data": {
      "text/plain": "0.001968503937007874"
     },
     "execution_count": 36,
     "metadata": {},
     "output_type": "execute_result"
    }
   ],
   "source": [
    "#Creating a vector with equal weights for the 508 firms\n",
    "n_columns = 508\n",
    "\n",
    "#df_weight = pd.DataFrame([1/n_columns] * n_columns).T\n",
    "weight = 1/508\n",
    "weight"
   ],
   "metadata": {
    "collapsed": false,
    "ExecuteTime": {
     "end_time": "2024-03-06T10:26:18.692611Z",
     "start_time": "2024-03-06T10:26:18.657161Z"
    }
   }
  },
  {
   "cell_type": "code",
   "execution_count": 37,
   "outputs": [
    {
     "data": {
      "text/plain": "2008-01-31 00:00:00    0.000000\n2008-02-29 00:00:00    0.035499\n2008-03-31 00:00:00    0.013891\n2008-04-30 00:00:00    0.017129\n2008-05-31 00:00:00    0.001064\n                         ...   \n2022-08-31 00:00:00   -0.068045\n2022-09-30 00:00:00   -0.119233\n2022-10-31 00:00:00    0.099507\n2022-11-30 00:00:00    0.107013\n2022-12-31 00:00:00    0.011110\nLength: 180, dtype: float64"
     },
     "execution_count": 37,
     "metadata": {},
     "output_type": "execute_result"
    }
   ],
   "source": [
    "#Equally weighted portfolio (average returns of all firms per each month)\n",
    "mreturnsEW = (dfmreturns * weight).sum(axis=1)\n",
    "mreturnsEW"
   ],
   "metadata": {
    "collapsed": false,
    "ExecuteTime": {
     "end_time": "2024-03-06T10:26:21.092617Z",
     "start_time": "2024-03-06T10:26:21.014910Z"
    }
   }
  },
  {
   "cell_type": "code",
   "execution_count": 38,
   "outputs": [
    {
     "data": {
      "text/plain": "11.406284087785595"
     },
     "execution_count": 38,
     "metadata": {},
     "output_type": "execute_result"
    }
   ],
   "source": [
    "annualizedmreturnsEW = ((1+ mreturnsEW.mean())*12)-1\n",
    "annualizedmreturnsEW"
   ],
   "metadata": {
    "collapsed": false,
    "ExecuteTime": {
     "end_time": "2024-03-06T10:26:24.901619Z",
     "start_time": "2024-03-06T10:26:24.793497Z"
    }
   }
  },
  {
   "cell_type": "markdown",
   "source": [
    "### Market-cap portfolio"
   ],
   "metadata": {
    "collapsed": false
   }
  },
  {
   "cell_type": "code",
   "execution_count": 39,
   "outputs": [
    {
     "data": {
      "text/plain": "2008-01-31 00:00:00    0.000000\n2008-02-29 00:00:00    0.000000\n2008-03-31 00:00:00    0.021868\n2008-04-30 00:00:00    0.008346\n2008-05-31 00:00:00    0.041265\n                         ...   \n2022-08-31 00:00:00    0.049530\n2022-09-30 00:00:00   -0.057216\n2022-10-31 00:00:00   -0.083940\n2022-11-30 00:00:00    0.079450\n2022-12-31 00:00:00    0.115599\nLength: 180, dtype: float64"
     },
     "execution_count": 39,
     "metadata": {},
     "output_type": "execute_result"
    }
   ],
   "source": [
    "# Calculate weights for each month based on previous month's capitalization\n",
    "totalcapprevious = dfmcapitalizationT.shift(0).sum(axis=1)\n",
    "weights = dfmcapitalizationT.shift(0).div(totalcapprevious, axis=0)\n",
    "\n",
    "# Calculate the value-weighted portfolio returns\n",
    "portfolioreturnsVW = (dfmreturns.shift(1) * weights).sum(axis=1)\n",
    "portfolioreturnsVW\n"
   ],
   "metadata": {
    "collapsed": false,
    "ExecuteTime": {
     "end_time": "2024-03-06T10:26:27.132447Z",
     "start_time": "2024-03-06T10:26:27.059820Z"
    }
   }
  },
  {
   "cell_type": "code",
   "execution_count": 40,
   "outputs": [],
   "source": [
    "dfmreturns = dfmcapitalizationT.pct_change()"
   ],
   "metadata": {
    "collapsed": false,
    "ExecuteTime": {
     "end_time": "2024-03-06T10:26:29.198817Z",
     "start_time": "2024-03-06T10:26:29.151534Z"
    }
   }
  },
  {
   "cell_type": "code",
   "execution_count": null,
   "outputs": [],
   "source": [],
   "metadata": {
    "collapsed": false
   }
  }
 ],
 "metadata": {
  "language_info": {
   "name": "python"
  },
  "kernelspec": {
   "name": "python3",
   "language": "python",
   "display_name": "Python 3 (ipykernel)"
  }
 },
 "nbformat": 4,
 "nbformat_minor": 2
}
