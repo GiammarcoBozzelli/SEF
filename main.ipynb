{
 "cells": [
  {
   "cell_type": "markdown",
   "metadata": {
    "collapsed": false
   },
   "source": [
    "# HOMEWORK 1"
   ]
  },
  {
   "cell_type": "markdown",
   "metadata": {
    "collapsed": false
   },
   "source": [
    "## DATABASE CREATION"
   ]
  },
  {
   "cell_type": "code",
   "execution_count": 8,
   "metadata": {
    "ExecuteTime": {
     "end_time": "2024-03-05T07:41:55.234426Z",
     "start_time": "2024-03-05T07:41:51.745440Z"
    },
    "collapsed": false
   },
   "outputs": [
    {
     "name": "stdout",
     "output_type": "stream",
     "text": [
      "Requirement already satisfied: pandas in c:\\users\\giamm\\appdata\\local\\programs\\python\\python310\\lib\\site-packages (2.2.1)Note: you may need to restart the kernel to use updated packages.\n"
     ]
    },
    {
     "name": "stderr",
     "output_type": "stream",
     "text": [
      "\n",
      "[notice] A new release of pip is available: 23.3.1 -> 24.0\n",
      "[notice] To update, run: python.exe -m pip install --upgrade pip\n"
     ]
    },
    {
     "name": "stdout",
     "output_type": "stream",
     "text": [
      "\n",
      "Requirement already satisfied: numpy<2,>=1.22.4 in c:\\users\\giamm\\appdata\\local\\programs\\python\\python310\\lib\\site-packages (from pandas) (1.26.2)\n",
      "Requirement already satisfied: python-dateutil>=2.8.2 in c:\\users\\giamm\\appdata\\local\\programs\\python\\python310\\lib\\site-packages (from pandas) (2.8.2)\n",
      "Requirement already satisfied: pytz>=2020.1 in c:\\users\\giamm\\appdata\\local\\programs\\python\\python310\\lib\\site-packages (from pandas) (2023.3.post1)\n",
      "Requirement already satisfied: tzdata>=2022.7 in c:\\users\\giamm\\appdata\\local\\programs\\python\\python310\\lib\\site-packages (from pandas) (2024.1)\n",
      "Requirement already satisfied: six>=1.5 in c:\\users\\giamm\\appdata\\local\\programs\\python\\python310\\lib\\site-packages (from python-dateutil>=2.8.2->pandas) (1.16.0)\n"
     ]
    }
   ],
   "source": [
    "pip install pandas"
   ]
  },
  {
   "cell_type": "code",
   "execution_count": 9,
   "metadata": {
    "ExecuteTime": {
     "end_time": "2024-03-05T07:41:57.755315Z",
     "start_time": "2024-03-05T07:41:55.225262Z"
    },
    "collapsed": false
   },
   "outputs": [
    {
     "name": "stdout",
     "output_type": "stream",
     "text": [
      "Requirement already satisfied: numpy in c:\\users\\giamm\\appdata\\local\\programs\\python\\python310\\lib\\site-packages (1.26.2)\n",
      "Note: you may need to restart the kernel to use updated packages.\n"
     ]
    },
    {
     "name": "stderr",
     "output_type": "stream",
     "text": [
      "\n",
      "[notice] A new release of pip is available: 23.3.1 -> 24.0\n",
      "[notice] To update, run: python.exe -m pip install --upgrade pip\n"
     ]
    }
   ],
   "source": [
    "pip install numpy"
   ]
  },
  {
   "cell_type": "code",
   "execution_count": 10,
   "metadata": {
    "ExecuteTime": {
     "end_time": "2024-03-05T07:42:00.392562Z",
     "start_time": "2024-03-05T07:41:57.745029Z"
    },
    "collapsed": false
   },
   "outputs": [
    {
     "name": "stdout",
     "output_type": "stream",
     "text": [
      "Note: you may need to restart the kernel to use updated packages.Requirement already satisfied: matplotlib in c:\\users\\giamm\\appdata\\local\\programs\\python\\python310\\lib\\site-packages (3.5.2)\n",
      "Requirement already satisfied: cycler>=0.10 in c:\\users\\giamm\\appdata\\local\\programs\\python\\python310\\lib\\site-packages (from matplotlib) (0.11.0)\n",
      "Requirement already satisfied: fonttools>=4.22.0 in c:\\users\\giamm\\appdata\\local\\programs\\python\\python310\\lib\\site-packages (from matplotlib) (4.33.3)\n",
      "Requirement already satisfied: kiwisolver>=1.0.1 in c:\\users\\giamm\\appdata\\local\\programs\\python\\python310\\lib\\site-packages (from matplotlib) (1.4.2)\n",
      "Requirement already satisfied: numpy>=1.17 in c:\\users\\giamm\\appdata\\local\\programs\\python\\python310\\lib\\site-packages (from matplotlib) (1.26.2)\n",
      "Requirement already satisfied: packaging>=20.0 in c:\\users\\giamm\\appdata\\local\\programs\\python\\python310\\lib\\site-packages (from matplotlib) (21.3)\n",
      "Requirement already satisfied: pillow>=6.2.0 in c:\\users\\giamm\\appdata\\local\\programs\\python\\python310\\lib\\site-packages (from matplotlib) (9.1.1)\n",
      "Requirement already satisfied: pyparsing>=2.2.1 in c:\\users\\giamm\\appdata\\local\\programs\\python\\python310\\lib\\site-packages (from matplotlib) (3.0.9)\n",
      "Requirement already satisfied: python-dateutil>=2.7 in c:\\users\\giamm\\appdata\\local\\programs\\python\\python310\\lib\\site-packages (from matplotlib) (2.8.2)\n",
      "Requirement already satisfied: six>=1.5 in c:\\users\\giamm\\appdata\\local\\programs\\python\\python310\\lib\\site-packages (from python-dateutil>=2.7->matplotlib) (1.16.0)\n",
      "\n"
     ]
    },
    {
     "name": "stderr",
     "output_type": "stream",
     "text": [
      "\n",
      "[notice] A new release of pip is available: 23.3.1 -> 24.0\n",
      "[notice] To update, run: python.exe -m pip install --upgrade pip\n"
     ]
    }
   ],
   "source": [
    "pip install matplotlib"
   ]
  },
  {
   "cell_type": "code",
   "execution_count": 11,
   "metadata": {
    "collapsed": false
   },
   "outputs": [
    {
     "name": "stdout",
     "output_type": "stream",
     "text": [
      "Requirement already satisfied: openpyxl in c:\\users\\giamm\\appdata\\local\\programs\\python\\python310\\lib\\site-packages (3.1.2)\n",
      "Requirement already satisfied: et-xmlfile in c:\\users\\giamm\\appdata\\local\\programs\\python\\python310\\lib\\site-packages (from openpyxl) (1.1.0)\n",
      "Note: you may need to restart the kernel to use updated packages.\n"
     ]
    },
    {
     "name": "stderr",
     "output_type": "stream",
     "text": [
      "\n",
      "[notice] A new release of pip is available: 23.3.1 -> 24.0\n",
      "[notice] To update, run: python.exe -m pip install --upgrade pip\n"
     ]
    }
   ],
   "source": [
    "pip install openpyxl"
   ]
  },
  {
   "cell_type": "code",
   "execution_count": 12,
   "metadata": {
    "ExecuteTime": {
     "end_time": "2024-03-05T07:52:06.809740Z",
     "start_time": "2024-03-05T07:52:02.891052Z"
    },
    "collapsed": false
   },
   "outputs": [
    {
     "name": "stdout",
     "output_type": "stream",
     "text": [
      "Requirement already satisfied: seaborn in c:\\users\\giamm\\appdata\\local\\programs\\python\\python310\\lib\\site-packages (0.11.2)\n",
      "Requirement already satisfied: numpy>=1.15 in c:\\users\\giamm\\appdata\\local\\programs\\python\\python310\\lib\\site-packages (from seaborn) (1.26.2)\n",
      "Requirement already satisfied: scipy>=1.0 in c:\\users\\giamm\\appdata\\local\\programs\\python\\python310\\lib\\site-packages (from seaborn) (1.11.4)\n",
      "Requirement already satisfied: pandas>=0.23 in c:\\users\\giamm\\appdata\\local\\programs\\python\\python310\\lib\\site-packages (from seaborn) (2.2.1)\n",
      "Requirement already satisfied: matplotlib>=2.2 in c:\\users\\giamm\\appdata\\local\\programs\\python\\python310\\lib\\site-packages (from seaborn) (3.5.2)\n",
      "Requirement already satisfied: cycler>=0.10 in c:\\users\\giamm\\appdata\\local\\programs\\python\\python310\\lib\\site-packages (from matplotlib>=2.2->seaborn) (0.11.0)\n",
      "Requirement already satisfied: fonttools>=4.22.0 in c:\\users\\giamm\\appdata\\local\\programs\\python\\python310\\lib\\site-packages (from matplotlib>=2.2->seaborn) (4.33.3)\n",
      "Requirement already satisfied: kiwisolver>=1.0.1 in c:\\users\\giamm\\appdata\\local\\programs\\python\\python310\\lib\\site-packages (from matplotlib>=2.2->seaborn) (1.4.2)\n",
      "Requirement already satisfied: packaging>=20.0 in c:\\users\\giamm\\appdata\\local\\programs\\python\\python310\\lib\\site-packages (from matplotlib>=2.2->seaborn) (21.3)\n",
      "Requirement already satisfied: pillow>=6.2.0 in c:\\users\\giamm\\appdata\\local\\programs\\python\\python310\\lib\\site-packages (from matplotlib>=2.2->seaborn) (9.1.1)\n",
      "Requirement already satisfied: pyparsing>=2.2.1 in c:\\users\\giamm\\appdata\\local\\programs\\python\\python310\\lib\\site-packages (from matplotlib>=2.2->seaborn) (3.0.9)\n",
      "Requirement already satisfied: python-dateutil>=2.7 in c:\\users\\giamm\\appdata\\local\\programs\\python\\python310\\lib\\site-packages (from matplotlib>=2.2->seaborn) (2.8.2)\n",
      "Requirement already satisfied: pytz>=2020.1 in c:\\users\\giamm\\appdata\\local\\programs\\python\\python310\\lib\\site-packages (from pandas>=0.23->seaborn) (2023.3.post1)\n",
      "Requirement already satisfied: tzdata>=2022.7 in c:\\users\\giamm\\appdata\\local\\programs\\python\\python310\\lib\\site-packages (from pandas>=0.23->seaborn) (2024.1)\n",
      "Requirement already satisfied: six>=1.5 in c:\\users\\giamm\\appdata\\local\\programs\\python\\python310\\lib\\site-packages (from python-dateutil>=2.7->matplotlib>=2.2->seaborn) (1.16.0)\n",
      "Note: you may need to restart the kernel to use updated packages.\n"
     ]
    },
    {
     "name": "stderr",
     "output_type": "stream",
     "text": [
      "\n",
      "[notice] A new release of pip is available: 23.3.1 -> 24.0\n",
      "[notice] To update, run: python.exe -m pip install --upgrade pip\n"
     ]
    }
   ],
   "source": [
    "pip install seaborn"
   ]
  },
  {
   "cell_type": "code",
   "execution_count": 13,
   "metadata": {
    "ExecuteTime": {
     "end_time": "2024-03-05T07:58:38.268044Z",
     "start_time": "2024-03-05T07:58:34.195199Z"
    },
    "collapsed": false
   },
   "outputs": [
    {
     "name": "stdout",
     "output_type": "stream",
     "text": [
      "Requirement already satisfied: numpy in c:\\users\\giamm\\appdata\\local\\programs\\python\\python310\\lib\\site-packages (1.26.2)\n",
      "Note: you may need to restart the kernel to use updated packages.\n"
     ]
    },
    {
     "name": "stderr",
     "output_type": "stream",
     "text": [
      "\n",
      "[notice] A new release of pip is available: 23.3.1 -> 24.0\n",
      "[notice] To update, run: python.exe -m pip install --upgrade pip\n"
     ]
    }
   ],
   "source": [
    "pip install numpy "
   ]
  },
  {
   "cell_type": "code",
<<<<<<< HEAD
   "execution_count": 3,
=======
   "execution_count": 14,
>>>>>>> caa640482ff8c8e3a495b1dc82d47aae396c508b
   "metadata": {
    "ExecuteTime": {
     "end_time": "2024-03-06T10:09:29.410862Z",
     "start_time": "2024-03-06T10:09:29.338157Z"
    }
   },
   "outputs": [],
   "source": [
    "import pandas as pd"
   ]
  },
  {
   "cell_type": "code",
   "execution_count": 15,
   "metadata": {
    "ExecuteTime": {
     "end_time": "2024-03-05T07:42:25.514491Z",
     "start_time": "2024-03-05T07:42:02.915564Z"
    },
    "collapsed": false
   },
   "outputs": [
    {
     "ename": "FileNotFoundError",
     "evalue": "[Errno 2] No such file or directory: '/Users/camillevermenouze/Documents/SMTS2/SEF/ESG_Scores/DS_RI_T_USD_M.xlsx'",
     "output_type": "error",
     "traceback": [
      "\u001b[1;31m---------------------------------------------------------------------------\u001b[0m",
      "\u001b[1;31mFileNotFoundError\u001b[0m                         Traceback (most recent call last)",
      "Input \u001b[1;32mIn [15]\u001b[0m, in \u001b[0;36m<cell line: 3>\u001b[1;34m()\u001b[0m\n\u001b[0;32m      1\u001b[0m \u001b[38;5;66;03m#Monthly_reurn include 278 months and 2051 firms (rows)\u001b[39;00m\n\u001b[0;32m      2\u001b[0m monthly_return_index_path \u001b[38;5;241m=\u001b[39m \u001b[38;5;124m'\u001b[39m\u001b[38;5;124m/Users/camillevermenouze/Documents/SMTS2/SEF/ESG_Scores/DS_RI_T_USD_M.xlsx\u001b[39m\u001b[38;5;124m'\u001b[39m  \u001b[38;5;66;03m# Replace with your Excel file name\u001b[39;00m\n\u001b[1;32m----> 3\u001b[0m df_monthly_ri \u001b[38;5;241m=\u001b[39m \u001b[43mpd\u001b[49m\u001b[38;5;241;43m.\u001b[39;49m\u001b[43mread_excel\u001b[49m\u001b[43m(\u001b[49m\u001b[43mmonthly_return_index_path\u001b[49m\u001b[43m)\u001b[49m\n\u001b[0;32m      7\u001b[0m \u001b[38;5;66;03m#Monthly_capitalization include 278 months and 2051 firms \u001b[39;00m\n\u001b[0;32m      8\u001b[0m monthly_capitalization_path \u001b[38;5;241m=\u001b[39m \u001b[38;5;124m'\u001b[39m\u001b[38;5;124m/Users/camillevermenouze/Documents/SMTS2/SEF/ESG_Scores/DS_MV_USD_M.xlsx\u001b[39m\u001b[38;5;124m'\u001b[39m  \u001b[38;5;66;03m# Replace with your Excel file name\u001b[39;00m\n",
      "File \u001b[1;32mc:\\Users\\giamm\\AppData\\Local\\Programs\\Python\\Python310\\lib\\site-packages\\pandas\\io\\excel\\_base.py:495\u001b[0m, in \u001b[0;36mread_excel\u001b[1;34m(io, sheet_name, header, names, index_col, usecols, dtype, engine, converters, true_values, false_values, skiprows, nrows, na_values, keep_default_na, na_filter, verbose, parse_dates, date_parser, date_format, thousands, decimal, comment, skipfooter, storage_options, dtype_backend, engine_kwargs)\u001b[0m\n\u001b[0;32m    493\u001b[0m \u001b[38;5;28;01mif\u001b[39;00m \u001b[38;5;129;01mnot\u001b[39;00m \u001b[38;5;28misinstance\u001b[39m(io, ExcelFile):\n\u001b[0;32m    494\u001b[0m     should_close \u001b[38;5;241m=\u001b[39m \u001b[38;5;28;01mTrue\u001b[39;00m\n\u001b[1;32m--> 495\u001b[0m     io \u001b[38;5;241m=\u001b[39m \u001b[43mExcelFile\u001b[49m\u001b[43m(\u001b[49m\n\u001b[0;32m    496\u001b[0m \u001b[43m        \u001b[49m\u001b[43mio\u001b[49m\u001b[43m,\u001b[49m\n\u001b[0;32m    497\u001b[0m \u001b[43m        \u001b[49m\u001b[43mstorage_options\u001b[49m\u001b[38;5;241;43m=\u001b[39;49m\u001b[43mstorage_options\u001b[49m\u001b[43m,\u001b[49m\n\u001b[0;32m    498\u001b[0m \u001b[43m        \u001b[49m\u001b[43mengine\u001b[49m\u001b[38;5;241;43m=\u001b[39;49m\u001b[43mengine\u001b[49m\u001b[43m,\u001b[49m\n\u001b[0;32m    499\u001b[0m \u001b[43m        \u001b[49m\u001b[43mengine_kwargs\u001b[49m\u001b[38;5;241;43m=\u001b[39;49m\u001b[43mengine_kwargs\u001b[49m\u001b[43m,\u001b[49m\n\u001b[0;32m    500\u001b[0m \u001b[43m    \u001b[49m\u001b[43m)\u001b[49m\n\u001b[0;32m    501\u001b[0m \u001b[38;5;28;01melif\u001b[39;00m engine \u001b[38;5;129;01mand\u001b[39;00m engine \u001b[38;5;241m!=\u001b[39m io\u001b[38;5;241m.\u001b[39mengine:\n\u001b[0;32m    502\u001b[0m     \u001b[38;5;28;01mraise\u001b[39;00m \u001b[38;5;167;01mValueError\u001b[39;00m(\n\u001b[0;32m    503\u001b[0m         \u001b[38;5;124m\"\u001b[39m\u001b[38;5;124mEngine should not be specified when passing \u001b[39m\u001b[38;5;124m\"\u001b[39m\n\u001b[0;32m    504\u001b[0m         \u001b[38;5;124m\"\u001b[39m\u001b[38;5;124man ExcelFile - ExcelFile already has the engine set\u001b[39m\u001b[38;5;124m\"\u001b[39m\n\u001b[0;32m    505\u001b[0m     )\n",
      "File \u001b[1;32mc:\\Users\\giamm\\AppData\\Local\\Programs\\Python\\Python310\\lib\\site-packages\\pandas\\io\\excel\\_base.py:1550\u001b[0m, in \u001b[0;36mExcelFile.__init__\u001b[1;34m(self, path_or_buffer, engine, storage_options, engine_kwargs)\u001b[0m\n\u001b[0;32m   1548\u001b[0m     ext \u001b[38;5;241m=\u001b[39m \u001b[38;5;124m\"\u001b[39m\u001b[38;5;124mxls\u001b[39m\u001b[38;5;124m\"\u001b[39m\n\u001b[0;32m   1549\u001b[0m \u001b[38;5;28;01melse\u001b[39;00m:\n\u001b[1;32m-> 1550\u001b[0m     ext \u001b[38;5;241m=\u001b[39m \u001b[43minspect_excel_format\u001b[49m\u001b[43m(\u001b[49m\n\u001b[0;32m   1551\u001b[0m \u001b[43m        \u001b[49m\u001b[43mcontent_or_path\u001b[49m\u001b[38;5;241;43m=\u001b[39;49m\u001b[43mpath_or_buffer\u001b[49m\u001b[43m,\u001b[49m\u001b[43m \u001b[49m\u001b[43mstorage_options\u001b[49m\u001b[38;5;241;43m=\u001b[39;49m\u001b[43mstorage_options\u001b[49m\n\u001b[0;32m   1552\u001b[0m \u001b[43m    \u001b[49m\u001b[43m)\u001b[49m\n\u001b[0;32m   1553\u001b[0m     \u001b[38;5;28;01mif\u001b[39;00m ext \u001b[38;5;129;01mis\u001b[39;00m \u001b[38;5;28;01mNone\u001b[39;00m:\n\u001b[0;32m   1554\u001b[0m         \u001b[38;5;28;01mraise\u001b[39;00m \u001b[38;5;167;01mValueError\u001b[39;00m(\n\u001b[0;32m   1555\u001b[0m             \u001b[38;5;124m\"\u001b[39m\u001b[38;5;124mExcel file format cannot be determined, you must specify \u001b[39m\u001b[38;5;124m\"\u001b[39m\n\u001b[0;32m   1556\u001b[0m             \u001b[38;5;124m\"\u001b[39m\u001b[38;5;124man engine manually.\u001b[39m\u001b[38;5;124m\"\u001b[39m\n\u001b[0;32m   1557\u001b[0m         )\n",
      "File \u001b[1;32mc:\\Users\\giamm\\AppData\\Local\\Programs\\Python\\Python310\\lib\\site-packages\\pandas\\io\\excel\\_base.py:1402\u001b[0m, in \u001b[0;36minspect_excel_format\u001b[1;34m(content_or_path, storage_options)\u001b[0m\n\u001b[0;32m   1399\u001b[0m \u001b[38;5;28;01mif\u001b[39;00m \u001b[38;5;28misinstance\u001b[39m(content_or_path, \u001b[38;5;28mbytes\u001b[39m):\n\u001b[0;32m   1400\u001b[0m     content_or_path \u001b[38;5;241m=\u001b[39m BytesIO(content_or_path)\n\u001b[1;32m-> 1402\u001b[0m \u001b[38;5;28;01mwith\u001b[39;00m \u001b[43mget_handle\u001b[49m\u001b[43m(\u001b[49m\n\u001b[0;32m   1403\u001b[0m \u001b[43m    \u001b[49m\u001b[43mcontent_or_path\u001b[49m\u001b[43m,\u001b[49m\u001b[43m \u001b[49m\u001b[38;5;124;43m\"\u001b[39;49m\u001b[38;5;124;43mrb\u001b[39;49m\u001b[38;5;124;43m\"\u001b[39;49m\u001b[43m,\u001b[49m\u001b[43m \u001b[49m\u001b[43mstorage_options\u001b[49m\u001b[38;5;241;43m=\u001b[39;49m\u001b[43mstorage_options\u001b[49m\u001b[43m,\u001b[49m\u001b[43m \u001b[49m\u001b[43mis_text\u001b[49m\u001b[38;5;241;43m=\u001b[39;49m\u001b[38;5;28;43;01mFalse\u001b[39;49;00m\n\u001b[0;32m   1404\u001b[0m \u001b[43m\u001b[49m\u001b[43m)\u001b[49m \u001b[38;5;28;01mas\u001b[39;00m handle:\n\u001b[0;32m   1405\u001b[0m     stream \u001b[38;5;241m=\u001b[39m handle\u001b[38;5;241m.\u001b[39mhandle\n\u001b[0;32m   1406\u001b[0m     stream\u001b[38;5;241m.\u001b[39mseek(\u001b[38;5;241m0\u001b[39m)\n",
      "File \u001b[1;32mc:\\Users\\giamm\\AppData\\Local\\Programs\\Python\\Python310\\lib\\site-packages\\pandas\\io\\common.py:882\u001b[0m, in \u001b[0;36mget_handle\u001b[1;34m(path_or_buf, mode, encoding, compression, memory_map, is_text, errors, storage_options)\u001b[0m\n\u001b[0;32m    873\u001b[0m         handle \u001b[38;5;241m=\u001b[39m \u001b[38;5;28mopen\u001b[39m(\n\u001b[0;32m    874\u001b[0m             handle,\n\u001b[0;32m    875\u001b[0m             ioargs\u001b[38;5;241m.\u001b[39mmode,\n\u001b[1;32m   (...)\u001b[0m\n\u001b[0;32m    878\u001b[0m             newline\u001b[38;5;241m=\u001b[39m\u001b[38;5;124m\"\u001b[39m\u001b[38;5;124m\"\u001b[39m,\n\u001b[0;32m    879\u001b[0m         )\n\u001b[0;32m    880\u001b[0m     \u001b[38;5;28;01melse\u001b[39;00m:\n\u001b[0;32m    881\u001b[0m         \u001b[38;5;66;03m# Binary mode\u001b[39;00m\n\u001b[1;32m--> 882\u001b[0m         handle \u001b[38;5;241m=\u001b[39m \u001b[38;5;28;43mopen\u001b[39;49m\u001b[43m(\u001b[49m\u001b[43mhandle\u001b[49m\u001b[43m,\u001b[49m\u001b[43m \u001b[49m\u001b[43mioargs\u001b[49m\u001b[38;5;241;43m.\u001b[39;49m\u001b[43mmode\u001b[49m\u001b[43m)\u001b[49m\n\u001b[0;32m    883\u001b[0m     handles\u001b[38;5;241m.\u001b[39mappend(handle)\n\u001b[0;32m    885\u001b[0m \u001b[38;5;66;03m# Convert BytesIO or file objects passed with an encoding\u001b[39;00m\n",
      "\u001b[1;31mFileNotFoundError\u001b[0m: [Errno 2] No such file or directory: '/Users/camillevermenouze/Documents/SMTS2/SEF/ESG_Scores/DS_RI_T_USD_M.xlsx'"
     ]
    }
   ],
   "source": [
    "#Monthly_reurn include 278 months and 2051 firms (rows)\n",
    "monthly_return_index_path = '/Users/camillevermenouze/Documents/SMTS2/SEF/ESG_Scores/DS_RI_T_USD_M.xlsx'  # Replace with your Excel file name\n",
    "df_monthly_ri = pd.read_excel(monthly_return_index_path)\n",
    "\n",
    "\n",
    "\n",
    "#Monthly_capitalization include 278 months and 2051 firms \n",
    "monthly_capitalization_path = '/Users/camillevermenouze/Documents/SMTS2/SEF/ESG_Scores/DS_MV_USD_M.xlsx'  # Replace with your Excel file name\n",
    "df_monthly_capitalization = pd.read_excel(monthly_capitalization_path)\n",
    "\n",
    "\n",
    "\n",
    "#M ountry to region data\n",
    "region_path = '/Users/camillevermenouze/Documents/SMTS2/SEF/CountriesToRegions.xlsx'  # Replace with your Excel file name\n",
    "df_region = pd.read_excel(region_path)"
   ]
  },
  {
   "cell_type": "code",
   "execution_count": null,
   "metadata": {
    "ExecuteTime": {
     "end_time": "2024-03-05T07:42:25.581310Z",
     "start_time": "2024-03-05T07:42:25.521239Z"
    },
    "collapsed": false
   },
   "outputs": [
    {
     "data": {
      "text/html": [
       "<div>\n",
       "<style scoped>\n",
       "    .dataframe tbody tr th:only-of-type {\n",
       "        vertical-align: middle;\n",
       "    }\n",
       "\n",
       "    .dataframe tbody tr th {\n",
       "        vertical-align: top;\n",
       "    }\n",
       "\n",
       "    .dataframe thead th {\n",
       "        text-align: right;\n",
       "    }\n",
       "</style>\n",
       "<table border=\"1\" class=\"dataframe\">\n",
       "  <thead>\n",
       "    <tr style=\"text-align: right;\">\n",
       "      <th></th>\n",
       "      <th>% AMER: Cnada + USA</th>\n",
       "      <th>Unnamed: 1</th>\n",
       "      <th>Unnamed: 2</th>\n",
       "    </tr>\n",
       "  </thead>\n",
       "  <tbody>\n",
       "    <tr>\n",
       "      <th>0</th>\n",
       "      <td>% FRON: Frontier countries</td>\n",
       "      <td>NaN</td>\n",
       "      <td>NaN</td>\n",
       "    </tr>\n",
       "    <tr>\n",
       "      <th>1</th>\n",
       "      <td>% SA: Standalone countries</td>\n",
       "      <td>NaN</td>\n",
       "      <td>NaN</td>\n",
       "    </tr>\n",
       "    <tr>\n",
       "      <th>2</th>\n",
       "      <td>% EM: Emerging markets</td>\n",
       "      <td>NaN</td>\n",
       "      <td>NaN</td>\n",
       "    </tr>\n",
       "    <tr>\n",
       "      <th>3</th>\n",
       "      <td>NaN</td>\n",
       "      <td>NaN</td>\n",
       "      <td>NaN</td>\n",
       "    </tr>\n",
       "    <tr>\n",
       "      <th>4</th>\n",
       "      <td>Code</td>\n",
       "      <td>Name</td>\n",
       "      <td>Region</td>\n",
       "    </tr>\n",
       "    <tr>\n",
       "      <th>...</th>\n",
       "      <td>...</td>\n",
       "      <td>...</td>\n",
       "      <td>...</td>\n",
       "    </tr>\n",
       "    <tr>\n",
       "      <th>97</th>\n",
       "      <td>US</td>\n",
       "      <td>UNITED STATES</td>\n",
       "      <td>AMER</td>\n",
       "    </tr>\n",
       "    <tr>\n",
       "      <th>98</th>\n",
       "      <td>VI</td>\n",
       "      <td>VIRGIN ISLANDS, BRITISH</td>\n",
       "      <td>Other</td>\n",
       "    </tr>\n",
       "    <tr>\n",
       "      <th>99</th>\n",
       "      <td>VN</td>\n",
       "      <td>VIET NAM</td>\n",
       "      <td>FRON</td>\n",
       "    </tr>\n",
       "    <tr>\n",
       "      <th>100</th>\n",
       "      <td>ZA</td>\n",
       "      <td>SOUTH AFRICA</td>\n",
       "      <td>EM</td>\n",
       "    </tr>\n",
       "    <tr>\n",
       "      <th>101</th>\n",
       "      <td>ZM</td>\n",
       "      <td>ZIMBABWE</td>\n",
       "      <td>SA</td>\n",
       "    </tr>\n",
       "  </tbody>\n",
       "</table>\n",
       "<p>102 rows × 3 columns</p>\n",
       "</div>"
      ],
      "text/plain": [
       "            % AMER: Cnada + USA               Unnamed: 1 Unnamed: 2\n",
       "0    % FRON: Frontier countries                      NaN        NaN\n",
       "1    % SA: Standalone countries                      NaN        NaN\n",
       "2        % EM: Emerging markets                      NaN        NaN\n",
       "3                           NaN                      NaN        NaN\n",
       "4                          Code                     Name     Region\n",
       "..                          ...                      ...        ...\n",
       "97                           US            UNITED STATES       AMER\n",
       "98                           VI  VIRGIN ISLANDS, BRITISH      Other\n",
       "99                           VN                VIET NAM        FRON\n",
       "100                          ZA            SOUTH AFRICA          EM\n",
       "101                          ZM                ZIMBABWE          SA\n",
       "\n",
       "[102 rows x 3 columns]"
      ]
     },
     "execution_count": 7,
     "metadata": {},
     "output_type": "execute_result"
    }
   ],
   "source": [
    "df_region"
   ]
  },
  {
   "cell_type": "code",
   "execution_count": null,
   "metadata": {
    "ExecuteTime": {
     "end_time": "2024-03-05T07:42:25.599842Z",
     "start_time": "2024-03-05T07:42:25.568164Z"
    },
    "collapsed": false
   },
   "outputs": [
    {
     "name": "stdout",
     "output_type": "stream",
     "text": [
      "   ISIN_First2       Unnamed: 1 Unnamed: 2\n",
      "7           AT          AUSTRIA        EUR\n",
      "11          BE          BELGIUM        EUR\n",
      "19          CH      SWITZERLAND        EUR\n",
      "26          DE          GERMANY        EUR\n",
      "27          DK          DENMARK        EUR\n",
      "30          ES            SPAIN        EUR\n",
      "31          FI          FINLAND        EUR\n",
      "32          FR          FRANCE         EUR\n",
      "33          GB  UNITED KINGDOM         EUR\n",
      "43          IE          IRELAND        EUR\n",
      "44          IL          ISRAEL         EUR\n",
      "48          IT            ITALY        EUR\n",
      "71          NL      NETHERLANDS        EUR\n",
      "72          NO          NORWAY         EUR\n",
      "80          PT        PORTUGAL         EUR\n",
      "87          SE          SWEDEN         EUR\n"
     ]
    }
   ],
   "source": [
    "#let's  keep only the EUR contries\n",
    "\n",
    "df_region.drop(index=[0,1,2,3], inplace= True )\n",
    "\n",
    "df_EUR = df_region[df_region['Unnamed: 2'] == 'EUR']\n",
    "\n",
    "#Rename the column so we can merge later\n",
    "df_EUR = df_EUR.rename(columns={'% AMER: Cnada + USA' : 'ISIN_First2'})\n",
    "\n",
    "print(df_EUR)"
   ]
  },
  {
   "cell_type": "code",
   "execution_count": null,
   "metadata": {
    "ExecuteTime": {
     "end_time": "2024-03-05T07:42:26.039374Z",
     "start_time": "2024-03-05T07:42:25.630336Z"
    },
    "collapsed": false
   },
   "outputs": [
    {
     "data": {
      "text/html": [
       "<div>\n",
       "<style scoped>\n",
       "    .dataframe tbody tr th:only-of-type {\n",
       "        vertical-align: middle;\n",
       "    }\n",
       "\n",
       "    .dataframe tbody tr th {\n",
       "        vertical-align: top;\n",
       "    }\n",
       "\n",
       "    .dataframe thead th {\n",
       "        text-align: right;\n",
       "    }\n",
       "</style>\n",
       "<table border=\"1\" class=\"dataframe\">\n",
       "  <thead>\n",
       "    <tr style=\"text-align: right;\">\n",
       "      <th></th>\n",
       "      <th>ISIN</th>\n",
       "      <th>NAME</th>\n",
       "      <th>2000-01-31 00:00:00</th>\n",
       "      <th>2000-02-29 00:00:00</th>\n",
       "      <th>2000-03-31 00:00:00</th>\n",
       "      <th>2000-04-30 00:00:00</th>\n",
       "      <th>2000-05-31 00:00:00</th>\n",
       "      <th>2000-06-30 00:00:00</th>\n",
       "      <th>2000-07-31 00:00:00</th>\n",
       "      <th>2000-08-31 00:00:00</th>\n",
       "      <th>...</th>\n",
       "      <th>2022-04-30 00:00:00</th>\n",
       "      <th>2022-05-31 00:00:00</th>\n",
       "      <th>2022-06-30 00:00:00</th>\n",
       "      <th>2022-07-31 00:00:00</th>\n",
       "      <th>2022-08-31 00:00:00</th>\n",
       "      <th>2022-09-30 00:00:00</th>\n",
       "      <th>2022-10-31 00:00:00</th>\n",
       "      <th>2022-11-30 00:00:00</th>\n",
       "      <th>2022-12-31 00:00:00</th>\n",
       "      <th>ISIN_First2</th>\n",
       "    </tr>\n",
       "  </thead>\n",
       "  <tbody>\n",
       "    <tr>\n",
       "      <th>0</th>\n",
       "      <td>AN8068571086</td>\n",
       "      <td>SCHLUMBERGER</td>\n",
       "      <td>1858.26</td>\n",
       "      <td>2254.15</td>\n",
       "      <td>2334.75</td>\n",
       "      <td>2336.65</td>\n",
       "      <td>2245.09</td>\n",
       "      <td>2283.70</td>\n",
       "      <td>2262.67</td>\n",
       "      <td>2610.77</td>\n",
       "      <td>...</td>\n",
       "      <td>3603.19</td>\n",
       "      <td>4261.29</td>\n",
       "      <td>3315.58</td>\n",
       "      <td>3433.33</td>\n",
       "      <td>3537.17</td>\n",
       "      <td>3344.15</td>\n",
       "      <td>4846.68</td>\n",
       "      <td>4801.97</td>\n",
       "      <td>4997.02</td>\n",
       "      <td>AN</td>\n",
       "    </tr>\n",
       "    <tr>\n",
       "      <th>1</th>\n",
       "      <td>ARALUA010258</td>\n",
       "      <td>ALUAR</td>\n",
       "      <td>1820.11</td>\n",
       "      <td>1911.12</td>\n",
       "      <td>1866.11</td>\n",
       "      <td>1835.93</td>\n",
       "      <td>1805.22</td>\n",
       "      <td>1657.42</td>\n",
       "      <td>1911.95</td>\n",
       "      <td>1982.99</td>\n",
       "      <td>...</td>\n",
       "      <td>4024.78</td>\n",
       "      <td>3845.16</td>\n",
       "      <td>3472.87</td>\n",
       "      <td>5651.92</td>\n",
       "      <td>5459.78</td>\n",
       "      <td>4847.48</td>\n",
       "      <td>4827.59</td>\n",
       "      <td>5377.66</td>\n",
       "      <td>5524.11</td>\n",
       "      <td>AR</td>\n",
       "    </tr>\n",
       "    <tr>\n",
       "      <th>2</th>\n",
       "      <td>ARP125991090</td>\n",
       "      <td>BBVA BANCO FRANCES</td>\n",
       "      <td>396.54</td>\n",
       "      <td>467.49</td>\n",
       "      <td>418.37</td>\n",
       "      <td>350.66</td>\n",
       "      <td>352.52</td>\n",
       "      <td>401.75</td>\n",
       "      <td>404.48</td>\n",
       "      <td>398.47</td>\n",
       "      <td>...</td>\n",
       "      <td>185.10</td>\n",
       "      <td>185.83</td>\n",
       "      <td>170.00</td>\n",
       "      <td>224.44</td>\n",
       "      <td>242.69</td>\n",
       "      <td>242.21</td>\n",
       "      <td>225.97</td>\n",
       "      <td>240.64</td>\n",
       "      <td>299.57</td>\n",
       "      <td>AR</td>\n",
       "    </tr>\n",
       "    <tr>\n",
       "      <th>3</th>\n",
       "      <td>ARSIDE010029</td>\n",
       "      <td>TERNIUM ARGENTINA SOCIEDAD ANONIMA</td>\n",
       "      <td>177.53</td>\n",
       "      <td>184.55</td>\n",
       "      <td>184.16</td>\n",
       "      <td>171.05</td>\n",
       "      <td>112.65</td>\n",
       "      <td>120.55</td>\n",
       "      <td>124.93</td>\n",
       "      <td>137.21</td>\n",
       "      <td>...</td>\n",
       "      <td>1141.96</td>\n",
       "      <td>1055.43</td>\n",
       "      <td>1025.82</td>\n",
       "      <td>1373.67</td>\n",
       "      <td>1428.06</td>\n",
       "      <td>1263.78</td>\n",
       "      <td>1286.25</td>\n",
       "      <td>1257.52</td>\n",
       "      <td>1463.58</td>\n",
       "      <td>AR</td>\n",
       "    </tr>\n",
       "    <tr>\n",
       "      <th>4</th>\n",
       "      <td>AT00000VIE62</td>\n",
       "      <td>FLUGHAFEN WIEN</td>\n",
       "      <td>156.25</td>\n",
       "      <td>153.83</td>\n",
       "      <td>158.62</td>\n",
       "      <td>137.27</td>\n",
       "      <td>148.95</td>\n",
       "      <td>159.68</td>\n",
       "      <td>151.08</td>\n",
       "      <td>153.35</td>\n",
       "      <td>...</td>\n",
       "      <td>1044.97</td>\n",
       "      <td>1035.49</td>\n",
       "      <td>1258.39</td>\n",
       "      <td>1229.26</td>\n",
       "      <td>1215.93</td>\n",
       "      <td>1190.06</td>\n",
       "      <td>1198.76</td>\n",
       "      <td>1248.90</td>\n",
       "      <td>1269.03</td>\n",
       "      <td>AT</td>\n",
       "    </tr>\n",
       "  </tbody>\n",
       "</table>\n",
       "<p>5 rows × 279 columns</p>\n",
       "</div>"
      ],
      "text/plain": [
       "           ISIN                                NAME  2000-01-31 00:00:00  \\\n",
       "0  AN8068571086                        SCHLUMBERGER              1858.26   \n",
       "1  ARALUA010258                               ALUAR              1820.11   \n",
       "2  ARP125991090                  BBVA BANCO FRANCES               396.54   \n",
       "3  ARSIDE010029  TERNIUM ARGENTINA SOCIEDAD ANONIMA               177.53   \n",
       "4  AT00000VIE62                      FLUGHAFEN WIEN               156.25   \n",
       "\n",
       "   2000-02-29 00:00:00  2000-03-31 00:00:00  2000-04-30 00:00:00  \\\n",
       "0              2254.15              2334.75              2336.65   \n",
       "1              1911.12              1866.11              1835.93   \n",
       "2               467.49               418.37               350.66   \n",
       "3               184.55               184.16               171.05   \n",
       "4               153.83               158.62               137.27   \n",
       "\n",
       "   2000-05-31 00:00:00  2000-06-30 00:00:00  2000-07-31 00:00:00  \\\n",
       "0              2245.09              2283.70              2262.67   \n",
       "1              1805.22              1657.42              1911.95   \n",
       "2               352.52               401.75               404.48   \n",
       "3               112.65               120.55               124.93   \n",
       "4               148.95               159.68               151.08   \n",
       "\n",
       "   2000-08-31 00:00:00  ...  2022-04-30 00:00:00  2022-05-31 00:00:00  \\\n",
       "0              2610.77  ...              3603.19              4261.29   \n",
       "1              1982.99  ...              4024.78              3845.16   \n",
       "2               398.47  ...               185.10               185.83   \n",
       "3               137.21  ...              1141.96              1055.43   \n",
       "4               153.35  ...              1044.97              1035.49   \n",
       "\n",
       "   2022-06-30 00:00:00  2022-07-31 00:00:00  2022-08-31 00:00:00  \\\n",
       "0              3315.58              3433.33              3537.17   \n",
       "1              3472.87              5651.92              5459.78   \n",
       "2               170.00               224.44               242.69   \n",
       "3              1025.82              1373.67              1428.06   \n",
       "4              1258.39              1229.26              1215.93   \n",
       "\n",
       "   2022-09-30 00:00:00  2022-10-31 00:00:00  2022-11-30 00:00:00  \\\n",
       "0              3344.15              4846.68              4801.97   \n",
       "1              4847.48              4827.59              5377.66   \n",
       "2               242.21               225.97               240.64   \n",
       "3              1263.78              1286.25              1257.52   \n",
       "4              1190.06              1198.76              1248.90   \n",
       "\n",
       "   2022-12-31 00:00:00  ISIN_First2  \n",
       "0              4997.02           AN  \n",
       "1              5524.11           AR  \n",
       "2               299.57           AR  \n",
       "3              1463.58           AR  \n",
       "4              1269.03           AT  \n",
       "\n",
       "[5 rows x 279 columns]"
      ]
     },
     "execution_count": 9,
     "metadata": {},
     "output_type": "execute_result"
    }
   ],
   "source": [
    "#Now merged with the two dataset \n",
    "#First step we need to create a new columns with only the 2 first characters of the columns ISIN\n",
    "\n",
    "#First with the return data \n",
    "\n",
    "df_monthly_ri['ISIN_First2'] = df_monthly_ri ['ISIN'].str[:2]\n",
    "df_monthly_ri.head()"
   ]
  },
  {
   "cell_type": "code",
   "execution_count": null,
   "metadata": {
    "ExecuteTime": {
     "end_time": "2024-03-05T07:42:26.123064Z",
     "start_time": "2024-03-05T07:42:25.663038Z"
    },
    "collapsed": false
   },
   "outputs": [
    {
     "data": {
      "text/html": [
       "<div>\n",
       "<style scoped>\n",
       "    .dataframe tbody tr th:only-of-type {\n",
       "        vertical-align: middle;\n",
       "    }\n",
       "\n",
       "    .dataframe tbody tr th {\n",
       "        vertical-align: top;\n",
       "    }\n",
       "\n",
       "    .dataframe thead th {\n",
       "        text-align: right;\n",
       "    }\n",
       "</style>\n",
       "<table border=\"1\" class=\"dataframe\">\n",
       "  <thead>\n",
       "    <tr style=\"text-align: right;\">\n",
       "      <th></th>\n",
       "      <th>ISIN</th>\n",
       "      <th>NAME</th>\n",
       "      <th>2000-01-31 00:00:00</th>\n",
       "      <th>2000-02-29 00:00:00</th>\n",
       "      <th>2000-03-31 00:00:00</th>\n",
       "      <th>2000-04-30 00:00:00</th>\n",
       "      <th>2000-05-31 00:00:00</th>\n",
       "      <th>2000-06-30 00:00:00</th>\n",
       "      <th>2000-07-31 00:00:00</th>\n",
       "      <th>2000-08-31 00:00:00</th>\n",
       "      <th>...</th>\n",
       "      <th>2022-04-30 00:00:00</th>\n",
       "      <th>2022-05-31 00:00:00</th>\n",
       "      <th>2022-06-30 00:00:00</th>\n",
       "      <th>2022-07-31 00:00:00</th>\n",
       "      <th>2022-08-31 00:00:00</th>\n",
       "      <th>2022-09-30 00:00:00</th>\n",
       "      <th>2022-10-31 00:00:00</th>\n",
       "      <th>2022-11-30 00:00:00</th>\n",
       "      <th>2022-12-31 00:00:00</th>\n",
       "      <th>ISIN_First2</th>\n",
       "    </tr>\n",
       "  </thead>\n",
       "  <tbody>\n",
       "    <tr>\n",
       "      <th>0</th>\n",
       "      <td>AN8068571086</td>\n",
       "      <td>SCHLUMBERGER</td>\n",
       "      <td>33574.85</td>\n",
       "      <td>40611.13</td>\n",
       "      <td>43352.43</td>\n",
       "      <td>43387.86</td>\n",
       "      <td>41861.39</td>\n",
       "      <td>42466.02</td>\n",
       "      <td>42074.79</td>\n",
       "      <td>48547.80</td>\n",
       "      <td>...</td>\n",
       "      <td>55139.08</td>\n",
       "      <td>64962.64</td>\n",
       "      <td>50578.51</td>\n",
       "      <td>52374.81</td>\n",
       "      <td>53958.90</td>\n",
       "      <td>50906.19</td>\n",
       "      <td>73778.56</td>\n",
       "      <td>73097.94</td>\n",
       "      <td>75806.25</td>\n",
       "      <td>AN</td>\n",
       "    </tr>\n",
       "    <tr>\n",
       "      <th>1</th>\n",
       "      <td>ARALUA010258</td>\n",
       "      <td>ALUAR</td>\n",
       "      <td>1328.64</td>\n",
       "      <td>1395.07</td>\n",
       "      <td>1362.23</td>\n",
       "      <td>1340.19</td>\n",
       "      <td>1317.78</td>\n",
       "      <td>1209.89</td>\n",
       "      <td>1395.69</td>\n",
       "      <td>1447.55</td>\n",
       "      <td>...</td>\n",
       "      <td>2195.00</td>\n",
       "      <td>2097.04</td>\n",
       "      <td>1894.01</td>\n",
       "      <td>3013.90</td>\n",
       "      <td>2911.44</td>\n",
       "      <td>2584.93</td>\n",
       "      <td>2574.33</td>\n",
       "      <td>2778.90</td>\n",
       "      <td>2853.52</td>\n",
       "      <td>AR</td>\n",
       "    </tr>\n",
       "    <tr>\n",
       "      <th>2</th>\n",
       "      <td>ARP125991090</td>\n",
       "      <td>BBVA BANCO FRANCES</td>\n",
       "      <td>1570.39</td>\n",
       "      <td>1851.34</td>\n",
       "      <td>1656.82</td>\n",
       "      <td>1388.70</td>\n",
       "      <td>1352.22</td>\n",
       "      <td>1541.05</td>\n",
       "      <td>1551.54</td>\n",
       "      <td>1528.48</td>\n",
       "      <td>...</td>\n",
       "      <td>1081.26</td>\n",
       "      <td>1085.52</td>\n",
       "      <td>993.08</td>\n",
       "      <td>1227.99</td>\n",
       "      <td>1318.36</td>\n",
       "      <td>1308.06</td>\n",
       "      <td>1206.71</td>\n",
       "      <td>1285.05</td>\n",
       "      <td>1591.32</td>\n",
       "      <td>AR</td>\n",
       "    </tr>\n",
       "    <tr>\n",
       "      <th>3</th>\n",
       "      <td>ARSIDE010029</td>\n",
       "      <td>TERNIUM ARGENTINA SOCIEDAD ANONIMA</td>\n",
       "      <td>1407.47</td>\n",
       "      <td>1463.08</td>\n",
       "      <td>1460.01</td>\n",
       "      <td>1356.04</td>\n",
       "      <td>893.05</td>\n",
       "      <td>955.70</td>\n",
       "      <td>990.45</td>\n",
       "      <td>1087.76</td>\n",
       "      <td>...</td>\n",
       "      <td>4778.90</td>\n",
       "      <td>4416.77</td>\n",
       "      <td>4292.86</td>\n",
       "      <td>5748.56</td>\n",
       "      <td>5673.71</td>\n",
       "      <td>5021.04</td>\n",
       "      <td>5110.32</td>\n",
       "      <td>4996.17</td>\n",
       "      <td>5814.86</td>\n",
       "      <td>AR</td>\n",
       "    </tr>\n",
       "    <tr>\n",
       "      <th>4</th>\n",
       "      <td>AT00000VIE62</td>\n",
       "      <td>FLUGHAFEN WIEN</td>\n",
       "      <td>567.85</td>\n",
       "      <td>559.05</td>\n",
       "      <td>576.48</td>\n",
       "      <td>498.86</td>\n",
       "      <td>517.64</td>\n",
       "      <td>554.94</td>\n",
       "      <td>525.07</td>\n",
       "      <td>532.96</td>\n",
       "      <td>...</td>\n",
       "      <td>2388.16</td>\n",
       "      <td>2366.48</td>\n",
       "      <td>2875.89</td>\n",
       "      <td>2809.31</td>\n",
       "      <td>2778.87</td>\n",
       "      <td>2719.75</td>\n",
       "      <td>2739.62</td>\n",
       "      <td>2854.20</td>\n",
       "      <td>2900.21</td>\n",
       "      <td>AT</td>\n",
       "    </tr>\n",
       "  </tbody>\n",
       "</table>\n",
       "<p>5 rows × 279 columns</p>\n",
       "</div>"
      ],
      "text/plain": [
       "           ISIN                                NAME  2000-01-31 00:00:00  \\\n",
       "0  AN8068571086                        SCHLUMBERGER             33574.85   \n",
       "1  ARALUA010258                               ALUAR              1328.64   \n",
       "2  ARP125991090                  BBVA BANCO FRANCES              1570.39   \n",
       "3  ARSIDE010029  TERNIUM ARGENTINA SOCIEDAD ANONIMA              1407.47   \n",
       "4  AT00000VIE62                      FLUGHAFEN WIEN               567.85   \n",
       "\n",
       "   2000-02-29 00:00:00  2000-03-31 00:00:00  2000-04-30 00:00:00  \\\n",
       "0             40611.13             43352.43             43387.86   \n",
       "1              1395.07              1362.23              1340.19   \n",
       "2              1851.34              1656.82              1388.70   \n",
       "3              1463.08              1460.01              1356.04   \n",
       "4               559.05               576.48               498.86   \n",
       "\n",
       "   2000-05-31 00:00:00  2000-06-30 00:00:00  2000-07-31 00:00:00  \\\n",
       "0             41861.39             42466.02             42074.79   \n",
       "1              1317.78              1209.89              1395.69   \n",
       "2              1352.22              1541.05              1551.54   \n",
       "3               893.05               955.70               990.45   \n",
       "4               517.64               554.94               525.07   \n",
       "\n",
       "   2000-08-31 00:00:00  ...  2022-04-30 00:00:00  2022-05-31 00:00:00  \\\n",
       "0             48547.80  ...             55139.08             64962.64   \n",
       "1              1447.55  ...              2195.00              2097.04   \n",
       "2              1528.48  ...              1081.26              1085.52   \n",
       "3              1087.76  ...              4778.90              4416.77   \n",
       "4               532.96  ...              2388.16              2366.48   \n",
       "\n",
       "   2022-06-30 00:00:00  2022-07-31 00:00:00  2022-08-31 00:00:00  \\\n",
       "0             50578.51             52374.81             53958.90   \n",
       "1              1894.01              3013.90              2911.44   \n",
       "2               993.08              1227.99              1318.36   \n",
       "3              4292.86              5748.56              5673.71   \n",
       "4              2875.89              2809.31              2778.87   \n",
       "\n",
       "   2022-09-30 00:00:00  2022-10-31 00:00:00  2022-11-30 00:00:00  \\\n",
       "0             50906.19             73778.56             73097.94   \n",
       "1              2584.93              2574.33              2778.90   \n",
       "2              1308.06              1206.71              1285.05   \n",
       "3              5021.04              5110.32              4996.17   \n",
       "4              2719.75              2739.62              2854.20   \n",
       "\n",
       "   2022-12-31 00:00:00  ISIN_First2  \n",
       "0             75806.25           AN  \n",
       "1              2853.52           AR  \n",
       "2              1591.32           AR  \n",
       "3              5814.86           AR  \n",
       "4              2900.21           AT  \n",
       "\n",
       "[5 rows x 279 columns]"
      ]
     },
     "execution_count": 10,
     "metadata": {},
     "output_type": "execute_result"
    }
   ],
   "source": [
    "#With the capitalization now\n",
    "df_monthly_capitalization['ISIN_First2'] = df_monthly_capitalization ['ISIN'].str[:2]\n",
    "df_monthly_capitalization.head()"
   ]
  },
  {
   "cell_type": "code",
   "execution_count": null,
   "metadata": {
    "ExecuteTime": {
     "end_time": "2024-03-05T07:42:26.213120Z",
     "start_time": "2024-03-05T07:42:25.747632Z"
    },
    "collapsed": false
   },
   "outputs": [],
   "source": [
    "#Second step we merge the data set with the region, keeping only the one matching the EUR countries\n",
    "df_EUR_monthly_capitalization = pd.merge(df_EUR,  df_monthly_capitalization, on='ISIN_First2', how='inner')\n",
    "df_EUR_monthly_ri = pd.merge(df_EUR,  df_monthly_ri, on='ISIN_First2', how='inner')"
   ]
  },
  {
   "cell_type": "code",
   "execution_count": null,
   "metadata": {
    "ExecuteTime": {
     "end_time": "2024-03-05T07:42:26.271044Z",
     "start_time": "2024-03-05T07:42:25.781223Z"
    },
    "collapsed": false
   },
   "outputs": [
    {
     "data": {
      "text/html": [
       "<div>\n",
       "<style scoped>\n",
       "    .dataframe tbody tr th:only-of-type {\n",
       "        vertical-align: middle;\n",
       "    }\n",
       "\n",
       "    .dataframe tbody tr th {\n",
       "        vertical-align: top;\n",
       "    }\n",
       "\n",
       "    .dataframe thead th {\n",
       "        text-align: right;\n",
       "    }\n",
       "</style>\n",
       "<table border=\"1\" class=\"dataframe\">\n",
       "  <thead>\n",
       "    <tr style=\"text-align: right;\">\n",
       "      <th></th>\n",
       "      <th>ISIN_First2</th>\n",
       "      <th>Unnamed: 1</th>\n",
       "      <th>Unnamed: 2</th>\n",
       "      <th>ISIN</th>\n",
       "      <th>NAME</th>\n",
       "      <th>2000-01-31 00:00:00</th>\n",
       "      <th>2000-02-29 00:00:00</th>\n",
       "      <th>2000-03-31 00:00:00</th>\n",
       "      <th>2000-04-30 00:00:00</th>\n",
       "      <th>2000-05-31 00:00:00</th>\n",
       "      <th>...</th>\n",
       "      <th>2022-03-31 00:00:00</th>\n",
       "      <th>2022-04-30 00:00:00</th>\n",
       "      <th>2022-05-31 00:00:00</th>\n",
       "      <th>2022-06-30 00:00:00</th>\n",
       "      <th>2022-07-31 00:00:00</th>\n",
       "      <th>2022-08-31 00:00:00</th>\n",
       "      <th>2022-09-30 00:00:00</th>\n",
       "      <th>2022-10-31 00:00:00</th>\n",
       "      <th>2022-11-30 00:00:00</th>\n",
       "      <th>2022-12-31 00:00:00</th>\n",
       "    </tr>\n",
       "  </thead>\n",
       "  <tbody>\n",
       "    <tr>\n",
       "      <th>0</th>\n",
       "      <td>AT</td>\n",
       "      <td>AUSTRIA</td>\n",
       "      <td>EUR</td>\n",
       "      <td>AT00000VIE62</td>\n",
       "      <td>FLUGHAFEN WIEN</td>\n",
       "      <td>567.85</td>\n",
       "      <td>559.05</td>\n",
       "      <td>576.48</td>\n",
       "      <td>498.86</td>\n",
       "      <td>517.64</td>\n",
       "      <td>...</td>\n",
       "      <td>2453.36</td>\n",
       "      <td>2388.16</td>\n",
       "      <td>2366.48</td>\n",
       "      <td>2875.89</td>\n",
       "      <td>2809.31</td>\n",
       "      <td>2778.87</td>\n",
       "      <td>2719.75</td>\n",
       "      <td>2739.62</td>\n",
       "      <td>2854.20</td>\n",
       "      <td>2900.21</td>\n",
       "    </tr>\n",
       "    <tr>\n",
       "      <th>1</th>\n",
       "      <td>AT</td>\n",
       "      <td>AUSTRIA</td>\n",
       "      <td>EUR</td>\n",
       "      <td>AT0000652011</td>\n",
       "      <td>ERSTE GROUP BANK</td>\n",
       "      <td>1803.98</td>\n",
       "      <td>1857.91</td>\n",
       "      <td>1910.40</td>\n",
       "      <td>1827.24</td>\n",
       "      <td>1810.26</td>\n",
       "      <td>...</td>\n",
       "      <td>15823.98</td>\n",
       "      <td>13448.16</td>\n",
       "      <td>13356.15</td>\n",
       "      <td>10873.35</td>\n",
       "      <td>10824.56</td>\n",
       "      <td>9715.28</td>\n",
       "      <td>9532.79</td>\n",
       "      <td>10602.50</td>\n",
       "      <td>13099.32</td>\n",
       "      <td>13715.54</td>\n",
       "    </tr>\n",
       "    <tr>\n",
       "      <th>2</th>\n",
       "      <td>AT</td>\n",
       "      <td>AUSTRIA</td>\n",
       "      <td>EUR</td>\n",
       "      <td>AT0000743059</td>\n",
       "      <td>OMV</td>\n",
       "      <td>2583.84</td>\n",
       "      <td>2113.74</td>\n",
       "      <td>2065.10</td>\n",
       "      <td>2223.10</td>\n",
       "      <td>2305.32</td>\n",
       "      <td>...</td>\n",
       "      <td>15799.81</td>\n",
       "      <td>16951.82</td>\n",
       "      <td>19071.10</td>\n",
       "      <td>15313.75</td>\n",
       "      <td>13821.87</td>\n",
       "      <td>13255.37</td>\n",
       "      <td>11981.47</td>\n",
       "      <td>15085.69</td>\n",
       "      <td>16902.76</td>\n",
       "      <td>16800.81</td>\n",
       "    </tr>\n",
       "    <tr>\n",
       "      <th>3</th>\n",
       "      <td>AT</td>\n",
       "      <td>AUSTRIA</td>\n",
       "      <td>EUR</td>\n",
       "      <td>AT0000746409</td>\n",
       "      <td>VERBUND</td>\n",
       "      <td>1655.07</td>\n",
       "      <td>1781.21</td>\n",
       "      <td>1618.73</td>\n",
       "      <td>1446.45</td>\n",
       "      <td>1554.72</td>\n",
       "      <td>...</td>\n",
       "      <td>18088.45</td>\n",
       "      <td>18353.60</td>\n",
       "      <td>16894.99</td>\n",
       "      <td>16612.75</td>\n",
       "      <td>18659.53</td>\n",
       "      <td>16321.45</td>\n",
       "      <td>14584.20</td>\n",
       "      <td>13333.42</td>\n",
       "      <td>15082.96</td>\n",
       "      <td>14289.58</td>\n",
       "    </tr>\n",
       "    <tr>\n",
       "      <th>4</th>\n",
       "      <td>AT</td>\n",
       "      <td>AUSTRIA</td>\n",
       "      <td>EUR</td>\n",
       "      <td>AT0000831706</td>\n",
       "      <td>WIENERBERGER</td>\n",
       "      <td>1386.43</td>\n",
       "      <td>1283.95</td>\n",
       "      <td>1428.44</td>\n",
       "      <td>1487.43</td>\n",
       "      <td>1567.26</td>\n",
       "      <td>...</td>\n",
       "      <td>3511.64</td>\n",
       "      <td>3280.93</td>\n",
       "      <td>3173.55</td>\n",
       "      <td>2466.15</td>\n",
       "      <td>2635.59</td>\n",
       "      <td>2703.34</td>\n",
       "      <td>2324.62</td>\n",
       "      <td>2634.32</td>\n",
       "      <td>2896.84</td>\n",
       "      <td>2690.25</td>\n",
       "    </tr>\n",
       "  </tbody>\n",
       "</table>\n",
       "<p>5 rows × 281 columns</p>\n",
       "</div>"
      ],
      "text/plain": [
       "  ISIN_First2 Unnamed: 1 Unnamed: 2          ISIN              NAME  \\\n",
       "0          AT    AUSTRIA        EUR  AT00000VIE62    FLUGHAFEN WIEN   \n",
       "1          AT    AUSTRIA        EUR  AT0000652011  ERSTE GROUP BANK   \n",
       "2          AT    AUSTRIA        EUR  AT0000743059               OMV   \n",
       "3          AT    AUSTRIA        EUR  AT0000746409           VERBUND   \n",
       "4          AT    AUSTRIA        EUR  AT0000831706      WIENERBERGER   \n",
       "\n",
       "   2000-01-31 00:00:00  2000-02-29 00:00:00  2000-03-31 00:00:00  \\\n",
       "0               567.85               559.05               576.48   \n",
       "1              1803.98              1857.91              1910.40   \n",
       "2              2583.84              2113.74              2065.10   \n",
       "3              1655.07              1781.21              1618.73   \n",
       "4              1386.43              1283.95              1428.44   \n",
       "\n",
       "   2000-04-30 00:00:00  2000-05-31 00:00:00  ...  2022-03-31 00:00:00  \\\n",
       "0               498.86               517.64  ...              2453.36   \n",
       "1              1827.24              1810.26  ...             15823.98   \n",
       "2              2223.10              2305.32  ...             15799.81   \n",
       "3              1446.45              1554.72  ...             18088.45   \n",
       "4              1487.43              1567.26  ...              3511.64   \n",
       "\n",
       "   2022-04-30 00:00:00  2022-05-31 00:00:00  2022-06-30 00:00:00  \\\n",
       "0              2388.16              2366.48              2875.89   \n",
       "1             13448.16             13356.15             10873.35   \n",
       "2             16951.82             19071.10             15313.75   \n",
       "3             18353.60             16894.99             16612.75   \n",
       "4              3280.93              3173.55              2466.15   \n",
       "\n",
       "   2022-07-31 00:00:00  2022-08-31 00:00:00  2022-09-30 00:00:00  \\\n",
       "0              2809.31              2778.87              2719.75   \n",
       "1             10824.56              9715.28              9532.79   \n",
       "2             13821.87             13255.37             11981.47   \n",
       "3             18659.53             16321.45             14584.20   \n",
       "4              2635.59              2703.34              2324.62   \n",
       "\n",
       "   2022-10-31 00:00:00  2022-11-30 00:00:00  2022-12-31 00:00:00  \n",
       "0              2739.62              2854.20              2900.21  \n",
       "1             10602.50             13099.32             13715.54  \n",
       "2             15085.69             16902.76             16800.81  \n",
       "3             13333.42             15082.96             14289.58  \n",
       "4              2634.32              2896.84              2690.25  \n",
       "\n",
       "[5 rows x 281 columns]"
      ]
     },
     "execution_count": 12,
     "metadata": {},
     "output_type": "execute_result"
    }
   ],
   "source": [
    "df_EUR_monthly_capitalization.head()"
   ]
  },
  {
   "cell_type": "code",
   "execution_count": null,
   "metadata": {
    "ExecuteTime": {
     "end_time": "2024-03-05T07:42:26.275327Z",
     "start_time": "2024-03-05T07:42:25.880156Z"
    },
    "collapsed": false
   },
   "outputs": [
    {
     "data": {
      "text/html": [
       "<div>\n",
       "<style scoped>\n",
       "    .dataframe tbody tr th:only-of-type {\n",
       "        vertical-align: middle;\n",
       "    }\n",
       "\n",
       "    .dataframe tbody tr th {\n",
       "        vertical-align: top;\n",
       "    }\n",
       "\n",
       "    .dataframe thead th {\n",
       "        text-align: right;\n",
       "    }\n",
       "</style>\n",
       "<table border=\"1\" class=\"dataframe\">\n",
       "  <thead>\n",
       "    <tr style=\"text-align: right;\">\n",
       "      <th></th>\n",
       "      <th>ISIN_First2</th>\n",
       "      <th>Unnamed: 1</th>\n",
       "      <th>Unnamed: 2</th>\n",
       "      <th>ISIN</th>\n",
       "      <th>NAME</th>\n",
       "      <th>2000-01-31 00:00:00</th>\n",
       "      <th>2000-02-29 00:00:00</th>\n",
       "      <th>2000-03-31 00:00:00</th>\n",
       "      <th>2000-04-30 00:00:00</th>\n",
       "      <th>2000-05-31 00:00:00</th>\n",
       "      <th>...</th>\n",
       "      <th>2022-03-31 00:00:00</th>\n",
       "      <th>2022-04-30 00:00:00</th>\n",
       "      <th>2022-05-31 00:00:00</th>\n",
       "      <th>2022-06-30 00:00:00</th>\n",
       "      <th>2022-07-31 00:00:00</th>\n",
       "      <th>2022-08-31 00:00:00</th>\n",
       "      <th>2022-09-30 00:00:00</th>\n",
       "      <th>2022-10-31 00:00:00</th>\n",
       "      <th>2022-11-30 00:00:00</th>\n",
       "      <th>2022-12-31 00:00:00</th>\n",
       "    </tr>\n",
       "  </thead>\n",
       "  <tbody>\n",
       "    <tr>\n",
       "      <th>0</th>\n",
       "      <td>AT</td>\n",
       "      <td>AUSTRIA</td>\n",
       "      <td>EUR</td>\n",
       "      <td>AT00000VIE62</td>\n",
       "      <td>FLUGHAFEN WIEN</td>\n",
       "      <td>156.25</td>\n",
       "      <td>153.83</td>\n",
       "      <td>158.62</td>\n",
       "      <td>137.27</td>\n",
       "      <td>148.95</td>\n",
       "      <td>...</td>\n",
       "      <td>1073.50</td>\n",
       "      <td>1044.97</td>\n",
       "      <td>1035.49</td>\n",
       "      <td>1258.39</td>\n",
       "      <td>1229.26</td>\n",
       "      <td>1215.93</td>\n",
       "      <td>1190.06</td>\n",
       "      <td>1198.76</td>\n",
       "      <td>1248.90</td>\n",
       "      <td>1269.03</td>\n",
       "    </tr>\n",
       "    <tr>\n",
       "      <th>1</th>\n",
       "      <td>AT</td>\n",
       "      <td>AUSTRIA</td>\n",
       "      <td>EUR</td>\n",
       "      <td>AT0000652011</td>\n",
       "      <td>ERSTE GROUP BANK</td>\n",
       "      <td>94.91</td>\n",
       "      <td>97.74</td>\n",
       "      <td>100.50</td>\n",
       "      <td>96.13</td>\n",
       "      <td>97.86</td>\n",
       "      <td>...</td>\n",
       "      <td>567.30</td>\n",
       "      <td>482.13</td>\n",
       "      <td>504.75</td>\n",
       "      <td>410.92</td>\n",
       "      <td>409.07</td>\n",
       "      <td>367.15</td>\n",
       "      <td>360.26</td>\n",
       "      <td>400.68</td>\n",
       "      <td>495.04</td>\n",
       "      <td>518.33</td>\n",
       "    </tr>\n",
       "    <tr>\n",
       "      <th>2</th>\n",
       "      <td>AT</td>\n",
       "      <td>AUSTRIA</td>\n",
       "      <td>EUR</td>\n",
       "      <td>AT0000743059</td>\n",
       "      <td>OMV</td>\n",
       "      <td>389.64</td>\n",
       "      <td>318.75</td>\n",
       "      <td>311.41</td>\n",
       "      <td>335.24</td>\n",
       "      <td>356.91</td>\n",
       "      <td>...</td>\n",
       "      <td>4277.87</td>\n",
       "      <td>4589.77</td>\n",
       "      <td>5163.58</td>\n",
       "      <td>4341.76</td>\n",
       "      <td>3918.78</td>\n",
       "      <td>3758.17</td>\n",
       "      <td>3396.99</td>\n",
       "      <td>4277.10</td>\n",
       "      <td>4792.28</td>\n",
       "      <td>4763.37</td>\n",
       "    </tr>\n",
       "    <tr>\n",
       "      <th>3</th>\n",
       "      <td>AT</td>\n",
       "      <td>AUSTRIA</td>\n",
       "      <td>EUR</td>\n",
       "      <td>AT0000746409</td>\n",
       "      <td>VERBUND</td>\n",
       "      <td>524.60</td>\n",
       "      <td>564.59</td>\n",
       "      <td>518.56</td>\n",
       "      <td>463.37</td>\n",
       "      <td>498.05</td>\n",
       "      <td>...</td>\n",
       "      <td>8285.25</td>\n",
       "      <td>8406.71</td>\n",
       "      <td>7820.72</td>\n",
       "      <td>7690.07</td>\n",
       "      <td>8637.53</td>\n",
       "      <td>7555.23</td>\n",
       "      <td>6751.05</td>\n",
       "      <td>6172.06</td>\n",
       "      <td>6981.93</td>\n",
       "      <td>6614.67</td>\n",
       "    </tr>\n",
       "    <tr>\n",
       "      <th>4</th>\n",
       "      <td>AT</td>\n",
       "      <td>AUSTRIA</td>\n",
       "      <td>EUR</td>\n",
       "      <td>AT0000831706</td>\n",
       "      <td>WIENERBERGER</td>\n",
       "      <td>2379.46</td>\n",
       "      <td>2203.58</td>\n",
       "      <td>2451.55</td>\n",
       "      <td>2552.81</td>\n",
       "      <td>2746.80</td>\n",
       "      <td>...</td>\n",
       "      <td>6331.35</td>\n",
       "      <td>5915.37</td>\n",
       "      <td>5895.80</td>\n",
       "      <td>4581.59</td>\n",
       "      <td>4896.37</td>\n",
       "      <td>5022.24</td>\n",
       "      <td>4318.66</td>\n",
       "      <td>4894.01</td>\n",
       "      <td>5548.18</td>\n",
       "      <td>5152.51</td>\n",
       "    </tr>\n",
       "  </tbody>\n",
       "</table>\n",
       "<p>5 rows × 281 columns</p>\n",
       "</div>"
      ],
      "text/plain": [
       "  ISIN_First2 Unnamed: 1 Unnamed: 2          ISIN              NAME  \\\n",
       "0          AT    AUSTRIA        EUR  AT00000VIE62    FLUGHAFEN WIEN   \n",
       "1          AT    AUSTRIA        EUR  AT0000652011  ERSTE GROUP BANK   \n",
       "2          AT    AUSTRIA        EUR  AT0000743059               OMV   \n",
       "3          AT    AUSTRIA        EUR  AT0000746409           VERBUND   \n",
       "4          AT    AUSTRIA        EUR  AT0000831706      WIENERBERGER   \n",
       "\n",
       "   2000-01-31 00:00:00  2000-02-29 00:00:00  2000-03-31 00:00:00  \\\n",
       "0               156.25               153.83               158.62   \n",
       "1                94.91                97.74               100.50   \n",
       "2               389.64               318.75               311.41   \n",
       "3               524.60               564.59               518.56   \n",
       "4              2379.46              2203.58              2451.55   \n",
       "\n",
       "   2000-04-30 00:00:00  2000-05-31 00:00:00  ...  2022-03-31 00:00:00  \\\n",
       "0               137.27               148.95  ...              1073.50   \n",
       "1                96.13                97.86  ...               567.30   \n",
       "2               335.24               356.91  ...              4277.87   \n",
       "3               463.37               498.05  ...              8285.25   \n",
       "4              2552.81              2746.80  ...              6331.35   \n",
       "\n",
       "   2022-04-30 00:00:00  2022-05-31 00:00:00  2022-06-30 00:00:00  \\\n",
       "0              1044.97              1035.49              1258.39   \n",
       "1               482.13               504.75               410.92   \n",
       "2              4589.77              5163.58              4341.76   \n",
       "3              8406.71              7820.72              7690.07   \n",
       "4              5915.37              5895.80              4581.59   \n",
       "\n",
       "   2022-07-31 00:00:00  2022-08-31 00:00:00  2022-09-30 00:00:00  \\\n",
       "0              1229.26              1215.93              1190.06   \n",
       "1               409.07               367.15               360.26   \n",
       "2              3918.78              3758.17              3396.99   \n",
       "3              8637.53              7555.23              6751.05   \n",
       "4              4896.37              5022.24              4318.66   \n",
       "\n",
       "   2022-10-31 00:00:00  2022-11-30 00:00:00  2022-12-31 00:00:00  \n",
       "0              1198.76              1248.90              1269.03  \n",
       "1               400.68               495.04               518.33  \n",
       "2              4277.10              4792.28              4763.37  \n",
       "3              6172.06              6981.93              6614.67  \n",
       "4              4894.01              5548.18              5152.51  \n",
       "\n",
       "[5 rows x 281 columns]"
      ]
     },
     "execution_count": 13,
     "metadata": {},
     "output_type": "execute_result"
    }
   ],
   "source": [
    "df_EUR_monthly_ri.head()"
   ]
  },
  {
   "cell_type": "code",
   "execution_count": null,
   "metadata": {
    "ExecuteTime": {
     "end_time": "2024-03-05T07:42:26.712256Z",
     "start_time": "2024-03-05T07:42:25.903147Z"
    },
    "collapsed": false
   },
   "outputs": [],
   "source": [
    "df_EUR_monthly_capitalization.to_csv('/Users/camillevermenouze/Documents/SMTS2/SEF/df_EUR_monthly_capitalization.csv', index=False)\n",
    "df_EUR_monthly_ri.to_csv('/Users/camillevermenouze/Documents/SMTS2/SEF/df_EUR_monthly_return.csv', index=False)\n",
    "#We have now 508 firms with the data for 281 months"
   ]
  },
  {
   "cell_type": "markdown",
   "metadata": {
    "collapsed": false
   },
   "source": [
    "## IMPORT MONTHLY DATASET"
   ]
  },
  {
   "cell_type": "code",
<<<<<<< HEAD
   "execution_count": 1,
=======
   "execution_count": null,
   "metadata": {
    "ExecuteTime": {
     "end_time": "2024-03-05T07:42:26.713093Z",
     "start_time": "2024-03-05T07:42:26.445640Z"
    },
    "collapsed": false
   },
>>>>>>> caa640482ff8c8e3a495b1dc82d47aae396c508b
   "outputs": [],
   "source": [
    "import ssl\n",
    "\n",
    "ssl._create_default_https_context = ssl._create_unverified_context"
<<<<<<< HEAD
   ],
   "metadata": {
    "collapsed": false,
    "ExecuteTime": {
     "end_time": "2024-03-06T10:09:11.650934Z",
     "start_time": "2024-03-06T10:09:11.629606Z"
    }
   }
  },
  {
   "cell_type": "code",
   "execution_count": 4,
=======
   ]
  },
  {
   "cell_type": "code",
   "execution_count": 16,
   "metadata": {
    "ExecuteTime": {
     "end_time": "2024-03-05T08:57:12.475929Z",
     "start_time": "2024-03-05T08:57:11.100454Z"
    },
    "collapsed": false
   },
>>>>>>> caa640482ff8c8e3a495b1dc82d47aae396c508b
   "outputs": [],
   "source": [
    "urlmri = \"https://raw.githubusercontent.com/GiammarcoBozzelli/SEF/main/df_EUR_monthly_return.csv\"\n",
    "dfmri = pd.read_csv(urlmri)\n",
    "\n",
    "urlmcapitalization = \"https://raw.githubusercontent.com/GiammarcoBozzelli/SEF/main/df_EUR_monthly_capitalization.csv\"\n",
    "dfmcapitalization = pd.read_csv(urlmcapitalization)"
<<<<<<< HEAD
   ],
   "metadata": {
    "collapsed": false,
    "ExecuteTime": {
     "end_time": "2024-03-06T10:09:40.910121Z",
     "start_time": "2024-03-06T10:09:39.775217Z"
    }
   }
  },
  {
   "cell_type": "code",
   "execution_count": 5,
=======
   ]
  },
  {
   "cell_type": "code",
   "execution_count": 17,
   "metadata": {
    "ExecuteTime": {
     "end_time": "2024-03-05T07:42:29.177175Z",
     "start_time": "2024-03-05T07:42:29.006210Z"
    },
    "collapsed": false
   },
>>>>>>> caa640482ff8c8e3a495b1dc82d47aae396c508b
   "outputs": [
    {
     "data": {
      "text/html": [
       "<div>\n",
       "<style scoped>\n",
       "    .dataframe tbody tr th:only-of-type {\n",
       "        vertical-align: middle;\n",
       "    }\n",
       "\n",
       "    .dataframe tbody tr th {\n",
       "        vertical-align: top;\n",
       "    }\n",
       "\n",
       "    .dataframe thead th {\n",
       "        text-align: right;\n",
       "    }\n",
       "</style>\n",
       "<table border=\"1\" class=\"dataframe\">\n",
       "  <thead>\n",
       "    <tr style=\"text-align: right;\">\n",
       "      <th></th>\n",
       "      <th>ISIN_First2</th>\n",
       "      <th>Unnamed: 1</th>\n",
       "      <th>Unnamed: 2</th>\n",
       "      <th>ISIN</th>\n",
       "      <th>NAME</th>\n",
       "      <th>2000-01-31 00:00:00</th>\n",
       "      <th>2000-02-29 00:00:00</th>\n",
       "      <th>2000-03-31 00:00:00</th>\n",
       "      <th>2000-04-30 00:00:00</th>\n",
       "      <th>2000-05-31 00:00:00</th>\n",
       "      <th>...</th>\n",
       "      <th>2022-03-31 00:00:00</th>\n",
       "      <th>2022-04-30 00:00:00</th>\n",
       "      <th>2022-05-31 00:00:00</th>\n",
       "      <th>2022-06-30 00:00:00</th>\n",
       "      <th>2022-07-31 00:00:00</th>\n",
       "      <th>2022-08-31 00:00:00</th>\n",
       "      <th>2022-09-30 00:00:00</th>\n",
       "      <th>2022-10-31 00:00:00</th>\n",
       "      <th>2022-11-30 00:00:00</th>\n",
       "      <th>2022-12-31 00:00:00</th>\n",
       "    </tr>\n",
       "  </thead>\n",
       "  <tbody>\n",
       "    <tr>\n",
       "      <th>0</th>\n",
       "      <td>AT</td>\n",
       "      <td>AUSTRIA</td>\n",
       "      <td>EUR</td>\n",
       "      <td>AT00000VIE62</td>\n",
       "      <td>FLUGHAFEN WIEN</td>\n",
       "      <td>156.25</td>\n",
       "      <td>153.83</td>\n",
       "      <td>158.62</td>\n",
       "      <td>137.27</td>\n",
       "      <td>148.95</td>\n",
       "      <td>...</td>\n",
       "      <td>1073.50</td>\n",
       "      <td>1044.97</td>\n",
       "      <td>1035.49</td>\n",
       "      <td>1258.39</td>\n",
       "      <td>1229.26</td>\n",
       "      <td>1215.93</td>\n",
       "      <td>1190.06</td>\n",
       "      <td>1198.76</td>\n",
       "      <td>1248.90</td>\n",
       "      <td>1269.03</td>\n",
       "    </tr>\n",
       "    <tr>\n",
       "      <th>1</th>\n",
       "      <td>AT</td>\n",
       "      <td>AUSTRIA</td>\n",
       "      <td>EUR</td>\n",
       "      <td>AT0000652011</td>\n",
       "      <td>ERSTE GROUP BANK</td>\n",
       "      <td>94.91</td>\n",
       "      <td>97.74</td>\n",
       "      <td>100.50</td>\n",
       "      <td>96.13</td>\n",
       "      <td>97.86</td>\n",
       "      <td>...</td>\n",
       "      <td>567.30</td>\n",
       "      <td>482.13</td>\n",
       "      <td>504.75</td>\n",
       "      <td>410.92</td>\n",
       "      <td>409.07</td>\n",
       "      <td>367.15</td>\n",
       "      <td>360.26</td>\n",
       "      <td>400.68</td>\n",
       "      <td>495.04</td>\n",
       "      <td>518.33</td>\n",
       "    </tr>\n",
       "    <tr>\n",
       "      <th>2</th>\n",
       "      <td>AT</td>\n",
       "      <td>AUSTRIA</td>\n",
       "      <td>EUR</td>\n",
       "      <td>AT0000743059</td>\n",
       "      <td>OMV</td>\n",
       "      <td>389.64</td>\n",
       "      <td>318.75</td>\n",
       "      <td>311.41</td>\n",
       "      <td>335.24</td>\n",
       "      <td>356.91</td>\n",
       "      <td>...</td>\n",
       "      <td>4277.87</td>\n",
       "      <td>4589.77</td>\n",
       "      <td>5163.58</td>\n",
       "      <td>4341.76</td>\n",
       "      <td>3918.78</td>\n",
       "      <td>3758.17</td>\n",
       "      <td>3396.99</td>\n",
       "      <td>4277.10</td>\n",
       "      <td>4792.28</td>\n",
       "      <td>4763.37</td>\n",
       "    </tr>\n",
       "    <tr>\n",
       "      <th>3</th>\n",
       "      <td>AT</td>\n",
       "      <td>AUSTRIA</td>\n",
       "      <td>EUR</td>\n",
       "      <td>AT0000746409</td>\n",
       "      <td>VERBUND</td>\n",
       "      <td>524.60</td>\n",
       "      <td>564.59</td>\n",
       "      <td>518.56</td>\n",
       "      <td>463.37</td>\n",
       "      <td>498.05</td>\n",
       "      <td>...</td>\n",
       "      <td>8285.25</td>\n",
       "      <td>8406.71</td>\n",
       "      <td>7820.72</td>\n",
       "      <td>7690.07</td>\n",
       "      <td>8637.53</td>\n",
       "      <td>7555.23</td>\n",
       "      <td>6751.05</td>\n",
       "      <td>6172.06</td>\n",
       "      <td>6981.93</td>\n",
       "      <td>6614.67</td>\n",
       "    </tr>\n",
       "    <tr>\n",
       "      <th>4</th>\n",
       "      <td>AT</td>\n",
       "      <td>AUSTRIA</td>\n",
       "      <td>EUR</td>\n",
       "      <td>AT0000831706</td>\n",
       "      <td>WIENERBERGER</td>\n",
       "      <td>2379.46</td>\n",
       "      <td>2203.58</td>\n",
       "      <td>2451.55</td>\n",
       "      <td>2552.81</td>\n",
       "      <td>2746.80</td>\n",
       "      <td>...</td>\n",
       "      <td>6331.35</td>\n",
       "      <td>5915.37</td>\n",
       "      <td>5895.80</td>\n",
       "      <td>4581.59</td>\n",
       "      <td>4896.37</td>\n",
       "      <td>5022.24</td>\n",
       "      <td>4318.66</td>\n",
       "      <td>4894.01</td>\n",
       "      <td>5548.18</td>\n",
       "      <td>5152.51</td>\n",
       "    </tr>\n",
       "  </tbody>\n",
       "</table>\n",
       "<p>5 rows × 281 columns</p>\n",
       "</div>"
      ],
      "text/plain": [
       "  ISIN_First2 Unnamed: 1 Unnamed: 2          ISIN              NAME  \\\n",
       "0          AT    AUSTRIA        EUR  AT00000VIE62    FLUGHAFEN WIEN   \n",
       "1          AT    AUSTRIA        EUR  AT0000652011  ERSTE GROUP BANK   \n",
       "2          AT    AUSTRIA        EUR  AT0000743059               OMV   \n",
       "3          AT    AUSTRIA        EUR  AT0000746409           VERBUND   \n",
       "4          AT    AUSTRIA        EUR  AT0000831706      WIENERBERGER   \n",
       "\n",
       "   2000-01-31 00:00:00  2000-02-29 00:00:00  2000-03-31 00:00:00  \\\n",
       "0               156.25               153.83               158.62   \n",
       "1                94.91                97.74               100.50   \n",
       "2               389.64               318.75               311.41   \n",
       "3               524.60               564.59               518.56   \n",
       "4              2379.46              2203.58              2451.55   \n",
       "\n",
       "   2000-04-30 00:00:00  2000-05-31 00:00:00  ...  2022-03-31 00:00:00  \\\n",
       "0               137.27               148.95  ...              1073.50   \n",
       "1                96.13                97.86  ...               567.30   \n",
       "2               335.24               356.91  ...              4277.87   \n",
       "3               463.37               498.05  ...              8285.25   \n",
       "4              2552.81              2746.80  ...              6331.35   \n",
       "\n",
       "   2022-04-30 00:00:00  2022-05-31 00:00:00  2022-06-30 00:00:00  \\\n",
       "0              1044.97              1035.49              1258.39   \n",
       "1               482.13               504.75               410.92   \n",
       "2              4589.77              5163.58              4341.76   \n",
       "3              8406.71              7820.72              7690.07   \n",
       "4              5915.37              5895.80              4581.59   \n",
       "\n",
       "   2022-07-31 00:00:00  2022-08-31 00:00:00  2022-09-30 00:00:00  \\\n",
       "0              1229.26              1215.93              1190.06   \n",
       "1               409.07               367.15               360.26   \n",
       "2              3918.78              3758.17              3396.99   \n",
       "3              8637.53              7555.23              6751.05   \n",
       "4              4896.37              5022.24              4318.66   \n",
       "\n",
       "   2022-10-31 00:00:00  2022-11-30 00:00:00  2022-12-31 00:00:00  \n",
       "0              1198.76              1248.90              1269.03  \n",
       "1               400.68               495.04               518.33  \n",
       "2              4277.10              4792.28              4763.37  \n",
       "3              6172.06              6981.93              6614.67  \n",
       "4              4894.01              5548.18              5152.51  \n",
       "\n",
       "[5 rows x 281 columns]"
      ]
     },
     "execution_count": 5,
     "metadata": {},
     "output_type": "execute_result"
    }
   ],
   "source": [
    "dfmri.head()"
<<<<<<< HEAD
   ],
   "metadata": {
    "collapsed": false,
    "ExecuteTime": {
     "end_time": "2024-03-06T10:09:44.533326Z",
     "start_time": "2024-03-06T10:09:44.275666Z"
    }
   }
  },
  {
   "cell_type": "code",
   "execution_count": 6,
=======
   ]
  },
  {
   "cell_type": "code",
   "execution_count": 18,
   "metadata": {
    "ExecuteTime": {
     "end_time": "2024-03-05T07:42:29.226036Z",
     "start_time": "2024-03-05T07:42:29.079394Z"
    },
    "collapsed": false
   },
>>>>>>> caa640482ff8c8e3a495b1dc82d47aae396c508b
   "outputs": [
    {
     "data": {
      "text/html": [
       "<div>\n",
       "<style scoped>\n",
       "    .dataframe tbody tr th:only-of-type {\n",
       "        vertical-align: middle;\n",
       "    }\n",
       "\n",
       "    .dataframe tbody tr th {\n",
       "        vertical-align: top;\n",
       "    }\n",
       "\n",
       "    .dataframe thead th {\n",
       "        text-align: right;\n",
       "    }\n",
       "</style>\n",
       "<table border=\"1\" class=\"dataframe\">\n",
       "  <thead>\n",
       "    <tr style=\"text-align: right;\">\n",
       "      <th></th>\n",
       "      <th>ISIN_First2</th>\n",
       "      <th>Unnamed: 1</th>\n",
       "      <th>Unnamed: 2</th>\n",
       "      <th>ISIN</th>\n",
       "      <th>NAME</th>\n",
       "      <th>2000-01-31 00:00:00</th>\n",
       "      <th>2000-02-29 00:00:00</th>\n",
       "      <th>2000-03-31 00:00:00</th>\n",
       "      <th>2000-04-30 00:00:00</th>\n",
       "      <th>2000-05-31 00:00:00</th>\n",
       "      <th>...</th>\n",
       "      <th>2022-03-31 00:00:00</th>\n",
       "      <th>2022-04-30 00:00:00</th>\n",
       "      <th>2022-05-31 00:00:00</th>\n",
       "      <th>2022-06-30 00:00:00</th>\n",
       "      <th>2022-07-31 00:00:00</th>\n",
       "      <th>2022-08-31 00:00:00</th>\n",
       "      <th>2022-09-30 00:00:00</th>\n",
       "      <th>2022-10-31 00:00:00</th>\n",
       "      <th>2022-11-30 00:00:00</th>\n",
       "      <th>2022-12-31 00:00:00</th>\n",
       "    </tr>\n",
       "  </thead>\n",
       "  <tbody>\n",
       "    <tr>\n",
       "      <th>0</th>\n",
       "      <td>AT</td>\n",
       "      <td>AUSTRIA</td>\n",
       "      <td>EUR</td>\n",
       "      <td>AT00000VIE62</td>\n",
       "      <td>FLUGHAFEN WIEN</td>\n",
       "      <td>567.85</td>\n",
       "      <td>559.05</td>\n",
       "      <td>576.48</td>\n",
       "      <td>498.86</td>\n",
       "      <td>517.64</td>\n",
       "      <td>...</td>\n",
       "      <td>2453.36</td>\n",
       "      <td>2388.16</td>\n",
       "      <td>2366.48</td>\n",
       "      <td>2875.89</td>\n",
       "      <td>2809.31</td>\n",
       "      <td>2778.87</td>\n",
       "      <td>2719.75</td>\n",
       "      <td>2739.62</td>\n",
       "      <td>2854.20</td>\n",
       "      <td>2900.21</td>\n",
       "    </tr>\n",
       "    <tr>\n",
       "      <th>1</th>\n",
       "      <td>AT</td>\n",
       "      <td>AUSTRIA</td>\n",
       "      <td>EUR</td>\n",
       "      <td>AT0000652011</td>\n",
       "      <td>ERSTE GROUP BANK</td>\n",
       "      <td>1803.98</td>\n",
       "      <td>1857.91</td>\n",
       "      <td>1910.40</td>\n",
       "      <td>1827.24</td>\n",
       "      <td>1810.26</td>\n",
       "      <td>...</td>\n",
       "      <td>15823.98</td>\n",
       "      <td>13448.16</td>\n",
       "      <td>13356.15</td>\n",
       "      <td>10873.35</td>\n",
       "      <td>10824.56</td>\n",
       "      <td>9715.28</td>\n",
       "      <td>9532.79</td>\n",
       "      <td>10602.50</td>\n",
       "      <td>13099.32</td>\n",
       "      <td>13715.54</td>\n",
       "    </tr>\n",
       "    <tr>\n",
       "      <th>2</th>\n",
       "      <td>AT</td>\n",
       "      <td>AUSTRIA</td>\n",
       "      <td>EUR</td>\n",
       "      <td>AT0000743059</td>\n",
       "      <td>OMV</td>\n",
       "      <td>2583.84</td>\n",
       "      <td>2113.74</td>\n",
       "      <td>2065.10</td>\n",
       "      <td>2223.10</td>\n",
       "      <td>2305.32</td>\n",
       "      <td>...</td>\n",
       "      <td>15799.81</td>\n",
       "      <td>16951.82</td>\n",
       "      <td>19071.10</td>\n",
       "      <td>15313.75</td>\n",
       "      <td>13821.87</td>\n",
       "      <td>13255.37</td>\n",
       "      <td>11981.47</td>\n",
       "      <td>15085.69</td>\n",
       "      <td>16902.76</td>\n",
       "      <td>16800.81</td>\n",
       "    </tr>\n",
       "    <tr>\n",
       "      <th>3</th>\n",
       "      <td>AT</td>\n",
       "      <td>AUSTRIA</td>\n",
       "      <td>EUR</td>\n",
       "      <td>AT0000746409</td>\n",
       "      <td>VERBUND</td>\n",
       "      <td>1655.07</td>\n",
       "      <td>1781.21</td>\n",
       "      <td>1618.73</td>\n",
       "      <td>1446.45</td>\n",
       "      <td>1554.72</td>\n",
       "      <td>...</td>\n",
       "      <td>18088.45</td>\n",
       "      <td>18353.60</td>\n",
       "      <td>16894.99</td>\n",
       "      <td>16612.75</td>\n",
       "      <td>18659.53</td>\n",
       "      <td>16321.45</td>\n",
       "      <td>14584.20</td>\n",
       "      <td>13333.42</td>\n",
       "      <td>15082.96</td>\n",
       "      <td>14289.58</td>\n",
       "    </tr>\n",
       "    <tr>\n",
       "      <th>4</th>\n",
       "      <td>AT</td>\n",
       "      <td>AUSTRIA</td>\n",
       "      <td>EUR</td>\n",
       "      <td>AT0000831706</td>\n",
       "      <td>WIENERBERGER</td>\n",
       "      <td>1386.43</td>\n",
       "      <td>1283.95</td>\n",
       "      <td>1428.44</td>\n",
       "      <td>1487.43</td>\n",
       "      <td>1567.26</td>\n",
       "      <td>...</td>\n",
       "      <td>3511.64</td>\n",
       "      <td>3280.93</td>\n",
       "      <td>3173.55</td>\n",
       "      <td>2466.15</td>\n",
       "      <td>2635.59</td>\n",
       "      <td>2703.34</td>\n",
       "      <td>2324.62</td>\n",
       "      <td>2634.32</td>\n",
       "      <td>2896.84</td>\n",
       "      <td>2690.25</td>\n",
       "    </tr>\n",
       "  </tbody>\n",
       "</table>\n",
       "<p>5 rows × 281 columns</p>\n",
       "</div>"
      ],
      "text/plain": [
       "  ISIN_First2 Unnamed: 1 Unnamed: 2          ISIN              NAME  \\\n",
       "0          AT    AUSTRIA        EUR  AT00000VIE62    FLUGHAFEN WIEN   \n",
       "1          AT    AUSTRIA        EUR  AT0000652011  ERSTE GROUP BANK   \n",
       "2          AT    AUSTRIA        EUR  AT0000743059               OMV   \n",
       "3          AT    AUSTRIA        EUR  AT0000746409           VERBUND   \n",
       "4          AT    AUSTRIA        EUR  AT0000831706      WIENERBERGER   \n",
       "\n",
       "   2000-01-31 00:00:00  2000-02-29 00:00:00  2000-03-31 00:00:00  \\\n",
       "0               567.85               559.05               576.48   \n",
       "1              1803.98              1857.91              1910.40   \n",
       "2              2583.84              2113.74              2065.10   \n",
       "3              1655.07              1781.21              1618.73   \n",
       "4              1386.43              1283.95              1428.44   \n",
       "\n",
       "   2000-04-30 00:00:00  2000-05-31 00:00:00  ...  2022-03-31 00:00:00  \\\n",
       "0               498.86               517.64  ...              2453.36   \n",
       "1              1827.24              1810.26  ...             15823.98   \n",
       "2              2223.10              2305.32  ...             15799.81   \n",
       "3              1446.45              1554.72  ...             18088.45   \n",
       "4              1487.43              1567.26  ...              3511.64   \n",
       "\n",
       "   2022-04-30 00:00:00  2022-05-31 00:00:00  2022-06-30 00:00:00  \\\n",
       "0              2388.16              2366.48              2875.89   \n",
       "1             13448.16             13356.15             10873.35   \n",
       "2             16951.82             19071.10             15313.75   \n",
       "3             18353.60             16894.99             16612.75   \n",
       "4              3280.93              3173.55              2466.15   \n",
       "\n",
       "   2022-07-31 00:00:00  2022-08-31 00:00:00  2022-09-30 00:00:00  \\\n",
       "0              2809.31              2778.87              2719.75   \n",
       "1             10824.56              9715.28              9532.79   \n",
       "2             13821.87             13255.37             11981.47   \n",
       "3             18659.53             16321.45             14584.20   \n",
       "4              2635.59              2703.34              2324.62   \n",
       "\n",
       "   2022-10-31 00:00:00  2022-11-30 00:00:00  2022-12-31 00:00:00  \n",
       "0              2739.62              2854.20              2900.21  \n",
       "1             10602.50             13099.32             13715.54  \n",
       "2             15085.69             16902.76             16800.81  \n",
       "3             13333.42             15082.96             14289.58  \n",
       "4              2634.32              2896.84              2690.25  \n",
       "\n",
       "[5 rows x 281 columns]"
      ]
     },
     "execution_count": 6,
     "metadata": {},
     "output_type": "execute_result"
    }
   ],
   "source": [
    "dfmcapitalization.head()"
<<<<<<< HEAD
   ],
   "metadata": {
    "collapsed": false,
    "ExecuteTime": {
     "end_time": "2024-03-06T10:09:55.757971Z",
     "start_time": "2024-03-06T10:09:55.676538Z"
    }
   }
=======
   ]
>>>>>>> caa640482ff8c8e3a495b1dc82d47aae396c508b
  },
  {
   "cell_type": "markdown",
   "metadata": {
    "collapsed": false
   },
   "source": [
    "## IMPORT YEARLY DATASET"
   ]
  },
  {
   "cell_type": "code",
<<<<<<< HEAD
   "execution_count": 7,
=======
   "execution_count": 19,
   "metadata": {
    "ExecuteTime": {
     "end_time": "2024-03-05T07:42:30.176863Z",
     "start_time": "2024-03-05T07:42:29.188286Z"
    },
    "collapsed": false
   },
>>>>>>> caa640482ff8c8e3a495b1dc82d47aae396c508b
   "outputs": [],
   "source": [
    "urlyri = 'https://raw.githubusercontent.com/GiammarcoBozzelli/SEF/main/df_EUR_yearly_return.csv'\n",
    "dfyri = pd.read_csv(urlyri)\n",
    "\n",
    "urlycapitalization = 'https://raw.githubusercontent.com/GiammarcoBozzelli/SEF/main/df_EUR_yearly_capitalization.csv'\n",
    "dfycapitalization = pd.read_csv(urlycapitalization)"
<<<<<<< HEAD
   ],
   "metadata": {
    "collapsed": false,
    "ExecuteTime": {
     "end_time": "2024-03-06T10:10:14.897789Z",
     "start_time": "2024-03-06T10:10:14.390816Z"
    }
   }
  },
  {
   "cell_type": "code",
   "execution_count": 8,
=======
   ]
  },
  {
   "cell_type": "code",
   "execution_count": 20,
   "metadata": {
    "ExecuteTime": {
     "end_time": "2024-03-05T07:42:30.246545Z",
     "start_time": "2024-03-05T07:42:30.151477Z"
    },
    "collapsed": false
   },
>>>>>>> caa640482ff8c8e3a495b1dc82d47aae396c508b
   "outputs": [
    {
     "data": {
      "text/html": [
       "<div>\n",
       "<style scoped>\n",
       "    .dataframe tbody tr th:only-of-type {\n",
       "        vertical-align: middle;\n",
       "    }\n",
       "\n",
       "    .dataframe tbody tr th {\n",
       "        vertical-align: top;\n",
       "    }\n",
       "\n",
       "    .dataframe thead th {\n",
       "        text-align: right;\n",
       "    }\n",
       "</style>\n",
       "<table border=\"1\" class=\"dataframe\">\n",
       "  <thead>\n",
       "    <tr style=\"text-align: right;\">\n",
       "      <th></th>\n",
       "      <th>ISIN_First2</th>\n",
       "      <th>Unnamed: 1</th>\n",
       "      <th>Unnamed: 2</th>\n",
       "      <th>ISIN</th>\n",
       "      <th>NAME</th>\n",
       "      <th>x1999</th>\n",
       "      <th>x2000</th>\n",
       "      <th>x2001</th>\n",
       "      <th>x2002</th>\n",
       "      <th>x2003</th>\n",
       "      <th>...</th>\n",
       "      <th>x2013</th>\n",
       "      <th>x2014</th>\n",
       "      <th>x2015</th>\n",
       "      <th>x2016</th>\n",
       "      <th>x2017</th>\n",
       "      <th>x2018</th>\n",
       "      <th>x2019</th>\n",
       "      <th>x2020</th>\n",
       "      <th>x2021</th>\n",
       "      <th>x2022</th>\n",
       "    </tr>\n",
       "  </thead>\n",
       "  <tbody>\n",
       "    <tr>\n",
       "      <th>0</th>\n",
       "      <td>AT</td>\n",
       "      <td>AUSTRIA</td>\n",
       "      <td>EUR</td>\n",
       "      <td>AT00000VIE62</td>\n",
       "      <td>FLUGHAFEN WIEN</td>\n",
       "      <td>147.79</td>\n",
       "      <td>169.02</td>\n",
       "      <td>126.01</td>\n",
       "      <td>166.81</td>\n",
       "      <td>248.09</td>\n",
       "      <td>...</td>\n",
       "      <td>684.58</td>\n",
       "      <td>771.62</td>\n",
       "      <td>806.23</td>\n",
       "      <td>853.19</td>\n",
       "      <td>1422.45</td>\n",
       "      <td>1416.63</td>\n",
       "      <td>1557.53</td>\n",
       "      <td>1369.41</td>\n",
       "      <td>1111.83</td>\n",
       "      <td>1269.03</td>\n",
       "    </tr>\n",
       "    <tr>\n",
       "      <th>1</th>\n",
       "      <td>AT</td>\n",
       "      <td>AUSTRIA</td>\n",
       "      <td>EUR</td>\n",
       "      <td>AT0000652011</td>\n",
       "      <td>ERSTE GROUP BANK</td>\n",
       "      <td>102.94</td>\n",
       "      <td>108.87</td>\n",
       "      <td>131.07</td>\n",
       "      <td>169.47</td>\n",
       "      <td>316.50</td>\n",
       "      <td>...</td>\n",
       "      <td>451.57</td>\n",
       "      <td>303.59</td>\n",
       "      <td>409.64</td>\n",
       "      <td>391.16</td>\n",
       "      <td>594.97</td>\n",
       "      <td>471.37</td>\n",
       "      <td>557.68</td>\n",
       "      <td>451.74</td>\n",
       "      <td>724.56</td>\n",
       "      <td>518.33</td>\n",
       "    </tr>\n",
       "    <tr>\n",
       "      <th>2</th>\n",
       "      <td>AT</td>\n",
       "      <td>AUSTRIA</td>\n",
       "      <td>EUR</td>\n",
       "      <td>AT0000743059</td>\n",
       "      <td>OMV</td>\n",
       "      <td>393.88</td>\n",
       "      <td>323.77</td>\n",
       "      <td>363.83</td>\n",
       "      <td>444.88</td>\n",
       "      <td>698.11</td>\n",
       "      <td>...</td>\n",
       "      <td>3044.74</td>\n",
       "      <td>1763.66</td>\n",
       "      <td>1970.76</td>\n",
       "      <td>2554.70</td>\n",
       "      <td>4696.74</td>\n",
       "      <td>3335.71</td>\n",
       "      <td>4458.82</td>\n",
       "      <td>3450.98</td>\n",
       "      <td>5033.33</td>\n",
       "      <td>4763.37</td>\n",
       "    </tr>\n",
       "    <tr>\n",
       "      <th>3</th>\n",
       "      <td>AT</td>\n",
       "      <td>AUSTRIA</td>\n",
       "      <td>EUR</td>\n",
       "      <td>AT0000746409</td>\n",
       "      <td>VERBUND</td>\n",
       "      <td>669.42</td>\n",
       "      <td>490.55</td>\n",
       "      <td>365.21</td>\n",
       "      <td>421.52</td>\n",
       "      <td>588.39</td>\n",
       "      <td>...</td>\n",
       "      <td>1382.09</td>\n",
       "      <td>1279.70</td>\n",
       "      <td>907.90</td>\n",
       "      <td>1161.74</td>\n",
       "      <td>1787.80</td>\n",
       "      <td>3197.60</td>\n",
       "      <td>3808.49</td>\n",
       "      <td>6593.93</td>\n",
       "      <td>8769.64</td>\n",
       "      <td>6614.67</td>\n",
       "    </tr>\n",
       "    <tr>\n",
       "      <th>4</th>\n",
       "      <td>AT</td>\n",
       "      <td>AUSTRIA</td>\n",
       "      <td>EUR</td>\n",
       "      <td>AT0000831706</td>\n",
       "      <td>WIENERBERGER</td>\n",
       "      <td>2579.95</td>\n",
       "      <td>2186.26</td>\n",
       "      <td>1776.97</td>\n",
       "      <td>2322.13</td>\n",
       "      <td>3626.22</td>\n",
       "      <td>...</td>\n",
       "      <td>2882.81</td>\n",
       "      <td>2537.95</td>\n",
       "      <td>3437.56</td>\n",
       "      <td>3262.29</td>\n",
       "      <td>4602.01</td>\n",
       "      <td>3984.99</td>\n",
       "      <td>5887.01</td>\n",
       "      <td>6511.05</td>\n",
       "      <td>7637.80</td>\n",
       "      <td>5152.51</td>\n",
       "    </tr>\n",
       "  </tbody>\n",
       "</table>\n",
       "<p>5 rows × 29 columns</p>\n",
       "</div>"
      ],
      "text/plain": [
       "  ISIN_First2 Unnamed: 1 Unnamed: 2          ISIN              NAME    x1999  \\\n",
       "0          AT    AUSTRIA        EUR  AT00000VIE62    FLUGHAFEN WIEN   147.79   \n",
       "1          AT    AUSTRIA        EUR  AT0000652011  ERSTE GROUP BANK   102.94   \n",
       "2          AT    AUSTRIA        EUR  AT0000743059               OMV   393.88   \n",
       "3          AT    AUSTRIA        EUR  AT0000746409           VERBUND   669.42   \n",
       "4          AT    AUSTRIA        EUR  AT0000831706      WIENERBERGER  2579.95   \n",
       "\n",
       "     x2000    x2001    x2002    x2003  ...    x2013    x2014    x2015  \\\n",
       "0   169.02   126.01   166.81   248.09  ...   684.58   771.62   806.23   \n",
       "1   108.87   131.07   169.47   316.50  ...   451.57   303.59   409.64   \n",
       "2   323.77   363.83   444.88   698.11  ...  3044.74  1763.66  1970.76   \n",
       "3   490.55   365.21   421.52   588.39  ...  1382.09  1279.70   907.90   \n",
       "4  2186.26  1776.97  2322.13  3626.22  ...  2882.81  2537.95  3437.56   \n",
       "\n",
       "     x2016    x2017    x2018    x2019    x2020    x2021    x2022  \n",
       "0   853.19  1422.45  1416.63  1557.53  1369.41  1111.83  1269.03  \n",
       "1   391.16   594.97   471.37   557.68   451.74   724.56   518.33  \n",
       "2  2554.70  4696.74  3335.71  4458.82  3450.98  5033.33  4763.37  \n",
       "3  1161.74  1787.80  3197.60  3808.49  6593.93  8769.64  6614.67  \n",
       "4  3262.29  4602.01  3984.99  5887.01  6511.05  7637.80  5152.51  \n",
       "\n",
       "[5 rows x 29 columns]"
      ]
     },
     "execution_count": 8,
     "metadata": {},
     "output_type": "execute_result"
    }
   ],
   "source": [
    "dfyri.head()"
<<<<<<< HEAD
   ],
   "metadata": {
    "collapsed": false,
    "ExecuteTime": {
     "end_time": "2024-03-06T10:10:16.828655Z",
     "start_time": "2024-03-06T10:10:16.696937Z"
    }
   }
  },
  {
   "cell_type": "code",
   "execution_count": 9,
=======
   ]
  },
  {
   "cell_type": "code",
   "execution_count": 21,
   "metadata": {
    "ExecuteTime": {
     "end_time": "2024-03-05T07:42:30.348033Z",
     "start_time": "2024-03-05T07:42:30.260648Z"
    },
    "collapsed": false
   },
>>>>>>> caa640482ff8c8e3a495b1dc82d47aae396c508b
   "outputs": [
    {
     "data": {
      "text/html": [
       "<div>\n",
       "<style scoped>\n",
       "    .dataframe tbody tr th:only-of-type {\n",
       "        vertical-align: middle;\n",
       "    }\n",
       "\n",
       "    .dataframe tbody tr th {\n",
       "        vertical-align: top;\n",
       "    }\n",
       "\n",
       "    .dataframe thead th {\n",
       "        text-align: right;\n",
       "    }\n",
       "</style>\n",
       "<table border=\"1\" class=\"dataframe\">\n",
       "  <thead>\n",
       "    <tr style=\"text-align: right;\">\n",
       "      <th></th>\n",
       "      <th>ISIN_First2</th>\n",
       "      <th>Unnamed: 1</th>\n",
       "      <th>Unnamed: 2</th>\n",
       "      <th>ISIN</th>\n",
       "      <th>NAME</th>\n",
       "      <th>x1999</th>\n",
       "      <th>x2000</th>\n",
       "      <th>x2001</th>\n",
       "      <th>x2002</th>\n",
       "      <th>x2003</th>\n",
       "      <th>...</th>\n",
       "      <th>x2013</th>\n",
       "      <th>x2014</th>\n",
       "      <th>x2015</th>\n",
       "      <th>x2016</th>\n",
       "      <th>x2017</th>\n",
       "      <th>x2018</th>\n",
       "      <th>x2019</th>\n",
       "      <th>x2020</th>\n",
       "      <th>x2021</th>\n",
       "      <th>x2022</th>\n",
       "    </tr>\n",
       "  </thead>\n",
       "  <tbody>\n",
       "    <tr>\n",
       "      <th>0</th>\n",
       "      <td>AT</td>\n",
       "      <td>AUSTRIA</td>\n",
       "      <td>EUR</td>\n",
       "      <td>AT00000VIE62</td>\n",
       "      <td>FLUGHAFEN WIEN</td>\n",
       "      <td>537.09</td>\n",
       "      <td>794.55</td>\n",
       "      <td>560.96</td>\n",
       "      <td>705.15</td>\n",
       "      <td>985.36</td>\n",
       "      <td>...</td>\n",
       "      <td>1765.22</td>\n",
       "      <td>1952.09</td>\n",
       "      <td>1998.43</td>\n",
       "      <td>2073.22</td>\n",
       "      <td>3394.09</td>\n",
       "      <td>3312.76</td>\n",
       "      <td>3559.53</td>\n",
       "      <td>3129.62</td>\n",
       "      <td>2540.95</td>\n",
       "      <td>2900.21</td>\n",
       "    </tr>\n",
       "    <tr>\n",
       "      <th>1</th>\n",
       "      <td>AT</td>\n",
       "      <td>AUSTRIA</td>\n",
       "      <td>EUR</td>\n",
       "      <td>AT0000652011</td>\n",
       "      <td>ERSTE GROUP BANK</td>\n",
       "      <td>1956.67</td>\n",
       "      <td>2269.47</td>\n",
       "      <td>2677.13</td>\n",
       "      <td>4006.48</td>\n",
       "      <td>7354.92</td>\n",
       "      <td>...</td>\n",
       "      <td>15002.04</td>\n",
       "      <td>10003.77</td>\n",
       "      <td>13498.31</td>\n",
       "      <td>12613.95</td>\n",
       "      <td>18633.43</td>\n",
       "      <td>14272.63</td>\n",
       "      <td>16191.42</td>\n",
       "      <td>13115.57</td>\n",
       "      <td>20210.51</td>\n",
       "      <td>13715.54</td>\n",
       "    </tr>\n",
       "    <tr>\n",
       "      <th>2</th>\n",
       "      <td>AT</td>\n",
       "      <td>AUSTRIA</td>\n",
       "      <td>EUR</td>\n",
       "      <td>AT0000743059</td>\n",
       "      <td>OMV</td>\n",
       "      <td>2611.95</td>\n",
       "      <td>2091.29</td>\n",
       "      <td>2262.75</td>\n",
       "      <td>2651.31</td>\n",
       "      <td>4021.35</td>\n",
       "      <td>...</td>\n",
       "      <td>15689.64</td>\n",
       "      <td>8716.35</td>\n",
       "      <td>9289.96</td>\n",
       "      <td>11584.60</td>\n",
       "      <td>20761.05</td>\n",
       "      <td>14309.77</td>\n",
       "      <td>18398.00</td>\n",
       "      <td>13214.41</td>\n",
       "      <td>18590.05</td>\n",
       "      <td>16800.81</td>\n",
       "    </tr>\n",
       "    <tr>\n",
       "      <th>3</th>\n",
       "      <td>AT</td>\n",
       "      <td>AUSTRIA</td>\n",
       "      <td>EUR</td>\n",
       "      <td>AT0000746409</td>\n",
       "      <td>VERBUND</td>\n",
       "      <td>2111.95</td>\n",
       "      <td>1531.28</td>\n",
       "      <td>1129.55</td>\n",
       "      <td>1285.83</td>\n",
       "      <td>1763.91</td>\n",
       "      <td>...</td>\n",
       "      <td>3639.54</td>\n",
       "      <td>3150.65</td>\n",
       "      <td>2193.28</td>\n",
       "      <td>2724.73</td>\n",
       "      <td>4117.86</td>\n",
       "      <td>7246.80</td>\n",
       "      <td>8549.44</td>\n",
       "      <td>14549.09</td>\n",
       "      <td>19145.95</td>\n",
       "      <td>14289.58</td>\n",
       "    </tr>\n",
       "    <tr>\n",
       "      <th>4</th>\n",
       "      <td>AT</td>\n",
       "      <td>AUSTRIA</td>\n",
       "      <td>EUR</td>\n",
       "      <td>AT0000831706</td>\n",
       "      <td>WIENERBERGER</td>\n",
       "      <td>1503.25</td>\n",
       "      <td>1247.43</td>\n",
       "      <td>974.04</td>\n",
       "      <td>1161.06</td>\n",
       "      <td>1743.94</td>\n",
       "      <td>...</td>\n",
       "      <td>1866.50</td>\n",
       "      <td>1627.64</td>\n",
       "      <td>2198.92</td>\n",
       "      <td>2044.74</td>\n",
       "      <td>2846.44</td>\n",
       "      <td>2418.25</td>\n",
       "      <td>3450.66</td>\n",
       "      <td>3675.69</td>\n",
       "      <td>4236.26</td>\n",
       "      <td>2690.25</td>\n",
       "    </tr>\n",
       "  </tbody>\n",
       "</table>\n",
       "<p>5 rows × 29 columns</p>\n",
       "</div>"
      ],
      "text/plain": [
       "  ISIN_First2 Unnamed: 1 Unnamed: 2          ISIN              NAME    x1999  \\\n",
       "0          AT    AUSTRIA        EUR  AT00000VIE62    FLUGHAFEN WIEN   537.09   \n",
       "1          AT    AUSTRIA        EUR  AT0000652011  ERSTE GROUP BANK  1956.67   \n",
       "2          AT    AUSTRIA        EUR  AT0000743059               OMV  2611.95   \n",
       "3          AT    AUSTRIA        EUR  AT0000746409           VERBUND  2111.95   \n",
       "4          AT    AUSTRIA        EUR  AT0000831706      WIENERBERGER  1503.25   \n",
       "\n",
       "     x2000    x2001    x2002    x2003  ...     x2013     x2014     x2015  \\\n",
       "0   794.55   560.96   705.15   985.36  ...   1765.22   1952.09   1998.43   \n",
       "1  2269.47  2677.13  4006.48  7354.92  ...  15002.04  10003.77  13498.31   \n",
       "2  2091.29  2262.75  2651.31  4021.35  ...  15689.64   8716.35   9289.96   \n",
       "3  1531.28  1129.55  1285.83  1763.91  ...   3639.54   3150.65   2193.28   \n",
       "4  1247.43   974.04  1161.06  1743.94  ...   1866.50   1627.64   2198.92   \n",
       "\n",
       "      x2016     x2017     x2018     x2019     x2020     x2021     x2022  \n",
       "0   2073.22   3394.09   3312.76   3559.53   3129.62   2540.95   2900.21  \n",
       "1  12613.95  18633.43  14272.63  16191.42  13115.57  20210.51  13715.54  \n",
       "2  11584.60  20761.05  14309.77  18398.00  13214.41  18590.05  16800.81  \n",
       "3   2724.73   4117.86   7246.80   8549.44  14549.09  19145.95  14289.58  \n",
       "4   2044.74   2846.44   2418.25   3450.66   3675.69   4236.26   2690.25  \n",
       "\n",
       "[5 rows x 29 columns]"
      ]
     },
     "execution_count": 9,
     "metadata": {},
     "output_type": "execute_result"
    }
   ],
   "source": [
    "dfycapitalization.head()"
<<<<<<< HEAD
   ],
   "metadata": {
    "collapsed": false,
    "ExecuteTime": {
     "end_time": "2024-03-06T10:10:20.103903Z",
     "start_time": "2024-03-06T10:10:19.998788Z"
    }
   }
=======
   ]
>>>>>>> caa640482ff8c8e3a495b1dc82d47aae396c508b
  },
  {
   "cell_type": "markdown",
   "metadata": {
    "collapsed": false
   },
   "source": [
    "## TASK 1"
   ]
  },
  {
   "cell_type": "markdown",
   "metadata": {
    "collapsed": false
   },
   "source": [
    "Compute the annualized average RI and annualized volatility for all individual assets over the period 2008–2022. Plot and comment the histogram of these distributions. "
   ]
  },
  {
   "cell_type": "code",
<<<<<<< HEAD
   "execution_count": 10,
   "outputs": [],
   "source": [
    "import seaborn as sns"
   ],
   "metadata": {
    "collapsed": false,
    "ExecuteTime": {
     "end_time": "2024-03-06T10:10:26.579417Z",
     "start_time": "2024-03-06T10:10:26.515785Z"
    }
   }
  },
  {
   "cell_type": "code",
   "execution_count": 11,
   "outputs": [],
   "source": [
    "import numpy as np"
   ],
=======
   "execution_count": 22,
   "metadata": {
    "collapsed": false
   },
   "outputs": [],
   "source": [
    "import seaborn as sns"
   ]
  },
  {
   "cell_type": "code",
   "execution_count": 23,
>>>>>>> caa640482ff8c8e3a495b1dc82d47aae396c508b
   "metadata": {
    "ExecuteTime": {
<<<<<<< HEAD
     "end_time": "2024-03-06T10:10:28.766265Z",
     "start_time": "2024-03-06T10:10:28.695942Z"
    }
   }
=======
     "end_time": "2024-03-05T07:59:24.988981Z",
     "start_time": "2024-03-05T07:59:24.842392Z"
    },
    "collapsed": false
   },
   "outputs": [],
   "source": [
    "import numpy as np"
   ]
>>>>>>> caa640482ff8c8e3a495b1dc82d47aae396c508b
  },
  {
   "cell_type": "markdown",
   "metadata": {
    "collapsed": false
   },
   "source": [
    "### Annualized average RI"
   ]
  },
  {
   "cell_type": "code",
<<<<<<< HEAD
   "execution_count": 12,
   "outputs": [],
   "source": [
    "dfmcapitalization.drop(dfmcapitalization.columns[:4], axis=1, inplace=True)"
   ],
=======
   "execution_count": 24,
>>>>>>> caa640482ff8c8e3a495b1dc82d47aae396c508b
   "metadata": {
    "ExecuteTime": {
<<<<<<< HEAD
     "end_time": "2024-03-06T10:10:34.029021Z",
     "start_time": "2024-03-06T10:10:33.950311Z"
    }
   }
  },
  {
   "cell_type": "code",
   "execution_count": 21,
   "outputs": [
    {
     "data": {
      "text/plain": "                          2008-01-31 00:00:00  2008-02-29 00:00:00  \\\nNAME                                                                 \nFLUGHAFEN WIEN                        2329.71              2405.60   \nERSTE GROUP BANK                     16951.92             18485.57   \nOMV                                  21320.11             21814.48   \nVERBUND                               9860.39             11244.90   \nWIENERBERGER                          3809.48              4090.74   \n...                                       ...                  ...   \nNIBE INDUSTRIER                        798.22               782.09   \nELECTROLUX B                          4632.15              4852.91   \nATLAS COPCO A                        11805.31             13196.58   \nMODERN TIMES GROUP MTG B              3089.90              3406.39   \nBOLIDEN ORD SHS                       2589.58              3330.94   \n\n                          2008-03-31 00:00:00  2008-04-30 00:00:00  \\\nNAME                                                                 \nFLUGHAFEN WIEN                        2539.90              2654.84   \nERSTE GROUP BANK                     20573.03             23489.06   \nOMV                                  19898.56             22629.68   \nVERBUND                              10789.72             11694.93   \nWIENERBERGER                          4481.37              4838.47   \n...                                       ...                  ...   \nNIBE INDUSTRIER                        752.45               671.00   \nELECTROLUX B                          4923.03              4595.81   \nATLAS COPCO A                        14367.51             13514.18   \nMODERN TIMES GROUP MTG B              3621.19              3807.59   \nBOLIDEN ORD SHS                       3087.41              3151.09   \n\n                          2008-05-31 00:00:00  2008-06-30 00:00:00  \\\nNAME                                                                 \nFLUGHAFEN WIEN                        2412.28              2004.98   \nERSTE GROUP BANK                     24118.28             19703.31   \nOMV                                  24671.05             23566.34   \nVERBUND                              12743.09             13542.92   \nWIENERBERGER                          4447.15              3527.37   \n...                                       ...                  ...   \nNIBE INDUSTRIER                        646.89               590.73   \nELECTROLUX B                          4313.06              3832.72   \nATLAS COPCO A                        14852.04             12384.34   \nMODERN TIMES GROUP MTG B              3614.83              3075.73   \nBOLIDEN ORD SHS                       3085.86              2232.52   \n\n                          2008-07-31 00:00:00  2008-08-31 00:00:00  \\\nNAME                                                                 \nFLUGHAFEN WIEN                        1788.33              1712.25   \nERSTE GROUP BANK                     20356.52             19083.13   \nOMV                                  20782.60             19328.25   \nVERBUND                              12045.23             11463.98   \nWIENERBERGER                          2265.95              2224.72   \n...                                       ...                  ...   \nNIBE INDUSTRIER                        603.19               555.81   \nELECTROLUX B                          3636.54              3869.59   \nATLAS COPCO A                        13107.51             11828.33   \nMODERN TIMES GROUP MTG B              2863.72              2702.42   \nBOLIDEN ORD SHS                       1622.53              1733.32   \n\n                          2008-09-30 00:00:00  2008-10-31 00:00:00  ...  \\\nNAME                                                                ...   \nFLUGHAFEN WIEN                        1311.39               851.86  ...   \nERSTE GROUP BANK                     15304.40              8318.12  ...   \nOMV                                  12358.80              9506.49  ...   \nVERBUND                               9152.77              7085.38  ...   \nWIENERBERGER                          2237.94              1373.19  ...   \n...                                       ...                  ...  ...   \nNIBE INDUSTRIER                        553.63               431.02  ...   \nELECTROLUX B                          3424.56              2679.39  ...   \nATLAS COPCO A                         9329.62              6838.38  ...   \nMODERN TIMES GROUP MTG B              1788.56              1075.36  ...   \nBOLIDEN ORD SHS                       1114.01               649.17  ...   \n\n                          2022-03-31 00:00:00  2022-04-30 00:00:00  \\\nNAME                                                                 \nFLUGHAFEN WIEN                        2453.36              2388.16   \nERSTE GROUP BANK                     15823.98             13448.16   \nOMV                                  15799.81             16951.82   \nVERBUND                              18088.45             18353.60   \nWIENERBERGER                          3511.64              3280.93   \n...                                       ...                  ...   \nNIBE INDUSTRIER                      20097.57             17739.52   \nELECTROLUX B                          4617.69              4245.08   \nATLAS COPCO A                        44287.14             38732.62   \nMODERN TIMES GROUP MTG B              1627.46              1177.55   \nBOLIDEN ORD SHS                      14031.53             12042.65   \n\n                          2022-05-31 00:00:00  2022-06-30 00:00:00  \\\nNAME                                                                 \nFLUGHAFEN WIEN                        2366.48              2875.89   \nERSTE GROUP BANK                     13356.15             10873.35   \nOMV                                  19071.10             15313.75   \nVERBUND                              16894.99             16612.75   \nWIENERBERGER                          3173.55              2466.15   \n...                                       ...                  ...   \nNIBE INDUSTRIER                      15508.29             13362.37   \nELECTROLUX B                          4258.84              3692.71   \nATLAS COPCO A                        37523.50             31313.66   \nMODERN TIMES GROUP MTG B              1294.68               883.00   \nBOLIDEN ORD SHS                      11453.52              8683.85   \n\n                          2022-07-31 00:00:00  2022-08-31 00:00:00  \\\nNAME                                                                 \nFLUGHAFEN WIEN                        2809.31              2778.87   \nERSTE GROUP BANK                     10824.56              9715.28   \nOMV                                  13821.87             13255.37   \nVERBUND                              18659.53             16321.45   \nWIENERBERGER                          2635.59              2703.34   \n...                                       ...                  ...   \nNIBE INDUSTRIER                      17802.84             16809.54   \nELECTROLUX B                          3933.26              3496.16   \nATLAS COPCO A                        38867.54             34336.09   \nMODERN TIMES GROUP MTG B              1307.19              1119.39   \nBOLIDEN ORD SHS                       9039.53              8836.91   \n\n                          2022-09-30 00:00:00  2022-10-31 00:00:00  \\\nNAME                                                                 \nFLUGHAFEN WIEN                        2719.75              2739.62   \nERSTE GROUP BANK                      9532.79             10602.50   \nOMV                                  11981.47             15085.69   \nVERBUND                              14584.20             13333.42   \nWIENERBERGER                          2324.62              2634.32   \n...                                       ...                  ...   \nNIBE INDUSTRIER                      16082.16             14214.49   \nELECTROLUX B                          2878.77              3389.53   \nATLAS COPCO A                        31707.46             35865.30   \nMODERN TIMES GROUP MTG B               846.93               951.81   \nBOLIDEN ORD SHS                       8541.12              7959.95   \n\n                          2022-11-30 00:00:00  2022-12-31 00:00:00  \nNAME                                                                \nFLUGHAFEN WIEN                        2854.20              2900.21  \nERSTE GROUP BANK                     13099.32             13715.54  \nOMV                                  16902.76             16800.81  \nVERBUND                              15082.96             14289.58  \nWIENERBERGER                          2896.84              2690.25  \n...                                       ...                  ...  \nNIBE INDUSTRIER                      16381.75             16615.26  \nELECTROLUX B                          3828.45              3714.02  \nATLAS COPCO A                        40666.87             39667.59  \nMODERN TIMES GROUP MTG B               978.44              1087.43  \nBOLIDEN ORD SHS                       9949.04             10270.25  \n\n[508 rows x 180 columns]",
      "text/html": "<div>\n<style scoped>\n    .dataframe tbody tr th:only-of-type {\n        vertical-align: middle;\n    }\n\n    .dataframe tbody tr th {\n        vertical-align: top;\n    }\n\n    .dataframe thead th {\n        text-align: right;\n    }\n</style>\n<table border=\"1\" class=\"dataframe\">\n  <thead>\n    <tr style=\"text-align: right;\">\n      <th></th>\n      <th>2008-01-31 00:00:00</th>\n      <th>2008-02-29 00:00:00</th>\n      <th>2008-03-31 00:00:00</th>\n      <th>2008-04-30 00:00:00</th>\n      <th>2008-05-31 00:00:00</th>\n      <th>2008-06-30 00:00:00</th>\n      <th>2008-07-31 00:00:00</th>\n      <th>2008-08-31 00:00:00</th>\n      <th>2008-09-30 00:00:00</th>\n      <th>2008-10-31 00:00:00</th>\n      <th>...</th>\n      <th>2022-03-31 00:00:00</th>\n      <th>2022-04-30 00:00:00</th>\n      <th>2022-05-31 00:00:00</th>\n      <th>2022-06-30 00:00:00</th>\n      <th>2022-07-31 00:00:00</th>\n      <th>2022-08-31 00:00:00</th>\n      <th>2022-09-30 00:00:00</th>\n      <th>2022-10-31 00:00:00</th>\n      <th>2022-11-30 00:00:00</th>\n      <th>2022-12-31 00:00:00</th>\n    </tr>\n    <tr>\n      <th>NAME</th>\n      <th></th>\n      <th></th>\n      <th></th>\n      <th></th>\n      <th></th>\n      <th></th>\n      <th></th>\n      <th></th>\n      <th></th>\n      <th></th>\n      <th></th>\n      <th></th>\n      <th></th>\n      <th></th>\n      <th></th>\n      <th></th>\n      <th></th>\n      <th></th>\n      <th></th>\n      <th></th>\n      <th></th>\n    </tr>\n  </thead>\n  <tbody>\n    <tr>\n      <th>FLUGHAFEN WIEN</th>\n      <td>2329.71</td>\n      <td>2405.60</td>\n      <td>2539.90</td>\n      <td>2654.84</td>\n      <td>2412.28</td>\n      <td>2004.98</td>\n      <td>1788.33</td>\n      <td>1712.25</td>\n      <td>1311.39</td>\n      <td>851.86</td>\n      <td>...</td>\n      <td>2453.36</td>\n      <td>2388.16</td>\n      <td>2366.48</td>\n      <td>2875.89</td>\n      <td>2809.31</td>\n      <td>2778.87</td>\n      <td>2719.75</td>\n      <td>2739.62</td>\n      <td>2854.20</td>\n      <td>2900.21</td>\n    </tr>\n    <tr>\n      <th>ERSTE GROUP BANK</th>\n      <td>16951.92</td>\n      <td>18485.57</td>\n      <td>20573.03</td>\n      <td>23489.06</td>\n      <td>24118.28</td>\n      <td>19703.31</td>\n      <td>20356.52</td>\n      <td>19083.13</td>\n      <td>15304.40</td>\n      <td>8318.12</td>\n      <td>...</td>\n      <td>15823.98</td>\n      <td>13448.16</td>\n      <td>13356.15</td>\n      <td>10873.35</td>\n      <td>10824.56</td>\n      <td>9715.28</td>\n      <td>9532.79</td>\n      <td>10602.50</td>\n      <td>13099.32</td>\n      <td>13715.54</td>\n    </tr>\n    <tr>\n      <th>OMV</th>\n      <td>21320.11</td>\n      <td>21814.48</td>\n      <td>19898.56</td>\n      <td>22629.68</td>\n      <td>24671.05</td>\n      <td>23566.34</td>\n      <td>20782.60</td>\n      <td>19328.25</td>\n      <td>12358.80</td>\n      <td>9506.49</td>\n      <td>...</td>\n      <td>15799.81</td>\n      <td>16951.82</td>\n      <td>19071.10</td>\n      <td>15313.75</td>\n      <td>13821.87</td>\n      <td>13255.37</td>\n      <td>11981.47</td>\n      <td>15085.69</td>\n      <td>16902.76</td>\n      <td>16800.81</td>\n    </tr>\n    <tr>\n      <th>VERBUND</th>\n      <td>9860.39</td>\n      <td>11244.90</td>\n      <td>10789.72</td>\n      <td>11694.93</td>\n      <td>12743.09</td>\n      <td>13542.92</td>\n      <td>12045.23</td>\n      <td>11463.98</td>\n      <td>9152.77</td>\n      <td>7085.38</td>\n      <td>...</td>\n      <td>18088.45</td>\n      <td>18353.60</td>\n      <td>16894.99</td>\n      <td>16612.75</td>\n      <td>18659.53</td>\n      <td>16321.45</td>\n      <td>14584.20</td>\n      <td>13333.42</td>\n      <td>15082.96</td>\n      <td>14289.58</td>\n    </tr>\n    <tr>\n      <th>WIENERBERGER</th>\n      <td>3809.48</td>\n      <td>4090.74</td>\n      <td>4481.37</td>\n      <td>4838.47</td>\n      <td>4447.15</td>\n      <td>3527.37</td>\n      <td>2265.95</td>\n      <td>2224.72</td>\n      <td>2237.94</td>\n      <td>1373.19</td>\n      <td>...</td>\n      <td>3511.64</td>\n      <td>3280.93</td>\n      <td>3173.55</td>\n      <td>2466.15</td>\n      <td>2635.59</td>\n      <td>2703.34</td>\n      <td>2324.62</td>\n      <td>2634.32</td>\n      <td>2896.84</td>\n      <td>2690.25</td>\n    </tr>\n    <tr>\n      <th>...</th>\n      <td>...</td>\n      <td>...</td>\n      <td>...</td>\n      <td>...</td>\n      <td>...</td>\n      <td>...</td>\n      <td>...</td>\n      <td>...</td>\n      <td>...</td>\n      <td>...</td>\n      <td>...</td>\n      <td>...</td>\n      <td>...</td>\n      <td>...</td>\n      <td>...</td>\n      <td>...</td>\n      <td>...</td>\n      <td>...</td>\n      <td>...</td>\n      <td>...</td>\n      <td>...</td>\n    </tr>\n    <tr>\n      <th>NIBE INDUSTRIER</th>\n      <td>798.22</td>\n      <td>782.09</td>\n      <td>752.45</td>\n      <td>671.00</td>\n      <td>646.89</td>\n      <td>590.73</td>\n      <td>603.19</td>\n      <td>555.81</td>\n      <td>553.63</td>\n      <td>431.02</td>\n      <td>...</td>\n      <td>20097.57</td>\n      <td>17739.52</td>\n      <td>15508.29</td>\n      <td>13362.37</td>\n      <td>17802.84</td>\n      <td>16809.54</td>\n      <td>16082.16</td>\n      <td>14214.49</td>\n      <td>16381.75</td>\n      <td>16615.26</td>\n    </tr>\n    <tr>\n      <th>ELECTROLUX B</th>\n      <td>4632.15</td>\n      <td>4852.91</td>\n      <td>4923.03</td>\n      <td>4595.81</td>\n      <td>4313.06</td>\n      <td>3832.72</td>\n      <td>3636.54</td>\n      <td>3869.59</td>\n      <td>3424.56</td>\n      <td>2679.39</td>\n      <td>...</td>\n      <td>4617.69</td>\n      <td>4245.08</td>\n      <td>4258.84</td>\n      <td>3692.71</td>\n      <td>3933.26</td>\n      <td>3496.16</td>\n      <td>2878.77</td>\n      <td>3389.53</td>\n      <td>3828.45</td>\n      <td>3714.02</td>\n    </tr>\n    <tr>\n      <th>ATLAS COPCO A</th>\n      <td>11805.31</td>\n      <td>13196.58</td>\n      <td>14367.51</td>\n      <td>13514.18</td>\n      <td>14852.04</td>\n      <td>12384.34</td>\n      <td>13107.51</td>\n      <td>11828.33</td>\n      <td>9329.62</td>\n      <td>6838.38</td>\n      <td>...</td>\n      <td>44287.14</td>\n      <td>38732.62</td>\n      <td>37523.50</td>\n      <td>31313.66</td>\n      <td>38867.54</td>\n      <td>34336.09</td>\n      <td>31707.46</td>\n      <td>35865.30</td>\n      <td>40666.87</td>\n      <td>39667.59</td>\n    </tr>\n    <tr>\n      <th>MODERN TIMES GROUP MTG B</th>\n      <td>3089.90</td>\n      <td>3406.39</td>\n      <td>3621.19</td>\n      <td>3807.59</td>\n      <td>3614.83</td>\n      <td>3075.73</td>\n      <td>2863.72</td>\n      <td>2702.42</td>\n      <td>1788.56</td>\n      <td>1075.36</td>\n      <td>...</td>\n      <td>1627.46</td>\n      <td>1177.55</td>\n      <td>1294.68</td>\n      <td>883.00</td>\n      <td>1307.19</td>\n      <td>1119.39</td>\n      <td>846.93</td>\n      <td>951.81</td>\n      <td>978.44</td>\n      <td>1087.43</td>\n    </tr>\n    <tr>\n      <th>BOLIDEN ORD SHS</th>\n      <td>2589.58</td>\n      <td>3330.94</td>\n      <td>3087.41</td>\n      <td>3151.09</td>\n      <td>3085.86</td>\n      <td>2232.52</td>\n      <td>1622.53</td>\n      <td>1733.32</td>\n      <td>1114.01</td>\n      <td>649.17</td>\n      <td>...</td>\n      <td>14031.53</td>\n      <td>12042.65</td>\n      <td>11453.52</td>\n      <td>8683.85</td>\n      <td>9039.53</td>\n      <td>8836.91</td>\n      <td>8541.12</td>\n      <td>7959.95</td>\n      <td>9949.04</td>\n      <td>10270.25</td>\n    </tr>\n  </tbody>\n</table>\n<p>508 rows × 180 columns</p>\n</div>"
     },
     "execution_count": 21,
     "metadata": {},
     "output_type": "execute_result"
=======
     "end_time": "2024-03-05T08:57:19.541179Z",
     "start_time": "2024-03-05T08:57:19.124115Z"
    },
    "collapsed": false
   },
   "outputs": [],
   "source": [
    "dfmcapitalization.drop(dfmcapitalization.columns[:4], axis=1, inplace=True)"
   ]
  },
  {
   "cell_type": "code",
   "execution_count": 29,
   "metadata": {
    "ExecuteTime": {
     "end_time": "2024-03-05T08:59:28.877754Z",
     "start_time": "2024-03-05T08:59:28.804108Z"
    },
    "collapsed": false
   },
   "outputs": [
    {
     "ename": "TypeError",
     "evalue": "'RangeIndex' object is not callable",
     "output_type": "error",
     "traceback": [
      "\u001b[1;31m---------------------------------------------------------------------------\u001b[0m",
      "\u001b[1;31mTypeError\u001b[0m                                 Traceback (most recent call last)",
      "Input \u001b[1;32mIn [29]\u001b[0m, in \u001b[0;36m<cell line: 3>\u001b[1;34m()\u001b[0m\n\u001b[0;32m      1\u001b[0m \u001b[38;5;66;03m#dfmcapitalization.set_index('NAME', inplace = True)\u001b[39;00m\n\u001b[0;32m      2\u001b[0m dfmcapitalizationpost \u001b[38;5;241m=\u001b[39m dfmcapitalization\u001b[38;5;241m.\u001b[39mloc[:, (dfmcapitalization\u001b[38;5;241m.\u001b[39mcolumns \u001b[38;5;241m>\u001b[39m\u001b[38;5;241m=\u001b[39m \u001b[38;5;124m'\u001b[39m\u001b[38;5;124m2008-01-01\u001b[39m\u001b[38;5;124m'\u001b[39m)]\n\u001b[1;32m----> 3\u001b[0m \u001b[43mdfmcapitalizationpost\u001b[49m\u001b[38;5;241;43m.\u001b[39;49m\u001b[43mindex\u001b[49m\u001b[43m(\u001b[49m\u001b[38;5;124;43m'\u001b[39;49m\u001b[38;5;124;43mNAME\u001b[39;49m\u001b[38;5;124;43m'\u001b[39;49m\u001b[43m,\u001b[49m\u001b[43m \u001b[49m\u001b[43minplace\u001b[49m\u001b[43m \u001b[49m\u001b[38;5;241;43m=\u001b[39;49m\u001b[43m \u001b[49m\u001b[38;5;28;43;01mTrue\u001b[39;49;00m\u001b[43m)\u001b[49m\n",
      "\u001b[1;31mTypeError\u001b[0m: 'RangeIndex' object is not callable"
     ]
>>>>>>> caa640482ff8c8e3a495b1dc82d47aae396c508b
    }
   ],
   "source": [
    "dfmcapitalization.set_index('NAME', inplace = True)\n",
    "dfmcapitalizationpost = dfmcapitalization.loc[:, (dfmcapitalization.columns >= '2008-01-01')]\n",
<<<<<<< HEAD
    "dfmcapitalizationpost"
   ],
   "metadata": {
    "collapsed": false,
    "ExecuteTime": {
     "end_time": "2024-03-06T10:22:55.845918Z",
     "start_time": "2024-03-06T10:22:55.663727Z"
    }
   }
  },
  {
   "cell_type": "code",
   "execution_count": 22,
=======
    "dfmcapitalizationpost.reset_index('NAME', inplace = True)"
   ]
  },
  {
   "cell_type": "code",
   "execution_count": 30,
   "metadata": {},
>>>>>>> caa640482ff8c8e3a495b1dc82d47aae396c508b
   "outputs": [
    {
     "data": {
      "text/html": [
       "<div>\n",
       "<style scoped>\n",
       "    .dataframe tbody tr th:only-of-type {\n",
       "        vertical-align: middle;\n",
       "    }\n",
       "\n",
       "    .dataframe tbody tr th {\n",
       "        vertical-align: top;\n",
       "    }\n",
       "\n",
       "    .dataframe thead th {\n",
       "        text-align: right;\n",
       "    }\n",
       "</style>\n",
       "<table border=\"1\" class=\"dataframe\">\n",
       "  <thead>\n",
       "    <tr style=\"text-align: right;\">\n",
       "      <th></th>\n",
       "      <th>NAME</th>\n",
       "      <th>2008-01-31 00:00:00</th>\n",
       "      <th>2008-02-29 00:00:00</th>\n",
       "      <th>2008-03-31 00:00:00</th>\n",
       "      <th>2008-04-30 00:00:00</th>\n",
       "      <th>2008-05-31 00:00:00</th>\n",
       "      <th>2008-06-30 00:00:00</th>\n",
       "      <th>2008-07-31 00:00:00</th>\n",
       "      <th>2008-08-31 00:00:00</th>\n",
       "      <th>2008-09-30 00:00:00</th>\n",
       "      <th>...</th>\n",
       "      <th>2022-03-31 00:00:00</th>\n",
       "      <th>2022-04-30 00:00:00</th>\n",
       "      <th>2022-05-31 00:00:00</th>\n",
       "      <th>2022-06-30 00:00:00</th>\n",
       "      <th>2022-07-31 00:00:00</th>\n",
       "      <th>2022-08-31 00:00:00</th>\n",
       "      <th>2022-09-30 00:00:00</th>\n",
       "      <th>2022-10-31 00:00:00</th>\n",
       "      <th>2022-11-30 00:00:00</th>\n",
       "      <th>2022-12-31 00:00:00</th>\n",
       "    </tr>\n",
       "  </thead>\n",
       "  <tbody>\n",
       "    <tr>\n",
       "      <th>0</th>\n",
       "      <td>FLUGHAFEN WIEN</td>\n",
       "      <td>2329.71</td>\n",
       "      <td>2405.60</td>\n",
       "      <td>2539.90</td>\n",
       "      <td>2654.84</td>\n",
       "      <td>2412.28</td>\n",
       "      <td>2004.98</td>\n",
       "      <td>1788.33</td>\n",
       "      <td>1712.25</td>\n",
       "      <td>1311.39</td>\n",
       "      <td>...</td>\n",
       "      <td>2453.36</td>\n",
       "      <td>2388.16</td>\n",
       "      <td>2366.48</td>\n",
       "      <td>2875.89</td>\n",
       "      <td>2809.31</td>\n",
       "      <td>2778.87</td>\n",
       "      <td>2719.75</td>\n",
       "      <td>2739.62</td>\n",
       "      <td>2854.20</td>\n",
       "      <td>2900.21</td>\n",
       "    </tr>\n",
       "    <tr>\n",
       "      <th>1</th>\n",
       "      <td>ERSTE GROUP BANK</td>\n",
       "      <td>16951.92</td>\n",
       "      <td>18485.57</td>\n",
       "      <td>20573.03</td>\n",
       "      <td>23489.06</td>\n",
       "      <td>24118.28</td>\n",
       "      <td>19703.31</td>\n",
       "      <td>20356.52</td>\n",
       "      <td>19083.13</td>\n",
       "      <td>15304.40</td>\n",
       "      <td>...</td>\n",
       "      <td>15823.98</td>\n",
       "      <td>13448.16</td>\n",
       "      <td>13356.15</td>\n",
       "      <td>10873.35</td>\n",
       "      <td>10824.56</td>\n",
       "      <td>9715.28</td>\n",
       "      <td>9532.79</td>\n",
       "      <td>10602.50</td>\n",
       "      <td>13099.32</td>\n",
       "      <td>13715.54</td>\n",
       "    </tr>\n",
       "    <tr>\n",
       "      <th>2</th>\n",
       "      <td>OMV</td>\n",
       "      <td>21320.11</td>\n",
       "      <td>21814.48</td>\n",
       "      <td>19898.56</td>\n",
       "      <td>22629.68</td>\n",
       "      <td>24671.05</td>\n",
       "      <td>23566.34</td>\n",
       "      <td>20782.60</td>\n",
       "      <td>19328.25</td>\n",
       "      <td>12358.80</td>\n",
       "      <td>...</td>\n",
       "      <td>15799.81</td>\n",
       "      <td>16951.82</td>\n",
       "      <td>19071.10</td>\n",
       "      <td>15313.75</td>\n",
       "      <td>13821.87</td>\n",
       "      <td>13255.37</td>\n",
       "      <td>11981.47</td>\n",
       "      <td>15085.69</td>\n",
       "      <td>16902.76</td>\n",
       "      <td>16800.81</td>\n",
       "    </tr>\n",
       "    <tr>\n",
       "      <th>3</th>\n",
       "      <td>VERBUND</td>\n",
       "      <td>9860.39</td>\n",
       "      <td>11244.90</td>\n",
       "      <td>10789.72</td>\n",
       "      <td>11694.93</td>\n",
       "      <td>12743.09</td>\n",
       "      <td>13542.92</td>\n",
       "      <td>12045.23</td>\n",
       "      <td>11463.98</td>\n",
       "      <td>9152.77</td>\n",
       "      <td>...</td>\n",
       "      <td>18088.45</td>\n",
       "      <td>18353.60</td>\n",
       "      <td>16894.99</td>\n",
       "      <td>16612.75</td>\n",
       "      <td>18659.53</td>\n",
       "      <td>16321.45</td>\n",
       "      <td>14584.20</td>\n",
       "      <td>13333.42</td>\n",
       "      <td>15082.96</td>\n",
       "      <td>14289.58</td>\n",
       "    </tr>\n",
       "    <tr>\n",
       "      <th>4</th>\n",
       "      <td>WIENERBERGER</td>\n",
       "      <td>3809.48</td>\n",
       "      <td>4090.74</td>\n",
       "      <td>4481.37</td>\n",
       "      <td>4838.47</td>\n",
       "      <td>4447.15</td>\n",
       "      <td>3527.37</td>\n",
       "      <td>2265.95</td>\n",
       "      <td>2224.72</td>\n",
       "      <td>2237.94</td>\n",
       "      <td>...</td>\n",
       "      <td>3511.64</td>\n",
       "      <td>3280.93</td>\n",
       "      <td>3173.55</td>\n",
       "      <td>2466.15</td>\n",
       "      <td>2635.59</td>\n",
       "      <td>2703.34</td>\n",
       "      <td>2324.62</td>\n",
       "      <td>2634.32</td>\n",
       "      <td>2896.84</td>\n",
       "      <td>2690.25</td>\n",
       "    </tr>\n",
       "    <tr>\n",
       "      <th>...</th>\n",
       "      <td>...</td>\n",
       "      <td>...</td>\n",
       "      <td>...</td>\n",
       "      <td>...</td>\n",
       "      <td>...</td>\n",
       "      <td>...</td>\n",
       "      <td>...</td>\n",
       "      <td>...</td>\n",
       "      <td>...</td>\n",
       "      <td>...</td>\n",
       "      <td>...</td>\n",
       "      <td>...</td>\n",
       "      <td>...</td>\n",
       "      <td>...</td>\n",
       "      <td>...</td>\n",
       "      <td>...</td>\n",
       "      <td>...</td>\n",
       "      <td>...</td>\n",
       "      <td>...</td>\n",
       "      <td>...</td>\n",
       "      <td>...</td>\n",
       "    </tr>\n",
       "    <tr>\n",
       "      <th>503</th>\n",
       "      <td>NIBE INDUSTRIER</td>\n",
       "      <td>798.22</td>\n",
       "      <td>782.09</td>\n",
       "      <td>752.45</td>\n",
       "      <td>671.00</td>\n",
       "      <td>646.89</td>\n",
       "      <td>590.73</td>\n",
       "      <td>603.19</td>\n",
       "      <td>555.81</td>\n",
       "      <td>553.63</td>\n",
       "      <td>...</td>\n",
       "      <td>20097.57</td>\n",
       "      <td>17739.52</td>\n",
       "      <td>15508.29</td>\n",
       "      <td>13362.37</td>\n",
       "      <td>17802.84</td>\n",
       "      <td>16809.54</td>\n",
       "      <td>16082.16</td>\n",
       "      <td>14214.49</td>\n",
       "      <td>16381.75</td>\n",
       "      <td>16615.26</td>\n",
       "    </tr>\n",
       "    <tr>\n",
       "      <th>504</th>\n",
       "      <td>ELECTROLUX B</td>\n",
       "      <td>4632.15</td>\n",
       "      <td>4852.91</td>\n",
       "      <td>4923.03</td>\n",
       "      <td>4595.81</td>\n",
       "      <td>4313.06</td>\n",
       "      <td>3832.72</td>\n",
       "      <td>3636.54</td>\n",
       "      <td>3869.59</td>\n",
       "      <td>3424.56</td>\n",
       "      <td>...</td>\n",
       "      <td>4617.69</td>\n",
       "      <td>4245.08</td>\n",
       "      <td>4258.84</td>\n",
       "      <td>3692.71</td>\n",
       "      <td>3933.26</td>\n",
       "      <td>3496.16</td>\n",
       "      <td>2878.77</td>\n",
       "      <td>3389.53</td>\n",
       "      <td>3828.45</td>\n",
       "      <td>3714.02</td>\n",
       "    </tr>\n",
       "    <tr>\n",
       "      <th>505</th>\n",
       "      <td>ATLAS COPCO A</td>\n",
       "      <td>11805.31</td>\n",
       "      <td>13196.58</td>\n",
       "      <td>14367.51</td>\n",
       "      <td>13514.18</td>\n",
       "      <td>14852.04</td>\n",
       "      <td>12384.34</td>\n",
       "      <td>13107.51</td>\n",
       "      <td>11828.33</td>\n",
       "      <td>9329.62</td>\n",
       "      <td>...</td>\n",
       "      <td>44287.14</td>\n",
       "      <td>38732.62</td>\n",
       "      <td>37523.50</td>\n",
       "      <td>31313.66</td>\n",
       "      <td>38867.54</td>\n",
       "      <td>34336.09</td>\n",
       "      <td>31707.46</td>\n",
       "      <td>35865.30</td>\n",
       "      <td>40666.87</td>\n",
       "      <td>39667.59</td>\n",
       "    </tr>\n",
       "    <tr>\n",
       "      <th>506</th>\n",
       "      <td>MODERN TIMES GROUP MTG B</td>\n",
       "      <td>3089.90</td>\n",
       "      <td>3406.39</td>\n",
       "      <td>3621.19</td>\n",
       "      <td>3807.59</td>\n",
       "      <td>3614.83</td>\n",
       "      <td>3075.73</td>\n",
       "      <td>2863.72</td>\n",
       "      <td>2702.42</td>\n",
       "      <td>1788.56</td>\n",
       "      <td>...</td>\n",
       "      <td>1627.46</td>\n",
       "      <td>1177.55</td>\n",
       "      <td>1294.68</td>\n",
       "      <td>883.00</td>\n",
       "      <td>1307.19</td>\n",
       "      <td>1119.39</td>\n",
       "      <td>846.93</td>\n",
       "      <td>951.81</td>\n",
       "      <td>978.44</td>\n",
       "      <td>1087.43</td>\n",
       "    </tr>\n",
       "    <tr>\n",
       "      <th>507</th>\n",
       "      <td>BOLIDEN ORD SHS</td>\n",
       "      <td>2589.58</td>\n",
       "      <td>3330.94</td>\n",
       "      <td>3087.41</td>\n",
       "      <td>3151.09</td>\n",
       "      <td>3085.86</td>\n",
       "      <td>2232.52</td>\n",
       "      <td>1622.53</td>\n",
       "      <td>1733.32</td>\n",
       "      <td>1114.01</td>\n",
       "      <td>...</td>\n",
       "      <td>14031.53</td>\n",
       "      <td>12042.65</td>\n",
       "      <td>11453.52</td>\n",
       "      <td>8683.85</td>\n",
       "      <td>9039.53</td>\n",
       "      <td>8836.91</td>\n",
       "      <td>8541.12</td>\n",
       "      <td>7959.95</td>\n",
       "      <td>9949.04</td>\n",
       "      <td>10270.25</td>\n",
       "    </tr>\n",
       "  </tbody>\n",
       "</table>\n",
       "<p>508 rows × 181 columns</p>\n",
       "</div>"
      ],
      "text/plain": [
       "                         NAME  2008-01-31 00:00:00  2008-02-29 00:00:00  \\\n",
       "0              FLUGHAFEN WIEN              2329.71              2405.60   \n",
       "1            ERSTE GROUP BANK             16951.92             18485.57   \n",
       "2                         OMV             21320.11             21814.48   \n",
       "3                     VERBUND              9860.39             11244.90   \n",
       "4                WIENERBERGER              3809.48              4090.74   \n",
       "..                        ...                  ...                  ...   \n",
       "503           NIBE INDUSTRIER               798.22               782.09   \n",
       "504              ELECTROLUX B              4632.15              4852.91   \n",
       "505             ATLAS COPCO A             11805.31             13196.58   \n",
       "506  MODERN TIMES GROUP MTG B              3089.90              3406.39   \n",
       "507           BOLIDEN ORD SHS              2589.58              3330.94   \n",
       "\n",
       "     2008-03-31 00:00:00  2008-04-30 00:00:00  2008-05-31 00:00:00  \\\n",
       "0                2539.90              2654.84              2412.28   \n",
       "1               20573.03             23489.06             24118.28   \n",
       "2               19898.56             22629.68             24671.05   \n",
       "3               10789.72             11694.93             12743.09   \n",
       "4                4481.37              4838.47              4447.15   \n",
       "..                   ...                  ...                  ...   \n",
       "503               752.45               671.00               646.89   \n",
       "504              4923.03              4595.81              4313.06   \n",
       "505             14367.51             13514.18             14852.04   \n",
       "506              3621.19              3807.59              3614.83   \n",
       "507              3087.41              3151.09              3085.86   \n",
       "\n",
       "     2008-06-30 00:00:00  2008-07-31 00:00:00  2008-08-31 00:00:00  \\\n",
       "0                2004.98              1788.33              1712.25   \n",
       "1               19703.31             20356.52             19083.13   \n",
       "2               23566.34             20782.60             19328.25   \n",
       "3               13542.92             12045.23             11463.98   \n",
       "4                3527.37              2265.95              2224.72   \n",
       "..                   ...                  ...                  ...   \n",
       "503               590.73               603.19               555.81   \n",
       "504              3832.72              3636.54              3869.59   \n",
       "505             12384.34             13107.51             11828.33   \n",
       "506              3075.73              2863.72              2702.42   \n",
       "507              2232.52              1622.53              1733.32   \n",
       "\n",
       "     2008-09-30 00:00:00  ...  2022-03-31 00:00:00  2022-04-30 00:00:00  \\\n",
       "0                1311.39  ...              2453.36              2388.16   \n",
       "1               15304.40  ...             15823.98             13448.16   \n",
       "2               12358.80  ...             15799.81             16951.82   \n",
       "3                9152.77  ...             18088.45             18353.60   \n",
       "4                2237.94  ...              3511.64              3280.93   \n",
       "..                   ...  ...                  ...                  ...   \n",
       "503               553.63  ...             20097.57             17739.52   \n",
       "504              3424.56  ...              4617.69              4245.08   \n",
       "505              9329.62  ...             44287.14             38732.62   \n",
       "506              1788.56  ...              1627.46              1177.55   \n",
       "507              1114.01  ...             14031.53             12042.65   \n",
       "\n",
       "     2022-05-31 00:00:00  2022-06-30 00:00:00  2022-07-31 00:00:00  \\\n",
       "0                2366.48              2875.89              2809.31   \n",
       "1               13356.15             10873.35             10824.56   \n",
       "2               19071.10             15313.75             13821.87   \n",
       "3               16894.99             16612.75             18659.53   \n",
       "4                3173.55              2466.15              2635.59   \n",
       "..                   ...                  ...                  ...   \n",
       "503             15508.29             13362.37             17802.84   \n",
       "504              4258.84              3692.71              3933.26   \n",
       "505             37523.50             31313.66             38867.54   \n",
       "506              1294.68               883.00              1307.19   \n",
       "507             11453.52              8683.85              9039.53   \n",
       "\n",
       "     2022-08-31 00:00:00  2022-09-30 00:00:00  2022-10-31 00:00:00  \\\n",
       "0                2778.87              2719.75              2739.62   \n",
       "1                9715.28              9532.79             10602.50   \n",
       "2               13255.37             11981.47             15085.69   \n",
       "3               16321.45             14584.20             13333.42   \n",
       "4                2703.34              2324.62              2634.32   \n",
       "..                   ...                  ...                  ...   \n",
       "503             16809.54             16082.16             14214.49   \n",
       "504              3496.16              2878.77              3389.53   \n",
       "505             34336.09             31707.46             35865.30   \n",
       "506              1119.39               846.93               951.81   \n",
       "507              8836.91              8541.12              7959.95   \n",
       "\n",
       "     2022-11-30 00:00:00  2022-12-31 00:00:00  \n",
       "0                2854.20              2900.21  \n",
       "1               13099.32             13715.54  \n",
       "2               16902.76             16800.81  \n",
       "3               15082.96             14289.58  \n",
       "4                2896.84              2690.25  \n",
       "..                   ...                  ...  \n",
       "503             16381.75             16615.26  \n",
       "504              3828.45              3714.02  \n",
       "505             40666.87             39667.59  \n",
       "506               978.44              1087.43  \n",
       "507              9949.04             10270.25  \n",
       "\n",
       "[508 rows x 181 columns]"
      ]
     },
<<<<<<< HEAD
     "execution_count": 22,
=======
     "execution_count": 30,
>>>>>>> caa640482ff8c8e3a495b1dc82d47aae396c508b
     "metadata": {},
     "output_type": "execute_result"
    }
   ],
   "source": [
    "dfmcapitalizationpost"
   ]
  },
  {
   "cell_type": "code",
   "execution_count": 31,
   "metadata": {
    "ExecuteTime": {
<<<<<<< HEAD
     "end_time": "2024-03-06T10:23:02.190210Z",
     "start_time": "2024-03-06T10:22:59.796457Z"
    }
   }
  },
  {
   "cell_type": "code",
   "execution_count": 19,
   "outputs": [
    {
     "name": "stdout",
     "output_type": "stream",
     "text": [
      "0      object\n",
      "1      object\n",
      "2      object\n",
      "3      object\n",
      "4      object\n",
      "        ...  \n",
      "503    object\n",
      "504    object\n",
      "505    object\n",
      "506    object\n",
      "507    object\n",
      "Length: 508, dtype: object\n"
     ]
    }
   ],
   "source": [
    "print(dfmcapitalizationT.dtypes)"
   ],
   "metadata": {
    "collapsed": false,
    "ExecuteTime": {
     "end_time": "2024-03-06T10:15:42.164189Z",
     "start_time": "2024-03-06T10:15:42.108589Z"
    }
   }
  },
  {
   "cell_type": "code",
   "execution_count": 23,
   "outputs": [],
   "source": [
    "dfmreturns = dfmcapitalizationT.pct_change()"
   ],
   "metadata": {
    "collapsed": false,
    "ExecuteTime": {
     "end_time": "2024-03-06T10:23:28.393307Z",
     "start_time": "2024-03-06T10:23:28.289493Z"
    }
   }
  },
  {
   "cell_type": "code",
   "execution_count": 24,
   "outputs": [
    {
     "data": {
      "text/plain": "NAME                 FLUGHAFEN WIEN  ERSTE GROUP BANK       OMV   VERBUND  \\\n2008-01-31 00:00:00             NaN               NaN       NaN       NaN   \n2008-02-29 00:00:00        0.032575          0.090471  0.023188  0.140411   \n2008-03-31 00:00:00        0.055828          0.112924 -0.087828 -0.040479   \n2008-04-30 00:00:00        0.045254          0.141740  0.137252  0.083896   \n2008-05-31 00:00:00       -0.091365          0.026788  0.090208  0.089625   \n...                             ...               ...       ...       ...   \n2022-08-31 00:00:00       -0.010835         -0.102478 -0.040986 -0.125302   \n2022-09-30 00:00:00       -0.021275         -0.018784 -0.096104 -0.106440   \n2022-10-31 00:00:00        0.007306          0.112214  0.259085 -0.085763   \n2022-11-30 00:00:00        0.041823          0.235494  0.120450  0.131215   \n2022-12-31 00:00:00        0.016120          0.047042 -0.006032 -0.052601   \n\nNAME                 WIENERBERGER  VIENNA INSURANCE GROUP A  VOESTALPINE  \\\n2008-01-31 00:00:00           NaN                       NaN          NaN   \n2008-02-29 00:00:00      0.073832                  0.102771     0.045840   \n2008-03-31 00:00:00      0.095491                 -0.085481     0.098728   \n2008-04-30 00:00:00      0.079685                  0.186688     0.099805   \n2008-05-31 00:00:00     -0.080877                  0.014728     0.085671   \n...                           ...                       ...          ...   \n2022-08-31 00:00:00      0.025706                  0.041190    -0.093998   \n2022-09-30 00:00:00     -0.140093                 -0.139008    -0.152102   \n2022-10-31 00:00:00      0.133226                  0.093304     0.266372   \n2022-11-30 00:00:00      0.099654                  0.025725     0.230466   \n2022-12-31 00:00:00     -0.071316                  0.038860    -0.010577   \n\nNAME                 MAYR-MELNHOF KARTON  IMMOFINANZ    SOLVAY  ...    FABEGE  \\\n2008-01-31 00:00:00                  NaN         NaN       NaN  ...       NaN   \n2008-02-29 00:00:00             0.048470    0.163006  0.016291  ...  0.170046   \n2008-03-31 00:00:00            -0.011424   -0.002730  0.013323  ... -0.031950   \n2008-04-30 00:00:00             0.032990    0.015511  0.147908  ... -0.123614   \n2008-05-31 00:00:00            -0.006339    0.065694 -0.025875  ... -0.068399   \n...                                  ...         ...       ...  ...       ...   \n2022-08-31 00:00:00            -0.056887   -0.023739 -0.069899  ... -0.127152   \n2022-09-30 00:00:00            -0.136875   -0.178441 -0.037800  ... -0.230752   \n2022-10-31 00:00:00             0.100544   -0.034818  0.155775  ...  0.060888   \n2022-11-30 00:00:00             0.172048    0.071487  0.071967  ...  0.124657   \n2022-12-31 00:00:00            -0.032565   -0.019175  0.042942  ...  0.043204   \n\nNAME                 KINNEVIK B  INVESTOR A  \\\n2008-01-31 00:00:00         NaN         NaN   \n2008-02-29 00:00:00   -0.012405    0.083654   \n2008-03-31 00:00:00   -0.018311    0.054658   \n2008-04-30 00:00:00    0.127543    0.052127   \n2008-05-31 00:00:00    0.015626    0.046882   \n...                         ...         ...   \n2022-08-31 00:00:00   -0.196648   -0.180800   \n2022-09-30 00:00:00   -0.072323   -0.075520   \n2022-10-31 00:00:00   -0.071266    0.099971   \n2022-11-30 00:00:00    0.209725    0.102712   \n2022-12-31 00:00:00   -0.080277   -0.007777   \n\nNAME                 SWEDISH MATCH DEAD - DELIST.02/01/23  HEXAGON B  \\\n2008-01-31 00:00:00                                   NaN        NaN   \n2008-02-29 00:00:00                              0.078073   0.193693   \n2008-03-31 00:00:00                             -0.070762  -0.014515   \n2008-04-30 00:00:00                              0.004624  -0.108774   \n2008-05-31 00:00:00                             -0.073898   0.140086   \n...                                                   ...        ...   \n2022-08-31 00:00:00                             -0.033070  -0.117771   \n2022-09-30 00:00:00                             -0.015894  -0.083421   \n2022-10-31 00:00:00                              0.037124   0.047420   \n2022-11-30 00:00:00                              0.049027   0.121188   \n2022-12-31 00:00:00                              0.010542  -0.055814   \n\nNAME                 NIBE INDUSTRIER  ELECTROLUX B  ATLAS COPCO A  \\\n2008-01-31 00:00:00              NaN           NaN            NaN   \n2008-02-29 00:00:00        -0.020207      0.047658       0.117851   \n2008-03-31 00:00:00        -0.037898      0.014449       0.088730   \n2008-04-30 00:00:00        -0.108246     -0.066467      -0.059393   \n2008-05-31 00:00:00        -0.035931     -0.061523       0.098997   \n...                              ...           ...            ...   \n2022-08-31 00:00:00        -0.055794     -0.111129      -0.116587   \n2022-09-30 00:00:00        -0.043272     -0.176591      -0.076556   \n2022-10-31 00:00:00        -0.116133      0.177423       0.131131   \n2022-11-30 00:00:00         0.152468      0.129493       0.133878   \n2022-12-31 00:00:00         0.014254     -0.029889      -0.024572   \n\nNAME                 MODERN TIMES GROUP MTG B  BOLIDEN ORD SHS  \n2008-01-31 00:00:00                       NaN              NaN  \n2008-02-29 00:00:00                  0.102427         0.286286  \n2008-03-31 00:00:00                  0.063058        -0.073111  \n2008-04-30 00:00:00                  0.051475         0.020626  \n2008-05-31 00:00:00                 -0.050625        -0.020701  \n...                                       ...              ...  \n2022-08-31 00:00:00                 -0.143667        -0.022415  \n2022-09-30 00:00:00                 -0.243400        -0.033472  \n2022-10-31 00:00:00                  0.123835        -0.068044  \n2022-11-30 00:00:00                  0.027978         0.249887  \n2022-12-31 00:00:00                  0.111392         0.032286  \n\n[180 rows x 508 columns]",
      "text/html": "<div>\n<style scoped>\n    .dataframe tbody tr th:only-of-type {\n        vertical-align: middle;\n    }\n\n    .dataframe tbody tr th {\n        vertical-align: top;\n    }\n\n    .dataframe thead th {\n        text-align: right;\n    }\n</style>\n<table border=\"1\" class=\"dataframe\">\n  <thead>\n    <tr style=\"text-align: right;\">\n      <th>NAME</th>\n      <th>FLUGHAFEN WIEN</th>\n      <th>ERSTE GROUP BANK</th>\n      <th>OMV</th>\n      <th>VERBUND</th>\n      <th>WIENERBERGER</th>\n      <th>VIENNA INSURANCE GROUP A</th>\n      <th>VOESTALPINE</th>\n      <th>MAYR-MELNHOF KARTON</th>\n      <th>IMMOFINANZ</th>\n      <th>SOLVAY</th>\n      <th>...</th>\n      <th>FABEGE</th>\n      <th>KINNEVIK B</th>\n      <th>INVESTOR A</th>\n      <th>SWEDISH MATCH DEAD - DELIST.02/01/23</th>\n      <th>HEXAGON B</th>\n      <th>NIBE INDUSTRIER</th>\n      <th>ELECTROLUX B</th>\n      <th>ATLAS COPCO A</th>\n      <th>MODERN TIMES GROUP MTG B</th>\n      <th>BOLIDEN ORD SHS</th>\n    </tr>\n  </thead>\n  <tbody>\n    <tr>\n      <th>2008-01-31 00:00:00</th>\n      <td>NaN</td>\n      <td>NaN</td>\n      <td>NaN</td>\n      <td>NaN</td>\n      <td>NaN</td>\n      <td>NaN</td>\n      <td>NaN</td>\n      <td>NaN</td>\n      <td>NaN</td>\n      <td>NaN</td>\n      <td>...</td>\n      <td>NaN</td>\n      <td>NaN</td>\n      <td>NaN</td>\n      <td>NaN</td>\n      <td>NaN</td>\n      <td>NaN</td>\n      <td>NaN</td>\n      <td>NaN</td>\n      <td>NaN</td>\n      <td>NaN</td>\n    </tr>\n    <tr>\n      <th>2008-02-29 00:00:00</th>\n      <td>0.032575</td>\n      <td>0.090471</td>\n      <td>0.023188</td>\n      <td>0.140411</td>\n      <td>0.073832</td>\n      <td>0.102771</td>\n      <td>0.045840</td>\n      <td>0.048470</td>\n      <td>0.163006</td>\n      <td>0.016291</td>\n      <td>...</td>\n      <td>0.170046</td>\n      <td>-0.012405</td>\n      <td>0.083654</td>\n      <td>0.078073</td>\n      <td>0.193693</td>\n      <td>-0.020207</td>\n      <td>0.047658</td>\n      <td>0.117851</td>\n      <td>0.102427</td>\n      <td>0.286286</td>\n    </tr>\n    <tr>\n      <th>2008-03-31 00:00:00</th>\n      <td>0.055828</td>\n      <td>0.112924</td>\n      <td>-0.087828</td>\n      <td>-0.040479</td>\n      <td>0.095491</td>\n      <td>-0.085481</td>\n      <td>0.098728</td>\n      <td>-0.011424</td>\n      <td>-0.002730</td>\n      <td>0.013323</td>\n      <td>...</td>\n      <td>-0.031950</td>\n      <td>-0.018311</td>\n      <td>0.054658</td>\n      <td>-0.070762</td>\n      <td>-0.014515</td>\n      <td>-0.037898</td>\n      <td>0.014449</td>\n      <td>0.088730</td>\n      <td>0.063058</td>\n      <td>-0.073111</td>\n    </tr>\n    <tr>\n      <th>2008-04-30 00:00:00</th>\n      <td>0.045254</td>\n      <td>0.141740</td>\n      <td>0.137252</td>\n      <td>0.083896</td>\n      <td>0.079685</td>\n      <td>0.186688</td>\n      <td>0.099805</td>\n      <td>0.032990</td>\n      <td>0.015511</td>\n      <td>0.147908</td>\n      <td>...</td>\n      <td>-0.123614</td>\n      <td>0.127543</td>\n      <td>0.052127</td>\n      <td>0.004624</td>\n      <td>-0.108774</td>\n      <td>-0.108246</td>\n      <td>-0.066467</td>\n      <td>-0.059393</td>\n      <td>0.051475</td>\n      <td>0.020626</td>\n    </tr>\n    <tr>\n      <th>2008-05-31 00:00:00</th>\n      <td>-0.091365</td>\n      <td>0.026788</td>\n      <td>0.090208</td>\n      <td>0.089625</td>\n      <td>-0.080877</td>\n      <td>0.014728</td>\n      <td>0.085671</td>\n      <td>-0.006339</td>\n      <td>0.065694</td>\n      <td>-0.025875</td>\n      <td>...</td>\n      <td>-0.068399</td>\n      <td>0.015626</td>\n      <td>0.046882</td>\n      <td>-0.073898</td>\n      <td>0.140086</td>\n      <td>-0.035931</td>\n      <td>-0.061523</td>\n      <td>0.098997</td>\n      <td>-0.050625</td>\n      <td>-0.020701</td>\n    </tr>\n    <tr>\n      <th>...</th>\n      <td>...</td>\n      <td>...</td>\n      <td>...</td>\n      <td>...</td>\n      <td>...</td>\n      <td>...</td>\n      <td>...</td>\n      <td>...</td>\n      <td>...</td>\n      <td>...</td>\n      <td>...</td>\n      <td>...</td>\n      <td>...</td>\n      <td>...</td>\n      <td>...</td>\n      <td>...</td>\n      <td>...</td>\n      <td>...</td>\n      <td>...</td>\n      <td>...</td>\n      <td>...</td>\n    </tr>\n    <tr>\n      <th>2022-08-31 00:00:00</th>\n      <td>-0.010835</td>\n      <td>-0.102478</td>\n      <td>-0.040986</td>\n      <td>-0.125302</td>\n      <td>0.025706</td>\n      <td>0.041190</td>\n      <td>-0.093998</td>\n      <td>-0.056887</td>\n      <td>-0.023739</td>\n      <td>-0.069899</td>\n      <td>...</td>\n      <td>-0.127152</td>\n      <td>-0.196648</td>\n      <td>-0.180800</td>\n      <td>-0.033070</td>\n      <td>-0.117771</td>\n      <td>-0.055794</td>\n      <td>-0.111129</td>\n      <td>-0.116587</td>\n      <td>-0.143667</td>\n      <td>-0.022415</td>\n    </tr>\n    <tr>\n      <th>2022-09-30 00:00:00</th>\n      <td>-0.021275</td>\n      <td>-0.018784</td>\n      <td>-0.096104</td>\n      <td>-0.106440</td>\n      <td>-0.140093</td>\n      <td>-0.139008</td>\n      <td>-0.152102</td>\n      <td>-0.136875</td>\n      <td>-0.178441</td>\n      <td>-0.037800</td>\n      <td>...</td>\n      <td>-0.230752</td>\n      <td>-0.072323</td>\n      <td>-0.075520</td>\n      <td>-0.015894</td>\n      <td>-0.083421</td>\n      <td>-0.043272</td>\n      <td>-0.176591</td>\n      <td>-0.076556</td>\n      <td>-0.243400</td>\n      <td>-0.033472</td>\n    </tr>\n    <tr>\n      <th>2022-10-31 00:00:00</th>\n      <td>0.007306</td>\n      <td>0.112214</td>\n      <td>0.259085</td>\n      <td>-0.085763</td>\n      <td>0.133226</td>\n      <td>0.093304</td>\n      <td>0.266372</td>\n      <td>0.100544</td>\n      <td>-0.034818</td>\n      <td>0.155775</td>\n      <td>...</td>\n      <td>0.060888</td>\n      <td>-0.071266</td>\n      <td>0.099971</td>\n      <td>0.037124</td>\n      <td>0.047420</td>\n      <td>-0.116133</td>\n      <td>0.177423</td>\n      <td>0.131131</td>\n      <td>0.123835</td>\n      <td>-0.068044</td>\n    </tr>\n    <tr>\n      <th>2022-11-30 00:00:00</th>\n      <td>0.041823</td>\n      <td>0.235494</td>\n      <td>0.120450</td>\n      <td>0.131215</td>\n      <td>0.099654</td>\n      <td>0.025725</td>\n      <td>0.230466</td>\n      <td>0.172048</td>\n      <td>0.071487</td>\n      <td>0.071967</td>\n      <td>...</td>\n      <td>0.124657</td>\n      <td>0.209725</td>\n      <td>0.102712</td>\n      <td>0.049027</td>\n      <td>0.121188</td>\n      <td>0.152468</td>\n      <td>0.129493</td>\n      <td>0.133878</td>\n      <td>0.027978</td>\n      <td>0.249887</td>\n    </tr>\n    <tr>\n      <th>2022-12-31 00:00:00</th>\n      <td>0.016120</td>\n      <td>0.047042</td>\n      <td>-0.006032</td>\n      <td>-0.052601</td>\n      <td>-0.071316</td>\n      <td>0.038860</td>\n      <td>-0.010577</td>\n      <td>-0.032565</td>\n      <td>-0.019175</td>\n      <td>0.042942</td>\n      <td>...</td>\n      <td>0.043204</td>\n      <td>-0.080277</td>\n      <td>-0.007777</td>\n      <td>0.010542</td>\n      <td>-0.055814</td>\n      <td>0.014254</td>\n      <td>-0.029889</td>\n      <td>-0.024572</td>\n      <td>0.111392</td>\n      <td>0.032286</td>\n    </tr>\n  </tbody>\n</table>\n<p>180 rows × 508 columns</p>\n</div>"
     },
     "execution_count": 24,
=======
     "end_time": "2024-03-05T08:59:50.434928Z",
     "start_time": "2024-03-05T08:59:50.254097Z"
    },
    "collapsed": false
   },
   "outputs": [
    {
     "data": {
      "text/html": [
       "<div>\n",
       "<style scoped>\n",
       "    .dataframe tbody tr th:only-of-type {\n",
       "        vertical-align: middle;\n",
       "    }\n",
       "\n",
       "    .dataframe tbody tr th {\n",
       "        vertical-align: top;\n",
       "    }\n",
       "\n",
       "    .dataframe thead th {\n",
       "        text-align: right;\n",
       "    }\n",
       "</style>\n",
       "<table border=\"1\" class=\"dataframe\">\n",
       "  <thead>\n",
       "    <tr style=\"text-align: right;\">\n",
       "      <th>NAME</th>\n",
       "      <th>FLUGHAFEN WIEN</th>\n",
       "      <th>ERSTE GROUP BANK</th>\n",
       "      <th>OMV</th>\n",
       "      <th>VERBUND</th>\n",
       "      <th>WIENERBERGER</th>\n",
       "      <th>VIENNA INSURANCE GROUP A</th>\n",
       "      <th>VOESTALPINE</th>\n",
       "      <th>MAYR-MELNHOF KARTON</th>\n",
       "      <th>IMMOFINANZ</th>\n",
       "      <th>SOLVAY</th>\n",
       "      <th>...</th>\n",
       "      <th>FABEGE</th>\n",
       "      <th>KINNEVIK B</th>\n",
       "      <th>INVESTOR A</th>\n",
       "      <th>SWEDISH MATCH DEAD - DELIST.02/01/23</th>\n",
       "      <th>HEXAGON B</th>\n",
       "      <th>NIBE INDUSTRIER</th>\n",
       "      <th>ELECTROLUX B</th>\n",
       "      <th>ATLAS COPCO A</th>\n",
       "      <th>MODERN TIMES GROUP MTG B</th>\n",
       "      <th>BOLIDEN ORD SHS</th>\n",
       "    </tr>\n",
       "  </thead>\n",
       "  <tbody>\n",
       "    <tr>\n",
       "      <th>2008-01-31 00:00:00</th>\n",
       "      <td>2329.71</td>\n",
       "      <td>16951.92</td>\n",
       "      <td>21320.11</td>\n",
       "      <td>9860.39</td>\n",
       "      <td>3809.48</td>\n",
       "      <td>8006.14</td>\n",
       "      <td>9977.08</td>\n",
       "      <td>2149.78</td>\n",
       "      <td>4301.74</td>\n",
       "      <td>10532.79</td>\n",
       "      <td>...</td>\n",
       "      <td>1687.13</td>\n",
       "      <td>4192.67</td>\n",
       "      <td>5978.81</td>\n",
       "      <td>5820.43</td>\n",
       "      <td>4397.79</td>\n",
       "      <td>798.22</td>\n",
       "      <td>4632.15</td>\n",
       "      <td>11805.31</td>\n",
       "      <td>3089.90</td>\n",
       "      <td>2589.58</td>\n",
       "    </tr>\n",
       "    <tr>\n",
       "      <th>2008-02-29 00:00:00</th>\n",
       "      <td>2405.60</td>\n",
       "      <td>18485.57</td>\n",
       "      <td>21814.48</td>\n",
       "      <td>11244.90</td>\n",
       "      <td>4090.74</td>\n",
       "      <td>8828.94</td>\n",
       "      <td>10434.43</td>\n",
       "      <td>2253.98</td>\n",
       "      <td>5002.95</td>\n",
       "      <td>10704.38</td>\n",
       "      <td>...</td>\n",
       "      <td>1974.02</td>\n",
       "      <td>4140.66</td>\n",
       "      <td>6478.96</td>\n",
       "      <td>6274.85</td>\n",
       "      <td>5249.61</td>\n",
       "      <td>782.09</td>\n",
       "      <td>4852.91</td>\n",
       "      <td>13196.58</td>\n",
       "      <td>3406.39</td>\n",
       "      <td>3330.94</td>\n",
       "    </tr>\n",
       "    <tr>\n",
       "      <th>2008-03-31 00:00:00</th>\n",
       "      <td>2539.90</td>\n",
       "      <td>20573.03</td>\n",
       "      <td>19898.56</td>\n",
       "      <td>10789.72</td>\n",
       "      <td>4481.37</td>\n",
       "      <td>8074.23</td>\n",
       "      <td>11464.60</td>\n",
       "      <td>2228.23</td>\n",
       "      <td>4989.29</td>\n",
       "      <td>10846.99</td>\n",
       "      <td>...</td>\n",
       "      <td>1910.95</td>\n",
       "      <td>4064.84</td>\n",
       "      <td>6833.09</td>\n",
       "      <td>5830.83</td>\n",
       "      <td>5173.41</td>\n",
       "      <td>752.45</td>\n",
       "      <td>4923.03</td>\n",
       "      <td>14367.51</td>\n",
       "      <td>3621.19</td>\n",
       "      <td>3087.41</td>\n",
       "    </tr>\n",
       "    <tr>\n",
       "      <th>2008-04-30 00:00:00</th>\n",
       "      <td>2654.84</td>\n",
       "      <td>23489.06</td>\n",
       "      <td>22629.68</td>\n",
       "      <td>11694.93</td>\n",
       "      <td>4838.47</td>\n",
       "      <td>9581.59</td>\n",
       "      <td>12608.82</td>\n",
       "      <td>2301.74</td>\n",
       "      <td>5066.68</td>\n",
       "      <td>12451.35</td>\n",
       "      <td>...</td>\n",
       "      <td>1674.73</td>\n",
       "      <td>4583.28</td>\n",
       "      <td>7189.28</td>\n",
       "      <td>5857.79</td>\n",
       "      <td>4610.68</td>\n",
       "      <td>671.00</td>\n",
       "      <td>4595.81</td>\n",
       "      <td>13514.18</td>\n",
       "      <td>3807.59</td>\n",
       "      <td>3151.09</td>\n",
       "    </tr>\n",
       "    <tr>\n",
       "      <th>2008-05-31 00:00:00</th>\n",
       "      <td>2412.28</td>\n",
       "      <td>24118.28</td>\n",
       "      <td>24671.05</td>\n",
       "      <td>12743.09</td>\n",
       "      <td>4447.15</td>\n",
       "      <td>9722.71</td>\n",
       "      <td>13689.03</td>\n",
       "      <td>2287.15</td>\n",
       "      <td>5399.53</td>\n",
       "      <td>12129.17</td>\n",
       "      <td>...</td>\n",
       "      <td>1560.18</td>\n",
       "      <td>4654.90</td>\n",
       "      <td>7526.33</td>\n",
       "      <td>5424.91</td>\n",
       "      <td>5256.57</td>\n",
       "      <td>646.89</td>\n",
       "      <td>4313.06</td>\n",
       "      <td>14852.04</td>\n",
       "      <td>3614.83</td>\n",
       "      <td>3085.86</td>\n",
       "    </tr>\n",
       "    <tr>\n",
       "      <th>...</th>\n",
       "      <td>...</td>\n",
       "      <td>...</td>\n",
       "      <td>...</td>\n",
       "      <td>...</td>\n",
       "      <td>...</td>\n",
       "      <td>...</td>\n",
       "      <td>...</td>\n",
       "      <td>...</td>\n",
       "      <td>...</td>\n",
       "      <td>...</td>\n",
       "      <td>...</td>\n",
       "      <td>...</td>\n",
       "      <td>...</td>\n",
       "      <td>...</td>\n",
       "      <td>...</td>\n",
       "      <td>...</td>\n",
       "      <td>...</td>\n",
       "      <td>...</td>\n",
       "      <td>...</td>\n",
       "      <td>...</td>\n",
       "      <td>...</td>\n",
       "    </tr>\n",
       "    <tr>\n",
       "      <th>2022-08-31 00:00:00</th>\n",
       "      <td>2778.87</td>\n",
       "      <td>9715.28</td>\n",
       "      <td>13255.37</td>\n",
       "      <td>16321.45</td>\n",
       "      <td>2703.34</td>\n",
       "      <td>3043.93</td>\n",
       "      <td>3612.25</td>\n",
       "      <td>2996.46</td>\n",
       "      <td>2063.65</td>\n",
       "      <td>8585.01</td>\n",
       "      <td>...</td>\n",
       "      <td>2940.99</td>\n",
       "      <td>3479.40</td>\n",
       "      <td>20847.37</td>\n",
       "      <td>15360.14</td>\n",
       "      <td>26713.27</td>\n",
       "      <td>16809.54</td>\n",
       "      <td>3496.16</td>\n",
       "      <td>34336.09</td>\n",
       "      <td>1119.39</td>\n",
       "      <td>8836.91</td>\n",
       "    </tr>\n",
       "    <tr>\n",
       "      <th>2022-09-30 00:00:00</th>\n",
       "      <td>2719.75</td>\n",
       "      <td>9532.79</td>\n",
       "      <td>11981.47</td>\n",
       "      <td>14584.20</td>\n",
       "      <td>2324.62</td>\n",
       "      <td>2620.80</td>\n",
       "      <td>3062.82</td>\n",
       "      <td>2586.32</td>\n",
       "      <td>1695.41</td>\n",
       "      <td>8260.50</td>\n",
       "      <td>...</td>\n",
       "      <td>2262.35</td>\n",
       "      <td>3227.76</td>\n",
       "      <td>19272.98</td>\n",
       "      <td>15116.01</td>\n",
       "      <td>24484.81</td>\n",
       "      <td>16082.16</td>\n",
       "      <td>2878.77</td>\n",
       "      <td>31707.46</td>\n",
       "      <td>846.93</td>\n",
       "      <td>8541.12</td>\n",
       "    </tr>\n",
       "    <tr>\n",
       "      <th>2022-10-31 00:00:00</th>\n",
       "      <td>2739.62</td>\n",
       "      <td>10602.50</td>\n",
       "      <td>15085.69</td>\n",
       "      <td>13333.42</td>\n",
       "      <td>2634.32</td>\n",
       "      <td>2865.33</td>\n",
       "      <td>3878.67</td>\n",
       "      <td>2846.36</td>\n",
       "      <td>1636.38</td>\n",
       "      <td>9547.28</td>\n",
       "      <td>...</td>\n",
       "      <td>2400.10</td>\n",
       "      <td>2997.73</td>\n",
       "      <td>21199.72</td>\n",
       "      <td>15677.18</td>\n",
       "      <td>25645.89</td>\n",
       "      <td>14214.49</td>\n",
       "      <td>3389.53</td>\n",
       "      <td>35865.30</td>\n",
       "      <td>951.81</td>\n",
       "      <td>7959.95</td>\n",
       "    </tr>\n",
       "    <tr>\n",
       "      <th>2022-11-30 00:00:00</th>\n",
       "      <td>2854.20</td>\n",
       "      <td>13099.32</td>\n",
       "      <td>16902.76</td>\n",
       "      <td>15082.96</td>\n",
       "      <td>2896.84</td>\n",
       "      <td>2939.04</td>\n",
       "      <td>4772.57</td>\n",
       "      <td>3336.07</td>\n",
       "      <td>1753.36</td>\n",
       "      <td>10234.37</td>\n",
       "      <td>...</td>\n",
       "      <td>2699.29</td>\n",
       "      <td>3626.43</td>\n",
       "      <td>23377.18</td>\n",
       "      <td>16445.79</td>\n",
       "      <td>28753.87</td>\n",
       "      <td>16381.75</td>\n",
       "      <td>3828.45</td>\n",
       "      <td>40666.87</td>\n",
       "      <td>978.44</td>\n",
       "      <td>9949.04</td>\n",
       "    </tr>\n",
       "    <tr>\n",
       "      <th>2022-12-31 00:00:00</th>\n",
       "      <td>2900.21</td>\n",
       "      <td>13715.54</td>\n",
       "      <td>16800.81</td>\n",
       "      <td>14289.58</td>\n",
       "      <td>2690.25</td>\n",
       "      <td>3053.25</td>\n",
       "      <td>4722.09</td>\n",
       "      <td>3227.43</td>\n",
       "      <td>1719.74</td>\n",
       "      <td>10673.85</td>\n",
       "      <td>...</td>\n",
       "      <td>2815.91</td>\n",
       "      <td>3335.31</td>\n",
       "      <td>23195.38</td>\n",
       "      <td>16619.16</td>\n",
       "      <td>27149.01</td>\n",
       "      <td>16615.26</td>\n",
       "      <td>3714.02</td>\n",
       "      <td>39667.59</td>\n",
       "      <td>1087.43</td>\n",
       "      <td>10270.25</td>\n",
       "    </tr>\n",
       "  </tbody>\n",
       "</table>\n",
       "<p>180 rows × 508 columns</p>\n",
       "</div>"
      ],
      "text/plain": [
       "NAME                 FLUGHAFEN WIEN  ERSTE GROUP BANK       OMV   VERBUND  \\\n",
       "2008-01-31 00:00:00         2329.71          16951.92  21320.11   9860.39   \n",
       "2008-02-29 00:00:00         2405.60          18485.57  21814.48  11244.90   \n",
       "2008-03-31 00:00:00         2539.90          20573.03  19898.56  10789.72   \n",
       "2008-04-30 00:00:00         2654.84          23489.06  22629.68  11694.93   \n",
       "2008-05-31 00:00:00         2412.28          24118.28  24671.05  12743.09   \n",
       "...                             ...               ...       ...       ...   \n",
       "2022-08-31 00:00:00         2778.87           9715.28  13255.37  16321.45   \n",
       "2022-09-30 00:00:00         2719.75           9532.79  11981.47  14584.20   \n",
       "2022-10-31 00:00:00         2739.62          10602.50  15085.69  13333.42   \n",
       "2022-11-30 00:00:00         2854.20          13099.32  16902.76  15082.96   \n",
       "2022-12-31 00:00:00         2900.21          13715.54  16800.81  14289.58   \n",
       "\n",
       "NAME                 WIENERBERGER  VIENNA INSURANCE GROUP A  VOESTALPINE  \\\n",
       "2008-01-31 00:00:00       3809.48                   8006.14      9977.08   \n",
       "2008-02-29 00:00:00       4090.74                   8828.94     10434.43   \n",
       "2008-03-31 00:00:00       4481.37                   8074.23     11464.60   \n",
       "2008-04-30 00:00:00       4838.47                   9581.59     12608.82   \n",
       "2008-05-31 00:00:00       4447.15                   9722.71     13689.03   \n",
       "...                           ...                       ...          ...   \n",
       "2022-08-31 00:00:00       2703.34                   3043.93      3612.25   \n",
       "2022-09-30 00:00:00       2324.62                   2620.80      3062.82   \n",
       "2022-10-31 00:00:00       2634.32                   2865.33      3878.67   \n",
       "2022-11-30 00:00:00       2896.84                   2939.04      4772.57   \n",
       "2022-12-31 00:00:00       2690.25                   3053.25      4722.09   \n",
       "\n",
       "NAME                 MAYR-MELNHOF KARTON  IMMOFINANZ    SOLVAY  ...   FABEGE  \\\n",
       "2008-01-31 00:00:00              2149.78     4301.74  10532.79  ...  1687.13   \n",
       "2008-02-29 00:00:00              2253.98     5002.95  10704.38  ...  1974.02   \n",
       "2008-03-31 00:00:00              2228.23     4989.29  10846.99  ...  1910.95   \n",
       "2008-04-30 00:00:00              2301.74     5066.68  12451.35  ...  1674.73   \n",
       "2008-05-31 00:00:00              2287.15     5399.53  12129.17  ...  1560.18   \n",
       "...                                  ...         ...       ...  ...      ...   \n",
       "2022-08-31 00:00:00              2996.46     2063.65   8585.01  ...  2940.99   \n",
       "2022-09-30 00:00:00              2586.32     1695.41   8260.50  ...  2262.35   \n",
       "2022-10-31 00:00:00              2846.36     1636.38   9547.28  ...  2400.10   \n",
       "2022-11-30 00:00:00              3336.07     1753.36  10234.37  ...  2699.29   \n",
       "2022-12-31 00:00:00              3227.43     1719.74  10673.85  ...  2815.91   \n",
       "\n",
       "NAME                 KINNEVIK B  INVESTOR A  \\\n",
       "2008-01-31 00:00:00     4192.67     5978.81   \n",
       "2008-02-29 00:00:00     4140.66     6478.96   \n",
       "2008-03-31 00:00:00     4064.84     6833.09   \n",
       "2008-04-30 00:00:00     4583.28     7189.28   \n",
       "2008-05-31 00:00:00     4654.90     7526.33   \n",
       "...                         ...         ...   \n",
       "2022-08-31 00:00:00     3479.40    20847.37   \n",
       "2022-09-30 00:00:00     3227.76    19272.98   \n",
       "2022-10-31 00:00:00     2997.73    21199.72   \n",
       "2022-11-30 00:00:00     3626.43    23377.18   \n",
       "2022-12-31 00:00:00     3335.31    23195.38   \n",
       "\n",
       "NAME                 SWEDISH MATCH DEAD - DELIST.02/01/23  HEXAGON B  \\\n",
       "2008-01-31 00:00:00                               5820.43    4397.79   \n",
       "2008-02-29 00:00:00                               6274.85    5249.61   \n",
       "2008-03-31 00:00:00                               5830.83    5173.41   \n",
       "2008-04-30 00:00:00                               5857.79    4610.68   \n",
       "2008-05-31 00:00:00                               5424.91    5256.57   \n",
       "...                                                   ...        ...   \n",
       "2022-08-31 00:00:00                              15360.14   26713.27   \n",
       "2022-09-30 00:00:00                              15116.01   24484.81   \n",
       "2022-10-31 00:00:00                              15677.18   25645.89   \n",
       "2022-11-30 00:00:00                              16445.79   28753.87   \n",
       "2022-12-31 00:00:00                              16619.16   27149.01   \n",
       "\n",
       "NAME                 NIBE INDUSTRIER  ELECTROLUX B  ATLAS COPCO A  \\\n",
       "2008-01-31 00:00:00           798.22       4632.15       11805.31   \n",
       "2008-02-29 00:00:00           782.09       4852.91       13196.58   \n",
       "2008-03-31 00:00:00           752.45       4923.03       14367.51   \n",
       "2008-04-30 00:00:00           671.00       4595.81       13514.18   \n",
       "2008-05-31 00:00:00           646.89       4313.06       14852.04   \n",
       "...                              ...           ...            ...   \n",
       "2022-08-31 00:00:00         16809.54       3496.16       34336.09   \n",
       "2022-09-30 00:00:00         16082.16       2878.77       31707.46   \n",
       "2022-10-31 00:00:00         14214.49       3389.53       35865.30   \n",
       "2022-11-30 00:00:00         16381.75       3828.45       40666.87   \n",
       "2022-12-31 00:00:00         16615.26       3714.02       39667.59   \n",
       "\n",
       "NAME                 MODERN TIMES GROUP MTG B  BOLIDEN ORD SHS  \n",
       "2008-01-31 00:00:00                   3089.90          2589.58  \n",
       "2008-02-29 00:00:00                   3406.39          3330.94  \n",
       "2008-03-31 00:00:00                   3621.19          3087.41  \n",
       "2008-04-30 00:00:00                   3807.59          3151.09  \n",
       "2008-05-31 00:00:00                   3614.83          3085.86  \n",
       "...                                       ...              ...  \n",
       "2022-08-31 00:00:00                   1119.39          8836.91  \n",
       "2022-09-30 00:00:00                    846.93          8541.12  \n",
       "2022-10-31 00:00:00                    951.81          7959.95  \n",
       "2022-11-30 00:00:00                    978.44          9949.04  \n",
       "2022-12-31 00:00:00                   1087.43         10270.25  \n",
       "\n",
       "[180 rows x 508 columns]"
      ]
     },
     "execution_count": 31,
     "metadata": {},
     "output_type": "execute_result"
    }
   ],
   "source": [
    "dfmcapitalizationpost.set_index('NAME', inplace=True)\n",
    "dfmcapitalizationT = dfmcapitalizationpost.T\n",
    "dfmcapitalizationT"
   ]
  },
  {
   "cell_type": "code",
   "execution_count": 32,
   "metadata": {
    "ExecuteTime": {
     "end_time": "2024-03-05T09:00:02.607481Z",
     "start_time": "2024-03-05T09:00:02.464420Z"
    },
    "collapsed": false
   },
   "outputs": [],
   "source": [
    "dfmreturns = dfmcapitalizationT.pct_change()"
   ]
  },
  {
   "cell_type": "code",
   "execution_count": 33,
   "metadata": {
    "ExecuteTime": {
     "end_time": "2024-03-05T07:49:36.009431Z",
     "start_time": "2024-03-05T07:49:35.870801Z"
    },
    "collapsed": false
   },
   "outputs": [
    {
     "data": {
      "text/html": [
       "<div>\n",
       "<style scoped>\n",
       "    .dataframe tbody tr th:only-of-type {\n",
       "        vertical-align: middle;\n",
       "    }\n",
       "\n",
       "    .dataframe tbody tr th {\n",
       "        vertical-align: top;\n",
       "    }\n",
       "\n",
       "    .dataframe thead th {\n",
       "        text-align: right;\n",
       "    }\n",
       "</style>\n",
       "<table border=\"1\" class=\"dataframe\">\n",
       "  <thead>\n",
       "    <tr style=\"text-align: right;\">\n",
       "      <th>NAME</th>\n",
       "      <th>FLUGHAFEN WIEN</th>\n",
       "      <th>ERSTE GROUP BANK</th>\n",
       "      <th>OMV</th>\n",
       "      <th>VERBUND</th>\n",
       "      <th>WIENERBERGER</th>\n",
       "      <th>VIENNA INSURANCE GROUP A</th>\n",
       "      <th>VOESTALPINE</th>\n",
       "      <th>MAYR-MELNHOF KARTON</th>\n",
       "      <th>IMMOFINANZ</th>\n",
       "      <th>SOLVAY</th>\n",
       "      <th>...</th>\n",
       "      <th>FABEGE</th>\n",
       "      <th>KINNEVIK B</th>\n",
       "      <th>INVESTOR A</th>\n",
       "      <th>SWEDISH MATCH DEAD - DELIST.02/01/23</th>\n",
       "      <th>HEXAGON B</th>\n",
       "      <th>NIBE INDUSTRIER</th>\n",
       "      <th>ELECTROLUX B</th>\n",
       "      <th>ATLAS COPCO A</th>\n",
       "      <th>MODERN TIMES GROUP MTG B</th>\n",
       "      <th>BOLIDEN ORD SHS</th>\n",
       "    </tr>\n",
       "  </thead>\n",
       "  <tbody>\n",
       "    <tr>\n",
       "      <th>2008-01-31 00:00:00</th>\n",
       "      <td>NaN</td>\n",
       "      <td>NaN</td>\n",
       "      <td>NaN</td>\n",
       "      <td>NaN</td>\n",
       "      <td>NaN</td>\n",
       "      <td>NaN</td>\n",
       "      <td>NaN</td>\n",
       "      <td>NaN</td>\n",
       "      <td>NaN</td>\n",
       "      <td>NaN</td>\n",
       "      <td>...</td>\n",
       "      <td>NaN</td>\n",
       "      <td>NaN</td>\n",
       "      <td>NaN</td>\n",
       "      <td>NaN</td>\n",
       "      <td>NaN</td>\n",
       "      <td>NaN</td>\n",
       "      <td>NaN</td>\n",
       "      <td>NaN</td>\n",
       "      <td>NaN</td>\n",
       "      <td>NaN</td>\n",
       "    </tr>\n",
       "    <tr>\n",
       "      <th>2008-02-29 00:00:00</th>\n",
       "      <td>0.032575</td>\n",
       "      <td>0.090471</td>\n",
       "      <td>0.023188</td>\n",
       "      <td>0.140411</td>\n",
       "      <td>0.073832</td>\n",
       "      <td>0.102771</td>\n",
       "      <td>0.045840</td>\n",
       "      <td>0.048470</td>\n",
       "      <td>0.163006</td>\n",
       "      <td>0.016291</td>\n",
       "      <td>...</td>\n",
       "      <td>0.170046</td>\n",
       "      <td>-0.012405</td>\n",
       "      <td>0.083654</td>\n",
       "      <td>0.078073</td>\n",
       "      <td>0.193693</td>\n",
       "      <td>-0.020207</td>\n",
       "      <td>0.047658</td>\n",
       "      <td>0.117851</td>\n",
       "      <td>0.102427</td>\n",
       "      <td>0.286286</td>\n",
       "    </tr>\n",
       "    <tr>\n",
       "      <th>2008-03-31 00:00:00</th>\n",
       "      <td>0.055828</td>\n",
       "      <td>0.112924</td>\n",
       "      <td>-0.087828</td>\n",
       "      <td>-0.040479</td>\n",
       "      <td>0.095491</td>\n",
       "      <td>-0.085481</td>\n",
       "      <td>0.098728</td>\n",
       "      <td>-0.011424</td>\n",
       "      <td>-0.002730</td>\n",
       "      <td>0.013323</td>\n",
       "      <td>...</td>\n",
       "      <td>-0.031950</td>\n",
       "      <td>-0.018311</td>\n",
       "      <td>0.054658</td>\n",
       "      <td>-0.070762</td>\n",
       "      <td>-0.014515</td>\n",
       "      <td>-0.037898</td>\n",
       "      <td>0.014449</td>\n",
       "      <td>0.088730</td>\n",
       "      <td>0.063058</td>\n",
       "      <td>-0.073111</td>\n",
       "    </tr>\n",
       "    <tr>\n",
       "      <th>2008-04-30 00:00:00</th>\n",
       "      <td>0.045254</td>\n",
       "      <td>0.141740</td>\n",
       "      <td>0.137252</td>\n",
       "      <td>0.083896</td>\n",
       "      <td>0.079685</td>\n",
       "      <td>0.186688</td>\n",
       "      <td>0.099805</td>\n",
       "      <td>0.032990</td>\n",
       "      <td>0.015511</td>\n",
       "      <td>0.147908</td>\n",
       "      <td>...</td>\n",
       "      <td>-0.123614</td>\n",
       "      <td>0.127543</td>\n",
       "      <td>0.052127</td>\n",
       "      <td>0.004624</td>\n",
       "      <td>-0.108774</td>\n",
       "      <td>-0.108246</td>\n",
       "      <td>-0.066467</td>\n",
       "      <td>-0.059393</td>\n",
       "      <td>0.051475</td>\n",
       "      <td>0.020626</td>\n",
       "    </tr>\n",
       "    <tr>\n",
       "      <th>2008-05-31 00:00:00</th>\n",
       "      <td>-0.091365</td>\n",
       "      <td>0.026788</td>\n",
       "      <td>0.090208</td>\n",
       "      <td>0.089625</td>\n",
       "      <td>-0.080877</td>\n",
       "      <td>0.014728</td>\n",
       "      <td>0.085671</td>\n",
       "      <td>-0.006339</td>\n",
       "      <td>0.065694</td>\n",
       "      <td>-0.025875</td>\n",
       "      <td>...</td>\n",
       "      <td>-0.068399</td>\n",
       "      <td>0.015626</td>\n",
       "      <td>0.046882</td>\n",
       "      <td>-0.073898</td>\n",
       "      <td>0.140086</td>\n",
       "      <td>-0.035931</td>\n",
       "      <td>-0.061523</td>\n",
       "      <td>0.098997</td>\n",
       "      <td>-0.050625</td>\n",
       "      <td>-0.020701</td>\n",
       "    </tr>\n",
       "    <tr>\n",
       "      <th>...</th>\n",
       "      <td>...</td>\n",
       "      <td>...</td>\n",
       "      <td>...</td>\n",
       "      <td>...</td>\n",
       "      <td>...</td>\n",
       "      <td>...</td>\n",
       "      <td>...</td>\n",
       "      <td>...</td>\n",
       "      <td>...</td>\n",
       "      <td>...</td>\n",
       "      <td>...</td>\n",
       "      <td>...</td>\n",
       "      <td>...</td>\n",
       "      <td>...</td>\n",
       "      <td>...</td>\n",
       "      <td>...</td>\n",
       "      <td>...</td>\n",
       "      <td>...</td>\n",
       "      <td>...</td>\n",
       "      <td>...</td>\n",
       "      <td>...</td>\n",
       "    </tr>\n",
       "    <tr>\n",
       "      <th>2022-08-31 00:00:00</th>\n",
       "      <td>-0.010835</td>\n",
       "      <td>-0.102478</td>\n",
       "      <td>-0.040986</td>\n",
       "      <td>-0.125302</td>\n",
       "      <td>0.025706</td>\n",
       "      <td>0.041190</td>\n",
       "      <td>-0.093998</td>\n",
       "      <td>-0.056887</td>\n",
       "      <td>-0.023739</td>\n",
       "      <td>-0.069899</td>\n",
       "      <td>...</td>\n",
       "      <td>-0.127152</td>\n",
       "      <td>-0.196648</td>\n",
       "      <td>-0.180800</td>\n",
       "      <td>-0.033070</td>\n",
       "      <td>-0.117771</td>\n",
       "      <td>-0.055794</td>\n",
       "      <td>-0.111129</td>\n",
       "      <td>-0.116587</td>\n",
       "      <td>-0.143667</td>\n",
       "      <td>-0.022415</td>\n",
       "    </tr>\n",
       "    <tr>\n",
       "      <th>2022-09-30 00:00:00</th>\n",
       "      <td>-0.021275</td>\n",
       "      <td>-0.018784</td>\n",
       "      <td>-0.096104</td>\n",
       "      <td>-0.106440</td>\n",
       "      <td>-0.140093</td>\n",
       "      <td>-0.139008</td>\n",
       "      <td>-0.152102</td>\n",
       "      <td>-0.136875</td>\n",
       "      <td>-0.178441</td>\n",
       "      <td>-0.037800</td>\n",
       "      <td>...</td>\n",
       "      <td>-0.230752</td>\n",
       "      <td>-0.072323</td>\n",
       "      <td>-0.075520</td>\n",
       "      <td>-0.015894</td>\n",
       "      <td>-0.083421</td>\n",
       "      <td>-0.043272</td>\n",
       "      <td>-0.176591</td>\n",
       "      <td>-0.076556</td>\n",
       "      <td>-0.243400</td>\n",
       "      <td>-0.033472</td>\n",
       "    </tr>\n",
       "    <tr>\n",
       "      <th>2022-10-31 00:00:00</th>\n",
       "      <td>0.007306</td>\n",
       "      <td>0.112214</td>\n",
       "      <td>0.259085</td>\n",
       "      <td>-0.085763</td>\n",
       "      <td>0.133226</td>\n",
       "      <td>0.093304</td>\n",
       "      <td>0.266372</td>\n",
       "      <td>0.100544</td>\n",
       "      <td>-0.034818</td>\n",
       "      <td>0.155775</td>\n",
       "      <td>...</td>\n",
       "      <td>0.060888</td>\n",
       "      <td>-0.071266</td>\n",
       "      <td>0.099971</td>\n",
       "      <td>0.037124</td>\n",
       "      <td>0.047420</td>\n",
       "      <td>-0.116133</td>\n",
       "      <td>0.177423</td>\n",
       "      <td>0.131131</td>\n",
       "      <td>0.123835</td>\n",
       "      <td>-0.068044</td>\n",
       "    </tr>\n",
       "    <tr>\n",
       "      <th>2022-11-30 00:00:00</th>\n",
       "      <td>0.041823</td>\n",
       "      <td>0.235494</td>\n",
       "      <td>0.120450</td>\n",
       "      <td>0.131215</td>\n",
       "      <td>0.099654</td>\n",
       "      <td>0.025725</td>\n",
       "      <td>0.230466</td>\n",
       "      <td>0.172048</td>\n",
       "      <td>0.071487</td>\n",
       "      <td>0.071967</td>\n",
       "      <td>...</td>\n",
       "      <td>0.124657</td>\n",
       "      <td>0.209725</td>\n",
       "      <td>0.102712</td>\n",
       "      <td>0.049027</td>\n",
       "      <td>0.121188</td>\n",
       "      <td>0.152468</td>\n",
       "      <td>0.129493</td>\n",
       "      <td>0.133878</td>\n",
       "      <td>0.027978</td>\n",
       "      <td>0.249887</td>\n",
       "    </tr>\n",
       "    <tr>\n",
       "      <th>2022-12-31 00:00:00</th>\n",
       "      <td>0.016120</td>\n",
       "      <td>0.047042</td>\n",
       "      <td>-0.006032</td>\n",
       "      <td>-0.052601</td>\n",
       "      <td>-0.071316</td>\n",
       "      <td>0.038860</td>\n",
       "      <td>-0.010577</td>\n",
       "      <td>-0.032565</td>\n",
       "      <td>-0.019175</td>\n",
       "      <td>0.042942</td>\n",
       "      <td>...</td>\n",
       "      <td>0.043204</td>\n",
       "      <td>-0.080277</td>\n",
       "      <td>-0.007777</td>\n",
       "      <td>0.010542</td>\n",
       "      <td>-0.055814</td>\n",
       "      <td>0.014254</td>\n",
       "      <td>-0.029889</td>\n",
       "      <td>-0.024572</td>\n",
       "      <td>0.111392</td>\n",
       "      <td>0.032286</td>\n",
       "    </tr>\n",
       "  </tbody>\n",
       "</table>\n",
       "<p>180 rows × 508 columns</p>\n",
       "</div>"
      ],
      "text/plain": [
       "NAME                 FLUGHAFEN WIEN  ERSTE GROUP BANK       OMV   VERBUND  \\\n",
       "2008-01-31 00:00:00             NaN               NaN       NaN       NaN   \n",
       "2008-02-29 00:00:00        0.032575          0.090471  0.023188  0.140411   \n",
       "2008-03-31 00:00:00        0.055828          0.112924 -0.087828 -0.040479   \n",
       "2008-04-30 00:00:00        0.045254          0.141740  0.137252  0.083896   \n",
       "2008-05-31 00:00:00       -0.091365          0.026788  0.090208  0.089625   \n",
       "...                             ...               ...       ...       ...   \n",
       "2022-08-31 00:00:00       -0.010835         -0.102478 -0.040986 -0.125302   \n",
       "2022-09-30 00:00:00       -0.021275         -0.018784 -0.096104 -0.106440   \n",
       "2022-10-31 00:00:00        0.007306          0.112214  0.259085 -0.085763   \n",
       "2022-11-30 00:00:00        0.041823          0.235494  0.120450  0.131215   \n",
       "2022-12-31 00:00:00        0.016120          0.047042 -0.006032 -0.052601   \n",
       "\n",
       "NAME                 WIENERBERGER  VIENNA INSURANCE GROUP A  VOESTALPINE  \\\n",
       "2008-01-31 00:00:00           NaN                       NaN          NaN   \n",
       "2008-02-29 00:00:00      0.073832                  0.102771     0.045840   \n",
       "2008-03-31 00:00:00      0.095491                 -0.085481     0.098728   \n",
       "2008-04-30 00:00:00      0.079685                  0.186688     0.099805   \n",
       "2008-05-31 00:00:00     -0.080877                  0.014728     0.085671   \n",
       "...                           ...                       ...          ...   \n",
       "2022-08-31 00:00:00      0.025706                  0.041190    -0.093998   \n",
       "2022-09-30 00:00:00     -0.140093                 -0.139008    -0.152102   \n",
       "2022-10-31 00:00:00      0.133226                  0.093304     0.266372   \n",
       "2022-11-30 00:00:00      0.099654                  0.025725     0.230466   \n",
       "2022-12-31 00:00:00     -0.071316                  0.038860    -0.010577   \n",
       "\n",
       "NAME                 MAYR-MELNHOF KARTON  IMMOFINANZ    SOLVAY  ...    FABEGE  \\\n",
       "2008-01-31 00:00:00                  NaN         NaN       NaN  ...       NaN   \n",
       "2008-02-29 00:00:00             0.048470    0.163006  0.016291  ...  0.170046   \n",
       "2008-03-31 00:00:00            -0.011424   -0.002730  0.013323  ... -0.031950   \n",
       "2008-04-30 00:00:00             0.032990    0.015511  0.147908  ... -0.123614   \n",
       "2008-05-31 00:00:00            -0.006339    0.065694 -0.025875  ... -0.068399   \n",
       "...                                  ...         ...       ...  ...       ...   \n",
       "2022-08-31 00:00:00            -0.056887   -0.023739 -0.069899  ... -0.127152   \n",
       "2022-09-30 00:00:00            -0.136875   -0.178441 -0.037800  ... -0.230752   \n",
       "2022-10-31 00:00:00             0.100544   -0.034818  0.155775  ...  0.060888   \n",
       "2022-11-30 00:00:00             0.172048    0.071487  0.071967  ...  0.124657   \n",
       "2022-12-31 00:00:00            -0.032565   -0.019175  0.042942  ...  0.043204   \n",
       "\n",
       "NAME                 KINNEVIK B  INVESTOR A  \\\n",
       "2008-01-31 00:00:00         NaN         NaN   \n",
       "2008-02-29 00:00:00   -0.012405    0.083654   \n",
       "2008-03-31 00:00:00   -0.018311    0.054658   \n",
       "2008-04-30 00:00:00    0.127543    0.052127   \n",
       "2008-05-31 00:00:00    0.015626    0.046882   \n",
       "...                         ...         ...   \n",
       "2022-08-31 00:00:00   -0.196648   -0.180800   \n",
       "2022-09-30 00:00:00   -0.072323   -0.075520   \n",
       "2022-10-31 00:00:00   -0.071266    0.099971   \n",
       "2022-11-30 00:00:00    0.209725    0.102712   \n",
       "2022-12-31 00:00:00   -0.080277   -0.007777   \n",
       "\n",
       "NAME                 SWEDISH MATCH DEAD - DELIST.02/01/23  HEXAGON B  \\\n",
       "2008-01-31 00:00:00                                   NaN        NaN   \n",
       "2008-02-29 00:00:00                              0.078073   0.193693   \n",
       "2008-03-31 00:00:00                             -0.070762  -0.014515   \n",
       "2008-04-30 00:00:00                              0.004624  -0.108774   \n",
       "2008-05-31 00:00:00                             -0.073898   0.140086   \n",
       "...                                                   ...        ...   \n",
       "2022-08-31 00:00:00                             -0.033070  -0.117771   \n",
       "2022-09-30 00:00:00                             -0.015894  -0.083421   \n",
       "2022-10-31 00:00:00                              0.037124   0.047420   \n",
       "2022-11-30 00:00:00                              0.049027   0.121188   \n",
       "2022-12-31 00:00:00                              0.010542  -0.055814   \n",
       "\n",
       "NAME                 NIBE INDUSTRIER  ELECTROLUX B  ATLAS COPCO A  \\\n",
       "2008-01-31 00:00:00              NaN           NaN            NaN   \n",
       "2008-02-29 00:00:00        -0.020207      0.047658       0.117851   \n",
       "2008-03-31 00:00:00        -0.037898      0.014449       0.088730   \n",
       "2008-04-30 00:00:00        -0.108246     -0.066467      -0.059393   \n",
       "2008-05-31 00:00:00        -0.035931     -0.061523       0.098997   \n",
       "...                              ...           ...            ...   \n",
       "2022-08-31 00:00:00        -0.055794     -0.111129      -0.116587   \n",
       "2022-09-30 00:00:00        -0.043272     -0.176591      -0.076556   \n",
       "2022-10-31 00:00:00        -0.116133      0.177423       0.131131   \n",
       "2022-11-30 00:00:00         0.152468      0.129493       0.133878   \n",
       "2022-12-31 00:00:00         0.014254     -0.029889      -0.024572   \n",
       "\n",
       "NAME                 MODERN TIMES GROUP MTG B  BOLIDEN ORD SHS  \n",
       "2008-01-31 00:00:00                       NaN              NaN  \n",
       "2008-02-29 00:00:00                  0.102427         0.286286  \n",
       "2008-03-31 00:00:00                  0.063058        -0.073111  \n",
       "2008-04-30 00:00:00                  0.051475         0.020626  \n",
       "2008-05-31 00:00:00                 -0.050625        -0.020701  \n",
       "...                                       ...              ...  \n",
       "2022-08-31 00:00:00                 -0.143667        -0.022415  \n",
       "2022-09-30 00:00:00                 -0.243400        -0.033472  \n",
       "2022-10-31 00:00:00                  0.123835        -0.068044  \n",
       "2022-11-30 00:00:00                  0.027978         0.249887  \n",
       "2022-12-31 00:00:00                  0.111392         0.032286  \n",
       "\n",
       "[180 rows x 508 columns]"
      ]
     },
     "execution_count": 33,
>>>>>>> caa640482ff8c8e3a495b1dc82d47aae396c508b
     "metadata": {},
     "output_type": "execute_result"
    }
   ],
   "source": [
    "dfmreturns"
<<<<<<< HEAD
   ],
   "metadata": {
    "collapsed": false,
    "ExecuteTime": {
     "end_time": "2024-03-06T10:23:30.452360Z",
     "start_time": "2024-03-06T10:23:30.371048Z"
    }
   }
  },
  {
   "cell_type": "code",
   "execution_count": 26,
   "outputs": [],
   "source": [
    "dfannualizedreturns = dfmreturns.mean() * 12"
   ],
=======
   ]
  },
  {
   "cell_type": "code",
   "execution_count": 36,
>>>>>>> caa640482ff8c8e3a495b1dc82d47aae396c508b
   "metadata": {
    "ExecuteTime": {
<<<<<<< HEAD
     "end_time": "2024-03-06T10:23:58.812908Z",
     "start_time": "2024-03-06T10:23:58.673497Z"
    }
   }
=======
     "end_time": "2024-03-05T09:00:12.672870Z",
     "start_time": "2024-03-05T09:00:12.627352Z"
    },
    "collapsed": false
   },
   "outputs": [],
   "source": [
    "dfannualizedreturns = dfmreturns.mean() * 12"
   ]
>>>>>>> caa640482ff8c8e3a495b1dc82d47aae396c508b
  },
  {
   "cell_type": "code",
   "execution_count": 37,
   "metadata": {
    "ExecuteTime": {
     "end_time": "2024-03-05T09:00:38.487519Z",
     "start_time": "2024-03-05T09:00:38.410989Z"
    },
    "collapsed": false
   },
   "outputs": [
    {
     "data": {
      "text/plain": [
       "NAME\n",
       "FLUGHAFEN WIEN              0.065887\n",
       "ERSTE GROUP BANK            0.103001\n",
       "OMV                         0.055039\n",
       "VERBUND                     0.081249\n",
       "WIENERBERGER                0.075192\n",
       "                              ...   \n",
       "NIBE INDUSTRIER             0.263831\n",
       "ELECTROLUX B                0.052809\n",
       "ATLAS COPCO A               0.131840\n",
       "MODERN TIMES GROUP MTG B    0.060201\n",
       "BOLIDEN ORD SHS             0.201660\n",
       "Length: 508, dtype: float64"
      ]
     },
     "execution_count": 37,
     "metadata": {},
     "output_type": "execute_result"
    }
   ],
   "source": [
    "dfannualizedreturns"
   ]
  },
  {
   "cell_type": "code",
<<<<<<< HEAD
   "execution_count": 27,
=======
   "execution_count": 38,
   "metadata": {
    "ExecuteTime": {
     "end_time": "2024-03-05T09:00:40.770961Z",
     "start_time": "2024-03-05T09:00:39.681334Z"
    },
    "collapsed": false
   },
>>>>>>> caa640482ff8c8e3a495b1dc82d47aae396c508b
   "outputs": [
    {
     "data": {
      "text/plain": [
       "<AxesSubplot:xlabel='NAME'>"
      ]
     },
<<<<<<< HEAD
     "execution_count": 27,
=======
     "execution_count": 38,
>>>>>>> caa640482ff8c8e3a495b1dc82d47aae396c508b
     "metadata": {},
     "output_type": "execute_result"
    },
    {
     "data": {
<<<<<<< HEAD
      "text/plain": "<Figure size 640x480 with 1 Axes>",
      "image/png": "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"
=======
      "image/png": "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",
      "text/plain": [
       "<Figure size 432x288 with 1 Axes>"
      ]
     },
     "metadata": {
      "needs_background": "light"
>>>>>>> caa640482ff8c8e3a495b1dc82d47aae396c508b
     },
     "output_type": "display_data"
    }
   ],
   "source": [
    "dfannualizedreturns.plot()"
<<<<<<< HEAD
   ],
   "metadata": {
    "collapsed": false,
    "ExecuteTime": {
     "end_time": "2024-03-06T10:24:05.666744Z",
     "start_time": "2024-03-06T10:24:04.250490Z"
    }
   }
  },
  {
   "cell_type": "code",
   "execution_count": 28,
   "outputs": [
    {
     "data": {
      "text/plain": "<Axes: ylabel='Count'>"
     },
     "execution_count": 28,
     "metadata": {},
     "output_type": "execute_result"
    },
    {
     "data": {
      "text/plain": "<Figure size 640x480 with 1 Axes>",
      "image/png": "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"
=======
   ]
  },
  {
   "cell_type": "code",
   "execution_count": 39,
   "metadata": {
    "ExecuteTime": {
     "end_time": "2024-03-05T09:00:48.906388Z",
     "start_time": "2024-03-05T09:00:40.611311Z"
    },
    "collapsed": false
   },
   "outputs": [
    {
     "ename": "OptionError",
     "evalue": "No such keys(s): 'mode.use_inf_as_null'",
     "output_type": "error",
     "traceback": [
      "\u001b[1;31m---------------------------------------------------------------------------\u001b[0m",
      "\u001b[1;31mOptionError\u001b[0m                               Traceback (most recent call last)",
      "Input \u001b[1;32mIn [39]\u001b[0m, in \u001b[0;36m<cell line: 1>\u001b[1;34m()\u001b[0m\n\u001b[1;32m----> 1\u001b[0m \u001b[43msns\u001b[49m\u001b[38;5;241;43m.\u001b[39;49m\u001b[43mhistplot\u001b[49m\u001b[43m(\u001b[49m\u001b[43mdfannualizedreturns\u001b[49m\u001b[43m)\u001b[49m\n",
      "File \u001b[1;32mc:\\Users\\giamm\\AppData\\Local\\Programs\\Python\\Python310\\lib\\site-packages\\seaborn\\distributions.py:1462\u001b[0m, in \u001b[0;36mhistplot\u001b[1;34m(data, x, y, hue, weights, stat, bins, binwidth, binrange, discrete, cumulative, common_bins, common_norm, multiple, element, fill, shrink, kde, kde_kws, line_kws, thresh, pthresh, pmax, cbar, cbar_ax, cbar_kws, palette, hue_order, hue_norm, color, log_scale, legend, ax, **kwargs)\u001b[0m\n\u001b[0;32m   1451\u001b[0m estimate_kws \u001b[38;5;241m=\u001b[39m \u001b[38;5;28mdict\u001b[39m(\n\u001b[0;32m   1452\u001b[0m     stat\u001b[38;5;241m=\u001b[39mstat,\n\u001b[0;32m   1453\u001b[0m     bins\u001b[38;5;241m=\u001b[39mbins,\n\u001b[1;32m   (...)\u001b[0m\n\u001b[0;32m   1457\u001b[0m     cumulative\u001b[38;5;241m=\u001b[39mcumulative,\n\u001b[0;32m   1458\u001b[0m )\n\u001b[0;32m   1460\u001b[0m \u001b[38;5;28;01mif\u001b[39;00m p\u001b[38;5;241m.\u001b[39munivariate:\n\u001b[1;32m-> 1462\u001b[0m     p\u001b[38;5;241m.\u001b[39mplot_univariate_histogram(\n\u001b[0;32m   1463\u001b[0m         multiple\u001b[38;5;241m=\u001b[39mmultiple,\n\u001b[0;32m   1464\u001b[0m         element\u001b[38;5;241m=\u001b[39melement,\n\u001b[0;32m   1465\u001b[0m         fill\u001b[38;5;241m=\u001b[39mfill,\n\u001b[0;32m   1466\u001b[0m         shrink\u001b[38;5;241m=\u001b[39mshrink,\n\u001b[0;32m   1467\u001b[0m         common_norm\u001b[38;5;241m=\u001b[39mcommon_norm,\n\u001b[0;32m   1468\u001b[0m         common_bins\u001b[38;5;241m=\u001b[39mcommon_bins,\n\u001b[0;32m   1469\u001b[0m         kde\u001b[38;5;241m=\u001b[39mkde,\n\u001b[0;32m   1470\u001b[0m         kde_kws\u001b[38;5;241m=\u001b[39mkde_kws,\n\u001b[0;32m   1471\u001b[0m         color\u001b[38;5;241m=\u001b[39mcolor,\n\u001b[0;32m   1472\u001b[0m         legend\u001b[38;5;241m=\u001b[39mlegend,\n\u001b[0;32m   1473\u001b[0m         estimate_kws\u001b[38;5;241m=\u001b[39mestimate_kws,\n\u001b[0;32m   1474\u001b[0m         line_kws\u001b[38;5;241m=\u001b[39mline_kws,\n\u001b[0;32m   1475\u001b[0m         \u001b[38;5;241m*\u001b[39m\u001b[38;5;241m*\u001b[39mkwargs,\n\u001b[0;32m   1476\u001b[0m     )\n\u001b[0;32m   1478\u001b[0m \u001b[38;5;28;01melse\u001b[39;00m:\n\u001b[0;32m   1480\u001b[0m     p\u001b[38;5;241m.\u001b[39mplot_bivariate_histogram(\n\u001b[0;32m   1481\u001b[0m         common_bins\u001b[38;5;241m=\u001b[39mcommon_bins,\n\u001b[0;32m   1482\u001b[0m         common_norm\u001b[38;5;241m=\u001b[39mcommon_norm,\n\u001b[1;32m   (...)\u001b[0m\n\u001b[0;32m   1492\u001b[0m         \u001b[38;5;241m*\u001b[39m\u001b[38;5;241m*\u001b[39mkwargs,\n\u001b[0;32m   1493\u001b[0m     )\n",
      "File \u001b[1;32mc:\\Users\\giamm\\AppData\\Local\\Programs\\Python\\Python310\\lib\\site-packages\\seaborn\\distributions.py:428\u001b[0m, in \u001b[0;36m_DistributionPlotter.plot_univariate_histogram\u001b[1;34m(self, multiple, element, fill, common_norm, common_bins, shrink, kde, kde_kws, color, legend, line_kws, estimate_kws, **plot_kws)\u001b[0m\n\u001b[0;32m    418\u001b[0m     densities \u001b[38;5;241m=\u001b[39m \u001b[38;5;28mself\u001b[39m\u001b[38;5;241m.\u001b[39m_compute_univariate_density(\n\u001b[0;32m    419\u001b[0m         \u001b[38;5;28mself\u001b[39m\u001b[38;5;241m.\u001b[39mdata_variable,\n\u001b[0;32m    420\u001b[0m         common_norm,\n\u001b[1;32m   (...)\u001b[0m\n\u001b[0;32m    424\u001b[0m         warn_singular\u001b[38;5;241m=\u001b[39m\u001b[38;5;28;01mFalse\u001b[39;00m,\n\u001b[0;32m    425\u001b[0m     )\n\u001b[0;32m    427\u001b[0m \u001b[38;5;66;03m# First pass through the data to compute the histograms\u001b[39;00m\n\u001b[1;32m--> 428\u001b[0m \u001b[38;5;28;01mfor\u001b[39;00m sub_vars, sub_data \u001b[38;5;129;01min\u001b[39;00m \u001b[38;5;28mself\u001b[39m\u001b[38;5;241m.\u001b[39miter_data(\u001b[38;5;124m\"\u001b[39m\u001b[38;5;124mhue\u001b[39m\u001b[38;5;124m\"\u001b[39m, from_comp_data\u001b[38;5;241m=\u001b[39m\u001b[38;5;28;01mTrue\u001b[39;00m):\n\u001b[0;32m    429\u001b[0m \n\u001b[0;32m    430\u001b[0m     \u001b[38;5;66;03m# Prepare the relevant data\u001b[39;00m\n\u001b[0;32m    431\u001b[0m     key \u001b[38;5;241m=\u001b[39m \u001b[38;5;28mtuple\u001b[39m(sub_vars\u001b[38;5;241m.\u001b[39mitems())\n\u001b[0;32m    432\u001b[0m     sub_data \u001b[38;5;241m=\u001b[39m sub_data\u001b[38;5;241m.\u001b[39mdropna()\n",
      "File \u001b[1;32mc:\\Users\\giamm\\AppData\\Local\\Programs\\Python\\Python310\\lib\\site-packages\\seaborn\\_core.py:983\u001b[0m, in \u001b[0;36mVectorPlotter.iter_data\u001b[1;34m(self, grouping_vars, reverse, from_comp_data)\u001b[0m\n\u001b[0;32m    978\u001b[0m grouping_vars \u001b[38;5;241m=\u001b[39m [\n\u001b[0;32m    979\u001b[0m     var \u001b[38;5;28;01mfor\u001b[39;00m var \u001b[38;5;129;01min\u001b[39;00m grouping_vars \u001b[38;5;28;01mif\u001b[39;00m var \u001b[38;5;129;01min\u001b[39;00m \u001b[38;5;28mself\u001b[39m\u001b[38;5;241m.\u001b[39mvariables\n\u001b[0;32m    980\u001b[0m ]\n\u001b[0;32m    982\u001b[0m \u001b[38;5;28;01mif\u001b[39;00m from_comp_data:\n\u001b[1;32m--> 983\u001b[0m     data \u001b[38;5;241m=\u001b[39m \u001b[38;5;28;43mself\u001b[39;49m\u001b[38;5;241;43m.\u001b[39;49m\u001b[43mcomp_data\u001b[49m\n\u001b[0;32m    984\u001b[0m \u001b[38;5;28;01melse\u001b[39;00m:\n\u001b[0;32m    985\u001b[0m     data \u001b[38;5;241m=\u001b[39m \u001b[38;5;28mself\u001b[39m\u001b[38;5;241m.\u001b[39mplot_data\n",
      "File \u001b[1;32mc:\\Users\\giamm\\AppData\\Local\\Programs\\Python\\Python310\\lib\\site-packages\\seaborn\\_core.py:1054\u001b[0m, in \u001b[0;36mVectorPlotter.comp_data\u001b[1;34m(self)\u001b[0m\n\u001b[0;32m   1050\u001b[0m axis \u001b[38;5;241m=\u001b[39m \u001b[38;5;28mgetattr\u001b[39m(ax, \u001b[38;5;124mf\u001b[39m\u001b[38;5;124m\"\u001b[39m\u001b[38;5;132;01m{\u001b[39;00mvar\u001b[38;5;132;01m}\u001b[39;00m\u001b[38;5;124maxis\u001b[39m\u001b[38;5;124m\"\u001b[39m)\n\u001b[0;32m   1052\u001b[0m \u001b[38;5;66;03m# Use the converter assigned to the axis to get a float representation\u001b[39;00m\n\u001b[0;32m   1053\u001b[0m \u001b[38;5;66;03m# of the data, passing np.nan or pd.NA through (pd.NA becomes np.nan)\u001b[39;00m\n\u001b[1;32m-> 1054\u001b[0m \u001b[38;5;28;01mwith\u001b[39;00m pd\u001b[38;5;241m.\u001b[39moption_context(\u001b[38;5;124m'\u001b[39m\u001b[38;5;124mmode.use_inf_as_null\u001b[39m\u001b[38;5;124m'\u001b[39m, \u001b[38;5;28;01mTrue\u001b[39;00m):\n\u001b[0;32m   1055\u001b[0m     orig \u001b[38;5;241m=\u001b[39m \u001b[38;5;28mself\u001b[39m\u001b[38;5;241m.\u001b[39mplot_data[var]\u001b[38;5;241m.\u001b[39mdropna()\n\u001b[0;32m   1056\u001b[0m comp_col \u001b[38;5;241m=\u001b[39m pd\u001b[38;5;241m.\u001b[39mSeries(index\u001b[38;5;241m=\u001b[39morig\u001b[38;5;241m.\u001b[39mindex, dtype\u001b[38;5;241m=\u001b[39m\u001b[38;5;28mfloat\u001b[39m, name\u001b[38;5;241m=\u001b[39mvar)\n",
      "File \u001b[1;32mc:\\Users\\giamm\\AppData\\Local\\Programs\\Python\\Python310\\lib\\site-packages\\pandas\\_config\\config.py:480\u001b[0m, in \u001b[0;36moption_context.__enter__\u001b[1;34m(self)\u001b[0m\n\u001b[0;32m    479\u001b[0m \u001b[38;5;28;01mdef\u001b[39;00m \u001b[38;5;21m__enter__\u001b[39m(\u001b[38;5;28mself\u001b[39m) \u001b[38;5;241m-\u001b[39m\u001b[38;5;241m>\u001b[39m \u001b[38;5;28;01mNone\u001b[39;00m:\n\u001b[1;32m--> 480\u001b[0m     \u001b[38;5;28mself\u001b[39m\u001b[38;5;241m.\u001b[39mundo \u001b[38;5;241m=\u001b[39m [(pat, _get_option(pat)) \u001b[38;5;28;01mfor\u001b[39;00m pat, val \u001b[38;5;129;01min\u001b[39;00m \u001b[38;5;28mself\u001b[39m\u001b[38;5;241m.\u001b[39mops]\n\u001b[0;32m    482\u001b[0m     \u001b[38;5;28;01mfor\u001b[39;00m pat, val \u001b[38;5;129;01min\u001b[39;00m \u001b[38;5;28mself\u001b[39m\u001b[38;5;241m.\u001b[39mops:\n\u001b[0;32m    483\u001b[0m         _set_option(pat, val, silent\u001b[38;5;241m=\u001b[39m\u001b[38;5;28;01mTrue\u001b[39;00m)\n",
      "File \u001b[1;32mc:\\Users\\giamm\\AppData\\Local\\Programs\\Python\\Python310\\lib\\site-packages\\pandas\\_config\\config.py:480\u001b[0m, in \u001b[0;36m<listcomp>\u001b[1;34m(.0)\u001b[0m\n\u001b[0;32m    479\u001b[0m \u001b[38;5;28;01mdef\u001b[39;00m \u001b[38;5;21m__enter__\u001b[39m(\u001b[38;5;28mself\u001b[39m) \u001b[38;5;241m-\u001b[39m\u001b[38;5;241m>\u001b[39m \u001b[38;5;28;01mNone\u001b[39;00m:\n\u001b[1;32m--> 480\u001b[0m     \u001b[38;5;28mself\u001b[39m\u001b[38;5;241m.\u001b[39mundo \u001b[38;5;241m=\u001b[39m [(pat, \u001b[43m_get_option\u001b[49m\u001b[43m(\u001b[49m\u001b[43mpat\u001b[49m\u001b[43m)\u001b[49m) \u001b[38;5;28;01mfor\u001b[39;00m pat, val \u001b[38;5;129;01min\u001b[39;00m \u001b[38;5;28mself\u001b[39m\u001b[38;5;241m.\u001b[39mops]\n\u001b[0;32m    482\u001b[0m     \u001b[38;5;28;01mfor\u001b[39;00m pat, val \u001b[38;5;129;01min\u001b[39;00m \u001b[38;5;28mself\u001b[39m\u001b[38;5;241m.\u001b[39mops:\n\u001b[0;32m    483\u001b[0m         _set_option(pat, val, silent\u001b[38;5;241m=\u001b[39m\u001b[38;5;28;01mTrue\u001b[39;00m)\n",
      "File \u001b[1;32mc:\\Users\\giamm\\AppData\\Local\\Programs\\Python\\Python310\\lib\\site-packages\\pandas\\_config\\config.py:146\u001b[0m, in \u001b[0;36m_get_option\u001b[1;34m(pat, silent)\u001b[0m\n\u001b[0;32m    145\u001b[0m \u001b[38;5;28;01mdef\u001b[39;00m \u001b[38;5;21m_get_option\u001b[39m(pat: \u001b[38;5;28mstr\u001b[39m, silent: \u001b[38;5;28mbool\u001b[39m \u001b[38;5;241m=\u001b[39m \u001b[38;5;28;01mFalse\u001b[39;00m) \u001b[38;5;241m-\u001b[39m\u001b[38;5;241m>\u001b[39m Any:\n\u001b[1;32m--> 146\u001b[0m     key \u001b[38;5;241m=\u001b[39m \u001b[43m_get_single_key\u001b[49m\u001b[43m(\u001b[49m\u001b[43mpat\u001b[49m\u001b[43m,\u001b[49m\u001b[43m \u001b[49m\u001b[43msilent\u001b[49m\u001b[43m)\u001b[49m\n\u001b[0;32m    148\u001b[0m     \u001b[38;5;66;03m# walk the nested dict\u001b[39;00m\n\u001b[0;32m    149\u001b[0m     root, k \u001b[38;5;241m=\u001b[39m _get_root(key)\n",
      "File \u001b[1;32mc:\\Users\\giamm\\AppData\\Local\\Programs\\Python\\Python310\\lib\\site-packages\\pandas\\_config\\config.py:132\u001b[0m, in \u001b[0;36m_get_single_key\u001b[1;34m(pat, silent)\u001b[0m\n\u001b[0;32m    130\u001b[0m     \u001b[38;5;28;01mif\u001b[39;00m \u001b[38;5;129;01mnot\u001b[39;00m silent:\n\u001b[0;32m    131\u001b[0m         _warn_if_deprecated(pat)\n\u001b[1;32m--> 132\u001b[0m     \u001b[38;5;28;01mraise\u001b[39;00m OptionError(\u001b[38;5;124mf\u001b[39m\u001b[38;5;124m\"\u001b[39m\u001b[38;5;124mNo such keys(s): \u001b[39m\u001b[38;5;132;01m{\u001b[39;00m\u001b[38;5;28mrepr\u001b[39m(pat)\u001b[38;5;132;01m}\u001b[39;00m\u001b[38;5;124m\"\u001b[39m)\n\u001b[0;32m    133\u001b[0m \u001b[38;5;28;01mif\u001b[39;00m \u001b[38;5;28mlen\u001b[39m(keys) \u001b[38;5;241m>\u001b[39m \u001b[38;5;241m1\u001b[39m:\n\u001b[0;32m    134\u001b[0m     \u001b[38;5;28;01mraise\u001b[39;00m OptionError(\u001b[38;5;124m\"\u001b[39m\u001b[38;5;124mPattern matched multiple keys\u001b[39m\u001b[38;5;124m\"\u001b[39m)\n",
      "\u001b[1;31mOptionError\u001b[0m: No such keys(s): 'mode.use_inf_as_null'"
     ]
    },
    {
     "data": {
      "image/png": "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",
      "text/plain": [
       "<Figure size 432x288 with 1 Axes>"
      ]
     },
     "metadata": {
      "needs_background": "light"
>>>>>>> caa640482ff8c8e3a495b1dc82d47aae396c508b
     },
     "output_type": "display_data"
    }
   ],
   "source": [
    "sns.histplot(dfannualizedreturns)"
<<<<<<< HEAD
   ],
   "metadata": {
    "collapsed": false,
    "ExecuteTime": {
     "end_time": "2024-03-06T10:24:19.803277Z",
     "start_time": "2024-03-06T10:24:08.343264Z"
    }
   }
=======
   ]
>>>>>>> caa640482ff8c8e3a495b1dc82d47aae396c508b
  },
  {
   "cell_type": "markdown",
   "metadata": {
    "collapsed": false
   },
   "source": [
    "### Annualized volatility"
   ]
  },
  {
   "cell_type": "code",
<<<<<<< HEAD
   "execution_count": 29,
=======
   "execution_count": 40,
   "metadata": {
    "ExecuteTime": {
     "end_time": "2024-03-05T09:00:49.024672Z",
     "start_time": "2024-03-05T09:00:48.914171Z"
    },
    "collapsed": false
   },
>>>>>>> caa640482ff8c8e3a495b1dc82d47aae396c508b
   "outputs": [
    {
     "data": {
      "text/plain": [
       "NAME\n",
       "FLUGHAFEN WIEN              0.091528\n",
       "ERSTE GROUP BANK            0.138056\n",
       "OMV                         0.108334\n",
       "VERBUND                     0.097245\n",
       "WIENERBERGER                0.126344\n",
       "                              ...   \n",
       "NIBE INDUSTRIER             0.099388\n",
       "ELECTROLUX B                0.106980\n",
       "ATLAS COPCO A               0.090878\n",
       "MODERN TIMES GROUP MTG B    0.142225\n",
       "BOLIDEN ORD SHS             0.138877\n",
       "Length: 508, dtype: float64"
      ]
     },
<<<<<<< HEAD
     "execution_count": 29,
=======
     "execution_count": 40,
>>>>>>> caa640482ff8c8e3a495b1dc82d47aae396c508b
     "metadata": {},
     "output_type": "execute_result"
    }
   ],
   "source": [
    "deviations = dfmreturns - dfmreturns.mean()\n",
    "squared_deviations = deviations**2\n",
    "mean_squared_deviations = squared_deviations.mean()\n",
    "\n",
    "dfmvolatility = np.sqrt(mean_squared_deviations)\n",
    "dfmvolatility"
<<<<<<< HEAD
   ],
   "metadata": {
    "collapsed": false,
    "ExecuteTime": {
     "end_time": "2024-03-06T10:24:19.948350Z",
     "start_time": "2024-03-06T10:24:19.789501Z"
    }
   }
  },
  {
   "cell_type": "code",
   "execution_count": 30,
=======
   ]
  },
  {
   "cell_type": "code",
   "execution_count": 60,
   "metadata": {
    "ExecuteTime": {
     "end_time": "2024-03-05T09:00:49.025794Z",
     "start_time": "2024-03-05T09:00:48.948062Z"
    },
    "collapsed": false
   },
>>>>>>> caa640482ff8c8e3a495b1dc82d47aae396c508b
   "outputs": [
    {
     "data": {
      "text/plain": [
       "NAME\n",
       "FLUGHAFEN WIEN              0.317062\n",
       "ERSTE GROUP BANK            0.478240\n",
       "OMV                         0.375280\n",
       "VERBUND                     0.336867\n",
       "WIENERBERGER                0.437669\n",
       "                              ...   \n",
       "NIBE INDUSTRIER             0.344290\n",
       "ELECTROLUX B                0.370590\n",
       "ATLAS COPCO A               0.314810\n",
       "MODERN TIMES GROUP MTG B    0.492681\n",
       "BOLIDEN ORD SHS             0.481085\n",
       "Length: 508, dtype: float64"
      ]
     },
<<<<<<< HEAD
     "execution_count": 30,
=======
     "execution_count": 60,
>>>>>>> caa640482ff8c8e3a495b1dc82d47aae396c508b
     "metadata": {},
     "output_type": "execute_result"
    }
   ],
   "source": [
    "dfannualizedvolatility = dfmvolatility*(12**0.5)\n",
    "dfannualizedvolatility"
<<<<<<< HEAD
   ],
   "metadata": {
    "collapsed": false,
    "ExecuteTime": {
     "end_time": "2024-03-06T10:25:51.830614Z",
     "start_time": "2024-03-06T10:25:51.756602Z"
    }
   }
  },
  {
   "cell_type": "code",
   "execution_count": 31,
=======
   ]
  },
  {
   "cell_type": "code",
   "execution_count": 42,
   "metadata": {
    "ExecuteTime": {
     "end_time": "2024-03-05T09:00:49.632798Z",
     "start_time": "2024-03-05T09:00:49.007265Z"
    },
    "collapsed": false
   },
>>>>>>> caa640482ff8c8e3a495b1dc82d47aae396c508b
   "outputs": [
    {
     "data": {
      "text/plain": [
       "<AxesSubplot:xlabel='NAME'>"
      ]
     },
<<<<<<< HEAD
     "execution_count": 31,
=======
     "execution_count": 42,
>>>>>>> caa640482ff8c8e3a495b1dc82d47aae396c508b
     "metadata": {},
     "output_type": "execute_result"
    },
    {
     "data": {
      "image/png": "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",
      "text/plain": [
       "<Figure size 432x288 with 1 Axes>"
      ]
     },
     "metadata": {
      "needs_background": "light"
     },
     "output_type": "display_data"
    }
   ],
   "source": [
    "dfannualizedvolatility.plot()"
<<<<<<< HEAD
   ],
   "metadata": {
    "collapsed": false,
    "ExecuteTime": {
     "end_time": "2024-03-06T10:25:55.673577Z",
     "start_time": "2024-03-06T10:25:55.149596Z"
    }
   }
=======
   ]
>>>>>>> caa640482ff8c8e3a495b1dc82d47aae396c508b
  },
  {
   "cell_type": "markdown",
   "metadata": {
    "collapsed": false
   },
   "source": [
    "Compute and comment on the correlation between individual average RIs and volatilities in the cross section."
   ]
  },
  {
   "cell_type": "markdown",
   "metadata": {
    "collapsed": false
   },
   "source": [
    "### Correlation"
   ]
  },
  {
   "cell_type": "code",
<<<<<<< HEAD
   "execution_count": 32,
   "outputs": [],
   "source": [
    "df = pd.DataFrame()\n",
    "df[\"returns\"]=dfannualizedreturns"
   ],
   "metadata": {
    "collapsed": false,
    "ExecuteTime": {
     "end_time": "2024-03-06T10:26:03.415764Z",
     "start_time": "2024-03-06T10:26:03.209826Z"
    }
   }
  },
  {
   "cell_type": "code",
   "execution_count": 33,
   "outputs": [],
   "source": [
    "df[\"volatility\"]=dfannualizedvolatility"
   ],
   "metadata": {
    "collapsed": false,
    "ExecuteTime": {
     "end_time": "2024-03-06T10:26:04.464473Z",
     "start_time": "2024-03-06T10:26:04.219281Z"
    }
   }
  },
  {
   "cell_type": "code",
   "execution_count": 34,
   "outputs": [
    {
     "data": {
      "text/plain": "<bound method DataFrame.corr of                            returns  volatility\nNAME                                          \nFLUGHAFEN WIEN            0.065887    0.317062\nERSTE GROUP BANK          0.103001    0.478240\nOMV                       0.055039    0.375280\nVERBUND                   0.081249    0.336867\nWIENERBERGER              0.075192    0.437669\n...                            ...         ...\nNIBE INDUSTRIER           0.263831    0.344290\nELECTROLUX B              0.052809    0.370590\nATLAS COPCO A             0.131840    0.314810\nMODERN TIMES GROUP MTG B  0.060201    0.492681\nBOLIDEN ORD SHS           0.201660    0.481085\n\n[508 rows x 2 columns]>"
     },
     "execution_count": 34,
=======
   "execution_count": 112,
   "metadata": {},
   "outputs": [],
   "source": [
    "df = pd.DataFrame({'name': [], \n",
    "        'returns': [],\n",
    "        'volatility': [],\n",
    "        'corr' : []})"
   ]
  },
  {
   "cell_type": "code",
   "execution_count": 113,
   "metadata": {},
   "outputs": [],
   "source": [
    "df.name =  dfannualizedreturns.index"
   ]
  },
  {
   "cell_type": "code",
   "execution_count": 124,
   "metadata": {},
   "outputs": [],
   "source": [
    "df['returns'] = dfannualizedreturns.tolist()"
   ]
  },
  {
   "cell_type": "code",
   "execution_count": 122,
   "metadata": {},
   "outputs": [],
   "source": [
    "df.volatility = dfannualizedvolatility.tolist()"
   ]
  },
  {
   "cell_type": "code",
   "execution_count": 127,
   "metadata": {},
   "outputs": [],
   "source": [
    "df['corr'] = df.returns.rolling(4).corr(df.volatility)"
   ]
  },
  {
   "cell_type": "code",
   "execution_count": 128,
   "metadata": {},
   "outputs": [
    {
     "data": {
      "text/html": [
       "<div>\n",
       "<style scoped>\n",
       "    .dataframe tbody tr th:only-of-type {\n",
       "        vertical-align: middle;\n",
       "    }\n",
       "\n",
       "    .dataframe tbody tr th {\n",
       "        vertical-align: top;\n",
       "    }\n",
       "\n",
       "    .dataframe thead th {\n",
       "        text-align: right;\n",
       "    }\n",
       "</style>\n",
       "<table border=\"1\" class=\"dataframe\">\n",
       "  <thead>\n",
       "    <tr style=\"text-align: right;\">\n",
       "      <th></th>\n",
       "      <th>name</th>\n",
       "      <th>returns</th>\n",
       "      <th>volatility</th>\n",
       "      <th>corr</th>\n",
       "    </tr>\n",
       "  </thead>\n",
       "  <tbody>\n",
       "    <tr>\n",
       "      <th>0</th>\n",
       "      <td>FLUGHAFEN WIEN</td>\n",
       "      <td>0.065887</td>\n",
       "      <td>0.317062</td>\n",
       "      <td>NaN</td>\n",
       "    </tr>\n",
       "    <tr>\n",
       "      <th>1</th>\n",
       "      <td>ERSTE GROUP BANK</td>\n",
       "      <td>0.103001</td>\n",
       "      <td>0.478240</td>\n",
       "      <td>NaN</td>\n",
       "    </tr>\n",
       "    <tr>\n",
       "      <th>2</th>\n",
       "      <td>OMV</td>\n",
       "      <td>0.055039</td>\n",
       "      <td>0.375280</td>\n",
       "      <td>NaN</td>\n",
       "    </tr>\n",
       "    <tr>\n",
       "      <th>3</th>\n",
       "      <td>VERBUND</td>\n",
       "      <td>0.081249</td>\n",
       "      <td>0.336867</td>\n",
       "      <td>0.706725</td>\n",
       "    </tr>\n",
       "    <tr>\n",
       "      <th>4</th>\n",
       "      <td>WIENERBERGER</td>\n",
       "      <td>0.075192</td>\n",
       "      <td>0.437669</td>\n",
       "      <td>0.587572</td>\n",
       "    </tr>\n",
       "    <tr>\n",
       "      <th>...</th>\n",
       "      <td>...</td>\n",
       "      <td>...</td>\n",
       "      <td>...</td>\n",
       "      <td>...</td>\n",
       "    </tr>\n",
       "    <tr>\n",
       "      <th>503</th>\n",
       "      <td>NIBE INDUSTRIER</td>\n",
       "      <td>0.263831</td>\n",
       "      <td>0.344290</td>\n",
       "      <td>0.796323</td>\n",
       "    </tr>\n",
       "    <tr>\n",
       "      <th>504</th>\n",
       "      <td>ELECTROLUX B</td>\n",
       "      <td>0.052809</td>\n",
       "      <td>0.370590</td>\n",
       "      <td>0.282472</td>\n",
       "    </tr>\n",
       "    <tr>\n",
       "      <th>505</th>\n",
       "      <td>ATLAS COPCO A</td>\n",
       "      <td>0.131840</td>\n",
       "      <td>0.314810</td>\n",
       "      <td>0.034032</td>\n",
       "    </tr>\n",
       "    <tr>\n",
       "      <th>506</th>\n",
       "      <td>MODERN TIMES GROUP MTG B</td>\n",
       "      <td>0.060201</td>\n",
       "      <td>0.492681</td>\n",
       "      <td>-0.524729</td>\n",
       "    </tr>\n",
       "    <tr>\n",
       "      <th>507</th>\n",
       "      <td>BOLIDEN ORD SHS</td>\n",
       "      <td>0.201660</td>\n",
       "      <td>0.481085</td>\n",
       "      <td>0.140432</td>\n",
       "    </tr>\n",
       "  </tbody>\n",
       "</table>\n",
       "<p>508 rows × 4 columns</p>\n",
       "</div>"
      ],
      "text/plain": [
       "                         name   returns  volatility      corr\n",
       "0              FLUGHAFEN WIEN  0.065887    0.317062       NaN\n",
       "1            ERSTE GROUP BANK  0.103001    0.478240       NaN\n",
       "2                         OMV  0.055039    0.375280       NaN\n",
       "3                     VERBUND  0.081249    0.336867  0.706725\n",
       "4                WIENERBERGER  0.075192    0.437669  0.587572\n",
       "..                        ...       ...         ...       ...\n",
       "503           NIBE INDUSTRIER  0.263831    0.344290  0.796323\n",
       "504              ELECTROLUX B  0.052809    0.370590  0.282472\n",
       "505             ATLAS COPCO A  0.131840    0.314810  0.034032\n",
       "506  MODERN TIMES GROUP MTG B  0.060201    0.492681 -0.524729\n",
       "507           BOLIDEN ORD SHS  0.201660    0.481085  0.140432\n",
       "\n",
       "[508 rows x 4 columns]"
      ]
     },
     "execution_count": 128,
>>>>>>> caa640482ff8c8e3a495b1dc82d47aae396c508b
     "metadata": {},
     "output_type": "execute_result"
    }
   ],
   "source": [
<<<<<<< HEAD
    "df.corr"
   ],
   "metadata": {
    "collapsed": false,
    "ExecuteTime": {
     "end_time": "2024-03-06T10:26:05.635971Z",
     "start_time": "2024-03-06T10:26:05.562004Z"
    }
   }
  },
  {
   "cell_type": "code",
   "execution_count": 35,
   "outputs": [
    {
     "ename": "AttributeError",
     "evalue": "'numpy.float64' object has no attribute 'corr'",
     "output_type": "error",
     "traceback": [
      "\u001B[0;31m---------------------------------------------------------------------------\u001B[0m",
      "\u001B[0;31mAttributeError\u001B[0m                            Traceback (most recent call last)",
      "Cell \u001B[0;32mIn[35], line 3\u001B[0m\n\u001B[1;32m      1\u001B[0m df[\u001B[38;5;124m\"\u001B[39m\u001B[38;5;124mcorr\u001B[39m\u001B[38;5;124m\"\u001B[39m] \u001B[38;5;241m=\u001B[39m \u001B[38;5;241m0\u001B[39m\n\u001B[1;32m      2\u001B[0m \u001B[38;5;28;01mfor\u001B[39;00m i \u001B[38;5;129;01min\u001B[39;00m df\u001B[38;5;241m.\u001B[39mindex:\n\u001B[0;32m----> 3\u001B[0m     df\u001B[38;5;241m.\u001B[39mloc[i, \u001B[38;5;124m\"\u001B[39m\u001B[38;5;124mcorr\u001B[39m\u001B[38;5;124m\"\u001B[39m] \u001B[38;5;241m=\u001B[39m \u001B[43mdf\u001B[49m\u001B[38;5;241;43m.\u001B[39;49m\u001B[43mloc\u001B[49m\u001B[43m[\u001B[49m\u001B[43mi\u001B[49m\u001B[43m,\u001B[49m\u001B[43m \u001B[49m\u001B[38;5;124;43m\"\u001B[39;49m\u001B[38;5;124;43mreturns\u001B[39;49m\u001B[38;5;124;43m\"\u001B[39;49m\u001B[43m]\u001B[49m\u001B[38;5;241;43m.\u001B[39;49m\u001B[43mcorr\u001B[49m(df\u001B[38;5;241m.\u001B[39mloc[i, \u001B[38;5;124m\"\u001B[39m\u001B[38;5;124mvolatility\u001B[39m\u001B[38;5;124m\"\u001B[39m], method\u001B[38;5;241m=\u001B[39m\u001B[38;5;124m\"\u001B[39m\u001B[38;5;124mpearson\u001B[39m\u001B[38;5;124m\"\u001B[39m)\n",
      "\u001B[0;31mAttributeError\u001B[0m: 'numpy.float64' object has no attribute 'corr'"
     ]
    }
   ],
   "source": [
    "df[\"corr\"] = 0\n",
    "for i in df.index:\n",
    "    df.loc[i, \"corr\"] = df.loc[i, \"returns\"].corr(df.loc[i, \"volatility\"], method=\"pearson\")"
   ],
   "metadata": {
    "collapsed": false,
    "ExecuteTime": {
     "end_time": "2024-03-06T10:26:09.730504Z",
     "start_time": "2024-03-06T10:26:09.680150Z"
    }
   }
  },
  {
   "cell_type": "code",
   "execution_count": 109,
   "outputs": [
    {
     "data": {
      "text/plain": "0.0"
     },
     "execution_count": 109,
     "metadata": {},
     "output_type": "execute_result"
    }
   ],
   "source": [
    "df.loc[i][\"corr\"]\n"
   ],
   "metadata": {
    "collapsed": false,
    "ExecuteTime": {
     "end_time": "2024-03-05T09:20:55.401742Z",
     "start_time": "2024-03-05T09:20:55.326141Z"
    }
   }
=======
    "df"
   ]
>>>>>>> caa640482ff8c8e3a495b1dc82d47aae396c508b
  },
  {
   "cell_type": "markdown",
   "metadata": {
    "collapsed": false
   },
   "source": [
    "## TASK 2"
   ]
  },
  {
   "cell_type": "markdown",
   "metadata": {
    "collapsed": false
   },
   "source": [
    "Report the following statistics for both portfolios (equally-weighted portfolio & the market-cap weighted portfolio with monthly rebalancing over the period 2008–2022): annualized average return, annualized volatility, Sharpe ratio, minimum return, and maximum return. Plot the time series of cumulated returns for both portfolios. (15 points)"
   ]
  },
  {
   "cell_type": "markdown",
   "metadata": {
    "collapsed": false
   },
   "source": [
    "### Equally-weighted portfolio"
   ]
  },
  {
   "cell_type": "code",
<<<<<<< HEAD
   "execution_count": 36,
=======
   "execution_count": null,
   "metadata": {
    "ExecuteTime": {
     "end_time": "2024-03-05T08:04:25.711039Z",
     "start_time": "2024-03-05T08:04:25.660344Z"
    },
    "collapsed": false
   },
>>>>>>> caa640482ff8c8e3a495b1dc82d47aae396c508b
   "outputs": [
    {
     "data": {
      "text/plain": [
       "0.001968503937007874"
      ]
     },
     "execution_count": 36,
     "metadata": {},
     "output_type": "execute_result"
    }
   ],
   "source": [
    "#Creating a vector with equal weights for the 508 firms\n",
    "n_columns = 508\n",
    "\n",
    "#df_weight = pd.DataFrame([1/n_columns] * n_columns).T\n",
    "weight = 1/508\n",
    "weight"
<<<<<<< HEAD
   ],
   "metadata": {
    "collapsed": false,
    "ExecuteTime": {
     "end_time": "2024-03-06T10:26:18.692611Z",
     "start_time": "2024-03-06T10:26:18.657161Z"
    }
   }
  },
  {
   "cell_type": "code",
   "execution_count": 37,
   "outputs": [
    {
     "data": {
      "text/plain": "2008-01-31 00:00:00    0.000000\n2008-02-29 00:00:00    0.035499\n2008-03-31 00:00:00    0.013891\n2008-04-30 00:00:00    0.017129\n2008-05-31 00:00:00    0.001064\n                         ...   \n2022-08-31 00:00:00   -0.068045\n2022-09-30 00:00:00   -0.119233\n2022-10-31 00:00:00    0.099507\n2022-11-30 00:00:00    0.107013\n2022-12-31 00:00:00    0.011110\nLength: 180, dtype: float64"
=======
   ]
  },
  {
   "cell_type": "code",
   "execution_count": null,
   "metadata": {
    "ExecuteTime": {
     "end_time": "2024-03-05T08:39:20.523705Z",
     "start_time": "2024-03-05T08:39:20.391711Z"
    },
    "collapsed": false
   },
   "outputs": [
    {
     "data": {
      "text/plain": [
       "2000-01-31 00:00:00    0.000000\n",
       "2000-02-29 00:00:00    0.030608\n",
       "2000-03-31 00:00:00    0.036612\n",
       "2000-04-30 00:00:00   -0.034100\n",
       "2000-05-31 00:00:00    0.010113\n",
       "                         ...   \n",
       "2022-08-31 00:00:00   -0.068045\n",
       "2022-09-30 00:00:00   -0.119233\n",
       "2022-10-31 00:00:00    0.099507\n",
       "2022-11-30 00:00:00    0.107013\n",
       "2022-12-31 00:00:00    0.011110\n",
       "Length: 276, dtype: float64"
      ]
>>>>>>> caa640482ff8c8e3a495b1dc82d47aae396c508b
     },
     "execution_count": 37,
     "metadata": {},
     "output_type": "execute_result"
    }
   ],
   "source": [
    "#Equally weighted portfolio (average returns of all firms per each month)\n",
    "mreturnsEW = (dfmreturns * weight).sum(axis=1)\n",
    "mreturnsEW"
<<<<<<< HEAD
   ],
   "metadata": {
    "collapsed": false,
    "ExecuteTime": {
     "end_time": "2024-03-06T10:26:21.092617Z",
     "start_time": "2024-03-06T10:26:21.014910Z"
    }
   }
  },
  {
   "cell_type": "code",
   "execution_count": 38,
   "outputs": [
    {
     "data": {
      "text/plain": "11.406284087785595"
=======
   ]
  },
  {
   "cell_type": "code",
   "execution_count": null,
   "metadata": {
    "ExecuteTime": {
     "end_time": "2024-03-05T08:40:43.923298Z",
     "start_time": "2024-03-05T08:40:43.837320Z"
    },
    "collapsed": false
   },
   "outputs": [
    {
     "data": {
      "text/plain": [
       "11.3320908645073"
      ]
>>>>>>> caa640482ff8c8e3a495b1dc82d47aae396c508b
     },
     "execution_count": 38,
     "metadata": {},
     "output_type": "execute_result"
    }
   ],
   "source": [
    "annualizedmreturnsEW = ((1+ mreturnsEW.mean())*12)-1\n",
    "annualizedmreturnsEW"
<<<<<<< HEAD
   ],
   "metadata": {
    "collapsed": false,
    "ExecuteTime": {
     "end_time": "2024-03-06T10:26:24.901619Z",
     "start_time": "2024-03-06T10:26:24.793497Z"
    }
   }
=======
   ]
>>>>>>> caa640482ff8c8e3a495b1dc82d47aae396c508b
  },
  {
   "cell_type": "markdown",
   "metadata": {
    "collapsed": false
   },
   "source": [
    "### Market-cap portfolio"
   ]
  },
  {
   "cell_type": "code",
<<<<<<< HEAD
   "execution_count": 39,
   "outputs": [
    {
     "data": {
      "text/plain": "2008-01-31 00:00:00    0.000000\n2008-02-29 00:00:00    0.000000\n2008-03-31 00:00:00    0.021868\n2008-04-30 00:00:00    0.008346\n2008-05-31 00:00:00    0.041265\n                         ...   \n2022-08-31 00:00:00    0.049530\n2022-09-30 00:00:00   -0.057216\n2022-10-31 00:00:00   -0.083940\n2022-11-30 00:00:00    0.079450\n2022-12-31 00:00:00    0.115599\nLength: 180, dtype: float64"
=======
   "execution_count": null,
   "metadata": {
    "ExecuteTime": {
     "end_time": "2024-03-05T08:29:43.176485Z",
     "start_time": "2024-03-05T08:29:43.090803Z"
    },
    "collapsed": false
   },
   "outputs": [
    {
     "data": {
      "text/plain": [
       "2000-01-31 00:00:00    0.000000\n",
       "2000-02-29 00:00:00    0.000000\n",
       "2000-03-31 00:00:00    0.115953\n",
       "2000-04-30 00:00:00    0.063136\n",
       "2000-05-31 00:00:00   -0.026943\n",
       "                         ...   \n",
       "2022-08-31 00:00:00    0.049530\n",
       "2022-09-30 00:00:00   -0.057216\n",
       "2022-10-31 00:00:00   -0.083940\n",
       "2022-11-30 00:00:00    0.079450\n",
       "2022-12-31 00:00:00    0.115599\n",
       "Length: 276, dtype: float64"
      ]
>>>>>>> caa640482ff8c8e3a495b1dc82d47aae396c508b
     },
     "execution_count": 39,
     "metadata": {},
     "output_type": "execute_result"
    }
   ],
   "source": [
    "# Calculate weights for each month based on previous month's capitalization\n",
    "totalcapprevious = dfmcapitalizationT.shift(0).sum(axis=1)\n",
    "weights = dfmcapitalizationT.shift(0).div(totalcapprevious, axis=0)\n",
    "\n",
    "# Calculate the value-weighted portfolio returns\n",
    "portfolioreturnsVW = (dfmreturns.shift(1) * weights).sum(axis=1)\n",
    "portfolioreturnsVW\n"
<<<<<<< HEAD
   ],
   "metadata": {
    "collapsed": false,
    "ExecuteTime": {
     "end_time": "2024-03-06T10:26:27.132447Z",
     "start_time": "2024-03-06T10:26:27.059820Z"
    }
   }
  },
  {
   "cell_type": "code",
   "execution_count": 40,
   "outputs": [],
   "source": [
    "dfmreturns = dfmcapitalizationT.pct_change()"
   ],
   "metadata": {
    "collapsed": false,
    "ExecuteTime": {
     "end_time": "2024-03-06T10:26:29.198817Z",
     "start_time": "2024-03-06T10:26:29.151534Z"
    }
   }
=======
   ]
>>>>>>> caa640482ff8c8e3a495b1dc82d47aae396c508b
  },
  {
   "cell_type": "code",
   "execution_count": null,
   "metadata": {
    "collapsed": false
   },
   "outputs": [],
<<<<<<< HEAD
   "source": [],
   "metadata": {
    "collapsed": false
   }
=======
   "source": [
    "dfmreturns = dfmcapitalizationT.pct_change()"
   ]
>>>>>>> caa640482ff8c8e3a495b1dc82d47aae396c508b
  }
 ],
 "metadata": {
  "kernelspec": {
   "display_name": "Python 3 (ipykernel)",
   "language": "python",
   "name": "python3"
  },
  "language_info": {
   "name": "python"
  }
 },
 "nbformat": 4,
 "nbformat_minor": 2
}
