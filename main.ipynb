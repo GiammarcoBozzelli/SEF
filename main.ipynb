{
 "cells": [
  {
   "cell_type": "code",
   "execution_count": 382,
   "metadata": {},
   "outputs": [],
   "source": [
    "# Final version of Ex_1\n",
    "# Do we need to csv for the df_EUR_M dataframes?\n",
    "# Datasets not restricted to years 2008-2022\n",
    "# Correlation doesn't work"
   ]
  },
  {
   "cell_type": "markdown",
   "metadata": {},
   "source": [
    "# Create (monthly) dataset"
   ]
  },
  {
   "cell_type": "code",
   "execution_count": 383,
   "metadata": {},
   "outputs": [
    {
     "data": {
      "text/plain": [
       "'pip install pandas\\npip install matplotlib\\npip install numpy'"
      ]
     },
     "execution_count": 383,
     "metadata": {},
     "output_type": "execute_result"
    }
   ],
   "source": [
    "'''pip install pandas\n",
    "pip install matplotlib\n",
    "pip install numpy'''"
   ]
  },
  {
   "cell_type": "code",
   "execution_count": 384,
   "metadata": {},
   "outputs": [],
   "source": [
    "import pandas as pd\n",
    "import matplotlib.pyplot as plt\n",
    "import seaborn as sns\n",
    "import numpy as np"
   ]
  },
  {
   "cell_type": "code",
   "execution_count": 385,
   "metadata": {},
   "outputs": [],
   "source": [
    "#Monthly_reurn include 278 months and 2051 firms (rows)\n",
    "M_RI_path = r'C:\\Users\\giuli\\Documents\\SEF_Homework1\\SEF\\ESG_Scores\\DS_RI_T_USD_M.xlsx'  # Replace with your Excel file name\n",
    "df_M_RI = pd.read_excel(M_RI_path)\n",
    "\n",
    "#Monthly_capitalization include 278 months and 2051 firms \n",
    "M_cap_path = r'C:\\Users\\giuli\\Documents\\SEF_Homework1\\SEF\\ESG_Scores\\DS_MV_USD_M.xlsx'  # Replace with your Excel file name\n",
    "df_M_cap = pd.read_excel(M_cap_path)\n",
    "\n",
    "#Country to region data\n",
    "region_path = r'C:\\Users\\giuli\\Documents\\SEF_Homework1\\SEF\\CountriesToRegions.xlsx'  # Replace with your Excel file name\n",
    "df_region = pd.read_excel(region_path)"
   ]
  },
  {
   "cell_type": "code",
   "execution_count": 386,
   "metadata": {},
   "outputs": [],
   "source": [
    "#Let's keep only the EUR contries\n",
    "\n",
    "df_region.drop(index=[0,1,2,3], inplace= True )\n",
    "\n",
    "df_EUR = df_region[df_region['Unnamed: 2'] == 'EUR']"
   ]
  },
  {
   "cell_type": "code",
   "execution_count": 387,
   "metadata": {},
   "outputs": [],
   "source": [
    "#Rename the column so we can merge later\n",
    "df_EUR = df_EUR.rename(columns={'% AMER: Cnada + USA' : 'ISIN_First2'})"
   ]
  },
  {
   "cell_type": "code",
   "execution_count": 388,
   "metadata": {},
   "outputs": [],
   "source": [
    "#Merging the datasets \n",
    "#First step: create a column with only the 2 first characters of the column ISIN\n",
    "\n",
    "#For the return index dataset\n",
    "df_M_RI['ISIN_First2'] = df_M_RI ['ISIN'].str[:2]\n",
    "#df_M_RI"
   ]
  },
  {
   "cell_type": "code",
   "execution_count": 389,
   "metadata": {},
   "outputs": [],
   "source": [
    "#For the capitlization dataset\n",
    "df_M_cap['ISIN_First2'] = df_M_cap ['ISIN'].str[:2]\n",
    "#df_M_cap"
   ]
  },
  {
   "cell_type": "code",
   "execution_count": 390,
   "metadata": {},
   "outputs": [],
   "source": [
    "#Second step: merge the IR and capitalization datasets with the region dataset, keeping only EUR firms\n",
    "df_EUR_M_cap = pd.merge(df_EUR,  df_M_cap, on='ISIN_First2', how='inner')\n",
    "df_EUR_M_RI = pd.merge(df_EUR,  df_M_RI, on='ISIN_First2', how='inner')\n"
   ]
  },
  {
   "cell_type": "code",
   "execution_count": 391,
   "metadata": {},
   "outputs": [],
   "source": [
    "df_EUR_M_cap.to_csv('/Users/giuli\\Documents\\SEF_Homework1\\SEF/df_EUR_monthly_capitalization.csv', index=False)\n",
    "df_EUR_M_RI.to_csv('/Users/giuli\\Documents\\SEF_Homework1\\SEF/df_EUR_monthly_RI.csv', index=False)\n",
    "#We have now 508 firms with data for 281 months (minus the first columns)"
   ]
  },
  {
   "cell_type": "markdown",
   "metadata": {},
   "source": [
    "# Import datasets"
   ]
  },
  {
   "cell_type": "markdown",
   "metadata": {},
   "source": [
    "### Import monthly datasets"
   ]
  },
  {
   "cell_type": "code",
   "execution_count": 392,
   "metadata": {},
   "outputs": [],
   "source": [
    "#Import monthly capitalization dataset for EUR firms\n",
    "#url = \"https://raw.githubusercontent.com/GiammarcoBozzelli/SEF/main/df_EUR_monthly_capitalization.csv\"\n",
    "#df_EUR_M_cap = pd.read_csv(url)"
   ]
  },
  {
   "cell_type": "code",
   "execution_count": 393,
   "metadata": {},
   "outputs": [],
   "source": [
    "#Import monthly return index (RI) dataset for EUR firms\n",
    "#url0 = \"https://raw.githubusercontent.com/GiammarcoBozzelli/SEF/main/df_EUR_monthly_return.csv\"\n",
    "#df_EUR_M_RI = pd.read_csv(url0)\n",
    "#df_RI_monthly"
   ]
  },
  {
   "cell_type": "markdown",
   "metadata": {},
   "source": [
    "### Import yearly datasets"
   ]
  },
  {
   "cell_type": "code",
   "execution_count": 394,
   "metadata": {},
   "outputs": [],
   "source": [
    "#Import yearly capitalization dataset for EUR firms\n",
    "#url1 = \"https://raw.githubusercontent.com/GiammarcoBozzelli/SEF/main/df_EUR_yearly_capitalization.csv\"\n",
    "#df_EUR_Y_cap = pd.read_csv(url1)"
   ]
  },
  {
   "cell_type": "code",
   "execution_count": 395,
   "metadata": {},
   "outputs": [],
   "source": [
    "#Import yearly return index (RI) dataset for EUR firms\n",
    "#url2 = \"https://raw.githubusercontent.com/GiammarcoBozzelli/SEF/main/df_EUR_yearly_return.csv\"\n",
    "#df_EUR_Y_RI = pd.read_csv(url2)"
   ]
  },
  {
   "cell_type": "markdown",
   "metadata": {},
   "source": [
    "# Question 1"
   ]
  },
  {
   "cell_type": "markdown",
   "metadata": {},
   "source": [
    "Compute the annualized average RI and annualized volatility for all individual assets over the period 2008–2022. Plot and comment the histogram of these distributions. Compute and comment on the correlation between individual average RIs and volatilities in the cross section. (10 points)"
   ]
  },
  {
   "cell_type": "markdown",
   "metadata": {},
   "source": [
    "### Annualized average return"
   ]
  },
  {
   "cell_type": "code",
   "execution_count": 396,
   "metadata": {},
   "outputs": [],
   "source": [
    "df_EUR_M_cap.drop(df_EUR_M_cap.columns[:4], axis=1, inplace=True)\n",
    "df_EUR_M_cap.set_index('NAME', inplace = True)\n",
    "#df_EUR_M_cap_08 = df_EUR_M_cap.loc[:, (df_EUR_M_cap.columns >= \"2008-01-01\")]\n",
    "#df_EUR_M_cap_T = df_EUR_M_cap_08.T\n",
    "df_EUR_M_cap_T = df_EUR_M_cap.T\n",
    "#df_EUR_M_cap_T"
   ]
  },
  {
   "cell_type": "code",
   "execution_count": 397,
   "metadata": {},
   "outputs": [],
   "source": [
    "df_M_returns = df_EUR_M_cap_T.pct_change()"
   ]
  },
  {
   "cell_type": "code",
   "execution_count": 398,
   "metadata": {},
   "outputs": [],
   "source": [
    "df_M_returns_annualized = df_M_returns.mean() * 12"
   ]
  },
  {
   "cell_type": "code",
   "execution_count": 399,
   "metadata": {},
   "outputs": [
    {
     "data": {
      "text/plain": [
       "<Axes: xlabel='NAME'>"
      ]
     },
     "execution_count": 399,
     "metadata": {},
     "output_type": "execute_result"
    },
    {
     "data": {
      "image/png": "[encoded data removed]",
      "text/plain": [
       "<Figure size 640x480 with 1 Axes>"
      ]
     },
     "metadata": {},
     "output_type": "display_data"
    }
   ],
   "source": [
    "df_M_returns_annualized.plot()"
   ]
  },
  {
   "cell_type": "code",
   "execution_count": 400,
   "metadata": {},
   "outputs": [
    {
     "data": {
      "text/plain": [
       "<Axes: ylabel='Count'>"
      ]
     },
     "execution_count": 400,
     "metadata": {},
     "output_type": "execute_result"
    },
    {
     "data": {
      "image/png": "[encoded data removed]",
      "text/plain": [
       "<Figure size 640x480 with 1 Axes>"
      ]
     },
     "metadata": {},
     "output_type": "display_data"
    }
   ],
   "source": [
    "sns.histplot(df_M_returns_annualized)"
   ]
  },
  {
   "cell_type": "markdown",
   "metadata": {},
   "source": [
    "### Annualized volatility"
   ]
  },
  {
   "cell_type": "code",
   "execution_count": 401,
   "metadata": {},
   "outputs": [],
   "source": [
    "deviations = df_M_returns - df_M_returns.mean()\n",
    "squared_deviations = deviations**2\n",
    "mean_squared_deviations = squared_deviations.mean()\n",
    "\n",
    "df_M_volatility = np.sqrt(mean_squared_deviations)"
   ]
  },
  {
   "cell_type": "code",
   "execution_count": 402,
   "metadata": {},
   "outputs": [],
   "source": [
    "df_M_volatility_annualized = df_M_volatility*(12**0.5)"
   ]
  },
  {
   "cell_type": "code",
   "execution_count": 403,
   "metadata": {},
   "outputs": [
    {
     "data": {
      "text/plain": [
       "<Axes: xlabel='NAME'>"
      ]
     },
     "execution_count": 403,
     "metadata": {},
     "output_type": "execute_result"
    },
    {
     "data": {
      "image/png": "[encoded data removed]",
      "text/plain": [
       "<Figure size 640x480 with 1 Axes>"
      ]
     },
     "metadata": {},
     "output_type": "display_data"
    }
   ],
   "source": [
    "df_M_volatility_annualized.plot()"
   ]
  },
  {
   "cell_type": "markdown",
   "metadata": {},
   "source": [
    "### Correlation"
   ]
  },
  {
   "cell_type": "code",
   "execution_count": 404,
   "metadata": {},
   "outputs": [],
   "source": [
    "df = pd.DataFrame()\n",
    "df[\"returns\"] = df_M_returns_annualized"
   ]
  },
  {
   "cell_type": "code",
   "execution_count": 405,
   "metadata": {},
   "outputs": [],
   "source": [
    "\n",
    "df[\"volatility\"]=df_M_volatility_annualized"
   ]
  },
  {
   "cell_type": "code",
   "execution_count": 406,
   "metadata": {},
   "outputs": [
    {
     "ename": "AttributeError",
     "evalue": "'numpy.float64' object has no attribute 'corr'",
     "output_type": "error",
     "traceback": [
      "\u001b[1;31m---------------------------------------------------------------------------\u001b[0m",
      "\u001b[1;31mAttributeError\u001b[0m                            Traceback (most recent call last)",
      "Cell \u001b[1;32mIn[406], line 6\u001b[0m\n\u001b[0;32m      4\u001b[0m df[\u001b[38;5;124m\"\u001b[39m\u001b[38;5;124mcorr\u001b[39m\u001b[38;5;124m\"\u001b[39m] \u001b[38;5;241m=\u001b[39m \u001b[38;5;241m0\u001b[39m\n\u001b[0;32m      5\u001b[0m \u001b[38;5;28;01mfor\u001b[39;00m i \u001b[38;5;129;01min\u001b[39;00m df\u001b[38;5;241m.\u001b[39mindex:\n\u001b[1;32m----> 6\u001b[0m     df\u001b[38;5;241m.\u001b[39mloc[i, \u001b[38;5;124m\"\u001b[39m\u001b[38;5;124mcorr\u001b[39m\u001b[38;5;124m\"\u001b[39m] \u001b[38;5;241m=\u001b[39m \u001b[43mdf\u001b[49m\u001b[38;5;241;43m.\u001b[39;49m\u001b[43mloc\u001b[49m\u001b[43m[\u001b[49m\u001b[43mi\u001b[49m\u001b[43m,\u001b[49m\u001b[43m \u001b[49m\u001b[38;5;124;43m\"\u001b[39;49m\u001b[38;5;124;43mreturns\u001b[39;49m\u001b[38;5;124;43m\"\u001b[39;49m\u001b[43m]\u001b[49m\u001b[38;5;241;43m.\u001b[39;49m\u001b[43mcorr\u001b[49m(df\u001b[38;5;241m.\u001b[39mloc[i, \u001b[38;5;124m\"\u001b[39m\u001b[38;5;124mvolatility\u001b[39m\u001b[38;5;124m\"\u001b[39m], method\u001b[38;5;241m=\u001b[39m\u001b[38;5;124m\"\u001b[39m\u001b[38;5;124mpearson\u001b[39m\u001b[38;5;124m\"\u001b[39m)\n\u001b[0;32m      9\u001b[0m df\u001b[38;5;241m.\u001b[39mloc[i][\u001b[38;5;124m\"\u001b[39m\u001b[38;5;124mcorr\u001b[39m\u001b[38;5;124m\"\u001b[39m]\n",
      "\u001b[1;31mAttributeError\u001b[0m: 'numpy.float64' object has no attribute 'corr'"
     ]
    }
   ],
   "source": [
    "df.corr()\n",
    "     \n",
    "\n",
    "df[\"corr\"] = 0\n",
    "for i in df.index:\n",
    "    df.loc[i, \"corr\"] = df.loc[i, \"returns\"].corr(df.loc[i, \"volatility\"], method=\"pearson\")\n",
    "     \n",
    "\n",
    "df.loc[i][\"corr\"]"
   ]
  }
 ],
 "metadata": {
  "kernelspec": {
   "display_name": "Python 3",
   "language": "python",
   "name": "python3"
  },
  "language_info": {
   "codemirror_mode": {
    "name": "ipython",
    "version": 3
   },
   "file_extension": ".py",
   "mimetype": "text/x-python",
   "name": "python",
   "nbconvert_exporter": "python",
   "pygments_lexer": "ipython3",
   "version": "3.11.8"
  }
 },
 "nbformat": 4,
 "nbformat_minor": 2
}
