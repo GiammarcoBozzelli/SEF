{
 "cells": [
  {
   "cell_type": "code",
   "execution_count": 2,
   "outputs": [
    {
     "name": "stdout",
     "output_type": "stream",
     "text": [
      "Collecting pandas\r\n",
      "  Downloading pandas-2.2.1-cp39-cp39-macosx_10_9_x86_64.whl (12.6 MB)\r\n",
      "\u001B[K     |████████████████████████████████| 12.6 MB 4.7 MB/s eta 0:00:01    |███████████▏                    | 4.4 MB 4.8 MB/s eta 0:00:02     |████████████████████▌           | 8.1 MB 4.8 MB/s eta 0:00:01\r\n",
      "\u001B[?25hCollecting numpy<2,>=1.22.4; python_version < \"3.11\"\r\n",
      "  Downloading numpy-1.26.4-cp39-cp39-macosx_10_9_x86_64.whl (20.6 MB)\r\n",
      "\u001B[K     |████████████████████████████████| 20.6 MB 107 kB/s  eta 0:00:01   |██████████▉                     | 7.0 MB 8.6 MB/s eta 0:00:02     |████████████████▌               | 10.6 MB 8.6 MB/s eta 0:00:02     |███████████████████▋            | 12.6 MB 10.8 MB/s eta 0:00:01     |████████████████████▊           | 13.4 MB 10.8 MB/s eta 0:00:01\r\n",
      "\u001B[?25hCollecting tzdata>=2022.7\r\n",
      "  Downloading tzdata-2024.1-py2.py3-none-any.whl (345 kB)\r\n",
      "\u001B[K     |████████████████████████████████| 345 kB 12.4 MB/s eta 0:00:01\r\n",
      "\u001B[?25hRequirement already satisfied: python-dateutil>=2.8.2 in /Library/Frameworks/Python.framework/Versions/3.9/lib/python3.9/site-packages (from pandas) (2.8.2)\r\n",
      "Collecting pytz>=2020.1\r\n",
      "  Downloading pytz-2024.1-py2.py3-none-any.whl (505 kB)\r\n",
      "\u001B[K     |████████████████████████████████| 505 kB 4.9 MB/s eta 0:00:01\r\n",
      "\u001B[?25hRequirement already satisfied: six>=1.5 in /Library/Frameworks/Python.framework/Versions/3.9/lib/python3.9/site-packages (from python-dateutil>=2.8.2->pandas) (1.16.0)\r\n",
      "Installing collected packages: numpy, tzdata, pytz, pandas\r\n",
      "Successfully installed numpy-1.26.4 pandas-2.2.1 pytz-2024.1 tzdata-2024.1\r\n",
      "\u001B[33mWARNING: You are using pip version 20.2.3; however, version 24.0 is available.\r\n",
      "You should consider upgrading via the '/usr/local/bin/python3.9 -m pip install --upgrade pip' command.\u001B[0m\r\n",
      "Note: you may need to restart the kernel to use updated packages.\n"
     ]
    }
   ],
   "source": [
    "pip install pandas"
   ],
   "metadata": {
    "collapsed": false,
    "ExecuteTime": {
     "end_time": "2024-03-04T10:21:04.144979Z",
     "start_time": "2024-03-04T10:20:29.905371Z"
    }
   }
  },
  {
   "cell_type": "code",
   "execution_count": 3,
   "metadata": {
    "ExecuteTime": {
     "end_time": "2024-03-04T10:21:49.048309Z",
     "start_time": "2024-03-04T10:21:35.922938Z"
    }
   },
   "outputs": [],
   "source": [
    "import pandas as pd"
   ]
  },
  {
   "cell_type": "code",
   "execution_count": 5,
   "outputs": [
    {
     "name": "stdout",
     "output_type": "stream",
     "text": [
      "Collecting openpyxl\r\n",
      "  Downloading openpyxl-3.1.2-py2.py3-none-any.whl (249 kB)\r\n",
      "\u001B[K     |████████████████████████████████| 249 kB 3.1 MB/s eta 0:00:01\r\n",
      "\u001B[?25hCollecting et-xmlfile\r\n",
      "  Downloading et_xmlfile-1.1.0-py3-none-any.whl (4.7 kB)\r\n",
      "Installing collected packages: et-xmlfile, openpyxl\r\n",
      "Successfully installed et-xmlfile-1.1.0 openpyxl-3.1.2\r\n",
      "\u001B[33mWARNING: You are using pip version 20.2.3; however, version 24.0 is available.\r\n",
      "You should consider upgrading via the '/usr/local/bin/python3.9 -m pip install --upgrade pip' command.\u001B[0m\r\n",
      "Note: you may need to restart the kernel to use updated packages.\n"
     ]
    }
   ],
   "source": [
    "pip install openpyxl"
   ],
   "metadata": {
    "collapsed": false,
    "ExecuteTime": {
     "end_time": "2024-03-04T10:26:27.984558Z",
     "start_time": "2024-03-04T10:26:14.342095Z"
    }
   }
  },
  {
   "cell_type": "code",
   "execution_count": 11,
   "outputs": [],
   "source": [
    "#Monthly_reurn include 278 months and 2051 firms (rows)\n",
    "monthly_return_index_path = '/Users/camillevermenouze/Documents/SMTS2/SEF/ESG_Scores/DS_RI_T_USD_M.xlsx'  # Replace with your Excel file name\n",
    "df_monthly_return = pd.read_excel(monthly_return_index_path)\n",
    "\n",
    "\n",
    "\n",
    "#Monthly_capitalization include 278 months and 2051 firms \n",
    "monthly_capitalization_path = '/Users/camillevermenouze/Documents/SMTS2/SEF/ESG_Scores/DS_MV_USD_M.xlsx'  # Replace with your Excel file name\n",
    "df_monthly_capitalization = pd.read_excel(monthly_capitalization_path)\n",
    "\n",
    "\n",
    "\n",
    "#M ountry to region data\n",
    "region_path = '/Users/camillevermenouze/Documents/SMTS2/SEF/CountriesToRegions.xlsx'  # Replace with your Excel file name\n",
    "df_region = pd.read_excel(region_path)"
   ],
   "metadata": {
    "collapsed": false,
    "ExecuteTime": {
     "end_time": "2024-03-04T10:30:14.965254Z",
     "start_time": "2024-03-04T10:29:50.870860Z"
    }
   }
  },
  {
   "cell_type": "code",
   "execution_count": 13,
   "outputs": [
    {
     "data": {
      "text/plain": "    % AMER: Cnada + USA               Unnamed: 1 Unnamed: 2\n4                  Code                     Name     Region\n5                    AE    UNITED ARAB EMIRATES          EM\n6                    AR                ARGENTINA         EM\n7                    AT                  AUSTRIA        EUR\n8                    AU                AUSTRALIA        PAC\n..                  ...                      ...        ...\n97                   US            UNITED STATES       AMER\n98                   VI  VIRGIN ISLANDS, BRITISH      Other\n99                   VN                VIET NAM        FRON\n100                  ZA            SOUTH AFRICA          EM\n101                  ZM                ZIMBABWE          SA\n\n[98 rows x 3 columns]",
      "text/html": "<div>\n<style scoped>\n    .dataframe tbody tr th:only-of-type {\n        vertical-align: middle;\n    }\n\n    .dataframe tbody tr th {\n        vertical-align: top;\n    }\n\n    .dataframe thead th {\n        text-align: right;\n    }\n</style>\n<table border=\"1\" class=\"dataframe\">\n  <thead>\n    <tr style=\"text-align: right;\">\n      <th></th>\n      <th>% AMER: Cnada + USA</th>\n      <th>Unnamed: 1</th>\n      <th>Unnamed: 2</th>\n    </tr>\n  </thead>\n  <tbody>\n    <tr>\n      <th>4</th>\n      <td>Code</td>\n      <td>Name</td>\n      <td>Region</td>\n    </tr>\n    <tr>\n      <th>5</th>\n      <td>AE</td>\n      <td>UNITED ARAB EMIRATES</td>\n      <td>EM</td>\n    </tr>\n    <tr>\n      <th>6</th>\n      <td>AR</td>\n      <td>ARGENTINA</td>\n      <td>EM</td>\n    </tr>\n    <tr>\n      <th>7</th>\n      <td>AT</td>\n      <td>AUSTRIA</td>\n      <td>EUR</td>\n    </tr>\n    <tr>\n      <th>8</th>\n      <td>AU</td>\n      <td>AUSTRALIA</td>\n      <td>PAC</td>\n    </tr>\n    <tr>\n      <th>...</th>\n      <td>...</td>\n      <td>...</td>\n      <td>...</td>\n    </tr>\n    <tr>\n      <th>97</th>\n      <td>US</td>\n      <td>UNITED STATES</td>\n      <td>AMER</td>\n    </tr>\n    <tr>\n      <th>98</th>\n      <td>VI</td>\n      <td>VIRGIN ISLANDS, BRITISH</td>\n      <td>Other</td>\n    </tr>\n    <tr>\n      <th>99</th>\n      <td>VN</td>\n      <td>VIET NAM</td>\n      <td>FRON</td>\n    </tr>\n    <tr>\n      <th>100</th>\n      <td>ZA</td>\n      <td>SOUTH AFRICA</td>\n      <td>EM</td>\n    </tr>\n    <tr>\n      <th>101</th>\n      <td>ZM</td>\n      <td>ZIMBABWE</td>\n      <td>SA</td>\n    </tr>\n  </tbody>\n</table>\n<p>98 rows × 3 columns</p>\n</div>"
     },
     "execution_count": 13,
     "metadata": {},
     "output_type": "execute_result"
    }
   ],
   "source": [
    "df_region"
   ],
   "metadata": {
    "collapsed": false,
    "ExecuteTime": {
     "end_time": "2024-03-04T10:32:02.544914Z",
     "start_time": "2024-03-04T10:32:02.447285Z"
    }
   }
  },
  {
   "cell_type": "code",
   "execution_count": 12,
   "outputs": [
    {
     "name": "stdout",
     "output_type": "stream",
     "text": [
      "   ISIN_First2       Unnamed: 1 Unnamed: 2\n",
      "7           AT          AUSTRIA        EUR\n",
      "11          BE          BELGIUM        EUR\n",
      "19          CH      SWITZERLAND        EUR\n",
      "26          DE          GERMANY        EUR\n",
      "27          DK          DENMARK        EUR\n",
      "30          ES            SPAIN        EUR\n",
      "31          FI          FINLAND        EUR\n",
      "32          FR          FRANCE         EUR\n",
      "33          GB  UNITED KINGDOM         EUR\n",
      "43          IE          IRELAND        EUR\n",
      "44          IL          ISRAEL         EUR\n",
      "48          IT            ITALY        EUR\n",
      "71          NL      NETHERLANDS        EUR\n",
      "72          NO          NORWAY         EUR\n",
      "80          PT        PORTUGAL         EUR\n",
      "87          SE          SWEDEN         EUR\n"
     ]
    }
   ],
   "source": [
    "#let's  keep only the EUR contries\n",
    "\n",
    "df_region.drop(index=[0,1,2,3], inplace= True )\n",
    "\n",
    "df_EUR = df_region[df_region['Unnamed: 2'] == 'EUR']\n",
    "\n",
    "#Rename the column so we can merge later\n",
    "df_EUR = df_EUR.rename(columns={'% AMER: Cnada + USA' : 'ISIN_First2'})\n",
    "\n",
    "print(df_EUR)"
   ],
   "metadata": {
    "collapsed": false,
    "ExecuteTime": {
     "end_time": "2024-03-04T10:30:31.078037Z",
     "start_time": "2024-03-04T10:30:31.061224Z"
    }
   }
  },
  {
   "cell_type": "code",
   "execution_count": 15,
   "outputs": [
    {
     "data": {
      "text/plain": "           ISIN                                NAME  2000-01-31 00:00:00  \\\n0  AN8068571086                        SCHLUMBERGER              1858.26   \n1  ARALUA010258                               ALUAR              1820.11   \n2  ARP125991090                  BBVA BANCO FRANCES               396.54   \n3  ARSIDE010029  TERNIUM ARGENTINA SOCIEDAD ANONIMA               177.53   \n4  AT00000VIE62                      FLUGHAFEN WIEN               156.25   \n\n   2000-02-29 00:00:00  2000-03-31 00:00:00  2000-04-30 00:00:00  \\\n0              2254.15              2334.75              2336.65   \n1              1911.12              1866.11              1835.93   \n2               467.49               418.37               350.66   \n3               184.55               184.16               171.05   \n4               153.83               158.62               137.27   \n\n   2000-05-31 00:00:00  2000-06-30 00:00:00  2000-07-31 00:00:00  \\\n0              2245.09              2283.70              2262.67   \n1              1805.22              1657.42              1911.95   \n2               352.52               401.75               404.48   \n3               112.65               120.55               124.93   \n4               148.95               159.68               151.08   \n\n   2000-08-31 00:00:00  ...  2022-04-30 00:00:00  2022-05-31 00:00:00  \\\n0              2610.77  ...              3603.19              4261.29   \n1              1982.99  ...              4024.78              3845.16   \n2               398.47  ...               185.10               185.83   \n3               137.21  ...              1141.96              1055.43   \n4               153.35  ...              1044.97              1035.49   \n\n   2022-06-30 00:00:00  2022-07-31 00:00:00  2022-08-31 00:00:00  \\\n0              3315.58              3433.33              3537.17   \n1              3472.87              5651.92              5459.78   \n2               170.00               224.44               242.69   \n3              1025.82              1373.67              1428.06   \n4              1258.39              1229.26              1215.93   \n\n   2022-09-30 00:00:00  2022-10-31 00:00:00  2022-11-30 00:00:00  \\\n0              3344.15              4846.68              4801.97   \n1              4847.48              4827.59              5377.66   \n2               242.21               225.97               240.64   \n3              1263.78              1286.25              1257.52   \n4              1190.06              1198.76              1248.90   \n\n   2022-12-31 00:00:00  ISIN_First2  \n0              4997.02           AN  \n1              5524.11           AR  \n2               299.57           AR  \n3              1463.58           AR  \n4              1269.03           AT  \n\n[5 rows x 279 columns]",
      "text/html": "<div>\n<style scoped>\n    .dataframe tbody tr th:only-of-type {\n        vertical-align: middle;\n    }\n\n    .dataframe tbody tr th {\n        vertical-align: top;\n    }\n\n    .dataframe thead th {\n        text-align: right;\n    }\n</style>\n<table border=\"1\" class=\"dataframe\">\n  <thead>\n    <tr style=\"text-align: right;\">\n      <th></th>\n      <th>ISIN</th>\n      <th>NAME</th>\n      <th>2000-01-31 00:00:00</th>\n      <th>2000-02-29 00:00:00</th>\n      <th>2000-03-31 00:00:00</th>\n      <th>2000-04-30 00:00:00</th>\n      <th>2000-05-31 00:00:00</th>\n      <th>2000-06-30 00:00:00</th>\n      <th>2000-07-31 00:00:00</th>\n      <th>2000-08-31 00:00:00</th>\n      <th>...</th>\n      <th>2022-04-30 00:00:00</th>\n      <th>2022-05-31 00:00:00</th>\n      <th>2022-06-30 00:00:00</th>\n      <th>2022-07-31 00:00:00</th>\n      <th>2022-08-31 00:00:00</th>\n      <th>2022-09-30 00:00:00</th>\n      <th>2022-10-31 00:00:00</th>\n      <th>2022-11-30 00:00:00</th>\n      <th>2022-12-31 00:00:00</th>\n      <th>ISIN_First2</th>\n    </tr>\n  </thead>\n  <tbody>\n    <tr>\n      <th>0</th>\n      <td>AN8068571086</td>\n      <td>SCHLUMBERGER</td>\n      <td>1858.26</td>\n      <td>2254.15</td>\n      <td>2334.75</td>\n      <td>2336.65</td>\n      <td>2245.09</td>\n      <td>2283.70</td>\n      <td>2262.67</td>\n      <td>2610.77</td>\n      <td>...</td>\n      <td>3603.19</td>\n      <td>4261.29</td>\n      <td>3315.58</td>\n      <td>3433.33</td>\n      <td>3537.17</td>\n      <td>3344.15</td>\n      <td>4846.68</td>\n      <td>4801.97</td>\n      <td>4997.02</td>\n      <td>AN</td>\n    </tr>\n    <tr>\n      <th>1</th>\n      <td>ARALUA010258</td>\n      <td>ALUAR</td>\n      <td>1820.11</td>\n      <td>1911.12</td>\n      <td>1866.11</td>\n      <td>1835.93</td>\n      <td>1805.22</td>\n      <td>1657.42</td>\n      <td>1911.95</td>\n      <td>1982.99</td>\n      <td>...</td>\n      <td>4024.78</td>\n      <td>3845.16</td>\n      <td>3472.87</td>\n      <td>5651.92</td>\n      <td>5459.78</td>\n      <td>4847.48</td>\n      <td>4827.59</td>\n      <td>5377.66</td>\n      <td>5524.11</td>\n      <td>AR</td>\n    </tr>\n    <tr>\n      <th>2</th>\n      <td>ARP125991090</td>\n      <td>BBVA BANCO FRANCES</td>\n      <td>396.54</td>\n      <td>467.49</td>\n      <td>418.37</td>\n      <td>350.66</td>\n      <td>352.52</td>\n      <td>401.75</td>\n      <td>404.48</td>\n      <td>398.47</td>\n      <td>...</td>\n      <td>185.10</td>\n      <td>185.83</td>\n      <td>170.00</td>\n      <td>224.44</td>\n      <td>242.69</td>\n      <td>242.21</td>\n      <td>225.97</td>\n      <td>240.64</td>\n      <td>299.57</td>\n      <td>AR</td>\n    </tr>\n    <tr>\n      <th>3</th>\n      <td>ARSIDE010029</td>\n      <td>TERNIUM ARGENTINA SOCIEDAD ANONIMA</td>\n      <td>177.53</td>\n      <td>184.55</td>\n      <td>184.16</td>\n      <td>171.05</td>\n      <td>112.65</td>\n      <td>120.55</td>\n      <td>124.93</td>\n      <td>137.21</td>\n      <td>...</td>\n      <td>1141.96</td>\n      <td>1055.43</td>\n      <td>1025.82</td>\n      <td>1373.67</td>\n      <td>1428.06</td>\n      <td>1263.78</td>\n      <td>1286.25</td>\n      <td>1257.52</td>\n      <td>1463.58</td>\n      <td>AR</td>\n    </tr>\n    <tr>\n      <th>4</th>\n      <td>AT00000VIE62</td>\n      <td>FLUGHAFEN WIEN</td>\n      <td>156.25</td>\n      <td>153.83</td>\n      <td>158.62</td>\n      <td>137.27</td>\n      <td>148.95</td>\n      <td>159.68</td>\n      <td>151.08</td>\n      <td>153.35</td>\n      <td>...</td>\n      <td>1044.97</td>\n      <td>1035.49</td>\n      <td>1258.39</td>\n      <td>1229.26</td>\n      <td>1215.93</td>\n      <td>1190.06</td>\n      <td>1198.76</td>\n      <td>1248.90</td>\n      <td>1269.03</td>\n      <td>AT</td>\n    </tr>\n  </tbody>\n</table>\n<p>5 rows × 279 columns</p>\n</div>"
     },
     "execution_count": 15,
     "metadata": {},
     "output_type": "execute_result"
    }
   ],
   "source": [
    "#Now merged with the two dataset \n",
    "#First step we need to create a new columns with only the 2 first characters of the columns ISIN\n",
    "\n",
    "#First with the return data \n",
    "\n",
    "df_monthly_return['ISIN_First2'] = df_monthly_return ['ISIN'].str[:2]\n",
    "df_monthly_return.head()"
   ],
   "metadata": {
    "collapsed": false,
    "ExecuteTime": {
     "end_time": "2024-03-04T10:35:27.450687Z",
     "start_time": "2024-03-04T10:35:27.376785Z"
    }
   }
  },
  {
   "cell_type": "code",
   "execution_count": 16,
   "outputs": [
    {
     "data": {
      "text/plain": "           ISIN                                NAME  2000-01-31 00:00:00  \\\n0  AN8068571086                        SCHLUMBERGER             33574.85   \n1  ARALUA010258                               ALUAR              1328.64   \n2  ARP125991090                  BBVA BANCO FRANCES              1570.39   \n3  ARSIDE010029  TERNIUM ARGENTINA SOCIEDAD ANONIMA              1407.47   \n4  AT00000VIE62                      FLUGHAFEN WIEN               567.85   \n\n   2000-02-29 00:00:00  2000-03-31 00:00:00  2000-04-30 00:00:00  \\\n0             40611.13             43352.43             43387.86   \n1              1395.07              1362.23              1340.19   \n2              1851.34              1656.82              1388.70   \n3              1463.08              1460.01              1356.04   \n4               559.05               576.48               498.86   \n\n   2000-05-31 00:00:00  2000-06-30 00:00:00  2000-07-31 00:00:00  \\\n0             41861.39             42466.02             42074.79   \n1              1317.78              1209.89              1395.69   \n2              1352.22              1541.05              1551.54   \n3               893.05               955.70               990.45   \n4               517.64               554.94               525.07   \n\n   2000-08-31 00:00:00  ...  2022-04-30 00:00:00  2022-05-31 00:00:00  \\\n0             48547.80  ...             55139.08             64962.64   \n1              1447.55  ...              2195.00              2097.04   \n2              1528.48  ...              1081.26              1085.52   \n3              1087.76  ...              4778.90              4416.77   \n4               532.96  ...              2388.16              2366.48   \n\n   2022-06-30 00:00:00  2022-07-31 00:00:00  2022-08-31 00:00:00  \\\n0             50578.51             52374.81             53958.90   \n1              1894.01              3013.90              2911.44   \n2               993.08              1227.99              1318.36   \n3              4292.86              5748.56              5673.71   \n4              2875.89              2809.31              2778.87   \n\n   2022-09-30 00:00:00  2022-10-31 00:00:00  2022-11-30 00:00:00  \\\n0             50906.19             73778.56             73097.94   \n1              2584.93              2574.33              2778.90   \n2              1308.06              1206.71              1285.05   \n3              5021.04              5110.32              4996.17   \n4              2719.75              2739.62              2854.20   \n\n   2022-12-31 00:00:00  ISIN_First2  \n0             75806.25           AN  \n1              2853.52           AR  \n2              1591.32           AR  \n3              5814.86           AR  \n4              2900.21           AT  \n\n[5 rows x 279 columns]",
      "text/html": "<div>\n<style scoped>\n    .dataframe tbody tr th:only-of-type {\n        vertical-align: middle;\n    }\n\n    .dataframe tbody tr th {\n        vertical-align: top;\n    }\n\n    .dataframe thead th {\n        text-align: right;\n    }\n</style>\n<table border=\"1\" class=\"dataframe\">\n  <thead>\n    <tr style=\"text-align: right;\">\n      <th></th>\n      <th>ISIN</th>\n      <th>NAME</th>\n      <th>2000-01-31 00:00:00</th>\n      <th>2000-02-29 00:00:00</th>\n      <th>2000-03-31 00:00:00</th>\n      <th>2000-04-30 00:00:00</th>\n      <th>2000-05-31 00:00:00</th>\n      <th>2000-06-30 00:00:00</th>\n      <th>2000-07-31 00:00:00</th>\n      <th>2000-08-31 00:00:00</th>\n      <th>...</th>\n      <th>2022-04-30 00:00:00</th>\n      <th>2022-05-31 00:00:00</th>\n      <th>2022-06-30 00:00:00</th>\n      <th>2022-07-31 00:00:00</th>\n      <th>2022-08-31 00:00:00</th>\n      <th>2022-09-30 00:00:00</th>\n      <th>2022-10-31 00:00:00</th>\n      <th>2022-11-30 00:00:00</th>\n      <th>2022-12-31 00:00:00</th>\n      <th>ISIN_First2</th>\n    </tr>\n  </thead>\n  <tbody>\n    <tr>\n      <th>0</th>\n      <td>AN8068571086</td>\n      <td>SCHLUMBERGER</td>\n      <td>33574.85</td>\n      <td>40611.13</td>\n      <td>43352.43</td>\n      <td>43387.86</td>\n      <td>41861.39</td>\n      <td>42466.02</td>\n      <td>42074.79</td>\n      <td>48547.80</td>\n      <td>...</td>\n      <td>55139.08</td>\n      <td>64962.64</td>\n      <td>50578.51</td>\n      <td>52374.81</td>\n      <td>53958.90</td>\n      <td>50906.19</td>\n      <td>73778.56</td>\n      <td>73097.94</td>\n      <td>75806.25</td>\n      <td>AN</td>\n    </tr>\n    <tr>\n      <th>1</th>\n      <td>ARALUA010258</td>\n      <td>ALUAR</td>\n      <td>1328.64</td>\n      <td>1395.07</td>\n      <td>1362.23</td>\n      <td>1340.19</td>\n      <td>1317.78</td>\n      <td>1209.89</td>\n      <td>1395.69</td>\n      <td>1447.55</td>\n      <td>...</td>\n      <td>2195.00</td>\n      <td>2097.04</td>\n      <td>1894.01</td>\n      <td>3013.90</td>\n      <td>2911.44</td>\n      <td>2584.93</td>\n      <td>2574.33</td>\n      <td>2778.90</td>\n      <td>2853.52</td>\n      <td>AR</td>\n    </tr>\n    <tr>\n      <th>2</th>\n      <td>ARP125991090</td>\n      <td>BBVA BANCO FRANCES</td>\n      <td>1570.39</td>\n      <td>1851.34</td>\n      <td>1656.82</td>\n      <td>1388.70</td>\n      <td>1352.22</td>\n      <td>1541.05</td>\n      <td>1551.54</td>\n      <td>1528.48</td>\n      <td>...</td>\n      <td>1081.26</td>\n      <td>1085.52</td>\n      <td>993.08</td>\n      <td>1227.99</td>\n      <td>1318.36</td>\n      <td>1308.06</td>\n      <td>1206.71</td>\n      <td>1285.05</td>\n      <td>1591.32</td>\n      <td>AR</td>\n    </tr>\n    <tr>\n      <th>3</th>\n      <td>ARSIDE010029</td>\n      <td>TERNIUM ARGENTINA SOCIEDAD ANONIMA</td>\n      <td>1407.47</td>\n      <td>1463.08</td>\n      <td>1460.01</td>\n      <td>1356.04</td>\n      <td>893.05</td>\n      <td>955.70</td>\n      <td>990.45</td>\n      <td>1087.76</td>\n      <td>...</td>\n      <td>4778.90</td>\n      <td>4416.77</td>\n      <td>4292.86</td>\n      <td>5748.56</td>\n      <td>5673.71</td>\n      <td>5021.04</td>\n      <td>5110.32</td>\n      <td>4996.17</td>\n      <td>5814.86</td>\n      <td>AR</td>\n    </tr>\n    <tr>\n      <th>4</th>\n      <td>AT00000VIE62</td>\n      <td>FLUGHAFEN WIEN</td>\n      <td>567.85</td>\n      <td>559.05</td>\n      <td>576.48</td>\n      <td>498.86</td>\n      <td>517.64</td>\n      <td>554.94</td>\n      <td>525.07</td>\n      <td>532.96</td>\n      <td>...</td>\n      <td>2388.16</td>\n      <td>2366.48</td>\n      <td>2875.89</td>\n      <td>2809.31</td>\n      <td>2778.87</td>\n      <td>2719.75</td>\n      <td>2739.62</td>\n      <td>2854.20</td>\n      <td>2900.21</td>\n      <td>AT</td>\n    </tr>\n  </tbody>\n</table>\n<p>5 rows × 279 columns</p>\n</div>"
     },
     "execution_count": 16,
     "metadata": {},
     "output_type": "execute_result"
    }
   ],
   "source": [
    "#With the capitalization now\n",
    "df_monthly_capitalization['ISIN_First2'] = df_monthly_capitalization ['ISIN'].str[:2]\n",
    "df_monthly_capitalization.head()"
   ],
   "metadata": {
    "collapsed": false,
    "ExecuteTime": {
     "end_time": "2024-03-04T10:36:29.405885Z",
     "start_time": "2024-03-04T10:36:29.383374Z"
    }
   }
  },
  {
   "cell_type": "code",
   "execution_count": 18,
   "outputs": [],
   "source": [
    "#Second step we merge the data set with the region, keeping only the one matching the EUR countries\n",
    "df_EUR_monthly_capitalization = pd.merge(df_EUR,  df_monthly_capitalization, on='ISIN_First2', how='inner')\n",
    "df_EUR_monthly_return = pd.merge(df_EUR,  df_monthly_return, on='ISIN_First2', how='inner')"
   ],
   "metadata": {
    "collapsed": false,
    "ExecuteTime": {
     "end_time": "2024-03-04T10:38:31.355321Z",
     "start_time": "2024-03-04T10:38:31.288238Z"
    }
   }
  },
  {
   "cell_type": "code",
   "execution_count": 19,
   "outputs": [
    {
     "data": {
      "text/plain": "  ISIN_First2 Unnamed: 1 Unnamed: 2          ISIN              NAME  \\\n0          AT    AUSTRIA        EUR  AT00000VIE62    FLUGHAFEN WIEN   \n1          AT    AUSTRIA        EUR  AT0000652011  ERSTE GROUP BANK   \n2          AT    AUSTRIA        EUR  AT0000743059               OMV   \n3          AT    AUSTRIA        EUR  AT0000746409           VERBUND   \n4          AT    AUSTRIA        EUR  AT0000831706      WIENERBERGER   \n\n   2000-01-31 00:00:00  2000-02-29 00:00:00  2000-03-31 00:00:00  \\\n0               567.85               559.05               576.48   \n1              1803.98              1857.91              1910.40   \n2              2583.84              2113.74              2065.10   \n3              1655.07              1781.21              1618.73   \n4              1386.43              1283.95              1428.44   \n\n   2000-04-30 00:00:00  2000-05-31 00:00:00  ...  2022-03-31 00:00:00  \\\n0               498.86               517.64  ...              2453.36   \n1              1827.24              1810.26  ...             15823.98   \n2              2223.10              2305.32  ...             15799.81   \n3              1446.45              1554.72  ...             18088.45   \n4              1487.43              1567.26  ...              3511.64   \n\n   2022-04-30 00:00:00  2022-05-31 00:00:00  2022-06-30 00:00:00  \\\n0              2388.16              2366.48              2875.89   \n1             13448.16             13356.15             10873.35   \n2             16951.82             19071.10             15313.75   \n3             18353.60             16894.99             16612.75   \n4              3280.93              3173.55              2466.15   \n\n   2022-07-31 00:00:00  2022-08-31 00:00:00  2022-09-30 00:00:00  \\\n0              2809.31              2778.87              2719.75   \n1             10824.56              9715.28              9532.79   \n2             13821.87             13255.37             11981.47   \n3             18659.53             16321.45             14584.20   \n4              2635.59              2703.34              2324.62   \n\n   2022-10-31 00:00:00  2022-11-30 00:00:00  2022-12-31 00:00:00  \n0              2739.62              2854.20              2900.21  \n1             10602.50             13099.32             13715.54  \n2             15085.69             16902.76             16800.81  \n3             13333.42             15082.96             14289.58  \n4              2634.32              2896.84              2690.25  \n\n[5 rows x 281 columns]",
      "text/html": "<div>\n<style scoped>\n    .dataframe tbody tr th:only-of-type {\n        vertical-align: middle;\n    }\n\n    .dataframe tbody tr th {\n        vertical-align: top;\n    }\n\n    .dataframe thead th {\n        text-align: right;\n    }\n</style>\n<table border=\"1\" class=\"dataframe\">\n  <thead>\n    <tr style=\"text-align: right;\">\n      <th></th>\n      <th>ISIN_First2</th>\n      <th>Unnamed: 1</th>\n      <th>Unnamed: 2</th>\n      <th>ISIN</th>\n      <th>NAME</th>\n      <th>2000-01-31 00:00:00</th>\n      <th>2000-02-29 00:00:00</th>\n      <th>2000-03-31 00:00:00</th>\n      <th>2000-04-30 00:00:00</th>\n      <th>2000-05-31 00:00:00</th>\n      <th>...</th>\n      <th>2022-03-31 00:00:00</th>\n      <th>2022-04-30 00:00:00</th>\n      <th>2022-05-31 00:00:00</th>\n      <th>2022-06-30 00:00:00</th>\n      <th>2022-07-31 00:00:00</th>\n      <th>2022-08-31 00:00:00</th>\n      <th>2022-09-30 00:00:00</th>\n      <th>2022-10-31 00:00:00</th>\n      <th>2022-11-30 00:00:00</th>\n      <th>2022-12-31 00:00:00</th>\n    </tr>\n  </thead>\n  <tbody>\n    <tr>\n      <th>0</th>\n      <td>AT</td>\n      <td>AUSTRIA</td>\n      <td>EUR</td>\n      <td>AT00000VIE62</td>\n      <td>FLUGHAFEN WIEN</td>\n      <td>567.85</td>\n      <td>559.05</td>\n      <td>576.48</td>\n      <td>498.86</td>\n      <td>517.64</td>\n      <td>...</td>\n      <td>2453.36</td>\n      <td>2388.16</td>\n      <td>2366.48</td>\n      <td>2875.89</td>\n      <td>2809.31</td>\n      <td>2778.87</td>\n      <td>2719.75</td>\n      <td>2739.62</td>\n      <td>2854.20</td>\n      <td>2900.21</td>\n    </tr>\n    <tr>\n      <th>1</th>\n      <td>AT</td>\n      <td>AUSTRIA</td>\n      <td>EUR</td>\n      <td>AT0000652011</td>\n      <td>ERSTE GROUP BANK</td>\n      <td>1803.98</td>\n      <td>1857.91</td>\n      <td>1910.40</td>\n      <td>1827.24</td>\n      <td>1810.26</td>\n      <td>...</td>\n      <td>15823.98</td>\n      <td>13448.16</td>\n      <td>13356.15</td>\n      <td>10873.35</td>\n      <td>10824.56</td>\n      <td>9715.28</td>\n      <td>9532.79</td>\n      <td>10602.50</td>\n      <td>13099.32</td>\n      <td>13715.54</td>\n    </tr>\n    <tr>\n      <th>2</th>\n      <td>AT</td>\n      <td>AUSTRIA</td>\n      <td>EUR</td>\n      <td>AT0000743059</td>\n      <td>OMV</td>\n      <td>2583.84</td>\n      <td>2113.74</td>\n      <td>2065.10</td>\n      <td>2223.10</td>\n      <td>2305.32</td>\n      <td>...</td>\n      <td>15799.81</td>\n      <td>16951.82</td>\n      <td>19071.10</td>\n      <td>15313.75</td>\n      <td>13821.87</td>\n      <td>13255.37</td>\n      <td>11981.47</td>\n      <td>15085.69</td>\n      <td>16902.76</td>\n      <td>16800.81</td>\n    </tr>\n    <tr>\n      <th>3</th>\n      <td>AT</td>\n      <td>AUSTRIA</td>\n      <td>EUR</td>\n      <td>AT0000746409</td>\n      <td>VERBUND</td>\n      <td>1655.07</td>\n      <td>1781.21</td>\n      <td>1618.73</td>\n      <td>1446.45</td>\n      <td>1554.72</td>\n      <td>...</td>\n      <td>18088.45</td>\n      <td>18353.60</td>\n      <td>16894.99</td>\n      <td>16612.75</td>\n      <td>18659.53</td>\n      <td>16321.45</td>\n      <td>14584.20</td>\n      <td>13333.42</td>\n      <td>15082.96</td>\n      <td>14289.58</td>\n    </tr>\n    <tr>\n      <th>4</th>\n      <td>AT</td>\n      <td>AUSTRIA</td>\n      <td>EUR</td>\n      <td>AT0000831706</td>\n      <td>WIENERBERGER</td>\n      <td>1386.43</td>\n      <td>1283.95</td>\n      <td>1428.44</td>\n      <td>1487.43</td>\n      <td>1567.26</td>\n      <td>...</td>\n      <td>3511.64</td>\n      <td>3280.93</td>\n      <td>3173.55</td>\n      <td>2466.15</td>\n      <td>2635.59</td>\n      <td>2703.34</td>\n      <td>2324.62</td>\n      <td>2634.32</td>\n      <td>2896.84</td>\n      <td>2690.25</td>\n    </tr>\n  </tbody>\n</table>\n<p>5 rows × 281 columns</p>\n</div>"
     },
     "execution_count": 19,
     "metadata": {},
     "output_type": "execute_result"
    }
   ],
   "source": [
    "df_EUR_monthly_capitalization.head()"
   ],
   "metadata": {
    "collapsed": false,
    "ExecuteTime": {
     "end_time": "2024-03-04T10:38:34.551958Z",
     "start_time": "2024-03-04T10:38:34.500122Z"
    }
   }
  },
  {
   "cell_type": "code",
   "execution_count": 20,
   "outputs": [
    {
     "data": {
      "text/plain": "  ISIN_First2 Unnamed: 1 Unnamed: 2          ISIN              NAME  \\\n0          AT    AUSTRIA        EUR  AT00000VIE62    FLUGHAFEN WIEN   \n1          AT    AUSTRIA        EUR  AT0000652011  ERSTE GROUP BANK   \n2          AT    AUSTRIA        EUR  AT0000743059               OMV   \n3          AT    AUSTRIA        EUR  AT0000746409           VERBUND   \n4          AT    AUSTRIA        EUR  AT0000831706      WIENERBERGER   \n\n   2000-01-31 00:00:00  2000-02-29 00:00:00  2000-03-31 00:00:00  \\\n0               156.25               153.83               158.62   \n1                94.91                97.74               100.50   \n2               389.64               318.75               311.41   \n3               524.60               564.59               518.56   \n4              2379.46              2203.58              2451.55   \n\n   2000-04-30 00:00:00  2000-05-31 00:00:00  ...  2022-03-31 00:00:00  \\\n0               137.27               148.95  ...              1073.50   \n1                96.13                97.86  ...               567.30   \n2               335.24               356.91  ...              4277.87   \n3               463.37               498.05  ...              8285.25   \n4              2552.81              2746.80  ...              6331.35   \n\n   2022-04-30 00:00:00  2022-05-31 00:00:00  2022-06-30 00:00:00  \\\n0              1044.97              1035.49              1258.39   \n1               482.13               504.75               410.92   \n2              4589.77              5163.58              4341.76   \n3              8406.71              7820.72              7690.07   \n4              5915.37              5895.80              4581.59   \n\n   2022-07-31 00:00:00  2022-08-31 00:00:00  2022-09-30 00:00:00  \\\n0              1229.26              1215.93              1190.06   \n1               409.07               367.15               360.26   \n2              3918.78              3758.17              3396.99   \n3              8637.53              7555.23              6751.05   \n4              4896.37              5022.24              4318.66   \n\n   2022-10-31 00:00:00  2022-11-30 00:00:00  2022-12-31 00:00:00  \n0              1198.76              1248.90              1269.03  \n1               400.68               495.04               518.33  \n2              4277.10              4792.28              4763.37  \n3              6172.06              6981.93              6614.67  \n4              4894.01              5548.18              5152.51  \n\n[5 rows x 281 columns]",
      "text/html": "<div>\n<style scoped>\n    .dataframe tbody tr th:only-of-type {\n        vertical-align: middle;\n    }\n\n    .dataframe tbody tr th {\n        vertical-align: top;\n    }\n\n    .dataframe thead th {\n        text-align: right;\n    }\n</style>\n<table border=\"1\" class=\"dataframe\">\n  <thead>\n    <tr style=\"text-align: right;\">\n      <th></th>\n      <th>ISIN_First2</th>\n      <th>Unnamed: 1</th>\n      <th>Unnamed: 2</th>\n      <th>ISIN</th>\n      <th>NAME</th>\n      <th>2000-01-31 00:00:00</th>\n      <th>2000-02-29 00:00:00</th>\n      <th>2000-03-31 00:00:00</th>\n      <th>2000-04-30 00:00:00</th>\n      <th>2000-05-31 00:00:00</th>\n      <th>...</th>\n      <th>2022-03-31 00:00:00</th>\n      <th>2022-04-30 00:00:00</th>\n      <th>2022-05-31 00:00:00</th>\n      <th>2022-06-30 00:00:00</th>\n      <th>2022-07-31 00:00:00</th>\n      <th>2022-08-31 00:00:00</th>\n      <th>2022-09-30 00:00:00</th>\n      <th>2022-10-31 00:00:00</th>\n      <th>2022-11-30 00:00:00</th>\n      <th>2022-12-31 00:00:00</th>\n    </tr>\n  </thead>\n  <tbody>\n    <tr>\n      <th>0</th>\n      <td>AT</td>\n      <td>AUSTRIA</td>\n      <td>EUR</td>\n      <td>AT00000VIE62</td>\n      <td>FLUGHAFEN WIEN</td>\n      <td>156.25</td>\n      <td>153.83</td>\n      <td>158.62</td>\n      <td>137.27</td>\n      <td>148.95</td>\n      <td>...</td>\n      <td>1073.50</td>\n      <td>1044.97</td>\n      <td>1035.49</td>\n      <td>1258.39</td>\n      <td>1229.26</td>\n      <td>1215.93</td>\n      <td>1190.06</td>\n      <td>1198.76</td>\n      <td>1248.90</td>\n      <td>1269.03</td>\n    </tr>\n    <tr>\n      <th>1</th>\n      <td>AT</td>\n      <td>AUSTRIA</td>\n      <td>EUR</td>\n      <td>AT0000652011</td>\n      <td>ERSTE GROUP BANK</td>\n      <td>94.91</td>\n      <td>97.74</td>\n      <td>100.50</td>\n      <td>96.13</td>\n      <td>97.86</td>\n      <td>...</td>\n      <td>567.30</td>\n      <td>482.13</td>\n      <td>504.75</td>\n      <td>410.92</td>\n      <td>409.07</td>\n      <td>367.15</td>\n      <td>360.26</td>\n      <td>400.68</td>\n      <td>495.04</td>\n      <td>518.33</td>\n    </tr>\n    <tr>\n      <th>2</th>\n      <td>AT</td>\n      <td>AUSTRIA</td>\n      <td>EUR</td>\n      <td>AT0000743059</td>\n      <td>OMV</td>\n      <td>389.64</td>\n      <td>318.75</td>\n      <td>311.41</td>\n      <td>335.24</td>\n      <td>356.91</td>\n      <td>...</td>\n      <td>4277.87</td>\n      <td>4589.77</td>\n      <td>5163.58</td>\n      <td>4341.76</td>\n      <td>3918.78</td>\n      <td>3758.17</td>\n      <td>3396.99</td>\n      <td>4277.10</td>\n      <td>4792.28</td>\n      <td>4763.37</td>\n    </tr>\n    <tr>\n      <th>3</th>\n      <td>AT</td>\n      <td>AUSTRIA</td>\n      <td>EUR</td>\n      <td>AT0000746409</td>\n      <td>VERBUND</td>\n      <td>524.60</td>\n      <td>564.59</td>\n      <td>518.56</td>\n      <td>463.37</td>\n      <td>498.05</td>\n      <td>...</td>\n      <td>8285.25</td>\n      <td>8406.71</td>\n      <td>7820.72</td>\n      <td>7690.07</td>\n      <td>8637.53</td>\n      <td>7555.23</td>\n      <td>6751.05</td>\n      <td>6172.06</td>\n      <td>6981.93</td>\n      <td>6614.67</td>\n    </tr>\n    <tr>\n      <th>4</th>\n      <td>AT</td>\n      <td>AUSTRIA</td>\n      <td>EUR</td>\n      <td>AT0000831706</td>\n      <td>WIENERBERGER</td>\n      <td>2379.46</td>\n      <td>2203.58</td>\n      <td>2451.55</td>\n      <td>2552.81</td>\n      <td>2746.80</td>\n      <td>...</td>\n      <td>6331.35</td>\n      <td>5915.37</td>\n      <td>5895.80</td>\n      <td>4581.59</td>\n      <td>4896.37</td>\n      <td>5022.24</td>\n      <td>4318.66</td>\n      <td>4894.01</td>\n      <td>5548.18</td>\n      <td>5152.51</td>\n    </tr>\n  </tbody>\n</table>\n<p>5 rows × 281 columns</p>\n</div>"
     },
     "execution_count": 20,
     "metadata": {},
     "output_type": "execute_result"
    }
   ],
   "source": [
    "df_EUR_monthly_return.head()"
   ],
   "metadata": {
    "collapsed": false,
    "ExecuteTime": {
     "end_time": "2024-03-04T10:39:24.430595Z",
     "start_time": "2024-03-04T10:39:24.351813Z"
    }
   }
  },
  {
   "cell_type": "code",
   "execution_count": 21,
   "outputs": [],
   "source": [
    "df_EUR_monthly_capitalization.to_csv('/Users/camillevermenouze/Documents/SMTS2/SEF/df_EUR_monthly_capitalization.csv', index=False)\n",
    "df_EUR_monthly_return.to_csv('/Users/camillevermenouze/Documents/SMTS2/SEF/df_EUR_monthly_return.csv', index=False)\n",
    "#We have now 508 firms with the data for 281 months"
   ],
   "metadata": {
    "collapsed": false,
    "ExecuteTime": {
     "end_time": "2024-03-04T10:43:36.662240Z",
     "start_time": "2024-03-04T10:43:34.657132Z"
    }
   }
  },
  {
   "cell_type": "code",
   "execution_count": null,
   "outputs": [],
   "source": [],
   "metadata": {
    "collapsed": false
   }
  }
 ],
 "metadata": {
  "language_info": {
   "name": "python"
  },
  "kernelspec": {
   "name": "python3",
   "language": "python",
   "display_name": "Python 3 (ipykernel)"
  }
 },
 "nbformat": 4,
 "nbformat_minor": 2
}
