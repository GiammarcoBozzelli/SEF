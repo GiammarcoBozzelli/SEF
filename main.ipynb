{
 "cells": [
  {
   "cell_type": "markdown",
   "source": [
    "# HOMEWORK 1"
   ],
   "metadata": {
    "collapsed": false
   }
  },
  {
   "cell_type": "markdown",
   "source": [
    "## DATABASE CREATION"
   ],
   "metadata": {
    "collapsed": false
   }
  },
  {
   "cell_type": "code",
   "execution_count": 1,
   "outputs": [
    {
     "name": "stdout",
     "output_type": "stream",
     "text": [
      "Requirement already satisfied: pandas in /Library/Frameworks/Python.framework/Versions/3.9/lib/python3.9/site-packages (2.2.1)\r\n",
      "Requirement already satisfied: pytz>=2020.1 in /Library/Frameworks/Python.framework/Versions/3.9/lib/python3.9/site-packages (from pandas) (2024.1)\r\n",
      "Requirement already satisfied: numpy<2,>=1.22.4; python_version < \"3.11\" in /Library/Frameworks/Python.framework/Versions/3.9/lib/python3.9/site-packages (from pandas) (1.26.4)\r\n",
      "Requirement already satisfied: tzdata>=2022.7 in /Library/Frameworks/Python.framework/Versions/3.9/lib/python3.9/site-packages (from pandas) (2024.1)\r\n",
      "Requirement already satisfied: python-dateutil>=2.8.2 in /Library/Frameworks/Python.framework/Versions/3.9/lib/python3.9/site-packages (from pandas) (2.8.2)\r\n",
      "Requirement already satisfied: six>=1.5 in /Library/Frameworks/Python.framework/Versions/3.9/lib/python3.9/site-packages (from python-dateutil>=2.8.2->pandas) (1.16.0)\r\n",
      "\u001B[33mWARNING: You are using pip version 20.2.3; however, version 24.0 is available.\r\n",
      "You should consider upgrading via the '/usr/local/bin/python3.9 -m pip install --upgrade pip' command.\u001B[0m\r\n",
      "Note: you may need to restart the kernel to use updated packages.\n"
     ]
    }
   ],
   "source": [
    "pip install pandas"
   ],
   "metadata": {
    "collapsed": false,
    "ExecuteTime": {
     "end_time": "2024-03-05T07:41:55.234426Z",
     "start_time": "2024-03-05T07:41:51.745440Z"
    }
   }
  },
  {
   "cell_type": "code",
   "execution_count": 2,
   "outputs": [
    {
     "name": "stdout",
     "output_type": "stream",
     "text": [
      "Requirement already satisfied: numpy in /Library/Frameworks/Python.framework/Versions/3.9/lib/python3.9/site-packages (1.26.4)\r\n",
      "\u001B[33mWARNING: You are using pip version 20.2.3; however, version 24.0 is available.\r\n",
      "You should consider upgrading via the '/usr/local/bin/python3.9 -m pip install --upgrade pip' command.\u001B[0m\r\n",
      "Note: you may need to restart the kernel to use updated packages.\n"
     ]
    }
   ],
   "source": [
    "pip install numpy"
   ],
   "metadata": {
    "collapsed": false,
    "ExecuteTime": {
     "end_time": "2024-03-05T07:41:57.755315Z",
     "start_time": "2024-03-05T07:41:55.225262Z"
    }
   }
  },
  {
   "cell_type": "code",
   "execution_count": 3,
   "outputs": [
    {
     "name": "stdout",
     "output_type": "stream",
     "text": [
      "Requirement already satisfied: matplotlib in /Library/Frameworks/Python.framework/Versions/3.9/lib/python3.9/site-packages (3.8.3)\r\n",
      "Requirement already satisfied: cycler>=0.10 in /Library/Frameworks/Python.framework/Versions/3.9/lib/python3.9/site-packages (from matplotlib) (0.12.1)\r\n",
      "Requirement already satisfied: fonttools>=4.22.0 in /Library/Frameworks/Python.framework/Versions/3.9/lib/python3.9/site-packages (from matplotlib) (4.49.0)\r\n",
      "Requirement already satisfied: numpy<2,>=1.21 in /Library/Frameworks/Python.framework/Versions/3.9/lib/python3.9/site-packages (from matplotlib) (1.26.4)\r\n",
      "Requirement already satisfied: pillow>=8 in /Library/Frameworks/Python.framework/Versions/3.9/lib/python3.9/site-packages (from matplotlib) (10.2.0)\r\n",
      "Requirement already satisfied: python-dateutil>=2.7 in /Library/Frameworks/Python.framework/Versions/3.9/lib/python3.9/site-packages (from matplotlib) (2.8.2)\r\n",
      "Requirement already satisfied: pyparsing>=2.3.1 in /Library/Frameworks/Python.framework/Versions/3.9/lib/python3.9/site-packages (from matplotlib) (3.1.1)\r\n",
      "Requirement already satisfied: contourpy>=1.0.1 in /Library/Frameworks/Python.framework/Versions/3.9/lib/python3.9/site-packages (from matplotlib) (1.2.0)\r\n",
      "Requirement already satisfied: packaging>=20.0 in /Library/Frameworks/Python.framework/Versions/3.9/lib/python3.9/site-packages (from matplotlib) (23.2)\r\n",
      "Requirement already satisfied: importlib-resources>=3.2.0; python_version < \"3.10\" in /Library/Frameworks/Python.framework/Versions/3.9/lib/python3.9/site-packages (from matplotlib) (6.1.2)\r\n",
      "Requirement already satisfied: kiwisolver>=1.3.1 in /Library/Frameworks/Python.framework/Versions/3.9/lib/python3.9/site-packages (from matplotlib) (1.4.5)\r\n",
      "Requirement already satisfied: six>=1.5 in /Library/Frameworks/Python.framework/Versions/3.9/lib/python3.9/site-packages (from python-dateutil>=2.7->matplotlib) (1.16.0)\r\n",
      "Requirement already satisfied: zipp>=3.1.0; python_version < \"3.10\" in /Library/Frameworks/Python.framework/Versions/3.9/lib/python3.9/site-packages (from importlib-resources>=3.2.0; python_version < \"3.10\"->matplotlib) (3.17.0)\r\n",
      "\u001B[33mWARNING: You are using pip version 20.2.3; however, version 24.0 is available.\r\n",
      "You should consider upgrading via the '/usr/local/bin/python3.9 -m pip install --upgrade pip' command.\u001B[0m\r\n",
      "Note: you may need to restart the kernel to use updated packages.\n"
     ]
    }
   ],
   "source": [
    "pip install matplotlib"
   ],
   "metadata": {
    "collapsed": false,
    "ExecuteTime": {
     "end_time": "2024-03-05T07:42:00.392562Z",
     "start_time": "2024-03-05T07:41:57.745029Z"
    }
   }
  },
  {
   "cell_type": "code",
   "execution_count": null,
   "outputs": [],
   "source": [
    "pip install openpyxl"
   ],
   "metadata": {
    "collapsed": false
   }
  },
  {
   "cell_type": "code",
   "execution_count": 40,
   "outputs": [
    {
     "name": "stdout",
     "output_type": "stream",
     "text": [
      "Requirement already satisfied: seaborn in /Library/Frameworks/Python.framework/Versions/3.9/lib/python3.9/site-packages (0.13.2)\r\n",
      "Requirement already satisfied: matplotlib!=3.6.1,>=3.4 in /Library/Frameworks/Python.framework/Versions/3.9/lib/python3.9/site-packages (from seaborn) (3.8.3)\r\n",
      "Requirement already satisfied: pandas>=1.2 in /Library/Frameworks/Python.framework/Versions/3.9/lib/python3.9/site-packages (from seaborn) (2.2.1)\r\n",
      "Requirement already satisfied: numpy!=1.24.0,>=1.20 in /Library/Frameworks/Python.framework/Versions/3.9/lib/python3.9/site-packages (from seaborn) (1.26.4)\r\n",
      "Requirement already satisfied: fonttools>=4.22.0 in /Library/Frameworks/Python.framework/Versions/3.9/lib/python3.9/site-packages (from matplotlib!=3.6.1,>=3.4->seaborn) (4.49.0)\r\n",
      "Requirement already satisfied: pyparsing>=2.3.1 in /Library/Frameworks/Python.framework/Versions/3.9/lib/python3.9/site-packages (from matplotlib!=3.6.1,>=3.4->seaborn) (3.1.1)\r\n",
      "Requirement already satisfied: packaging>=20.0 in /Library/Frameworks/Python.framework/Versions/3.9/lib/python3.9/site-packages (from matplotlib!=3.6.1,>=3.4->seaborn) (23.2)\r\n",
      "Requirement already satisfied: cycler>=0.10 in /Library/Frameworks/Python.framework/Versions/3.9/lib/python3.9/site-packages (from matplotlib!=3.6.1,>=3.4->seaborn) (0.12.1)\r\n",
      "Requirement already satisfied: pillow>=8 in /Library/Frameworks/Python.framework/Versions/3.9/lib/python3.9/site-packages (from matplotlib!=3.6.1,>=3.4->seaborn) (10.2.0)\r\n",
      "Requirement already satisfied: importlib-resources>=3.2.0; python_version < \"3.10\" in /Library/Frameworks/Python.framework/Versions/3.9/lib/python3.9/site-packages (from matplotlib!=3.6.1,>=3.4->seaborn) (6.1.2)\r\n",
      "Requirement already satisfied: kiwisolver>=1.3.1 in /Library/Frameworks/Python.framework/Versions/3.9/lib/python3.9/site-packages (from matplotlib!=3.6.1,>=3.4->seaborn) (1.4.5)\r\n",
      "Requirement already satisfied: python-dateutil>=2.7 in /Library/Frameworks/Python.framework/Versions/3.9/lib/python3.9/site-packages (from matplotlib!=3.6.1,>=3.4->seaborn) (2.8.2)\r\n",
      "Requirement already satisfied: contourpy>=1.0.1 in /Library/Frameworks/Python.framework/Versions/3.9/lib/python3.9/site-packages (from matplotlib!=3.6.1,>=3.4->seaborn) (1.2.0)\r\n",
      "Requirement already satisfied: tzdata>=2022.7 in /Library/Frameworks/Python.framework/Versions/3.9/lib/python3.9/site-packages (from pandas>=1.2->seaborn) (2024.1)\r\n",
      "Requirement already satisfied: pytz>=2020.1 in /Library/Frameworks/Python.framework/Versions/3.9/lib/python3.9/site-packages (from pandas>=1.2->seaborn) (2024.1)\r\n",
      "Requirement already satisfied: zipp>=3.1.0; python_version < \"3.10\" in /Library/Frameworks/Python.framework/Versions/3.9/lib/python3.9/site-packages (from importlib-resources>=3.2.0; python_version < \"3.10\"->matplotlib!=3.6.1,>=3.4->seaborn) (3.17.0)\r\n",
      "Requirement already satisfied: six>=1.5 in /Library/Frameworks/Python.framework/Versions/3.9/lib/python3.9/site-packages (from python-dateutil>=2.7->matplotlib!=3.6.1,>=3.4->seaborn) (1.16.0)\r\n",
      "\u001B[33mWARNING: You are using pip version 20.2.3; however, version 24.0 is available.\r\n",
      "You should consider upgrading via the '/usr/local/bin/python3.9 -m pip install --upgrade pip' command.\u001B[0m\r\n",
      "Note: you may need to restart the kernel to use updated packages.\n"
     ]
    }
   ],
   "source": [
    "pip install seaborn"
   ],
   "metadata": {
    "collapsed": false,
    "ExecuteTime": {
     "end_time": "2024-03-05T07:52:06.809740Z",
     "start_time": "2024-03-05T07:52:02.891052Z"
    }
   }
  },
  {
   "cell_type": "code",
   "execution_count": 45,
   "outputs": [
    {
     "name": "stdout",
     "output_type": "stream",
     "text": [
      "Requirement already satisfied: numpy in /Library/Frameworks/Python.framework/Versions/3.9/lib/python3.9/site-packages (1.26.4)\r\n",
      "\u001B[33mWARNING: You are using pip version 20.2.3; however, version 24.0 is available.\r\n",
      "You should consider upgrading via the '/usr/local/bin/python3.9 -m pip install --upgrade pip' command.\u001B[0m\r\n",
      "Note: you may need to restart the kernel to use updated packages.\n"
     ]
    }
   ],
   "source": [
    "pip install numpy "
   ],
   "metadata": {
    "collapsed": false,
    "ExecuteTime": {
     "end_time": "2024-03-05T07:58:38.268044Z",
     "start_time": "2024-03-05T07:58:34.195199Z"
    }
   }
  },
  {
   "cell_type": "code",
   "execution_count": 4,
   "metadata": {
    "ExecuteTime": {
     "end_time": "2024-03-05T07:42:00.440392Z",
     "start_time": "2024-03-05T07:42:00.398494Z"
    }
   },
   "outputs": [],
   "source": [
    "import pandas as pd"
   ]
  },
  {
   "cell_type": "code",
   "execution_count": 6,
   "outputs": [],
   "source": [
    "#Monthly_reurn include 278 months and 2051 firms (rows)\n",
    "monthly_return_index_path = '/Users/camillevermenouze/Documents/SMTS2/SEF/ESG_Scores/DS_RI_T_USD_M.xlsx'  # Replace with your Excel file name\n",
    "df_monthly_ri = pd.read_excel(monthly_return_index_path)\n",
    "\n",
    "\n",
    "\n",
    "#Monthly_capitalization include 278 months and 2051 firms \n",
    "monthly_capitalization_path = '/Users/camillevermenouze/Documents/SMTS2/SEF/ESG_Scores/DS_MV_USD_M.xlsx'  # Replace with your Excel file name\n",
    "df_monthly_capitalization = pd.read_excel(monthly_capitalization_path)\n",
    "\n",
    "\n",
    "\n",
    "#M ountry to region data\n",
    "region_path = '/Users/camillevermenouze/Documents/SMTS2/SEF/CountriesToRegions.xlsx'  # Replace with your Excel file name\n",
    "df_region = pd.read_excel(region_path)"
   ],
   "metadata": {
    "collapsed": false,
    "ExecuteTime": {
     "end_time": "2024-03-05T07:42:25.514491Z",
     "start_time": "2024-03-05T07:42:02.915564Z"
    }
   }
  },
  {
   "cell_type": "code",
   "execution_count": 7,
   "outputs": [
    {
     "data": {
      "text/plain": "            % AMER: Cnada + USA               Unnamed: 1 Unnamed: 2\n0    % FRON: Frontier countries                      NaN        NaN\n1    % SA: Standalone countries                      NaN        NaN\n2        % EM: Emerging markets                      NaN        NaN\n3                           NaN                      NaN        NaN\n4                          Code                     Name     Region\n..                          ...                      ...        ...\n97                           US            UNITED STATES       AMER\n98                           VI  VIRGIN ISLANDS, BRITISH      Other\n99                           VN                VIET NAM        FRON\n100                          ZA            SOUTH AFRICA          EM\n101                          ZM                ZIMBABWE          SA\n\n[102 rows x 3 columns]",
      "text/html": "<div>\n<style scoped>\n    .dataframe tbody tr th:only-of-type {\n        vertical-align: middle;\n    }\n\n    .dataframe tbody tr th {\n        vertical-align: top;\n    }\n\n    .dataframe thead th {\n        text-align: right;\n    }\n</style>\n<table border=\"1\" class=\"dataframe\">\n  <thead>\n    <tr style=\"text-align: right;\">\n      <th></th>\n      <th>% AMER: Cnada + USA</th>\n      <th>Unnamed: 1</th>\n      <th>Unnamed: 2</th>\n    </tr>\n  </thead>\n  <tbody>\n    <tr>\n      <th>0</th>\n      <td>% FRON: Frontier countries</td>\n      <td>NaN</td>\n      <td>NaN</td>\n    </tr>\n    <tr>\n      <th>1</th>\n      <td>% SA: Standalone countries</td>\n      <td>NaN</td>\n      <td>NaN</td>\n    </tr>\n    <tr>\n      <th>2</th>\n      <td>% EM: Emerging markets</td>\n      <td>NaN</td>\n      <td>NaN</td>\n    </tr>\n    <tr>\n      <th>3</th>\n      <td>NaN</td>\n      <td>NaN</td>\n      <td>NaN</td>\n    </tr>\n    <tr>\n      <th>4</th>\n      <td>Code</td>\n      <td>Name</td>\n      <td>Region</td>\n    </tr>\n    <tr>\n      <th>...</th>\n      <td>...</td>\n      <td>...</td>\n      <td>...</td>\n    </tr>\n    <tr>\n      <th>97</th>\n      <td>US</td>\n      <td>UNITED STATES</td>\n      <td>AMER</td>\n    </tr>\n    <tr>\n      <th>98</th>\n      <td>VI</td>\n      <td>VIRGIN ISLANDS, BRITISH</td>\n      <td>Other</td>\n    </tr>\n    <tr>\n      <th>99</th>\n      <td>VN</td>\n      <td>VIET NAM</td>\n      <td>FRON</td>\n    </tr>\n    <tr>\n      <th>100</th>\n      <td>ZA</td>\n      <td>SOUTH AFRICA</td>\n      <td>EM</td>\n    </tr>\n    <tr>\n      <th>101</th>\n      <td>ZM</td>\n      <td>ZIMBABWE</td>\n      <td>SA</td>\n    </tr>\n  </tbody>\n</table>\n<p>102 rows × 3 columns</p>\n</div>"
     },
     "execution_count": 7,
     "metadata": {},
     "output_type": "execute_result"
    }
   ],
   "source": [
    "df_region"
   ],
   "metadata": {
    "collapsed": false,
    "ExecuteTime": {
     "end_time": "2024-03-05T07:42:25.581310Z",
     "start_time": "2024-03-05T07:42:25.521239Z"
    }
   }
  },
  {
   "cell_type": "code",
   "execution_count": 8,
   "outputs": [
    {
     "name": "stdout",
     "output_type": "stream",
     "text": [
      "   ISIN_First2       Unnamed: 1 Unnamed: 2\n",
      "7           AT          AUSTRIA        EUR\n",
      "11          BE          BELGIUM        EUR\n",
      "19          CH      SWITZERLAND        EUR\n",
      "26          DE          GERMANY        EUR\n",
      "27          DK          DENMARK        EUR\n",
      "30          ES            SPAIN        EUR\n",
      "31          FI          FINLAND        EUR\n",
      "32          FR          FRANCE         EUR\n",
      "33          GB  UNITED KINGDOM         EUR\n",
      "43          IE          IRELAND        EUR\n",
      "44          IL          ISRAEL         EUR\n",
      "48          IT            ITALY        EUR\n",
      "71          NL      NETHERLANDS        EUR\n",
      "72          NO          NORWAY         EUR\n",
      "80          PT        PORTUGAL         EUR\n",
      "87          SE          SWEDEN         EUR\n"
     ]
    }
   ],
   "source": [
    "#let's  keep only the EUR contries\n",
    "\n",
    "df_region.drop(index=[0,1,2,3], inplace= True )\n",
    "\n",
    "df_EUR = df_region[df_region['Unnamed: 2'] == 'EUR']\n",
    "\n",
    "#Rename the column so we can merge later\n",
    "df_EUR = df_EUR.rename(columns={'% AMER: Cnada + USA' : 'ISIN_First2'})\n",
    "\n",
    "print(df_EUR)"
   ],
   "metadata": {
    "collapsed": false,
    "ExecuteTime": {
     "end_time": "2024-03-05T07:42:25.599842Z",
     "start_time": "2024-03-05T07:42:25.568164Z"
    }
   }
  },
  {
   "cell_type": "code",
   "execution_count": 9,
   "outputs": [
    {
     "data": {
      "text/plain": "           ISIN                                NAME  2000-01-31 00:00:00  \\\n0  AN8068571086                        SCHLUMBERGER              1858.26   \n1  ARALUA010258                               ALUAR              1820.11   \n2  ARP125991090                  BBVA BANCO FRANCES               396.54   \n3  ARSIDE010029  TERNIUM ARGENTINA SOCIEDAD ANONIMA               177.53   \n4  AT00000VIE62                      FLUGHAFEN WIEN               156.25   \n\n   2000-02-29 00:00:00  2000-03-31 00:00:00  2000-04-30 00:00:00  \\\n0              2254.15              2334.75              2336.65   \n1              1911.12              1866.11              1835.93   \n2               467.49               418.37               350.66   \n3               184.55               184.16               171.05   \n4               153.83               158.62               137.27   \n\n   2000-05-31 00:00:00  2000-06-30 00:00:00  2000-07-31 00:00:00  \\\n0              2245.09              2283.70              2262.67   \n1              1805.22              1657.42              1911.95   \n2               352.52               401.75               404.48   \n3               112.65               120.55               124.93   \n4               148.95               159.68               151.08   \n\n   2000-08-31 00:00:00  ...  2022-04-30 00:00:00  2022-05-31 00:00:00  \\\n0              2610.77  ...              3603.19              4261.29   \n1              1982.99  ...              4024.78              3845.16   \n2               398.47  ...               185.10               185.83   \n3               137.21  ...              1141.96              1055.43   \n4               153.35  ...              1044.97              1035.49   \n\n   2022-06-30 00:00:00  2022-07-31 00:00:00  2022-08-31 00:00:00  \\\n0              3315.58              3433.33              3537.17   \n1              3472.87              5651.92              5459.78   \n2               170.00               224.44               242.69   \n3              1025.82              1373.67              1428.06   \n4              1258.39              1229.26              1215.93   \n\n   2022-09-30 00:00:00  2022-10-31 00:00:00  2022-11-30 00:00:00  \\\n0              3344.15              4846.68              4801.97   \n1              4847.48              4827.59              5377.66   \n2               242.21               225.97               240.64   \n3              1263.78              1286.25              1257.52   \n4              1190.06              1198.76              1248.90   \n\n   2022-12-31 00:00:00  ISIN_First2  \n0              4997.02           AN  \n1              5524.11           AR  \n2               299.57           AR  \n3              1463.58           AR  \n4              1269.03           AT  \n\n[5 rows x 279 columns]",
      "text/html": "<div>\n<style scoped>\n    .dataframe tbody tr th:only-of-type {\n        vertical-align: middle;\n    }\n\n    .dataframe tbody tr th {\n        vertical-align: top;\n    }\n\n    .dataframe thead th {\n        text-align: right;\n    }\n</style>\n<table border=\"1\" class=\"dataframe\">\n  <thead>\n    <tr style=\"text-align: right;\">\n      <th></th>\n      <th>ISIN</th>\n      <th>NAME</th>\n      <th>2000-01-31 00:00:00</th>\n      <th>2000-02-29 00:00:00</th>\n      <th>2000-03-31 00:00:00</th>\n      <th>2000-04-30 00:00:00</th>\n      <th>2000-05-31 00:00:00</th>\n      <th>2000-06-30 00:00:00</th>\n      <th>2000-07-31 00:00:00</th>\n      <th>2000-08-31 00:00:00</th>\n      <th>...</th>\n      <th>2022-04-30 00:00:00</th>\n      <th>2022-05-31 00:00:00</th>\n      <th>2022-06-30 00:00:00</th>\n      <th>2022-07-31 00:00:00</th>\n      <th>2022-08-31 00:00:00</th>\n      <th>2022-09-30 00:00:00</th>\n      <th>2022-10-31 00:00:00</th>\n      <th>2022-11-30 00:00:00</th>\n      <th>2022-12-31 00:00:00</th>\n      <th>ISIN_First2</th>\n    </tr>\n  </thead>\n  <tbody>\n    <tr>\n      <th>0</th>\n      <td>AN8068571086</td>\n      <td>SCHLUMBERGER</td>\n      <td>1858.26</td>\n      <td>2254.15</td>\n      <td>2334.75</td>\n      <td>2336.65</td>\n      <td>2245.09</td>\n      <td>2283.70</td>\n      <td>2262.67</td>\n      <td>2610.77</td>\n      <td>...</td>\n      <td>3603.19</td>\n      <td>4261.29</td>\n      <td>3315.58</td>\n      <td>3433.33</td>\n      <td>3537.17</td>\n      <td>3344.15</td>\n      <td>4846.68</td>\n      <td>4801.97</td>\n      <td>4997.02</td>\n      <td>AN</td>\n    </tr>\n    <tr>\n      <th>1</th>\n      <td>ARALUA010258</td>\n      <td>ALUAR</td>\n      <td>1820.11</td>\n      <td>1911.12</td>\n      <td>1866.11</td>\n      <td>1835.93</td>\n      <td>1805.22</td>\n      <td>1657.42</td>\n      <td>1911.95</td>\n      <td>1982.99</td>\n      <td>...</td>\n      <td>4024.78</td>\n      <td>3845.16</td>\n      <td>3472.87</td>\n      <td>5651.92</td>\n      <td>5459.78</td>\n      <td>4847.48</td>\n      <td>4827.59</td>\n      <td>5377.66</td>\n      <td>5524.11</td>\n      <td>AR</td>\n    </tr>\n    <tr>\n      <th>2</th>\n      <td>ARP125991090</td>\n      <td>BBVA BANCO FRANCES</td>\n      <td>396.54</td>\n      <td>467.49</td>\n      <td>418.37</td>\n      <td>350.66</td>\n      <td>352.52</td>\n      <td>401.75</td>\n      <td>404.48</td>\n      <td>398.47</td>\n      <td>...</td>\n      <td>185.10</td>\n      <td>185.83</td>\n      <td>170.00</td>\n      <td>224.44</td>\n      <td>242.69</td>\n      <td>242.21</td>\n      <td>225.97</td>\n      <td>240.64</td>\n      <td>299.57</td>\n      <td>AR</td>\n    </tr>\n    <tr>\n      <th>3</th>\n      <td>ARSIDE010029</td>\n      <td>TERNIUM ARGENTINA SOCIEDAD ANONIMA</td>\n      <td>177.53</td>\n      <td>184.55</td>\n      <td>184.16</td>\n      <td>171.05</td>\n      <td>112.65</td>\n      <td>120.55</td>\n      <td>124.93</td>\n      <td>137.21</td>\n      <td>...</td>\n      <td>1141.96</td>\n      <td>1055.43</td>\n      <td>1025.82</td>\n      <td>1373.67</td>\n      <td>1428.06</td>\n      <td>1263.78</td>\n      <td>1286.25</td>\n      <td>1257.52</td>\n      <td>1463.58</td>\n      <td>AR</td>\n    </tr>\n    <tr>\n      <th>4</th>\n      <td>AT00000VIE62</td>\n      <td>FLUGHAFEN WIEN</td>\n      <td>156.25</td>\n      <td>153.83</td>\n      <td>158.62</td>\n      <td>137.27</td>\n      <td>148.95</td>\n      <td>159.68</td>\n      <td>151.08</td>\n      <td>153.35</td>\n      <td>...</td>\n      <td>1044.97</td>\n      <td>1035.49</td>\n      <td>1258.39</td>\n      <td>1229.26</td>\n      <td>1215.93</td>\n      <td>1190.06</td>\n      <td>1198.76</td>\n      <td>1248.90</td>\n      <td>1269.03</td>\n      <td>AT</td>\n    </tr>\n  </tbody>\n</table>\n<p>5 rows × 279 columns</p>\n</div>"
     },
     "execution_count": 9,
     "metadata": {},
     "output_type": "execute_result"
    }
   ],
   "source": [
    "#Now merged with the two dataset \n",
    "#First step we need to create a new columns with only the 2 first characters of the columns ISIN\n",
    "\n",
    "#First with the return data \n",
    "\n",
    "df_monthly_ri['ISIN_First2'] = df_monthly_ri ['ISIN'].str[:2]\n",
    "df_monthly_ri.head()"
   ],
   "metadata": {
    "collapsed": false,
    "ExecuteTime": {
     "end_time": "2024-03-05T07:42:26.039374Z",
     "start_time": "2024-03-05T07:42:25.630336Z"
    }
   }
  },
  {
   "cell_type": "code",
   "execution_count": 10,
   "outputs": [
    {
     "data": {
      "text/plain": "           ISIN                                NAME  2000-01-31 00:00:00  \\\n0  AN8068571086                        SCHLUMBERGER             33574.85   \n1  ARALUA010258                               ALUAR              1328.64   \n2  ARP125991090                  BBVA BANCO FRANCES              1570.39   \n3  ARSIDE010029  TERNIUM ARGENTINA SOCIEDAD ANONIMA              1407.47   \n4  AT00000VIE62                      FLUGHAFEN WIEN               567.85   \n\n   2000-02-29 00:00:00  2000-03-31 00:00:00  2000-04-30 00:00:00  \\\n0             40611.13             43352.43             43387.86   \n1              1395.07              1362.23              1340.19   \n2              1851.34              1656.82              1388.70   \n3              1463.08              1460.01              1356.04   \n4               559.05               576.48               498.86   \n\n   2000-05-31 00:00:00  2000-06-30 00:00:00  2000-07-31 00:00:00  \\\n0             41861.39             42466.02             42074.79   \n1              1317.78              1209.89              1395.69   \n2              1352.22              1541.05              1551.54   \n3               893.05               955.70               990.45   \n4               517.64               554.94               525.07   \n\n   2000-08-31 00:00:00  ...  2022-04-30 00:00:00  2022-05-31 00:00:00  \\\n0             48547.80  ...             55139.08             64962.64   \n1              1447.55  ...              2195.00              2097.04   \n2              1528.48  ...              1081.26              1085.52   \n3              1087.76  ...              4778.90              4416.77   \n4               532.96  ...              2388.16              2366.48   \n\n   2022-06-30 00:00:00  2022-07-31 00:00:00  2022-08-31 00:00:00  \\\n0             50578.51             52374.81             53958.90   \n1              1894.01              3013.90              2911.44   \n2               993.08              1227.99              1318.36   \n3              4292.86              5748.56              5673.71   \n4              2875.89              2809.31              2778.87   \n\n   2022-09-30 00:00:00  2022-10-31 00:00:00  2022-11-30 00:00:00  \\\n0             50906.19             73778.56             73097.94   \n1              2584.93              2574.33              2778.90   \n2              1308.06              1206.71              1285.05   \n3              5021.04              5110.32              4996.17   \n4              2719.75              2739.62              2854.20   \n\n   2022-12-31 00:00:00  ISIN_First2  \n0             75806.25           AN  \n1              2853.52           AR  \n2              1591.32           AR  \n3              5814.86           AR  \n4              2900.21           AT  \n\n[5 rows x 279 columns]",
      "text/html": "<div>\n<style scoped>\n    .dataframe tbody tr th:only-of-type {\n        vertical-align: middle;\n    }\n\n    .dataframe tbody tr th {\n        vertical-align: top;\n    }\n\n    .dataframe thead th {\n        text-align: right;\n    }\n</style>\n<table border=\"1\" class=\"dataframe\">\n  <thead>\n    <tr style=\"text-align: right;\">\n      <th></th>\n      <th>ISIN</th>\n      <th>NAME</th>\n      <th>2000-01-31 00:00:00</th>\n      <th>2000-02-29 00:00:00</th>\n      <th>2000-03-31 00:00:00</th>\n      <th>2000-04-30 00:00:00</th>\n      <th>2000-05-31 00:00:00</th>\n      <th>2000-06-30 00:00:00</th>\n      <th>2000-07-31 00:00:00</th>\n      <th>2000-08-31 00:00:00</th>\n      <th>...</th>\n      <th>2022-04-30 00:00:00</th>\n      <th>2022-05-31 00:00:00</th>\n      <th>2022-06-30 00:00:00</th>\n      <th>2022-07-31 00:00:00</th>\n      <th>2022-08-31 00:00:00</th>\n      <th>2022-09-30 00:00:00</th>\n      <th>2022-10-31 00:00:00</th>\n      <th>2022-11-30 00:00:00</th>\n      <th>2022-12-31 00:00:00</th>\n      <th>ISIN_First2</th>\n    </tr>\n  </thead>\n  <tbody>\n    <tr>\n      <th>0</th>\n      <td>AN8068571086</td>\n      <td>SCHLUMBERGER</td>\n      <td>33574.85</td>\n      <td>40611.13</td>\n      <td>43352.43</td>\n      <td>43387.86</td>\n      <td>41861.39</td>\n      <td>42466.02</td>\n      <td>42074.79</td>\n      <td>48547.80</td>\n      <td>...</td>\n      <td>55139.08</td>\n      <td>64962.64</td>\n      <td>50578.51</td>\n      <td>52374.81</td>\n      <td>53958.90</td>\n      <td>50906.19</td>\n      <td>73778.56</td>\n      <td>73097.94</td>\n      <td>75806.25</td>\n      <td>AN</td>\n    </tr>\n    <tr>\n      <th>1</th>\n      <td>ARALUA010258</td>\n      <td>ALUAR</td>\n      <td>1328.64</td>\n      <td>1395.07</td>\n      <td>1362.23</td>\n      <td>1340.19</td>\n      <td>1317.78</td>\n      <td>1209.89</td>\n      <td>1395.69</td>\n      <td>1447.55</td>\n      <td>...</td>\n      <td>2195.00</td>\n      <td>2097.04</td>\n      <td>1894.01</td>\n      <td>3013.90</td>\n      <td>2911.44</td>\n      <td>2584.93</td>\n      <td>2574.33</td>\n      <td>2778.90</td>\n      <td>2853.52</td>\n      <td>AR</td>\n    </tr>\n    <tr>\n      <th>2</th>\n      <td>ARP125991090</td>\n      <td>BBVA BANCO FRANCES</td>\n      <td>1570.39</td>\n      <td>1851.34</td>\n      <td>1656.82</td>\n      <td>1388.70</td>\n      <td>1352.22</td>\n      <td>1541.05</td>\n      <td>1551.54</td>\n      <td>1528.48</td>\n      <td>...</td>\n      <td>1081.26</td>\n      <td>1085.52</td>\n      <td>993.08</td>\n      <td>1227.99</td>\n      <td>1318.36</td>\n      <td>1308.06</td>\n      <td>1206.71</td>\n      <td>1285.05</td>\n      <td>1591.32</td>\n      <td>AR</td>\n    </tr>\n    <tr>\n      <th>3</th>\n      <td>ARSIDE010029</td>\n      <td>TERNIUM ARGENTINA SOCIEDAD ANONIMA</td>\n      <td>1407.47</td>\n      <td>1463.08</td>\n      <td>1460.01</td>\n      <td>1356.04</td>\n      <td>893.05</td>\n      <td>955.70</td>\n      <td>990.45</td>\n      <td>1087.76</td>\n      <td>...</td>\n      <td>4778.90</td>\n      <td>4416.77</td>\n      <td>4292.86</td>\n      <td>5748.56</td>\n      <td>5673.71</td>\n      <td>5021.04</td>\n      <td>5110.32</td>\n      <td>4996.17</td>\n      <td>5814.86</td>\n      <td>AR</td>\n    </tr>\n    <tr>\n      <th>4</th>\n      <td>AT00000VIE62</td>\n      <td>FLUGHAFEN WIEN</td>\n      <td>567.85</td>\n      <td>559.05</td>\n      <td>576.48</td>\n      <td>498.86</td>\n      <td>517.64</td>\n      <td>554.94</td>\n      <td>525.07</td>\n      <td>532.96</td>\n      <td>...</td>\n      <td>2388.16</td>\n      <td>2366.48</td>\n      <td>2875.89</td>\n      <td>2809.31</td>\n      <td>2778.87</td>\n      <td>2719.75</td>\n      <td>2739.62</td>\n      <td>2854.20</td>\n      <td>2900.21</td>\n      <td>AT</td>\n    </tr>\n  </tbody>\n</table>\n<p>5 rows × 279 columns</p>\n</div>"
     },
     "execution_count": 10,
     "metadata": {},
     "output_type": "execute_result"
    }
   ],
   "source": [
    "#With the capitalization now\n",
    "df_monthly_capitalization['ISIN_First2'] = df_monthly_capitalization ['ISIN'].str[:2]\n",
    "df_monthly_capitalization.head()"
   ],
   "metadata": {
    "collapsed": false,
    "ExecuteTime": {
     "end_time": "2024-03-05T07:42:26.123064Z",
     "start_time": "2024-03-05T07:42:25.663038Z"
    }
   }
  },
  {
   "cell_type": "code",
   "execution_count": 11,
   "outputs": [],
   "source": [
    "#Second step we merge the data set with the region, keeping only the one matching the EUR countries\n",
    "df_EUR_monthly_capitalization = pd.merge(df_EUR,  df_monthly_capitalization, on='ISIN_First2', how='inner')\n",
    "df_EUR_monthly_ri = pd.merge(df_EUR,  df_monthly_ri, on='ISIN_First2', how='inner')"
   ],
   "metadata": {
    "collapsed": false,
    "ExecuteTime": {
     "end_time": "2024-03-05T07:42:26.213120Z",
     "start_time": "2024-03-05T07:42:25.747632Z"
    }
   }
  },
  {
   "cell_type": "code",
   "execution_count": 12,
   "outputs": [
    {
     "data": {
      "text/plain": "  ISIN_First2 Unnamed: 1 Unnamed: 2          ISIN              NAME  \\\n0          AT    AUSTRIA        EUR  AT00000VIE62    FLUGHAFEN WIEN   \n1          AT    AUSTRIA        EUR  AT0000652011  ERSTE GROUP BANK   \n2          AT    AUSTRIA        EUR  AT0000743059               OMV   \n3          AT    AUSTRIA        EUR  AT0000746409           VERBUND   \n4          AT    AUSTRIA        EUR  AT0000831706      WIENERBERGER   \n\n   2000-01-31 00:00:00  2000-02-29 00:00:00  2000-03-31 00:00:00  \\\n0               567.85               559.05               576.48   \n1              1803.98              1857.91              1910.40   \n2              2583.84              2113.74              2065.10   \n3              1655.07              1781.21              1618.73   \n4              1386.43              1283.95              1428.44   \n\n   2000-04-30 00:00:00  2000-05-31 00:00:00  ...  2022-03-31 00:00:00  \\\n0               498.86               517.64  ...              2453.36   \n1              1827.24              1810.26  ...             15823.98   \n2              2223.10              2305.32  ...             15799.81   \n3              1446.45              1554.72  ...             18088.45   \n4              1487.43              1567.26  ...              3511.64   \n\n   2022-04-30 00:00:00  2022-05-31 00:00:00  2022-06-30 00:00:00  \\\n0              2388.16              2366.48              2875.89   \n1             13448.16             13356.15             10873.35   \n2             16951.82             19071.10             15313.75   \n3             18353.60             16894.99             16612.75   \n4              3280.93              3173.55              2466.15   \n\n   2022-07-31 00:00:00  2022-08-31 00:00:00  2022-09-30 00:00:00  \\\n0              2809.31              2778.87              2719.75   \n1             10824.56              9715.28              9532.79   \n2             13821.87             13255.37             11981.47   \n3             18659.53             16321.45             14584.20   \n4              2635.59              2703.34              2324.62   \n\n   2022-10-31 00:00:00  2022-11-30 00:00:00  2022-12-31 00:00:00  \n0              2739.62              2854.20              2900.21  \n1             10602.50             13099.32             13715.54  \n2             15085.69             16902.76             16800.81  \n3             13333.42             15082.96             14289.58  \n4              2634.32              2896.84              2690.25  \n\n[5 rows x 281 columns]",
      "text/html": "<div>\n<style scoped>\n    .dataframe tbody tr th:only-of-type {\n        vertical-align: middle;\n    }\n\n    .dataframe tbody tr th {\n        vertical-align: top;\n    }\n\n    .dataframe thead th {\n        text-align: right;\n    }\n</style>\n<table border=\"1\" class=\"dataframe\">\n  <thead>\n    <tr style=\"text-align: right;\">\n      <th></th>\n      <th>ISIN_First2</th>\n      <th>Unnamed: 1</th>\n      <th>Unnamed: 2</th>\n      <th>ISIN</th>\n      <th>NAME</th>\n      <th>2000-01-31 00:00:00</th>\n      <th>2000-02-29 00:00:00</th>\n      <th>2000-03-31 00:00:00</th>\n      <th>2000-04-30 00:00:00</th>\n      <th>2000-05-31 00:00:00</th>\n      <th>...</th>\n      <th>2022-03-31 00:00:00</th>\n      <th>2022-04-30 00:00:00</th>\n      <th>2022-05-31 00:00:00</th>\n      <th>2022-06-30 00:00:00</th>\n      <th>2022-07-31 00:00:00</th>\n      <th>2022-08-31 00:00:00</th>\n      <th>2022-09-30 00:00:00</th>\n      <th>2022-10-31 00:00:00</th>\n      <th>2022-11-30 00:00:00</th>\n      <th>2022-12-31 00:00:00</th>\n    </tr>\n  </thead>\n  <tbody>\n    <tr>\n      <th>0</th>\n      <td>AT</td>\n      <td>AUSTRIA</td>\n      <td>EUR</td>\n      <td>AT00000VIE62</td>\n      <td>FLUGHAFEN WIEN</td>\n      <td>567.85</td>\n      <td>559.05</td>\n      <td>576.48</td>\n      <td>498.86</td>\n      <td>517.64</td>\n      <td>...</td>\n      <td>2453.36</td>\n      <td>2388.16</td>\n      <td>2366.48</td>\n      <td>2875.89</td>\n      <td>2809.31</td>\n      <td>2778.87</td>\n      <td>2719.75</td>\n      <td>2739.62</td>\n      <td>2854.20</td>\n      <td>2900.21</td>\n    </tr>\n    <tr>\n      <th>1</th>\n      <td>AT</td>\n      <td>AUSTRIA</td>\n      <td>EUR</td>\n      <td>AT0000652011</td>\n      <td>ERSTE GROUP BANK</td>\n      <td>1803.98</td>\n      <td>1857.91</td>\n      <td>1910.40</td>\n      <td>1827.24</td>\n      <td>1810.26</td>\n      <td>...</td>\n      <td>15823.98</td>\n      <td>13448.16</td>\n      <td>13356.15</td>\n      <td>10873.35</td>\n      <td>10824.56</td>\n      <td>9715.28</td>\n      <td>9532.79</td>\n      <td>10602.50</td>\n      <td>13099.32</td>\n      <td>13715.54</td>\n    </tr>\n    <tr>\n      <th>2</th>\n      <td>AT</td>\n      <td>AUSTRIA</td>\n      <td>EUR</td>\n      <td>AT0000743059</td>\n      <td>OMV</td>\n      <td>2583.84</td>\n      <td>2113.74</td>\n      <td>2065.10</td>\n      <td>2223.10</td>\n      <td>2305.32</td>\n      <td>...</td>\n      <td>15799.81</td>\n      <td>16951.82</td>\n      <td>19071.10</td>\n      <td>15313.75</td>\n      <td>13821.87</td>\n      <td>13255.37</td>\n      <td>11981.47</td>\n      <td>15085.69</td>\n      <td>16902.76</td>\n      <td>16800.81</td>\n    </tr>\n    <tr>\n      <th>3</th>\n      <td>AT</td>\n      <td>AUSTRIA</td>\n      <td>EUR</td>\n      <td>AT0000746409</td>\n      <td>VERBUND</td>\n      <td>1655.07</td>\n      <td>1781.21</td>\n      <td>1618.73</td>\n      <td>1446.45</td>\n      <td>1554.72</td>\n      <td>...</td>\n      <td>18088.45</td>\n      <td>18353.60</td>\n      <td>16894.99</td>\n      <td>16612.75</td>\n      <td>18659.53</td>\n      <td>16321.45</td>\n      <td>14584.20</td>\n      <td>13333.42</td>\n      <td>15082.96</td>\n      <td>14289.58</td>\n    </tr>\n    <tr>\n      <th>4</th>\n      <td>AT</td>\n      <td>AUSTRIA</td>\n      <td>EUR</td>\n      <td>AT0000831706</td>\n      <td>WIENERBERGER</td>\n      <td>1386.43</td>\n      <td>1283.95</td>\n      <td>1428.44</td>\n      <td>1487.43</td>\n      <td>1567.26</td>\n      <td>...</td>\n      <td>3511.64</td>\n      <td>3280.93</td>\n      <td>3173.55</td>\n      <td>2466.15</td>\n      <td>2635.59</td>\n      <td>2703.34</td>\n      <td>2324.62</td>\n      <td>2634.32</td>\n      <td>2896.84</td>\n      <td>2690.25</td>\n    </tr>\n  </tbody>\n</table>\n<p>5 rows × 281 columns</p>\n</div>"
     },
     "execution_count": 12,
     "metadata": {},
     "output_type": "execute_result"
    }
   ],
   "source": [
    "df_EUR_monthly_capitalization.head()"
   ],
   "metadata": {
    "collapsed": false,
    "ExecuteTime": {
     "end_time": "2024-03-05T07:42:26.271044Z",
     "start_time": "2024-03-05T07:42:25.781223Z"
    }
   }
  },
  {
   "cell_type": "code",
   "execution_count": 13,
   "outputs": [
    {
     "data": {
      "text/plain": "  ISIN_First2 Unnamed: 1 Unnamed: 2          ISIN              NAME  \\\n0          AT    AUSTRIA        EUR  AT00000VIE62    FLUGHAFEN WIEN   \n1          AT    AUSTRIA        EUR  AT0000652011  ERSTE GROUP BANK   \n2          AT    AUSTRIA        EUR  AT0000743059               OMV   \n3          AT    AUSTRIA        EUR  AT0000746409           VERBUND   \n4          AT    AUSTRIA        EUR  AT0000831706      WIENERBERGER   \n\n   2000-01-31 00:00:00  2000-02-29 00:00:00  2000-03-31 00:00:00  \\\n0               156.25               153.83               158.62   \n1                94.91                97.74               100.50   \n2               389.64               318.75               311.41   \n3               524.60               564.59               518.56   \n4              2379.46              2203.58              2451.55   \n\n   2000-04-30 00:00:00  2000-05-31 00:00:00  ...  2022-03-31 00:00:00  \\\n0               137.27               148.95  ...              1073.50   \n1                96.13                97.86  ...               567.30   \n2               335.24               356.91  ...              4277.87   \n3               463.37               498.05  ...              8285.25   \n4              2552.81              2746.80  ...              6331.35   \n\n   2022-04-30 00:00:00  2022-05-31 00:00:00  2022-06-30 00:00:00  \\\n0              1044.97              1035.49              1258.39   \n1               482.13               504.75               410.92   \n2              4589.77              5163.58              4341.76   \n3              8406.71              7820.72              7690.07   \n4              5915.37              5895.80              4581.59   \n\n   2022-07-31 00:00:00  2022-08-31 00:00:00  2022-09-30 00:00:00  \\\n0              1229.26              1215.93              1190.06   \n1               409.07               367.15               360.26   \n2              3918.78              3758.17              3396.99   \n3              8637.53              7555.23              6751.05   \n4              4896.37              5022.24              4318.66   \n\n   2022-10-31 00:00:00  2022-11-30 00:00:00  2022-12-31 00:00:00  \n0              1198.76              1248.90              1269.03  \n1               400.68               495.04               518.33  \n2              4277.10              4792.28              4763.37  \n3              6172.06              6981.93              6614.67  \n4              4894.01              5548.18              5152.51  \n\n[5 rows x 281 columns]",
      "text/html": "<div>\n<style scoped>\n    .dataframe tbody tr th:only-of-type {\n        vertical-align: middle;\n    }\n\n    .dataframe tbody tr th {\n        vertical-align: top;\n    }\n\n    .dataframe thead th {\n        text-align: right;\n    }\n</style>\n<table border=\"1\" class=\"dataframe\">\n  <thead>\n    <tr style=\"text-align: right;\">\n      <th></th>\n      <th>ISIN_First2</th>\n      <th>Unnamed: 1</th>\n      <th>Unnamed: 2</th>\n      <th>ISIN</th>\n      <th>NAME</th>\n      <th>2000-01-31 00:00:00</th>\n      <th>2000-02-29 00:00:00</th>\n      <th>2000-03-31 00:00:00</th>\n      <th>2000-04-30 00:00:00</th>\n      <th>2000-05-31 00:00:00</th>\n      <th>...</th>\n      <th>2022-03-31 00:00:00</th>\n      <th>2022-04-30 00:00:00</th>\n      <th>2022-05-31 00:00:00</th>\n      <th>2022-06-30 00:00:00</th>\n      <th>2022-07-31 00:00:00</th>\n      <th>2022-08-31 00:00:00</th>\n      <th>2022-09-30 00:00:00</th>\n      <th>2022-10-31 00:00:00</th>\n      <th>2022-11-30 00:00:00</th>\n      <th>2022-12-31 00:00:00</th>\n    </tr>\n  </thead>\n  <tbody>\n    <tr>\n      <th>0</th>\n      <td>AT</td>\n      <td>AUSTRIA</td>\n      <td>EUR</td>\n      <td>AT00000VIE62</td>\n      <td>FLUGHAFEN WIEN</td>\n      <td>156.25</td>\n      <td>153.83</td>\n      <td>158.62</td>\n      <td>137.27</td>\n      <td>148.95</td>\n      <td>...</td>\n      <td>1073.50</td>\n      <td>1044.97</td>\n      <td>1035.49</td>\n      <td>1258.39</td>\n      <td>1229.26</td>\n      <td>1215.93</td>\n      <td>1190.06</td>\n      <td>1198.76</td>\n      <td>1248.90</td>\n      <td>1269.03</td>\n    </tr>\n    <tr>\n      <th>1</th>\n      <td>AT</td>\n      <td>AUSTRIA</td>\n      <td>EUR</td>\n      <td>AT0000652011</td>\n      <td>ERSTE GROUP BANK</td>\n      <td>94.91</td>\n      <td>97.74</td>\n      <td>100.50</td>\n      <td>96.13</td>\n      <td>97.86</td>\n      <td>...</td>\n      <td>567.30</td>\n      <td>482.13</td>\n      <td>504.75</td>\n      <td>410.92</td>\n      <td>409.07</td>\n      <td>367.15</td>\n      <td>360.26</td>\n      <td>400.68</td>\n      <td>495.04</td>\n      <td>518.33</td>\n    </tr>\n    <tr>\n      <th>2</th>\n      <td>AT</td>\n      <td>AUSTRIA</td>\n      <td>EUR</td>\n      <td>AT0000743059</td>\n      <td>OMV</td>\n      <td>389.64</td>\n      <td>318.75</td>\n      <td>311.41</td>\n      <td>335.24</td>\n      <td>356.91</td>\n      <td>...</td>\n      <td>4277.87</td>\n      <td>4589.77</td>\n      <td>5163.58</td>\n      <td>4341.76</td>\n      <td>3918.78</td>\n      <td>3758.17</td>\n      <td>3396.99</td>\n      <td>4277.10</td>\n      <td>4792.28</td>\n      <td>4763.37</td>\n    </tr>\n    <tr>\n      <th>3</th>\n      <td>AT</td>\n      <td>AUSTRIA</td>\n      <td>EUR</td>\n      <td>AT0000746409</td>\n      <td>VERBUND</td>\n      <td>524.60</td>\n      <td>564.59</td>\n      <td>518.56</td>\n      <td>463.37</td>\n      <td>498.05</td>\n      <td>...</td>\n      <td>8285.25</td>\n      <td>8406.71</td>\n      <td>7820.72</td>\n      <td>7690.07</td>\n      <td>8637.53</td>\n      <td>7555.23</td>\n      <td>6751.05</td>\n      <td>6172.06</td>\n      <td>6981.93</td>\n      <td>6614.67</td>\n    </tr>\n    <tr>\n      <th>4</th>\n      <td>AT</td>\n      <td>AUSTRIA</td>\n      <td>EUR</td>\n      <td>AT0000831706</td>\n      <td>WIENERBERGER</td>\n      <td>2379.46</td>\n      <td>2203.58</td>\n      <td>2451.55</td>\n      <td>2552.81</td>\n      <td>2746.80</td>\n      <td>...</td>\n      <td>6331.35</td>\n      <td>5915.37</td>\n      <td>5895.80</td>\n      <td>4581.59</td>\n      <td>4896.37</td>\n      <td>5022.24</td>\n      <td>4318.66</td>\n      <td>4894.01</td>\n      <td>5548.18</td>\n      <td>5152.51</td>\n    </tr>\n  </tbody>\n</table>\n<p>5 rows × 281 columns</p>\n</div>"
     },
     "execution_count": 13,
     "metadata": {},
     "output_type": "execute_result"
    }
   ],
   "source": [
    "df_EUR_monthly_ri.head()"
   ],
   "metadata": {
    "collapsed": false,
    "ExecuteTime": {
     "end_time": "2024-03-05T07:42:26.275327Z",
     "start_time": "2024-03-05T07:42:25.880156Z"
    }
   }
  },
  {
   "cell_type": "code",
   "execution_count": 14,
   "outputs": [],
   "source": [
    "df_EUR_monthly_capitalization.to_csv('/Users/camillevermenouze/Documents/SMTS2/SEF/df_EUR_monthly_capitalization.csv', index=False)\n",
    "df_EUR_monthly_ri.to_csv('/Users/camillevermenouze/Documents/SMTS2/SEF/df_EUR_monthly_return.csv', index=False)\n",
    "#We have now 508 firms with the data for 281 months"
   ],
   "metadata": {
    "collapsed": false,
    "ExecuteTime": {
     "end_time": "2024-03-05T07:42:26.712256Z",
     "start_time": "2024-03-05T07:42:25.903147Z"
    }
   }
  },
  {
   "cell_type": "markdown",
   "source": [
    "## IMPORT MONTHLY DATASET"
   ],
   "metadata": {
    "collapsed": false
   }
  },
  {
   "cell_type": "code",
   "execution_count": 15,
   "outputs": [],
   "source": [
    "import ssl\n",
    "\n",
    "ssl._create_default_https_context = ssl._create_unverified_context"
   ],
   "metadata": {
    "collapsed": false,
    "ExecuteTime": {
     "end_time": "2024-03-05T07:42:26.713093Z",
     "start_time": "2024-03-05T07:42:26.445640Z"
    }
   }
  },
  {
   "cell_type": "code",
   "execution_count": 16,
   "outputs": [],
   "source": [
    "urlmri = \"https://raw.githubusercontent.com/GiammarcoBozzelli/SEF/main/df_EUR_monthly_return.csv\"\n",
    "dfmri = pd.read_csv(urlmri)\n",
    "\n",
    "urlmcapitalization = \"https://raw.githubusercontent.com/GiammarcoBozzelli/SEF/main/df_EUR_monthly_capitalization.csv\"\n",
    "dfmcapitalization = pd.read_csv(urlmcapitalization)"
   ],
   "metadata": {
    "collapsed": false,
    "ExecuteTime": {
     "end_time": "2024-03-05T07:42:29.173982Z",
     "start_time": "2024-03-05T07:42:26.465941Z"
    }
   }
  },
  {
   "cell_type": "code",
   "execution_count": 17,
   "outputs": [
    {
     "data": {
      "text/plain": "  ISIN_First2 Unnamed: 1 Unnamed: 2          ISIN              NAME  \\\n0          AT    AUSTRIA        EUR  AT00000VIE62    FLUGHAFEN WIEN   \n1          AT    AUSTRIA        EUR  AT0000652011  ERSTE GROUP BANK   \n2          AT    AUSTRIA        EUR  AT0000743059               OMV   \n3          AT    AUSTRIA        EUR  AT0000746409           VERBUND   \n4          AT    AUSTRIA        EUR  AT0000831706      WIENERBERGER   \n\n   2000-01-31 00:00:00  2000-02-29 00:00:00  2000-03-31 00:00:00  \\\n0               156.25               153.83               158.62   \n1                94.91                97.74               100.50   \n2               389.64               318.75               311.41   \n3               524.60               564.59               518.56   \n4              2379.46              2203.58              2451.55   \n\n   2000-04-30 00:00:00  2000-05-31 00:00:00  ...  2022-03-31 00:00:00  \\\n0               137.27               148.95  ...              1073.50   \n1                96.13                97.86  ...               567.30   \n2               335.24               356.91  ...              4277.87   \n3               463.37               498.05  ...              8285.25   \n4              2552.81              2746.80  ...              6331.35   \n\n   2022-04-30 00:00:00  2022-05-31 00:00:00  2022-06-30 00:00:00  \\\n0              1044.97              1035.49              1258.39   \n1               482.13               504.75               410.92   \n2              4589.77              5163.58              4341.76   \n3              8406.71              7820.72              7690.07   \n4              5915.37              5895.80              4581.59   \n\n   2022-07-31 00:00:00  2022-08-31 00:00:00  2022-09-30 00:00:00  \\\n0              1229.26              1215.93              1190.06   \n1               409.07               367.15               360.26   \n2              3918.78              3758.17              3396.99   \n3              8637.53              7555.23              6751.05   \n4              4896.37              5022.24              4318.66   \n\n   2022-10-31 00:00:00  2022-11-30 00:00:00  2022-12-31 00:00:00  \n0              1198.76              1248.90              1269.03  \n1               400.68               495.04               518.33  \n2              4277.10              4792.28              4763.37  \n3              6172.06              6981.93              6614.67  \n4              4894.01              5548.18              5152.51  \n\n[5 rows x 281 columns]",
      "text/html": "<div>\n<style scoped>\n    .dataframe tbody tr th:only-of-type {\n        vertical-align: middle;\n    }\n\n    .dataframe tbody tr th {\n        vertical-align: top;\n    }\n\n    .dataframe thead th {\n        text-align: right;\n    }\n</style>\n<table border=\"1\" class=\"dataframe\">\n  <thead>\n    <tr style=\"text-align: right;\">\n      <th></th>\n      <th>ISIN_First2</th>\n      <th>Unnamed: 1</th>\n      <th>Unnamed: 2</th>\n      <th>ISIN</th>\n      <th>NAME</th>\n      <th>2000-01-31 00:00:00</th>\n      <th>2000-02-29 00:00:00</th>\n      <th>2000-03-31 00:00:00</th>\n      <th>2000-04-30 00:00:00</th>\n      <th>2000-05-31 00:00:00</th>\n      <th>...</th>\n      <th>2022-03-31 00:00:00</th>\n      <th>2022-04-30 00:00:00</th>\n      <th>2022-05-31 00:00:00</th>\n      <th>2022-06-30 00:00:00</th>\n      <th>2022-07-31 00:00:00</th>\n      <th>2022-08-31 00:00:00</th>\n      <th>2022-09-30 00:00:00</th>\n      <th>2022-10-31 00:00:00</th>\n      <th>2022-11-30 00:00:00</th>\n      <th>2022-12-31 00:00:00</th>\n    </tr>\n  </thead>\n  <tbody>\n    <tr>\n      <th>0</th>\n      <td>AT</td>\n      <td>AUSTRIA</td>\n      <td>EUR</td>\n      <td>AT00000VIE62</td>\n      <td>FLUGHAFEN WIEN</td>\n      <td>156.25</td>\n      <td>153.83</td>\n      <td>158.62</td>\n      <td>137.27</td>\n      <td>148.95</td>\n      <td>...</td>\n      <td>1073.50</td>\n      <td>1044.97</td>\n      <td>1035.49</td>\n      <td>1258.39</td>\n      <td>1229.26</td>\n      <td>1215.93</td>\n      <td>1190.06</td>\n      <td>1198.76</td>\n      <td>1248.90</td>\n      <td>1269.03</td>\n    </tr>\n    <tr>\n      <th>1</th>\n      <td>AT</td>\n      <td>AUSTRIA</td>\n      <td>EUR</td>\n      <td>AT0000652011</td>\n      <td>ERSTE GROUP BANK</td>\n      <td>94.91</td>\n      <td>97.74</td>\n      <td>100.50</td>\n      <td>96.13</td>\n      <td>97.86</td>\n      <td>...</td>\n      <td>567.30</td>\n      <td>482.13</td>\n      <td>504.75</td>\n      <td>410.92</td>\n      <td>409.07</td>\n      <td>367.15</td>\n      <td>360.26</td>\n      <td>400.68</td>\n      <td>495.04</td>\n      <td>518.33</td>\n    </tr>\n    <tr>\n      <th>2</th>\n      <td>AT</td>\n      <td>AUSTRIA</td>\n      <td>EUR</td>\n      <td>AT0000743059</td>\n      <td>OMV</td>\n      <td>389.64</td>\n      <td>318.75</td>\n      <td>311.41</td>\n      <td>335.24</td>\n      <td>356.91</td>\n      <td>...</td>\n      <td>4277.87</td>\n      <td>4589.77</td>\n      <td>5163.58</td>\n      <td>4341.76</td>\n      <td>3918.78</td>\n      <td>3758.17</td>\n      <td>3396.99</td>\n      <td>4277.10</td>\n      <td>4792.28</td>\n      <td>4763.37</td>\n    </tr>\n    <tr>\n      <th>3</th>\n      <td>AT</td>\n      <td>AUSTRIA</td>\n      <td>EUR</td>\n      <td>AT0000746409</td>\n      <td>VERBUND</td>\n      <td>524.60</td>\n      <td>564.59</td>\n      <td>518.56</td>\n      <td>463.37</td>\n      <td>498.05</td>\n      <td>...</td>\n      <td>8285.25</td>\n      <td>8406.71</td>\n      <td>7820.72</td>\n      <td>7690.07</td>\n      <td>8637.53</td>\n      <td>7555.23</td>\n      <td>6751.05</td>\n      <td>6172.06</td>\n      <td>6981.93</td>\n      <td>6614.67</td>\n    </tr>\n    <tr>\n      <th>4</th>\n      <td>AT</td>\n      <td>AUSTRIA</td>\n      <td>EUR</td>\n      <td>AT0000831706</td>\n      <td>WIENERBERGER</td>\n      <td>2379.46</td>\n      <td>2203.58</td>\n      <td>2451.55</td>\n      <td>2552.81</td>\n      <td>2746.80</td>\n      <td>...</td>\n      <td>6331.35</td>\n      <td>5915.37</td>\n      <td>5895.80</td>\n      <td>4581.59</td>\n      <td>4896.37</td>\n      <td>5022.24</td>\n      <td>4318.66</td>\n      <td>4894.01</td>\n      <td>5548.18</td>\n      <td>5152.51</td>\n    </tr>\n  </tbody>\n</table>\n<p>5 rows × 281 columns</p>\n</div>"
     },
     "execution_count": 17,
     "metadata": {},
     "output_type": "execute_result"
    }
   ],
   "source": [
    "dfmri.head()"
   ],
   "metadata": {
    "collapsed": false,
    "ExecuteTime": {
     "end_time": "2024-03-05T07:42:29.177175Z",
     "start_time": "2024-03-05T07:42:29.006210Z"
    }
   }
  },
  {
   "cell_type": "code",
   "execution_count": 18,
   "outputs": [
    {
     "data": {
      "text/plain": "  ISIN_First2 Unnamed: 1 Unnamed: 2          ISIN              NAME  \\\n0          AT    AUSTRIA        EUR  AT00000VIE62    FLUGHAFEN WIEN   \n1          AT    AUSTRIA        EUR  AT0000652011  ERSTE GROUP BANK   \n2          AT    AUSTRIA        EUR  AT0000743059               OMV   \n3          AT    AUSTRIA        EUR  AT0000746409           VERBUND   \n4          AT    AUSTRIA        EUR  AT0000831706      WIENERBERGER   \n\n   2000-01-31 00:00:00  2000-02-29 00:00:00  2000-03-31 00:00:00  \\\n0               567.85               559.05               576.48   \n1              1803.98              1857.91              1910.40   \n2              2583.84              2113.74              2065.10   \n3              1655.07              1781.21              1618.73   \n4              1386.43              1283.95              1428.44   \n\n   2000-04-30 00:00:00  2000-05-31 00:00:00  ...  2022-03-31 00:00:00  \\\n0               498.86               517.64  ...              2453.36   \n1              1827.24              1810.26  ...             15823.98   \n2              2223.10              2305.32  ...             15799.81   \n3              1446.45              1554.72  ...             18088.45   \n4              1487.43              1567.26  ...              3511.64   \n\n   2022-04-30 00:00:00  2022-05-31 00:00:00  2022-06-30 00:00:00  \\\n0              2388.16              2366.48              2875.89   \n1             13448.16             13356.15             10873.35   \n2             16951.82             19071.10             15313.75   \n3             18353.60             16894.99             16612.75   \n4              3280.93              3173.55              2466.15   \n\n   2022-07-31 00:00:00  2022-08-31 00:00:00  2022-09-30 00:00:00  \\\n0              2809.31              2778.87              2719.75   \n1             10824.56              9715.28              9532.79   \n2             13821.87             13255.37             11981.47   \n3             18659.53             16321.45             14584.20   \n4              2635.59              2703.34              2324.62   \n\n   2022-10-31 00:00:00  2022-11-30 00:00:00  2022-12-31 00:00:00  \n0              2739.62              2854.20              2900.21  \n1             10602.50             13099.32             13715.54  \n2             15085.69             16902.76             16800.81  \n3             13333.42             15082.96             14289.58  \n4              2634.32              2896.84              2690.25  \n\n[5 rows x 281 columns]",
      "text/html": "<div>\n<style scoped>\n    .dataframe tbody tr th:only-of-type {\n        vertical-align: middle;\n    }\n\n    .dataframe tbody tr th {\n        vertical-align: top;\n    }\n\n    .dataframe thead th {\n        text-align: right;\n    }\n</style>\n<table border=\"1\" class=\"dataframe\">\n  <thead>\n    <tr style=\"text-align: right;\">\n      <th></th>\n      <th>ISIN_First2</th>\n      <th>Unnamed: 1</th>\n      <th>Unnamed: 2</th>\n      <th>ISIN</th>\n      <th>NAME</th>\n      <th>2000-01-31 00:00:00</th>\n      <th>2000-02-29 00:00:00</th>\n      <th>2000-03-31 00:00:00</th>\n      <th>2000-04-30 00:00:00</th>\n      <th>2000-05-31 00:00:00</th>\n      <th>...</th>\n      <th>2022-03-31 00:00:00</th>\n      <th>2022-04-30 00:00:00</th>\n      <th>2022-05-31 00:00:00</th>\n      <th>2022-06-30 00:00:00</th>\n      <th>2022-07-31 00:00:00</th>\n      <th>2022-08-31 00:00:00</th>\n      <th>2022-09-30 00:00:00</th>\n      <th>2022-10-31 00:00:00</th>\n      <th>2022-11-30 00:00:00</th>\n      <th>2022-12-31 00:00:00</th>\n    </tr>\n  </thead>\n  <tbody>\n    <tr>\n      <th>0</th>\n      <td>AT</td>\n      <td>AUSTRIA</td>\n      <td>EUR</td>\n      <td>AT00000VIE62</td>\n      <td>FLUGHAFEN WIEN</td>\n      <td>567.85</td>\n      <td>559.05</td>\n      <td>576.48</td>\n      <td>498.86</td>\n      <td>517.64</td>\n      <td>...</td>\n      <td>2453.36</td>\n      <td>2388.16</td>\n      <td>2366.48</td>\n      <td>2875.89</td>\n      <td>2809.31</td>\n      <td>2778.87</td>\n      <td>2719.75</td>\n      <td>2739.62</td>\n      <td>2854.20</td>\n      <td>2900.21</td>\n    </tr>\n    <tr>\n      <th>1</th>\n      <td>AT</td>\n      <td>AUSTRIA</td>\n      <td>EUR</td>\n      <td>AT0000652011</td>\n      <td>ERSTE GROUP BANK</td>\n      <td>1803.98</td>\n      <td>1857.91</td>\n      <td>1910.40</td>\n      <td>1827.24</td>\n      <td>1810.26</td>\n      <td>...</td>\n      <td>15823.98</td>\n      <td>13448.16</td>\n      <td>13356.15</td>\n      <td>10873.35</td>\n      <td>10824.56</td>\n      <td>9715.28</td>\n      <td>9532.79</td>\n      <td>10602.50</td>\n      <td>13099.32</td>\n      <td>13715.54</td>\n    </tr>\n    <tr>\n      <th>2</th>\n      <td>AT</td>\n      <td>AUSTRIA</td>\n      <td>EUR</td>\n      <td>AT0000743059</td>\n      <td>OMV</td>\n      <td>2583.84</td>\n      <td>2113.74</td>\n      <td>2065.10</td>\n      <td>2223.10</td>\n      <td>2305.32</td>\n      <td>...</td>\n      <td>15799.81</td>\n      <td>16951.82</td>\n      <td>19071.10</td>\n      <td>15313.75</td>\n      <td>13821.87</td>\n      <td>13255.37</td>\n      <td>11981.47</td>\n      <td>15085.69</td>\n      <td>16902.76</td>\n      <td>16800.81</td>\n    </tr>\n    <tr>\n      <th>3</th>\n      <td>AT</td>\n      <td>AUSTRIA</td>\n      <td>EUR</td>\n      <td>AT0000746409</td>\n      <td>VERBUND</td>\n      <td>1655.07</td>\n      <td>1781.21</td>\n      <td>1618.73</td>\n      <td>1446.45</td>\n      <td>1554.72</td>\n      <td>...</td>\n      <td>18088.45</td>\n      <td>18353.60</td>\n      <td>16894.99</td>\n      <td>16612.75</td>\n      <td>18659.53</td>\n      <td>16321.45</td>\n      <td>14584.20</td>\n      <td>13333.42</td>\n      <td>15082.96</td>\n      <td>14289.58</td>\n    </tr>\n    <tr>\n      <th>4</th>\n      <td>AT</td>\n      <td>AUSTRIA</td>\n      <td>EUR</td>\n      <td>AT0000831706</td>\n      <td>WIENERBERGER</td>\n      <td>1386.43</td>\n      <td>1283.95</td>\n      <td>1428.44</td>\n      <td>1487.43</td>\n      <td>1567.26</td>\n      <td>...</td>\n      <td>3511.64</td>\n      <td>3280.93</td>\n      <td>3173.55</td>\n      <td>2466.15</td>\n      <td>2635.59</td>\n      <td>2703.34</td>\n      <td>2324.62</td>\n      <td>2634.32</td>\n      <td>2896.84</td>\n      <td>2690.25</td>\n    </tr>\n  </tbody>\n</table>\n<p>5 rows × 281 columns</p>\n</div>"
     },
     "execution_count": 18,
     "metadata": {},
     "output_type": "execute_result"
    }
   ],
   "source": [
    "dfmcapitalization.head()"
   ],
   "metadata": {
    "collapsed": false,
    "ExecuteTime": {
     "end_time": "2024-03-05T07:42:29.226036Z",
     "start_time": "2024-03-05T07:42:29.079394Z"
    }
   }
  },
  {
   "cell_type": "markdown",
   "source": [
    "## IMPORT YEARLY DATASET"
   ],
   "metadata": {
    "collapsed": false
   }
  },
  {
   "cell_type": "code",
   "execution_count": 19,
   "outputs": [],
   "source": [
    "urlyri = 'https://raw.githubusercontent.com/GiammarcoBozzelli/SEF/main/df_EUR_yearly_return.csv'\n",
    "dfyri = pd.read_csv(urlyri)\n",
    "\n",
    "urlycapitalization = 'https://raw.githubusercontent.com/GiammarcoBozzelli/SEF/main/df_EUR_yearly_capitalization.csv'\n",
    "dfycapitalization = pd.read_csv(urlycapitalization)"
   ],
   "metadata": {
    "collapsed": false,
    "ExecuteTime": {
     "end_time": "2024-03-05T07:42:30.176863Z",
     "start_time": "2024-03-05T07:42:29.188286Z"
    }
   }
  },
  {
   "cell_type": "code",
   "execution_count": 20,
   "outputs": [
    {
     "data": {
      "text/plain": "  ISIN_First2 Unnamed: 1 Unnamed: 2          ISIN              NAME    x1999  \\\n0          AT    AUSTRIA        EUR  AT00000VIE62    FLUGHAFEN WIEN   147.79   \n1          AT    AUSTRIA        EUR  AT0000652011  ERSTE GROUP BANK   102.94   \n2          AT    AUSTRIA        EUR  AT0000743059               OMV   393.88   \n3          AT    AUSTRIA        EUR  AT0000746409           VERBUND   669.42   \n4          AT    AUSTRIA        EUR  AT0000831706      WIENERBERGER  2579.95   \n\n     x2000    x2001    x2002    x2003  ...    x2013    x2014    x2015  \\\n0   169.02   126.01   166.81   248.09  ...   684.58   771.62   806.23   \n1   108.87   131.07   169.47   316.50  ...   451.57   303.59   409.64   \n2   323.77   363.83   444.88   698.11  ...  3044.74  1763.66  1970.76   \n3   490.55   365.21   421.52   588.39  ...  1382.09  1279.70   907.90   \n4  2186.26  1776.97  2322.13  3626.22  ...  2882.81  2537.95  3437.56   \n\n     x2016    x2017    x2018    x2019    x2020    x2021    x2022  \n0   853.19  1422.45  1416.63  1557.53  1369.41  1111.83  1269.03  \n1   391.16   594.97   471.37   557.68   451.74   724.56   518.33  \n2  2554.70  4696.74  3335.71  4458.82  3450.98  5033.33  4763.37  \n3  1161.74  1787.80  3197.60  3808.49  6593.93  8769.64  6614.67  \n4  3262.29  4602.01  3984.99  5887.01  6511.05  7637.80  5152.51  \n\n[5 rows x 29 columns]",
      "text/html": "<div>\n<style scoped>\n    .dataframe tbody tr th:only-of-type {\n        vertical-align: middle;\n    }\n\n    .dataframe tbody tr th {\n        vertical-align: top;\n    }\n\n    .dataframe thead th {\n        text-align: right;\n    }\n</style>\n<table border=\"1\" class=\"dataframe\">\n  <thead>\n    <tr style=\"text-align: right;\">\n      <th></th>\n      <th>ISIN_First2</th>\n      <th>Unnamed: 1</th>\n      <th>Unnamed: 2</th>\n      <th>ISIN</th>\n      <th>NAME</th>\n      <th>x1999</th>\n      <th>x2000</th>\n      <th>x2001</th>\n      <th>x2002</th>\n      <th>x2003</th>\n      <th>...</th>\n      <th>x2013</th>\n      <th>x2014</th>\n      <th>x2015</th>\n      <th>x2016</th>\n      <th>x2017</th>\n      <th>x2018</th>\n      <th>x2019</th>\n      <th>x2020</th>\n      <th>x2021</th>\n      <th>x2022</th>\n    </tr>\n  </thead>\n  <tbody>\n    <tr>\n      <th>0</th>\n      <td>AT</td>\n      <td>AUSTRIA</td>\n      <td>EUR</td>\n      <td>AT00000VIE62</td>\n      <td>FLUGHAFEN WIEN</td>\n      <td>147.79</td>\n      <td>169.02</td>\n      <td>126.01</td>\n      <td>166.81</td>\n      <td>248.09</td>\n      <td>...</td>\n      <td>684.58</td>\n      <td>771.62</td>\n      <td>806.23</td>\n      <td>853.19</td>\n      <td>1422.45</td>\n      <td>1416.63</td>\n      <td>1557.53</td>\n      <td>1369.41</td>\n      <td>1111.83</td>\n      <td>1269.03</td>\n    </tr>\n    <tr>\n      <th>1</th>\n      <td>AT</td>\n      <td>AUSTRIA</td>\n      <td>EUR</td>\n      <td>AT0000652011</td>\n      <td>ERSTE GROUP BANK</td>\n      <td>102.94</td>\n      <td>108.87</td>\n      <td>131.07</td>\n      <td>169.47</td>\n      <td>316.50</td>\n      <td>...</td>\n      <td>451.57</td>\n      <td>303.59</td>\n      <td>409.64</td>\n      <td>391.16</td>\n      <td>594.97</td>\n      <td>471.37</td>\n      <td>557.68</td>\n      <td>451.74</td>\n      <td>724.56</td>\n      <td>518.33</td>\n    </tr>\n    <tr>\n      <th>2</th>\n      <td>AT</td>\n      <td>AUSTRIA</td>\n      <td>EUR</td>\n      <td>AT0000743059</td>\n      <td>OMV</td>\n      <td>393.88</td>\n      <td>323.77</td>\n      <td>363.83</td>\n      <td>444.88</td>\n      <td>698.11</td>\n      <td>...</td>\n      <td>3044.74</td>\n      <td>1763.66</td>\n      <td>1970.76</td>\n      <td>2554.70</td>\n      <td>4696.74</td>\n      <td>3335.71</td>\n      <td>4458.82</td>\n      <td>3450.98</td>\n      <td>5033.33</td>\n      <td>4763.37</td>\n    </tr>\n    <tr>\n      <th>3</th>\n      <td>AT</td>\n      <td>AUSTRIA</td>\n      <td>EUR</td>\n      <td>AT0000746409</td>\n      <td>VERBUND</td>\n      <td>669.42</td>\n      <td>490.55</td>\n      <td>365.21</td>\n      <td>421.52</td>\n      <td>588.39</td>\n      <td>...</td>\n      <td>1382.09</td>\n      <td>1279.70</td>\n      <td>907.90</td>\n      <td>1161.74</td>\n      <td>1787.80</td>\n      <td>3197.60</td>\n      <td>3808.49</td>\n      <td>6593.93</td>\n      <td>8769.64</td>\n      <td>6614.67</td>\n    </tr>\n    <tr>\n      <th>4</th>\n      <td>AT</td>\n      <td>AUSTRIA</td>\n      <td>EUR</td>\n      <td>AT0000831706</td>\n      <td>WIENERBERGER</td>\n      <td>2579.95</td>\n      <td>2186.26</td>\n      <td>1776.97</td>\n      <td>2322.13</td>\n      <td>3626.22</td>\n      <td>...</td>\n      <td>2882.81</td>\n      <td>2537.95</td>\n      <td>3437.56</td>\n      <td>3262.29</td>\n      <td>4602.01</td>\n      <td>3984.99</td>\n      <td>5887.01</td>\n      <td>6511.05</td>\n      <td>7637.80</td>\n      <td>5152.51</td>\n    </tr>\n  </tbody>\n</table>\n<p>5 rows × 29 columns</p>\n</div>"
     },
     "execution_count": 20,
     "metadata": {},
     "output_type": "execute_result"
    }
   ],
   "source": [
    "dfyri.head()"
   ],
   "metadata": {
    "collapsed": false,
    "ExecuteTime": {
     "end_time": "2024-03-05T07:42:30.246545Z",
     "start_time": "2024-03-05T07:42:30.151477Z"
    }
   }
  },
  {
   "cell_type": "code",
   "execution_count": 21,
   "outputs": [
    {
     "data": {
      "text/plain": "  ISIN_First2 Unnamed: 1 Unnamed: 2          ISIN              NAME    x1999  \\\n0          AT    AUSTRIA        EUR  AT00000VIE62    FLUGHAFEN WIEN   537.09   \n1          AT    AUSTRIA        EUR  AT0000652011  ERSTE GROUP BANK  1956.67   \n2          AT    AUSTRIA        EUR  AT0000743059               OMV  2611.95   \n3          AT    AUSTRIA        EUR  AT0000746409           VERBUND  2111.95   \n4          AT    AUSTRIA        EUR  AT0000831706      WIENERBERGER  1503.25   \n\n     x2000    x2001    x2002    x2003  ...     x2013     x2014     x2015  \\\n0   794.55   560.96   705.15   985.36  ...   1765.22   1952.09   1998.43   \n1  2269.47  2677.13  4006.48  7354.92  ...  15002.04  10003.77  13498.31   \n2  2091.29  2262.75  2651.31  4021.35  ...  15689.64   8716.35   9289.96   \n3  1531.28  1129.55  1285.83  1763.91  ...   3639.54   3150.65   2193.28   \n4  1247.43   974.04  1161.06  1743.94  ...   1866.50   1627.64   2198.92   \n\n      x2016     x2017     x2018     x2019     x2020     x2021     x2022  \n0   2073.22   3394.09   3312.76   3559.53   3129.62   2540.95   2900.21  \n1  12613.95  18633.43  14272.63  16191.42  13115.57  20210.51  13715.54  \n2  11584.60  20761.05  14309.77  18398.00  13214.41  18590.05  16800.81  \n3   2724.73   4117.86   7246.80   8549.44  14549.09  19145.95  14289.58  \n4   2044.74   2846.44   2418.25   3450.66   3675.69   4236.26   2690.25  \n\n[5 rows x 29 columns]",
      "text/html": "<div>\n<style scoped>\n    .dataframe tbody tr th:only-of-type {\n        vertical-align: middle;\n    }\n\n    .dataframe tbody tr th {\n        vertical-align: top;\n    }\n\n    .dataframe thead th {\n        text-align: right;\n    }\n</style>\n<table border=\"1\" class=\"dataframe\">\n  <thead>\n    <tr style=\"text-align: right;\">\n      <th></th>\n      <th>ISIN_First2</th>\n      <th>Unnamed: 1</th>\n      <th>Unnamed: 2</th>\n      <th>ISIN</th>\n      <th>NAME</th>\n      <th>x1999</th>\n      <th>x2000</th>\n      <th>x2001</th>\n      <th>x2002</th>\n      <th>x2003</th>\n      <th>...</th>\n      <th>x2013</th>\n      <th>x2014</th>\n      <th>x2015</th>\n      <th>x2016</th>\n      <th>x2017</th>\n      <th>x2018</th>\n      <th>x2019</th>\n      <th>x2020</th>\n      <th>x2021</th>\n      <th>x2022</th>\n    </tr>\n  </thead>\n  <tbody>\n    <tr>\n      <th>0</th>\n      <td>AT</td>\n      <td>AUSTRIA</td>\n      <td>EUR</td>\n      <td>AT00000VIE62</td>\n      <td>FLUGHAFEN WIEN</td>\n      <td>537.09</td>\n      <td>794.55</td>\n      <td>560.96</td>\n      <td>705.15</td>\n      <td>985.36</td>\n      <td>...</td>\n      <td>1765.22</td>\n      <td>1952.09</td>\n      <td>1998.43</td>\n      <td>2073.22</td>\n      <td>3394.09</td>\n      <td>3312.76</td>\n      <td>3559.53</td>\n      <td>3129.62</td>\n      <td>2540.95</td>\n      <td>2900.21</td>\n    </tr>\n    <tr>\n      <th>1</th>\n      <td>AT</td>\n      <td>AUSTRIA</td>\n      <td>EUR</td>\n      <td>AT0000652011</td>\n      <td>ERSTE GROUP BANK</td>\n      <td>1956.67</td>\n      <td>2269.47</td>\n      <td>2677.13</td>\n      <td>4006.48</td>\n      <td>7354.92</td>\n      <td>...</td>\n      <td>15002.04</td>\n      <td>10003.77</td>\n      <td>13498.31</td>\n      <td>12613.95</td>\n      <td>18633.43</td>\n      <td>14272.63</td>\n      <td>16191.42</td>\n      <td>13115.57</td>\n      <td>20210.51</td>\n      <td>13715.54</td>\n    </tr>\n    <tr>\n      <th>2</th>\n      <td>AT</td>\n      <td>AUSTRIA</td>\n      <td>EUR</td>\n      <td>AT0000743059</td>\n      <td>OMV</td>\n      <td>2611.95</td>\n      <td>2091.29</td>\n      <td>2262.75</td>\n      <td>2651.31</td>\n      <td>4021.35</td>\n      <td>...</td>\n      <td>15689.64</td>\n      <td>8716.35</td>\n      <td>9289.96</td>\n      <td>11584.60</td>\n      <td>20761.05</td>\n      <td>14309.77</td>\n      <td>18398.00</td>\n      <td>13214.41</td>\n      <td>18590.05</td>\n      <td>16800.81</td>\n    </tr>\n    <tr>\n      <th>3</th>\n      <td>AT</td>\n      <td>AUSTRIA</td>\n      <td>EUR</td>\n      <td>AT0000746409</td>\n      <td>VERBUND</td>\n      <td>2111.95</td>\n      <td>1531.28</td>\n      <td>1129.55</td>\n      <td>1285.83</td>\n      <td>1763.91</td>\n      <td>...</td>\n      <td>3639.54</td>\n      <td>3150.65</td>\n      <td>2193.28</td>\n      <td>2724.73</td>\n      <td>4117.86</td>\n      <td>7246.80</td>\n      <td>8549.44</td>\n      <td>14549.09</td>\n      <td>19145.95</td>\n      <td>14289.58</td>\n    </tr>\n    <tr>\n      <th>4</th>\n      <td>AT</td>\n      <td>AUSTRIA</td>\n      <td>EUR</td>\n      <td>AT0000831706</td>\n      <td>WIENERBERGER</td>\n      <td>1503.25</td>\n      <td>1247.43</td>\n      <td>974.04</td>\n      <td>1161.06</td>\n      <td>1743.94</td>\n      <td>...</td>\n      <td>1866.50</td>\n      <td>1627.64</td>\n      <td>2198.92</td>\n      <td>2044.74</td>\n      <td>2846.44</td>\n      <td>2418.25</td>\n      <td>3450.66</td>\n      <td>3675.69</td>\n      <td>4236.26</td>\n      <td>2690.25</td>\n    </tr>\n  </tbody>\n</table>\n<p>5 rows × 29 columns</p>\n</div>"
     },
     "execution_count": 21,
     "metadata": {},
     "output_type": "execute_result"
    }
   ],
   "source": [
    "dfycapitalization.head()"
   ],
   "metadata": {
    "collapsed": false,
    "ExecuteTime": {
     "end_time": "2024-03-05T07:42:30.348033Z",
     "start_time": "2024-03-05T07:42:30.260648Z"
    }
   }
  },
  {
   "cell_type": "markdown",
   "source": [
    "## TASK 1"
   ],
   "metadata": {
    "collapsed": false
   }
  },
  {
   "cell_type": "markdown",
   "source": [
    "Compute the annualized average RI and annualized volatility for all individual assets over the period 2008–2022. Plot and comment the histogram of these distributions. Compute and comment on the correlation between individual average RIs and volatilities in the cross section. (10 points)"
   ],
   "metadata": {
    "collapsed": false
   }
  },
  {
   "cell_type": "code",
   "execution_count": null,
   "outputs": [],
   "source": [
    "import seaborn as sns"
   ],
   "metadata": {
    "collapsed": false
   }
  },
  {
   "cell_type": "code",
   "execution_count": 46,
   "outputs": [],
   "source": [
    "import numpy as np"
   ],
   "metadata": {
    "collapsed": false,
    "ExecuteTime": {
     "end_time": "2024-03-05T07:59:24.988981Z",
     "start_time": "2024-03-05T07:59:24.842392Z"
    }
   }
  },
  {
   "cell_type": "markdown",
   "source": [
    "### Annualized average RI"
   ],
   "metadata": {
    "collapsed": false
   }
  },
  {
   "cell_type": "code",
   "execution_count": 22,
   "outputs": [],
   "source": [
    "dfmcapitalization.drop(dfmcapitalization.columns[:4], axis=1, inplace=True)"
   ],
   "metadata": {
    "collapsed": false,
    "ExecuteTime": {
     "end_time": "2024-03-05T07:45:25.373483Z",
     "start_time": "2024-03-05T07:45:25.281784Z"
    }
   }
  },
  {
   "cell_type": "code",
   "execution_count": 24,
   "outputs": [],
   "source": [
    "dfmcapitalization.set_index('NAME', inplace = True)\n",
    "dfmcapitalizationT = dfmcapitalization.T"
   ],
   "metadata": {
    "collapsed": false,
    "ExecuteTime": {
     "end_time": "2024-03-05T07:46:02.196886Z",
     "start_time": "2024-03-05T07:46:02.141515Z"
    }
   }
  },
  {
   "cell_type": "code",
   "execution_count": 25,
   "outputs": [
    {
     "data": {
      "text/plain": "NAME                 FLUGHAFEN WIEN  ERSTE GROUP BANK       OMV   VERBUND  \\\n2000-01-31 00:00:00          567.85           1803.98   2583.84   1655.07   \n2000-02-29 00:00:00          559.05           1857.91   2113.74   1781.21   \n2000-03-31 00:00:00          576.48           1910.40   2065.10   1618.73   \n2000-04-30 00:00:00          498.86           1827.24   2223.10   1446.45   \n2000-05-31 00:00:00          517.64           1810.26   2305.32   1554.72   \n...                             ...               ...       ...       ...   \n2022-08-31 00:00:00         2778.87           9715.28  13255.37  16321.45   \n2022-09-30 00:00:00         2719.75           9532.79  11981.47  14584.20   \n2022-10-31 00:00:00         2739.62          10602.50  15085.69  13333.42   \n2022-11-30 00:00:00         2854.20          13099.32  16902.76  15082.96   \n2022-12-31 00:00:00         2900.21          13715.54  16800.81  14289.58   \n\nNAME                 WIENERBERGER  VIENNA INSURANCE GROUP A  VOESTALPINE  \\\n2000-01-31 00:00:00       1386.43                    147.82      1065.59   \n2000-02-29 00:00:00       1283.95                    142.98      1016.74   \n2000-03-31 00:00:00       1428.44                    142.12      1026.40   \n2000-04-30 00:00:00       1487.43                    139.02       944.30   \n2000-05-31 00:00:00       1567.26                    145.87       912.06   \n...                           ...                       ...          ...   \n2022-08-31 00:00:00       2703.34                   3043.93      3612.25   \n2022-09-30 00:00:00       2324.62                   2620.80      3062.82   \n2022-10-31 00:00:00       2634.32                   2865.33      3878.67   \n2022-11-30 00:00:00       2896.84                   2939.04      4772.57   \n2022-12-31 00:00:00       2690.25                   3053.25      4722.09   \n\nNAME                 MAYR-MELNHOF KARTON  IMMOFINANZ    SOLVAY  ...   FABEGE  \\\n2000-01-31 00:00:00               644.41      263.96   5767.75  ...   350.51   \n2000-02-29 00:00:00               659.49      261.40   5861.75  ...   365.35   \n2000-03-31 00:00:00               604.19      260.94   6044.04  ...   384.71   \n2000-04-30 00:00:00               567.35      318.10   5709.31  ...   398.26   \n2000-05-31 00:00:00               567.61      333.43   5630.25  ...   382.20   \n...                                  ...         ...       ...  ...      ...   \n2022-08-31 00:00:00              2996.46     2063.65   8585.01  ...  2940.99   \n2022-09-30 00:00:00              2586.32     1695.41   8260.50  ...  2262.35   \n2022-10-31 00:00:00              2846.36     1636.38   9547.28  ...  2400.10   \n2022-11-30 00:00:00              3336.07     1753.36  10234.37  ...  2699.29   \n2022-12-31 00:00:00              3227.43     1719.74  10673.85  ...  2815.91   \n\nNAME                 KINNEVIK B  INVESTOR A  \\\n2000-01-31 00:00:00      435.17     5449.81   \n2000-02-29 00:00:00      548.46     5599.56   \n2000-03-31 00:00:00      579.72     6065.19   \n2000-04-30 00:00:00      499.03     5657.33   \n2000-05-31 00:00:00      472.14     5317.04   \n...                         ...         ...   \n2022-08-31 00:00:00     3479.40    20847.37   \n2022-09-30 00:00:00     3227.76    19272.98   \n2022-10-31 00:00:00     2997.73    21199.72   \n2022-11-30 00:00:00     3626.43    23377.18   \n2022-12-31 00:00:00     3335.31    23195.38   \n\nNAME                 SWEDISH MATCH DEAD - DELIST.02/01/23  HEXAGON B  \\\n2000-01-31 00:00:00                               1443.42     197.04   \n2000-02-29 00:00:00                               1398.86     212.77   \n2000-03-31 00:00:00                               1320.16     232.88   \n2000-04-30 00:00:00                               1194.48     218.50   \n2000-05-31 00:00:00                               1239.84     209.29   \n...                                                   ...        ...   \n2022-08-31 00:00:00                              15360.14   26713.27   \n2022-09-30 00:00:00                              15116.01   24484.81   \n2022-10-31 00:00:00                              15677.18   25645.89   \n2022-11-30 00:00:00                              16445.79   28753.87   \n2022-12-31 00:00:00                              16619.16   27149.01   \n\nNAME                 NIBE INDUSTRIER  ELECTROLUX B  ATLAS COPCO A  \\\n2000-01-31 00:00:00            61.11       7593.79        3539.84   \n2000-02-29 00:00:00            64.39       6702.68        3231.37   \n2000-03-31 00:00:00            68.47       6739.48        3400.32   \n2000-04-30 00:00:00            67.18       6026.53        3273.63   \n2000-05-31 00:00:00            65.64       6006.13        3104.37   \n...                              ...           ...            ...   \n2022-08-31 00:00:00         16809.54       3496.16       34336.09   \n2022-09-30 00:00:00         16082.16       2878.77       31707.46   \n2022-10-31 00:00:00         14214.49       3389.53       35865.30   \n2022-11-30 00:00:00         16381.75       3828.45       40666.87   \n2022-12-31 00:00:00         16615.26       3714.02       39667.59   \n\nNAME                 MODERN TIMES GROUP MTG B  BOLIDEN ORD SHS  \n2000-01-31 00:00:00                   2083.35           231.99  \n2000-02-29 00:00:00                   2318.42           176.27  \n2000-03-31 00:00:00                   2166.79           277.91  \n2000-04-30 00:00:00                   2195.59           219.57  \n2000-05-31 00:00:00                   1990.56           231.71  \n...                                       ...              ...  \n2022-08-31 00:00:00                   1119.39          8836.91  \n2022-09-30 00:00:00                    846.93          8541.12  \n2022-10-31 00:00:00                    951.81          7959.95  \n2022-11-30 00:00:00                    978.44          9949.04  \n2022-12-31 00:00:00                   1087.43         10270.25  \n\n[276 rows x 508 columns]",
      "text/html": "<div>\n<style scoped>\n    .dataframe tbody tr th:only-of-type {\n        vertical-align: middle;\n    }\n\n    .dataframe tbody tr th {\n        vertical-align: top;\n    }\n\n    .dataframe thead th {\n        text-align: right;\n    }\n</style>\n<table border=\"1\" class=\"dataframe\">\n  <thead>\n    <tr style=\"text-align: right;\">\n      <th>NAME</th>\n      <th>FLUGHAFEN WIEN</th>\n      <th>ERSTE GROUP BANK</th>\n      <th>OMV</th>\n      <th>VERBUND</th>\n      <th>WIENERBERGER</th>\n      <th>VIENNA INSURANCE GROUP A</th>\n      <th>VOESTALPINE</th>\n      <th>MAYR-MELNHOF KARTON</th>\n      <th>IMMOFINANZ</th>\n      <th>SOLVAY</th>\n      <th>...</th>\n      <th>FABEGE</th>\n      <th>KINNEVIK B</th>\n      <th>INVESTOR A</th>\n      <th>SWEDISH MATCH DEAD - DELIST.02/01/23</th>\n      <th>HEXAGON B</th>\n      <th>NIBE INDUSTRIER</th>\n      <th>ELECTROLUX B</th>\n      <th>ATLAS COPCO A</th>\n      <th>MODERN TIMES GROUP MTG B</th>\n      <th>BOLIDEN ORD SHS</th>\n    </tr>\n  </thead>\n  <tbody>\n    <tr>\n      <th>2000-01-31 00:00:00</th>\n      <td>567.85</td>\n      <td>1803.98</td>\n      <td>2583.84</td>\n      <td>1655.07</td>\n      <td>1386.43</td>\n      <td>147.82</td>\n      <td>1065.59</td>\n      <td>644.41</td>\n      <td>263.96</td>\n      <td>5767.75</td>\n      <td>...</td>\n      <td>350.51</td>\n      <td>435.17</td>\n      <td>5449.81</td>\n      <td>1443.42</td>\n      <td>197.04</td>\n      <td>61.11</td>\n      <td>7593.79</td>\n      <td>3539.84</td>\n      <td>2083.35</td>\n      <td>231.99</td>\n    </tr>\n    <tr>\n      <th>2000-02-29 00:00:00</th>\n      <td>559.05</td>\n      <td>1857.91</td>\n      <td>2113.74</td>\n      <td>1781.21</td>\n      <td>1283.95</td>\n      <td>142.98</td>\n      <td>1016.74</td>\n      <td>659.49</td>\n      <td>261.40</td>\n      <td>5861.75</td>\n      <td>...</td>\n      <td>365.35</td>\n      <td>548.46</td>\n      <td>5599.56</td>\n      <td>1398.86</td>\n      <td>212.77</td>\n      <td>64.39</td>\n      <td>6702.68</td>\n      <td>3231.37</td>\n      <td>2318.42</td>\n      <td>176.27</td>\n    </tr>\n    <tr>\n      <th>2000-03-31 00:00:00</th>\n      <td>576.48</td>\n      <td>1910.40</td>\n      <td>2065.10</td>\n      <td>1618.73</td>\n      <td>1428.44</td>\n      <td>142.12</td>\n      <td>1026.40</td>\n      <td>604.19</td>\n      <td>260.94</td>\n      <td>6044.04</td>\n      <td>...</td>\n      <td>384.71</td>\n      <td>579.72</td>\n      <td>6065.19</td>\n      <td>1320.16</td>\n      <td>232.88</td>\n      <td>68.47</td>\n      <td>6739.48</td>\n      <td>3400.32</td>\n      <td>2166.79</td>\n      <td>277.91</td>\n    </tr>\n    <tr>\n      <th>2000-04-30 00:00:00</th>\n      <td>498.86</td>\n      <td>1827.24</td>\n      <td>2223.10</td>\n      <td>1446.45</td>\n      <td>1487.43</td>\n      <td>139.02</td>\n      <td>944.30</td>\n      <td>567.35</td>\n      <td>318.10</td>\n      <td>5709.31</td>\n      <td>...</td>\n      <td>398.26</td>\n      <td>499.03</td>\n      <td>5657.33</td>\n      <td>1194.48</td>\n      <td>218.50</td>\n      <td>67.18</td>\n      <td>6026.53</td>\n      <td>3273.63</td>\n      <td>2195.59</td>\n      <td>219.57</td>\n    </tr>\n    <tr>\n      <th>2000-05-31 00:00:00</th>\n      <td>517.64</td>\n      <td>1810.26</td>\n      <td>2305.32</td>\n      <td>1554.72</td>\n      <td>1567.26</td>\n      <td>145.87</td>\n      <td>912.06</td>\n      <td>567.61</td>\n      <td>333.43</td>\n      <td>5630.25</td>\n      <td>...</td>\n      <td>382.20</td>\n      <td>472.14</td>\n      <td>5317.04</td>\n      <td>1239.84</td>\n      <td>209.29</td>\n      <td>65.64</td>\n      <td>6006.13</td>\n      <td>3104.37</td>\n      <td>1990.56</td>\n      <td>231.71</td>\n    </tr>\n    <tr>\n      <th>...</th>\n      <td>...</td>\n      <td>...</td>\n      <td>...</td>\n      <td>...</td>\n      <td>...</td>\n      <td>...</td>\n      <td>...</td>\n      <td>...</td>\n      <td>...</td>\n      <td>...</td>\n      <td>...</td>\n      <td>...</td>\n      <td>...</td>\n      <td>...</td>\n      <td>...</td>\n      <td>...</td>\n      <td>...</td>\n      <td>...</td>\n      <td>...</td>\n      <td>...</td>\n      <td>...</td>\n    </tr>\n    <tr>\n      <th>2022-08-31 00:00:00</th>\n      <td>2778.87</td>\n      <td>9715.28</td>\n      <td>13255.37</td>\n      <td>16321.45</td>\n      <td>2703.34</td>\n      <td>3043.93</td>\n      <td>3612.25</td>\n      <td>2996.46</td>\n      <td>2063.65</td>\n      <td>8585.01</td>\n      <td>...</td>\n      <td>2940.99</td>\n      <td>3479.40</td>\n      <td>20847.37</td>\n      <td>15360.14</td>\n      <td>26713.27</td>\n      <td>16809.54</td>\n      <td>3496.16</td>\n      <td>34336.09</td>\n      <td>1119.39</td>\n      <td>8836.91</td>\n    </tr>\n    <tr>\n      <th>2022-09-30 00:00:00</th>\n      <td>2719.75</td>\n      <td>9532.79</td>\n      <td>11981.47</td>\n      <td>14584.20</td>\n      <td>2324.62</td>\n      <td>2620.80</td>\n      <td>3062.82</td>\n      <td>2586.32</td>\n      <td>1695.41</td>\n      <td>8260.50</td>\n      <td>...</td>\n      <td>2262.35</td>\n      <td>3227.76</td>\n      <td>19272.98</td>\n      <td>15116.01</td>\n      <td>24484.81</td>\n      <td>16082.16</td>\n      <td>2878.77</td>\n      <td>31707.46</td>\n      <td>846.93</td>\n      <td>8541.12</td>\n    </tr>\n    <tr>\n      <th>2022-10-31 00:00:00</th>\n      <td>2739.62</td>\n      <td>10602.50</td>\n      <td>15085.69</td>\n      <td>13333.42</td>\n      <td>2634.32</td>\n      <td>2865.33</td>\n      <td>3878.67</td>\n      <td>2846.36</td>\n      <td>1636.38</td>\n      <td>9547.28</td>\n      <td>...</td>\n      <td>2400.10</td>\n      <td>2997.73</td>\n      <td>21199.72</td>\n      <td>15677.18</td>\n      <td>25645.89</td>\n      <td>14214.49</td>\n      <td>3389.53</td>\n      <td>35865.30</td>\n      <td>951.81</td>\n      <td>7959.95</td>\n    </tr>\n    <tr>\n      <th>2022-11-30 00:00:00</th>\n      <td>2854.20</td>\n      <td>13099.32</td>\n      <td>16902.76</td>\n      <td>15082.96</td>\n      <td>2896.84</td>\n      <td>2939.04</td>\n      <td>4772.57</td>\n      <td>3336.07</td>\n      <td>1753.36</td>\n      <td>10234.37</td>\n      <td>...</td>\n      <td>2699.29</td>\n      <td>3626.43</td>\n      <td>23377.18</td>\n      <td>16445.79</td>\n      <td>28753.87</td>\n      <td>16381.75</td>\n      <td>3828.45</td>\n      <td>40666.87</td>\n      <td>978.44</td>\n      <td>9949.04</td>\n    </tr>\n    <tr>\n      <th>2022-12-31 00:00:00</th>\n      <td>2900.21</td>\n      <td>13715.54</td>\n      <td>16800.81</td>\n      <td>14289.58</td>\n      <td>2690.25</td>\n      <td>3053.25</td>\n      <td>4722.09</td>\n      <td>3227.43</td>\n      <td>1719.74</td>\n      <td>10673.85</td>\n      <td>...</td>\n      <td>2815.91</td>\n      <td>3335.31</td>\n      <td>23195.38</td>\n      <td>16619.16</td>\n      <td>27149.01</td>\n      <td>16615.26</td>\n      <td>3714.02</td>\n      <td>39667.59</td>\n      <td>1087.43</td>\n      <td>10270.25</td>\n    </tr>\n  </tbody>\n</table>\n<p>276 rows × 508 columns</p>\n</div>"
     },
     "execution_count": 25,
     "metadata": {},
     "output_type": "execute_result"
    }
   ],
   "source": [
    "dfmcapitalizationT"
   ],
   "metadata": {
    "collapsed": false,
    "ExecuteTime": {
     "end_time": "2024-03-05T07:46:16.863570Z",
     "start_time": "2024-03-05T07:46:16.765443Z"
    }
   }
  },
  {
   "cell_type": "code",
   "execution_count": 34,
   "outputs": [],
   "source": [
    "dfmreturns = dfmcapitalizationT.pct_change()"
   ],
   "metadata": {
    "collapsed": false,
    "ExecuteTime": {
     "end_time": "2024-03-05T07:49:31.849068Z",
     "start_time": "2024-03-05T07:49:31.606162Z"
    }
   }
  },
  {
   "cell_type": "code",
   "execution_count": 35,
   "outputs": [
    {
     "data": {
      "text/plain": "NAME                 FLUGHAFEN WIEN  ERSTE GROUP BANK       OMV   VERBUND  \\\n2000-01-31 00:00:00             NaN               NaN       NaN       NaN   \n2000-02-29 00:00:00       -0.015497          0.029895 -0.181939  0.076214   \n2000-03-31 00:00:00        0.031178          0.028252 -0.023011 -0.091219   \n2000-04-30 00:00:00       -0.134645         -0.043530  0.076510 -0.106429   \n2000-05-31 00:00:00        0.037646         -0.009293  0.036984  0.074852   \n...                             ...               ...       ...       ...   \n2022-08-31 00:00:00       -0.010835         -0.102478 -0.040986 -0.125302   \n2022-09-30 00:00:00       -0.021275         -0.018784 -0.096104 -0.106440   \n2022-10-31 00:00:00        0.007306          0.112214  0.259085 -0.085763   \n2022-11-30 00:00:00        0.041823          0.235494  0.120450  0.131215   \n2022-12-31 00:00:00        0.016120          0.047042 -0.006032 -0.052601   \n\nNAME                 WIENERBERGER  VIENNA INSURANCE GROUP A  VOESTALPINE  \\\n2000-01-31 00:00:00           NaN                       NaN          NaN   \n2000-02-29 00:00:00     -0.073916                 -0.032743    -0.045843   \n2000-03-31 00:00:00      0.112536                 -0.006015     0.009501   \n2000-04-30 00:00:00      0.041297                 -0.021813    -0.079988   \n2000-05-31 00:00:00      0.053670                  0.049273    -0.034142   \n...                           ...                       ...          ...   \n2022-08-31 00:00:00      0.025706                  0.041190    -0.093998   \n2022-09-30 00:00:00     -0.140093                 -0.139008    -0.152102   \n2022-10-31 00:00:00      0.133226                  0.093304     0.266372   \n2022-11-30 00:00:00      0.099654                  0.025725     0.230466   \n2022-12-31 00:00:00     -0.071316                  0.038860    -0.010577   \n\nNAME                 MAYR-MELNHOF KARTON  IMMOFINANZ    SOLVAY  ...    FABEGE  \\\n2000-01-31 00:00:00                  NaN         NaN       NaN  ...       NaN   \n2000-02-29 00:00:00             0.023401   -0.009698  0.016298  ...  0.042338   \n2000-03-31 00:00:00            -0.083853   -0.001760  0.031098  ...  0.052990   \n2000-04-30 00:00:00            -0.060974    0.219054 -0.055382  ...  0.035221   \n2000-05-31 00:00:00             0.000458    0.048192 -0.013848  ... -0.040325   \n...                                  ...         ...       ...  ...       ...   \n2022-08-31 00:00:00            -0.056887   -0.023739 -0.069899  ... -0.127152   \n2022-09-30 00:00:00            -0.136875   -0.178441 -0.037800  ... -0.230752   \n2022-10-31 00:00:00             0.100544   -0.034818  0.155775  ...  0.060888   \n2022-11-30 00:00:00             0.172048    0.071487  0.071967  ...  0.124657   \n2022-12-31 00:00:00            -0.032565   -0.019175  0.042942  ...  0.043204   \n\nNAME                 KINNEVIK B  INVESTOR A  \\\n2000-01-31 00:00:00         NaN         NaN   \n2000-02-29 00:00:00    0.260335    0.027478   \n2000-03-31 00:00:00    0.056996    0.083155   \n2000-04-30 00:00:00   -0.139188   -0.067246   \n2000-05-31 00:00:00   -0.053885   -0.060150   \n...                         ...         ...   \n2022-08-31 00:00:00   -0.196648   -0.180800   \n2022-09-30 00:00:00   -0.072323   -0.075520   \n2022-10-31 00:00:00   -0.071266    0.099971   \n2022-11-30 00:00:00    0.209725    0.102712   \n2022-12-31 00:00:00   -0.080277   -0.007777   \n\nNAME                 SWEDISH MATCH DEAD - DELIST.02/01/23  HEXAGON B  \\\n2000-01-31 00:00:00                                   NaN        NaN   \n2000-02-29 00:00:00                             -0.030871   0.079832   \n2000-03-31 00:00:00                             -0.056260   0.094515   \n2000-04-30 00:00:00                             -0.095201  -0.061749   \n2000-05-31 00:00:00                              0.037975  -0.042151   \n...                                                   ...        ...   \n2022-08-31 00:00:00                             -0.033070  -0.117771   \n2022-09-30 00:00:00                             -0.015894  -0.083421   \n2022-10-31 00:00:00                              0.037124   0.047420   \n2022-11-30 00:00:00                              0.049027   0.121188   \n2022-12-31 00:00:00                              0.010542  -0.055814   \n\nNAME                 NIBE INDUSTRIER  ELECTROLUX B  ATLAS COPCO A  \\\n2000-01-31 00:00:00              NaN           NaN            NaN   \n2000-02-29 00:00:00         0.053674     -0.117347      -0.087142   \n2000-03-31 00:00:00         0.063364      0.005490       0.052284   \n2000-04-30 00:00:00        -0.018840     -0.105787      -0.037258   \n2000-05-31 00:00:00        -0.022923     -0.003385      -0.051704   \n...                              ...           ...            ...   \n2022-08-31 00:00:00        -0.055794     -0.111129      -0.116587   \n2022-09-30 00:00:00        -0.043272     -0.176591      -0.076556   \n2022-10-31 00:00:00        -0.116133      0.177423       0.131131   \n2022-11-30 00:00:00         0.152468      0.129493       0.133878   \n2022-12-31 00:00:00         0.014254     -0.029889      -0.024572   \n\nNAME                 MODERN TIMES GROUP MTG B  BOLIDEN ORD SHS  \n2000-01-31 00:00:00                       NaN              NaN  \n2000-02-29 00:00:00                  0.112833        -0.240183  \n2000-03-31 00:00:00                 -0.065402         0.576615  \n2000-04-30 00:00:00                  0.013292        -0.209924  \n2000-05-31 00:00:00                 -0.093383         0.055290  \n...                                       ...              ...  \n2022-08-31 00:00:00                 -0.143667        -0.022415  \n2022-09-30 00:00:00                 -0.243400        -0.033472  \n2022-10-31 00:00:00                  0.123835        -0.068044  \n2022-11-30 00:00:00                  0.027978         0.249887  \n2022-12-31 00:00:00                  0.111392         0.032286  \n\n[276 rows x 508 columns]",
      "text/html": "<div>\n<style scoped>\n    .dataframe tbody tr th:only-of-type {\n        vertical-align: middle;\n    }\n\n    .dataframe tbody tr th {\n        vertical-align: top;\n    }\n\n    .dataframe thead th {\n        text-align: right;\n    }\n</style>\n<table border=\"1\" class=\"dataframe\">\n  <thead>\n    <tr style=\"text-align: right;\">\n      <th>NAME</th>\n      <th>FLUGHAFEN WIEN</th>\n      <th>ERSTE GROUP BANK</th>\n      <th>OMV</th>\n      <th>VERBUND</th>\n      <th>WIENERBERGER</th>\n      <th>VIENNA INSURANCE GROUP A</th>\n      <th>VOESTALPINE</th>\n      <th>MAYR-MELNHOF KARTON</th>\n      <th>IMMOFINANZ</th>\n      <th>SOLVAY</th>\n      <th>...</th>\n      <th>FABEGE</th>\n      <th>KINNEVIK B</th>\n      <th>INVESTOR A</th>\n      <th>SWEDISH MATCH DEAD - DELIST.02/01/23</th>\n      <th>HEXAGON B</th>\n      <th>NIBE INDUSTRIER</th>\n      <th>ELECTROLUX B</th>\n      <th>ATLAS COPCO A</th>\n      <th>MODERN TIMES GROUP MTG B</th>\n      <th>BOLIDEN ORD SHS</th>\n    </tr>\n  </thead>\n  <tbody>\n    <tr>\n      <th>2000-01-31 00:00:00</th>\n      <td>NaN</td>\n      <td>NaN</td>\n      <td>NaN</td>\n      <td>NaN</td>\n      <td>NaN</td>\n      <td>NaN</td>\n      <td>NaN</td>\n      <td>NaN</td>\n      <td>NaN</td>\n      <td>NaN</td>\n      <td>...</td>\n      <td>NaN</td>\n      <td>NaN</td>\n      <td>NaN</td>\n      <td>NaN</td>\n      <td>NaN</td>\n      <td>NaN</td>\n      <td>NaN</td>\n      <td>NaN</td>\n      <td>NaN</td>\n      <td>NaN</td>\n    </tr>\n    <tr>\n      <th>2000-02-29 00:00:00</th>\n      <td>-0.015497</td>\n      <td>0.029895</td>\n      <td>-0.181939</td>\n      <td>0.076214</td>\n      <td>-0.073916</td>\n      <td>-0.032743</td>\n      <td>-0.045843</td>\n      <td>0.023401</td>\n      <td>-0.009698</td>\n      <td>0.016298</td>\n      <td>...</td>\n      <td>0.042338</td>\n      <td>0.260335</td>\n      <td>0.027478</td>\n      <td>-0.030871</td>\n      <td>0.079832</td>\n      <td>0.053674</td>\n      <td>-0.117347</td>\n      <td>-0.087142</td>\n      <td>0.112833</td>\n      <td>-0.240183</td>\n    </tr>\n    <tr>\n      <th>2000-03-31 00:00:00</th>\n      <td>0.031178</td>\n      <td>0.028252</td>\n      <td>-0.023011</td>\n      <td>-0.091219</td>\n      <td>0.112536</td>\n      <td>-0.006015</td>\n      <td>0.009501</td>\n      <td>-0.083853</td>\n      <td>-0.001760</td>\n      <td>0.031098</td>\n      <td>...</td>\n      <td>0.052990</td>\n      <td>0.056996</td>\n      <td>0.083155</td>\n      <td>-0.056260</td>\n      <td>0.094515</td>\n      <td>0.063364</td>\n      <td>0.005490</td>\n      <td>0.052284</td>\n      <td>-0.065402</td>\n      <td>0.576615</td>\n    </tr>\n    <tr>\n      <th>2000-04-30 00:00:00</th>\n      <td>-0.134645</td>\n      <td>-0.043530</td>\n      <td>0.076510</td>\n      <td>-0.106429</td>\n      <td>0.041297</td>\n      <td>-0.021813</td>\n      <td>-0.079988</td>\n      <td>-0.060974</td>\n      <td>0.219054</td>\n      <td>-0.055382</td>\n      <td>...</td>\n      <td>0.035221</td>\n      <td>-0.139188</td>\n      <td>-0.067246</td>\n      <td>-0.095201</td>\n      <td>-0.061749</td>\n      <td>-0.018840</td>\n      <td>-0.105787</td>\n      <td>-0.037258</td>\n      <td>0.013292</td>\n      <td>-0.209924</td>\n    </tr>\n    <tr>\n      <th>2000-05-31 00:00:00</th>\n      <td>0.037646</td>\n      <td>-0.009293</td>\n      <td>0.036984</td>\n      <td>0.074852</td>\n      <td>0.053670</td>\n      <td>0.049273</td>\n      <td>-0.034142</td>\n      <td>0.000458</td>\n      <td>0.048192</td>\n      <td>-0.013848</td>\n      <td>...</td>\n      <td>-0.040325</td>\n      <td>-0.053885</td>\n      <td>-0.060150</td>\n      <td>0.037975</td>\n      <td>-0.042151</td>\n      <td>-0.022923</td>\n      <td>-0.003385</td>\n      <td>-0.051704</td>\n      <td>-0.093383</td>\n      <td>0.055290</td>\n    </tr>\n    <tr>\n      <th>...</th>\n      <td>...</td>\n      <td>...</td>\n      <td>...</td>\n      <td>...</td>\n      <td>...</td>\n      <td>...</td>\n      <td>...</td>\n      <td>...</td>\n      <td>...</td>\n      <td>...</td>\n      <td>...</td>\n      <td>...</td>\n      <td>...</td>\n      <td>...</td>\n      <td>...</td>\n      <td>...</td>\n      <td>...</td>\n      <td>...</td>\n      <td>...</td>\n      <td>...</td>\n      <td>...</td>\n    </tr>\n    <tr>\n      <th>2022-08-31 00:00:00</th>\n      <td>-0.010835</td>\n      <td>-0.102478</td>\n      <td>-0.040986</td>\n      <td>-0.125302</td>\n      <td>0.025706</td>\n      <td>0.041190</td>\n      <td>-0.093998</td>\n      <td>-0.056887</td>\n      <td>-0.023739</td>\n      <td>-0.069899</td>\n      <td>...</td>\n      <td>-0.127152</td>\n      <td>-0.196648</td>\n      <td>-0.180800</td>\n      <td>-0.033070</td>\n      <td>-0.117771</td>\n      <td>-0.055794</td>\n      <td>-0.111129</td>\n      <td>-0.116587</td>\n      <td>-0.143667</td>\n      <td>-0.022415</td>\n    </tr>\n    <tr>\n      <th>2022-09-30 00:00:00</th>\n      <td>-0.021275</td>\n      <td>-0.018784</td>\n      <td>-0.096104</td>\n      <td>-0.106440</td>\n      <td>-0.140093</td>\n      <td>-0.139008</td>\n      <td>-0.152102</td>\n      <td>-0.136875</td>\n      <td>-0.178441</td>\n      <td>-0.037800</td>\n      <td>...</td>\n      <td>-0.230752</td>\n      <td>-0.072323</td>\n      <td>-0.075520</td>\n      <td>-0.015894</td>\n      <td>-0.083421</td>\n      <td>-0.043272</td>\n      <td>-0.176591</td>\n      <td>-0.076556</td>\n      <td>-0.243400</td>\n      <td>-0.033472</td>\n    </tr>\n    <tr>\n      <th>2022-10-31 00:00:00</th>\n      <td>0.007306</td>\n      <td>0.112214</td>\n      <td>0.259085</td>\n      <td>-0.085763</td>\n      <td>0.133226</td>\n      <td>0.093304</td>\n      <td>0.266372</td>\n      <td>0.100544</td>\n      <td>-0.034818</td>\n      <td>0.155775</td>\n      <td>...</td>\n      <td>0.060888</td>\n      <td>-0.071266</td>\n      <td>0.099971</td>\n      <td>0.037124</td>\n      <td>0.047420</td>\n      <td>-0.116133</td>\n      <td>0.177423</td>\n      <td>0.131131</td>\n      <td>0.123835</td>\n      <td>-0.068044</td>\n    </tr>\n    <tr>\n      <th>2022-11-30 00:00:00</th>\n      <td>0.041823</td>\n      <td>0.235494</td>\n      <td>0.120450</td>\n      <td>0.131215</td>\n      <td>0.099654</td>\n      <td>0.025725</td>\n      <td>0.230466</td>\n      <td>0.172048</td>\n      <td>0.071487</td>\n      <td>0.071967</td>\n      <td>...</td>\n      <td>0.124657</td>\n      <td>0.209725</td>\n      <td>0.102712</td>\n      <td>0.049027</td>\n      <td>0.121188</td>\n      <td>0.152468</td>\n      <td>0.129493</td>\n      <td>0.133878</td>\n      <td>0.027978</td>\n      <td>0.249887</td>\n    </tr>\n    <tr>\n      <th>2022-12-31 00:00:00</th>\n      <td>0.016120</td>\n      <td>0.047042</td>\n      <td>-0.006032</td>\n      <td>-0.052601</td>\n      <td>-0.071316</td>\n      <td>0.038860</td>\n      <td>-0.010577</td>\n      <td>-0.032565</td>\n      <td>-0.019175</td>\n      <td>0.042942</td>\n      <td>...</td>\n      <td>0.043204</td>\n      <td>-0.080277</td>\n      <td>-0.007777</td>\n      <td>0.010542</td>\n      <td>-0.055814</td>\n      <td>0.014254</td>\n      <td>-0.029889</td>\n      <td>-0.024572</td>\n      <td>0.111392</td>\n      <td>0.032286</td>\n    </tr>\n  </tbody>\n</table>\n<p>276 rows × 508 columns</p>\n</div>"
     },
     "execution_count": 35,
     "metadata": {},
     "output_type": "execute_result"
    }
   ],
   "source": [
    "dfmreturns"
   ],
   "metadata": {
    "collapsed": false,
    "ExecuteTime": {
     "end_time": "2024-03-05T07:49:36.009431Z",
     "start_time": "2024-03-05T07:49:35.870801Z"
    }
   }
  },
  {
   "cell_type": "code",
   "execution_count": 36,
   "outputs": [],
   "source": [
    "dfannualizedreturns = dfmreturn.mean() * 12"
   ],
   "metadata": {
    "collapsed": false,
    "ExecuteTime": {
     "end_time": "2024-03-05T07:49:46.138886Z",
     "start_time": "2024-03-05T07:49:46.064414Z"
    }
   }
  },
  {
   "cell_type": "code",
   "execution_count": 37,
   "outputs": [
    {
     "data": {
      "text/plain": "NAME\nFLUGHAFEN WIEN              0.115048\nERSTE GROUP BANK            0.178020\nOMV                         0.145874\nVERBUND                     0.144949\nWIENERBERGER                0.105628\n                              ...   \nNIBE INDUSTRIER             0.304830\nELECTROLUX B                0.039094\nATLAS COPCO A               0.158279\nMODERN TIMES GROUP MTG B    0.096511\nBOLIDEN ORD SHS             0.353588\nLength: 508, dtype: float64"
     },
     "execution_count": 37,
     "metadata": {},
     "output_type": "execute_result"
    }
   ],
   "source": [
    "dfannualizedreturns"
   ],
   "metadata": {
    "collapsed": false,
    "ExecuteTime": {
     "end_time": "2024-03-05T07:49:48.737826Z",
     "start_time": "2024-03-05T07:49:48.570604Z"
    }
   }
  },
  {
   "cell_type": "code",
   "execution_count": 38,
   "outputs": [
    {
     "data": {
      "text/plain": "<Axes: xlabel='NAME'>"
     },
     "execution_count": 38,
     "metadata": {},
     "output_type": "execute_result"
    },
    {
     "data": {
      "text/plain": "<Figure size 640x480 with 1 Axes>",
      "image/png": "[encoded data removed]"
     },
     "metadata": {},
     "output_type": "display_data"
    }
   ],
   "source": [
    "dfannualizedreturns.plot()"
   ],
   "metadata": {
    "collapsed": false,
    "ExecuteTime": {
     "end_time": "2024-03-05T07:49:55.076727Z",
     "start_time": "2024-03-05T07:49:53.793448Z"
    }
   }
  },
  {
   "cell_type": "code",
   "execution_count": 43,
   "outputs": [
    {
     "data": {
      "text/plain": "<Axes: ylabel='Count'>"
     },
     "execution_count": 43,
     "metadata": {},
     "output_type": "execute_result"
    },
    {
     "data": {
      "text/plain": "<Figure size 640x480 with 1 Axes>",
      "image/png": "[encoded data removed]"
     },
     "metadata": {},
     "output_type": "display_data"
    }
   ],
   "source": [
    "sns.histplot(dfannualizedreturns)"
   ],
   "metadata": {
    "collapsed": false,
    "ExecuteTime": {
     "end_time": "2024-03-05T07:53:03.940275Z",
     "start_time": "2024-03-05T07:52:57.025200Z"
    }
   }
  },
  {
   "cell_type": "markdown",
   "source": [
    "### Annualized volatility"
   ],
   "metadata": {
    "collapsed": false
   }
  },
  {
   "cell_type": "code",
   "execution_count": 47,
   "outputs": [
    {
     "data": {
      "text/plain": "NAME\nFLUGHAFEN WIEN              0.084848\nERSTE GROUP BANK            0.120586\nOMV                         0.102971\nVERBUND                     0.092010\nWIENERBERGER                0.111653\n                              ...   \nNIBE INDUSTRIER             0.098477\nELECTROLUX B                0.107010\nATLAS COPCO A               0.093084\nMODERN TIMES GROUP MTG B    0.140888\nBOLIDEN ORD SHS             0.197419\nLength: 508, dtype: float64"
     },
     "execution_count": 47,
     "metadata": {},
     "output_type": "execute_result"
    }
   ],
   "source": [
    "deviations = dfmreturns - dfmreturns.mean()\n",
    "squared_deviations = deviations**2\n",
    "mean_squared_deviations = squared_deviations.mean()\n",
    "\n",
    "dfmvolatility = np.sqrt(mean_squared_deviations)\n",
    "dfmvolatility"
   ],
   "metadata": {
    "collapsed": false,
    "ExecuteTime": {
     "end_time": "2024-03-05T07:59:35.504626Z",
     "start_time": "2024-03-05T07:59:35.440084Z"
    }
   }
  },
  {
   "cell_type": "code",
   "execution_count": 48,
   "outputs": [
    {
     "data": {
      "text/plain": "NAME\nFLUGHAFEN WIEN              0.293923\nERSTE GROUP BANK            0.417721\nOMV                         0.356703\nVERBUND                     0.318733\nWIENERBERGER                0.386777\n                              ...   \nNIBE INDUSTRIER             0.341135\nELECTROLUX B                0.370693\nATLAS COPCO A               0.322453\nMODERN TIMES GROUP MTG B    0.488051\nBOLIDEN ORD SHS             0.683881\nLength: 508, dtype: float64"
     },
     "execution_count": 48,
     "metadata": {},
     "output_type": "execute_result"
    }
   ],
   "source": [
    "dfannualizedvolatility = dfmvolatility*(12**0.5)\n",
    "dfannualizedvolatility"
   ],
   "metadata": {
    "collapsed": false,
    "ExecuteTime": {
     "end_time": "2024-03-05T08:00:29.768431Z",
     "start_time": "2024-03-05T08:00:29.692826Z"
    }
   }
  },
  {
   "cell_type": "code",
   "execution_count": 49,
   "outputs": [
    {
     "data": {
      "text/plain": "<Axes: xlabel='NAME'>"
     },
     "execution_count": 49,
     "metadata": {},
     "output_type": "execute_result"
    },
    {
     "data": {
      "text/plain": "<Figure size 640x480 with 1 Axes>",
      "image/png": "[encoded data removed]"
     },
     "metadata": {},
     "output_type": "display_data"
    }
   ],
   "source": [
    "dfannualizedvolatility.plot()"
   ],
   "metadata": {
    "collapsed": false,
    "ExecuteTime": {
     "end_time": "2024-03-05T08:00:49.433253Z",
     "start_time": "2024-03-05T08:00:48.650957Z"
    }
   }
  },
  {
   "cell_type": "markdown",
   "source": [
    "## TASK 2"
   ],
   "metadata": {
    "collapsed": false
   }
  },
  {
   "cell_type": "markdown",
   "source": [
    "Report the following statistics for both portfolios (equally-weighted portfolio & the market-cap weighted portfolio with monthly rebalancing over the period 2008–2022): annualized average return, annualized volatility, Sharpe ratio, minimum return, and maximum return. Plot the time series of cumulated returns for both portfolios. (15 points)"
   ],
   "metadata": {
    "collapsed": false
   }
  },
  {
   "cell_type": "markdown",
   "source": [
    "### Equally-weighted portfolio"
   ],
   "metadata": {
    "collapsed": false
   }
  },
  {
   "cell_type": "code",
   "execution_count": 50,
   "outputs": [
    {
     "data": {
      "text/plain": "0.001968503937007874"
     },
     "execution_count": 50,
     "metadata": {},
     "output_type": "execute_result"
    }
   ],
   "source": [
    "#Creating a vector with equal weights for the 508 firms\n",
    "n_columns = 508\n",
    "\n",
    "#df_weight = pd.DataFrame([1/n_columns] * n_columns).T\n",
    "weight = 1/508\n",
    "weight"
   ],
   "metadata": {
    "collapsed": false,
    "ExecuteTime": {
     "end_time": "2024-03-05T08:04:25.711039Z",
     "start_time": "2024-03-05T08:04:25.660344Z"
    }
   }
  },
  {
   "cell_type": "code",
   "execution_count": 52,
   "outputs": [
    {
     "data": {
      "text/plain": "2000-01-31 00:00:00    0.000000\n2000-02-29 00:00:00    0.030608\n2000-03-31 00:00:00    0.036612\n2000-04-30 00:00:00   -0.034100\n2000-05-31 00:00:00    0.010113\n                         ...   \n2022-08-31 00:00:00   -0.068045\n2022-09-30 00:00:00   -0.119233\n2022-10-31 00:00:00    0.099507\n2022-11-30 00:00:00    0.107013\n2022-12-31 00:00:00    0.011110\nLength: 276, dtype: float64"
     },
     "execution_count": 52,
     "metadata": {},
     "output_type": "execute_result"
    }
   ],
   "source": [
    "#Equally weighted portfolio (average returns of all firms per each month)\n",
    "portfolioreturnsEW = (dfmreturns * weight).sum(axis=1)\n",
    "portfolioreturnsEW"
   ],
   "metadata": {
    "collapsed": false,
    "ExecuteTime": {
     "end_time": "2024-03-05T08:05:04.035016Z",
     "start_time": "2024-03-05T08:05:03.920528Z"
    }
   }
  },
  {
   "cell_type": "markdown",
   "source": [
    "### Market-cap portfolio"
   ],
   "metadata": {
    "collapsed": false
   }
  },
  {
   "cell_type": "code",
   "execution_count": 53,
   "outputs": [
    {
     "data": {
      "text/plain": "2000-01-31 00:00:00    0.000000\n2000-02-29 00:00:00    0.081739\n2000-03-31 00:00:00    0.039116\n2000-04-30 00:00:00   -0.036216\n2000-05-31 00:00:00   -0.001077\n                         ...   \n2022-08-31 00:00:00   -0.061243\n2022-09-30 00:00:00   -0.087186\n2022-10-31 00:00:00    0.073307\n2022-11-30 00:00:00    0.110038\n2022-12-31 00:00:00   -0.005219\nLength: 276, dtype: float64"
     },
     "execution_count": 53,
     "metadata": {},
     "output_type": "execute_result"
    }
   ],
   "source": [
    "# Calculate weights for each month based on previous month's capitalization\n",
    "totalcapprevious = dfmcapitalizationT.shift(1).sum(axis=1)\n",
    "weights = dfmcapitalizationT.shift(1).div(totalcapprevious, axis=0)\n",
    "\n",
    "# Calculate the value-weighted portfolio returns\n",
    "portfolioreturnsVW = (dfmreturns * weights).sum(axis=1)\n",
    "portfolioreturnsVW\n"
   ],
   "metadata": {
    "collapsed": false,
    "ExecuteTime": {
     "end_time": "2024-03-05T08:06:56.184309Z",
     "start_time": "2024-03-05T08:06:56.086668Z"
    }
   }
  },
  {
   "cell_type": "code",
   "execution_count": null,
   "outputs": [],
   "source": [],
   "metadata": {
    "collapsed": false
   }
  }
 ],
 "metadata": {
  "language_info": {
   "name": "python"
  },
  "kernelspec": {
   "name": "python3",
   "language": "python",
   "display_name": "Python 3 (ipykernel)"
  }
 },
 "nbformat": 4,
 "nbformat_minor": 2
}
