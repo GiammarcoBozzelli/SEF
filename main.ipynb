{
 "cells": [
  {
   "cell_type": "code",
   "execution_count": 1592,
   "metadata": {},
   "outputs": [],
   "source": [
    "#We're in EXERCISE 3"
   ]
  },
  {
   "cell_type": "code",
   "execution_count": 1593,
   "metadata": {},
   "outputs": [
    {
     "data": {
      "text/plain": [
       "'pip install pandas\\npip install matplotlib\\npip install numpy'"
      ]
     },
     "execution_count": 1593,
     "metadata": {},
     "output_type": "execute_result"
    }
   ],
   "source": [
    "'''pip install pandas\n",
    "pip install matplotlib\n",
    "pip install numpy'''"
   ]
  },
  {
   "cell_type": "code",
   "execution_count": 1594,
   "metadata": {},
   "outputs": [],
   "source": [
    "import pandas as pd\n",
    "import matplotlib.pyplot as plt\n",
    "import seaborn as sns\n",
    "import numpy as np\n",
    "import scipy.optimize as sco"
   ]
  },
  {
   "cell_type": "markdown",
   "metadata": {},
   "source": [
    "# Import datatsets"
   ]
  },
  {
   "cell_type": "code",
   "execution_count": 1595,
   "metadata": {},
   "outputs": [],
   "source": [
    "#Monthly RI and capitalization of EUR firms\n",
    "df_EUR_M_cap=pd.read_csv('https://raw.githubusercontent.com/GiammarcoBozzelli/SEF/ex_2/df_EUR_monthly_capitalization.csv')\n",
    "df_EUR_M_RI=pd.read_csv('https://raw.githubusercontent.com/GiammarcoBozzelli/SEF/ex_2/df_EUR_monthly_RI.csv')\n",
    "#Yearly RI and capitalization of EUR firms\n",
    "df_EUR_Y_cap=pd.read_csv('https://raw.githubusercontent.com/GiammarcoBozzelli/SEF/baltha/df_EUR_yearly_capitalization.csv')\n",
    "df_EUR_Y_RI=pd.read_csv('https://raw.githubusercontent.com/GiammarcoBozzelli/SEF/baltha/df_EUR_yearly_return.csv')\n",
    "#Yearly E score \n",
    "df_E_score=pd.read_csv('https://raw.githubusercontent.com/GiammarcoBozzelli/SEF/baltha/DS_EScore_Y.csv')"
   ]
  },
  {
   "cell_type": "markdown",
   "metadata": {},
   "source": [
    "# Question 3"
   ]
  },
  {
   "cell_type": "markdown",
   "metadata": {},
   "source": [
    "### Create the dataset "
   ]
  },
  {
   "cell_type": "code",
   "execution_count": 1596,
   "metadata": {},
   "outputs": [],
   "source": [
    "#Create a new column with only the 2 first caracters of the column ISIN\n",
    "\n",
    "df_E_score['ISIN_First2'] = df_E_score['ISIN'].str[:2]"
   ]
  },
  {
   "cell_type": "code",
   "execution_count": 1597,
   "metadata": {},
   "outputs": [],
   "source": [
    "#df_E_score"
   ]
  },
  {
   "cell_type": "code",
   "execution_count": 1598,
   "metadata": {},
   "outputs": [],
   "source": [
    "#Compute the monthly returns of EUR firms\n",
    "df_EUR_M_RI.set_index('NAME', inplace = True)\n",
    "\n",
    "df_EUR_M_RI.drop(df_EUR_M_RI.columns[:4], axis=1, inplace=True)\n",
    "\n",
    "df_EUR_M_RI.columns = pd.to_datetime(df_EUR_M_RI.columns)\n",
    "\n",
    "#df_EUR_M_RI_08 = df_EUR_M_RI.loc[:, (df_EUR_M_RI.columns >= pd.to_datetime(\"2007-01-01\"))]\n",
    "df_EUR_M_RI_08 = df_EUR_M_RI.loc[:, ((df_EUR_M_RI.columns >= pd.to_datetime(\"2007-01-01\")) & (df_EUR_M_RI.columns <= (\"2021-12-31\")))]\n",
    "\n",
    "df_EUR_M_RI_T = df_EUR_M_RI_08.T\n",
    "\n",
    "df_M_returns = df_EUR_M_RI_T.pct_change()\n",
    "\n",
    "#df_M_returns"
   ]
  },
  {
   "cell_type": "code",
   "execution_count": 1599,
   "metadata": {},
   "outputs": [],
   "source": [
    "#Extract the list of firms that have an Environmental score\n",
    "firms_list = df_E_score['NAME'].tolist()\n",
    "#firms_list"
   ]
  },
  {
   "cell_type": "code",
   "execution_count": 1600,
   "metadata": {},
   "outputs": [],
   "source": [
    "#Get monthly returns of EUR firms with an Environmental score\n",
    "df_M_returns_E = df_M_returns[df_M_returns.columns.intersection(firms_list)]\n",
    "#df_M_returns_E\n"
   ]
  },
  {
   "cell_type": "code",
   "execution_count": 1601,
   "metadata": {},
   "outputs": [],
   "source": [
    "#Drop the row 2007-01-31 because it has only NaN values\n",
    "df_M_returns_E = df_M_returns_E.drop('2007-01-31')\n",
    "#df_M_returns_E"
   ]
  },
  {
   "cell_type": "markdown",
   "metadata": {},
   "source": [
    "### Average/expected return"
   ]
  },
  {
   "cell_type": "code",
   "execution_count": 1602,
   "metadata": {},
   "outputs": [],
   "source": [
    "#Compute the average (or expected) returns\n",
    "avrg_returns = df_M_returns_E.mean()\n",
    "#avrg_returns"
   ]
  },
  {
   "cell_type": "code",
   "execution_count": 1603,
   "metadata": {},
   "outputs": [],
   "source": [
    "#The company PROFASE probably dropped out of the market; the change in returns would be infinite, we set it to 0\n",
    "avrg_returns[avrg_returns == np.inf] = 0 "
   ]
  },
  {
   "cell_type": "markdown",
   "metadata": {},
   "source": [
    "### Covariance matrix"
   ]
  },
  {
   "cell_type": "code",
   "execution_count": 1604,
   "metadata": {},
   "outputs": [],
   "source": [
    "#Compute the covariance matrix\n",
    "cov_matrix = df_M_returns_E.cov()\n",
    "#cov_matrix"
   ]
  },
  {
   "cell_type": "markdown",
   "metadata": {},
   "source": [
    "### Minimum variance portfolio (MVP)"
   ]
  },
  {
   "cell_type": "code",
   "execution_count": 1605,
   "metadata": {},
   "outputs": [
    {
     "data": {
      "text/plain": [
       " message: Optimization terminated successfully\n",
       " success: True\n",
       "  status: 0\n",
       "     fun: 0.011782738488221834\n",
       "       x: [ 5.627e-17  9.157e-17 ...  1.209e-17  0.000e+00]\n",
       "     nit: 16\n",
       "     jac: [ 4.012e-02  5.912e-02 ...  4.906e-02  4.315e-02]\n",
       "    nfev: 6784\n",
       "    njev: 16"
      ]
     },
     "execution_count": 1605,
     "metadata": {},
     "output_type": "execute_result"
    }
   ],
   "source": [
    "#Taking the number of assets\n",
    "numAssets = len(avrg_returns)\n",
    "\n",
    "#Function to compute the variance\n",
    "def min_var(weights):\n",
    "    weights = np.array(weights)\n",
    "    var = np.dot(weights.T, np.dot(cov_matrix * 12, weights))\n",
    "    return var\n",
    "\n",
    "#Initial conditions: initial weights -> EW and each weight >= 0\n",
    "initialWeights = np.ones(numAssets)/numAssets\n",
    "positivity_bounds = tuple((0, 1) for x in range(numAssets))\n",
    "\n",
    "#Constraint: sum of weights = 1\n",
    "cons = ({'type': 'eq', 'fun': lambda x:  np.sum(x) - 1})\n",
    "\n",
    "#Optimize minimum variance portfolio\n",
    "result_long_only_gmv_portfolio = sco.minimize(min_var, initialWeights, method='SLSQP', bounds=positivity_bounds, constraints=cons)\n",
    "result_long_only_gmv_portfolio"
   ]
  },
  {
   "cell_type": "code",
   "execution_count": 1606,
   "metadata": {},
   "outputs": [
    {
     "data": {
      "text/plain": [
       "0.008174273336268282"
      ]
     },
     "execution_count": 1606,
     "metadata": {},
     "output_type": "execute_result"
    }
   ],
   "source": [
    "#Compute the minimum variance portfolio\n",
    "avrg_returns_MVP = np.dot(result_long_only_gmv_portfolio['x'], avrg_returns)\n",
    "avrg_returns_MVP"
   ]
  },
  {
   "cell_type": "code",
   "execution_count": 1607,
   "metadata": {},
   "outputs": [
    {
     "data": {
      "text/plain": [
       "0.09809128003521939"
      ]
     },
     "execution_count": 1607,
     "metadata": {},
     "output_type": "execute_result"
    }
   ],
   "source": [
    "#Compute the annualized MVP\n",
    "avrg_returns_MVP_ann = avrg_returns_MVP * 12\n",
    "avrg_returns_MVP_ann"
   ]
  },
  {
   "cell_type": "markdown",
   "metadata": {},
   "source": [
    "### Maximum return portfolio"
   ]
  },
  {
   "cell_type": "code",
   "execution_count": 1608,
   "metadata": {},
   "outputs": [
    {
     "data": {
      "text/plain": [
       " message: Optimization terminated successfully\n",
       " success: True\n",
       "  status: 0\n",
       "     fun: -0.3285704930020861\n",
       "       x: [ 1.663e-15  0.000e+00 ...  0.000e+00  1.132e-16]\n",
       "     nit: 9\n",
       "     jac: [-9.430e-02 -1.035e-01 ... -7.079e-02 -1.834e-01]\n",
       "    nfev: 3816\n",
       "    njev: 9"
      ]
     },
     "execution_count": 1608,
     "metadata": {},
     "output_type": "execute_result"
    }
   ],
   "source": [
    "#Function to compute the returns\n",
    "def max_return(weights):\n",
    "    weighted_returns = -np.dot(weights, avrg_returns * 12)\n",
    "    return weighted_returns\n",
    "\n",
    "#Constraints (same as for the MVP portfolio)\n",
    "cons = ({'type': 'eq', 'fun': lambda x:  np.sum(x) - 1}, {'type': 'ineq', 'fun': lambda x: x})\n",
    "positivity_bounds = tuple((0, 1) for x in range(numAssets))\n",
    "initialWeights = np.ones(numAssets)/numAssets\n",
    "\n",
    "#Optimize maximum return portfolio\n",
    "result_max_return_portfolio = sco.minimize(max_return, initialWeights, method='SLSQP', bounds=positivity_bounds, constraints=cons)\n",
    "result_max_return_portfolio"
   ]
  },
  {
   "cell_type": "code",
   "execution_count": 1609,
   "metadata": {},
   "outputs": [],
   "source": [
    "#Check the weights of the maximum return portfolio\n",
    "#result_max_return_portfolio['x']"
   ]
  },
  {
   "cell_type": "code",
   "execution_count": 1610,
   "metadata": {},
   "outputs": [
    {
     "data": {
      "text/plain": [
       "0.027380874416840503"
      ]
     },
     "execution_count": 1610,
     "metadata": {},
     "output_type": "execute_result"
    }
   ],
   "source": [
    "#Compute the maximum return portfolio\n",
    "avrg_returns_MaxRP = np.dot(result_max_return_portfolio['x'], avrg_returns)\n",
    "avrg_returns_MaxRP"
   ]
  },
  {
   "cell_type": "code",
   "execution_count": 1611,
   "metadata": {},
   "outputs": [
    {
     "data": {
      "text/plain": [
       "0.328570493002086"
      ]
     },
     "execution_count": 1611,
     "metadata": {},
     "output_type": "execute_result"
    }
   ],
   "source": [
    "#Compute the annualized maximum return portfolio\n",
    "avrg_returns_MaxRP_ann = avrg_returns_MaxRP * 12\n",
    "avrg_returns_MaxRP_ann"
   ]
  },
  {
   "cell_type": "markdown",
   "metadata": {},
   "source": [
    "### Minimum return portfolio"
   ]
  },
  {
   "cell_type": "code",
   "execution_count": 1612,
   "metadata": {},
   "outputs": [
    {
     "data": {
      "text/plain": [
       " message: Optimization terminated successfully\n",
       " success: True\n",
       "  status: 0\n",
       "     fun: -0.4149087840273254\n",
       "       x: [ 9.771e-16  0.000e+00 ...  0.000e+00  2.140e-16]\n",
       "     nit: 6\n",
       "     jac: [ 9.430e-02  1.035e-01 ...  7.079e-02  1.834e-01]\n",
       "    nfev: 2544\n",
       "    njev: 6"
      ]
     },
     "execution_count": 1612,
     "metadata": {},
     "output_type": "execute_result"
    }
   ],
   "source": [
    "#Function to compute the returns\n",
    "def min_return(weights):\n",
    "    weight_returns = np.dot(weights, avrg_returns * 12)\n",
    "    return weight_returns\n",
    "\n",
    "#Constraints\n",
    "numAssets = len(avrg_returns)\n",
    "cons = ({'type': 'eq', 'fun': lambda x:  np.sum(x) - 1})\n",
    "positivity_bounds = tuple((0, 1) for x in range(numAssets))\n",
    "initialWeights = np.array(numAssets*[1/numAssets])\n",
    "\n",
    "#Optimize minimum return portfolio\n",
    "result_min_return_portfolio = sco.minimize(min_return, initialWeights, method='SLSQP', bounds= positivity_bounds, constraints=cons)\n",
    "result_min_return_portfolio"
   ]
  },
  {
   "cell_type": "code",
   "execution_count": 1613,
   "metadata": {},
   "outputs": [
    {
     "data": {
      "text/plain": [
       "-0.03457573200227714"
      ]
     },
     "execution_count": 1613,
     "metadata": {},
     "output_type": "execute_result"
    }
   ],
   "source": [
    "#Compute the minimum return portfolio\n",
    "avrg_returns_MinRP = np.dot(result_min_return_portfolio['x'], avrg_returns)\n",
    "avrg_returns_MinRP"
   ]
  },
  {
   "cell_type": "code",
   "execution_count": 1614,
   "metadata": {},
   "outputs": [
    {
     "data": {
      "text/plain": [
       "-0.41490878402732567"
      ]
     },
     "execution_count": 1614,
     "metadata": {},
     "output_type": "execute_result"
    }
   ],
   "source": [
    "#Compute the annualized minimum return portfolio\n",
    "avrg_returns_MinRP_ann = avrg_returns_MinRP * 12\n",
    "avrg_returns_MinRP_ann"
   ]
  },
  {
   "cell_type": "markdown",
   "metadata": {},
   "source": [
    "### Efficient frontier"
   ]
  },
  {
   "cell_type": "code",
   "execution_count": 1615,
   "metadata": {},
   "outputs": [],
   "source": [
    "#Upper part of the efficient frontier\n",
    "\n",
    "#Generate an array of evenly spaced target returns between the average return of the MVP and the average return of the max return portfolio\n",
    "target_returns = np.linspace(avrg_returns_MVP, avrg_returns_MaxRP, 25)\n",
    "\n",
    "#Initialize an empty list to store all the efficient portfolios to build the efficient frontier, and another for the portfolio weights\n",
    "efficient_frontier_high = []\n",
    "portfolio_weights = []\n",
    "\n",
    "#Define portfolio volatility\n",
    "def portfolio_volatility(weights):\n",
    "    return np.sqrt(weights.T @ cov_matrix @ weights)\n",
    "\n",
    "#Define the return constraint\n",
    "def return_constraint(weights):\n",
    "    return (weights @ avrg_returns) - target_return\n",
    "\n",
    "#Constraints: sum of weights equals 1, portfolio weights * average returns = target return\n",
    "for target_return in target_returns:\n",
    "    cons = (\n",
    "        {'type': 'eq', 'fun': lambda x: np.sum(x) - 1},\n",
    "        {'type': 'eq', 'fun': return_constraint})\n",
    "    \n",
    "#Run the optimization\n",
    "    result = sco.minimize(portfolio_volatility, initialWeights, method='SLSQP', bounds=positivity_bounds, constraints=cons)\n",
    "\n",
    "#Check if optimizer found a solution, if yes add the result (volatility, return)\n",
    "    if result.success:\n",
    "        efficient_frontier_high.append((result.fun, target_return))\n",
    "        portfolio_weights.append(result.x)\n",
    "\n",
    "#Put the results into a dataframe: it will contain the returns and their minimized volatility\n",
    "df_frontier_high = pd.DataFrame(efficient_frontier_high, columns=['Volatility', 'Return'])\n",
    "df_weights_high = pd.DataFrame(portfolio_weights)"
   ]
  },
  {
   "cell_type": "code",
   "execution_count": 1616,
   "metadata": {},
   "outputs": [],
   "source": [
    "#Lower part of the efficient frontier\n",
    "\n",
    "#Generate an array of evenly spaced target returns between the average return of the MVP and the average return of the max return portfolio\n",
    "target_returns = np.linspace(avrg_returns_MVP, avrg_returns_MinRP, 25)\n",
    "\n",
    "#Initialize an empty list to store all the efficient portfolios to build the efficient frontier, and another for the portfolio weights\n",
    "efficient_frontier_low = []\n",
    "portfolio_weights = []\n",
    "\n",
    "#Define portfolio volatility\n",
    "def portfolio_volatility(weights):\n",
    "    return np.sqrt(weights.T @ cov_matrix @ weights)\n",
    "\n",
    "#Define the return constraint\n",
    "def return_constraint(weights):\n",
    "    return (weights @ avrg_returns) - target_return\n",
    "\n",
    "#Constraints: sum of weights equals 1, portfolio weights * average returns = target return\n",
    "for target_return in target_returns:\n",
    "    cons = (\n",
    "        {'type': 'eq', 'fun': lambda x: np.sum(x) - 1},\n",
    "        {'type': 'eq', 'fun': return_constraint})\n",
    "    \n",
    "#Run the optimization\n",
    "    result = sco.minimize(portfolio_volatility, initialWeights, method='SLSQP', bounds=positivity_bounds, constraints=cons)\n",
    "\n",
    "#Check if optimizer found a solution, if yes add the result (volatility, return)\n",
    "    if result.success:\n",
    "        efficient_frontier_low.append((result.fun, target_return))\n",
    "        portfolio_weights.append(result.x)\n",
    "\n",
    "#Put the results into a dataframe: it will contain the returns and their minimized volatility\n",
    "df_frontier_low = pd.DataFrame(efficient_frontier_low, columns=['Volatility', 'Return'])\n",
    "df_weights_low = pd.DataFrame(portfolio_weights)"
   ]
  },
  {
   "cell_type": "code",
   "execution_count": 1617,
   "metadata": {},
   "outputs": [],
   "source": [
    "#Concatenate the upper part and lower part of the efficient frontier, same for the weights\n",
    "df_frontier = pd.concat([df_frontier_high, df_frontier_low]).reset_index(drop=True)\n",
    "df_weights = pd.concat([df_weights_high, df_weights_low]).reset_index(drop=True)"
   ]
  },
  {
   "cell_type": "code",
   "execution_count": 1618,
   "metadata": {},
   "outputs": [
    {
     "data": {
      "image/png": "[encoded data removed]",
      "text/plain": [
       "<Figure size 1000x600 with 1 Axes>"
      ]
     },
     "metadata": {},
     "output_type": "display_data"
    }
   ],
   "source": [
    "#Annualize volatility and returns\n",
    "df_frontier['Annualized Volatility'] = df_frontier['Volatility'] * np.sqrt(12)\n",
    "df_frontier['Annualized Return'] = df_frontier['Return'] * 12\n",
    "\n",
    "#Take the index of the MVP and MaxRP\n",
    "MVP_index = df_frontier['Annualized Volatility'].idxmin()\n",
    "MaxRP_index = df_frontier['Annualized Return'].idxmax()\n",
    "\n",
    "#Initialize the figure\n",
    "plt.figure(figsize=(10, 6))\n",
    "\n",
    "#Plot the portfolios of the efficient frontier\n",
    "plt.scatter(df_frontier['Annualized Volatility'], df_frontier['Annualized Return'], color='blue')\n",
    "\n",
    "#Plot the MVP and the Max return portfolio (MaxRP)\n",
    "plt.scatter(df_frontier.loc[MVP_index, 'Annualized Volatility'], df_frontier.loc[MVP_index, 'Annualized Return'], color='red', label='Minimum Variance Portfolio')\n",
    "plt.scatter(df_frontier.loc[MaxRP_index, 'Annualized Volatility'], df_frontier.loc[MaxRP_index, 'Annualized Return'], color='green', label='Maximum Return Portfolio')\n",
    "\n",
    "#Add title, legends, ect\n",
    "plt.title('Portfolio Returns vs. Volatility')\n",
    "plt.xlabel('Annualized Volatility')\n",
    "plt.ylabel('Annualized Return')\n",
    "plt.legend()\n",
    "plt.grid(True)\n",
    "plt.show()"
   ]
  },
  {
   "cell_type": "code",
   "execution_count": 1619,
   "metadata": {},
   "outputs": [
    {
     "data": {
      "image/png": "[encoded data removed]",
      "text/plain": [
       "<Figure size 1000x600 with 1 Axes>"
      ]
     },
     "metadata": {},
     "output_type": "display_data"
    }
   ],
   "source": [
    "#Keep only the upper part of the efficient frontier\n",
    "#Annualize volatility and returns\n",
    "df_frontier_high['Annualized Volatility'] = df_frontier_high['Volatility'] * np.sqrt(12)\n",
    "df_frontier_high['Annualized Return'] = df_frontier_high['Return'] * 12\n",
    "\n",
    "#Take the index of the MVP and MaxRP\n",
    "MVP_index = df_frontier_high['Annualized Volatility'].idxmin()\n",
    "MaxRP_index = df_frontier_high['Annualized Return'].idxmax()\n",
    "\n",
    "#Initialize the figure\n",
    "plt.figure(figsize=(10, 6))\n",
    "\n",
    "#Plot the efficient frontier\n",
    "plt.scatter(df_frontier_high['Annualized Volatility'], df_frontier_high['Annualized Return'], color='blue', label='Optimal Portfolios')\n",
    "plt.plot(df_frontier_high['Annualized Volatility'], df_frontier_high['Annualized Return'], color='blue', label='Efficient Frontier')\n",
    "\n",
    "#Plot the MVP and the Max return portfolio (MaxRP)\n",
    "plt.scatter(df_frontier_high.loc[MVP_index, 'Annualized Volatility'], df_frontier_high.loc[MVP_index, 'Annualized Return'], color='red', label='Minimum Variance Portfolio')\n",
    "plt.scatter(df_frontier_high.loc[MaxRP_index, 'Annualized Volatility'], df_frontier_high.loc[MaxRP_index, 'Annualized Return'], color='green', label='Maximum Return Portfolio')\n",
    "\n",
    "#Add title, legends, ect\n",
    "plt.title('Portfolio Returns vs. Volatility')\n",
    "plt.xlabel('Annualized Volatility')\n",
    "plt.ylabel('Annualized Return')\n",
    "plt.legend()\n",
    "plt.grid(True)\n",
    "plt.show()"
   ]
  },
  {
   "cell_type": "markdown",
   "metadata": {},
   "source": [
    "### Ex-ante"
   ]
  },
  {
   "cell_type": "code",
   "execution_count": 1620,
   "metadata": {},
   "outputs": [],
   "source": [
    "#Create the risk-free rate\n",
    "rf = pd.read_csv('https://raw.githubusercontent.com/GiammarcoBozzelli/SEF/FINAL/risk_free_rate_OECD.csv')\n",
    "rf.head()\n",
    "\n",
    "#Get the risk-free rate\n",
    "rfr = rf.OBS_VALUE\n",
    "rfr21 = rfr[:-1]\n",
    "\n",
    "#Average annual risk free rate across all european countries over the 2000-2021 period\n",
    "rfr_expected = rfr21.mean()/100"
   ]
  },
  {
   "cell_type": "code",
   "execution_count": 1621,
   "metadata": {},
   "outputs": [
    {
     "data": {
      "text/plain": [
       "0.029896900272727275"
      ]
     },
     "execution_count": 1621,
     "metadata": {},
     "output_type": "execute_result"
    }
   ],
   "source": [
    "rfr_expected"
   ]
  },
  {
   "cell_type": "code",
   "execution_count": 1622,
   "metadata": {},
   "outputs": [
    {
     "name": "stdout",
     "output_type": "stream",
     "text": [
      "Volatility               0.044996\n",
      "Return                   0.017778\n",
      "Annualized Volatility    0.155869\n",
      "Annualized Return        0.213331\n",
      "Sharpe Ratio             1.176847\n",
      "Name: 12, dtype: float64\n"
     ]
    }
   ],
   "source": [
    "#Compute the sharpe ratio for each portfolio on the efficient frontier\n",
    "df_frontier_high['Sharpe Ratio'] = (df_frontier_high['Annualized Return'] - rfr_expected) / df_frontier_high['Annualized Volatility']\n",
    "\n",
    "#Find the portfolio with the maximum sharpe ratio\n",
    "max_sharpe_index = df_frontier_high['Sharpe Ratio'].idxmax()\n",
    "max_sharpe_portfolio = df_frontier_high.loc[max_sharpe_index]\n",
    "print(max_sharpe_portfolio)"
   ]
  },
  {
   "cell_type": "code",
   "execution_count": 1623,
   "metadata": {},
   "outputs": [
    {
     "data": {
      "image/png": "[encoded data removed]",
      "text/plain": [
       "<Figure size 1000x600 with 1 Axes>"
      ]
     },
     "metadata": {},
     "output_type": "display_data"
    }
   ],
   "source": [
    "#Initialize the figure\n",
    "plt.figure(figsize=(10, 6))\n",
    "\n",
    "#Plot the efficient frontier\n",
    "plt.scatter(df_frontier_high['Annualized Volatility'], df_frontier_high['Annualized Return'], color='blue', label='Optimal Portfolios')\n",
    "plt.plot(df_frontier_high['Annualized Volatility'], df_frontier_high['Annualized Return'], color='blue', label='Efficient Frontier')\n",
    "\n",
    "#Plot the MVP, the MaxRP, and the Max Sharpe Ratio Portfolio\n",
    "plt.scatter(df_frontier_high.loc[MVP_index, 'Annualized Volatility'], df_frontier_high.loc[MVP_index, 'Annualized Return'], color='red', label='Minimum Variance Portfolio')\n",
    "plt.scatter(df_frontier_high.loc[MaxRP_index, 'Annualized Volatility'], df_frontier_high.loc[MaxRP_index, 'Annualized Return'], color='green', label='Max Return Portfolio')\n",
    "plt.scatter(df_frontier_high.loc[max_sharpe_index, 'Annualized Volatility'], df_frontier_high.loc[max_sharpe_index, 'Annualized Return'], color='purple', label='Max Sharpe Ratio Portfolio')\n",
    "\n",
    "#Add title, legends, ect\n",
    "plt.title('Portfolio Returns vs. Volatility')\n",
    "plt.xlabel('Annualized Volatility')\n",
    "plt.ylabel('Annualized Return')\n",
    "plt.legend()\n",
    "plt.grid(True)\n",
    "plt.show()"
   ]
  },
  {
   "cell_type": "code",
   "execution_count": 1624,
   "metadata": {},
   "outputs": [
    {
     "data": {
      "image/png": "[encoded data removed]",
      "text/plain": [
       "<Figure size 1000x600 with 1 Axes>"
      ]
     },
     "metadata": {},
     "output_type": "display_data"
    }
   ],
   "source": [
    "#Initialize the figure\n",
    "plt.figure(figsize=(10, 6))\n",
    "\n",
    "#Get the volatility and the return of the maximum sharpe ratio portfolio\n",
    "max_sharpe_volatility = df_frontier_high.loc[max_sharpe_index, 'Annualized Volatility']\n",
    "max_sharpe_return = df_frontier_high.loc[max_sharpe_index, 'Annualized Return']\n",
    "\n",
    "#Excess return of the Max Sharpe Ratio portfolio over the risk-free rate\n",
    "max_sharpe_excess_return = max_sharpe_return - rfr_expected\n",
    "\n",
    "#Get the slope of the capital allocation line (CAL), and the boundaries\n",
    "CAL_slope = max_sharpe_excess_return / max_sharpe_volatility\n",
    "CAL_x = max_sharpe_volatility * 2\n",
    "CAL_y = rfr_expected + (CAL_x * (max_sharpe_return - rfr_expected) / max_sharpe_volatility)\n",
    "\n",
    "#Plot the efficient frontier\n",
    "#plt.scatter(df_frontier_high['Annualized Volatility'], df_frontier_high['Annualized Return'], color='blue', label='Optimal Portfolios')\n",
    "plt.plot(df_frontier_high['Annualized Volatility'], df_frontier_high['Annualized Return'], color='blue', label='Efficient Frontier')\n",
    "\n",
    "#Plot the MVP, the MaxRP, and the Max Sharpe Ratio Portfolio\n",
    "plt.scatter(df_frontier_high.loc[MVP_index, 'Annualized Volatility'], df_frontier_high.loc[MVP_index, 'Annualized Return'], color='red', label='Minimum Variance Portfolio')\n",
    "plt.scatter(df_frontier_high.loc[MaxRP_index, 'Annualized Volatility'], df_frontier_high.loc[MaxRP_index, 'Annualized Return'], color='green', label='Max Return Portfolio')\n",
    "plt.scatter(df_frontier_high.loc[max_sharpe_index, 'Annualized Volatility'], df_frontier_high.loc[max_sharpe_index, 'Annualized Return'], color='purple', label='Max Sharpe Ratio Portfolio')\n",
    "\n",
    "#Plot the capital allocation line (CAL)\n",
    "plt.plot([0, CAL_x], [rfr_expected, CAL_y], color='orange', label='Capital Allocation Line')\n",
    "\n",
    "#Add title, legends, ect\n",
    "plt.xlim(0)\n",
    "plt.title('Portfolio Returns vs. Volatility')\n",
    "plt.xlabel('Annualized Volatility')\n",
    "plt.ylabel('Annualized Return')\n",
    "plt.legend()\n",
    "plt.grid(True)\n",
    "plt.show()"
   ]
  },
  {
   "cell_type": "code",
   "execution_count": 1625,
   "metadata": {},
   "outputs": [
    {
     "data": {
      "text/html": [
       "<div>\n",
       "<style scoped>\n",
       "    .dataframe tbody tr th:only-of-type {\n",
       "        vertical-align: middle;\n",
       "    }\n",
       "\n",
       "    .dataframe tbody tr th {\n",
       "        vertical-align: top;\n",
       "    }\n",
       "\n",
       "    .dataframe thead th {\n",
       "        text-align: right;\n",
       "    }\n",
       "</style>\n",
       "<table border=\"1\" class=\"dataframe\">\n",
       "  <thead>\n",
       "    <tr style=\"text-align: right;\">\n",
       "      <th></th>\n",
       "      <th>Volatility</th>\n",
       "      <th>Return</th>\n",
       "      <th>Annualized Volatility</th>\n",
       "      <th>Annualized Return</th>\n",
       "      <th>Sharpe Ratio</th>\n",
       "    </tr>\n",
       "  </thead>\n",
       "  <tbody>\n",
       "    <tr>\n",
       "      <th>0</th>\n",
       "      <td>0.031335</td>\n",
       "      <td>0.008174</td>\n",
       "      <td>0.108548</td>\n",
       "      <td>0.098091</td>\n",
       "      <td>0.628239</td>\n",
       "    </tr>\n",
       "    <tr>\n",
       "      <th>1</th>\n",
       "      <td>0.031431</td>\n",
       "      <td>0.008975</td>\n",
       "      <td>0.108881</td>\n",
       "      <td>0.107695</td>\n",
       "      <td>0.714519</td>\n",
       "    </tr>\n",
       "    <tr>\n",
       "      <th>2</th>\n",
       "      <td>0.031734</td>\n",
       "      <td>0.009775</td>\n",
       "      <td>0.109929</td>\n",
       "      <td>0.117298</td>\n",
       "      <td>0.795069</td>\n",
       "    </tr>\n",
       "    <tr>\n",
       "      <th>3</th>\n",
       "      <td>0.032238</td>\n",
       "      <td>0.010575</td>\n",
       "      <td>0.111676</td>\n",
       "      <td>0.126901</td>\n",
       "      <td>0.868623</td>\n",
       "    </tr>\n",
       "    <tr>\n",
       "      <th>4</th>\n",
       "      <td>0.032930</td>\n",
       "      <td>0.011375</td>\n",
       "      <td>0.114074</td>\n",
       "      <td>0.136504</td>\n",
       "      <td>0.934549</td>\n",
       "    </tr>\n",
       "    <tr>\n",
       "      <th>5</th>\n",
       "      <td>0.033775</td>\n",
       "      <td>0.012176</td>\n",
       "      <td>0.117000</td>\n",
       "      <td>0.146108</td>\n",
       "      <td>0.993258</td>\n",
       "    </tr>\n",
       "    <tr>\n",
       "      <th>6</th>\n",
       "      <td>0.034757</td>\n",
       "      <td>0.012976</td>\n",
       "      <td>0.120403</td>\n",
       "      <td>0.155711</td>\n",
       "      <td>1.044943</td>\n",
       "    </tr>\n",
       "    <tr>\n",
       "      <th>7</th>\n",
       "      <td>0.035911</td>\n",
       "      <td>0.013776</td>\n",
       "      <td>0.124398</td>\n",
       "      <td>0.165314</td>\n",
       "      <td>1.088582</td>\n",
       "    </tr>\n",
       "    <tr>\n",
       "      <th>8</th>\n",
       "      <td>0.037346</td>\n",
       "      <td>0.014576</td>\n",
       "      <td>0.129370</td>\n",
       "      <td>0.174918</td>\n",
       "      <td>1.120973</td>\n",
       "    </tr>\n",
       "    <tr>\n",
       "      <th>9</th>\n",
       "      <td>0.039009</td>\n",
       "      <td>0.015377</td>\n",
       "      <td>0.135129</td>\n",
       "      <td>0.184521</td>\n",
       "      <td>1.144266</td>\n",
       "    </tr>\n",
       "    <tr>\n",
       "      <th>10</th>\n",
       "      <td>0.040848</td>\n",
       "      <td>0.016177</td>\n",
       "      <td>0.141502</td>\n",
       "      <td>0.194124</td>\n",
       "      <td>1.160600</td>\n",
       "    </tr>\n",
       "    <tr>\n",
       "      <th>11</th>\n",
       "      <td>0.042848</td>\n",
       "      <td>0.016977</td>\n",
       "      <td>0.148431</td>\n",
       "      <td>0.203728</td>\n",
       "      <td>1.171120</td>\n",
       "    </tr>\n",
       "    <tr>\n",
       "      <th>12</th>\n",
       "      <td>0.044996</td>\n",
       "      <td>0.017778</td>\n",
       "      <td>0.155869</td>\n",
       "      <td>0.213331</td>\n",
       "      <td>1.176847</td>\n",
       "    </tr>\n",
       "    <tr>\n",
       "      <th>13</th>\n",
       "      <td>0.047357</td>\n",
       "      <td>0.018578</td>\n",
       "      <td>0.164051</td>\n",
       "      <td>0.222934</td>\n",
       "      <td>1.176694</td>\n",
       "    </tr>\n",
       "    <tr>\n",
       "      <th>14</th>\n",
       "      <td>0.050086</td>\n",
       "      <td>0.019378</td>\n",
       "      <td>0.173502</td>\n",
       "      <td>0.232537</td>\n",
       "      <td>1.167941</td>\n",
       "    </tr>\n",
       "    <tr>\n",
       "      <th>15</th>\n",
       "      <td>0.053279</td>\n",
       "      <td>0.020178</td>\n",
       "      <td>0.184563</td>\n",
       "      <td>0.242141</td>\n",
       "      <td>1.149979</td>\n",
       "    </tr>\n",
       "    <tr>\n",
       "      <th>16</th>\n",
       "      <td>0.056975</td>\n",
       "      <td>0.020979</td>\n",
       "      <td>0.197366</td>\n",
       "      <td>0.251744</td>\n",
       "      <td>1.124038</td>\n",
       "    </tr>\n",
       "    <tr>\n",
       "      <th>17</th>\n",
       "      <td>0.061396</td>\n",
       "      <td>0.021779</td>\n",
       "      <td>0.212682</td>\n",
       "      <td>0.261347</td>\n",
       "      <td>1.088246</td>\n",
       "    </tr>\n",
       "    <tr>\n",
       "      <th>18</th>\n",
       "      <td>0.066556</td>\n",
       "      <td>0.022579</td>\n",
       "      <td>0.230556</td>\n",
       "      <td>0.270951</td>\n",
       "      <td>1.045534</td>\n",
       "    </tr>\n",
       "    <tr>\n",
       "      <th>19</th>\n",
       "      <td>0.072329</td>\n",
       "      <td>0.023379</td>\n",
       "      <td>0.250555</td>\n",
       "      <td>0.280554</td>\n",
       "      <td>1.000406</td>\n",
       "    </tr>\n",
       "    <tr>\n",
       "      <th>20</th>\n",
       "      <td>0.078590</td>\n",
       "      <td>0.024180</td>\n",
       "      <td>0.272245</td>\n",
       "      <td>0.290157</td>\n",
       "      <td>0.955978</td>\n",
       "    </tr>\n",
       "    <tr>\n",
       "      <th>21</th>\n",
       "      <td>0.085860</td>\n",
       "      <td>0.024980</td>\n",
       "      <td>0.297429</td>\n",
       "      <td>0.299761</td>\n",
       "      <td>0.907320</td>\n",
       "    </tr>\n",
       "    <tr>\n",
       "      <th>22</th>\n",
       "      <td>0.095738</td>\n",
       "      <td>0.025780</td>\n",
       "      <td>0.331647</td>\n",
       "      <td>0.309364</td>\n",
       "      <td>0.842663</td>\n",
       "    </tr>\n",
       "    <tr>\n",
       "      <th>23</th>\n",
       "      <td>0.109994</td>\n",
       "      <td>0.026581</td>\n",
       "      <td>0.381031</td>\n",
       "      <td>0.318967</td>\n",
       "      <td>0.758653</td>\n",
       "    </tr>\n",
       "    <tr>\n",
       "      <th>24</th>\n",
       "      <td>0.127268</td>\n",
       "      <td>0.027381</td>\n",
       "      <td>0.440868</td>\n",
       "      <td>0.328570</td>\n",
       "      <td>0.677468</td>\n",
       "    </tr>\n",
       "  </tbody>\n",
       "</table>\n",
       "</div>"
      ],
      "text/plain": [
       "    Volatility    Return  Annualized Volatility  Annualized Return  \\\n",
       "0     0.031335  0.008174               0.108548           0.098091   \n",
       "1     0.031431  0.008975               0.108881           0.107695   \n",
       "2     0.031734  0.009775               0.109929           0.117298   \n",
       "3     0.032238  0.010575               0.111676           0.126901   \n",
       "4     0.032930  0.011375               0.114074           0.136504   \n",
       "5     0.033775  0.012176               0.117000           0.146108   \n",
       "6     0.034757  0.012976               0.120403           0.155711   \n",
       "7     0.035911  0.013776               0.124398           0.165314   \n",
       "8     0.037346  0.014576               0.129370           0.174918   \n",
       "9     0.039009  0.015377               0.135129           0.184521   \n",
       "10    0.040848  0.016177               0.141502           0.194124   \n",
       "11    0.042848  0.016977               0.148431           0.203728   \n",
       "12    0.044996  0.017778               0.155869           0.213331   \n",
       "13    0.047357  0.018578               0.164051           0.222934   \n",
       "14    0.050086  0.019378               0.173502           0.232537   \n",
       "15    0.053279  0.020178               0.184563           0.242141   \n",
       "16    0.056975  0.020979               0.197366           0.251744   \n",
       "17    0.061396  0.021779               0.212682           0.261347   \n",
       "18    0.066556  0.022579               0.230556           0.270951   \n",
       "19    0.072329  0.023379               0.250555           0.280554   \n",
       "20    0.078590  0.024180               0.272245           0.290157   \n",
       "21    0.085860  0.024980               0.297429           0.299761   \n",
       "22    0.095738  0.025780               0.331647           0.309364   \n",
       "23    0.109994  0.026581               0.381031           0.318967   \n",
       "24    0.127268  0.027381               0.440868           0.328570   \n",
       "\n",
       "    Sharpe Ratio  \n",
       "0       0.628239  \n",
       "1       0.714519  \n",
       "2       0.795069  \n",
       "3       0.868623  \n",
       "4       0.934549  \n",
       "5       0.993258  \n",
       "6       1.044943  \n",
       "7       1.088582  \n",
       "8       1.120973  \n",
       "9       1.144266  \n",
       "10      1.160600  \n",
       "11      1.171120  \n",
       "12      1.176847  \n",
       "13      1.176694  \n",
       "14      1.167941  \n",
       "15      1.149979  \n",
       "16      1.124038  \n",
       "17      1.088246  \n",
       "18      1.045534  \n",
       "19      1.000406  \n",
       "20      0.955978  \n",
       "21      0.907320  \n",
       "22      0.842663  \n",
       "23      0.758653  \n",
       "24      0.677468  "
      ]
     },
     "execution_count": 1625,
     "metadata": {},
     "output_type": "execute_result"
    }
   ],
   "source": [
    "df_frontier_high"
   ]
  },
  {
   "cell_type": "markdown",
   "metadata": {},
   "source": [
    "### Ex-post"
   ]
  },
  {
   "cell_type": "markdown",
   "metadata": {},
   "source": [
    "We take the year 2022 as ex-post period."
   ]
  },
  {
   "cell_type": "code",
   "execution_count": 1626,
   "metadata": {},
   "outputs": [],
   "source": [
    "#Compute the returns for EUR firms with an Env score for the year 2022\n",
    "df_EUR_M_RI.columns = pd.to_datetime(df_EUR_M_RI.columns)\n",
    "\n",
    "df_EUR_M_RI_22 = df_EUR_M_RI.loc[:, ((df_EUR_M_RI.columns >= pd.to_datetime(\"2021-12-31\")) & (df_EUR_M_RI.columns <= (\"2022-12-31\")))]\n",
    "\n",
    "df_EUR_M_RI_T = df_EUR_M_RI_22.T\n",
    "\n",
    "df_M_returns_22 = df_EUR_M_RI_T.pct_change()\n",
    "\n",
    "df_M_returns_22_E = df_M_returns_22[df_M_returns_22.columns.intersection(firms_list)]\n",
    "\n",
    "df_M_returns_22_E = df_M_returns_22_E.drop('2021-12-31')\n",
    "\n",
    "#Checking if there are inf or NaN values\n",
    "has_inf = df_M_returns_22_E.isin([float('inf'), float('-inf')]).any().any()\n",
    "#We find that the company 'PROSAFE' has some\n",
    "df_M_returns_22_E['PROSAFE']\n",
    "#Set the inf and NaN values to 0\n",
    "df_M_returns_22_E.replace([np.inf, -np.inf, np.nan], 0, inplace=True)\n",
    "\n",
    "#df_M_returns_22_E"
   ]
  },
  {
   "cell_type": "code",
   "execution_count": 1627,
   "metadata": {},
   "outputs": [
    {
     "data": {
      "text/html": [
       "<div>\n",
       "<style scoped>\n",
       "    .dataframe tbody tr th:only-of-type {\n",
       "        vertical-align: middle;\n",
       "    }\n",
       "\n",
       "    .dataframe tbody tr th {\n",
       "        vertical-align: top;\n",
       "    }\n",
       "\n",
       "    .dataframe thead th {\n",
       "        text-align: right;\n",
       "    }\n",
       "</style>\n",
       "<table border=\"1\" class=\"dataframe\">\n",
       "  <thead>\n",
       "    <tr style=\"text-align: right;\">\n",
       "      <th></th>\n",
       "      <th>Volatility</th>\n",
       "      <th>Return</th>\n",
       "      <th>Annualized Volatility</th>\n",
       "      <th>Annualized Return</th>\n",
       "      <th>Sharpe Ratio</th>\n",
       "      <th>Weights</th>\n",
       "    </tr>\n",
       "  </thead>\n",
       "  <tbody>\n",
       "    <tr>\n",
       "      <th>0</th>\n",
       "      <td>0.031335</td>\n",
       "      <td>0.008174</td>\n",
       "      <td>0.108548</td>\n",
       "      <td>0.098091</td>\n",
       "      <td>0.628239</td>\n",
       "      <td>[9.219993655987922e-17, 1.2596559479041022e-16...</td>\n",
       "    </tr>\n",
       "    <tr>\n",
       "      <th>1</th>\n",
       "      <td>0.031431</td>\n",
       "      <td>0.008975</td>\n",
       "      <td>0.108881</td>\n",
       "      <td>0.107695</td>\n",
       "      <td>0.714519</td>\n",
       "      <td>[1.4842172155244773e-17, 0.0, 0.0, 0.0, 2.8121...</td>\n",
       "    </tr>\n",
       "    <tr>\n",
       "      <th>2</th>\n",
       "      <td>0.031734</td>\n",
       "      <td>0.009775</td>\n",
       "      <td>0.109929</td>\n",
       "      <td>0.117298</td>\n",
       "      <td>0.795069</td>\n",
       "      <td>[8.05586949193658e-17, 1.344844407892845e-16, ...</td>\n",
       "    </tr>\n",
       "    <tr>\n",
       "      <th>3</th>\n",
       "      <td>0.032238</td>\n",
       "      <td>0.010575</td>\n",
       "      <td>0.111676</td>\n",
       "      <td>0.126901</td>\n",
       "      <td>0.868623</td>\n",
       "      <td>[0.0, 0.0, 2.220272115436163e-17, 1.0684536510...</td>\n",
       "    </tr>\n",
       "    <tr>\n",
       "      <th>4</th>\n",
       "      <td>0.032930</td>\n",
       "      <td>0.011375</td>\n",
       "      <td>0.114074</td>\n",
       "      <td>0.136504</td>\n",
       "      <td>0.934549</td>\n",
       "      <td>[0.0, 5.600516394136353e-17, 0.0, 1.0055281274...</td>\n",
       "    </tr>\n",
       "    <tr>\n",
       "      <th>5</th>\n",
       "      <td>0.033775</td>\n",
       "      <td>0.012176</td>\n",
       "      <td>0.117000</td>\n",
       "      <td>0.146108</td>\n",
       "      <td>0.993258</td>\n",
       "      <td>[1.1137656365828134e-16, 7.921672830003791e-17...</td>\n",
       "    </tr>\n",
       "    <tr>\n",
       "      <th>6</th>\n",
       "      <td>0.034757</td>\n",
       "      <td>0.012976</td>\n",
       "      <td>0.120403</td>\n",
       "      <td>0.155711</td>\n",
       "      <td>1.044943</td>\n",
       "      <td>[1.811813145491148e-18, 9.931235987890345e-17,...</td>\n",
       "    </tr>\n",
       "    <tr>\n",
       "      <th>7</th>\n",
       "      <td>0.035911</td>\n",
       "      <td>0.013776</td>\n",
       "      <td>0.124398</td>\n",
       "      <td>0.165314</td>\n",
       "      <td>1.088582</td>\n",
       "      <td>[0.0, 3.9693017643695436e-17, 9.23261421945106...</td>\n",
       "    </tr>\n",
       "    <tr>\n",
       "      <th>8</th>\n",
       "      <td>0.037346</td>\n",
       "      <td>0.014576</td>\n",
       "      <td>0.129370</td>\n",
       "      <td>0.174918</td>\n",
       "      <td>1.120973</td>\n",
       "      <td>[0.0, 0.0, 5.4673372108792296e-17, 0.0, 7.3179...</td>\n",
       "    </tr>\n",
       "    <tr>\n",
       "      <th>9</th>\n",
       "      <td>0.039009</td>\n",
       "      <td>0.015377</td>\n",
       "      <td>0.135129</td>\n",
       "      <td>0.184521</td>\n",
       "      <td>1.144266</td>\n",
       "      <td>[5.679506477945294e-17, 2.9007229316973926e-17...</td>\n",
       "    </tr>\n",
       "    <tr>\n",
       "      <th>10</th>\n",
       "      <td>0.040848</td>\n",
       "      <td>0.016177</td>\n",
       "      <td>0.141502</td>\n",
       "      <td>0.194124</td>\n",
       "      <td>1.160600</td>\n",
       "      <td>[0.0, 0.0, 0.0, 5.889108193554013e-17, 0.0, 0....</td>\n",
       "    </tr>\n",
       "    <tr>\n",
       "      <th>11</th>\n",
       "      <td>0.042848</td>\n",
       "      <td>0.016977</td>\n",
       "      <td>0.148431</td>\n",
       "      <td>0.203728</td>\n",
       "      <td>1.171120</td>\n",
       "      <td>[4.9753783692541915e-17, 0.0, 9.15205377045528...</td>\n",
       "    </tr>\n",
       "    <tr>\n",
       "      <th>12</th>\n",
       "      <td>0.044996</td>\n",
       "      <td>0.017778</td>\n",
       "      <td>0.155869</td>\n",
       "      <td>0.213331</td>\n",
       "      <td>1.176847</td>\n",
       "      <td>[0.0, 0.0, 0.0, 8.61116147244605e-17, 8.855509...</td>\n",
       "    </tr>\n",
       "    <tr>\n",
       "      <th>13</th>\n",
       "      <td>0.047357</td>\n",
       "      <td>0.018578</td>\n",
       "      <td>0.164051</td>\n",
       "      <td>0.222934</td>\n",
       "      <td>1.176694</td>\n",
       "      <td>[0.0, 0.0, 1.7518184719411047e-17, 8.301569542...</td>\n",
       "    </tr>\n",
       "    <tr>\n",
       "      <th>14</th>\n",
       "      <td>0.050086</td>\n",
       "      <td>0.019378</td>\n",
       "      <td>0.173502</td>\n",
       "      <td>0.232537</td>\n",
       "      <td>1.167941</td>\n",
       "      <td>[0.0, 9.882471332940893e-17, 0.0, 0.0, 0.0, 2....</td>\n",
       "    </tr>\n",
       "    <tr>\n",
       "      <th>15</th>\n",
       "      <td>0.053279</td>\n",
       "      <td>0.020178</td>\n",
       "      <td>0.184563</td>\n",
       "      <td>0.242141</td>\n",
       "      <td>1.149979</td>\n",
       "      <td>[4.3270994921442795e-17, 2.4055901287835065e-1...</td>\n",
       "    </tr>\n",
       "    <tr>\n",
       "      <th>16</th>\n",
       "      <td>0.056975</td>\n",
       "      <td>0.020979</td>\n",
       "      <td>0.197366</td>\n",
       "      <td>0.251744</td>\n",
       "      <td>1.124038</td>\n",
       "      <td>[1.3158630288136032e-17, 9.345388593061974e-17...</td>\n",
       "    </tr>\n",
       "    <tr>\n",
       "      <th>17</th>\n",
       "      <td>0.061396</td>\n",
       "      <td>0.021779</td>\n",
       "      <td>0.212682</td>\n",
       "      <td>0.261347</td>\n",
       "      <td>1.088246</td>\n",
       "      <td>[3.0347177207010804e-16, 0.0, 0.0, 0.0, 0.0, 0...</td>\n",
       "    </tr>\n",
       "    <tr>\n",
       "      <th>18</th>\n",
       "      <td>0.066556</td>\n",
       "      <td>0.022579</td>\n",
       "      <td>0.230556</td>\n",
       "      <td>0.270951</td>\n",
       "      <td>1.045534</td>\n",
       "      <td>[1.7280631438568228e-16, 0.0, 0.0, 0.0, 3.2636...</td>\n",
       "    </tr>\n",
       "    <tr>\n",
       "      <th>19</th>\n",
       "      <td>0.072329</td>\n",
       "      <td>0.023379</td>\n",
       "      <td>0.250555</td>\n",
       "      <td>0.280554</td>\n",
       "      <td>1.000406</td>\n",
       "      <td>[1.3784930106576014e-16, 0.0, 1.42654821106399...</td>\n",
       "    </tr>\n",
       "    <tr>\n",
       "      <th>20</th>\n",
       "      <td>0.078590</td>\n",
       "      <td>0.024180</td>\n",
       "      <td>0.272245</td>\n",
       "      <td>0.290157</td>\n",
       "      <td>0.955978</td>\n",
       "      <td>[3.729333495216057e-17, 0.0, 7.870831864613715...</td>\n",
       "    </tr>\n",
       "    <tr>\n",
       "      <th>21</th>\n",
       "      <td>0.085860</td>\n",
       "      <td>0.024980</td>\n",
       "      <td>0.297429</td>\n",
       "      <td>0.299761</td>\n",
       "      <td>0.907320</td>\n",
       "      <td>[0.0, 0.0, 5.277600407618183e-18, 3.8143910090...</td>\n",
       "    </tr>\n",
       "    <tr>\n",
       "      <th>22</th>\n",
       "      <td>0.095738</td>\n",
       "      <td>0.025780</td>\n",
       "      <td>0.331647</td>\n",
       "      <td>0.309364</td>\n",
       "      <td>0.842663</td>\n",
       "      <td>[2.984929669568106e-16, 4.9171205772396156e-17...</td>\n",
       "    </tr>\n",
       "    <tr>\n",
       "      <th>23</th>\n",
       "      <td>0.109994</td>\n",
       "      <td>0.026581</td>\n",
       "      <td>0.381031</td>\n",
       "      <td>0.318967</td>\n",
       "      <td>0.758653</td>\n",
       "      <td>[0.0, 1.850949948867253e-15, 0.0, 9.6016944395...</td>\n",
       "    </tr>\n",
       "    <tr>\n",
       "      <th>24</th>\n",
       "      <td>0.127268</td>\n",
       "      <td>0.027381</td>\n",
       "      <td>0.440868</td>\n",
       "      <td>0.328570</td>\n",
       "      <td>0.677468</td>\n",
       "      <td>[1.5210832442521435e-12, 0.0, 2.62583424228497...</td>\n",
       "    </tr>\n",
       "  </tbody>\n",
       "</table>\n",
       "</div>"
      ],
      "text/plain": [
       "    Volatility    Return  Annualized Volatility  Annualized Return  \\\n",
       "0     0.031335  0.008174               0.108548           0.098091   \n",
       "1     0.031431  0.008975               0.108881           0.107695   \n",
       "2     0.031734  0.009775               0.109929           0.117298   \n",
       "3     0.032238  0.010575               0.111676           0.126901   \n",
       "4     0.032930  0.011375               0.114074           0.136504   \n",
       "5     0.033775  0.012176               0.117000           0.146108   \n",
       "6     0.034757  0.012976               0.120403           0.155711   \n",
       "7     0.035911  0.013776               0.124398           0.165314   \n",
       "8     0.037346  0.014576               0.129370           0.174918   \n",
       "9     0.039009  0.015377               0.135129           0.184521   \n",
       "10    0.040848  0.016177               0.141502           0.194124   \n",
       "11    0.042848  0.016977               0.148431           0.203728   \n",
       "12    0.044996  0.017778               0.155869           0.213331   \n",
       "13    0.047357  0.018578               0.164051           0.222934   \n",
       "14    0.050086  0.019378               0.173502           0.232537   \n",
       "15    0.053279  0.020178               0.184563           0.242141   \n",
       "16    0.056975  0.020979               0.197366           0.251744   \n",
       "17    0.061396  0.021779               0.212682           0.261347   \n",
       "18    0.066556  0.022579               0.230556           0.270951   \n",
       "19    0.072329  0.023379               0.250555           0.280554   \n",
       "20    0.078590  0.024180               0.272245           0.290157   \n",
       "21    0.085860  0.024980               0.297429           0.299761   \n",
       "22    0.095738  0.025780               0.331647           0.309364   \n",
       "23    0.109994  0.026581               0.381031           0.318967   \n",
       "24    0.127268  0.027381               0.440868           0.328570   \n",
       "\n",
       "    Sharpe Ratio                                            Weights  \n",
       "0       0.628239  [9.219993655987922e-17, 1.2596559479041022e-16...  \n",
       "1       0.714519  [1.4842172155244773e-17, 0.0, 0.0, 0.0, 2.8121...  \n",
       "2       0.795069  [8.05586949193658e-17, 1.344844407892845e-16, ...  \n",
       "3       0.868623  [0.0, 0.0, 2.220272115436163e-17, 1.0684536510...  \n",
       "4       0.934549  [0.0, 5.600516394136353e-17, 0.0, 1.0055281274...  \n",
       "5       0.993258  [1.1137656365828134e-16, 7.921672830003791e-17...  \n",
       "6       1.044943  [1.811813145491148e-18, 9.931235987890345e-17,...  \n",
       "7       1.088582  [0.0, 3.9693017643695436e-17, 9.23261421945106...  \n",
       "8       1.120973  [0.0, 0.0, 5.4673372108792296e-17, 0.0, 7.3179...  \n",
       "9       1.144266  [5.679506477945294e-17, 2.9007229316973926e-17...  \n",
       "10      1.160600  [0.0, 0.0, 0.0, 5.889108193554013e-17, 0.0, 0....  \n",
       "11      1.171120  [4.9753783692541915e-17, 0.0, 9.15205377045528...  \n",
       "12      1.176847  [0.0, 0.0, 0.0, 8.61116147244605e-17, 8.855509...  \n",
       "13      1.176694  [0.0, 0.0, 1.7518184719411047e-17, 8.301569542...  \n",
       "14      1.167941  [0.0, 9.882471332940893e-17, 0.0, 0.0, 0.0, 2....  \n",
       "15      1.149979  [4.3270994921442795e-17, 2.4055901287835065e-1...  \n",
       "16      1.124038  [1.3158630288136032e-17, 9.345388593061974e-17...  \n",
       "17      1.088246  [3.0347177207010804e-16, 0.0, 0.0, 0.0, 0.0, 0...  \n",
       "18      1.045534  [1.7280631438568228e-16, 0.0, 0.0, 0.0, 3.2636...  \n",
       "19      1.000406  [1.3784930106576014e-16, 0.0, 1.42654821106399...  \n",
       "20      0.955978  [3.729333495216057e-17, 0.0, 7.870831864613715...  \n",
       "21      0.907320  [0.0, 0.0, 5.277600407618183e-18, 3.8143910090...  \n",
       "22      0.842663  [2.984929669568106e-16, 4.9171205772396156e-17...  \n",
       "23      0.758653  [0.0, 1.850949948867253e-15, 0.0, 9.6016944395...  \n",
       "24      0.677468  [1.5210832442521435e-12, 0.0, 2.62583424228497...  "
      ]
     },
     "execution_count": 1627,
     "metadata": {},
     "output_type": "execute_result"
    }
   ],
   "source": [
    "#Concatenate the weights in each row (1 for each of the 25 portfolios) into a single cell and add the portfolio weights in the frontier dataframe\n",
    "df_frontier_high['Weights'] = df_weights_high.apply(lambda row: np.array(row), axis=1)\n",
    "\n",
    "df_frontier_high"
   ]
  },
  {
   "cell_type": "code",
   "execution_count": 1628,
   "metadata": {},
   "outputs": [
    {
     "data": {
      "text/plain": [
       "array([[-3.92538587e-02,  4.45150180e-02,  2.49027934e-02,\n",
       "        -3.07571320e-02, -3.13573040e-02, -5.51121468e-02,\n",
       "         2.83576156e-02, -1.93793405e-02, -7.64573397e-02,\n",
       "         5.63058255e-02,  6.98697813e-02,  1.08552429e-03],\n",
       "       [-4.39572995e-02,  4.31974951e-02,  3.07509480e-02,\n",
       "        -3.46277894e-02, -3.23737789e-02, -5.28200471e-02,\n",
       "         2.91253544e-02, -1.87662334e-02, -7.45089085e-02,\n",
       "         5.77545885e-02,  6.76493105e-02,  1.27663274e-03],\n",
       "       [-4.98400397e-02,  3.94894783e-02,  3.40104611e-02,\n",
       "        -3.89318405e-02, -3.21038514e-02, -5.17132635e-02,\n",
       "         3.14099290e-02, -2.04990064e-02, -7.32217661e-02,\n",
       "         5.98697607e-02,  6.97355179e-02,  1.47541681e-03],\n",
       "       [-5.66764039e-02,  3.57893049e-02,  3.62257218e-02,\n",
       "        -4.35109231e-02, -3.34505064e-02, -5.06929750e-02,\n",
       "         3.42434023e-02, -2.23503915e-02, -7.25289468e-02,\n",
       "         6.09407743e-02,  7.14498091e-02,  1.96037398e-03],\n",
       "       [-6.56448827e-02,  3.01313832e-02,  3.86453835e-02,\n",
       "        -4.89777829e-02, -3.69073684e-02, -4.96327017e-02,\n",
       "         3.95970859e-02, -2.58639101e-02, -7.15690245e-02,\n",
       "         6.12462825e-02,  7.12192419e-02,  1.98581065e-03],\n",
       "       [-7.48086659e-02,  2.43887096e-02,  4.05984511e-02,\n",
       "        -5.44198142e-02, -4.03063143e-02, -4.95624488e-02,\n",
       "         4.64502186e-02, -3.02026629e-02, -7.07043178e-02,\n",
       "         6.18427718e-02,  7.11630917e-02,  1.72263616e-03],\n",
       "       [-8.44789412e-02,  1.95240983e-02,  4.07545709e-02,\n",
       "        -5.97122432e-02, -4.25628275e-02, -5.09727980e-02,\n",
       "         5.48585040e-02, -3.40361464e-02, -7.17576848e-02,\n",
       "         6.36255296e-02,  7.30941101e-02,  1.15786850e-03],\n",
       "       [-9.51714427e-02,  1.49636973e-02,  4.04251479e-02,\n",
       "        -6.53089501e-02, -4.35285758e-02, -5.32519247e-02,\n",
       "         6.29922595e-02, -3.71429142e-02, -7.23693992e-02,\n",
       "         6.83484155e-02,  7.48834723e-02,  3.78444470e-04],\n",
       "       [-1.04995119e-01,  1.04732507e-02,  3.77386510e-02,\n",
       "        -7.20513206e-02, -4.36764020e-02, -5.83959521e-02,\n",
       "         7.37854970e-02, -4.13563128e-02, -7.41283424e-02,\n",
       "         7.34838075e-02,  8.03082164e-02, -1.17126664e-03],\n",
       "       [-1.14990492e-01,  7.82611467e-03,  3.63641829e-02,\n",
       "        -7.97704650e-02, -4.55824353e-02, -6.40382129e-02,\n",
       "         8.38205673e-02, -4.69454343e-02, -7.66724573e-02,\n",
       "         7.74565909e-02,  8.63806138e-02, -4.13925458e-03],\n",
       "       [-1.26613816e-01,  5.11746628e-03,  3.60924577e-02,\n",
       "        -8.84156409e-02, -4.90221287e-02, -6.98101199e-02,\n",
       "         9.22728868e-02, -5.29271495e-02, -7.83859998e-02,\n",
       "         8.12184501e-02,  8.99952655e-02, -7.45594416e-03],\n",
       "       [-1.38655118e-01,  2.24904867e-03,  3.53383630e-02,\n",
       "        -9.66783462e-02, -5.27535172e-02, -7.53830200e-02,\n",
       "         1.02194938e-01, -5.93968630e-02, -8.05595116e-02,\n",
       "         8.36816494e-02,  9.41784726e-02, -1.11208857e-02],\n",
       "       [-1.50059761e-01, -6.81447529e-05,  3.37620943e-02,\n",
       "        -1.04966452e-01, -5.55663212e-02, -8.23180687e-02,\n",
       "         1.11909538e-01, -6.61102744e-02, -8.26055763e-02,\n",
       "         8.73506152e-02,  9.88922860e-02, -1.48028972e-02],\n",
       "       [-1.59108942e-01, -2.10104836e-04,  2.91648197e-02,\n",
       "        -1.13233456e-01, -5.99993236e-02, -9.19142965e-02,\n",
       "         1.22915061e-01, -7.43884328e-02, -8.70767351e-02,\n",
       "         9.09693272e-02,  1.06277451e-01, -1.85612682e-02],\n",
       "       [-1.65695160e-01, -3.56660501e-03,  2.34488050e-02,\n",
       "        -1.20812852e-01, -6.22837769e-02, -1.02120205e-01,\n",
       "         1.36599165e-01, -8.08138908e-02, -9.24067145e-02,\n",
       "         9.43984689e-02,  1.13952811e-01, -2.28170757e-02],\n",
       "       [-1.70076756e-01, -8.64187882e-03,  1.66887552e-02,\n",
       "        -1.25427063e-01, -5.76127586e-02, -1.11727551e-01,\n",
       "         1.50388870e-01, -8.65355512e-02, -9.67507009e-02,\n",
       "         9.76247074e-02,  1.21577053e-01, -2.64093088e-02],\n",
       "       [-1.69487239e-01, -9.63901030e-03,  1.39967450e-02,\n",
       "        -1.31890693e-01, -4.88187415e-02, -1.19850221e-01,\n",
       "         1.63658913e-01, -8.94574807e-02, -1.00478152e-01,\n",
       "         9.92136904e-02,  1.32658998e-01, -3.17638525e-02],\n",
       "       [-1.65448798e-01, -1.07378617e-02,  1.02813523e-02,\n",
       "        -1.37202810e-01, -3.83900481e-02, -1.30830476e-01,\n",
       "         1.78007791e-01, -9.34500663e-02, -1.02175279e-01,\n",
       "         1.05289997e-01,  1.47767993e-01, -3.62729174e-02],\n",
       "       [-1.61337387e-01, -1.46773741e-02,  6.81824228e-03,\n",
       "        -1.42327971e-01, -2.89346012e-02, -1.42047492e-01,\n",
       "         1.96612454e-01, -9.94907544e-02, -1.03473163e-01,\n",
       "         1.10332489e-01,  1.64566494e-01, -4.22633135e-02],\n",
       "       [-1.57570873e-01, -1.89217948e-02,  3.29006094e-03,\n",
       "        -1.46338444e-01, -2.00945886e-02, -1.54147480e-01,\n",
       "         2.14094401e-01, -1.06113429e-01, -1.04918316e-01,\n",
       "         1.15435860e-01,  1.81578081e-01, -4.86245381e-02],\n",
       "       [-1.54681768e-01, -2.37212830e-02,  5.27450969e-04,\n",
       "        -1.51644413e-01, -9.53398233e-03, -1.65735990e-01,\n",
       "         2.35104584e-01, -1.14939377e-01, -1.05457681e-01,\n",
       "         1.19712502e-01,  1.94904606e-01, -5.50150984e-02],\n",
       "       [-1.51894977e-01, -2.40518803e-02, -4.84465690e-03,\n",
       "        -1.58363485e-01, -2.51088381e-03, -1.79478323e-01,\n",
       "         2.48723161e-01, -1.21458280e-01, -1.06572657e-01,\n",
       "         1.25832571e-01,  1.88553336e-01, -5.70999161e-02],\n",
       "       [-1.43914881e-01, -3.66194905e-02, -1.20514379e-02,\n",
       "        -1.63996616e-01, -1.42165603e-03, -1.88550530e-01,\n",
       "         2.74761453e-01, -1.17984947e-01, -9.90209163e-02,\n",
       "         1.33190938e-01,  1.71277031e-01, -5.33337624e-02],\n",
       "       [-1.33997486e-01, -5.35401340e-02, -1.97059318e-02,\n",
       "        -1.69737650e-01, -1.92192404e-03, -1.95300179e-01,\n",
       "         3.06218072e-01, -1.10908994e-01, -8.83453976e-02,\n",
       "         1.40856684e-01,  1.51121915e-01, -4.75153022e-02],\n",
       "       [-1.24080088e-01, -7.04607817e-02, -2.73604277e-02,\n",
       "        -1.75478685e-01, -2.42219218e-03, -2.02049830e-01,\n",
       "         3.37674698e-01, -1.03833040e-01, -7.76698763e-02,\n",
       "         1.48522432e-01,  1.30966794e-01, -4.16968405e-02]])"
      ]
     },
     "execution_count": 1628,
     "metadata": {},
     "output_type": "execute_result"
    }
   ],
   "source": [
    "#Compute the monthly returns of 25 portfolios on the efficient frontier for 2022\n",
    "M_portfolio_returns_22 = np.dot(df_weights_high, df_M_returns_22_E.T)\n",
    "M_portfolio_returns_22"
   ]
  },
  {
   "cell_type": "code",
   "execution_count": 1629,
   "metadata": {},
   "outputs": [
    {
     "data": {
      "text/plain": [
       "array([-0.02728056, -0.02729973, -0.0303192 , -0.03860076, -0.05577048,\n",
       "       -0.07383835, -0.09050596, -0.10478177, -0.11998529, -0.14029068,\n",
       "       -0.16793427, -0.19690479, -0.22458296, -0.2551659 , -0.28211703,\n",
       "       -0.29690218, -0.29185704, -0.27316112, -0.25622238, -0.24233106,\n",
       "       -0.23048045, -0.24316599, -0.23766481, -0.22277633, -0.20788784])"
      ]
     },
     "execution_count": 1629,
     "metadata": {},
     "output_type": "execute_result"
    }
   ],
   "source": [
    "#Compute the annualized returns of 25 portfolios on the efficient frontier for 2022\n",
    "ann_portfolio_returns_22 = M_portfolio_returns_22.mean(axis=1) * 12\n",
    "ann_portfolio_returns_22"
   ]
  },
  {
   "cell_type": "code",
   "execution_count": 1630,
   "metadata": {},
   "outputs": [],
   "source": [
    "#Compute the covariance matrix for 2022 monthly returns\n",
    "cov_matrix_22 = df_M_returns_22_E.cov()\n",
    "#cov_matrix_22"
   ]
  },
  {
   "cell_type": "code",
   "execution_count": 1631,
   "metadata": {},
   "outputs": [],
   "source": [
    "#Create a list to store the annualized volatility for each portfolio in 2022 (ex-post)\n",
    "ann_portfolio_volatility_22 = []\n",
    "\n",
    "#For each weight of each portfolio\n",
    "for i in range(len(df_weights_high)):\n",
    "    weights = df_weights_high.iloc[i].values  #Take the weights for each portfolio\n",
    "    portfolio_volatility = np.sqrt(weights.T @ cov_matrix_22 @ weights) * np.sqrt(12) #Compute the volatility of each portfolio\n",
    "    ann_portfolio_volatility_22.append(portfolio_volatility) #Append the volatility to the list of annualized volatility\n",
    "\n",
    "#ann_portfolio_volatility_22 contains the annualized volatility for 2022 for each of the 25 portfolios\n",
    "#ann_portfolio_volatility_22"
   ]
  },
  {
   "cell_type": "code",
   "execution_count": 1632,
   "metadata": {},
   "outputs": [],
   "source": [
    "#Store the results and the weights in a dataframe (ex-post values)\n",
    "df_portfolio_22 = pd.DataFrame({\n",
    "    'Ex-post Annualized Returns': ann_portfolio_returns_22,\n",
    "    'Ex-post Annualized Volatility': ann_portfolio_volatility_22,\n",
    "    'Portfolio Weights': df_weights_high.apply(lambda x: x.tolist(), axis=1)\n",
    "    })"
   ]
  },
  {
   "cell_type": "code",
   "execution_count": 1633,
   "metadata": {},
   "outputs": [],
   "source": [
    "#Compute the sharpe ratio\n",
    "#Create the risk-free rate\n",
    "rf = pd.read_csv('https://raw.githubusercontent.com/GiammarcoBozzelli/SEF/FINAL/risk_free_rate_OECD.csv')\n",
    "rf.head()\n",
    "\n",
    "#Get the risk-free rate from the dataset\n",
    "rfr = rf.OBS_VALUE\n",
    "rfr21 = rfr[:-1]\n",
    "\n",
    "#Average annual risk free rate across all EUR countries over the 2000-2021 period\n",
    "rfr_expected = rfr21.mean()/100"
   ]
  },
  {
   "cell_type": "code",
   "execution_count": 1634,
   "metadata": {},
   "outputs": [
    {
     "name": "stdout",
     "output_type": "stream",
     "text": [
      "Ex-post Annualized Returns                                               -0.224583\n",
      "Ex-post Annualized Volatility                                             0.298512\n",
      "Portfolio Weights                [0.0, 0.0, 0.0, 8.61116147244605e-17, 8.855509...\n",
      "Ex-post Sharpe Ratio                                                     -0.852495\n",
      "Name: 12, dtype: object\n"
     ]
    }
   ],
   "source": [
    "#Compute the sharpe ratio for each portfolio on the efficient frontier\n",
    "df_portfolio_22['Ex-post Sharpe Ratio'] = (df_portfolio_22['Ex-post Annualized Returns'] - rfr_expected) / df_portfolio_22['Ex-post Annualized Volatility']\n",
    "\n",
    "#Find the portfolio with the maximum sharpe ratio\n",
    "expost_max_sharpe_index = df_portfolio_22['Ex-post Sharpe Ratio'].idxmax()\n",
    "expost_max_sharpe_portfolio = df_portfolio_22.loc[max_sharpe_index]\n",
    "print(expost_max_sharpe_portfolio)"
   ]
  },
  {
   "cell_type": "code",
   "execution_count": 1635,
   "metadata": {},
   "outputs": [
    {
     "data": {
      "text/html": [
       "<div>\n",
       "<style scoped>\n",
       "    .dataframe tbody tr th:only-of-type {\n",
       "        vertical-align: middle;\n",
       "    }\n",
       "\n",
       "    .dataframe tbody tr th {\n",
       "        vertical-align: top;\n",
       "    }\n",
       "\n",
       "    .dataframe thead th {\n",
       "        text-align: right;\n",
       "    }\n",
       "</style>\n",
       "<table border=\"1\" class=\"dataframe\">\n",
       "  <thead>\n",
       "    <tr style=\"text-align: right;\">\n",
       "      <th></th>\n",
       "      <th>Volatility</th>\n",
       "      <th>Return</th>\n",
       "      <th>Annualized Volatility</th>\n",
       "      <th>Annualized Return</th>\n",
       "      <th>Sharpe Ratio</th>\n",
       "      <th>Weights</th>\n",
       "    </tr>\n",
       "  </thead>\n",
       "  <tbody>\n",
       "    <tr>\n",
       "      <th>0</th>\n",
       "      <td>0.031335</td>\n",
       "      <td>0.008174</td>\n",
       "      <td>0.108548</td>\n",
       "      <td>0.098091</td>\n",
       "      <td>0.628239</td>\n",
       "      <td>[9.219993655987922e-17, 1.2596559479041022e-16...</td>\n",
       "    </tr>\n",
       "    <tr>\n",
       "      <th>1</th>\n",
       "      <td>0.031431</td>\n",
       "      <td>0.008975</td>\n",
       "      <td>0.108881</td>\n",
       "      <td>0.107695</td>\n",
       "      <td>0.714519</td>\n",
       "      <td>[1.4842172155244773e-17, 0.0, 0.0, 0.0, 2.8121...</td>\n",
       "    </tr>\n",
       "    <tr>\n",
       "      <th>2</th>\n",
       "      <td>0.031734</td>\n",
       "      <td>0.009775</td>\n",
       "      <td>0.109929</td>\n",
       "      <td>0.117298</td>\n",
       "      <td>0.795069</td>\n",
       "      <td>[8.05586949193658e-17, 1.344844407892845e-16, ...</td>\n",
       "    </tr>\n",
       "  </tbody>\n",
       "</table>\n",
       "</div>"
      ],
      "text/plain": [
       "   Volatility    Return  Annualized Volatility  Annualized Return  \\\n",
       "0    0.031335  0.008174               0.108548           0.098091   \n",
       "1    0.031431  0.008975               0.108881           0.107695   \n",
       "2    0.031734  0.009775               0.109929           0.117298   \n",
       "\n",
       "   Sharpe Ratio                                            Weights  \n",
       "0      0.628239  [9.219993655987922e-17, 1.2596559479041022e-16...  \n",
       "1      0.714519  [1.4842172155244773e-17, 0.0, 0.0, 0.0, 2.8121...  \n",
       "2      0.795069  [8.05586949193658e-17, 1.344844407892845e-16, ...  "
      ]
     },
     "execution_count": 1635,
     "metadata": {},
     "output_type": "execute_result"
    }
   ],
   "source": [
    "df_frontier_high.head(3)"
   ]
  },
  {
   "cell_type": "code",
   "execution_count": 1636,
   "metadata": {},
   "outputs": [
    {
     "data": {
      "text/html": [
       "<div>\n",
       "<style scoped>\n",
       "    .dataframe tbody tr th:only-of-type {\n",
       "        vertical-align: middle;\n",
       "    }\n",
       "\n",
       "    .dataframe tbody tr th {\n",
       "        vertical-align: top;\n",
       "    }\n",
       "\n",
       "    .dataframe thead th {\n",
       "        text-align: right;\n",
       "    }\n",
       "</style>\n",
       "<table border=\"1\" class=\"dataframe\">\n",
       "  <thead>\n",
       "    <tr style=\"text-align: right;\">\n",
       "      <th></th>\n",
       "      <th>Ex-post Annualized Returns</th>\n",
       "      <th>Ex-post Annualized Volatility</th>\n",
       "      <th>Portfolio Weights</th>\n",
       "      <th>Ex-post Sharpe Ratio</th>\n",
       "    </tr>\n",
       "  </thead>\n",
       "  <tbody>\n",
       "    <tr>\n",
       "      <th>0</th>\n",
       "      <td>-0.027281</td>\n",
       "      <td>0.162232</td>\n",
       "      <td>[9.219993655987922e-17, 1.2596559479041022e-16...</td>\n",
       "      <td>-0.352443</td>\n",
       "    </tr>\n",
       "    <tr>\n",
       "      <th>1</th>\n",
       "      <td>-0.027300</td>\n",
       "      <td>0.163099</td>\n",
       "      <td>[1.4842172155244773e-17, 0.0, 0.0, 0.0, 2.8121...</td>\n",
       "      <td>-0.350686</td>\n",
       "    </tr>\n",
       "    <tr>\n",
       "      <th>2</th>\n",
       "      <td>-0.030319</td>\n",
       "      <td>0.166990</td>\n",
       "      <td>[8.05586949193658e-17, 1.344844407892845e-16, ...</td>\n",
       "      <td>-0.360596</td>\n",
       "    </tr>\n",
       "  </tbody>\n",
       "</table>\n",
       "</div>"
      ],
      "text/plain": [
       "   Ex-post Annualized Returns  Ex-post Annualized Volatility  \\\n",
       "0                   -0.027281                       0.162232   \n",
       "1                   -0.027300                       0.163099   \n",
       "2                   -0.030319                       0.166990   \n",
       "\n",
       "                                   Portfolio Weights  Ex-post Sharpe Ratio  \n",
       "0  [9.219993655987922e-17, 1.2596559479041022e-16...             -0.352443  \n",
       "1  [1.4842172155244773e-17, 0.0, 0.0, 0.0, 2.8121...             -0.350686  \n",
       "2  [8.05586949193658e-17, 1.344844407892845e-16, ...             -0.360596  "
      ]
     },
     "execution_count": 1636,
     "metadata": {},
     "output_type": "execute_result"
    }
   ],
   "source": [
    "df_portfolio_22.head(3)"
   ]
  },
  {
   "cell_type": "code",
   "execution_count": 1637,
   "metadata": {},
   "outputs": [
    {
     "data": {
      "text/html": [
       "<div>\n",
       "<style scoped>\n",
       "    .dataframe tbody tr th:only-of-type {\n",
       "        vertical-align: middle;\n",
       "    }\n",
       "\n",
       "    .dataframe tbody tr th {\n",
       "        vertical-align: top;\n",
       "    }\n",
       "\n",
       "    .dataframe thead th {\n",
       "        text-align: right;\n",
       "    }\n",
       "</style>\n",
       "<table border=\"1\" class=\"dataframe\">\n",
       "  <thead>\n",
       "    <tr style=\"text-align: right;\">\n",
       "      <th></th>\n",
       "      <th>Volatility</th>\n",
       "      <th>Return</th>\n",
       "      <th>Annualized Volatility</th>\n",
       "      <th>Annualized Return</th>\n",
       "      <th>Sharpe Ratio</th>\n",
       "      <th>Weights</th>\n",
       "      <th>Ex-post Annualized Returns</th>\n",
       "      <th>Ex-post Annualized Volatility</th>\n",
       "      <th>Portfolio Weights</th>\n",
       "      <th>Ex-post Sharpe Ratio</th>\n",
       "    </tr>\n",
       "  </thead>\n",
       "  <tbody>\n",
       "    <tr>\n",
       "      <th>0</th>\n",
       "      <td>0.031335</td>\n",
       "      <td>0.008174</td>\n",
       "      <td>0.108548</td>\n",
       "      <td>0.098091</td>\n",
       "      <td>0.628239</td>\n",
       "      <td>[9.219993655987922e-17, 1.2596559479041022e-16...</td>\n",
       "      <td>-0.027281</td>\n",
       "      <td>0.162232</td>\n",
       "      <td>[9.219993655987922e-17, 1.2596559479041022e-16...</td>\n",
       "      <td>-0.352443</td>\n",
       "    </tr>\n",
       "    <tr>\n",
       "      <th>1</th>\n",
       "      <td>0.031431</td>\n",
       "      <td>0.008975</td>\n",
       "      <td>0.108881</td>\n",
       "      <td>0.107695</td>\n",
       "      <td>0.714519</td>\n",
       "      <td>[1.4842172155244773e-17, 0.0, 0.0, 0.0, 2.8121...</td>\n",
       "      <td>-0.027300</td>\n",
       "      <td>0.163099</td>\n",
       "      <td>[1.4842172155244773e-17, 0.0, 0.0, 0.0, 2.8121...</td>\n",
       "      <td>-0.350686</td>\n",
       "    </tr>\n",
       "    <tr>\n",
       "      <th>2</th>\n",
       "      <td>0.031734</td>\n",
       "      <td>0.009775</td>\n",
       "      <td>0.109929</td>\n",
       "      <td>0.117298</td>\n",
       "      <td>0.795069</td>\n",
       "      <td>[8.05586949193658e-17, 1.344844407892845e-16, ...</td>\n",
       "      <td>-0.030319</td>\n",
       "      <td>0.166990</td>\n",
       "      <td>[8.05586949193658e-17, 1.344844407892845e-16, ...</td>\n",
       "      <td>-0.360596</td>\n",
       "    </tr>\n",
       "  </tbody>\n",
       "</table>\n",
       "</div>"
      ],
      "text/plain": [
       "   Volatility    Return  Annualized Volatility  Annualized Return  \\\n",
       "0    0.031335  0.008174               0.108548           0.098091   \n",
       "1    0.031431  0.008975               0.108881           0.107695   \n",
       "2    0.031734  0.009775               0.109929           0.117298   \n",
       "\n",
       "   Sharpe Ratio                                            Weights  \\\n",
       "0      0.628239  [9.219993655987922e-17, 1.2596559479041022e-16...   \n",
       "1      0.714519  [1.4842172155244773e-17, 0.0, 0.0, 0.0, 2.8121...   \n",
       "2      0.795069  [8.05586949193658e-17, 1.344844407892845e-16, ...   \n",
       "\n",
       "   Ex-post Annualized Returns  Ex-post Annualized Volatility  \\\n",
       "0                   -0.027281                       0.162232   \n",
       "1                   -0.027300                       0.163099   \n",
       "2                   -0.030319                       0.166990   \n",
       "\n",
       "                                   Portfolio Weights  Ex-post Sharpe Ratio  \n",
       "0  [9.219993655987922e-17, 1.2596559479041022e-16...             -0.352443  \n",
       "1  [1.4842172155244773e-17, 0.0, 0.0, 0.0, 2.8121...             -0.350686  \n",
       "2  [8.05586949193658e-17, 1.344844407892845e-16, ...             -0.360596  "
      ]
     },
     "execution_count": 1637,
     "metadata": {},
     "output_type": "execute_result"
    }
   ],
   "source": [
    "#Add a column with an id to both dataframes (need it to merge the dataframes)\n",
    "df_frontier_high['id'] = df_frontier_high.index\n",
    "df_portfolio_22['id'] = df_portfolio_22.index\n",
    "\n",
    "#Merge the 2 dataframes based on the id column\n",
    "df_final = pd.merge(df_frontier_high, df_portfolio_22, on='id')\n",
    "\n",
    "#Remove the id column used for the merging\n",
    "df_final = df_final.drop('id', axis=1)\n",
    "\n",
    "df_final.head(3)"
   ]
  },
  {
   "cell_type": "code",
   "execution_count": 1638,
   "metadata": {},
   "outputs": [
    {
     "data": {
      "image/png": "[encoded data removed]",
      "text/plain": [
       "<Figure size 1000x600 with 1 Axes>"
      ]
     },
     "metadata": {},
     "output_type": "display_data"
    }
   ],
   "source": [
    "#Find the index of the maximum value in the 'Ex-post Sharpe Ratio' column of the dataFrame\n",
    "max_sharpe_index_expost = df_portfolio_22['Ex-post Sharpe Ratio'].idxmax()\n",
    "\n",
    "#Get the ex-post volatility and the ex-post return of the maximum ex-post sharpe ratio portfolio\n",
    "max_sharpe_volatility_expost = df_portfolio_22.loc[max_sharpe_index_expost, 'Ex-post Annualized Volatility']\n",
    "max_sharpe_return_expost = df_portfolio_22.loc[max_sharpe_index_expost, 'Ex-post Annualized Returns']\n",
    "\n",
    "#Define the boundaries of the ex-post CAL\n",
    "CAL_x_expost = max_sharpe_volatility_expost * 1.2\n",
    "CAL_y_expost = rfr_expected + (cal_x_end_expost * (max_sharpe_return_expost - rfr_expected) / max_sharpe_volatility_expost)\n",
    "\n",
    "#Plot the figure\n",
    "#Initialize the figure\n",
    "plt.figure(figsize=(10, 6))\n",
    "\n",
    "#Plot the efficient frontier ex-ante\n",
    "#plt.scatter(df_frontier_high['Annualized Volatility'], df_frontier_high['Annualized Return'], color='blue', label='Optimal Portfolios')\n",
    "plt.plot(df_frontier_high['Annualized Volatility'], df_frontier_high['Annualized Return'], color='blue', label='Efficient Frontier')\n",
    "\n",
    "#Plot the efficient frontier ex-post\n",
    "plt.scatter(df_portfolio_22['Ex-post Annualized Volatility'], df_portfolio_22['Ex-post Annualized Returns'], color='black', label='Ex-post Optimal Portfolios')\n",
    "plt.plot(df_portfolio_22['Ex-post Annualized Volatility'], df_portfolio_22['Ex-post Annualized Returns'], color='black', label='Ex-post efficient frontier')\n",
    "\n",
    "#Plot the MVP, MaxRP, Max Sharpe Ratio Portfolio (ex-ante), Max Sharpe Ratio Portfolio ex-post\n",
    "plt.scatter(df_frontier_high.loc[MVP_index, 'Annualized Volatility'], df_frontier_high.loc[MVP_index, 'Annualized Return'], color='red', label='Minimum Variance Portfolio')\n",
    "plt.scatter(df_frontier_high.loc[MaxRP_index, 'Annualized Volatility'], df_frontier_high.loc[MaxRP_index, 'Annualized Return'], color='green', label='Max Return Portfolio')\n",
    "plt.scatter(df_frontier_high.loc[max_sharpe_index, 'Annualized Volatility'], df_frontier_high.loc[max_sharpe_index, 'Annualized Return'], color='purple', label='Max Sharpe Ratio Portfolio')\n",
    "plt.scatter(max_sharpe_volatility_expost, max_sharpe_return_expost, color='pink', label='Max Sharpe Ratio Portfolio ex-post')\n",
    "\n",
    "#Plot the ex-post CAL\n",
    "plt.plot([0, CAL_x_expost], [rfr_expected, CAL_y_expost], color='orange', label='Capital Allocation Line ex-post')\n",
    "\n",
    "#Add title, legends, ect\n",
    "plt.xlim(0)\n",
    "plt.title('Portfolio Returns vs. Volatility')\n",
    "plt.xlabel('Annualized Volatility')\n",
    "plt.ylabel('Annualized Return')\n",
    "plt.legend()\n",
    "plt.grid(True)\n",
    "plt.show()"
   ]
  },
  {
   "cell_type": "markdown",
   "metadata": {},
   "source": [
    "- Which portfolio had the\n",
    "highest performance in terms of ex-ante Sharpe ratio? \n",
    "- Which portfolio has produced\n",
    "the highest performance in terms of ex-post Sharpe ratio?\n",
    "- Compare and comment the performance of the equally-weighted, value-weighted, and\n",
    "efficient portfolios over the same sample period. \n",
    "(memo for me and giulia)"
   ]
  },
  {
   "cell_type": "markdown",
   "metadata": {},
   "source": []
  }
 ],
 "metadata": {
  "kernelspec": {
   "display_name": "Python 3",
   "language": "python",
   "name": "python3"
  },
  "language_info": {
   "codemirror_mode": {
    "name": "ipython",
    "version": 3
   },
   "file_extension": ".py",
   "mimetype": "text/x-python",
   "name": "python",
   "nbconvert_exporter": "python",
   "pygments_lexer": "ipython3",
   "version": "3.11.8"
  }
 },
 "nbformat": 4,
 "nbformat_minor": 2
}
