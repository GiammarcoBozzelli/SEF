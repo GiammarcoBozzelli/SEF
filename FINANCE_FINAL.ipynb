{
  "cells": [
    {
      "cell_type": "markdown",
      "metadata": {
        "id": "V4Gkzx45JKHz"
      },
      "source": [
        "#Intro"
      ]
    },
    {
      "cell_type": "code",
      "execution_count": 39,
      "metadata": {
        "id": "R_q0oAUxJTGK"
      },
      "outputs": [],
      "source": [
        "#Imports\n",
        "import pandas as pd\n",
        "import matplotlib.pyplot as plt\n",
        "import seaborn as sns\n",
        "import numpy as np"
      ]
    },
    {
      "cell_type": "code",
      "execution_count": 40,
      "metadata": {
        "id": "snIyICNnIbU3"
      },
      "outputs": [],
      "source": [
        "#Take final dataset\n",
        "\n",
        "df_EUR_M_cap=pd.read_csv('https://raw.githubusercontent.com/GiammarcoBozzelli/SEF/FINAL/df_EUR_monthly_capitalization.csv')\n",
        "df_EUR_M_RI=pd.read_csv('https://raw.githubusercontent.com/GiammarcoBozzelli/SEF/FINAL/df_EUR_monthly_return.csv')\n",
        "df_EUR_Y_cap=pd.read_csv('https://raw.githubusercontent.com/GiammarcoBozzelli/SEF/FINAL/df_EUR_yearly_capitalization.csv')\n",
        "df_EUR_Y_RI=pd.read_csv('https://raw.githubusercontent.com/GiammarcoBozzelli/SEF/FINAL/df_EUR_yearly_return.csv')\n"
      ]
    },
    {
      "cell_type": "markdown",
      "metadata": {
        "id": "ztb1dpCXJxgv"
      },
      "source": [
        "Variable name :\n",
        "\n",
        "\n",
        "df_EUR_M_cap : Monthly capitalization for EUR firms\n",
        "\n",
        "df_EUR_M_RI: Monthly return index for EUR firms\n",
        "\n",
        "df_EUR_Y_cap: Yearly capitalization for EUR firms\n",
        "\n",
        "df_EUR_Y_RI: Yearly return index for EUR firms\n",
        "\n",
        "df_M_returns: Monthly returns (computed with capitalization) for EUR firms\n",
        "\n",
        "df_M_returns_annualized: Monthly returns annualized\n",
        "\n",
        "df_M_volatility: Monthly volatility of EUR firms\n",
        "\n",
        "df_M_volatility_annualized: Monthly volatility annualized\n",
        "\n"
      ]
    },
    {
      "cell_type": "markdown",
      "metadata": {
        "id": "fSz_KHe_JNIn"
      },
      "source": [
        "# Question 1"
      ]
    },
    {
      "cell_type": "markdown",
      "metadata": {
        "id": "HNnSMwD1Kg7M"
      },
      "source": [
        "## Annualized average return"
      ]
    },
    {
      "cell_type": "code",
      "execution_count": 41,
      "metadata": {
        "id": "cjHfcXHsTemD"
      },
      "outputs": [],
      "source": [
        "df_EUR_M_RI.set_index('NAME', inplace = True)\n",
        "df_EUR_M_cap.set_index('NAME', inplace = True)"
      ]
    },
    {
      "cell_type": "code",
      "execution_count": 42,
      "metadata": {
        "id": "qlvb6K76KOqk"
      },
      "outputs": [],
      "source": [
        "\n",
        "df_EUR_M_RI.drop(df_EUR_M_RI.columns[:4], axis=1, inplace=True)\n",
        "\n",
        "df_EUR_M_RI.columns = pd.to_datetime(df_EUR_M_RI.columns)\n",
        "\n",
        "df_EUR_M_RI_08 = df_EUR_M_RI.loc[:, (df_EUR_M_RI.columns >= pd.to_datetime(\"2007-01-01\"))]\n",
        "\n",
        "df_EUR_M_RI_T = df_EUR_M_RI_08.T"
      ]
    },
    {
      "cell_type": "code",
      "execution_count": 43,
      "metadata": {
        "id": "brJJGy8qQinq"
      },
      "outputs": [],
      "source": [
        "df_M_returns = df_EUR_M_RI_T.pct_change()"
      ]
    },
    {
      "cell_type": "code",
      "execution_count": 69,
      "metadata": {
        "colab": {
          "base_uri": "https://localhost:8080/",
          "height": 466
        },
        "id": "0Ru0dOPOLDNK",
        "outputId": "9235c299-3d5f-4007-e6fd-67149093d60b"
      },
      "outputs": [
        {
          "data": {
            "text/plain": [
              "<AxesSubplot:xlabel='NAME'>"
            ]
          },
          "execution_count": 69,
          "metadata": {},
          "output_type": "execute_result"
        },
        {
          "data": {
            "image/png": "[encoded data removed]",
            "text/plain": [
              "<Figure size 432x288 with 1 Axes>"
            ]
          },
          "metadata": {
            "needs_background": "light"
          },
          "output_type": "display_data"
        }
      ],
      "source": [
        "#Now we annualized it\n",
        "df_M_returns.replace([np.inf, -np.inf], np.nan, inplace=True)\n",
        "df_M_returns_annualized = df_M_returns.mean() * 12\n",
        "#And we plot it\n",
        "df_M_returns_annualized.plot()"
      ]
    },
    {
      "cell_type": "code",
      "execution_count": 70,
      "metadata": {
        "colab": {
          "base_uri": "https://localhost:8080/",
          "height": 448
        },
        "id": "Z0NJ2HglTyKu",
        "outputId": "d7983a61-e682-4787-f8fb-3cf8b4f383b9"
      },
      "outputs": [
        {
          "ename": "OptionError",
          "evalue": "No such keys(s): 'mode.use_inf_as_null'",
          "output_type": "error",
          "traceback": [
            "\u001b[1;31m---------------------------------------------------------------------------\u001b[0m",
            "\u001b[1;31mOptionError\u001b[0m                               Traceback (most recent call last)",
            "Input \u001b[1;32mIn [70]\u001b[0m, in \u001b[0;36m<cell line: 1>\u001b[1;34m()\u001b[0m\n\u001b[1;32m----> 1\u001b[0m \u001b[43msns\u001b[49m\u001b[38;5;241;43m.\u001b[39;49m\u001b[43mhistplot\u001b[49m\u001b[43m(\u001b[49m\u001b[43mdf_M_returns_annualized\u001b[49m\u001b[43m)\u001b[49m\n",
            "File \u001b[1;32mc:\\Users\\giamm\\AppData\\Local\\Programs\\Python\\Python310\\lib\\site-packages\\seaborn\\distributions.py:1462\u001b[0m, in \u001b[0;36mhistplot\u001b[1;34m(data, x, y, hue, weights, stat, bins, binwidth, binrange, discrete, cumulative, common_bins, common_norm, multiple, element, fill, shrink, kde, kde_kws, line_kws, thresh, pthresh, pmax, cbar, cbar_ax, cbar_kws, palette, hue_order, hue_norm, color, log_scale, legend, ax, **kwargs)\u001b[0m\n\u001b[0;32m   1451\u001b[0m estimate_kws \u001b[38;5;241m=\u001b[39m \u001b[38;5;28mdict\u001b[39m(\n\u001b[0;32m   1452\u001b[0m     stat\u001b[38;5;241m=\u001b[39mstat,\n\u001b[0;32m   1453\u001b[0m     bins\u001b[38;5;241m=\u001b[39mbins,\n\u001b[1;32m   (...)\u001b[0m\n\u001b[0;32m   1457\u001b[0m     cumulative\u001b[38;5;241m=\u001b[39mcumulative,\n\u001b[0;32m   1458\u001b[0m )\n\u001b[0;32m   1460\u001b[0m \u001b[38;5;28;01mif\u001b[39;00m p\u001b[38;5;241m.\u001b[39munivariate:\n\u001b[1;32m-> 1462\u001b[0m     p\u001b[38;5;241m.\u001b[39mplot_univariate_histogram(\n\u001b[0;32m   1463\u001b[0m         multiple\u001b[38;5;241m=\u001b[39mmultiple,\n\u001b[0;32m   1464\u001b[0m         element\u001b[38;5;241m=\u001b[39melement,\n\u001b[0;32m   1465\u001b[0m         fill\u001b[38;5;241m=\u001b[39mfill,\n\u001b[0;32m   1466\u001b[0m         shrink\u001b[38;5;241m=\u001b[39mshrink,\n\u001b[0;32m   1467\u001b[0m         common_norm\u001b[38;5;241m=\u001b[39mcommon_norm,\n\u001b[0;32m   1468\u001b[0m         common_bins\u001b[38;5;241m=\u001b[39mcommon_bins,\n\u001b[0;32m   1469\u001b[0m         kde\u001b[38;5;241m=\u001b[39mkde,\n\u001b[0;32m   1470\u001b[0m         kde_kws\u001b[38;5;241m=\u001b[39mkde_kws,\n\u001b[0;32m   1471\u001b[0m         color\u001b[38;5;241m=\u001b[39mcolor,\n\u001b[0;32m   1472\u001b[0m         legend\u001b[38;5;241m=\u001b[39mlegend,\n\u001b[0;32m   1473\u001b[0m         estimate_kws\u001b[38;5;241m=\u001b[39mestimate_kws,\n\u001b[0;32m   1474\u001b[0m         line_kws\u001b[38;5;241m=\u001b[39mline_kws,\n\u001b[0;32m   1475\u001b[0m         \u001b[38;5;241m*\u001b[39m\u001b[38;5;241m*\u001b[39mkwargs,\n\u001b[0;32m   1476\u001b[0m     )\n\u001b[0;32m   1478\u001b[0m \u001b[38;5;28;01melse\u001b[39;00m:\n\u001b[0;32m   1480\u001b[0m     p\u001b[38;5;241m.\u001b[39mplot_bivariate_histogram(\n\u001b[0;32m   1481\u001b[0m         common_bins\u001b[38;5;241m=\u001b[39mcommon_bins,\n\u001b[0;32m   1482\u001b[0m         common_norm\u001b[38;5;241m=\u001b[39mcommon_norm,\n\u001b[1;32m   (...)\u001b[0m\n\u001b[0;32m   1492\u001b[0m         \u001b[38;5;241m*\u001b[39m\u001b[38;5;241m*\u001b[39mkwargs,\n\u001b[0;32m   1493\u001b[0m     )\n",
            "File \u001b[1;32mc:\\Users\\giamm\\AppData\\Local\\Programs\\Python\\Python310\\lib\\site-packages\\seaborn\\distributions.py:428\u001b[0m, in \u001b[0;36m_DistributionPlotter.plot_univariate_histogram\u001b[1;34m(self, multiple, element, fill, common_norm, common_bins, shrink, kde, kde_kws, color, legend, line_kws, estimate_kws, **plot_kws)\u001b[0m\n\u001b[0;32m    418\u001b[0m     densities \u001b[38;5;241m=\u001b[39m \u001b[38;5;28mself\u001b[39m\u001b[38;5;241m.\u001b[39m_compute_univariate_density(\n\u001b[0;32m    419\u001b[0m         \u001b[38;5;28mself\u001b[39m\u001b[38;5;241m.\u001b[39mdata_variable,\n\u001b[0;32m    420\u001b[0m         common_norm,\n\u001b[1;32m   (...)\u001b[0m\n\u001b[0;32m    424\u001b[0m         warn_singular\u001b[38;5;241m=\u001b[39m\u001b[38;5;28;01mFalse\u001b[39;00m,\n\u001b[0;32m    425\u001b[0m     )\n\u001b[0;32m    427\u001b[0m \u001b[38;5;66;03m# First pass through the data to compute the histograms\u001b[39;00m\n\u001b[1;32m--> 428\u001b[0m \u001b[38;5;28;01mfor\u001b[39;00m sub_vars, sub_data \u001b[38;5;129;01min\u001b[39;00m \u001b[38;5;28mself\u001b[39m\u001b[38;5;241m.\u001b[39miter_data(\u001b[38;5;124m\"\u001b[39m\u001b[38;5;124mhue\u001b[39m\u001b[38;5;124m\"\u001b[39m, from_comp_data\u001b[38;5;241m=\u001b[39m\u001b[38;5;28;01mTrue\u001b[39;00m):\n\u001b[0;32m    429\u001b[0m \n\u001b[0;32m    430\u001b[0m     \u001b[38;5;66;03m# Prepare the relevant data\u001b[39;00m\n\u001b[0;32m    431\u001b[0m     key \u001b[38;5;241m=\u001b[39m \u001b[38;5;28mtuple\u001b[39m(sub_vars\u001b[38;5;241m.\u001b[39mitems())\n\u001b[0;32m    432\u001b[0m     sub_data \u001b[38;5;241m=\u001b[39m sub_data\u001b[38;5;241m.\u001b[39mdropna()\n",
            "File \u001b[1;32mc:\\Users\\giamm\\AppData\\Local\\Programs\\Python\\Python310\\lib\\site-packages\\seaborn\\_core.py:983\u001b[0m, in \u001b[0;36mVectorPlotter.iter_data\u001b[1;34m(self, grouping_vars, reverse, from_comp_data)\u001b[0m\n\u001b[0;32m    978\u001b[0m grouping_vars \u001b[38;5;241m=\u001b[39m [\n\u001b[0;32m    979\u001b[0m     var \u001b[38;5;28;01mfor\u001b[39;00m var \u001b[38;5;129;01min\u001b[39;00m grouping_vars \u001b[38;5;28;01mif\u001b[39;00m var \u001b[38;5;129;01min\u001b[39;00m \u001b[38;5;28mself\u001b[39m\u001b[38;5;241m.\u001b[39mvariables\n\u001b[0;32m    980\u001b[0m ]\n\u001b[0;32m    982\u001b[0m \u001b[38;5;28;01mif\u001b[39;00m from_comp_data:\n\u001b[1;32m--> 983\u001b[0m     data \u001b[38;5;241m=\u001b[39m \u001b[38;5;28;43mself\u001b[39;49m\u001b[38;5;241;43m.\u001b[39;49m\u001b[43mcomp_data\u001b[49m\n\u001b[0;32m    984\u001b[0m \u001b[38;5;28;01melse\u001b[39;00m:\n\u001b[0;32m    985\u001b[0m     data \u001b[38;5;241m=\u001b[39m \u001b[38;5;28mself\u001b[39m\u001b[38;5;241m.\u001b[39mplot_data\n",
            "File \u001b[1;32mc:\\Users\\giamm\\AppData\\Local\\Programs\\Python\\Python310\\lib\\site-packages\\seaborn\\_core.py:1054\u001b[0m, in \u001b[0;36mVectorPlotter.comp_data\u001b[1;34m(self)\u001b[0m\n\u001b[0;32m   1050\u001b[0m axis \u001b[38;5;241m=\u001b[39m \u001b[38;5;28mgetattr\u001b[39m(ax, \u001b[38;5;124mf\u001b[39m\u001b[38;5;124m\"\u001b[39m\u001b[38;5;132;01m{\u001b[39;00mvar\u001b[38;5;132;01m}\u001b[39;00m\u001b[38;5;124maxis\u001b[39m\u001b[38;5;124m\"\u001b[39m)\n\u001b[0;32m   1052\u001b[0m \u001b[38;5;66;03m# Use the converter assigned to the axis to get a float representation\u001b[39;00m\n\u001b[0;32m   1053\u001b[0m \u001b[38;5;66;03m# of the data, passing np.nan or pd.NA through (pd.NA becomes np.nan)\u001b[39;00m\n\u001b[1;32m-> 1054\u001b[0m \u001b[38;5;28;01mwith\u001b[39;00m pd\u001b[38;5;241m.\u001b[39moption_context(\u001b[38;5;124m'\u001b[39m\u001b[38;5;124mmode.use_inf_as_null\u001b[39m\u001b[38;5;124m'\u001b[39m, \u001b[38;5;28;01mTrue\u001b[39;00m):\n\u001b[0;32m   1055\u001b[0m     orig \u001b[38;5;241m=\u001b[39m \u001b[38;5;28mself\u001b[39m\u001b[38;5;241m.\u001b[39mplot_data[var]\u001b[38;5;241m.\u001b[39mdropna()\n\u001b[0;32m   1056\u001b[0m comp_col \u001b[38;5;241m=\u001b[39m pd\u001b[38;5;241m.\u001b[39mSeries(index\u001b[38;5;241m=\u001b[39morig\u001b[38;5;241m.\u001b[39mindex, dtype\u001b[38;5;241m=\u001b[39m\u001b[38;5;28mfloat\u001b[39m, name\u001b[38;5;241m=\u001b[39mvar)\n",
            "File \u001b[1;32mc:\\Users\\giamm\\AppData\\Local\\Programs\\Python\\Python310\\lib\\site-packages\\pandas\\_config\\config.py:480\u001b[0m, in \u001b[0;36moption_context.__enter__\u001b[1;34m(self)\u001b[0m\n\u001b[0;32m    479\u001b[0m \u001b[38;5;28;01mdef\u001b[39;00m \u001b[38;5;21m__enter__\u001b[39m(\u001b[38;5;28mself\u001b[39m) \u001b[38;5;241m-\u001b[39m\u001b[38;5;241m>\u001b[39m \u001b[38;5;28;01mNone\u001b[39;00m:\n\u001b[1;32m--> 480\u001b[0m     \u001b[38;5;28mself\u001b[39m\u001b[38;5;241m.\u001b[39mundo \u001b[38;5;241m=\u001b[39m [(pat, _get_option(pat)) \u001b[38;5;28;01mfor\u001b[39;00m pat, val \u001b[38;5;129;01min\u001b[39;00m \u001b[38;5;28mself\u001b[39m\u001b[38;5;241m.\u001b[39mops]\n\u001b[0;32m    482\u001b[0m     \u001b[38;5;28;01mfor\u001b[39;00m pat, val \u001b[38;5;129;01min\u001b[39;00m \u001b[38;5;28mself\u001b[39m\u001b[38;5;241m.\u001b[39mops:\n\u001b[0;32m    483\u001b[0m         _set_option(pat, val, silent\u001b[38;5;241m=\u001b[39m\u001b[38;5;28;01mTrue\u001b[39;00m)\n",
            "File \u001b[1;32mc:\\Users\\giamm\\AppData\\Local\\Programs\\Python\\Python310\\lib\\site-packages\\pandas\\_config\\config.py:480\u001b[0m, in \u001b[0;36m<listcomp>\u001b[1;34m(.0)\u001b[0m\n\u001b[0;32m    479\u001b[0m \u001b[38;5;28;01mdef\u001b[39;00m \u001b[38;5;21m__enter__\u001b[39m(\u001b[38;5;28mself\u001b[39m) \u001b[38;5;241m-\u001b[39m\u001b[38;5;241m>\u001b[39m \u001b[38;5;28;01mNone\u001b[39;00m:\n\u001b[1;32m--> 480\u001b[0m     \u001b[38;5;28mself\u001b[39m\u001b[38;5;241m.\u001b[39mundo \u001b[38;5;241m=\u001b[39m [(pat, \u001b[43m_get_option\u001b[49m\u001b[43m(\u001b[49m\u001b[43mpat\u001b[49m\u001b[43m)\u001b[49m) \u001b[38;5;28;01mfor\u001b[39;00m pat, val \u001b[38;5;129;01min\u001b[39;00m \u001b[38;5;28mself\u001b[39m\u001b[38;5;241m.\u001b[39mops]\n\u001b[0;32m    482\u001b[0m     \u001b[38;5;28;01mfor\u001b[39;00m pat, val \u001b[38;5;129;01min\u001b[39;00m \u001b[38;5;28mself\u001b[39m\u001b[38;5;241m.\u001b[39mops:\n\u001b[0;32m    483\u001b[0m         _set_option(pat, val, silent\u001b[38;5;241m=\u001b[39m\u001b[38;5;28;01mTrue\u001b[39;00m)\n",
            "File \u001b[1;32mc:\\Users\\giamm\\AppData\\Local\\Programs\\Python\\Python310\\lib\\site-packages\\pandas\\_config\\config.py:146\u001b[0m, in \u001b[0;36m_get_option\u001b[1;34m(pat, silent)\u001b[0m\n\u001b[0;32m    145\u001b[0m \u001b[38;5;28;01mdef\u001b[39;00m \u001b[38;5;21m_get_option\u001b[39m(pat: \u001b[38;5;28mstr\u001b[39m, silent: \u001b[38;5;28mbool\u001b[39m \u001b[38;5;241m=\u001b[39m \u001b[38;5;28;01mFalse\u001b[39;00m) \u001b[38;5;241m-\u001b[39m\u001b[38;5;241m>\u001b[39m Any:\n\u001b[1;32m--> 146\u001b[0m     key \u001b[38;5;241m=\u001b[39m \u001b[43m_get_single_key\u001b[49m\u001b[43m(\u001b[49m\u001b[43mpat\u001b[49m\u001b[43m,\u001b[49m\u001b[43m \u001b[49m\u001b[43msilent\u001b[49m\u001b[43m)\u001b[49m\n\u001b[0;32m    148\u001b[0m     \u001b[38;5;66;03m# walk the nested dict\u001b[39;00m\n\u001b[0;32m    149\u001b[0m     root, k \u001b[38;5;241m=\u001b[39m _get_root(key)\n",
            "File \u001b[1;32mc:\\Users\\giamm\\AppData\\Local\\Programs\\Python\\Python310\\lib\\site-packages\\pandas\\_config\\config.py:132\u001b[0m, in \u001b[0;36m_get_single_key\u001b[1;34m(pat, silent)\u001b[0m\n\u001b[0;32m    130\u001b[0m     \u001b[38;5;28;01mif\u001b[39;00m \u001b[38;5;129;01mnot\u001b[39;00m silent:\n\u001b[0;32m    131\u001b[0m         _warn_if_deprecated(pat)\n\u001b[1;32m--> 132\u001b[0m     \u001b[38;5;28;01mraise\u001b[39;00m OptionError(\u001b[38;5;124mf\u001b[39m\u001b[38;5;124m\"\u001b[39m\u001b[38;5;124mNo such keys(s): \u001b[39m\u001b[38;5;132;01m{\u001b[39;00m\u001b[38;5;28mrepr\u001b[39m(pat)\u001b[38;5;132;01m}\u001b[39;00m\u001b[38;5;124m\"\u001b[39m)\n\u001b[0;32m    133\u001b[0m \u001b[38;5;28;01mif\u001b[39;00m \u001b[38;5;28mlen\u001b[39m(keys) \u001b[38;5;241m>\u001b[39m \u001b[38;5;241m1\u001b[39m:\n\u001b[0;32m    134\u001b[0m     \u001b[38;5;28;01mraise\u001b[39;00m OptionError(\u001b[38;5;124m\"\u001b[39m\u001b[38;5;124mPattern matched multiple keys\u001b[39m\u001b[38;5;124m\"\u001b[39m)\n",
            "\u001b[1;31mOptionError\u001b[0m: No such keys(s): 'mode.use_inf_as_null'"
          ]
        },
        {
          "data": {
            "image/png": "[encoded data removed]",
            "text/plain": [
              "<Figure size 432x288 with 1 Axes>"
            ]
          },
          "metadata": {
            "needs_background": "light"
          },
          "output_type": "display_data"
        }
      ],
      "source": [
        "sns.histplot(df_M_returns_annualized)"
      ]
    },
    {
      "cell_type": "markdown",
      "metadata": {
        "id": "DiGOh0yAVKNb"
      },
      "source": [
        "## Annualized volatility"
      ]
    },
    {
      "cell_type": "code",
      "execution_count": 46,
      "metadata": {
        "id": "YXTJYD5uVOFU"
      },
      "outputs": [],
      "source": [
        "deviations = df_M_returns - df_M_returns.mean()\n",
        "squared_deviations = deviations**2\n",
        "mean_squared_deviations = squared_deviations.mean()\n",
        "\n",
        "df_M_volatility = np.sqrt(mean_squared_deviations)"
      ]
    },
    {
      "cell_type": "code",
      "execution_count": 47,
      "metadata": {
        "id": "kq61zSWJVPxf"
      },
      "outputs": [],
      "source": [
        "df_M_volatility_annualized = df_M_volatility*(12**0.5)"
      ]
    },
    {
      "cell_type": "code",
      "execution_count": 48,
      "metadata": {
        "colab": {
          "base_uri": "https://localhost:8080/",
          "height": 89
        },
        "id": "_uxM-Wx5VQEb",
        "outputId": "94dbb22a-cf14-4235-ede0-b0f2d447b43f"
      },
      "outputs": [
        {
          "data": {
            "text/plain": [
              "<AxesSubplot:xlabel='NAME'>"
            ]
          },
          "execution_count": 48,
          "metadata": {},
          "output_type": "execute_result"
        },
        {
          "data": {
            "image/png": "[encoded data removed]",
            "text/plain": [
              "<Figure size 432x288 with 1 Axes>"
            ]
          },
          "metadata": {
            "needs_background": "light"
          },
          "output_type": "display_data"
        }
      ],
      "source": [
        "df_M_volatility_annualized.plot()"
      ]
    },
    {
      "cell_type": "markdown",
      "metadata": {
        "id": "BvahPaSGVVpv"
      },
      "source": [
        "##Correlation"
      ]
    },
    {
      "cell_type": "code",
      "execution_count": 49,
      "metadata": {
        "colab": {
          "base_uri": "https://localhost:8080/",
          "height": 541
        },
        "id": "ci8L8pv0x566",
        "outputId": "0f44a903-c05d-4366-934c-8bb359934a56"
      },
      "outputs": [
        {
          "data": {
            "text/html": [
              "<div>\n",
              "<style scoped>\n",
              "    .dataframe tbody tr th:only-of-type {\n",
              "        vertical-align: middle;\n",
              "    }\n",
              "\n",
              "    .dataframe tbody tr th {\n",
              "        vertical-align: top;\n",
              "    }\n",
              "\n",
              "    .dataframe thead th {\n",
              "        text-align: right;\n",
              "    }\n",
              "</style>\n",
              "<table border=\"1\" class=\"dataframe\">\n",
              "  <thead>\n",
              "    <tr style=\"text-align: right;\">\n",
              "      <th>NAME</th>\n",
              "      <th>FLUGHAFEN WIEN</th>\n",
              "      <th>ERSTE GROUP BANK</th>\n",
              "      <th>OMV</th>\n",
              "      <th>VERBUND</th>\n",
              "      <th>WIENERBERGER</th>\n",
              "      <th>VIENNA INSURANCE GROUP A</th>\n",
              "      <th>VOESTALPINE</th>\n",
              "      <th>MAYR-MELNHOF KARTON</th>\n",
              "      <th>IMMOFINANZ</th>\n",
              "      <th>SOLVAY</th>\n",
              "      <th>...</th>\n",
              "      <th>FABEGE</th>\n",
              "      <th>KINNEVIK B</th>\n",
              "      <th>INVESTOR A</th>\n",
              "      <th>SWEDISH MATCH DEAD - DELIST.02/01/23</th>\n",
              "      <th>HEXAGON B</th>\n",
              "      <th>NIBE INDUSTRIER</th>\n",
              "      <th>ELECTROLUX B</th>\n",
              "      <th>ATLAS COPCO A</th>\n",
              "      <th>MODERN TIMES GROUP MTG B</th>\n",
              "      <th>BOLIDEN ORD SHS</th>\n",
              "    </tr>\n",
              "    <tr>\n",
              "      <th>NAME</th>\n",
              "      <th></th>\n",
              "      <th></th>\n",
              "      <th></th>\n",
              "      <th></th>\n",
              "      <th></th>\n",
              "      <th></th>\n",
              "      <th></th>\n",
              "      <th></th>\n",
              "      <th></th>\n",
              "      <th></th>\n",
              "      <th></th>\n",
              "      <th></th>\n",
              "      <th></th>\n",
              "      <th></th>\n",
              "      <th></th>\n",
              "      <th></th>\n",
              "      <th></th>\n",
              "      <th></th>\n",
              "      <th></th>\n",
              "      <th></th>\n",
              "      <th></th>\n",
              "    </tr>\n",
              "  </thead>\n",
              "  <tbody>\n",
              "    <tr>\n",
              "      <th>FLUGHAFEN WIEN</th>\n",
              "      <td>1.000000</td>\n",
              "      <td>0.563011</td>\n",
              "      <td>0.501616</td>\n",
              "      <td>0.499605</td>\n",
              "      <td>0.471449</td>\n",
              "      <td>0.623572</td>\n",
              "      <td>0.461207</td>\n",
              "      <td>0.563928</td>\n",
              "      <td>0.466917</td>\n",
              "      <td>0.491600</td>\n",
              "      <td>...</td>\n",
              "      <td>0.371786</td>\n",
              "      <td>0.422274</td>\n",
              "      <td>0.468797</td>\n",
              "      <td>0.285513</td>\n",
              "      <td>0.389913</td>\n",
              "      <td>0.334352</td>\n",
              "      <td>0.395925</td>\n",
              "      <td>0.395054</td>\n",
              "      <td>0.453418</td>\n",
              "      <td>0.334718</td>\n",
              "    </tr>\n",
              "    <tr>\n",
              "      <th>ERSTE GROUP BANK</th>\n",
              "      <td>0.563011</td>\n",
              "      <td>1.000000</td>\n",
              "      <td>0.601695</td>\n",
              "      <td>0.527919</td>\n",
              "      <td>0.612858</td>\n",
              "      <td>0.730205</td>\n",
              "      <td>0.529561</td>\n",
              "      <td>0.575977</td>\n",
              "      <td>0.516212</td>\n",
              "      <td>0.693561</td>\n",
              "      <td>...</td>\n",
              "      <td>0.462065</td>\n",
              "      <td>0.521617</td>\n",
              "      <td>0.661790</td>\n",
              "      <td>0.362114</td>\n",
              "      <td>0.532283</td>\n",
              "      <td>0.368265</td>\n",
              "      <td>0.508907</td>\n",
              "      <td>0.536500</td>\n",
              "      <td>0.503673</td>\n",
              "      <td>0.567557</td>\n",
              "    </tr>\n",
              "    <tr>\n",
              "      <th>OMV</th>\n",
              "      <td>0.501616</td>\n",
              "      <td>0.601695</td>\n",
              "      <td>1.000000</td>\n",
              "      <td>0.481892</td>\n",
              "      <td>0.437129</td>\n",
              "      <td>0.566825</td>\n",
              "      <td>0.550988</td>\n",
              "      <td>0.576954</td>\n",
              "      <td>0.516486</td>\n",
              "      <td>0.637158</td>\n",
              "      <td>...</td>\n",
              "      <td>0.413331</td>\n",
              "      <td>0.473772</td>\n",
              "      <td>0.480426</td>\n",
              "      <td>0.356773</td>\n",
              "      <td>0.411133</td>\n",
              "      <td>0.322863</td>\n",
              "      <td>0.426079</td>\n",
              "      <td>0.443856</td>\n",
              "      <td>0.421563</td>\n",
              "      <td>0.488802</td>\n",
              "    </tr>\n",
              "    <tr>\n",
              "      <th>VERBUND</th>\n",
              "      <td>0.499605</td>\n",
              "      <td>0.527919</td>\n",
              "      <td>0.481892</td>\n",
              "      <td>1.000000</td>\n",
              "      <td>0.410817</td>\n",
              "      <td>0.533057</td>\n",
              "      <td>0.475076</td>\n",
              "      <td>0.482957</td>\n",
              "      <td>0.436344</td>\n",
              "      <td>0.469756</td>\n",
              "      <td>...</td>\n",
              "      <td>0.439132</td>\n",
              "      <td>0.476935</td>\n",
              "      <td>0.525412</td>\n",
              "      <td>0.299445</td>\n",
              "      <td>0.438822</td>\n",
              "      <td>0.351009</td>\n",
              "      <td>0.317555</td>\n",
              "      <td>0.401171</td>\n",
              "      <td>0.375623</td>\n",
              "      <td>0.383349</td>\n",
              "    </tr>\n",
              "    <tr>\n",
              "      <th>WIENERBERGER</th>\n",
              "      <td>0.471449</td>\n",
              "      <td>0.612858</td>\n",
              "      <td>0.437129</td>\n",
              "      <td>0.410817</td>\n",
              "      <td>1.000000</td>\n",
              "      <td>0.627346</td>\n",
              "      <td>0.615369</td>\n",
              "      <td>0.528778</td>\n",
              "      <td>0.520221</td>\n",
              "      <td>0.652811</td>\n",
              "      <td>...</td>\n",
              "      <td>0.563730</td>\n",
              "      <td>0.608841</td>\n",
              "      <td>0.663237</td>\n",
              "      <td>0.251434</td>\n",
              "      <td>0.561712</td>\n",
              "      <td>0.518141</td>\n",
              "      <td>0.586415</td>\n",
              "      <td>0.621444</td>\n",
              "      <td>0.564434</td>\n",
              "      <td>0.434293</td>\n",
              "    </tr>\n",
              "    <tr>\n",
              "      <th>...</th>\n",
              "      <td>...</td>\n",
              "      <td>...</td>\n",
              "      <td>...</td>\n",
              "      <td>...</td>\n",
              "      <td>...</td>\n",
              "      <td>...</td>\n",
              "      <td>...</td>\n",
              "      <td>...</td>\n",
              "      <td>...</td>\n",
              "      <td>...</td>\n",
              "      <td>...</td>\n",
              "      <td>...</td>\n",
              "      <td>...</td>\n",
              "      <td>...</td>\n",
              "      <td>...</td>\n",
              "      <td>...</td>\n",
              "      <td>...</td>\n",
              "      <td>...</td>\n",
              "      <td>...</td>\n",
              "      <td>...</td>\n",
              "      <td>...</td>\n",
              "    </tr>\n",
              "    <tr>\n",
              "      <th>NIBE INDUSTRIER</th>\n",
              "      <td>0.334352</td>\n",
              "      <td>0.368265</td>\n",
              "      <td>0.322863</td>\n",
              "      <td>0.351009</td>\n",
              "      <td>0.518141</td>\n",
              "      <td>0.447080</td>\n",
              "      <td>0.435842</td>\n",
              "      <td>0.399629</td>\n",
              "      <td>0.406543</td>\n",
              "      <td>0.409717</td>\n",
              "      <td>...</td>\n",
              "      <td>0.466596</td>\n",
              "      <td>0.538200</td>\n",
              "      <td>0.577069</td>\n",
              "      <td>0.276464</td>\n",
              "      <td>0.570899</td>\n",
              "      <td>1.000000</td>\n",
              "      <td>0.449978</td>\n",
              "      <td>0.549947</td>\n",
              "      <td>0.424562</td>\n",
              "      <td>0.372856</td>\n",
              "    </tr>\n",
              "    <tr>\n",
              "      <th>ELECTROLUX B</th>\n",
              "      <td>0.395925</td>\n",
              "      <td>0.508907</td>\n",
              "      <td>0.426079</td>\n",
              "      <td>0.317555</td>\n",
              "      <td>0.586415</td>\n",
              "      <td>0.537329</td>\n",
              "      <td>0.570320</td>\n",
              "      <td>0.451120</td>\n",
              "      <td>0.441172</td>\n",
              "      <td>0.566379</td>\n",
              "      <td>...</td>\n",
              "      <td>0.512637</td>\n",
              "      <td>0.520470</td>\n",
              "      <td>0.671834</td>\n",
              "      <td>0.336836</td>\n",
              "      <td>0.645958</td>\n",
              "      <td>0.449978</td>\n",
              "      <td>1.000000</td>\n",
              "      <td>0.658460</td>\n",
              "      <td>0.475527</td>\n",
              "      <td>0.555120</td>\n",
              "    </tr>\n",
              "    <tr>\n",
              "      <th>ATLAS COPCO A</th>\n",
              "      <td>0.395054</td>\n",
              "      <td>0.536500</td>\n",
              "      <td>0.443856</td>\n",
              "      <td>0.401171</td>\n",
              "      <td>0.621444</td>\n",
              "      <td>0.596458</td>\n",
              "      <td>0.673897</td>\n",
              "      <td>0.521670</td>\n",
              "      <td>0.515376</td>\n",
              "      <td>0.641485</td>\n",
              "      <td>...</td>\n",
              "      <td>0.640817</td>\n",
              "      <td>0.631429</td>\n",
              "      <td>0.806049</td>\n",
              "      <td>0.335394</td>\n",
              "      <td>0.745823</td>\n",
              "      <td>0.549947</td>\n",
              "      <td>0.658460</td>\n",
              "      <td>1.000000</td>\n",
              "      <td>0.613623</td>\n",
              "      <td>0.639032</td>\n",
              "    </tr>\n",
              "    <tr>\n",
              "      <th>MODERN TIMES GROUP MTG B</th>\n",
              "      <td>0.453418</td>\n",
              "      <td>0.503673</td>\n",
              "      <td>0.421563</td>\n",
              "      <td>0.375623</td>\n",
              "      <td>0.564434</td>\n",
              "      <td>0.618745</td>\n",
              "      <td>0.572964</td>\n",
              "      <td>0.411374</td>\n",
              "      <td>0.472063</td>\n",
              "      <td>0.490995</td>\n",
              "      <td>...</td>\n",
              "      <td>0.529373</td>\n",
              "      <td>0.646270</td>\n",
              "      <td>0.638314</td>\n",
              "      <td>0.445632</td>\n",
              "      <td>0.574410</td>\n",
              "      <td>0.424562</td>\n",
              "      <td>0.475527</td>\n",
              "      <td>0.613623</td>\n",
              "      <td>1.000000</td>\n",
              "      <td>0.503663</td>\n",
              "    </tr>\n",
              "    <tr>\n",
              "      <th>BOLIDEN ORD SHS</th>\n",
              "      <td>0.334718</td>\n",
              "      <td>0.567557</td>\n",
              "      <td>0.488802</td>\n",
              "      <td>0.383349</td>\n",
              "      <td>0.434293</td>\n",
              "      <td>0.524319</td>\n",
              "      <td>0.486856</td>\n",
              "      <td>0.425657</td>\n",
              "      <td>0.437941</td>\n",
              "      <td>0.549333</td>\n",
              "      <td>...</td>\n",
              "      <td>0.470300</td>\n",
              "      <td>0.554421</td>\n",
              "      <td>0.613340</td>\n",
              "      <td>0.345572</td>\n",
              "      <td>0.625624</td>\n",
              "      <td>0.372856</td>\n",
              "      <td>0.555120</td>\n",
              "      <td>0.639032</td>\n",
              "      <td>0.503663</td>\n",
              "      <td>1.000000</td>\n",
              "    </tr>\n",
              "  </tbody>\n",
              "</table>\n",
              "<p>508 rows × 508 columns</p>\n",
              "</div>"
            ],
            "text/plain": [
              "NAME                      FLUGHAFEN WIEN  ERSTE GROUP BANK       OMV  \\\n",
              "NAME                                                                   \n",
              "FLUGHAFEN WIEN                  1.000000          0.563011  0.501616   \n",
              "ERSTE GROUP BANK                0.563011          1.000000  0.601695   \n",
              "OMV                             0.501616          0.601695  1.000000   \n",
              "VERBUND                         0.499605          0.527919  0.481892   \n",
              "WIENERBERGER                    0.471449          0.612858  0.437129   \n",
              "...                                  ...               ...       ...   \n",
              "NIBE INDUSTRIER                 0.334352          0.368265  0.322863   \n",
              "ELECTROLUX B                    0.395925          0.508907  0.426079   \n",
              "ATLAS COPCO A                   0.395054          0.536500  0.443856   \n",
              "MODERN TIMES GROUP MTG B        0.453418          0.503673  0.421563   \n",
              "BOLIDEN ORD SHS                 0.334718          0.567557  0.488802   \n",
              "\n",
              "NAME                       VERBUND  WIENERBERGER  VIENNA INSURANCE GROUP A  \\\n",
              "NAME                                                                         \n",
              "FLUGHAFEN WIEN            0.499605      0.471449                  0.623572   \n",
              "ERSTE GROUP BANK          0.527919      0.612858                  0.730205   \n",
              "OMV                       0.481892      0.437129                  0.566825   \n",
              "VERBUND                   1.000000      0.410817                  0.533057   \n",
              "WIENERBERGER              0.410817      1.000000                  0.627346   \n",
              "...                            ...           ...                       ...   \n",
              "NIBE INDUSTRIER           0.351009      0.518141                  0.447080   \n",
              "ELECTROLUX B              0.317555      0.586415                  0.537329   \n",
              "ATLAS COPCO A             0.401171      0.621444                  0.596458   \n",
              "MODERN TIMES GROUP MTG B  0.375623      0.564434                  0.618745   \n",
              "BOLIDEN ORD SHS           0.383349      0.434293                  0.524319   \n",
              "\n",
              "NAME                      VOESTALPINE  MAYR-MELNHOF KARTON  IMMOFINANZ  \\\n",
              "NAME                                                                     \n",
              "FLUGHAFEN WIEN               0.461207             0.563928    0.466917   \n",
              "ERSTE GROUP BANK             0.529561             0.575977    0.516212   \n",
              "OMV                          0.550988             0.576954    0.516486   \n",
              "VERBUND                      0.475076             0.482957    0.436344   \n",
              "WIENERBERGER                 0.615369             0.528778    0.520221   \n",
              "...                               ...                  ...         ...   \n",
              "NIBE INDUSTRIER              0.435842             0.399629    0.406543   \n",
              "ELECTROLUX B                 0.570320             0.451120    0.441172   \n",
              "ATLAS COPCO A                0.673897             0.521670    0.515376   \n",
              "MODERN TIMES GROUP MTG B     0.572964             0.411374    0.472063   \n",
              "BOLIDEN ORD SHS              0.486856             0.425657    0.437941   \n",
              "\n",
              "NAME                        SOLVAY  ...    FABEGE  KINNEVIK B  INVESTOR A  \\\n",
              "NAME                                ...                                     \n",
              "FLUGHAFEN WIEN            0.491600  ...  0.371786    0.422274    0.468797   \n",
              "ERSTE GROUP BANK          0.693561  ...  0.462065    0.521617    0.661790   \n",
              "OMV                       0.637158  ...  0.413331    0.473772    0.480426   \n",
              "VERBUND                   0.469756  ...  0.439132    0.476935    0.525412   \n",
              "WIENERBERGER              0.652811  ...  0.563730    0.608841    0.663237   \n",
              "...                            ...  ...       ...         ...         ...   \n",
              "NIBE INDUSTRIER           0.409717  ...  0.466596    0.538200    0.577069   \n",
              "ELECTROLUX B              0.566379  ...  0.512637    0.520470    0.671834   \n",
              "ATLAS COPCO A             0.641485  ...  0.640817    0.631429    0.806049   \n",
              "MODERN TIMES GROUP MTG B  0.490995  ...  0.529373    0.646270    0.638314   \n",
              "BOLIDEN ORD SHS           0.549333  ...  0.470300    0.554421    0.613340   \n",
              "\n",
              "NAME                      SWEDISH MATCH DEAD - DELIST.02/01/23  HEXAGON B  \\\n",
              "NAME                                                                        \n",
              "FLUGHAFEN WIEN                                        0.285513   0.389913   \n",
              "ERSTE GROUP BANK                                      0.362114   0.532283   \n",
              "OMV                                                   0.356773   0.411133   \n",
              "VERBUND                                               0.299445   0.438822   \n",
              "WIENERBERGER                                          0.251434   0.561712   \n",
              "...                                                        ...        ...   \n",
              "NIBE INDUSTRIER                                       0.276464   0.570899   \n",
              "ELECTROLUX B                                          0.336836   0.645958   \n",
              "ATLAS COPCO A                                         0.335394   0.745823   \n",
              "MODERN TIMES GROUP MTG B                              0.445632   0.574410   \n",
              "BOLIDEN ORD SHS                                       0.345572   0.625624   \n",
              "\n",
              "NAME                      NIBE INDUSTRIER  ELECTROLUX B  ATLAS COPCO A  \\\n",
              "NAME                                                                     \n",
              "FLUGHAFEN WIEN                   0.334352      0.395925       0.395054   \n",
              "ERSTE GROUP BANK                 0.368265      0.508907       0.536500   \n",
              "OMV                              0.322863      0.426079       0.443856   \n",
              "VERBUND                          0.351009      0.317555       0.401171   \n",
              "WIENERBERGER                     0.518141      0.586415       0.621444   \n",
              "...                                   ...           ...            ...   \n",
              "NIBE INDUSTRIER                  1.000000      0.449978       0.549947   \n",
              "ELECTROLUX B                     0.449978      1.000000       0.658460   \n",
              "ATLAS COPCO A                    0.549947      0.658460       1.000000   \n",
              "MODERN TIMES GROUP MTG B         0.424562      0.475527       0.613623   \n",
              "BOLIDEN ORD SHS                  0.372856      0.555120       0.639032   \n",
              "\n",
              "NAME                      MODERN TIMES GROUP MTG B  BOLIDEN ORD SHS  \n",
              "NAME                                                                 \n",
              "FLUGHAFEN WIEN                            0.453418         0.334718  \n",
              "ERSTE GROUP BANK                          0.503673         0.567557  \n",
              "OMV                                       0.421563         0.488802  \n",
              "VERBUND                                   0.375623         0.383349  \n",
              "WIENERBERGER                              0.564434         0.434293  \n",
              "...                                            ...              ...  \n",
              "NIBE INDUSTRIER                           0.424562         0.372856  \n",
              "ELECTROLUX B                              0.475527         0.555120  \n",
              "ATLAS COPCO A                             0.613623         0.639032  \n",
              "MODERN TIMES GROUP MTG B                  1.000000         0.503663  \n",
              "BOLIDEN ORD SHS                           0.503663         1.000000  \n",
              "\n",
              "[508 rows x 508 columns]"
            ]
          },
          "execution_count": 49,
          "metadata": {},
          "output_type": "execute_result"
        }
      ],
      "source": [
        "df_M_returns.corr()"
      ]
    },
    {
      "cell_type": "code",
      "execution_count": 50,
      "metadata": {
        "colab": {
          "base_uri": "https://localhost:8080/"
        },
        "id": "YTHmh21sVXQx",
        "outputId": "5870cbcb-bbb9-4457-c3ae-31b8b767040f"
      },
      "outputs": [
        {
          "name": "stderr",
          "output_type": "stream",
          "text": [
            "c:\\Users\\giamm\\AppData\\Local\\Programs\\Python\\Python310\\lib\\site-packages\\pandas\\core\\nanops.py:1016: RuntimeWarning: invalid value encountered in subtract\n",
            "  sqr = _ensure_numeric((avg - values) ** 2)\n"
          ]
        },
        {
          "data": {
            "text/plain": [
              "-0.24237289785933855"
            ]
          },
          "execution_count": 50,
          "metadata": {},
          "output_type": "execute_result"
        }
      ],
      "source": [
        "# Calculate the average returns for each asset\n",
        "average_returns = df_M_returns.mean()\n",
        "\n",
        "# Calculate the volatility (standard deviation) for each asset\n",
        "volatilities = df_M_returns.std()\n",
        "\n",
        "# Compute the correlation between average returns and volatilities\n",
        "correlation = average_returns.corr(volatilities)\n",
        "correlation"
      ]
    },
    {
      "cell_type": "markdown",
      "metadata": {
        "id": "HjcH-VACLaQN"
      },
      "source": [
        "# Exercice 2"
      ]
    },
    {
      "cell_type": "markdown",
      "metadata": {
        "id": "pMAWE-i2LheQ"
      },
      "source": [
        "## Equally weighted portfolio"
      ]
    },
    {
      "cell_type": "code",
      "execution_count": 51,
      "metadata": {
        "colab": {
          "base_uri": "https://localhost:8080/"
        },
        "id": "Sw2cBl78LmpW",
        "outputId": "efa89a28-7881-464d-9c36-606cdce99499"
      },
      "outputs": [
        {
          "data": {
            "text/plain": [
              "0.001968503937007874"
            ]
          },
          "execution_count": 51,
          "metadata": {},
          "output_type": "execute_result"
        }
      ],
      "source": [
        "#Creating a vector with equal weights for the 508 firms\n",
        "n_columns = 508\n",
        "\n",
        "#df_weight = pd.DataFrame([1/n_columns] * n_columns).T\n",
        "\n",
        "weight = 1/508\n",
        "\n",
        "weight"
      ]
    },
    {
      "cell_type": "code",
      "execution_count": 52,
      "metadata": {
        "id": "h33yNshjLqh_"
      },
      "outputs": [],
      "source": [
        "#Equally weighted portfolio (average returns of all firms per each month)\n",
        "portfolio_returns_EW = (df_M_returns*weight).sum(axis=1)\n",
        "\n",
        "portfolio_returns_EW.replace([np.inf, -np.inf], np.nan, inplace=True)\n",
        "portfolio_returns_EW.dropna(inplace=True)\n"
      ]
    },
    {
      "cell_type": "code",
      "execution_count": 53,
      "metadata": {
        "id": "dwvnLCXSV1lo"
      },
      "outputs": [],
      "source": [
        "portfolio_returns_EW.index = pd.to_datetime(portfolio_returns_EW.index)\n",
        "\n",
        "# Filter DataFrame based on the condition\n",
        "filtered_df = portfolio_returns_EW['2007-12-31':]"
      ]
    },
    {
      "cell_type": "code",
      "execution_count": 54,
      "metadata": {
        "colab": {
          "base_uri": "https://localhost:8080/"
        },
        "id": "C9n7DCD_V32Y",
        "outputId": "7a2ab61b-5546-4974-a523-0f65cff269b5"
      },
      "outputs": [
        {
          "data": {
            "text/plain": [
              "-27.434004533951423"
            ]
          },
          "execution_count": 54,
          "metadata": {},
          "output_type": "execute_result"
        }
      ],
      "source": [
        "EW_returns = filtered_df.pct_change()\n",
        "EW_returns = EW_returns.dropna(axis=0)\n",
        "\n",
        "EW_returns_avrg_ann = EW_returns.mean()*12\n",
        "EW_returns_avrg_ann\n"
      ]
    },
    {
      "cell_type": "code",
      "execution_count": 55,
      "metadata": {
        "colab": {
          "base_uri": "https://localhost:8080/"
        },
        "id": "2JE5Pd6RV6au",
        "outputId": "b911d134-be7b-4ddb-ad3c-1006cbbb6782"
      },
      "outputs": [
        {
          "data": {
            "text/plain": [
              "0.22724482680652508"
            ]
          },
          "execution_count": 55,
          "metadata": {},
          "output_type": "execute_result"
        }
      ],
      "source": [
        "portfolio_vol_EW = portfolio_returns_EW.std()*np.sqrt(12)\n",
        "portfolio_vol_EW"
      ]
    },
    {
      "cell_type": "code",
      "execution_count": 71,
      "metadata": {},
      "outputs": [],
      "source": [
        "rf_rate = pd.read_csv('https://raw.githubusercontent.com/GiammarcoBozzelli/SEF/FINAL/risk_free_rate_OECD.csv')\n",
        "# Sharpe ratio with average EUR annualized risk free ratio from OECD euro zone\n",
        "\n",
        "rfr = rf_rate.OBS_VALUE\n",
        "avg_rfr = rfr.mean()/100"
      ]
    },
    {
      "cell_type": "markdown",
      "metadata": {},
      "source": [
        "## Sharpe ratio EV_Portfolio"
      ]
    },
    {
      "cell_type": "code",
      "execution_count": 73,
      "metadata": {},
      "outputs": [],
      "source": [
        "sr_ev = (EW_returns_avrg_ann - avg_rfr) / portfolio_vol_EW"
      ]
    },
    {
      "cell_type": "code",
      "execution_count": 74,
      "metadata": {},
      "outputs": [
        {
          "data": {
            "text/plain": [
              "-120.85418834938541"
            ]
          },
          "execution_count": 74,
          "metadata": {},
          "output_type": "execute_result"
        }
      ],
      "source": [
        "sr_ev"
      ]
    },
    {
      "cell_type": "markdown",
      "metadata": {
        "id": "yzpz0Pv5WxpR"
      },
      "source": [
        "## Value weighted portfolio"
      ]
    },
    {
      "cell_type": "code",
      "execution_count": 75,
      "metadata": {
        "colab": {
          "base_uri": "https://localhost:8080/"
        },
        "id": "eScKagYkmKOp",
        "outputId": "6cd37825-1d87-450e-d7a0-447e54ffa639"
      },
      "outputs": [
        {
          "data": {
            "text/plain": [
              "NAME\n",
              "FLUGHAFEN WIEN              0.000249\n",
              "ERSTE GROUP BANK            0.001761\n",
              "OMV                         0.001728\n",
              "VERBUND                     0.000858\n",
              "WIENERBERGER                0.000300\n",
              "                              ...   \n",
              "NIBE INDUSTRIER             0.000544\n",
              "ELECTROLUX B                0.000851\n",
              "ATLAS COPCO A               0.002937\n",
              "MODERN TIMES GROUP MTG B    0.000281\n",
              "BOLIDEN ORD SHS             0.000692\n",
              "Length: 508, dtype: float64"
            ]
          },
          "execution_count": 75,
          "metadata": {},
          "output_type": "execute_result"
        }
      ],
      "source": [
        "df_EUR_M_cap.drop(df_EUR_M_cap.columns[:4], axis=1, inplace=True)\n",
        "\n",
        "df_EUR_M_cap.columns = pd.to_datetime(df_EUR_M_cap.columns)\n",
        "\n",
        "df_EUR_M_cap_08 = df_EUR_M_cap.loc[:, (df_EUR_M_cap.columns >= pd.to_datetime(\"2007-01-01\"))]\n",
        "\n",
        "df_EUR_M_cap_T = df_EUR_M_cap_08.T\n",
        "\n",
        "weights = df_EUR_M_cap_T.div(df_EUR_M_cap.T.sum(axis=1), axis=0).mean()\n",
        "\n",
        "weights"
      ]
    },
    {
      "cell_type": "code",
      "execution_count": 76,
      "metadata": {
        "colab": {
          "base_uri": "https://localhost:8080/"
        },
        "id": "s-BsMdqHW0mT",
        "outputId": "997cd59f-a971-40f4-d669-a20530ab5894"
      },
      "outputs": [
        {
          "data": {
            "text/plain": [
              "2007-01-31    0.000000\n",
              "2007-02-28    0.000500\n",
              "2007-03-31    0.036127\n",
              "2007-04-30    0.067192\n",
              "2007-05-31    0.018955\n",
              "                ...   \n",
              "2022-08-31   -0.053479\n",
              "2022-09-30   -0.089615\n",
              "2022-10-31    0.081919\n",
              "2022-11-30    0.109852\n",
              "2022-12-31    0.005090\n",
              "Length: 192, dtype: float64"
            ]
          },
          "execution_count": 76,
          "metadata": {},
          "output_type": "execute_result"
        }
      ],
      "source": [
        "# Calculate weights for each month based on previous month's capitalization\n",
        "\n",
        "total_cap_previous = df_EUR_M_cap.T.sum(axis=1)\n",
        "weights = df_EUR_M_cap_T.div(total_cap_previous, axis=0).mean()\n",
        "\n",
        "# Calculate the value-weighted portfolio returns\n",
        "portfolio_returns_VW = (df_M_returns* weights).sum(axis=1)\n",
        "portfolio_returns_VW"
      ]
    },
    {
      "cell_type": "code",
      "execution_count": 77,
      "metadata": {
        "id": "vWxOqth-X-Ze"
      },
      "outputs": [],
      "source": [
        "portfolio_returns_VW.index = pd.to_datetime(portfolio_returns_VW.index)\n",
        "\n",
        "# Filter DataFrame based on the condition\n",
        "filtered_df = portfolio_returns_VW['2007-12-31':]"
      ]
    },
    {
      "cell_type": "code",
      "execution_count": 78,
      "metadata": {
        "colab": {
          "base_uri": "https://localhost:8080/"
        },
        "id": "PcZhRw6qYAea",
        "outputId": "6f12ba69-55b1-4106-8d93-3599cd9cb537"
      },
      "outputs": [
        {
          "data": {
            "text/plain": [
              "10.041923993856473"
            ]
          },
          "execution_count": 78,
          "metadata": {},
          "output_type": "execute_result"
        }
      ],
      "source": [
        "VW_returns = filtered_df.pct_change()\n",
        "VW_returns[VW_returns < 0] = 0\n",
        "VW_returns_avrg_ann = VW_returns.mean()*12\n",
        "VW_returns_avrg_ann"
      ]
    },
    {
      "cell_type": "code",
      "execution_count": 79,
      "metadata": {
        "colab": {
          "base_uri": "https://localhost:8080/",
          "height": 541
        },
        "id": "qxXl1kT5YEzs",
        "outputId": "79b76547-a711-48c8-e69c-948c89e01ea9"
      },
      "outputs": [
        {
          "data": {
            "text/html": [
              "<div>\n",
              "<style scoped>\n",
              "    .dataframe tbody tr th:only-of-type {\n",
              "        vertical-align: middle;\n",
              "    }\n",
              "\n",
              "    .dataframe tbody tr th {\n",
              "        vertical-align: top;\n",
              "    }\n",
              "\n",
              "    .dataframe thead th {\n",
              "        text-align: right;\n",
              "    }\n",
              "</style>\n",
              "<table border=\"1\" class=\"dataframe\">\n",
              "  <thead>\n",
              "    <tr style=\"text-align: right;\">\n",
              "      <th>NAME</th>\n",
              "      <th>FLUGHAFEN WIEN</th>\n",
              "      <th>ERSTE GROUP BANK</th>\n",
              "      <th>OMV</th>\n",
              "      <th>VERBUND</th>\n",
              "      <th>WIENERBERGER</th>\n",
              "      <th>VIENNA INSURANCE GROUP A</th>\n",
              "      <th>VOESTALPINE</th>\n",
              "      <th>MAYR-MELNHOF KARTON</th>\n",
              "      <th>IMMOFINANZ</th>\n",
              "      <th>SOLVAY</th>\n",
              "      <th>...</th>\n",
              "      <th>FABEGE</th>\n",
              "      <th>KINNEVIK B</th>\n",
              "      <th>INVESTOR A</th>\n",
              "      <th>SWEDISH MATCH DEAD - DELIST.02/01/23</th>\n",
              "      <th>HEXAGON B</th>\n",
              "      <th>NIBE INDUSTRIER</th>\n",
              "      <th>ELECTROLUX B</th>\n",
              "      <th>ATLAS COPCO A</th>\n",
              "      <th>MODERN TIMES GROUP MTG B</th>\n",
              "      <th>BOLIDEN ORD SHS</th>\n",
              "    </tr>\n",
              "    <tr>\n",
              "      <th>NAME</th>\n",
              "      <th></th>\n",
              "      <th></th>\n",
              "      <th></th>\n",
              "      <th></th>\n",
              "      <th></th>\n",
              "      <th></th>\n",
              "      <th></th>\n",
              "      <th></th>\n",
              "      <th></th>\n",
              "      <th></th>\n",
              "      <th></th>\n",
              "      <th></th>\n",
              "      <th></th>\n",
              "      <th></th>\n",
              "      <th></th>\n",
              "      <th></th>\n",
              "      <th></th>\n",
              "      <th></th>\n",
              "      <th></th>\n",
              "      <th></th>\n",
              "      <th></th>\n",
              "    </tr>\n",
              "  </thead>\n",
              "  <tbody>\n",
              "    <tr>\n",
              "      <th>FLUGHAFEN WIEN</th>\n",
              "      <td>0.008233</td>\n",
              "      <td>0.006911</td>\n",
              "      <td>0.004828</td>\n",
              "      <td>0.004463</td>\n",
              "      <td>0.005255</td>\n",
              "      <td>0.005089</td>\n",
              "      <td>0.004973</td>\n",
              "      <td>0.003225</td>\n",
              "      <td>0.006474</td>\n",
              "      <td>0.004084</td>\n",
              "      <td>...</td>\n",
              "      <td>0.003494</td>\n",
              "      <td>0.003921</td>\n",
              "      <td>0.003087</td>\n",
              "      <td>0.001792</td>\n",
              "      <td>0.004061</td>\n",
              "      <td>0.003129</td>\n",
              "      <td>0.003736</td>\n",
              "      <td>0.003189</td>\n",
              "      <td>0.005146</td>\n",
              "      <td>0.004223</td>\n",
              "    </tr>\n",
              "    <tr>\n",
              "      <th>ERSTE GROUP BANK</th>\n",
              "      <td>0.006911</td>\n",
              "      <td>0.018300</td>\n",
              "      <td>0.008634</td>\n",
              "      <td>0.007031</td>\n",
              "      <td>0.010185</td>\n",
              "      <td>0.008884</td>\n",
              "      <td>0.008513</td>\n",
              "      <td>0.004911</td>\n",
              "      <td>0.010671</td>\n",
              "      <td>0.008591</td>\n",
              "      <td>...</td>\n",
              "      <td>0.006474</td>\n",
              "      <td>0.007221</td>\n",
              "      <td>0.006497</td>\n",
              "      <td>0.003389</td>\n",
              "      <td>0.008265</td>\n",
              "      <td>0.005139</td>\n",
              "      <td>0.007160</td>\n",
              "      <td>0.006456</td>\n",
              "      <td>0.008522</td>\n",
              "      <td>0.010676</td>\n",
              "    </tr>\n",
              "    <tr>\n",
              "      <th>OMV</th>\n",
              "      <td>0.004828</td>\n",
              "      <td>0.008634</td>\n",
              "      <td>0.011251</td>\n",
              "      <td>0.005032</td>\n",
              "      <td>0.005696</td>\n",
              "      <td>0.005407</td>\n",
              "      <td>0.006945</td>\n",
              "      <td>0.003857</td>\n",
              "      <td>0.008372</td>\n",
              "      <td>0.006188</td>\n",
              "      <td>...</td>\n",
              "      <td>0.004541</td>\n",
              "      <td>0.005143</td>\n",
              "      <td>0.003698</td>\n",
              "      <td>0.002618</td>\n",
              "      <td>0.005005</td>\n",
              "      <td>0.003533</td>\n",
              "      <td>0.004700</td>\n",
              "      <td>0.004188</td>\n",
              "      <td>0.005593</td>\n",
              "      <td>0.007209</td>\n",
              "    </tr>\n",
              "    <tr>\n",
              "      <th>VERBUND</th>\n",
              "      <td>0.004463</td>\n",
              "      <td>0.007031</td>\n",
              "      <td>0.005032</td>\n",
              "      <td>0.009692</td>\n",
              "      <td>0.004968</td>\n",
              "      <td>0.004720</td>\n",
              "      <td>0.005558</td>\n",
              "      <td>0.002996</td>\n",
              "      <td>0.006564</td>\n",
              "      <td>0.004235</td>\n",
              "      <td>...</td>\n",
              "      <td>0.004477</td>\n",
              "      <td>0.004805</td>\n",
              "      <td>0.003754</td>\n",
              "      <td>0.002040</td>\n",
              "      <td>0.004958</td>\n",
              "      <td>0.003564</td>\n",
              "      <td>0.003251</td>\n",
              "      <td>0.003513</td>\n",
              "      <td>0.004625</td>\n",
              "      <td>0.005248</td>\n",
              "    </tr>\n",
              "    <tr>\n",
              "      <th>WIENERBERGER</th>\n",
              "      <td>0.005255</td>\n",
              "      <td>0.010185</td>\n",
              "      <td>0.005696</td>\n",
              "      <td>0.004968</td>\n",
              "      <td>0.015092</td>\n",
              "      <td>0.006931</td>\n",
              "      <td>0.008984</td>\n",
              "      <td>0.004094</td>\n",
              "      <td>0.009766</td>\n",
              "      <td>0.007343</td>\n",
              "      <td>...</td>\n",
              "      <td>0.007172</td>\n",
              "      <td>0.007655</td>\n",
              "      <td>0.005913</td>\n",
              "      <td>0.002137</td>\n",
              "      <td>0.007920</td>\n",
              "      <td>0.006566</td>\n",
              "      <td>0.007492</td>\n",
              "      <td>0.006792</td>\n",
              "      <td>0.008673</td>\n",
              "      <td>0.007419</td>\n",
              "    </tr>\n",
              "    <tr>\n",
              "      <th>...</th>\n",
              "      <td>...</td>\n",
              "      <td>...</td>\n",
              "      <td>...</td>\n",
              "      <td>...</td>\n",
              "      <td>...</td>\n",
              "      <td>...</td>\n",
              "      <td>...</td>\n",
              "      <td>...</td>\n",
              "      <td>...</td>\n",
              "      <td>...</td>\n",
              "      <td>...</td>\n",
              "      <td>...</td>\n",
              "      <td>...</td>\n",
              "      <td>...</td>\n",
              "      <td>...</td>\n",
              "      <td>...</td>\n",
              "      <td>...</td>\n",
              "      <td>...</td>\n",
              "      <td>...</td>\n",
              "      <td>...</td>\n",
              "      <td>...</td>\n",
              "    </tr>\n",
              "    <tr>\n",
              "      <th>NIBE INDUSTRIER</th>\n",
              "      <td>0.003129</td>\n",
              "      <td>0.005139</td>\n",
              "      <td>0.003533</td>\n",
              "      <td>0.003564</td>\n",
              "      <td>0.006566</td>\n",
              "      <td>0.004148</td>\n",
              "      <td>0.005343</td>\n",
              "      <td>0.002598</td>\n",
              "      <td>0.006409</td>\n",
              "      <td>0.003870</td>\n",
              "      <td>...</td>\n",
              "      <td>0.004985</td>\n",
              "      <td>0.005682</td>\n",
              "      <td>0.004320</td>\n",
              "      <td>0.001973</td>\n",
              "      <td>0.006759</td>\n",
              "      <td>0.010641</td>\n",
              "      <td>0.004828</td>\n",
              "      <td>0.005047</td>\n",
              "      <td>0.005478</td>\n",
              "      <td>0.005348</td>\n",
              "    </tr>\n",
              "    <tr>\n",
              "      <th>ELECTROLUX B</th>\n",
              "      <td>0.003736</td>\n",
              "      <td>0.007160</td>\n",
              "      <td>0.004700</td>\n",
              "      <td>0.003251</td>\n",
              "      <td>0.007492</td>\n",
              "      <td>0.005026</td>\n",
              "      <td>0.007049</td>\n",
              "      <td>0.002957</td>\n",
              "      <td>0.007012</td>\n",
              "      <td>0.005394</td>\n",
              "      <td>...</td>\n",
              "      <td>0.005522</td>\n",
              "      <td>0.005540</td>\n",
              "      <td>0.005071</td>\n",
              "      <td>0.002424</td>\n",
              "      <td>0.007711</td>\n",
              "      <td>0.004828</td>\n",
              "      <td>0.010817</td>\n",
              "      <td>0.006092</td>\n",
              "      <td>0.006186</td>\n",
              "      <td>0.008028</td>\n",
              "    </tr>\n",
              "    <tr>\n",
              "      <th>ATLAS COPCO A</th>\n",
              "      <td>0.003189</td>\n",
              "      <td>0.006456</td>\n",
              "      <td>0.004188</td>\n",
              "      <td>0.003513</td>\n",
              "      <td>0.006792</td>\n",
              "      <td>0.004772</td>\n",
              "      <td>0.007125</td>\n",
              "      <td>0.002925</td>\n",
              "      <td>0.007006</td>\n",
              "      <td>0.005225</td>\n",
              "      <td>...</td>\n",
              "      <td>0.005904</td>\n",
              "      <td>0.005749</td>\n",
              "      <td>0.005204</td>\n",
              "      <td>0.002064</td>\n",
              "      <td>0.007615</td>\n",
              "      <td>0.005047</td>\n",
              "      <td>0.006092</td>\n",
              "      <td>0.007914</td>\n",
              "      <td>0.006828</td>\n",
              "      <td>0.007905</td>\n",
              "    </tr>\n",
              "    <tr>\n",
              "      <th>MODERN TIMES GROUP MTG B</th>\n",
              "      <td>0.005146</td>\n",
              "      <td>0.008522</td>\n",
              "      <td>0.005593</td>\n",
              "      <td>0.004625</td>\n",
              "      <td>0.008673</td>\n",
              "      <td>0.006960</td>\n",
              "      <td>0.008516</td>\n",
              "      <td>0.003243</td>\n",
              "      <td>0.009023</td>\n",
              "      <td>0.005623</td>\n",
              "      <td>...</td>\n",
              "      <td>0.006857</td>\n",
              "      <td>0.008272</td>\n",
              "      <td>0.005794</td>\n",
              "      <td>0.003856</td>\n",
              "      <td>0.008246</td>\n",
              "      <td>0.005478</td>\n",
              "      <td>0.006186</td>\n",
              "      <td>0.006828</td>\n",
              "      <td>0.015643</td>\n",
              "      <td>0.008759</td>\n",
              "    </tr>\n",
              "    <tr>\n",
              "      <th>BOLIDEN ORD SHS</th>\n",
              "      <td>0.004223</td>\n",
              "      <td>0.010676</td>\n",
              "      <td>0.007209</td>\n",
              "      <td>0.005248</td>\n",
              "      <td>0.007419</td>\n",
              "      <td>0.006557</td>\n",
              "      <td>0.008045</td>\n",
              "      <td>0.003730</td>\n",
              "      <td>0.009306</td>\n",
              "      <td>0.006994</td>\n",
              "      <td>...</td>\n",
              "      <td>0.006773</td>\n",
              "      <td>0.007890</td>\n",
              "      <td>0.006189</td>\n",
              "      <td>0.003324</td>\n",
              "      <td>0.009985</td>\n",
              "      <td>0.005348</td>\n",
              "      <td>0.008028</td>\n",
              "      <td>0.007905</td>\n",
              "      <td>0.008759</td>\n",
              "      <td>0.019335</td>\n",
              "    </tr>\n",
              "  </tbody>\n",
              "</table>\n",
              "<p>508 rows × 508 columns</p>\n",
              "</div>"
            ],
            "text/plain": [
              "NAME                      FLUGHAFEN WIEN  ERSTE GROUP BANK       OMV  \\\n",
              "NAME                                                                   \n",
              "FLUGHAFEN WIEN                  0.008233          0.006911  0.004828   \n",
              "ERSTE GROUP BANK                0.006911          0.018300  0.008634   \n",
              "OMV                             0.004828          0.008634  0.011251   \n",
              "VERBUND                         0.004463          0.007031  0.005032   \n",
              "WIENERBERGER                    0.005255          0.010185  0.005696   \n",
              "...                                  ...               ...       ...   \n",
              "NIBE INDUSTRIER                 0.003129          0.005139  0.003533   \n",
              "ELECTROLUX B                    0.003736          0.007160  0.004700   \n",
              "ATLAS COPCO A                   0.003189          0.006456  0.004188   \n",
              "MODERN TIMES GROUP MTG B        0.005146          0.008522  0.005593   \n",
              "BOLIDEN ORD SHS                 0.004223          0.010676  0.007209   \n",
              "\n",
              "NAME                       VERBUND  WIENERBERGER  VIENNA INSURANCE GROUP A  \\\n",
              "NAME                                                                         \n",
              "FLUGHAFEN WIEN            0.004463      0.005255                  0.005089   \n",
              "ERSTE GROUP BANK          0.007031      0.010185                  0.008884   \n",
              "OMV                       0.005032      0.005696                  0.005407   \n",
              "VERBUND                   0.009692      0.004968                  0.004720   \n",
              "WIENERBERGER              0.004968      0.015092                  0.006931   \n",
              "...                            ...           ...                       ...   \n",
              "NIBE INDUSTRIER           0.003564      0.006566                  0.004148   \n",
              "ELECTROLUX B              0.003251      0.007492                  0.005026   \n",
              "ATLAS COPCO A             0.003513      0.006792                  0.004772   \n",
              "MODERN TIMES GROUP MTG B  0.004625      0.008673                  0.006960   \n",
              "BOLIDEN ORD SHS           0.005248      0.007419                  0.006557   \n",
              "\n",
              "NAME                      VOESTALPINE  MAYR-MELNHOF KARTON  IMMOFINANZ  \\\n",
              "NAME                                                                     \n",
              "FLUGHAFEN WIEN               0.004973             0.003225    0.006474   \n",
              "ERSTE GROUP BANK             0.008513             0.004911    0.010671   \n",
              "OMV                          0.006945             0.003857    0.008372   \n",
              "VERBUND                      0.005558             0.002996    0.006564   \n",
              "WIENERBERGER                 0.008984             0.004094    0.009766   \n",
              "...                               ...                  ...         ...   \n",
              "NIBE INDUSTRIER              0.005343             0.002598    0.006409   \n",
              "ELECTROLUX B                 0.007049             0.002957    0.007012   \n",
              "ATLAS COPCO A                0.007125             0.002925    0.007006   \n",
              "MODERN TIMES GROUP MTG B     0.008516             0.003243    0.009023   \n",
              "BOLIDEN ORD SHS              0.008045             0.003730    0.009306   \n",
              "\n",
              "NAME                        SOLVAY  ...    FABEGE  KINNEVIK B  INVESTOR A  \\\n",
              "NAME                                ...                                     \n",
              "FLUGHAFEN WIEN            0.004084  ...  0.003494    0.003921    0.003087   \n",
              "ERSTE GROUP BANK          0.008591  ...  0.006474    0.007221    0.006497   \n",
              "OMV                       0.006188  ...  0.004541    0.005143    0.003698   \n",
              "VERBUND                   0.004235  ...  0.004477    0.004805    0.003754   \n",
              "WIENERBERGER              0.007343  ...  0.007172    0.007655    0.005913   \n",
              "...                            ...  ...       ...         ...         ...   \n",
              "NIBE INDUSTRIER           0.003870  ...  0.004985    0.005682    0.004320   \n",
              "ELECTROLUX B              0.005394  ...  0.005522    0.005540    0.005071   \n",
              "ATLAS COPCO A             0.005225  ...  0.005904    0.005749    0.005204   \n",
              "MODERN TIMES GROUP MTG B  0.005623  ...  0.006857    0.008272    0.005794   \n",
              "BOLIDEN ORD SHS           0.006994  ...  0.006773    0.007890    0.006189   \n",
              "\n",
              "NAME                      SWEDISH MATCH DEAD - DELIST.02/01/23  HEXAGON B  \\\n",
              "NAME                                                                        \n",
              "FLUGHAFEN WIEN                                        0.001792   0.004061   \n",
              "ERSTE GROUP BANK                                      0.003389   0.008265   \n",
              "OMV                                                   0.002618   0.005005   \n",
              "VERBUND                                               0.002040   0.004958   \n",
              "WIENERBERGER                                          0.002137   0.007920   \n",
              "...                                                        ...        ...   \n",
              "NIBE INDUSTRIER                                       0.001973   0.006759   \n",
              "ELECTROLUX B                                          0.002424   0.007711   \n",
              "ATLAS COPCO A                                         0.002064   0.007615   \n",
              "MODERN TIMES GROUP MTG B                              0.003856   0.008246   \n",
              "BOLIDEN ORD SHS                                       0.003324   0.009985   \n",
              "\n",
              "NAME                      NIBE INDUSTRIER  ELECTROLUX B  ATLAS COPCO A  \\\n",
              "NAME                                                                     \n",
              "FLUGHAFEN WIEN                   0.003129      0.003736       0.003189   \n",
              "ERSTE GROUP BANK                 0.005139      0.007160       0.006456   \n",
              "OMV                              0.003533      0.004700       0.004188   \n",
              "VERBUND                          0.003564      0.003251       0.003513   \n",
              "WIENERBERGER                     0.006566      0.007492       0.006792   \n",
              "...                                   ...           ...            ...   \n",
              "NIBE INDUSTRIER                  0.010641      0.004828       0.005047   \n",
              "ELECTROLUX B                     0.004828      0.010817       0.006092   \n",
              "ATLAS COPCO A                    0.005047      0.006092       0.007914   \n",
              "MODERN TIMES GROUP MTG B         0.005478      0.006186       0.006828   \n",
              "BOLIDEN ORD SHS                  0.005348      0.008028       0.007905   \n",
              "\n",
              "NAME                      MODERN TIMES GROUP MTG B  BOLIDEN ORD SHS  \n",
              "NAME                                                                 \n",
              "FLUGHAFEN WIEN                            0.005146         0.004223  \n",
              "ERSTE GROUP BANK                          0.008522         0.010676  \n",
              "OMV                                       0.005593         0.007209  \n",
              "VERBUND                                   0.004625         0.005248  \n",
              "WIENERBERGER                              0.008673         0.007419  \n",
              "...                                            ...              ...  \n",
              "NIBE INDUSTRIER                           0.005478         0.005348  \n",
              "ELECTROLUX B                              0.006186         0.008028  \n",
              "ATLAS COPCO A                             0.006828         0.007905  \n",
              "MODERN TIMES GROUP MTG B                  0.015643         0.008759  \n",
              "BOLIDEN ORD SHS                           0.008759         0.019335  \n",
              "\n",
              "[508 rows x 508 columns]"
            ]
          },
          "execution_count": 79,
          "metadata": {},
          "output_type": "execute_result"
        }
      ],
      "source": [
        "cov_m = df_M_returns.cov()\n",
        "cov_m"
      ]
    },
    {
      "cell_type": "code",
      "execution_count": 80,
      "metadata": {},
      "outputs": [],
      "source": [
        "def portfolio_vol(weights, covmat):\n",
        "    \"\"\"\n",
        "    Computes the vol of a portfolio from a covariance matrix and constituent weights\n",
        "    weights are a numpy array or N x 1 maxtrix and covmat is an N x N matrix\n",
        "    \"\"\"\n",
        "    return (weights.T @ covmat @ weights)**0.5"
      ]
    },
    {
      "cell_type": "code",
      "execution_count": 81,
      "metadata": {
        "colab": {
          "base_uri": "https://localhost:8080/"
        },
        "id": "_R8I5HY3YhxP",
        "outputId": "7dc7dd43-2b71-4f41-afac-2f10970bb834"
      },
      "outputs": [
        {
          "data": {
            "text/plain": [
              "0.058672869309416426"
            ]
          },
          "execution_count": 81,
          "metadata": {},
          "output_type": "execute_result"
        }
      ],
      "source": [
        "portfolio_vol_VW = portfolio_vol(weights, cov_m)\n",
        "portfolio_vol_VW"
      ]
    },
    {
      "cell_type": "code",
      "execution_count": 82,
      "metadata": {
        "colab": {
          "base_uri": "https://localhost:8080/"
        },
        "id": "ZJkAMblpYija",
        "outputId": "26298609-7052-43a9-88a0-c861026392b9"
      },
      "outputs": [
        {
          "data": {
            "text/plain": [
              "0.20272146385466253"
            ]
          },
          "execution_count": 82,
          "metadata": {},
          "output_type": "execute_result"
        }
      ],
      "source": [
        "portfolio_returns_VW.replace([np.inf, -np.inf], np.nan, inplace=True)\n",
        "portfolio_returns_VW.dropna(inplace=True)\n",
        "\n",
        "portfolio_vol_VW = portfolio_returns_VW.std()*np.sqrt(12)\n",
        "portfolio_vol_VW"
      ]
    },
    {
      "cell_type": "code",
      "execution_count": 83,
      "metadata": {},
      "outputs": [],
      "source": [
        "sr_vw = (VW_returns_avrg_ann - avg_rfr) / portfolio_vol_VW"
      ]
    },
    {
      "cell_type": "code",
      "execution_count": 84,
      "metadata": {},
      "outputs": [
        {
          "data": {
            "text/plain": [
              "49.390129871432286"
            ]
          },
          "execution_count": 84,
          "metadata": {},
          "output_type": "execute_result"
        }
      ],
      "source": [
        "sr_vw"
      ]
    },
    {
      "cell_type": "markdown",
      "metadata": {},
      "source": [
        "## Question 4"
      ]
    },
    {
      "cell_type": "code",
      "execution_count": null,
      "metadata": {},
      "outputs": [],
      "source": [
        "# get the return interests to calculate portfolio returns\n",
        "df_EUR_M_RI = df_EUR_M_RI.iloc[:, 4:]"
      ]
    },
    {
      "cell_type": "code",
      "execution_count": null,
      "metadata": {},
      "outputs": [],
      "source": [
        "\n",
        "df_transposed = df_EUR_M_RI.transpose().reset_index()\n",
        "\n",
        "# Set the column names to be the values from the second row\n",
        "df_transposed.columns = df_transposed.iloc[0]\n",
        "\n",
        "# Drop the second row which now contains the original column names\n",
        "df_transposed = df_transposed.drop(0)\n",
        "\n",
        "# Reset the index\n",
        "df_transposed = df_transposed.reset_index(drop=True)\n",
        "\n",
        "\n",
        "df_transposed = df_transposed.rename(columns={'NAME': 'DATE'})\n",
        "\n",
        "df_transposed"
      ]
    },
    {
      "cell_type": "code",
      "execution_count": null,
      "metadata": {},
      "outputs": [],
      "source": [
        "\n",
        "df_transposed.iloc[:, 0] = pd.to_datetime(df_transposed.iloc[:, 0])\n",
        "\n",
        "# Change the other columns to float\n",
        "df_transposed.iloc[:, 1:] = df_transposed.iloc[:, 1:].astype(float)\n"
      ]
    },
    {
      "cell_type": "code",
      "execution_count": null,
      "metadata": {},
      "outputs": [],
      "source": [
        "exp_returns = pd.DataFrame()\n",
        "exp_returns['FIRMS'] = None\n",
        "exp_returns['RETURNS'] = 0"
      ]
    },
    {
      "cell_type": "code",
      "execution_count": null,
      "metadata": {},
      "outputs": [],
      "source": [
        "df_transposed_08 =  df_transposed[df_transposed['DATE'] < pd.Timestamp('2008-01-01')]"
      ]
    },
    {
      "cell_type": "code",
      "execution_count": null,
      "metadata": {},
      "outputs": [],
      "source": [
        "exp_returns['FIRMS'] =  df_transposed.columns.tolist()[1:]\n",
        "exp_returns['RETURNS'] = df_transposed.iloc[:, 1:].pct_change().mean().tolist()\n",
        "exp_returns"
      ]
    },
    {
      "cell_type": "code",
      "execution_count": null,
      "metadata": {},
      "outputs": [],
      "source": [
        "df_transposed.set_index(\"DATE\", inplace=True)"
      ]
    },
    {
      "cell_type": "code",
      "execution_count": null,
      "metadata": {},
      "outputs": [],
      "source": [
        "window=96\n",
        "Covar=df_transposed.pct_change().rolling(window).cov()"
      ]
    },
    {
      "cell_type": "code",
      "execution_count": null,
      "metadata": {},
      "outputs": [],
      "source": [
        "cov_m = Covar.loc[\"2008-01-31\"]\n",
        "cov_m"
      ]
    },
    {
      "cell_type": "code",
      "execution_count": null,
      "metadata": {},
      "outputs": [],
      "source": [
        "bounds = tuple((0, 1) for asset in range(len(exp_returns)))"
      ]
    },
    {
      "cell_type": "code",
      "execution_count": null,
      "metadata": {},
      "outputs": [],
      "source": [
        "from scipy.optimize import minimize\n",
        "\n",
        "def cons():\n",
        "    constraints = [{'type': 'eq', 'fun': lambda weights: np.sum(weights) - 1}]\n",
        "    bounds = tuple((0, 1) for asset in range(len(exp_returns)))\n",
        "    in_weights = np.ones(len(exp_returns)) / len(exp_returns)\n",
        "    return constraints, bounds, in_weights \n",
        "\n",
        "constraints, bounds, in_weights = cons()\n",
        "\n",
        "def objective_function(weights,cov_m):\n",
        "    return weights.T @ cov_m @ weights\n",
        "\n",
        "def optimal_portfolio(weights,cov):\n",
        "    x = minimize(\n",
        "    objective_function,\n",
        "    in_weights,\n",
        "    cov_m,\n",
        "    method='SLSQP',\n",
        "    bounds=bounds,\n",
        "    constraints=constraints)\n",
        "    return x\n",
        "\n",
        "optimal_portfolio(in_weights,cov_m)"
      ]
    },
    {
      "cell_type": "markdown",
      "metadata": {},
      "source": [
        "## Rolling Window"
      ]
    },
    {
      "cell_type": "code",
      "execution_count": null,
      "metadata": {},
      "outputs": [],
      "source": [
        "# Define the start and end years for the rolling window + initial weight df\n",
        "start_year = 2000\n",
        "end_year = 2022\n",
        "\n",
        "returns = df_transposed.pct_change()\n",
        "optimal_weights_df = pd.DataFrame()\n",
        "\n",
        "# Loop over each year from the end of 2007 to the end of 2022\n",
        "for year in range(2007, end_year + 1):\n",
        "    start_date = f\"{year - 7}-12-31\" \n",
        "    end_date = f\"{year}-12-31\"\n",
        "\n",
        "    filtered_rows = returns.loc[(returns.index >= start_date) & (returns.index <= end_date)]\n",
        "    \n",
        "    # Calculate the expected returns for the current rolling window\n",
        "    ER = filtered_rows.mean(axis=1)\n",
        "    ER = ER.to_frame(name=f'expected_returns_{year}')\n",
        "    \n",
        "    # Calculate the covariance matrix for the current rolling window\n",
        "    transposed_df = filtered_rows.T\n",
        "    transposed_df = transposed_df.astype(float)\n",
        "    CM = transposed_df.cov()\n",
        "\n",
        "    optimal_weights_df[f'Weights_{year}'] = optimal_portfolio(in_weights,CM).x"
      ]
    },
    {
      "cell_type": "markdown",
      "metadata": {},
      "source": [
        "## Ex-Post Returns"
      ]
    },
    {
      "cell_type": "code",
      "execution_count": null,
      "metadata": {},
      "outputs": [],
      "source": [
        "portfolio_returns = []\n",
        "\n",
        "for year in range(2007, end_year):\n",
        "    # Weights at the end of year Y\n",
        "    weights = optimal_weights_df[f'Weights_{year}'].values\n",
        "    updated_weights = weights.copy()\n",
        "\n",
        "    # Returns for each month of year Y + 1\n",
        "    for month in range(1, 13):\n",
        "        month_index = f\"{year + 1}-{str(month).zfill(2)}\"\n",
        "        if month_index not in returns.columns:\n",
        "            continue\n",
        "\n",
        "        # Calculate the portfolio return for the current month\n",
        "        monthly_stock_returns = returns[month_index].values\n",
        "        portfolio_return = np.dot(updated_weights, monthly_stock_returns)\n",
        "        portfolio_returns.append(portfolio_return)\n",
        "        \n",
        "        # Update and normalize the weights for the next month\n",
        "        updated_weights = updated_weights * (1 + monthly_stock_returns)\n",
        "        updated_weights /= (1 + portfolio_return)\n",
        "\n",
        "ex_post_ret = exp_returns.copy()\n",
        "ex_post_ret['RETURNS'] = updated_weights\n",
        "\n",
        "ex_post_ret"
      ]
    },
    {
      "cell_type": "markdown",
      "metadata": {},
      "source": [
        "## Portfolio statistics"
      ]
    },
    {
      "cell_type": "code",
      "execution_count": null,
      "metadata": {},
      "outputs": [],
      "source": [
        "\n",
        "average_return = ex_post_ret['RETURNS'].mean() * 12\n",
        "volatility = ex_post_ret['RETURNS'].std() * np.sqrt(12)\n",
        "\n",
        "rf_rate = pd.read_csv('https://raw.githubusercontent.com/GiammarcoBozzelli/SEF/FINAL/risk_free_rate_OECD.csv')"
      ]
    },
    {
      "cell_type": "code",
      "execution_count": null,
      "metadata": {},
      "outputs": [],
      "source": [
        "# Sharpe ratio with average EUR annualized risk free ratio from OECD euro zone\n",
        "rfr = rf_rate.OBS_VALUE\n",
        "avg_rfr = rfr.mean()/100 # average annual risk free rate across all european countries over the 2000 - 2022 period"
      ]
    },
    {
      "cell_type": "code",
      "execution_count": null,
      "metadata": {},
      "outputs": [],
      "source": [
        "#calculate the sharpe ratio with excess returns wrt average risk free rate\n",
        "sharpe_ratio = (average_return - avg_rfr) / volatility\n",
        "\n",
        "# Calculate the minimum and maximum return\n",
        "min_return = ex_post_ret['RETURNS'].min()\n",
        "max_return = ex_post_ret['RETURNS'].max()\n",
        "\n",
        "from tabulate import tabulate\n",
        "\n",
        "results = {\n",
        "    \"Annualized Average Return\": average_return,\n",
        "    \"Annualized Volatility\": volatility,\n",
        "    \"Sharpe Ratio\": sharpe_ratio,\n",
        "    \"Minimum Return\": min_return,\n",
        "    \"Maximum Return\": max_return\n",
        "}\n",
        "\n",
        "table = []\n",
        "for key, value in results.items():\n",
        "    table.append([key, value])\n",
        "\n",
        "print(tabulate(table, headers=[\"Out-of-Sample\", \"Value\"]))\n"
      ]
    },
    {
      "cell_type": "markdown",
      "metadata": {},
      "source": [
        "### Comparison with the Value-Weighted Portfolio"
      ]
    },
    {
      "cell_type": "code",
      "execution_count": null,
      "metadata": {},
      "outputs": [],
      "source": [
        "from tabulate import tabulate\n",
        "\n",
        "# Out of sample results\n",
        "results = {\n",
        "    \"Annualized Average Return\": average_return,\n",
        "    \"Annualized Volatility\": volatility,\n",
        "    \"Sharpe Ratio\": sharpe_ratio,\n",
        "    \"Minimum Return\": min_return,\n",
        "    \"Maximum Return\": max_return\n",
        "}\n",
        "\n",
        "# Value Weighted results\n",
        "results_vw = {\n",
        "    \"Annualized Average Return\": portfolio_returns_VW.mean(),\n",
        "    \"Annualized Volatility\": portfolio_vol_VW,\n",
        "    \"Sharpe Ratio\": sr_vw,\n",
        "    \"Minimum Return\": portfolio_returns_VW.min(),\n",
        "    \"Maximum Return\": portfolio_returns_VW.max()\n",
        "}\n",
        "\n",
        "table_data = []\n",
        "for key in results.keys():\n",
        "    table_data.append([key, results[key], results_vw[key]])\n",
        "print(tabulate(table_data, headers=[\"Metric\", \"Original Portfolio\", \"Value Weighted Portfolio\"]))"
      ]
    }
  ],
  "metadata": {
    "colab": {
      "provenance": []
    },
    "kernelspec": {
      "display_name": "Python 3",
      "name": "python3"
    },
    "language_info": {
      "codemirror_mode": {
        "name": "ipython",
        "version": 3
      },
      "file_extension": ".py",
      "mimetype": "text/x-python",
      "name": "python",
      "nbconvert_exporter": "python",
      "pygments_lexer": "ipython3",
      "version": "3.10.4"
    }
  },
  "nbformat": 4,
  "nbformat_minor": 0
}
